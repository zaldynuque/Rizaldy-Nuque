{
  "cells": [
    {
      "cell_type": "markdown",
      "metadata": {
        "id": "Q91KqmCRu64D"
      },
      "source": [
        "# **Convolutional Neural Networks Project: Street View Housing Number Digit Recognition**\n",
        "\n",
        "Welcome to the project on classification using Convolutional Neural Networks. We will continue to work with the Street View Housing Numbers (SVHN) image dataset for this project.\n",
        "\n",
        "--------------\n",
        "## **Context**\n",
        "--------------\n",
        "\n",
        "One of the most interesting tasks in deep learning is to recognize objects in natural scenes. The ability to process visual information using machine learning algorithms can be very useful as demonstrated in various applications.\n",
        "\n",
        "The SVHN dataset contains over 600,000 labeled digits cropped from street-level photos. It is one of the most popular image recognition datasets. It has been used in neural networks created by Google to improve the map quality by automatically transcribing the address numbers from a patch of pixels. The transcribed number with a known street address helps pinpoint the location of the building it represents.\n",
        "\n",
        "----------------\n",
        "## **Objective**\n",
        "----------------\n",
        "\n",
        "To build a CNN model that can recognize the digits in the images.\n",
        "\n",
        "-------------\n",
        "## **Dataset**\n",
        "-------------\n",
        "Here, we will use a subset of the original data to save some computation time. The dataset is provided as a .h5 file. The basic preprocessing steps have been applied on the dataset."
      ]
    },
    {
      "cell_type": "markdown",
      "metadata": {
        "id": "8z2Z7-OAs8QG"
      },
      "source": [
        "## **Mount the drive**\n",
        "\n",
        "Let us start by mounting the Google drive. You can run the below cell to mount the Google drive."
      ]
    },
    {
      "cell_type": "code",
      "execution_count": null,
      "metadata": {
        "id": "03lDyQUuef7z",
        "colab": {
          "base_uri": "https://localhost:8080/"
        },
        "outputId": "c7729864-1497-4df5-f9ee-4b0ac2217751"
      },
      "outputs": [
        {
          "output_type": "stream",
          "name": "stdout",
          "text": [
            "Mounted at /content/drive\n"
          ]
        }
      ],
      "source": [
        "from google.colab import drive\n",
        "\n",
        "drive.mount('/content/drive')"
      ]
    },
    {
      "cell_type": "markdown",
      "metadata": {
        "id": "C8U3DUa3eNsT"
      },
      "source": [
        "## **Importing the necessary libraries**"
      ]
    },
    {
      "cell_type": "code",
      "execution_count": null,
      "metadata": {
        "id": "-dVzeuF3eQx1"
      },
      "outputs": [],
      "source": [
        "import numpy as np\n",
        "\n",
        "import pandas as pd\n",
        "\n",
        "import matplotlib.pyplot as plt\n",
        "\n",
        "import seaborn as sns\n",
        "\n",
        "from sklearn.model_selection import train_test_split\n",
        "\n",
        "from sklearn.preprocessing import MinMaxScaler\n",
        "\n",
        "import tensorflow as tf\n",
        "\n",
        "from tensorflow.keras.models import Sequential\n",
        "\n",
        "from tensorflow.keras.layers import Dense, Conv2D, MaxPool2D, BatchNormalization, Dropout, Flatten, LeakyReLU\n",
        "\n",
        "from tensorflow.keras.losses import categorical_crossentropy\n",
        "\n",
        "from tensorflow.keras.optimizers import Adam\n",
        "\n",
        "from tensorflow.keras.utils import to_categorical"
      ]
    },
    {
      "cell_type": "markdown",
      "metadata": {
        "id": "ucnevGLoyKf_"
      },
      "source": [
        "**Let us check the version of tensorflow.**"
      ]
    },
    {
      "cell_type": "code",
      "execution_count": null,
      "metadata": {
        "id": "W5as47YxyJVk",
        "colab": {
          "base_uri": "https://localhost:8080/"
        },
        "outputId": "063406bb-9adc-437e-8547-8a3152a3410e"
      },
      "outputs": [
        {
          "output_type": "stream",
          "name": "stdout",
          "text": [
            "2.8.0\n"
          ]
        }
      ],
      "source": [
        "print(tf.__version__)"
      ]
    },
    {
      "cell_type": "markdown",
      "metadata": {
        "id": "8lsux2ZwyTTR"
      },
      "source": [
        "## **Load the dataset**\n",
        "\n",
        "- Let us now load the dataset that is available as a .h5 file.\n",
        "- Split the data into the train and the test dataset."
      ]
    },
    {
      "cell_type": "code",
      "execution_count": null,
      "metadata": {
        "id": "BApX9qgNsqV0",
        "scrolled": true
      },
      "outputs": [],
      "source": [
        "import h5py\n",
        "\n",
        "# Open the file as read only\n",
        "# User can make changes in the path as required\n",
        "\n",
        "h5f = h5py.File('/content/drive/MyDrive/ADSP - Google Colab Intro/SVHN_single_grey1.h5', 'r')\n",
        "\n",
        "# Load the the train and the test dataset\n",
        "\n",
        "X_train = h5f['X_train'][:]\n",
        "\n",
        "y_train = h5f['y_train'][:]\n",
        "\n",
        "X_test = h5f['X_test'][:]\n",
        "\n",
        "y_test = h5f['y_test'][:]\n",
        "\n",
        "\n",
        "# Close this file\n",
        "\n",
        "h5f.close()"
      ]
    },
    {
      "cell_type": "markdown",
      "metadata": {
        "id": "hVe0CYpUgj7w"
      },
      "source": [
        "Let's check the number of images in the training and the testing dataset."
      ]
    },
    {
      "cell_type": "code",
      "execution_count": null,
      "metadata": {
        "id": "y3lwKpOefkpA",
        "colab": {
          "base_uri": "https://localhost:8080/"
        },
        "outputId": "2eda585b-300a-491f-891e-f7fa139c4fd6"
      },
      "outputs": [
        {
          "output_type": "execute_result",
          "data": {
            "text/plain": [
              "(42000, 18000)"
            ]
          },
          "metadata": {},
          "execution_count": 6
        }
      ],
      "source": [
        "len(X_train), len(X_test)"
      ]
    },
    {
      "cell_type": "markdown",
      "metadata": {
        "id": "akTUOfLlgwoM"
      },
      "source": [
        "**Observation:**\n",
        "- There are 42,000 images in the training data and 18,000 images in the testing data."
      ]
    },
    {
      "cell_type": "markdown",
      "metadata": {
        "id": "kxODV6HKykuc"
      },
      "source": [
        "## **Visualizing images**\n",
        "\n",
        "- Use X_train to visualize the first 10 images.\n",
        "- Use Y_train to print the first 10 labels."
      ]
    },
    {
      "cell_type": "markdown",
      "metadata": {
        "id": "giALtffZKDNq"
      },
      "source": [
        "### **Question 1: Complete the below code to visualize the first 10 images in the dataset. (1 Mark)**"
      ]
    },
    {
      "cell_type": "code",
      "execution_count": null,
      "metadata": {
        "id": "Bvsc8ytHsqWD",
        "colab": {
          "base_uri": "https://localhost:8080/",
          "height": 95
        },
        "outputId": "f37267fd-8b96-4624-944f-5e72c7583920"
      },
      "outputs": [
        {
          "output_type": "display_data",
          "data": {
            "text/plain": [
              "<Figure size 720x72 with 10 Axes>"
            ],
            "image/png": "[encoded data removed]"
          },
          "metadata": {
            "needs_background": "light"
          }
        },
        {
          "output_type": "stream",
          "name": "stdout",
          "text": [
            "label for each of the above image: [2 6 7 4 4 0 3 0 7 3]\n"
          ]
        }
      ],
      "source": [
        "# Visualizing the first 10 images in the dataset and printing their labels\n",
        "\n",
        "%matplotlib inline\n",
        "\n",
        "import matplotlib.pyplot as plt\n",
        "\n",
        "plt.figure(figsize = (10, 1))\n",
        "\n",
        "for i in range(10):\n",
        "\n",
        "    plt.subplot(1, 10, i+1)\n",
        "\n",
        "    plt.imshow(X_train[i], cmap = \"gray\")  # Write the function to visualize images\n",
        "\n",
        "    plt.axis('off')\n",
        "\n",
        "plt.show()\n",
        "\n",
        "print('label for each of the above image: %s' % (y_train[0:10]))"
      ]
    },
    {
      "cell_type": "markdown",
      "metadata": {
        "id": "kzoyeXHOy80N"
      },
      "source": [
        "## **Data preparation**\n",
        "\n",
        "- Print the shape and the array of pixels for the first image in the training dataset.\n",
        "- Reshape the train and the test dataset because we always have to give a 4D array as input to CNNs.\n",
        "- Normalize the train and the test dataset by dividing by 255.\n",
        "- Print the new shapes of the train and the test dataset.\n",
        "- One-hot encode the target variable."
      ]
    },
    {
      "cell_type": "code",
      "execution_count": null,
      "metadata": {
        "id": "NqndzQXng9rL",
        "colab": {
          "base_uri": "https://localhost:8080/"
        },
        "outputId": "bdcf2397-0c57-4f56-e110-b18b453c5901"
      },
      "outputs": [
        {
          "output_type": "stream",
          "name": "stdout",
          "text": [
            "Shape: (32, 32)\n",
            "\n",
            "First image:\n",
            " [[ 33.0704  30.2601  26.852  ...  71.4471  58.2204  42.9939]\n",
            " [ 25.2283  25.5533  29.9765 ... 113.0209 103.3639  84.2949]\n",
            " [ 26.2775  22.6137  40.4763 ... 113.3028 121.775  115.4228]\n",
            " ...\n",
            " [ 28.5502  36.212   45.0801 ...  24.1359  25.0927  26.0603]\n",
            " [ 38.4352  26.4733  23.2717 ...  28.1094  29.4683  30.0661]\n",
            " [ 50.2984  26.0773  24.0389 ...  49.6682  50.853   53.0377]]\n"
          ]
        }
      ],
      "source": [
        "# Shape and the array of pixels for the first image\n",
        "\n",
        "print(\"Shape:\", X_train[0].shape)\n",
        "\n",
        "print()\n",
        "\n",
        "print(\"First image:\\n\", X_train[0])"
      ]
    },
    {
      "cell_type": "code",
      "execution_count": null,
      "metadata": {
        "id": "D9YPwf9ysqWU"
      },
      "outputs": [],
      "source": [
        "# Reshaping the dataset to be able to pass them to CNNs. Remember that we always have to give a 4D array as input to CNNs\n",
        "\n",
        "X_train = X_train.reshape(X_train.shape[0], 32, 32, 1)\n",
        "\n",
        "X_test = X_test.reshape(X_test.shape[0], 32, 32, 1)"
      ]
    },
    {
      "cell_type": "code",
      "execution_count": null,
      "metadata": {
        "id": "q_yUUTp_mUzB"
      },
      "outputs": [],
      "source": [
        "# Normalize inputs from 0-255 to 0-1\n",
        "\n",
        "X_train = X_train / 255.0\n",
        "\n",
        "X_test = X_test / 255.0"
      ]
    },
    {
      "cell_type": "code",
      "execution_count": null,
      "metadata": {
        "id": "t7FSqOpamWkH",
        "colab": {
          "base_uri": "https://localhost:8080/"
        },
        "outputId": "b24f22d0-8b6a-468b-cca5-259d896d9ba0"
      },
      "outputs": [
        {
          "output_type": "stream",
          "name": "stdout",
          "text": [
            "Training set: (42000, 32, 32, 1) (42000,)\n",
            "Test set: (18000, 32, 32, 1) (18000,)\n"
          ]
        }
      ],
      "source": [
        "# New shape\n",
        "\n",
        "print('Training set:', X_train.shape, y_train.shape)\n",
        "\n",
        "print('Test set:', X_test.shape, y_test.shape)"
      ]
    },
    {
      "cell_type": "markdown",
      "metadata": {
        "id": "10QaOV-xR7Jn"
      },
      "source": [
        "### **Question 2: One-hot encode the labels in the target variable y_train and y_test. (2 Marks)**"
      ]
    },
    {
      "cell_type": "code",
      "execution_count": null,
      "metadata": {
        "id": "zL0lYER4sqWw",
        "colab": {
          "base_uri": "https://localhost:8080/"
        },
        "outputId": "0af487fe-87a0-4112-e477-a6ac1c9a675c"
      },
      "outputs": [
        {
          "output_type": "execute_result",
          "data": {
            "text/plain": [
              "array([[0., 1., 0., ..., 0., 0., 0.],\n",
              "       [0., 0., 0., ..., 1., 0., 0.],\n",
              "       [0., 0., 1., ..., 0., 0., 0.],\n",
              "       ...,\n",
              "       [0., 0., 0., ..., 1., 0., 0.],\n",
              "       [0., 0., 0., ..., 0., 0., 1.],\n",
              "       [0., 0., 1., ..., 0., 0., 0.]], dtype=float32)"
            ]
          },
          "metadata": {},
          "execution_count": 12
        }
      ],
      "source": [
        "# Write the function and appropriate variable name to one-hot encode the output\n",
        "\n",
        "y_train = to_categorical(y_train)\n",
        "\n",
        "y_test = to_categorical(y_test)\n",
        "\n",
        "# test labels\n",
        "\n",
        "y_test"
      ]
    },
    {
      "cell_type": "markdown",
      "metadata": {
        "id": "ViqPOTquCF76"
      },
      "source": [
        "**Observation:**\n",
        "- Notice that each entry of the target variable is a one-hot encoded vector instead of a single label."
      ]
    },
    {
      "cell_type": "markdown",
      "metadata": {
        "id": "yH-gVrzuByNA"
      },
      "source": [
        "## **Model Building**\n",
        "\n",
        "Now that we have done data preprocessing, let's build a CNN model."
      ]
    },
    {
      "cell_type": "code",
      "execution_count": null,
      "metadata": {
        "id": "ZY5pyF4-KDNt"
      },
      "outputs": [],
      "source": [
        "# Fixing the seed for random number generators\n",
        "\n",
        "np.random.seed(42)\n",
        "\n",
        "import random\n",
        "\n",
        "random.seed(42)\n",
        "\n",
        "tf.random.set_seed(42)"
      ]
    },
    {
      "cell_type": "markdown",
      "metadata": {
        "id": "UJDUoaEj1d6e"
      },
      "source": [
        "### **Model Architecture**\n",
        "- **Write a function** that returns a sequential model with the following architecture:\n",
        " - First Convolutional layer with **16 filters and the kernel size of 3x3**. Use the **'same' padding** and provide the **input shape = (32, 32, 1)**\n",
        " - Add a **LeakyRelu layer** with the **slope equal to 0.1**\n",
        " - Second Convolutional layer with **32 filters and the kernel size of 3x3 with 'same' padding**\n",
        " - Another **LeakyRelu** with the **slope equal to 0.1**\n",
        " - A **max-pooling layer** with a **pool size of 2x2**\n",
        " - **Flatten** the output from the previous layer\n",
        " - Add a **dense layer with 32 nodes**\n",
        " - Add a **LeakyRelu layer with the slope equal to 0.1**\n",
        " - Add the final **output layer with nodes equal to the number of classes, i.e., 10** and **'softmax' as the activation function**\n",
        " - Compile the model with the **loss equal to categorical_crossentropy, optimizer equal to Adam(learning_rate = 0.001), and metric equal to 'accuracy'**. Do not fit the model here, just return the compiled model.\n",
        "- Call the function cnn_model_1 and store the output in a new variable.\n",
        "- Print the summary of the model.\n",
        "- Fit the model on the training data with a **validation split of 0.2, batch size = 32, verbose = 1, and epochs = 20**. Store the model building history to use later for visualization."
      ]
    },
    {
      "cell_type": "markdown",
      "metadata": {
        "id": "JWsAd45JKDNu"
      },
      "source": [
        "### **Question 3: Build and train a CNN model as per the above mentioned architecture. (10 Marks)**"
      ]
    },
    {
      "cell_type": "code",
      "execution_count": null,
      "metadata": {
        "id": "Cmi81Gr5sqW-"
      },
      "outputs": [],
      "source": [
        "# Define the model\n",
        "\n",
        "def cnn_model_1():\n",
        "\n",
        "    model = Sequential()\n",
        "\n",
        "    # Add layers as per the architecture mentioned above in the same sequence\n",
        "\n",
        "    model.add(Conv2D(filters = 16, kernel_size = (3, 3), padding = \"same\", input_shape = (32, 32, 1)))\n",
        "\n",
        "    model.add(LeakyReLU(0.1))\n",
        "\n",
        "    model.add(Conv2D(filters = 32, kernel_size = (3, 3), padding = 'same'))\n",
        "\n",
        "    model.add(LeakyReLU(0.1))\n",
        "\n",
        "    model.add(MaxPool2D(pool_size = (2, 2)))\n",
        "\n",
        "    model.add(Flatten())\n",
        "\n",
        "    model.add(Dense(32))\n",
        "\n",
        "    model.add(LeakyReLU(0.1))\n",
        "\n",
        "    model.add(Dense(10, activation = 'softmax'))\n",
        "\n",
        "    # Compile the model\n",
        "\n",
        "    model.compile(loss = 'categorical_crossentropy', optimizer = tf.keras.optimizers.Adam(learning_rate = 0.001), metrics=['accuracy'])\n",
        "\n",
        "    return model"
      ]
    },
    {
      "cell_type": "code",
      "execution_count": null,
      "metadata": {
        "id": "bGCUI_xsImnH"
      },
      "outputs": [],
      "source": [
        "# Build the model\n",
        "\n",
        "model_1 = cnn_model_1()"
      ]
    },
    {
      "cell_type": "code",
      "execution_count": null,
      "metadata": {
        "id": "ckJsLdmdQadZ",
        "colab": {
          "base_uri": "https://localhost:8080/"
        },
        "outputId": "0f026daa-4981-42d0-fdcf-8810a679229d"
      },
      "outputs": [
        {
          "output_type": "stream",
          "name": "stdout",
          "text": [
            "Model: \"sequential\"\n",
            "_________________________________________________________________\n",
            " Layer (type)                Output Shape              Param #   \n",
            "=================================================================\n",
            " conv2d (Conv2D)             (None, 32, 32, 16)        160       \n",
            "                                                                 \n",
            " leaky_re_lu (LeakyReLU)     (None, 32, 32, 16)        0         \n",
            "                                                                 \n",
            " conv2d_1 (Conv2D)           (None, 32, 32, 32)        4640      \n",
            "                                                                 \n",
            " leaky_re_lu_1 (LeakyReLU)   (None, 32, 32, 32)        0         \n",
            "                                                                 \n",
            " max_pooling2d (MaxPooling2D  (None, 16, 16, 32)       0         \n",
            " )                                                               \n",
            "                                                                 \n",
            " flatten (Flatten)           (None, 8192)              0         \n",
            "                                                                 \n",
            " dense (Dense)               (None, 32)                262176    \n",
            "                                                                 \n",
            " leaky_re_lu_2 (LeakyReLU)   (None, 32)                0         \n",
            "                                                                 \n",
            " dense_1 (Dense)             (None, 10)                330       \n",
            "                                                                 \n",
            "=================================================================\n",
            "Total params: 267,306\n",
            "Trainable params: 267,306\n",
            "Non-trainable params: 0\n",
            "_________________________________________________________________\n"
          ]
        }
      ],
      "source": [
        "# Print the model summary\n",
        "\n",
        "model_1.summary()"
      ]
    },
    {
      "cell_type": "code",
      "execution_count": null,
      "metadata": {
        "id": "3Fy3Dif_zcCk",
        "colab": {
          "base_uri": "https://localhost:8080/"
        },
        "outputId": "7b324083-ac57-4ccd-c777-f79f8c86b8db"
      },
      "outputs": [
        {
          "output_type": "stream",
          "name": "stdout",
          "text": [
            "Epoch 1/20\n",
            "1050/1050 [==============================] - 71s 67ms/step - loss: 1.1940 - accuracy: 0.6052 - val_loss: 0.6582 - val_accuracy: 0.8050\n",
            "Epoch 2/20\n",
            "1050/1050 [==============================] - 69s 66ms/step - loss: 0.5406 - accuracy: 0.8438 - val_loss: 0.5234 - val_accuracy: 0.8515\n",
            "Epoch 3/20\n",
            "1050/1050 [==============================] - 70s 67ms/step - loss: 0.4504 - accuracy: 0.8695 - val_loss: 0.5178 - val_accuracy: 0.8525\n",
            "Epoch 4/20\n",
            "1050/1050 [==============================] - 69s 65ms/step - loss: 0.3952 - accuracy: 0.8853 - val_loss: 0.4623 - val_accuracy: 0.8731\n",
            "Epoch 5/20\n",
            "1050/1050 [==============================] - 69s 66ms/step - loss: 0.3526 - accuracy: 0.8949 - val_loss: 0.4542 - val_accuracy: 0.8749\n",
            "Epoch 6/20\n",
            "1050/1050 [==============================] - 69s 65ms/step - loss: 0.3103 - accuracy: 0.9067 - val_loss: 0.4737 - val_accuracy: 0.8695\n",
            "Epoch 7/20\n",
            "1050/1050 [==============================] - 69s 66ms/step - loss: 0.2799 - accuracy: 0.9157 - val_loss: 0.4461 - val_accuracy: 0.8795\n",
            "Epoch 8/20\n",
            "1050/1050 [==============================] - 70s 67ms/step - loss: 0.2505 - accuracy: 0.9231 - val_loss: 0.4981 - val_accuracy: 0.8669\n",
            "Epoch 9/20\n",
            "1050/1050 [==============================] - 70s 66ms/step - loss: 0.2284 - accuracy: 0.9300 - val_loss: 0.4726 - val_accuracy: 0.8800\n",
            "Epoch 10/20\n",
            "1050/1050 [==============================] - 71s 67ms/step - loss: 0.2022 - accuracy: 0.9377 - val_loss: 0.5093 - val_accuracy: 0.8750\n",
            "Epoch 11/20\n",
            "1050/1050 [==============================] - 70s 67ms/step - loss: 0.1823 - accuracy: 0.9432 - val_loss: 0.5648 - val_accuracy: 0.8605\n",
            "Epoch 12/20\n",
            "1050/1050 [==============================] - 69s 66ms/step - loss: 0.1620 - accuracy: 0.9493 - val_loss: 0.5468 - val_accuracy: 0.8749\n",
            "Epoch 13/20\n",
            "1050/1050 [==============================] - 69s 66ms/step - loss: 0.1484 - accuracy: 0.9533 - val_loss: 0.6097 - val_accuracy: 0.8612\n",
            "Epoch 14/20\n",
            "1050/1050 [==============================] - 69s 66ms/step - loss: 0.1344 - accuracy: 0.9574 - val_loss: 0.5738 - val_accuracy: 0.8726\n",
            "Epoch 15/20\n",
            "1050/1050 [==============================] - 69s 66ms/step - loss: 0.1239 - accuracy: 0.9604 - val_loss: 0.6397 - val_accuracy: 0.8674\n",
            "Epoch 16/20\n",
            "1050/1050 [==============================] - 69s 66ms/step - loss: 0.1083 - accuracy: 0.9648 - val_loss: 0.6642 - val_accuracy: 0.8664\n",
            "Epoch 17/20\n",
            "1050/1050 [==============================] - 69s 66ms/step - loss: 0.0988 - accuracy: 0.9688 - val_loss: 0.7121 - val_accuracy: 0.8693\n",
            "Epoch 18/20\n",
            "1050/1050 [==============================] - 70s 66ms/step - loss: 0.0952 - accuracy: 0.9676 - val_loss: 0.7233 - val_accuracy: 0.8700\n",
            "Epoch 19/20\n",
            "1050/1050 [==============================] - 69s 66ms/step - loss: 0.0808 - accuracy: 0.9729 - val_loss: 0.7703 - val_accuracy: 0.8680\n",
            "Epoch 20/20\n",
            "1050/1050 [==============================] - 69s 65ms/step - loss: 0.0781 - accuracy: 0.9747 - val_loss: 0.7759 - val_accuracy: 0.8714\n"
          ]
        }
      ],
      "source": [
        "# Fit the model\n",
        "\n",
        "history_model_1 = model_1.fit(X_train, y_train,\n",
        "\n",
        "                    validation_split = 0.2,\n",
        "\n",
        "                    batch_size = 32,\n",
        "\n",
        "                    verbose = 1,\n",
        "\n",
        "                    epochs = 20)"
      ]
    },
    {
      "cell_type": "markdown",
      "metadata": {
        "id": "tKOckG-KPyLg"
      },
      "source": [
        "### **Plotting the validation and training accuracies**"
      ]
    },
    {
      "cell_type": "markdown",
      "metadata": {
        "id": "JPzfIf9kKDNw"
      },
      "source": [
        "### **Question 4: Write your observations on the below plot. (2 Marks)**"
      ]
    },
    {
      "cell_type": "code",
      "execution_count": null,
      "metadata": {
        "id": "lt77zgGMP4yw",
        "colab": {
          "base_uri": "https://localhost:8080/",
          "height": 497
        },
        "outputId": "d4736f12-5bfa-46d9-f413-11e0cc7ca6da"
      },
      "outputs": [
        {
          "output_type": "display_data",
          "data": {
            "text/plain": [
              "<Figure size 576x576 with 1 Axes>"
            ],
            "image/png": "[encoded data removed]"
          },
          "metadata": {
            "needs_background": "light"
          }
        }
      ],
      "source": [
        "# Plotting the accuracies\n",
        "\n",
        "dict_hist = history_model_1.history\n",
        "\n",
        "list_ep = [i for i in range(1, 21)]\n",
        "\n",
        "plt.figure(figsize = (8, 8))\n",
        "\n",
        "plt.plot(list_ep, dict_hist['accuracy'], ls = '--', label = 'accuracy')\n",
        "\n",
        "plt.plot(list_ep, dict_hist['val_accuracy'], ls = '--', label = 'val_accuracy')\n",
        "\n",
        "plt.ylabel('Accuracy')\n",
        "\n",
        "plt.xlabel('Epochs')\n",
        "\n",
        "plt.legend()\n",
        "\n",
        "plt.show()"
      ]
    },
    {
      "cell_type": "markdown",
      "metadata": {
        "id": "pGBbQpLONX7k"
      },
      "source": [
        "**Observations:\n",
        "\n",
        "•\tWe can see from the above plot that the model has done poorly on the validation data. The model is highly overfitting the training data.\n",
        "\n",
        "•\tThe validation accuracy is far from the training accuracy. This indicates that the model is not giving a generalized performance.\n",
        "\n",
        "•\tWe may need to add a few dropout layers to the model structure to reduce overfitting and see if this improves the model or not."
      ]
    },
    {
      "cell_type": "markdown",
      "metadata": {
        "id": "z0qgLMBZm5-K"
      },
      "source": [
        "Let's build another model and see if we can get a better model with generalized performance.\n",
        "\n",
        "First, we need to clear the previous model's history from the Keras backend. Also, let's fix the seed again after clearing the backend."
      ]
    },
    {
      "cell_type": "code",
      "execution_count": null,
      "metadata": {
        "id": "y98BpLxsok_H"
      },
      "outputs": [],
      "source": [
        "# Clearing backend\n",
        "\n",
        "from tensorflow.keras import backend\n",
        "\n",
        "backend.clear_session()"
      ]
    },
    {
      "cell_type": "code",
      "execution_count": null,
      "metadata": {
        "id": "HbKi93HTolGW"
      },
      "outputs": [],
      "source": [
        "# Fixing the seed for random number generators\n",
        "\n",
        "np.random.seed(42)\n",
        "\n",
        "import random\n",
        "\n",
        "random.seed(42)\n",
        "\n",
        "tf.random.set_seed(42)"
      ]
    },
    {
      "cell_type": "markdown",
      "metadata": {
        "id": "lT6o3TIKuCtk"
      },
      "source": [
        "### **Second Model Architecture**\n",
        "\n",
        "- Write a function that returns a sequential model with the following architecture:\n",
        " - First Convolutional layer with **16 filters and the kernel size of 3x3**. Use the **'same' padding** and provide the **input shape = (32, 32, 1)**\n",
        " - Add a **LeakyRelu layer** with the **slope equal to 0.1**\n",
        " - Second Convolutional layer with **32 filters and the kernel size of 3x3 with 'same' padding**\n",
        " - Add **LeakyRelu** with the **slope equal to 0.1**\n",
        " - Add a **max-pooling layer** with a **pool size of 2x2**\n",
        " - Add a **BatchNormalization layer**\n",
        " - Third Convolutional layer with **32 filters and the kernel size of 3x3 with 'same' padding**\n",
        " - Add a **LeakyRelu layer with the slope equal to 0.1**\n",
        " - Fourth Convolutional layer **64 filters and the kernel size of 3x3 with 'same' padding**\n",
        " - Add a **LeakyRelu layer with the slope equal to 0.1**\n",
        " - Add a **max-pooling layer** with a **pool size of 2x2**\n",
        " - Add a **BatchNormalization layer**\n",
        " - **Flatten** the output from the previous layer\n",
        " - Add a **dense layer with 32 nodes**\n",
        " - Add a **LeakyRelu layer with the slope equal to 0.1**\n",
        " - Add a **dropout layer with the rate equal to 0.5**\n",
        " - Add the final **output layer with nodes equal to the number of classes, i.e., 10** and **'softmax' as the activation function**\n",
        " - Compile the model with the **categorical_crossentropy loss, adam optimizers (learning_rate = 0.001), and metric equal to 'accuracy'**. Do not fit the model here, just return the compiled model.\n",
        "- Call the function cnn_model_2 and store the model in a new variable.\n",
        "- Print the summary of the model.\n",
        "- Fit the model on the train data with a **validation split of 0.2, batch size = 128, verbose = 1, and epochs = 30**. Store the model building history to use later for visualization."
      ]
    },
    {
      "cell_type": "markdown",
      "metadata": {
        "id": "y5IBLS1eKDNy"
      },
      "source": [
        "### **Question 5: Build and train the second CNN model as per the above mentioned architecture. (10 Marks)**"
      ]
    },
    {
      "cell_type": "code",
      "execution_count": null,
      "metadata": {
        "id": "EEPYLFIPnSDP"
      },
      "outputs": [],
      "source": [
        "# Define the model\n",
        "\n",
        "def cnn_model_2():\n",
        "\n",
        "    model = Sequential()\n",
        "\n",
        "    # Add layers as per the architecture mentioned above in the same sequence\n",
        "\n",
        "    model.add(Conv2D(filters = 16, kernel_size = (3, 3), padding = \"same\", input_shape = (32, 32, 1)))\n",
        "\n",
        "    model.add(LeakyReLU(0.1))\n",
        "\n",
        "    model.add(Conv2D(filters = 32, kernel_size = (3, 3), padding = 'same'))\n",
        "\n",
        "    model.add(LeakyReLU(0.1))\n",
        "\n",
        "    model.add(MaxPool2D(pool_size = (2, 2)))\n",
        "\n",
        "    model.add(BatchNormalization())\n",
        "\n",
        "    model.add(Conv2D(filters = 32, kernel_size = (3, 3), padding = 'same'))\n",
        "\n",
        "    model.add(LeakyReLU(0.1))\n",
        "\n",
        "    model.add(Conv2D(filters = 64, kernel_size = (3, 3), padding = 'same'))\n",
        "\n",
        "    model.add(LeakyReLU(0.1))\n",
        "\n",
        "    model.add(MaxPool2D(pool_size = (2, 2)))\n",
        "\n",
        "    model.add(BatchNormalization())\n",
        "\n",
        "    model.add(Flatten())\n",
        "\n",
        "    model.add(Dense(32))\n",
        "\n",
        "    model.add(LeakyReLU(0.1))\n",
        "\n",
        "    model.add(Dropout(0.5))\n",
        "\n",
        "    model.add(Dense(10, activation = 'softmax'))\n",
        "\n",
        "    # Compile the model\n",
        "\n",
        "    model.compile(loss = 'categorical_crossentropy', optimizer = tf.keras.optimizers.Adam(learning_rate = 0.001), metrics=['accuracy'])\n",
        "\n",
        "    return model"
      ]
    },
    {
      "cell_type": "code",
      "execution_count": null,
      "metadata": {
        "id": "AKjDY4plnSFl"
      },
      "outputs": [],
      "source": [
        "# Build the model\n",
        "\n",
        "model_2 = cnn_model_2()"
      ]
    },
    {
      "cell_type": "code",
      "execution_count": null,
      "metadata": {
        "id": "gz_6SVrU2swZ",
        "colab": {
          "base_uri": "https://localhost:8080/"
        },
        "outputId": "d6343acf-0890-40dd-90ef-15feaa53c938"
      },
      "outputs": [
        {
          "output_type": "stream",
          "name": "stdout",
          "text": [
            "Model: \"sequential\"\n",
            "_________________________________________________________________\n",
            " Layer (type)                Output Shape              Param #   \n",
            "=================================================================\n",
            " conv2d (Conv2D)             (None, 32, 32, 16)        160       \n",
            "                                                                 \n",
            " leaky_re_lu (LeakyReLU)     (None, 32, 32, 16)        0         \n",
            "                                                                 \n",
            " conv2d_1 (Conv2D)           (None, 32, 32, 32)        4640      \n",
            "                                                                 \n",
            " leaky_re_lu_1 (LeakyReLU)   (None, 32, 32, 32)        0         \n",
            "                                                                 \n",
            " max_pooling2d (MaxPooling2D  (None, 16, 16, 32)       0         \n",
            " )                                                               \n",
            "                                                                 \n",
            " batch_normalization (BatchN  (None, 16, 16, 32)       128       \n",
            " ormalization)                                                   \n",
            "                                                                 \n",
            " conv2d_2 (Conv2D)           (None, 16, 16, 32)        9248      \n",
            "                                                                 \n",
            " leaky_re_lu_2 (LeakyReLU)   (None, 16, 16, 32)        0         \n",
            "                                                                 \n",
            " conv2d_3 (Conv2D)           (None, 16, 16, 64)        18496     \n",
            "                                                                 \n",
            " leaky_re_lu_3 (LeakyReLU)   (None, 16, 16, 64)        0         \n",
            "                                                                 \n",
            " max_pooling2d_1 (MaxPooling  (None, 8, 8, 64)         0         \n",
            " 2D)                                                             \n",
            "                                                                 \n",
            " batch_normalization_1 (Batc  (None, 8, 8, 64)         256       \n",
            " hNormalization)                                                 \n",
            "                                                                 \n",
            " flatten (Flatten)           (None, 4096)              0         \n",
            "                                                                 \n",
            " dense (Dense)               (None, 32)                131104    \n",
            "                                                                 \n",
            " leaky_re_lu_4 (LeakyReLU)   (None, 32)                0         \n",
            "                                                                 \n",
            " dropout (Dropout)           (None, 32)                0         \n",
            "                                                                 \n",
            " dense_1 (Dense)             (None, 10)                330       \n",
            "                                                                 \n",
            "=================================================================\n",
            "Total params: 164,362\n",
            "Trainable params: 164,170\n",
            "Non-trainable params: 192\n",
            "_________________________________________________________________\n"
          ]
        }
      ],
      "source": [
        "# Print the summary\n",
        "\n",
        "model_2.summary()"
      ]
    },
    {
      "cell_type": "code",
      "execution_count": null,
      "metadata": {
        "id": "IQ0Sc4R-y-uu",
        "colab": {
          "base_uri": "https://localhost:8080/"
        },
        "outputId": "7ca4990c-292b-48aa-b5bd-e2ad1b740346"
      },
      "outputs": [
        {
          "output_type": "stream",
          "name": "stdout",
          "text": [
            "Epoch 1/30\n",
            "263/263 [==============================] - 110s 416ms/step - loss: 1.4657 - accuracy: 0.4991 - val_loss: 3.3437 - val_accuracy: 0.1213\n",
            "Epoch 2/30\n",
            "263/263 [==============================] - 110s 416ms/step - loss: 0.6946 - accuracy: 0.7870 - val_loss: 0.6192 - val_accuracy: 0.8119\n",
            "Epoch 3/30\n",
            "263/263 [==============================] - 109s 416ms/step - loss: 0.5598 - accuracy: 0.8288 - val_loss: 0.4832 - val_accuracy: 0.8620\n",
            "Epoch 4/30\n",
            "263/263 [==============================] - 110s 420ms/step - loss: 0.5014 - accuracy: 0.8461 - val_loss: 0.4849 - val_accuracy: 0.8561\n",
            "Epoch 5/30\n",
            "263/263 [==============================] - 108s 412ms/step - loss: 0.4433 - accuracy: 0.8640 - val_loss: 0.4163 - val_accuracy: 0.8777\n",
            "Epoch 6/30\n",
            "263/263 [==============================] - 108s 412ms/step - loss: 0.4128 - accuracy: 0.8745 - val_loss: 0.3928 - val_accuracy: 0.8917\n",
            "Epoch 7/30\n",
            "263/263 [==============================] - 109s 414ms/step - loss: 0.3830 - accuracy: 0.8822 - val_loss: 0.3749 - val_accuracy: 0.8983\n",
            "Epoch 8/30\n",
            "263/263 [==============================] - 109s 415ms/step - loss: 0.3591 - accuracy: 0.8888 - val_loss: 0.3756 - val_accuracy: 0.8973\n",
            "Epoch 9/30\n",
            "263/263 [==============================] - 108s 412ms/step - loss: 0.3319 - accuracy: 0.8963 - val_loss: 0.3855 - val_accuracy: 0.8892\n",
            "Epoch 10/30\n",
            "263/263 [==============================] - 108s 412ms/step - loss: 0.3160 - accuracy: 0.9006 - val_loss: 0.4045 - val_accuracy: 0.8867\n",
            "Epoch 11/30\n",
            "263/263 [==============================] - 108s 411ms/step - loss: 0.2973 - accuracy: 0.9079 - val_loss: 0.4211 - val_accuracy: 0.8833\n",
            "Epoch 12/30\n",
            "263/263 [==============================] - 108s 412ms/step - loss: 0.2777 - accuracy: 0.9102 - val_loss: 0.4034 - val_accuracy: 0.9014\n",
            "Epoch 13/30\n",
            "263/263 [==============================] - 108s 412ms/step - loss: 0.2708 - accuracy: 0.9147 - val_loss: 0.4014 - val_accuracy: 0.8944\n",
            "Epoch 14/30\n",
            "263/263 [==============================] - 108s 412ms/step - loss: 0.2562 - accuracy: 0.9204 - val_loss: 0.3953 - val_accuracy: 0.8975\n",
            "Epoch 15/30\n",
            "263/263 [==============================] - 109s 413ms/step - loss: 0.2451 - accuracy: 0.9206 - val_loss: 0.3840 - val_accuracy: 0.9112\n",
            "Epoch 16/30\n",
            "263/263 [==============================] - 109s 414ms/step - loss: 0.2353 - accuracy: 0.9243 - val_loss: 0.4075 - val_accuracy: 0.8957\n",
            "Epoch 17/30\n",
            "263/263 [==============================] - 109s 414ms/step - loss: 0.2274 - accuracy: 0.9257 - val_loss: 0.4528 - val_accuracy: 0.8894\n",
            "Epoch 18/30\n",
            "263/263 [==============================] - 111s 421ms/step - loss: 0.2153 - accuracy: 0.9312 - val_loss: 0.3930 - val_accuracy: 0.9085\n",
            "Epoch 19/30\n",
            "263/263 [==============================] - 111s 421ms/step - loss: 0.2189 - accuracy: 0.9304 - val_loss: 0.3639 - val_accuracy: 0.9140\n",
            "Epoch 20/30\n",
            "263/263 [==============================] - 112s 424ms/step - loss: 0.1998 - accuracy: 0.9357 - val_loss: 0.4206 - val_accuracy: 0.9114\n",
            "Epoch 21/30\n",
            "263/263 [==============================] - 111s 423ms/step - loss: 0.1954 - accuracy: 0.9368 - val_loss: 0.3767 - val_accuracy: 0.9082\n",
            "Epoch 22/30\n",
            "263/263 [==============================] - 111s 420ms/step - loss: 0.1894 - accuracy: 0.9361 - val_loss: 0.5045 - val_accuracy: 0.8924\n",
            "Epoch 23/30\n",
            "263/263 [==============================] - 113s 429ms/step - loss: 0.1850 - accuracy: 0.9390 - val_loss: 0.4336 - val_accuracy: 0.9035\n",
            "Epoch 24/30\n",
            "263/263 [==============================] - 111s 421ms/step - loss: 0.1783 - accuracy: 0.9414 - val_loss: 0.4231 - val_accuracy: 0.9085\n",
            "Epoch 25/30\n",
            "263/263 [==============================] - 111s 422ms/step - loss: 0.1677 - accuracy: 0.9446 - val_loss: 0.4322 - val_accuracy: 0.9160\n",
            "Epoch 26/30\n",
            "263/263 [==============================] - 112s 425ms/step - loss: 0.1641 - accuracy: 0.9448 - val_loss: 0.4313 - val_accuracy: 0.9102\n",
            "Epoch 27/30\n",
            "263/263 [==============================] - 113s 430ms/step - loss: 0.1630 - accuracy: 0.9448 - val_loss: 0.4596 - val_accuracy: 0.9117\n",
            "Epoch 28/30\n",
            "263/263 [==============================] - 112s 426ms/step - loss: 0.1571 - accuracy: 0.9473 - val_loss: 0.4545 - val_accuracy: 0.9130\n",
            "Epoch 29/30\n",
            "263/263 [==============================] - 111s 424ms/step - loss: 0.1464 - accuracy: 0.9507 - val_loss: 0.4854 - val_accuracy: 0.9088\n",
            "Epoch 30/30\n",
            "263/263 [==============================] - 109s 416ms/step - loss: 0.1511 - accuracy: 0.9495 - val_loss: 0.4630 - val_accuracy: 0.9082\n"
          ]
        }
      ],
      "source": [
        "# Fit the model\n",
        "\n",
        "history_model_2 = model_2.fit(X_train, y_train,\n",
        "\n",
        "                    validation_split = 0.2,\n",
        "\n",
        "                    batch_size = 128,\n",
        "\n",
        "                    verbose = 1,\n",
        "\n",
        "                    epochs = 30)"
      ]
    },
    {
      "cell_type": "markdown",
      "metadata": {
        "id": "zKCdy59GKDN1"
      },
      "source": [
        "### **Plotting the validation and training accuracies**"
      ]
    },
    {
      "cell_type": "markdown",
      "metadata": {
        "id": "PyhUtMy3KDN1"
      },
      "source": [
        "### **Question 6: Write your observations on the below plot. (2 Marks)**"
      ]
    },
    {
      "cell_type": "code",
      "execution_count": null,
      "metadata": {
        "id": "01ig6BrF1KVy",
        "colab": {
          "base_uri": "https://localhost:8080/",
          "height": 497
        },
        "outputId": "9dc86b84-fc31-44b7-ec66-379d6e309cae"
      },
      "outputs": [
        {
          "output_type": "display_data",
          "data": {
            "text/plain": [
              "<Figure size 576x576 with 1 Axes>"
            ],
            "image/png": "[encoded data removed]"
          },
          "metadata": {
            "needs_background": "light"
          }
        }
      ],
      "source": [
        "# Plotting the accuracies\n",
        "\n",
        "dict_hist = history_model_2.history\n",
        "\n",
        "list_ep = [i for i in range(1, 31)]\n",
        "\n",
        "plt.figure(figsize = (8, 8))\n",
        "\n",
        "plt.plot(list_ep, dict_hist['accuracy'], ls = '--', label = 'accuracy')\n",
        "\n",
        "plt.plot(list_ep, dict_hist['val_accuracy'], ls = '--', label = 'val_accuracy')\n",
        "\n",
        "plt.ylabel('Accuracy')\n",
        "\n",
        "plt.xlabel('Epochs')\n",
        "\n",
        "plt.legend()\n",
        "\n",
        "plt.show()"
      ]
    },
    {
      "cell_type": "markdown",
      "metadata": {
        "id": "VPW1LlD61RDn"
      },
      "source": [
        "**Observations:\n",
        "\n",
        "•\tIn the above plot, the validation accuracy had decreased significantly in epoch 1 compared to the first model, i.e., from 80% to 12%. But, overall, the second model with dropout layers seems to have reduced the overfitting compared to the previous model, and the model is performing well on the validation data.\n",
        "\n",
        "•\tThe validation accuracy had increased substantially as compared to the previous model.\n",
        "\n",
        "•\tThe validation accuracy is closer to the training accuracy now. This indicates that the model is giving a generalized performance."
      ]
    },
    {
      "cell_type": "markdown",
      "metadata": {
        "id": "8kuXx9Bvu00f"
      },
      "source": [
        "## **Predictions on the test data**\n",
        "\n",
        "- Make predictions on the test set using the second model.\n",
        "- Print the obtained results using the classification report and the confusion matrix.\n",
        "- Final observations on the obtained results."
      ]
    },
    {
      "cell_type": "markdown",
      "metadata": {
        "id": "eHCRwRbgKDN2"
      },
      "source": [
        "### **Question 7: Make predictions on the test data using the second model. (1 Mark)**"
      ]
    },
    {
      "cell_type": "code",
      "execution_count": null,
      "metadata": {
        "id": "xbWMEtTj5Ad0"
      },
      "outputs": [],
      "source": [
        "# Make prediction on the test data using model_2\n",
        "\n",
        "test_pred = model_2.predict(X_test)\n",
        "\n",
        "test_pred = np.argmax(test_pred, axis = -1)"
      ]
    },
    {
      "cell_type": "markdown",
      "metadata": {
        "id": "i3li8Ib08yts"
      },
      "source": [
        "**Note:** Earlier, we noticed that each entry of the target variable is a one-hot encoded vector, but to print the classification report and confusion matrix, we must convert each entry of y_test to a single label."
      ]
    },
    {
      "cell_type": "code",
      "execution_count": null,
      "metadata": {
        "id": "NByu7uAQ8x9P"
      },
      "outputs": [],
      "source": [
        "# Converting each entry to single label from one-hot encoded vector\n",
        "\n",
        "y_test = np.argmax(y_test, axis = -1)"
      ]
    },
    {
      "cell_type": "markdown",
      "metadata": {
        "id": "aVCa-ysWKDN3"
      },
      "source": [
        "### **Question 8: Write your final observations on the performance of the model on the test data. (2 Marks)**"
      ]
    },
    {
      "cell_type": "code",
      "execution_count": null,
      "metadata": {
        "id": "xRddeJ-3EHT1",
        "colab": {
          "base_uri": "https://localhost:8080/",
          "height": 629
        },
        "outputId": "3b1eb54a-64df-47d2-c9e3-74cba152ed84"
      },
      "outputs": [
        {
          "output_type": "stream",
          "name": "stdout",
          "text": [
            "              precision    recall  f1-score   support\n",
            "\n",
            "           0       0.90      0.95      0.92      1814\n",
            "           1       0.89      0.92      0.91      1828\n",
            "           2       0.93      0.92      0.93      1803\n",
            "           3       0.92      0.86      0.89      1719\n",
            "           4       0.92      0.92      0.92      1812\n",
            "           5       0.93      0.90      0.91      1768\n",
            "           6       0.87      0.91      0.89      1832\n",
            "           7       0.95      0.91      0.93      1808\n",
            "           8       0.88      0.90      0.89      1812\n",
            "           9       0.90      0.89      0.90      1804\n",
            "\n",
            "    accuracy                           0.91     18000\n",
            "   macro avg       0.91      0.91      0.91     18000\n",
            "weighted avg       0.91      0.91      0.91     18000\n",
            "\n"
          ]
        },
        {
          "output_type": "display_data",
          "data": {
            "text/plain": [
              "<Figure size 576x360 with 2 Axes>"
            ],
            "image/png": "[encoded data removed]"
          },
          "metadata": {
            "needs_background": "light"
          }
        }
      ],
      "source": [
        "# Importing required functions\n",
        "\n",
        "from sklearn.metrics import classification_report\n",
        "\n",
        "from sklearn.metrics import confusion_matrix\n",
        "\n",
        "# Printing the classification report\n",
        "\n",
        "print(classification_report(y_test, test_pred))\n",
        "\n",
        "# Plotting the heatmap using confusion matrix\n",
        "\n",
        "cm = confusion_matrix(y_test, test_pred)\n",
        "\n",
        "plt.figure(figsize = (8, 5))\n",
        "\n",
        "sns.heatmap(cm, annot = True,  fmt = '.0f')\n",
        "\n",
        "plt.ylabel('Actual')\n",
        "\n",
        "plt.xlabel('Predicted')\n",
        "\n",
        "plt.show()"
      ]
    },
    {
      "cell_type": "markdown",
      "metadata": {
        "id": "DjErl4GA2u9s"
      },
      "source": [
        "**Final Observations:\n",
        "\n",
        "•\tThe model gives about 91% accuracy on the test data, which is comparable to the accuracy of the validation data. This implies that the model is giving a generalized performance.\n",
        "\n",
        "•\tThe recall ranges from 86% to 95%. The model is good at identifying digits like 0 (95%) and 1, 2, and 4 (92%) while below 90% at recognizing numbers like 3 (86%) and 9 (89%).\n",
        "\n",
        "•\tConsequently, precision ranges from 87% to 95%, with number 6 having the least precision (87%). The highest precision is number 7, with 95%, indicating that the model can clearly distinguish digit 7 from other numbers."
      ]
    }
  ],
  "metadata": {
    "colab": {
      "provenance": []
    },
    "kernelspec": {
      "display_name": "Python 3 (ipykernel)",
      "language": "python",
      "name": "python3"
    },
    "language_info": {
      "codemirror_mode": {
        "name": "ipython",
        "version": 3
      },
      "file_extension": ".py",
      "mimetype": "text/x-python",
      "name": "python",
      "nbconvert_exporter": "python",
      "pygments_lexer": "ipython3",
      "version": "3.9.7"
    }
  },
  "nbformat": 4,
  "nbformat_minor": 0
}