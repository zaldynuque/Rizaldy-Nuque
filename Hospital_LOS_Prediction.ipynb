{
 "cells": [
  {
   "cell_type": "markdown",
   "id": "522101c1",
   "metadata": {
    "id": "QmmAY9ANJdiZ"
   },
   "source": [
    "# **Hospital Length of Stay (LOS) Prediction**\n"
   ]
  },
  {
   "cell_type": "markdown",
   "id": "e7c3be19",
   "metadata": {
    "id": "pG7RImq5Jnzy"
   },
   "source": [
    "----------------\n",
    "## **Context** \n",
    "----------------\n",
    "\n",
    "Hospital management is a vital area that gained a lot of attention during the COVID-19 pandemic. **Inefficient distribution of resources like beds, and ventilators might lead to a lot of complications**. However, this can be mitigated by **predicting the length of stay (LOS) of a patient before getting admitted**. Once this is determined, the hospital can plan a suitable treatment, resources, and staff to reduce the LOS and increase the chances of recovery. The rooms and beds can also be planned in accordance with that.\n",
    "\n",
    "**HealthPlus hospital has been incurring a lot of losses in revenue and life due to its inefficient management system.** They have been unsuccessful in allocating pieces of equipment, beds, and hospital staff fairly. **A system that could estimate the length of stay (LOS) of a patient can solve this problem to a great extent.**\n",
    "\n",
    "------------------\n",
    "## **Objective**\n",
    "------------------\n",
    "\n",
    "As a Data Scientist, you have been hired by HealthPlus to analyze the data, find out **what factors affect the LOS the most, and come up with a machine learning model which can predict the LOS of a patient**, using the data available during admission and after running a few tests. Also, **bring about useful insights and policies from the data, which can help the hospital to improve their health care infrastructure and revenue.**\n",
    "\n",
    "--------------------------\n",
    "## **Data Dictionary**\n",
    "--------------------------\n",
    "\n",
    "The data contains various information recorded during the time of admission of the patient. It only contains **records of patients who were admitted to the hospital.** The detailed data dictionary is given below:\n",
    "\n",
    "* **patientid**: Patient ID\n",
    "* **Age**: Range of age of the patient\n",
    "* **gender**: Gender of the patient\n",
    "* **Type of Admission**: Trauma, emergency, or urgent\n",
    "* **Severity of Illness**: Extreme, moderate, or minor\n",
    "* **health_condition**s: Any previous health conditions suffered by the patient\n",
    "* **Visitors with Patient**: The number of patients who accompany the patient\n",
    "* **Insurance**: Does the patient have health insurance or not?\n",
    "* **Admission_Deposit**: The deposit paid by the patient during the admission\n",
    "* **Stay (in days)**: The number of days that the patient has stayed in the hospital. This is the **target variable**\n",
    "* **Available Extra Rooms in Hospital**: The number of rooms available during the admission\n",
    "* **Department**: The department which will be treating the patient\n",
    "* **Ward_Facility_Code**: The code of the ward facility in which the patient will be admitted\n",
    "* **doctor_name**: The doctor who will be treating the patient\n",
    "* **staff_available**: The number of staff who are not occupied at the moment in the ward"
   ]
  },
  {
   "cell_type": "markdown",
   "id": "169435d0",
   "metadata": {
    "id": "1HwCLXEdleNm"
   },
   "source": [
    "## **Approach to solve the problem**\n",
    "\n",
    "1. Import the necessary libraries.\n",
    "2. Read the dataset and get an overview.\n",
    "3. Exploratory data analysis. a.Univariate b.Bivariate.\n",
    "4. Data preprocessing if any.\n",
    "5. Define the performance metric and build ML models.\n",
    "6. Compare models and determine the best one.\n",
    "7. Observations and business insights."
   ]
  },
  {
   "cell_type": "markdown",
   "id": "c432e0e1",
   "metadata": {
    "id": "vh6pbSWLJ7pT"
   },
   "source": [
    "## **Importing the necessary libraries and overview of the dataset**"
   ]
  },
  {
   "cell_type": "code",
   "execution_count": 1,
   "id": "e7b11384",
   "metadata": {
    "id": "tu98q-R-KFfP"
   },
   "outputs": [],
   "source": [
    "import numpy as np\n",
    "\n",
    "import pandas as pd\n",
    "\n",
    "import matplotlib.pyplot as plt\n",
    "\n",
    "import seaborn as sns\n",
    "\n",
    "import warnings\n",
    "warnings.filterwarnings(\"ignore\")\n",
    "\n",
    "# Removes the limit for the number of displayed columns\n",
    "\n",
    "pd.set_option(\"display.max_columns\", None)\n",
    "\n",
    "# Sets the limit for the number of displayed rows\n",
    "\n",
    "pd.set_option(\"display.max_rows\", 200)\n",
    "\n",
    "# To build models for prediction\n",
    "\n",
    "from sklearn.model_selection import train_test_split, cross_val_score, KFold\n",
    "\n",
    "from sklearn.linear_model import LinearRegression, Ridge, Lasso\n",
    "\n",
    "from sklearn.tree import DecisionTreeRegressor\n",
    "\n",
    "from sklearn.ensemble import RandomForestRegressor,BaggingRegressor\n",
    "\n",
    "from sklearn.preprocessing import LabelEncoder\n",
    "\n",
    "# For tuning the model\n",
    "\n",
    "from sklearn.model_selection import GridSearchCV\n",
    "\n",
    "# To check the model performance\n",
    "\n",
    "from sklearn.metrics import make_scorer,mean_squared_error, r2_score, mean_absolute_error"
   ]
  },
  {
   "cell_type": "markdown",
   "id": "888d5ca2",
   "metadata": {},
   "source": [
    "### **Loading the dataset**"
   ]
  },
  {
   "cell_type": "code",
   "execution_count": 2,
   "id": "6f94d218",
   "metadata": {
    "id": "VvautAjCU6Im"
   },
   "outputs": [],
   "source": [
    "# Load the healthcare dataset\n",
    "\n",
    "data = pd.read_csv(\"healthcare_data.csv\")"
   ]
  },
  {
   "cell_type": "code",
   "execution_count": 3,
   "id": "92d1018f",
   "metadata": {
    "id": "HAW7LbQGDzc_"
   },
   "outputs": [],
   "source": [
    "# Copying data to another variable to avoid any changes to the original data\n",
    "\n",
    "same_data = data.copy()"
   ]
  },
  {
   "cell_type": "markdown",
   "id": "cc87248d",
   "metadata": {
    "id": "uUEuNqtbPVT0"
   },
   "source": [
    "### **Data Overview**"
   ]
  },
  {
   "cell_type": "code",
   "execution_count": 4,
   "id": "a2b49805",
   "metadata": {
    "colab": {
     "base_uri": "https://localhost:8080/",
     "height": 409
    },
    "id": "1WBP3qyFFlAM",
    "outputId": "f233188b-ab5c-4a17-9eb8-d6bd9c803186"
   },
   "outputs": [
    {
     "data": {
      "text/html": [
       "<div>\n",
       "<style scoped>\n",
       "    .dataframe tbody tr th:only-of-type {\n",
       "        vertical-align: middle;\n",
       "    }\n",
       "\n",
       "    .dataframe tbody tr th {\n",
       "        vertical-align: top;\n",
       "    }\n",
       "\n",
       "    .dataframe thead th {\n",
       "        text-align: right;\n",
       "    }\n",
       "</style>\n",
       "<table border=\"1\" class=\"dataframe\">\n",
       "  <thead>\n",
       "    <tr style=\"text-align: right;\">\n",
       "      <th></th>\n",
       "      <th>Available Extra Rooms in Hospital</th>\n",
       "      <th>Department</th>\n",
       "      <th>Ward_Facility_Code</th>\n",
       "      <th>doctor_name</th>\n",
       "      <th>staff_available</th>\n",
       "      <th>patientid</th>\n",
       "      <th>Age</th>\n",
       "      <th>gender</th>\n",
       "      <th>Type of Admission</th>\n",
       "      <th>Severity of Illness</th>\n",
       "      <th>health_conditions</th>\n",
       "      <th>Visitors with Patient</th>\n",
       "      <th>Insurance</th>\n",
       "      <th>Admission_Deposit</th>\n",
       "      <th>Stay (in days)</th>\n",
       "    </tr>\n",
       "  </thead>\n",
       "  <tbody>\n",
       "    <tr>\n",
       "      <th>0</th>\n",
       "      <td>4</td>\n",
       "      <td>gynecology</td>\n",
       "      <td>D</td>\n",
       "      <td>Dr Sophia</td>\n",
       "      <td>0</td>\n",
       "      <td>33070</td>\n",
       "      <td>41-50</td>\n",
       "      <td>Female</td>\n",
       "      <td>Trauma</td>\n",
       "      <td>Extreme</td>\n",
       "      <td>Diabetes</td>\n",
       "      <td>4</td>\n",
       "      <td>Yes</td>\n",
       "      <td>2966.408696</td>\n",
       "      <td>8</td>\n",
       "    </tr>\n",
       "    <tr>\n",
       "      <th>1</th>\n",
       "      <td>4</td>\n",
       "      <td>gynecology</td>\n",
       "      <td>B</td>\n",
       "      <td>Dr Sophia</td>\n",
       "      <td>2</td>\n",
       "      <td>34808</td>\n",
       "      <td>31-40</td>\n",
       "      <td>Female</td>\n",
       "      <td>Trauma</td>\n",
       "      <td>Minor</td>\n",
       "      <td>Heart disease</td>\n",
       "      <td>2</td>\n",
       "      <td>No</td>\n",
       "      <td>3554.835677</td>\n",
       "      <td>9</td>\n",
       "    </tr>\n",
       "    <tr>\n",
       "      <th>2</th>\n",
       "      <td>2</td>\n",
       "      <td>gynecology</td>\n",
       "      <td>B</td>\n",
       "      <td>Dr Sophia</td>\n",
       "      <td>8</td>\n",
       "      <td>44577</td>\n",
       "      <td>21-30</td>\n",
       "      <td>Female</td>\n",
       "      <td>Trauma</td>\n",
       "      <td>Extreme</td>\n",
       "      <td>Diabetes</td>\n",
       "      <td>2</td>\n",
       "      <td>Yes</td>\n",
       "      <td>5624.733654</td>\n",
       "      <td>7</td>\n",
       "    </tr>\n",
       "    <tr>\n",
       "      <th>3</th>\n",
       "      <td>4</td>\n",
       "      <td>gynecology</td>\n",
       "      <td>D</td>\n",
       "      <td>Dr Olivia</td>\n",
       "      <td>7</td>\n",
       "      <td>3695</td>\n",
       "      <td>31-40</td>\n",
       "      <td>Female</td>\n",
       "      <td>Urgent</td>\n",
       "      <td>Moderate</td>\n",
       "      <td>None</td>\n",
       "      <td>4</td>\n",
       "      <td>No</td>\n",
       "      <td>4814.149231</td>\n",
       "      <td>8</td>\n",
       "    </tr>\n",
       "    <tr>\n",
       "      <th>4</th>\n",
       "      <td>2</td>\n",
       "      <td>anesthesia</td>\n",
       "      <td>E</td>\n",
       "      <td>Dr Mark</td>\n",
       "      <td>10</td>\n",
       "      <td>108956</td>\n",
       "      <td>71-80</td>\n",
       "      <td>Male</td>\n",
       "      <td>Trauma</td>\n",
       "      <td>Moderate</td>\n",
       "      <td>Diabetes</td>\n",
       "      <td>2</td>\n",
       "      <td>No</td>\n",
       "      <td>5169.269637</td>\n",
       "      <td>34</td>\n",
       "    </tr>\n",
       "  </tbody>\n",
       "</table>\n",
       "</div>"
      ],
      "text/plain": [
       "   Available Extra Rooms in Hospital  Department Ward_Facility_Code  \\\n",
       "0                                  4  gynecology                  D   \n",
       "1                                  4  gynecology                  B   \n",
       "2                                  2  gynecology                  B   \n",
       "3                                  4  gynecology                  D   \n",
       "4                                  2  anesthesia                  E   \n",
       "\n",
       "  doctor_name  staff_available  patientid    Age  gender Type of Admission  \\\n",
       "0   Dr Sophia                0      33070  41-50  Female            Trauma   \n",
       "1   Dr Sophia                2      34808  31-40  Female            Trauma   \n",
       "2   Dr Sophia                8      44577  21-30  Female            Trauma   \n",
       "3   Dr Olivia                7       3695  31-40  Female            Urgent   \n",
       "4     Dr Mark               10     108956  71-80    Male            Trauma   \n",
       "\n",
       "  Severity of Illness health_conditions  Visitors with Patient Insurance  \\\n",
       "0             Extreme          Diabetes                      4       Yes   \n",
       "1               Minor     Heart disease                      2        No   \n",
       "2             Extreme          Diabetes                      2       Yes   \n",
       "3            Moderate              None                      4        No   \n",
       "4            Moderate          Diabetes                      2        No   \n",
       "\n",
       "   Admission_Deposit  Stay (in days)  \n",
       "0        2966.408696               8  \n",
       "1        3554.835677               9  \n",
       "2        5624.733654               7  \n",
       "3        4814.149231               8  \n",
       "4        5169.269637              34  "
      ]
     },
     "execution_count": 4,
     "metadata": {},
     "output_type": "execute_result"
    }
   ],
   "source": [
    "# View the first 5 rows of the dataset\n",
    "\n",
    "data.head()"
   ]
  },
  {
   "cell_type": "code",
   "execution_count": 5,
   "id": "2c7d6bf0",
   "metadata": {
    "colab": {
     "base_uri": "https://localhost:8080/",
     "height": 409
    },
    "id": "G-JcE75QFv6o",
    "outputId": "7b500d5a-6148-4cef-b87d-8c0c89cbd734"
   },
   "outputs": [
    {
     "data": {
      "text/html": [
       "<div>\n",
       "<style scoped>\n",
       "    .dataframe tbody tr th:only-of-type {\n",
       "        vertical-align: middle;\n",
       "    }\n",
       "\n",
       "    .dataframe tbody tr th {\n",
       "        vertical-align: top;\n",
       "    }\n",
       "\n",
       "    .dataframe thead th {\n",
       "        text-align: right;\n",
       "    }\n",
       "</style>\n",
       "<table border=\"1\" class=\"dataframe\">\n",
       "  <thead>\n",
       "    <tr style=\"text-align: right;\">\n",
       "      <th></th>\n",
       "      <th>Available Extra Rooms in Hospital</th>\n",
       "      <th>Department</th>\n",
       "      <th>Ward_Facility_Code</th>\n",
       "      <th>doctor_name</th>\n",
       "      <th>staff_available</th>\n",
       "      <th>patientid</th>\n",
       "      <th>Age</th>\n",
       "      <th>gender</th>\n",
       "      <th>Type of Admission</th>\n",
       "      <th>Severity of Illness</th>\n",
       "      <th>health_conditions</th>\n",
       "      <th>Visitors with Patient</th>\n",
       "      <th>Insurance</th>\n",
       "      <th>Admission_Deposit</th>\n",
       "      <th>Stay (in days)</th>\n",
       "    </tr>\n",
       "  </thead>\n",
       "  <tbody>\n",
       "    <tr>\n",
       "      <th>499995</th>\n",
       "      <td>4</td>\n",
       "      <td>gynecology</td>\n",
       "      <td>F</td>\n",
       "      <td>Dr Sarah</td>\n",
       "      <td>2</td>\n",
       "      <td>43001</td>\n",
       "      <td>11-20</td>\n",
       "      <td>Female</td>\n",
       "      <td>Trauma</td>\n",
       "      <td>Minor</td>\n",
       "      <td>High Blood Pressure</td>\n",
       "      <td>3</td>\n",
       "      <td>No</td>\n",
       "      <td>4105.795901</td>\n",
       "      <td>10</td>\n",
       "    </tr>\n",
       "    <tr>\n",
       "      <th>499996</th>\n",
       "      <td>13</td>\n",
       "      <td>gynecology</td>\n",
       "      <td>F</td>\n",
       "      <td>Dr Olivia</td>\n",
       "      <td>8</td>\n",
       "      <td>85601</td>\n",
       "      <td>31-40</td>\n",
       "      <td>Female</td>\n",
       "      <td>Emergency</td>\n",
       "      <td>Moderate</td>\n",
       "      <td>Other</td>\n",
       "      <td>2</td>\n",
       "      <td>No</td>\n",
       "      <td>4631.550257</td>\n",
       "      <td>11</td>\n",
       "    </tr>\n",
       "    <tr>\n",
       "      <th>499997</th>\n",
       "      <td>2</td>\n",
       "      <td>gynecology</td>\n",
       "      <td>B</td>\n",
       "      <td>Dr Sarah</td>\n",
       "      <td>3</td>\n",
       "      <td>22447</td>\n",
       "      <td>11-20</td>\n",
       "      <td>Female</td>\n",
       "      <td>Emergency</td>\n",
       "      <td>Moderate</td>\n",
       "      <td>High Blood Pressure</td>\n",
       "      <td>2</td>\n",
       "      <td>No</td>\n",
       "      <td>5456.930075</td>\n",
       "      <td>8</td>\n",
       "    </tr>\n",
       "    <tr>\n",
       "      <th>499998</th>\n",
       "      <td>2</td>\n",
       "      <td>radiotherapy</td>\n",
       "      <td>A</td>\n",
       "      <td>Dr John</td>\n",
       "      <td>1</td>\n",
       "      <td>29957</td>\n",
       "      <td>61-70</td>\n",
       "      <td>Female</td>\n",
       "      <td>Trauma</td>\n",
       "      <td>Extreme</td>\n",
       "      <td>Diabetes</td>\n",
       "      <td>2</td>\n",
       "      <td>No</td>\n",
       "      <td>4694.127772</td>\n",
       "      <td>23</td>\n",
       "    </tr>\n",
       "    <tr>\n",
       "      <th>499999</th>\n",
       "      <td>3</td>\n",
       "      <td>gynecology</td>\n",
       "      <td>F</td>\n",
       "      <td>Dr Sophia</td>\n",
       "      <td>3</td>\n",
       "      <td>45008</td>\n",
       "      <td>41-50</td>\n",
       "      <td>Female</td>\n",
       "      <td>Trauma</td>\n",
       "      <td>Moderate</td>\n",
       "      <td>Heart disease</td>\n",
       "      <td>4</td>\n",
       "      <td>Yes</td>\n",
       "      <td>4713.868519</td>\n",
       "      <td>10</td>\n",
       "    </tr>\n",
       "  </tbody>\n",
       "</table>\n",
       "</div>"
      ],
      "text/plain": [
       "        Available Extra Rooms in Hospital    Department Ward_Facility_Code  \\\n",
       "499995                                  4    gynecology                  F   \n",
       "499996                                 13    gynecology                  F   \n",
       "499997                                  2    gynecology                  B   \n",
       "499998                                  2  radiotherapy                  A   \n",
       "499999                                  3    gynecology                  F   \n",
       "\n",
       "       doctor_name  staff_available  patientid    Age  gender  \\\n",
       "499995    Dr Sarah                2      43001  11-20  Female   \n",
       "499996   Dr Olivia                8      85601  31-40  Female   \n",
       "499997    Dr Sarah                3      22447  11-20  Female   \n",
       "499998     Dr John                1      29957  61-70  Female   \n",
       "499999   Dr Sophia                3      45008  41-50  Female   \n",
       "\n",
       "       Type of Admission Severity of Illness    health_conditions  \\\n",
       "499995            Trauma               Minor  High Blood Pressure   \n",
       "499996         Emergency            Moderate                Other   \n",
       "499997         Emergency            Moderate  High Blood Pressure   \n",
       "499998            Trauma             Extreme             Diabetes   \n",
       "499999            Trauma            Moderate        Heart disease   \n",
       "\n",
       "        Visitors with Patient Insurance  Admission_Deposit  Stay (in days)  \n",
       "499995                      3        No        4105.795901              10  \n",
       "499996                      2        No        4631.550257              11  \n",
       "499997                      2        No        5456.930075               8  \n",
       "499998                      2        No        4694.127772              23  \n",
       "499999                      4       Yes        4713.868519              10  "
      ]
     },
     "execution_count": 5,
     "metadata": {},
     "output_type": "execute_result"
    }
   ],
   "source": [
    "# View the last 5 rows of the dataset\n",
    "\n",
    "data.tail()"
   ]
  },
  {
   "cell_type": "code",
   "execution_count": 6,
   "id": "207c6939",
   "metadata": {
    "colab": {
     "base_uri": "https://localhost:8080/"
    },
    "id": "oh0JY34cdYHB",
    "outputId": "d2de5b2e-8111-4923-a67f-47ef67b1625b"
   },
   "outputs": [
    {
     "data": {
      "text/plain": [
       "(500000, 15)"
      ]
     },
     "execution_count": 6,
     "metadata": {},
     "output_type": "execute_result"
    }
   ],
   "source": [
    "# Understand the shape of the data\n",
    "\n",
    "data.shape"
   ]
  },
  {
   "cell_type": "markdown",
   "id": "93aeddf0",
   "metadata": {
    "id": "JKUvaKzkdjUc"
   },
   "source": [
    "- The dataset has **500,000 rows and 15 columns**."
   ]
  },
  {
   "cell_type": "code",
   "execution_count": 7,
   "id": "d2b232a6",
   "metadata": {
    "colab": {
     "base_uri": "https://localhost:8080/"
    },
    "id": "shfF1UM7Ke5E",
    "outputId": "f1225a56-a510-47f8-f23a-c21ca62aa8ce"
   },
   "outputs": [
    {
     "name": "stdout",
     "output_type": "stream",
     "text": [
      "<class 'pandas.core.frame.DataFrame'>\n",
      "RangeIndex: 500000 entries, 0 to 499999\n",
      "Data columns (total 15 columns):\n",
      " #   Column                             Non-Null Count   Dtype  \n",
      "---  ------                             --------------   -----  \n",
      " 0   Available Extra Rooms in Hospital  500000 non-null  int64  \n",
      " 1   Department                         500000 non-null  object \n",
      " 2   Ward_Facility_Code                 500000 non-null  object \n",
      " 3   doctor_name                        500000 non-null  object \n",
      " 4   staff_available                    500000 non-null  int64  \n",
      " 5   patientid                          500000 non-null  int64  \n",
      " 6   Age                                500000 non-null  object \n",
      " 7   gender                             500000 non-null  object \n",
      " 8   Type of Admission                  500000 non-null  object \n",
      " 9   Severity of Illness                500000 non-null  object \n",
      " 10  health_conditions                  500000 non-null  object \n",
      " 11  Visitors with Patient              500000 non-null  int64  \n",
      " 12  Insurance                          500000 non-null  object \n",
      " 13  Admission_Deposit                  500000 non-null  float64\n",
      " 14  Stay (in days)                     500000 non-null  int64  \n",
      "dtypes: float64(1), int64(5), object(9)\n",
      "memory usage: 57.2+ MB\n"
     ]
    }
   ],
   "source": [
    "# Checking the info of the data\n",
    "\n",
    "data.info()"
   ]
  },
  {
   "cell_type": "markdown",
   "id": "7a8cff82",
   "metadata": {
    "id": "1LQeBs4sPHNK"
   },
   "source": [
    "**Observations:**\n",
    "\n",
    "-  `Available Extra Rooms in Hospital`, `staff_available`, `patientid`, `Visitors with Patient`, `Admission_Deposit`, and `Stay (in days)` are of **numeric data type** and the rest of the columns are of **object data type**.\n",
    "- The number of non-null values is the same as the total number of entries in the data, i.e., **there are no null values.**\n",
    "- The column `patientid` is an identifier for patients in the data."
   ]
  },
  {
   "cell_type": "code",
   "execution_count": 8,
   "id": "d722067e",
   "metadata": {
    "colab": {
     "base_uri": "https://localhost:8080/"
    },
    "id": "z73h7AF9r1PM",
    "outputId": "f0303525-8dc6-4048-a052-95be255b9075"
   },
   "outputs": [
    {
     "data": {
      "text/plain": [
       "0"
      ]
     },
     "execution_count": 8,
     "metadata": {},
     "output_type": "execute_result"
    }
   ],
   "source": [
    "# Checking for duplicate values in the Data\n",
    "\n",
    "data.duplicated().sum()"
   ]
  },
  {
   "cell_type": "markdown",
   "id": "99eb2ab8",
   "metadata": {
    "id": "kp4_mcJjP3LE"
   },
   "source": [
    "**Observation:** \n",
    "- Data has unique rows only. There is no need to remove any rows."
   ]
  },
  {
   "cell_type": "code",
   "execution_count": 9,
   "id": "320a206e",
   "metadata": {
    "colab": {
     "base_uri": "https://localhost:8080/"
    },
    "id": "z5Xba7tEO9KE",
    "outputId": "14a6ec9c-7e0a-41b3-ed88-c55c88623503"
   },
   "outputs": [
    {
     "data": {
      "text/plain": [
       "126719    21\n",
       "125695    21\n",
       "44572     21\n",
       "126623    21\n",
       "125625    19\n",
       "          ..\n",
       "37634      1\n",
       "91436      1\n",
       "118936     1\n",
       "52366      1\n",
       "105506     1\n",
       "Name: patientid, Length: 126399, dtype: int64"
      ]
     },
     "execution_count": 9,
     "metadata": {},
     "output_type": "execute_result"
    }
   ],
   "source": [
    "# To view patientid and the number of times they have visited the hospital\n",
    "\n",
    "data['patientid'].value_counts()"
   ]
  },
  {
   "cell_type": "markdown",
   "id": "df9de640",
   "metadata": {
    "id": "4pgZWSL-1vS5"
   },
   "source": [
    "**Observation:**\n",
    "- **The maximum number of times the same patient admitted to the hospital is 21 and minimum is 1.**"
   ]
  },
  {
   "cell_type": "markdown",
   "id": "922a61b5",
   "metadata": {
    "id": "wTHU4IPogofK"
   },
   "source": [
    "## **Exploratory Data Analysis (EDA)**"
   ]
  },
  {
   "cell_type": "markdown",
   "id": "676f22e7",
   "metadata": {
    "id": "gU_-9VCyskuV"
   },
   "source": [
    "### **Univariate Analysis**"
   ]
  },
  {
   "cell_type": "code",
   "execution_count": 10,
   "id": "abb7b32a",
   "metadata": {
    "colab": {
     "base_uri": "https://localhost:8080/",
     "height": 237
    },
    "id": "QIvXLbuuSuEE",
    "outputId": "db5fb1e5-cfef-49e5-c117-3cd55697904f"
   },
   "outputs": [
    {
     "data": {
      "text/html": [
       "<div>\n",
       "<style scoped>\n",
       "    .dataframe tbody tr th:only-of-type {\n",
       "        vertical-align: middle;\n",
       "    }\n",
       "\n",
       "    .dataframe tbody tr th {\n",
       "        vertical-align: top;\n",
       "    }\n",
       "\n",
       "    .dataframe thead th {\n",
       "        text-align: right;\n",
       "    }\n",
       "</style>\n",
       "<table border=\"1\" class=\"dataframe\">\n",
       "  <thead>\n",
       "    <tr style=\"text-align: right;\">\n",
       "      <th></th>\n",
       "      <th>count</th>\n",
       "      <th>mean</th>\n",
       "      <th>std</th>\n",
       "      <th>min</th>\n",
       "      <th>25%</th>\n",
       "      <th>50%</th>\n",
       "      <th>75%</th>\n",
       "      <th>max</th>\n",
       "    </tr>\n",
       "  </thead>\n",
       "  <tbody>\n",
       "    <tr>\n",
       "      <th>Available Extra Rooms in Hospital</th>\n",
       "      <td>500000.0</td>\n",
       "      <td>3.638800</td>\n",
       "      <td>2.698124</td>\n",
       "      <td>0.000000</td>\n",
       "      <td>2.000000</td>\n",
       "      <td>3.000000</td>\n",
       "      <td>4.000000</td>\n",
       "      <td>24.00000</td>\n",
       "    </tr>\n",
       "    <tr>\n",
       "      <th>staff_available</th>\n",
       "      <td>500000.0</td>\n",
       "      <td>5.020470</td>\n",
       "      <td>3.158103</td>\n",
       "      <td>0.000000</td>\n",
       "      <td>2.000000</td>\n",
       "      <td>5.000000</td>\n",
       "      <td>8.000000</td>\n",
       "      <td>10.00000</td>\n",
       "    </tr>\n",
       "    <tr>\n",
       "      <th>patientid</th>\n",
       "      <td>500000.0</td>\n",
       "      <td>63150.519058</td>\n",
       "      <td>41689.479956</td>\n",
       "      <td>-3269.000000</td>\n",
       "      <td>25442.000000</td>\n",
       "      <td>57864.000000</td>\n",
       "      <td>103392.000000</td>\n",
       "      <td>134400.00000</td>\n",
       "    </tr>\n",
       "    <tr>\n",
       "      <th>Visitors with Patient</th>\n",
       "      <td>500000.0</td>\n",
       "      <td>3.549414</td>\n",
       "      <td>2.241054</td>\n",
       "      <td>0.000000</td>\n",
       "      <td>2.000000</td>\n",
       "      <td>3.000000</td>\n",
       "      <td>4.000000</td>\n",
       "      <td>32.00000</td>\n",
       "    </tr>\n",
       "    <tr>\n",
       "      <th>Admission_Deposit</th>\n",
       "      <td>500000.0</td>\n",
       "      <td>4722.315734</td>\n",
       "      <td>1047.324220</td>\n",
       "      <td>1654.005148</td>\n",
       "      <td>4071.714532</td>\n",
       "      <td>4627.003792</td>\n",
       "      <td>5091.612717</td>\n",
       "      <td>10104.72639</td>\n",
       "    </tr>\n",
       "    <tr>\n",
       "      <th>Stay (in days)</th>\n",
       "      <td>500000.0</td>\n",
       "      <td>12.381062</td>\n",
       "      <td>7.913174</td>\n",
       "      <td>3.000000</td>\n",
       "      <td>8.000000</td>\n",
       "      <td>9.000000</td>\n",
       "      <td>11.000000</td>\n",
       "      <td>51.00000</td>\n",
       "    </tr>\n",
       "  </tbody>\n",
       "</table>\n",
       "</div>"
      ],
      "text/plain": [
       "                                      count          mean           std  \\\n",
       "Available Extra Rooms in Hospital  500000.0      3.638800      2.698124   \n",
       "staff_available                    500000.0      5.020470      3.158103   \n",
       "patientid                          500000.0  63150.519058  41689.479956   \n",
       "Visitors with Patient              500000.0      3.549414      2.241054   \n",
       "Admission_Deposit                  500000.0   4722.315734   1047.324220   \n",
       "Stay (in days)                     500000.0     12.381062      7.913174   \n",
       "\n",
       "                                           min           25%           50%  \\\n",
       "Available Extra Rooms in Hospital     0.000000      2.000000      3.000000   \n",
       "staff_available                       0.000000      2.000000      5.000000   \n",
       "patientid                         -3269.000000  25442.000000  57864.000000   \n",
       "Visitors with Patient                 0.000000      2.000000      3.000000   \n",
       "Admission_Deposit                  1654.005148   4071.714532   4627.003792   \n",
       "Stay (in days)                        3.000000      8.000000      9.000000   \n",
       "\n",
       "                                             75%           max  \n",
       "Available Extra Rooms in Hospital       4.000000      24.00000  \n",
       "staff_available                         8.000000      10.00000  \n",
       "patientid                          103392.000000  134400.00000  \n",
       "Visitors with Patient                   4.000000      32.00000  \n",
       "Admission_Deposit                    5091.612717   10104.72639  \n",
       "Stay (in days)                         11.000000      51.00000  "
      ]
     },
     "execution_count": 10,
     "metadata": {},
     "output_type": "execute_result"
    }
   ],
   "source": [
    "# Checking the descriptive statistics of the columns\n",
    "\n",
    "data.describe().T"
   ]
  },
  {
   "cell_type": "markdown",
   "id": "c583ff93",
   "metadata": {
    "id": "sTfliAV--0q5"
   },
   "source": [
    "**Observations:**\n",
    "\n",
    "* There are around **3 rooms available in the hospital on an average** and there are times when the hospital is full and there are no rooms available. The **maximum number of rooms available in the hospital is 24**.\n",
    "* **On average, there are around 5 staff personnel available to treat the new patients** but it can also be zero at times. The maximum staff available in the hospital is 10.\n",
    "* **On average, around 3 visitors accompany the patient.** Some patients come on their own (minimum zero) and a few cases have 32 visitors. It will be interesting to see if there is any relationship between the number of visitors and the severity of the patient.\n",
    "* **The average admission deposit lies around 4,722 dollars and a minimum of 1,654 dollars is paid on every admission.**\n",
    "* **Patient's stay has a large range from 3 to 51 days.** There might be outliers in this variable. The median length of stay is 9 days."
   ]
  },
  {
   "cell_type": "code",
   "execution_count": 11,
   "id": "177428f6",
   "metadata": {
    "colab": {
     "base_uri": "https://localhost:8080/"
    },
    "id": "wYe3XYCFS1ru",
    "outputId": "d3eddc68-0e27-4047-f17e-cdf9cb0ca90e",
    "scrolled": false
   },
   "outputs": [
    {
     "name": "stdout",
     "output_type": "stream",
     "text": [
      "gynecology            0.686956\n",
      "radiotherapy          0.168630\n",
      "anesthesia            0.088358\n",
      "TB & Chest disease    0.045780\n",
      "surgery               0.010276\n",
      "Name: Department, dtype: float64\n",
      "--------------------------------------------------\n",
      "Trauma       0.621072\n",
      "Emergency    0.271568\n",
      "Urgent       0.107360\n",
      "Name: Type of Admission, dtype: float64\n",
      "--------------------------------------------------\n",
      "Moderate    0.560394\n",
      "Minor       0.263074\n",
      "Extreme     0.176532\n",
      "Name: Severity of Illness, dtype: float64\n",
      "--------------------------------------------------\n",
      "Female    0.74162\n",
      "Male      0.20696\n",
      "Other     0.05142\n",
      "Name: gender, dtype: float64\n",
      "--------------------------------------------------\n",
      "Yes    0.78592\n",
      "No     0.21408\n",
      "Name: Insurance, dtype: float64\n",
      "--------------------------------------------------\n",
      "None                   0.303776\n",
      "Other                  0.188822\n",
      "High Blood Pressure    0.158804\n",
      "Diabetes               0.147288\n",
      "Asthama                0.131028\n",
      "Heart disease          0.070282\n",
      "Name: health_conditions, dtype: float64\n",
      "--------------------------------------------------\n",
      "Dr Sarah     0.199192\n",
      "Dr Olivia    0.196704\n",
      "Dr Sophia    0.149506\n",
      "Dr Nathan    0.141554\n",
      "Dr Sam       0.111422\n",
      "Dr John      0.102526\n",
      "Dr Mark      0.088820\n",
      "Dr Isaac     0.006718\n",
      "Dr Simon     0.003558\n",
      "Name: doctor_name, dtype: float64\n",
      "--------------------------------------------------\n",
      "F    0.241076\n",
      "D    0.238110\n",
      "B    0.207770\n",
      "E    0.190748\n",
      "A    0.093102\n",
      "C    0.029194\n",
      "Name: Ward_Facility_Code, dtype: float64\n",
      "--------------------------------------------------\n",
      "21-30     0.319586\n",
      "31-40     0.266746\n",
      "41-50     0.160812\n",
      "11-20     0.093072\n",
      "61-70     0.053112\n",
      "51-60     0.043436\n",
      "71-80     0.037406\n",
      "81-90     0.016362\n",
      "0-10      0.006736\n",
      "91-100    0.002732\n",
      "Name: Age, dtype: float64\n",
      "--------------------------------------------------\n"
     ]
    }
   ],
   "source": [
    "# List of all important categorical variables\n",
    "\n",
    "cat_col = ['Department', 'Type of Admission', 'Severity of Illness', 'gender', 'Insurance', 'health_conditions', 'doctor_name', 'Ward_Facility_Code', 'Age']\n",
    "\n",
    "# Printing the number of occurrences of each unique value in each categorical column\n",
    "for column in cat_col:\n",
    "    \n",
    "    print(data[column].value_counts(1))\n",
    "    \n",
    "    print(\"-\" * 50)"
   ]
  },
  {
   "cell_type": "markdown",
   "id": "62a64599",
   "metadata": {
    "id": "NSIXtFmtgeNJ"
   },
   "source": [
    "**Observations :**\n",
    "\n",
    "- **The majority of patients (~82%) admit to the hospital with moderate or minor illness** which is understandable as extreme illness is less frequent than moderate and minor illness. \n",
    "- **Gynecology department gets the most number of patients (~68%)** in the hospital whereas patients in the surgery department are very less (~1%).\n",
    "- **Ward A and C accommodate the least number of patients (~12%).** These might be wards reserved for patient with extreme illness and patients who need surgery. It would be interesting to see if patients from these wards stay for a longer duration.\n",
    "- **The majority of patients belong to the age group of 21-50 (~75%) and are women (~74%).** The most number of patients in the gynecology department of the hospital can justify this.\n",
    "- Most of the patients admitted to the hospital are the cases of trauma (~62%).\n",
    "- **High Blood pressure and diabetes are the most common health conditions.**"
   ]
  },
  {
   "cell_type": "code",
   "execution_count": 12,
   "id": "b538ca68",
   "metadata": {
    "id": "3FXeuDBXU3Dv"
   },
   "outputs": [],
   "source": [
    "# Function to plot a boxplot and a histogram along the same scale\n",
    "\n",
    "def histogram_boxplot(data, feature, figsize = (12, 7), kde = False, bins = None):\n",
    "    \n",
    "    \"\"\"\n",
    "    Boxplot and histogram combined\n",
    "\n",
    "    data: dataframe\n",
    "    \n",
    "    feature: dataframe column\n",
    "    \n",
    "    figsize: size of figure (default (12, 7))\n",
    "    \n",
    "    kde: whether to the show density curve (default False)\n",
    "    \n",
    "    bins: number of bins for histogram (default None)\n",
    "    \n",
    "    \"\"\"\n",
    "    f2, (ax_box2, ax_hist2) = plt.subplots(\n",
    "        \n",
    "        nrows = 2,      # Number of rows of the subplot grid=2\n",
    "        \n",
    "        sharex = True,  # x-axis will be shared among all subplots\n",
    "        \n",
    "        gridspec_kw = {\"height_ratios\": (0.25, 0.75)},\n",
    "        \n",
    "        figsize = figsize,\n",
    "        \n",
    "    )\n",
    "    # Creating the 2 subplots\n",
    "    sns.boxplot(\n",
    "        data = data, x = feature, ax = ax_box2, showmeans = True, color = \"violet\"\n",
    "    )  # Boxplot will be created and a star will indicate the mean value of the column\n",
    "    \n",
    "    sns.histplot(\n",
    "        data = data, x = feature, kde = kde, ax = ax_hist2, bins = bins, palette = \"winter\"\n",
    "    ) if bins else sns.histplot(\n",
    "        data = data, x = feature, kde = kde, ax = ax_hist2\n",
    "    )  # For histogram\n",
    "    \n",
    "    ax_hist2.axvline(\n",
    "        data[feature].mean(), color = \"green\", linestyle = \"--\"\n",
    "    )  # Add mean to the histogram\n",
    "    \n",
    "    ax_hist2.axvline(\n",
    "        data[feature].median(), color = \"black\", linestyle = \"-\"\n",
    "    )  # Add median to the histogram"
   ]
  },
  {
   "cell_type": "markdown",
   "id": "6802c104",
   "metadata": {
    "id": "jeEmAqhGBlQ3"
   },
   "source": [
    "### **Length of Stay**"
   ]
  },
  {
   "cell_type": "code",
   "execution_count": 13,
   "id": "fe112d99",
   "metadata": {
    "colab": {
     "base_uri": "https://localhost:8080/",
     "height": 442
    },
    "id": "eZavZx-IU47X",
    "outputId": "d39a1b79-3eb2-4e69-d6c9-c0d7a872f718"
   },
   "outputs": [
    {
     "data": {
      "image/png": "[encoded data removed]",
      "text/plain": [
       "<Figure size 864x504 with 2 Axes>"
      ]
     },
     "metadata": {
      "needs_background": "light"
     },
     "output_type": "display_data"
    }
   ],
   "source": [
    "histogram_boxplot(data, \"Stay (in days)\", kde = True, bins = 30)"
   ]
  },
  {
   "cell_type": "markdown",
   "id": "b450770c",
   "metadata": {
    "id": "0f59iZeHCE9m"
   },
   "source": [
    "**Observations:**\n",
    "\n",
    "- There are **fewer patients staying more than 10 days in the hospital and very few who stay for more than 40 days**. This might be because the majority of patients are admitted for moderate or minor illnesses. \n",
    "- The peak of the distribution shows that most of the patients stay for 8-9 days in the hospital. "
   ]
  },
  {
   "cell_type": "markdown",
   "id": "88f259ce",
   "metadata": {
    "id": "zwYRba3GCmMR"
   },
   "source": [
    "### **Admission Deposit**"
   ]
  },
  {
   "cell_type": "code",
   "execution_count": 14,
   "id": "25b5dcb0",
   "metadata": {
    "colab": {
     "base_uri": "https://localhost:8080/",
     "height": 443
    },
    "id": "45-b0yudsw8V",
    "outputId": "c22440ee-f148-4cce-ddd7-91fe975ddfde"
   },
   "outputs": [
    {
     "data": {
      "image/png": "[encoded data removed]",
      "text/plain": [
       "<Figure size 864x504 with 2 Axes>"
      ]
     },
     "metadata": {
      "needs_background": "light"
     },
     "output_type": "display_data"
    }
   ],
   "source": [
    "histogram_boxplot(data, \"Admission_Deposit\", kde = True, bins = 30)"
   ]
  },
  {
   "cell_type": "markdown",
   "id": "be4bc609",
   "metadata": {
    "id": "1iuWUHFtC40E"
   },
   "source": [
    "**Observations:**\n",
    "\n",
    "- The **distribution of the admission fees is close to normal with outliers on both sides**. \n",
    "- Few patients are paying a high amount of admission fees and few patients are paying a low amount of admission fees."
   ]
  },
  {
   "cell_type": "markdown",
   "id": "6e42de11",
   "metadata": {
    "id": "dnawqWwiDGAN"
   },
   "source": [
    "### **Number of Visitors with the Patient**"
   ]
  },
  {
   "cell_type": "code",
   "execution_count": 15,
   "id": "cb680b8f",
   "metadata": {
    "colab": {
     "base_uri": "https://localhost:8080/",
     "height": 442
    },
    "id": "zaFuytims4mK",
    "outputId": "db4f7622-f25c-4341-c6fb-c3c101afc59a"
   },
   "outputs": [
    {
     "data": {
      "image/png": "[encoded data removed]",
      "text/plain": [
       "<Figure size 864x504 with 2 Axes>"
      ]
     },
     "metadata": {
      "needs_background": "light"
     },
     "output_type": "display_data"
    }
   ],
   "source": [
    "histogram_boxplot(data, \"Visitors with Patient\", kde = True, bins = 30)"
   ]
  },
  {
   "cell_type": "markdown",
   "id": "35af7f4c",
   "metadata": {
    "id": "YDwBBE2eDOxo"
   },
   "source": [
    "**Observations:**\n",
    "\n",
    "- The distribution of the number of visitors with the patient is **highly skewed towards the right**.\n",
    "- **2 and 4 are the most common number of visitors with patients.**"
   ]
  },
  {
   "cell_type": "markdown",
   "id": "c726b667",
   "metadata": {
    "id": "n5PnzTiBuJA5"
   },
   "source": [
    "### **Bivariate Analysis**"
   ]
  },
  {
   "cell_type": "code",
   "execution_count": 16,
   "id": "2cd420fb",
   "metadata": {
    "colab": {
     "base_uri": "https://localhost:8080/",
     "height": 607
    },
    "id": "ARmMlB5IO3UQ",
    "outputId": "51e8fe69-fd1f-48e7-aae6-e16b421bf2c9"
   },
   "outputs": [
    {
     "data": {
      "text/plain": [
       "<AxesSubplot:>"
      ]
     },
     "execution_count": 16,
     "metadata": {},
     "output_type": "execute_result"
    },
    {
     "data": {
      "image/png": "[encoded data removed]",
      "text/plain": [
       "<Figure size 1080x504 with 2 Axes>"
      ]
     },
     "metadata": {
      "needs_background": "light"
     },
     "output_type": "display_data"
    }
   ],
   "source": [
    "# Finding the correlation between various columns of the dataset\n",
    "\n",
    "import seaborn as sns\n",
    "\n",
    "import matplotlib.pyplot as plt\n",
    "\n",
    "plt.figure(figsize = (15, 7))\n",
    "\n",
    "sns.heatmap(data.corr(), annot = True, vmin = -1, vmax = 1, fmt = \".2f\", cmap = \"Spectral\")"
   ]
  },
  {
   "cell_type": "markdown",
   "id": "22d61796",
   "metadata": {
    "id": "VXjMP0xgPHoW"
   },
   "source": [
    "**Observations:** \n",
    "- The heatmap shows that there is **no correlation (very close to 0) between variables**.\n",
    "- The continuous variables show no correlation with the target variable (Stay (in days)) which indicates that the **categorical variables might be more important for the prediction.**"
   ]
  },
  {
   "cell_type": "code",
   "execution_count": 17,
   "id": "208c029e",
   "metadata": {
    "id": "TbM2637QiV0D"
   },
   "outputs": [],
   "source": [
    "# Function to plot stacked bar plots\n",
    "\n",
    "def stacked_barplot(data, predictor, target):\n",
    "    \"\"\"\n",
    "    Print the category counts and plot a stacked bar chart\n",
    "\n",
    "    data: dataframe\n",
    "    \n",
    "    predictor: independent variable\n",
    "    \n",
    "    target: target variable\n",
    "    \"\"\"\n",
    "    count = data[predictor].nunique()\n",
    "    \n",
    "    sorter = data[target].value_counts().index[-1]\n",
    "    \n",
    "    tab1 = pd.crosstab(data[predictor], data[target], margins = True).sort_values(\n",
    "        by = sorter, ascending = False\n",
    "    )\n",
    "    \n",
    "    print(tab1)\n",
    "    \n",
    "    print(\"-\" * 120)\n",
    "    \n",
    "    tab = pd.crosstab(data[predictor], data[target], normalize = \"index\").sort_values(\n",
    "        by = sorter, ascending = False\n",
    "    )\n",
    "    \n",
    "    tab.plot(kind = \"bar\", stacked = True, figsize = (count + 1, 5))\n",
    "    \n",
    "    plt.legend(\n",
    "        loc = \"lower left\",\n",
    "        frameon = False,\n",
    "    )\n",
    "    \n",
    "    plt.legend(loc = \"upper left\", bbox_to_anchor = (1, 1))\n",
    "    \n",
    "    plt.show()"
   ]
  },
  {
   "cell_type": "markdown",
   "id": "a9c1c4c1",
   "metadata": {
    "id": "_7g781gtwOV2"
   },
   "source": [
    "**Let's start by checking the distribution of the LOS for the various wards.**"
   ]
  },
  {
   "cell_type": "code",
   "execution_count": 18,
   "id": "1e80d970",
   "metadata": {
    "colab": {
     "base_uri": "https://localhost:8080/",
     "height": 279
    },
    "id": "z3C3qUsTlIpK",
    "outputId": "f3232d19-74d1-454a-b379-53e116a67004"
   },
   "outputs": [
    {
     "data": {
      "image/png": "[encoded data removed]",
      "text/plain": [
       "<Figure size 432x288 with 1 Axes>"
      ]
     },
     "metadata": {
      "needs_background": "light"
     },
     "output_type": "display_data"
    }
   ],
   "source": [
    "sns.barplot(y = 'Ward_Facility_Code', x = 'Stay (in days)', data = data)\n",
    "\n",
    "plt.show()"
   ]
  },
  {
   "cell_type": "markdown",
   "id": "53c0e716",
   "metadata": {
    "id": "2ScD8h0FHRxX"
   },
   "source": [
    "**Observation:**\n",
    "\n",
    "- The hypothesis we made earlier is correct, i.e., **wards A and C have the patients staying for the longest duration.**"
   ]
  },
  {
   "cell_type": "code",
   "execution_count": 19,
   "id": "9d3812ed",
   "metadata": {
    "colab": {
     "base_uri": "https://localhost:8080/",
     "height": 679
    },
    "id": "UH3lFpuU4I6B",
    "outputId": "d7fdbb71-9963-4cff-d828-7bf628c46918"
   },
   "outputs": [
    {
     "name": "stdout",
     "output_type": "stream",
     "text": [
      "Department          TB & Chest disease  anesthesia  gynecology  radiotherapy  \\\n",
      "Ward_Facility_Code                                                             \n",
      "A                                 4709       15611           0         21093   \n",
      "All                              22890       44179      343478         84315   \n",
      "B                                    0           0      103885             0   \n",
      "C                                 1319        4199           0          9079   \n",
      "D                                    0           0      119055             0   \n",
      "E                                16862       24369           0         54143   \n",
      "F                                    0           0      120538             0   \n",
      "\n",
      "Department          surgery     All  \n",
      "Ward_Facility_Code                   \n",
      "A                      5138   46551  \n",
      "All                    5138  500000  \n",
      "B                         0  103885  \n",
      "C                         0   14597  \n",
      "D                         0  119055  \n",
      "E                         0   95374  \n",
      "F                         0  120538  \n",
      "------------------------------------------------------------------------------------------------------------------------\n"
     ]
    },
    {
     "data": {
      "image/png": "[encoded data removed]",
      "text/plain": [
       "<Figure size 504x360 with 1 Axes>"
      ]
     },
     "metadata": {
      "needs_background": "light"
     },
     "output_type": "display_data"
    }
   ],
   "source": [
    "stacked_barplot(data, \"Ward_Facility_Code\", \"Department\")"
   ]
  },
  {
   "cell_type": "markdown",
   "id": "4690b917",
   "metadata": {
    "id": "26J9ZLFC4WO7"
   },
   "source": [
    "**Observations:**\n",
    "\n",
    "- **Ward facilities B, D, and F are dedicated only to the gynecology department.**\n",
    "- Wards A, C, and E have patients with all other diseases, and patients undergoing surgery are admitted to ward A only."
   ]
  },
  {
   "cell_type": "markdown",
   "id": "0a2dcc79",
   "metadata": {
    "id": "So2J-eKbxLXE"
   },
   "source": [
    "**Usually, the more severe the illness, the more the LOS, let's check the distribution of severe patients in various wards.**"
   ]
  },
  {
   "cell_type": "code",
   "execution_count": 20,
   "id": "61693483",
   "metadata": {
    "colab": {
     "base_uri": "https://localhost:8080/",
     "height": 505
    },
    "id": "W-_Kr-34iXUp",
    "outputId": "a0d33096-00b3-417f-ca0e-de29671b1b70"
   },
   "outputs": [
    {
     "name": "stdout",
     "output_type": "stream",
     "text": [
      "Severity of Illness  Extreme   Minor  Moderate     All\n",
      "Ward_Facility_Code                                    \n",
      "All                    88266  131537    280197  500000\n",
      "D                      29549   27220     62286  119055\n",
      "B                      24222   23579     56084  103885\n",
      "A                      13662    7877     25012   46551\n",
      "E                      11488   22254     61632   95374\n",
      "F                       5842   47594     67102  120538\n",
      "C                       3503    3013      8081   14597\n",
      "------------------------------------------------------------------------------------------------------------------------\n"
     ]
    },
    {
     "data": {
      "image/png": "[encoded data removed]",
      "text/plain": [
       "<Figure size 504x360 with 1 Axes>"
      ]
     },
     "metadata": {
      "needs_background": "light"
     },
     "output_type": "display_data"
    }
   ],
   "source": [
    "stacked_barplot(data, \"Ward_Facility_Code\", \"Severity of Illness\")"
   ]
  },
  {
   "cell_type": "markdown",
   "id": "1ff608c4",
   "metadata": {
    "id": "KiDH49bWIAJF"
   },
   "source": [
    "**Observations:**\n",
    "\n",
    "- Ward A has the most extreme cases as well as the longest length of stay in the hospital. It might require more staff and resources as compared to other wards.\n",
    "- Ward F has a large number of minor cases and Ward E has a large number of moderate cases."
   ]
  },
  {
   "cell_type": "markdown",
   "id": "b5bdde69",
   "metadata": {
    "id": "k4pmLBDiyJ4c"
   },
   "source": [
    "**Age can also be an important factor to find the length of stay. Let's check the same.**"
   ]
  },
  {
   "cell_type": "code",
   "execution_count": 21,
   "id": "f648460c",
   "metadata": {
    "colab": {
     "base_uri": "https://localhost:8080/",
     "height": 279
    },
    "id": "FmSuZ_18n7Ch",
    "outputId": "621049c4-af34-4c59-df52-f4c007e21aac"
   },
   "outputs": [
    {
     "data": {
      "image/png": "[encoded data removed]",
      "text/plain": [
       "<Figure size 432x288 with 1 Axes>"
      ]
     },
     "metadata": {
      "needs_background": "light"
     },
     "output_type": "display_data"
    }
   ],
   "source": [
    "sns.barplot(y = 'Age', x = 'Stay (in days)', data = data )\n",
    "\n",
    "plt.show()"
   ]
  },
  {
   "cell_type": "markdown",
   "id": "7a23ff35",
   "metadata": {
    "id": "SsYpNHK2It36"
   },
   "source": [
    "**Observations:**\n",
    "\n",
    "- **Patients aged between 0-10 and 51-100 tend to stay the most number of days in the hospital.** This might be because the majority of the patients in the 21-50 age group get admitted to the gynecology department, and patients in age groups 1-10 and 5-100 might get admitted due to some other serious illness."
   ]
  },
  {
   "cell_type": "markdown",
   "id": "75e9bc03",
   "metadata": {
    "id": "fTjAF7lA2A9v"
   },
   "source": [
    "## **Data Preparation for Model Building**\n",
    "\n",
    "- Before we proceed to build a model, we'll have to encode categorical features.\n",
    "- Separate independent variables and the dependent variable.\n",
    "- We'll split the data into train and test to be able to evaluate the model that we train on the training data."
   ]
  },
  {
   "cell_type": "code",
   "execution_count": 22,
   "id": "a1a017c5",
   "metadata": {
    "id": "R9sae8pN9cGT"
   },
   "outputs": [],
   "source": [
    "# Creating dummy variables for the categorical columns, drop_first = True is used to avoid redundant variables\n",
    "data = pd.get_dummies(\n",
    "    data,\n",
    "    columns = data.select_dtypes(include = [\"object\", \"category\"]).columns.tolist(),\n",
    "    drop_first = True,\n",
    ")"
   ]
  },
  {
   "cell_type": "code",
   "execution_count": 23,
   "id": "37cf5ea8",
   "metadata": {
    "colab": {
     "base_uri": "https://localhost:8080/",
     "height": 539
    },
    "id": "Ri-VtxAj9fdT",
    "outputId": "0cd786de-e167-49a0-c23a-d1330ca03c03"
   },
   "outputs": [
    {
     "data": {
      "text/html": [
       "<div>\n",
       "<style scoped>\n",
       "    .dataframe tbody tr th:only-of-type {\n",
       "        vertical-align: middle;\n",
       "    }\n",
       "\n",
       "    .dataframe tbody tr th {\n",
       "        vertical-align: top;\n",
       "    }\n",
       "\n",
       "    .dataframe thead th {\n",
       "        text-align: right;\n",
       "    }\n",
       "</style>\n",
       "<table border=\"1\" class=\"dataframe\">\n",
       "  <thead>\n",
       "    <tr style=\"text-align: right;\">\n",
       "      <th></th>\n",
       "      <th>Available Extra Rooms in Hospital</th>\n",
       "      <th>staff_available</th>\n",
       "      <th>patientid</th>\n",
       "      <th>Visitors with Patient</th>\n",
       "      <th>Admission_Deposit</th>\n",
       "      <th>Stay (in days)</th>\n",
       "      <th>Department_anesthesia</th>\n",
       "      <th>Department_gynecology</th>\n",
       "      <th>Department_radiotherapy</th>\n",
       "      <th>Department_surgery</th>\n",
       "      <th>Ward_Facility_Code_B</th>\n",
       "      <th>Ward_Facility_Code_C</th>\n",
       "      <th>Ward_Facility_Code_D</th>\n",
       "      <th>Ward_Facility_Code_E</th>\n",
       "      <th>Ward_Facility_Code_F</th>\n",
       "      <th>doctor_name_Dr John</th>\n",
       "      <th>doctor_name_Dr Mark</th>\n",
       "      <th>doctor_name_Dr Nathan</th>\n",
       "      <th>doctor_name_Dr Olivia</th>\n",
       "      <th>doctor_name_Dr Sam</th>\n",
       "      <th>doctor_name_Dr Sarah</th>\n",
       "      <th>doctor_name_Dr Simon</th>\n",
       "      <th>doctor_name_Dr Sophia</th>\n",
       "      <th>Age_11-20</th>\n",
       "      <th>Age_21-30</th>\n",
       "      <th>Age_31-40</th>\n",
       "      <th>Age_41-50</th>\n",
       "      <th>Age_51-60</th>\n",
       "      <th>Age_61-70</th>\n",
       "      <th>Age_71-80</th>\n",
       "      <th>Age_81-90</th>\n",
       "      <th>Age_91-100</th>\n",
       "      <th>gender_Male</th>\n",
       "      <th>gender_Other</th>\n",
       "      <th>Type of Admission_Trauma</th>\n",
       "      <th>Type of Admission_Urgent</th>\n",
       "      <th>Severity of Illness_Minor</th>\n",
       "      <th>Severity of Illness_Moderate</th>\n",
       "      <th>health_conditions_Diabetes</th>\n",
       "      <th>health_conditions_Heart disease</th>\n",
       "      <th>health_conditions_High Blood Pressure</th>\n",
       "      <th>health_conditions_None</th>\n",
       "      <th>health_conditions_Other</th>\n",
       "      <th>Insurance_Yes</th>\n",
       "    </tr>\n",
       "  </thead>\n",
       "  <tbody>\n",
       "    <tr>\n",
       "      <th>0</th>\n",
       "      <td>4</td>\n",
       "      <td>0</td>\n",
       "      <td>33070</td>\n",
       "      <td>4</td>\n",
       "      <td>2966.408696</td>\n",
       "      <td>8</td>\n",
       "      <td>0</td>\n",
       "      <td>1</td>\n",
       "      <td>0</td>\n",
       "      <td>0</td>\n",
       "      <td>0</td>\n",
       "      <td>0</td>\n",
       "      <td>1</td>\n",
       "      <td>0</td>\n",
       "      <td>0</td>\n",
       "      <td>0</td>\n",
       "      <td>0</td>\n",
       "      <td>0</td>\n",
       "      <td>0</td>\n",
       "      <td>0</td>\n",
       "      <td>0</td>\n",
       "      <td>0</td>\n",
       "      <td>1</td>\n",
       "      <td>0</td>\n",
       "      <td>0</td>\n",
       "      <td>0</td>\n",
       "      <td>1</td>\n",
       "      <td>0</td>\n",
       "      <td>0</td>\n",
       "      <td>0</td>\n",
       "      <td>0</td>\n",
       "      <td>0</td>\n",
       "      <td>0</td>\n",
       "      <td>0</td>\n",
       "      <td>1</td>\n",
       "      <td>0</td>\n",
       "      <td>0</td>\n",
       "      <td>0</td>\n",
       "      <td>1</td>\n",
       "      <td>0</td>\n",
       "      <td>0</td>\n",
       "      <td>0</td>\n",
       "      <td>0</td>\n",
       "      <td>1</td>\n",
       "    </tr>\n",
       "    <tr>\n",
       "      <th>1</th>\n",
       "      <td>4</td>\n",
       "      <td>2</td>\n",
       "      <td>34808</td>\n",
       "      <td>2</td>\n",
       "      <td>3554.835677</td>\n",
       "      <td>9</td>\n",
       "      <td>0</td>\n",
       "      <td>1</td>\n",
       "      <td>0</td>\n",
       "      <td>0</td>\n",
       "      <td>1</td>\n",
       "      <td>0</td>\n",
       "      <td>0</td>\n",
       "      <td>0</td>\n",
       "      <td>0</td>\n",
       "      <td>0</td>\n",
       "      <td>0</td>\n",
       "      <td>0</td>\n",
       "      <td>0</td>\n",
       "      <td>0</td>\n",
       "      <td>0</td>\n",
       "      <td>0</td>\n",
       "      <td>1</td>\n",
       "      <td>0</td>\n",
       "      <td>0</td>\n",
       "      <td>1</td>\n",
       "      <td>0</td>\n",
       "      <td>0</td>\n",
       "      <td>0</td>\n",
       "      <td>0</td>\n",
       "      <td>0</td>\n",
       "      <td>0</td>\n",
       "      <td>0</td>\n",
       "      <td>0</td>\n",
       "      <td>1</td>\n",
       "      <td>0</td>\n",
       "      <td>1</td>\n",
       "      <td>0</td>\n",
       "      <td>0</td>\n",
       "      <td>1</td>\n",
       "      <td>0</td>\n",
       "      <td>0</td>\n",
       "      <td>0</td>\n",
       "      <td>0</td>\n",
       "    </tr>\n",
       "    <tr>\n",
       "      <th>2</th>\n",
       "      <td>2</td>\n",
       "      <td>8</td>\n",
       "      <td>44577</td>\n",
       "      <td>2</td>\n",
       "      <td>5624.733654</td>\n",
       "      <td>7</td>\n",
       "      <td>0</td>\n",
       "      <td>1</td>\n",
       "      <td>0</td>\n",
       "      <td>0</td>\n",
       "      <td>1</td>\n",
       "      <td>0</td>\n",
       "      <td>0</td>\n",
       "      <td>0</td>\n",
       "      <td>0</td>\n",
       "      <td>0</td>\n",
       "      <td>0</td>\n",
       "      <td>0</td>\n",
       "      <td>0</td>\n",
       "      <td>0</td>\n",
       "      <td>0</td>\n",
       "      <td>0</td>\n",
       "      <td>1</td>\n",
       "      <td>0</td>\n",
       "      <td>1</td>\n",
       "      <td>0</td>\n",
       "      <td>0</td>\n",
       "      <td>0</td>\n",
       "      <td>0</td>\n",
       "      <td>0</td>\n",
       "      <td>0</td>\n",
       "      <td>0</td>\n",
       "      <td>0</td>\n",
       "      <td>0</td>\n",
       "      <td>1</td>\n",
       "      <td>0</td>\n",
       "      <td>0</td>\n",
       "      <td>0</td>\n",
       "      <td>1</td>\n",
       "      <td>0</td>\n",
       "      <td>0</td>\n",
       "      <td>0</td>\n",
       "      <td>0</td>\n",
       "      <td>1</td>\n",
       "    </tr>\n",
       "    <tr>\n",
       "      <th>3</th>\n",
       "      <td>4</td>\n",
       "      <td>7</td>\n",
       "      <td>3695</td>\n",
       "      <td>4</td>\n",
       "      <td>4814.149231</td>\n",
       "      <td>8</td>\n",
       "      <td>0</td>\n",
       "      <td>1</td>\n",
       "      <td>0</td>\n",
       "      <td>0</td>\n",
       "      <td>0</td>\n",
       "      <td>0</td>\n",
       "      <td>1</td>\n",
       "      <td>0</td>\n",
       "      <td>0</td>\n",
       "      <td>0</td>\n",
       "      <td>0</td>\n",
       "      <td>0</td>\n",
       "      <td>1</td>\n",
       "      <td>0</td>\n",
       "      <td>0</td>\n",
       "      <td>0</td>\n",
       "      <td>0</td>\n",
       "      <td>0</td>\n",
       "      <td>0</td>\n",
       "      <td>1</td>\n",
       "      <td>0</td>\n",
       "      <td>0</td>\n",
       "      <td>0</td>\n",
       "      <td>0</td>\n",
       "      <td>0</td>\n",
       "      <td>0</td>\n",
       "      <td>0</td>\n",
       "      <td>0</td>\n",
       "      <td>0</td>\n",
       "      <td>1</td>\n",
       "      <td>0</td>\n",
       "      <td>1</td>\n",
       "      <td>0</td>\n",
       "      <td>0</td>\n",
       "      <td>0</td>\n",
       "      <td>1</td>\n",
       "      <td>0</td>\n",
       "      <td>0</td>\n",
       "    </tr>\n",
       "    <tr>\n",
       "      <th>4</th>\n",
       "      <td>2</td>\n",
       "      <td>10</td>\n",
       "      <td>108956</td>\n",
       "      <td>2</td>\n",
       "      <td>5169.269637</td>\n",
       "      <td>34</td>\n",
       "      <td>1</td>\n",
       "      <td>0</td>\n",
       "      <td>0</td>\n",
       "      <td>0</td>\n",
       "      <td>0</td>\n",
       "      <td>0</td>\n",
       "      <td>0</td>\n",
       "      <td>1</td>\n",
       "      <td>0</td>\n",
       "      <td>0</td>\n",
       "      <td>1</td>\n",
       "      <td>0</td>\n",
       "      <td>0</td>\n",
       "      <td>0</td>\n",
       "      <td>0</td>\n",
       "      <td>0</td>\n",
       "      <td>0</td>\n",
       "      <td>0</td>\n",
       "      <td>0</td>\n",
       "      <td>0</td>\n",
       "      <td>0</td>\n",
       "      <td>0</td>\n",
       "      <td>0</td>\n",
       "      <td>1</td>\n",
       "      <td>0</td>\n",
       "      <td>0</td>\n",
       "      <td>1</td>\n",
       "      <td>0</td>\n",
       "      <td>1</td>\n",
       "      <td>0</td>\n",
       "      <td>0</td>\n",
       "      <td>1</td>\n",
       "      <td>1</td>\n",
       "      <td>0</td>\n",
       "      <td>0</td>\n",
       "      <td>0</td>\n",
       "      <td>0</td>\n",
       "      <td>0</td>\n",
       "    </tr>\n",
       "    <tr>\n",
       "      <th>...</th>\n",
       "      <td>...</td>\n",
       "      <td>...</td>\n",
       "      <td>...</td>\n",
       "      <td>...</td>\n",
       "      <td>...</td>\n",
       "      <td>...</td>\n",
       "      <td>...</td>\n",
       "      <td>...</td>\n",
       "      <td>...</td>\n",
       "      <td>...</td>\n",
       "      <td>...</td>\n",
       "      <td>...</td>\n",
       "      <td>...</td>\n",
       "      <td>...</td>\n",
       "      <td>...</td>\n",
       "      <td>...</td>\n",
       "      <td>...</td>\n",
       "      <td>...</td>\n",
       "      <td>...</td>\n",
       "      <td>...</td>\n",
       "      <td>...</td>\n",
       "      <td>...</td>\n",
       "      <td>...</td>\n",
       "      <td>...</td>\n",
       "      <td>...</td>\n",
       "      <td>...</td>\n",
       "      <td>...</td>\n",
       "      <td>...</td>\n",
       "      <td>...</td>\n",
       "      <td>...</td>\n",
       "      <td>...</td>\n",
       "      <td>...</td>\n",
       "      <td>...</td>\n",
       "      <td>...</td>\n",
       "      <td>...</td>\n",
       "      <td>...</td>\n",
       "      <td>...</td>\n",
       "      <td>...</td>\n",
       "      <td>...</td>\n",
       "      <td>...</td>\n",
       "      <td>...</td>\n",
       "      <td>...</td>\n",
       "      <td>...</td>\n",
       "      <td>...</td>\n",
       "    </tr>\n",
       "    <tr>\n",
       "      <th>499995</th>\n",
       "      <td>4</td>\n",
       "      <td>2</td>\n",
       "      <td>43001</td>\n",
       "      <td>3</td>\n",
       "      <td>4105.795901</td>\n",
       "      <td>10</td>\n",
       "      <td>0</td>\n",
       "      <td>1</td>\n",
       "      <td>0</td>\n",
       "      <td>0</td>\n",
       "      <td>0</td>\n",
       "      <td>0</td>\n",
       "      <td>0</td>\n",
       "      <td>0</td>\n",
       "      <td>1</td>\n",
       "      <td>0</td>\n",
       "      <td>0</td>\n",
       "      <td>0</td>\n",
       "      <td>0</td>\n",
       "      <td>0</td>\n",
       "      <td>1</td>\n",
       "      <td>0</td>\n",
       "      <td>0</td>\n",
       "      <td>1</td>\n",
       "      <td>0</td>\n",
       "      <td>0</td>\n",
       "      <td>0</td>\n",
       "      <td>0</td>\n",
       "      <td>0</td>\n",
       "      <td>0</td>\n",
       "      <td>0</td>\n",
       "      <td>0</td>\n",
       "      <td>0</td>\n",
       "      <td>0</td>\n",
       "      <td>1</td>\n",
       "      <td>0</td>\n",
       "      <td>1</td>\n",
       "      <td>0</td>\n",
       "      <td>0</td>\n",
       "      <td>0</td>\n",
       "      <td>1</td>\n",
       "      <td>0</td>\n",
       "      <td>0</td>\n",
       "      <td>0</td>\n",
       "    </tr>\n",
       "    <tr>\n",
       "      <th>499996</th>\n",
       "      <td>13</td>\n",
       "      <td>8</td>\n",
       "      <td>85601</td>\n",
       "      <td>2</td>\n",
       "      <td>4631.550257</td>\n",
       "      <td>11</td>\n",
       "      <td>0</td>\n",
       "      <td>1</td>\n",
       "      <td>0</td>\n",
       "      <td>0</td>\n",
       "      <td>0</td>\n",
       "      <td>0</td>\n",
       "      <td>0</td>\n",
       "      <td>0</td>\n",
       "      <td>1</td>\n",
       "      <td>0</td>\n",
       "      <td>0</td>\n",
       "      <td>0</td>\n",
       "      <td>1</td>\n",
       "      <td>0</td>\n",
       "      <td>0</td>\n",
       "      <td>0</td>\n",
       "      <td>0</td>\n",
       "      <td>0</td>\n",
       "      <td>0</td>\n",
       "      <td>1</td>\n",
       "      <td>0</td>\n",
       "      <td>0</td>\n",
       "      <td>0</td>\n",
       "      <td>0</td>\n",
       "      <td>0</td>\n",
       "      <td>0</td>\n",
       "      <td>0</td>\n",
       "      <td>0</td>\n",
       "      <td>0</td>\n",
       "      <td>0</td>\n",
       "      <td>0</td>\n",
       "      <td>1</td>\n",
       "      <td>0</td>\n",
       "      <td>0</td>\n",
       "      <td>0</td>\n",
       "      <td>0</td>\n",
       "      <td>1</td>\n",
       "      <td>0</td>\n",
       "    </tr>\n",
       "    <tr>\n",
       "      <th>499997</th>\n",
       "      <td>2</td>\n",
       "      <td>3</td>\n",
       "      <td>22447</td>\n",
       "      <td>2</td>\n",
       "      <td>5456.930075</td>\n",
       "      <td>8</td>\n",
       "      <td>0</td>\n",
       "      <td>1</td>\n",
       "      <td>0</td>\n",
       "      <td>0</td>\n",
       "      <td>1</td>\n",
       "      <td>0</td>\n",
       "      <td>0</td>\n",
       "      <td>0</td>\n",
       "      <td>0</td>\n",
       "      <td>0</td>\n",
       "      <td>0</td>\n",
       "      <td>0</td>\n",
       "      <td>0</td>\n",
       "      <td>0</td>\n",
       "      <td>1</td>\n",
       "      <td>0</td>\n",
       "      <td>0</td>\n",
       "      <td>1</td>\n",
       "      <td>0</td>\n",
       "      <td>0</td>\n",
       "      <td>0</td>\n",
       "      <td>0</td>\n",
       "      <td>0</td>\n",
       "      <td>0</td>\n",
       "      <td>0</td>\n",
       "      <td>0</td>\n",
       "      <td>0</td>\n",
       "      <td>0</td>\n",
       "      <td>0</td>\n",
       "      <td>0</td>\n",
       "      <td>0</td>\n",
       "      <td>1</td>\n",
       "      <td>0</td>\n",
       "      <td>0</td>\n",
       "      <td>1</td>\n",
       "      <td>0</td>\n",
       "      <td>0</td>\n",
       "      <td>0</td>\n",
       "    </tr>\n",
       "    <tr>\n",
       "      <th>499998</th>\n",
       "      <td>2</td>\n",
       "      <td>1</td>\n",
       "      <td>29957</td>\n",
       "      <td>2</td>\n",
       "      <td>4694.127772</td>\n",
       "      <td>23</td>\n",
       "      <td>0</td>\n",
       "      <td>0</td>\n",
       "      <td>1</td>\n",
       "      <td>0</td>\n",
       "      <td>0</td>\n",
       "      <td>0</td>\n",
       "      <td>0</td>\n",
       "      <td>0</td>\n",
       "      <td>0</td>\n",
       "      <td>1</td>\n",
       "      <td>0</td>\n",
       "      <td>0</td>\n",
       "      <td>0</td>\n",
       "      <td>0</td>\n",
       "      <td>0</td>\n",
       "      <td>0</td>\n",
       "      <td>0</td>\n",
       "      <td>0</td>\n",
       "      <td>0</td>\n",
       "      <td>0</td>\n",
       "      <td>0</td>\n",
       "      <td>0</td>\n",
       "      <td>1</td>\n",
       "      <td>0</td>\n",
       "      <td>0</td>\n",
       "      <td>0</td>\n",
       "      <td>0</td>\n",
       "      <td>0</td>\n",
       "      <td>1</td>\n",
       "      <td>0</td>\n",
       "      <td>0</td>\n",
       "      <td>0</td>\n",
       "      <td>1</td>\n",
       "      <td>0</td>\n",
       "      <td>0</td>\n",
       "      <td>0</td>\n",
       "      <td>0</td>\n",
       "      <td>0</td>\n",
       "    </tr>\n",
       "    <tr>\n",
       "      <th>499999</th>\n",
       "      <td>3</td>\n",
       "      <td>3</td>\n",
       "      <td>45008</td>\n",
       "      <td>4</td>\n",
       "      <td>4713.868519</td>\n",
       "      <td>10</td>\n",
       "      <td>0</td>\n",
       "      <td>1</td>\n",
       "      <td>0</td>\n",
       "      <td>0</td>\n",
       "      <td>0</td>\n",
       "      <td>0</td>\n",
       "      <td>0</td>\n",
       "      <td>0</td>\n",
       "      <td>1</td>\n",
       "      <td>0</td>\n",
       "      <td>0</td>\n",
       "      <td>0</td>\n",
       "      <td>0</td>\n",
       "      <td>0</td>\n",
       "      <td>0</td>\n",
       "      <td>0</td>\n",
       "      <td>1</td>\n",
       "      <td>0</td>\n",
       "      <td>0</td>\n",
       "      <td>0</td>\n",
       "      <td>1</td>\n",
       "      <td>0</td>\n",
       "      <td>0</td>\n",
       "      <td>0</td>\n",
       "      <td>0</td>\n",
       "      <td>0</td>\n",
       "      <td>0</td>\n",
       "      <td>0</td>\n",
       "      <td>1</td>\n",
       "      <td>0</td>\n",
       "      <td>0</td>\n",
       "      <td>1</td>\n",
       "      <td>0</td>\n",
       "      <td>1</td>\n",
       "      <td>0</td>\n",
       "      <td>0</td>\n",
       "      <td>0</td>\n",
       "      <td>1</td>\n",
       "    </tr>\n",
       "  </tbody>\n",
       "</table>\n",
       "<p>500000 rows × 44 columns</p>\n",
       "</div>"
      ],
      "text/plain": [
       "        Available Extra Rooms in Hospital  staff_available  patientid  \\\n",
       "0                                       4                0      33070   \n",
       "1                                       4                2      34808   \n",
       "2                                       2                8      44577   \n",
       "3                                       4                7       3695   \n",
       "4                                       2               10     108956   \n",
       "...                                   ...              ...        ...   \n",
       "499995                                  4                2      43001   \n",
       "499996                                 13                8      85601   \n",
       "499997                                  2                3      22447   \n",
       "499998                                  2                1      29957   \n",
       "499999                                  3                3      45008   \n",
       "\n",
       "        Visitors with Patient  Admission_Deposit  Stay (in days)  \\\n",
       "0                           4        2966.408696               8   \n",
       "1                           2        3554.835677               9   \n",
       "2                           2        5624.733654               7   \n",
       "3                           4        4814.149231               8   \n",
       "4                           2        5169.269637              34   \n",
       "...                       ...                ...             ...   \n",
       "499995                      3        4105.795901              10   \n",
       "499996                      2        4631.550257              11   \n",
       "499997                      2        5456.930075               8   \n",
       "499998                      2        4694.127772              23   \n",
       "499999                      4        4713.868519              10   \n",
       "\n",
       "        Department_anesthesia  Department_gynecology  Department_radiotherapy  \\\n",
       "0                           0                      1                        0   \n",
       "1                           0                      1                        0   \n",
       "2                           0                      1                        0   \n",
       "3                           0                      1                        0   \n",
       "4                           1                      0                        0   \n",
       "...                       ...                    ...                      ...   \n",
       "499995                      0                      1                        0   \n",
       "499996                      0                      1                        0   \n",
       "499997                      0                      1                        0   \n",
       "499998                      0                      0                        1   \n",
       "499999                      0                      1                        0   \n",
       "\n",
       "        Department_surgery  Ward_Facility_Code_B  Ward_Facility_Code_C  \\\n",
       "0                        0                     0                     0   \n",
       "1                        0                     1                     0   \n",
       "2                        0                     1                     0   \n",
       "3                        0                     0                     0   \n",
       "4                        0                     0                     0   \n",
       "...                    ...                   ...                   ...   \n",
       "499995                   0                     0                     0   \n",
       "499996                   0                     0                     0   \n",
       "499997                   0                     1                     0   \n",
       "499998                   0                     0                     0   \n",
       "499999                   0                     0                     0   \n",
       "\n",
       "        Ward_Facility_Code_D  Ward_Facility_Code_E  Ward_Facility_Code_F  \\\n",
       "0                          1                     0                     0   \n",
       "1                          0                     0                     0   \n",
       "2                          0                     0                     0   \n",
       "3                          1                     0                     0   \n",
       "4                          0                     1                     0   \n",
       "...                      ...                   ...                   ...   \n",
       "499995                     0                     0                     1   \n",
       "499996                     0                     0                     1   \n",
       "499997                     0                     0                     0   \n",
       "499998                     0                     0                     0   \n",
       "499999                     0                     0                     1   \n",
       "\n",
       "        doctor_name_Dr John  doctor_name_Dr Mark  doctor_name_Dr Nathan  \\\n",
       "0                         0                    0                      0   \n",
       "1                         0                    0                      0   \n",
       "2                         0                    0                      0   \n",
       "3                         0                    0                      0   \n",
       "4                         0                    1                      0   \n",
       "...                     ...                  ...                    ...   \n",
       "499995                    0                    0                      0   \n",
       "499996                    0                    0                      0   \n",
       "499997                    0                    0                      0   \n",
       "499998                    1                    0                      0   \n",
       "499999                    0                    0                      0   \n",
       "\n",
       "        doctor_name_Dr Olivia  doctor_name_Dr Sam  doctor_name_Dr Sarah  \\\n",
       "0                           0                   0                     0   \n",
       "1                           0                   0                     0   \n",
       "2                           0                   0                     0   \n",
       "3                           1                   0                     0   \n",
       "4                           0                   0                     0   \n",
       "...                       ...                 ...                   ...   \n",
       "499995                      0                   0                     1   \n",
       "499996                      1                   0                     0   \n",
       "499997                      0                   0                     1   \n",
       "499998                      0                   0                     0   \n",
       "499999                      0                   0                     0   \n",
       "\n",
       "        doctor_name_Dr Simon  doctor_name_Dr Sophia  Age_11-20  Age_21-30  \\\n",
       "0                          0                      1          0          0   \n",
       "1                          0                      1          0          0   \n",
       "2                          0                      1          0          1   \n",
       "3                          0                      0          0          0   \n",
       "4                          0                      0          0          0   \n",
       "...                      ...                    ...        ...        ...   \n",
       "499995                     0                      0          1          0   \n",
       "499996                     0                      0          0          0   \n",
       "499997                     0                      0          1          0   \n",
       "499998                     0                      0          0          0   \n",
       "499999                     0                      1          0          0   \n",
       "\n",
       "        Age_31-40  Age_41-50  Age_51-60  Age_61-70  Age_71-80  Age_81-90  \\\n",
       "0               0          1          0          0          0          0   \n",
       "1               1          0          0          0          0          0   \n",
       "2               0          0          0          0          0          0   \n",
       "3               1          0          0          0          0          0   \n",
       "4               0          0          0          0          1          0   \n",
       "...           ...        ...        ...        ...        ...        ...   \n",
       "499995          0          0          0          0          0          0   \n",
       "499996          1          0          0          0          0          0   \n",
       "499997          0          0          0          0          0          0   \n",
       "499998          0          0          0          1          0          0   \n",
       "499999          0          1          0          0          0          0   \n",
       "\n",
       "        Age_91-100  gender_Male  gender_Other  Type of Admission_Trauma  \\\n",
       "0                0            0             0                         1   \n",
       "1                0            0             0                         1   \n",
       "2                0            0             0                         1   \n",
       "3                0            0             0                         0   \n",
       "4                0            1             0                         1   \n",
       "...            ...          ...           ...                       ...   \n",
       "499995           0            0             0                         1   \n",
       "499996           0            0             0                         0   \n",
       "499997           0            0             0                         0   \n",
       "499998           0            0             0                         1   \n",
       "499999           0            0             0                         1   \n",
       "\n",
       "        Type of Admission_Urgent  Severity of Illness_Minor  \\\n",
       "0                              0                          0   \n",
       "1                              0                          1   \n",
       "2                              0                          0   \n",
       "3                              1                          0   \n",
       "4                              0                          0   \n",
       "...                          ...                        ...   \n",
       "499995                         0                          1   \n",
       "499996                         0                          0   \n",
       "499997                         0                          0   \n",
       "499998                         0                          0   \n",
       "499999                         0                          0   \n",
       "\n",
       "        Severity of Illness_Moderate  health_conditions_Diabetes  \\\n",
       "0                                  0                           1   \n",
       "1                                  0                           0   \n",
       "2                                  0                           1   \n",
       "3                                  1                           0   \n",
       "4                                  1                           1   \n",
       "...                              ...                         ...   \n",
       "499995                             0                           0   \n",
       "499996                             1                           0   \n",
       "499997                             1                           0   \n",
       "499998                             0                           1   \n",
       "499999                             1                           0   \n",
       "\n",
       "        health_conditions_Heart disease  \\\n",
       "0                                     0   \n",
       "1                                     1   \n",
       "2                                     0   \n",
       "3                                     0   \n",
       "4                                     0   \n",
       "...                                 ...   \n",
       "499995                                0   \n",
       "499996                                0   \n",
       "499997                                0   \n",
       "499998                                0   \n",
       "499999                                1   \n",
       "\n",
       "        health_conditions_High Blood Pressure  health_conditions_None  \\\n",
       "0                                           0                       0   \n",
       "1                                           0                       0   \n",
       "2                                           0                       0   \n",
       "3                                           0                       1   \n",
       "4                                           0                       0   \n",
       "...                                       ...                     ...   \n",
       "499995                                      1                       0   \n",
       "499996                                      0                       0   \n",
       "499997                                      1                       0   \n",
       "499998                                      0                       0   \n",
       "499999                                      0                       0   \n",
       "\n",
       "        health_conditions_Other  Insurance_Yes  \n",
       "0                             0              1  \n",
       "1                             0              0  \n",
       "2                             0              1  \n",
       "3                             0              0  \n",
       "4                             0              0  \n",
       "...                         ...            ...  \n",
       "499995                        0              0  \n",
       "499996                        1              0  \n",
       "499997                        0              0  \n",
       "499998                        0              0  \n",
       "499999                        0              1  \n",
       "\n",
       "[500000 rows x 44 columns]"
      ]
     },
     "execution_count": 23,
     "metadata": {},
     "output_type": "execute_result"
    }
   ],
   "source": [
    "# Checking the data after handling categorical data\n",
    "data"
   ]
  },
  {
   "cell_type": "code",
   "execution_count": 24,
   "id": "09fa7d38",
   "metadata": {
    "id": "HM40YACV7O5j"
   },
   "outputs": [],
   "source": [
    "# Dropping patientid from the data as it is an identifier and will not add value to the model\n",
    "\n",
    "data = data.drop(columns = [\"patientid\"])"
   ]
  },
  {
   "cell_type": "code",
   "execution_count": 25,
   "id": "d150a4ef",
   "metadata": {
    "id": "CpnezOEgjQY7"
   },
   "outputs": [],
   "source": [
    "# Separating independent variables and the target variable\n",
    "x = data.drop('Stay (in days)',axis = 1)\n",
    "\n",
    "y = data['Stay (in days)'] "
   ]
  },
  {
   "cell_type": "code",
   "execution_count": 26,
   "id": "4d5b80aa",
   "metadata": {
    "id": "KTg4-p8-9EO7"
   },
   "outputs": [],
   "source": [
    "# Splitting the dataset into train and test datasets\n",
    "\n",
    "x_train, x_test, y_train, y_test = train_test_split(x, y, test_size = 0.2, shuffle = True, random_state = 1)"
   ]
  },
  {
   "cell_type": "code",
   "execution_count": 27,
   "id": "6edb4d9a",
   "metadata": {
    "colab": {
     "base_uri": "https://localhost:8080/"
    },
    "id": "rEG6Rs2wjVrO",
    "outputId": "0c5baeda-a8b2-4246-b50d-2eb98af09a00"
   },
   "outputs": [
    {
     "name": "stdout",
     "output_type": "stream",
     "text": [
      "Shape of Training set :  (400000, 42)\n",
      "Shape of test set :  (100000, 42)\n"
     ]
    }
   ],
   "source": [
    "# Checking the shape of the train and the test data\n",
    "\n",
    "print(\"Shape of Training set : \", x_train.shape)\n",
    "\n",
    "print(\"Shape of test set : \", x_test.shape)"
   ]
  },
  {
   "cell_type": "markdown",
   "id": "1ad5517c",
   "metadata": {
    "id": "wwDclxhA8ply"
   },
   "source": [
    "## **Model Building**"
   ]
  },
  {
   "cell_type": "markdown",
   "id": "b9ec12e1",
   "metadata": {
    "id": "SH1_ef6jSVcD"
   },
   "source": [
    "* We will be using different metrics functions defined in sklearn like RMSE, MAE, and 𝑅2 for regression model evaluation.\n",
    "* We will define a function to calculate MAPE and the adjusted 𝑅2.\n",
    "* The mean absolute percentage error (MAPE) measures the accuracy of predictions as a percentage and can be calculated as the average absolute percent error for each predicted value minus the actual value divided by the actual value. It works best if there are no extreme values in the data and none of the actual values are 0."
   ]
  },
  {
   "cell_type": "code",
   "execution_count": 28,
   "id": "02c1cf20",
   "metadata": {
    "id": "v4s83hAM9I8X"
   },
   "outputs": [],
   "source": [
    "# Function to compute the adjusted R-squared\n",
    "def adj_r2_score(predictors, targets, predictions):\n",
    "    \n",
    "    r2 = r2_score(targets, predictions)\n",
    "    \n",
    "    n = predictors.shape[0]\n",
    "    \n",
    "    k = predictors.shape[1]\n",
    "    \n",
    "    return 1 - ((1 - r2) * (n - 1) / (n - k - 1))\n",
    "\n",
    "\n",
    "# Function to compute MAPE\n",
    "\n",
    "def mape_score(targets, predictions):\n",
    "    \n",
    "    return np.mean(np.abs(targets - predictions) / targets) * 100\n",
    "\n",
    "\n",
    "# Function to compute different metrics to check performance of a regression model\n",
    "def model_performance_regression(model, predictors, target):\n",
    "    \"\"\"\n",
    "    Function to compute different metrics to check regression model performance\n",
    "\n",
    "    model: regressor\n",
    "    \n",
    "    predictors: independent variables\n",
    "    \n",
    "    target: dependent variable\n",
    "    \"\"\"\n",
    "\n",
    "    # Predicting using the independent variables\n",
    "    pred = model.predict(predictors)\n",
    "\n",
    "    r2 = r2_score(target, pred)                      # To compute R-squared\n",
    "    \n",
    "    adjr2 = adj_r2_score(predictors, target, pred)   # To compute adjusted R-squared\n",
    "    \n",
    "    rmse = np.sqrt(mean_squared_error(target, pred)) # To compute RMSE\n",
    "    \n",
    "    mae = mean_absolute_error(target, pred)          # To compute MAE\n",
    "    \n",
    "    mape = mape_score(target, pred)                  # To compute MAPE\n",
    "\n",
    "    # Creating a dataframe of metrics\n",
    "    \n",
    "    df_perf = pd.DataFrame(\n",
    "        {\n",
    "            \"RMSE\":  rmse,\n",
    "            \"MAE\":  mae,\n",
    "            \"R-squared\": r2,\n",
    "            \"Adj. R-squared\": adjr2,\n",
    "            \"MAPE\": mape,\n",
    "        },\n",
    "        \n",
    "        index = [0],\n",
    "    )\n",
    "\n",
    "    return df_perf"
   ]
  },
  {
   "cell_type": "code",
   "execution_count": 29,
   "id": "66dd7900",
   "metadata": {
    "id": "6gmJkAMv2pMK"
   },
   "outputs": [],
   "source": [
    "# RMSE\n",
    "def rmse(predictions, targets):\n",
    "    return np.sqrt(((targets - predictions) ** 2).mean())\n",
    "\n",
    "\n",
    "# MAPE\n",
    "def mape(predictions, targets):\n",
    "    return np.mean(np.abs((targets - predictions)) / targets) * 100\n",
    "\n",
    "\n",
    "# MAE\n",
    "def mae(predictions, targets):\n",
    "    return np.mean(np.abs((targets - predictions)))\n",
    "\n",
    "\n",
    "# Model performance on the test and the train data\n",
    "\n",
    "def model_pref(olsmodel, x_train, x_test, y_train,y_test):\n",
    "\n",
    "    # Prediction on the training data\n",
    "    y_pred_train = olsmodel.predict(x_train)\n",
    "    y_observed_train = y_train\n",
    "\n",
    "    # Prediction on the test data\n",
    "    y_pred_test = olsmodel.predict(x_test)\n",
    "    y_observed_test = y_test\n",
    "\n",
    "    print(\n",
    "        pd.DataFrame(\n",
    "            {\n",
    "                \"Data\": [\"Train\", \"Test\"],\n",
    "                \"RMSE\": [\n",
    "                    rmse(y_pred_train, y_observed_train),\n",
    "                    rmse(y_pred_test, y_observed_test),\n",
    "                ],\n",
    "                \n",
    "                \"MAE\": [\n",
    "                    mae(y_pred_train, y_observed_train),\n",
    "                    mae(y_pred_test, y_observed_test),\n",
    "                ],\n",
    "                \n",
    "                \"MAPE\": [\n",
    "                    mape(y_pred_train, y_observed_train),\n",
    "                    mape(y_pred_test, y_observed_test),\n",
    "                ],\n",
    "            }\n",
    "        )\n",
    "    ) "
   ]
  },
  {
   "cell_type": "code",
   "execution_count": 30,
   "id": "5ab45e10",
   "metadata": {
    "id": "HeLDFrO32pML",
    "outputId": "7b5d939c-c289-4e5d-f4f4-db97bc7a23fc",
    "scrolled": false
   },
   "outputs": [
    {
     "name": "stdout",
     "output_type": "stream",
     "text": [
      "                            OLS Regression Results                            \n",
      "==============================================================================\n",
      "Dep. Variable:         Stay (in days)   R-squared:                       0.843\n",
      "Model:                            OLS   Adj. R-squared:                  0.843\n",
      "Method:                 Least Squares   F-statistic:                 5.643e+04\n",
      "Date:                Fri, 29 Apr 2022   Prob (F-statistic):               0.00\n",
      "Time:                        18:30:58   Log-Likelihood:            -1.0246e+06\n",
      "No. Observations:              400000   AIC:                         2.049e+06\n",
      "Df Residuals:                  399961   BIC:                         2.050e+06\n",
      "Df Model:                          38                                         \n",
      "Covariance Type:            nonrobust                                         \n",
      "=========================================================================================================\n",
      "                                            coef    std err          t      P>|t|      [0.025      0.975]\n",
      "---------------------------------------------------------------------------------------------------------\n",
      "const                                    19.8918      0.055    359.659      0.000      19.783      20.000\n",
      "Available Extra Rooms in Hospital         0.0786      0.002     42.311      0.000       0.075       0.082\n",
      "staff_available                          -0.0009      0.002     -0.588      0.557      -0.004       0.002\n",
      "Visitors with Patient                     0.0002      0.002      0.099      0.921      -0.004       0.005\n",
      "Admission_Deposit                     -3.839e-05   4.78e-06     -8.029      0.000   -4.78e-05    -2.9e-05\n",
      "Department_anesthesia                     6.0823      0.029    210.110      0.000       6.026       6.139\n",
      "Department_gynecology                     0.4635      0.019     24.149      0.000       0.426       0.501\n",
      "Department_radiotherapy                  -4.6217      0.037   -126.135      0.000      -4.693      -4.550\n",
      "Department_surgery                        9.6867      0.044    218.475      0.000       9.600       9.774\n",
      "Ward_Facility_Code_B                      0.2571      0.011     23.468      0.000       0.236       0.279\n",
      "Ward_Facility_Code_C                      0.4349      0.035     12.604      0.000       0.367       0.503\n",
      "Ward_Facility_Code_D                      0.2033      0.011     19.313      0.000       0.183       0.224\n",
      "Ward_Facility_Code_E                      0.3087      0.021     14.409      0.000       0.267       0.351\n",
      "Ward_Facility_Code_F                      0.0031      0.011      0.282      0.778      -0.018       0.025\n",
      "doctor_name_Dr John                       7.2631      0.031    232.919      0.000       7.202       7.324\n",
      "doctor_name_Dr Mark                       1.1949      0.033     36.394      0.000       1.131       1.259\n",
      "doctor_name_Dr Nathan                    -0.2164      0.017    -12.662      0.000      -0.250      -0.183\n",
      "doctor_name_Dr Olivia                    -0.3620      0.016    -22.985      0.000      -0.393      -0.331\n",
      "doctor_name_Dr Sam                        1.2836      0.038     33.875      0.000       1.209       1.358\n",
      "doctor_name_Dr Sarah                      0.8252      0.020     41.740      0.000       0.786       0.864\n",
      "doctor_name_Dr Simon                      6.1602      0.069     89.051      0.000       6.025       6.296\n",
      "doctor_name_Dr Sophia                     0.2167      0.020     10.605      0.000       0.177       0.257\n",
      "Age_11-20                               -12.7378      0.065   -194.584      0.000     -12.866     -12.609\n",
      "Age_21-30                               -10.4830      0.062   -168.463      0.000     -10.605     -10.361\n",
      "Age_31-40                               -13.4354      0.062   -216.955      0.000     -13.557     -13.314\n",
      "Age_41-50                               -13.5113      0.062   -216.833      0.000     -13.633     -13.389\n",
      "Age_51-60                                -0.3664      0.065     -5.649      0.000      -0.494      -0.239\n",
      "Age_61-70                                -0.4217      0.064     -6.591      0.000      -0.547      -0.296\n",
      "Age_71-80                                -0.2193      0.066     -3.342      0.001      -0.348      -0.091\n",
      "Age_81-90                                -0.0174      0.072     -0.242      0.809      -0.158       0.123\n",
      "Age_91-100                               -0.2599      0.112     -2.323      0.020      -0.479      -0.041\n",
      "gender_Male                               6.0050      0.038    156.967      0.000       5.930       6.080\n",
      "gender_Other                             -0.0257      0.030     -0.846      0.398      -0.085       0.034\n",
      "Type of Admission_Trauma                 -0.0669      0.012     -5.640      0.000      -0.090      -0.044\n",
      "Type of Admission_Urgent                  0.1500      0.018      8.292      0.000       0.115       0.185\n",
      "Severity of Illness_Minor                 0.0418      0.016      2.547      0.011       0.010       0.074\n",
      "Severity of Illness_Moderate              0.0967      0.016      5.980      0.000       0.065       0.128\n",
      "health_conditions_Diabetes               -0.3422      0.028    -12.150      0.000      -0.397      -0.287\n",
      "health_conditions_Heart disease           0.6037      0.032     19.033      0.000       0.542       0.666\n",
      "health_conditions_High Blood Pressure    -0.0317      0.019     -1.666      0.096      -0.069       0.006\n",
      "health_conditions_None                    0.0140      0.024      0.576      0.565      -0.034       0.062\n",
      "health_conditions_Other                   0.0186      0.025      0.735      0.463      -0.031       0.068\n",
      "Insurance_Yes                            -0.0108      0.012     -0.889      0.374      -0.035       0.013\n",
      "==============================================================================\n",
      "Omnibus:                   131769.068   Durbin-Watson:                   1.998\n",
      "Prob(Omnibus):                  0.000   Jarque-Bera (JB):           708961.811\n",
      "Skew:                           1.495   Prob(JB):                         0.00\n",
      "Kurtosis:                       8.796   Cond. No.                     1.03e+16\n",
      "==============================================================================\n",
      "\n",
      "Notes:\n",
      "[1] Standard Errors assume that the covariance matrix of the errors is correctly specified.\n",
      "[2] The smallest eigenvalue is 8.91e-20. This might indicate that there are\n",
      "strong multicollinearity problems or that the design matrix is singular.\n"
     ]
    }
   ],
   "source": [
    "import statsmodels.api as sm\n",
    "\n",
    "# Statsmodel api does not add a constant by default, we need to add it explicitly\n",
    "x_train1 = sm.add_constant(x_train)\n",
    "\n",
    "# Add constant to the test data\n",
    "x_test1 = sm.add_constant(x_test)\n",
    "\n",
    "# Create the model\n",
    "olsmodel1 = sm.OLS(y_train, x_train1).fit()\n",
    "\n",
    "# Get the model summary\n",
    "olsmodel1.summary()\n",
    "\n",
    "print(olsmodel1.summary())"
   ]
  },
  {
   "cell_type": "code",
   "execution_count": 31,
   "id": "40bab604",
   "metadata": {
    "id": "9z-AWRfw2pMN",
    "outputId": "3d2b42f8-23eb-4016-e78a-f86f562f8a39"
   },
   "outputs": [
    {
     "data": {
      "text/html": [
       "<div>\n",
       "<style scoped>\n",
       "    .dataframe tbody tr th:only-of-type {\n",
       "        vertical-align: middle;\n",
       "    }\n",
       "\n",
       "    .dataframe tbody tr th {\n",
       "        vertical-align: top;\n",
       "    }\n",
       "\n",
       "    .dataframe thead th {\n",
       "        text-align: right;\n",
       "    }\n",
       "</style>\n",
       "<table border=\"1\" class=\"dataframe\">\n",
       "  <thead>\n",
       "    <tr style=\"text-align: right;\">\n",
       "      <th></th>\n",
       "      <th>RMSE</th>\n",
       "      <th>MAE</th>\n",
       "      <th>R-squared</th>\n",
       "      <th>Adj. R-squared</th>\n",
       "      <th>MAPE</th>\n",
       "    </tr>\n",
       "  </thead>\n",
       "  <tbody>\n",
       "    <tr>\n",
       "      <th>0</th>\n",
       "      <td>3.144036</td>\n",
       "      <td>2.155759</td>\n",
       "      <td>0.84303</td>\n",
       "      <td>0.842962</td>\n",
       "      <td>19.676874</td>\n",
       "    </tr>\n",
       "  </tbody>\n",
       "</table>\n",
       "</div>"
      ],
      "text/plain": [
       "       RMSE       MAE  R-squared  Adj. R-squared       MAPE\n",
       "0  3.144036  2.155759    0.84303        0.842962  19.676874"
      ]
     },
     "execution_count": 31,
     "metadata": {},
     "output_type": "execute_result"
    }
   ],
   "source": [
    "lin_reg_test = model_performance_regression(olsmodel1, x_test1, y_test)\n",
    "lin_reg_test"
   ]
  },
  {
   "cell_type": "markdown",
   "id": "cc0c2155",
   "metadata": {
    "id": "pEUsT8xc2pMN"
   },
   "source": [
    "- We can see that the `R-squared` for the model is `0.84`. \n",
    "- Not all the variables are statistically significant enough to predict the outcome variable. To check which ones are statistically significant or have enough predictive power to predict the target variable, we need to check the `p-value` against all the independent variables.\n",
    "\n",
    "**Interpreting the Regression Results:**\n",
    "\n",
    "1. **Adjusted R-squared**: It reflects the fit of the model.\n",
    "    - R-squared values range from 0 to 1, where a higher value generally indicates a better fit, assuming certain conditions are met.\n",
    "    - In our case, the value for Adj. R-squared is **0.84**\n",
    "\n",
    "2. **coef**: It represents the change in the output Y due to a change of one unit in the variable (everything else held constant).\n",
    "\n",
    "3. **std err**: It reflects the level of accuracy of the coefficients.\n",
    "    - The lower it is, the more accurate the coefficients are\n",
    "\n",
    "4. **P > |t|**: The p-value:\n",
    "   \n",
    "   * Pr(>|t|): For each independent feature there is a null hypothesis and an alternate hypothesis \n",
    "\n",
    "    **Ho:** Null Hypothesis - The independent feature is not significant \n",
    "   \n",
    "    **Ha:** Alternate Hypothesis - The independent feature is significant \n",
    "    \n",
    "   * A p-value of less than 0.05 is considered to be statistically significant with a 95% confidence level\n",
    "   \n",
    "5. **Confidence Interval**: It represents the range in which is likely to contain the true value of the coefficients (with a likelihood of 95%).\n",
    "\n",
    "* Both the **R-squared and Adjusted R-squared of the model are around 84%**. This is a clear indication that we have been able to create a good model that can explain variance in the LOS of patients for up to 84%.\n",
    "\n",
    "* We can examine the significance of the regression model, and try dropping insignificant variables."
   ]
  },
  {
   "cell_type": "code",
   "execution_count": 129,
   "id": "c13d6702",
   "metadata": {
    "id": "VMRY5SoA2pMO",
    "outputId": "da5aadcc-f4af-418f-9133-289e64aa1c77"
   },
   "outputs": [
    {
     "name": "stdout",
     "output_type": "stream",
     "text": [
      "    Data      RMSE       MAE       MAPE\n",
      "0  Train  3.135092  2.146240  19.591781\n",
      "1   Test  3.144036  2.155759  19.676874\n"
     ]
    }
   ],
   "source": [
    "model_pref(olsmodel1, x_train1, x_test1, y_train,y_test)"
   ]
  },
  {
   "cell_type": "markdown",
   "id": "3b94c352",
   "metadata": {
    "id": "SYh_DeQl2pMO"
   },
   "source": [
    "**The Root Mean Squared Error** of train and test data is **not very different**, indicating that **our model is not overfitting** to the training data.\n",
    "\n",
    "Mean Absolute Error (MAE) indicates that our current model can predict LOS of patients within **mean error of 2.15 days** on the test data.\n",
    "\n",
    "The units of both RMSE and MAE are on the same - days in this case. But RMSE is greater than MAE because it penalizes the outliers more.\n",
    "\n",
    "**Mean Absolute Percentage Error is ~19%** on the test data."
   ]
  },
  {
   "cell_type": "markdown",
   "id": "3dcf5b8e",
   "metadata": {
    "id": "GtfJkhgr2pMP"
   },
   "source": [
    "## **Dropping the insignificant variables and creating the regression model again**"
   ]
  },
  {
   "cell_type": "markdown",
   "id": "50f97e96",
   "metadata": {
    "id": "hvDa_4-i2pMP"
   },
   "source": [
    "### **Examining the significance of the model**\n",
    "\n",
    "It is not enough to just fit a multiple regression model to the data, it is also necessary to check whether all the regression coefficients are significant or not. The significance here means whether the population regression parameters are significantly different from zero.\n",
    "\n",
    "From the above it may be noted that the regression coefficients corresponding to `staff_available`, `Visitors with Patient`, `Ward_Facility_Code_F`, `Age_81-90`, `gender_Other`, `health_conditions_High Blood Pressure`, `health_conditions_None`, `health_conditions_Other`, and `Insurance_Yes` **are not statistically significant for α = 0.05.** In other words, the regression coefficients corresponding to these three are not significantly different from 0 in the population. \n",
    "\n",
    "**Hence, we will eliminate these nine features and create a new model.**"
   ]
  },
  {
   "cell_type": "code",
   "execution_count": 130,
   "id": "3a1b3e61",
   "metadata": {
    "id": "zqm3MODN2pMP",
    "outputId": "c2c8756a-f105-470c-8be8-eb3308cc4f12"
   },
   "outputs": [
    {
     "data": {
      "text/html": [
       "<table class=\"simpletable\">\n",
       "<caption>OLS Regression Results</caption>\n",
       "<tr>\n",
       "  <th>Dep. Variable:</th>     <td>Stay (in days)</td>  <th>  R-squared:         </th>  <td>   0.843</td>  \n",
       "</tr>\n",
       "<tr>\n",
       "  <th>Model:</th>                   <td>OLS</td>       <th>  Adj. R-squared:    </th>  <td>   0.843</td>  \n",
       "</tr>\n",
       "<tr>\n",
       "  <th>Method:</th>             <td>Least Squares</td>  <th>  F-statistic:       </th>  <td>7.148e+04</td> \n",
       "</tr>\n",
       "<tr>\n",
       "  <th>Date:</th>             <td>Thu, 28 Apr 2022</td> <th>  Prob (F-statistic):</th>   <td>  0.00</td>   \n",
       "</tr>\n",
       "<tr>\n",
       "  <th>Time:</th>                 <td>18:33:04</td>     <th>  Log-Likelihood:    </th> <td>-1.0246e+06</td>\n",
       "</tr>\n",
       "<tr>\n",
       "  <th>No. Observations:</th>      <td>400000</td>      <th>  AIC:               </th>  <td>2.049e+06</td> \n",
       "</tr>\n",
       "<tr>\n",
       "  <th>Df Residuals:</th>          <td>399969</td>      <th>  BIC:               </th>  <td>2.050e+06</td> \n",
       "</tr>\n",
       "<tr>\n",
       "  <th>Df Model:</th>              <td>    30</td>      <th>                     </th>      <td> </td>     \n",
       "</tr>\n",
       "<tr>\n",
       "  <th>Covariance Type:</th>      <td>nonrobust</td>    <th>                     </th>      <td> </td>     \n",
       "</tr>\n",
       "</table>\n",
       "<table class=\"simpletable\">\n",
       "<tr>\n",
       "                  <td></td>                     <th>coef</th>     <th>std err</th>      <th>t</th>      <th>P>|t|</th>  <th>[0.025</th>    <th>0.975]</th>  \n",
       "</tr>\n",
       "<tr>\n",
       "  <th>const</th>                             <td>   19.8738</td> <td>    0.038</td> <td>  523.436</td> <td> 0.000</td> <td>   19.799</td> <td>   19.948</td>\n",
       "</tr>\n",
       "<tr>\n",
       "  <th>Available Extra Rooms in Hospital</th> <td>    0.0786</td> <td>    0.002</td> <td>   42.396</td> <td> 0.000</td> <td>    0.075</td> <td>    0.082</td>\n",
       "</tr>\n",
       "<tr>\n",
       "  <th>Admission_Deposit</th>                 <td>-3.842e-05</td> <td> 4.77e-06</td> <td>   -8.050</td> <td> 0.000</td> <td>-4.78e-05</td> <td>-2.91e-05</td>\n",
       "</tr>\n",
       "<tr>\n",
       "  <th>Department_anesthesia</th>             <td>    6.0820</td> <td>    0.029</td> <td>  210.267</td> <td> 0.000</td> <td>    6.025</td> <td>    6.139</td>\n",
       "</tr>\n",
       "<tr>\n",
       "  <th>Department_gynecology</th>             <td>    0.4666</td> <td>    0.021</td> <td>   22.502</td> <td> 0.000</td> <td>    0.426</td> <td>    0.507</td>\n",
       "</tr>\n",
       "<tr>\n",
       "  <th>Department_radiotherapy</th>           <td>   -4.6220</td> <td>    0.037</td> <td> -126.346</td> <td> 0.000</td> <td>   -4.694</td> <td>   -4.550</td>\n",
       "</tr>\n",
       "<tr>\n",
       "  <th>Department_surgery</th>                <td>    9.6826</td> <td>    0.043</td> <td>  222.975</td> <td> 0.000</td> <td>    9.597</td> <td>    9.768</td>\n",
       "</tr>\n",
       "<tr>\n",
       "  <th>Ward_Facility_Code_B</th>              <td>    0.2534</td> <td>    0.015</td> <td>   16.602</td> <td> 0.000</td> <td>    0.223</td> <td>    0.283</td>\n",
       "</tr>\n",
       "<tr>\n",
       "  <th>Ward_Facility_Code_C</th>              <td>    0.4347</td> <td>    0.034</td> <td>   12.608</td> <td> 0.000</td> <td>    0.367</td> <td>    0.502</td>\n",
       "</tr>\n",
       "<tr>\n",
       "  <th>Ward_Facility_Code_D</th>              <td>    0.1996</td> <td>    0.015</td> <td>   13.533</td> <td> 0.000</td> <td>    0.171</td> <td>    0.229</td>\n",
       "</tr>\n",
       "<tr>\n",
       "  <th>Ward_Facility_Code_E</th>              <td>    0.3091</td> <td>    0.021</td> <td>   14.472</td> <td> 0.000</td> <td>    0.267</td> <td>    0.351</td>\n",
       "</tr>\n",
       "<tr>\n",
       "  <th>doctor_name_Dr John</th>               <td>    7.2507</td> <td>    0.027</td> <td>  269.528</td> <td> 0.000</td> <td>    7.198</td> <td>    7.303</td>\n",
       "</tr>\n",
       "<tr>\n",
       "  <th>doctor_name_Dr Mark</th>               <td>    1.1926</td> <td>    0.033</td> <td>   36.563</td> <td> 0.000</td> <td>    1.129</td> <td>    1.257</td>\n",
       "</tr>\n",
       "<tr>\n",
       "  <th>doctor_name_Dr Nathan</th>             <td>   -0.2049</td> <td>    0.015</td> <td>  -13.775</td> <td> 0.000</td> <td>   -0.234</td> <td>   -0.176</td>\n",
       "</tr>\n",
       "<tr>\n",
       "  <th>doctor_name_Dr Olivia</th>             <td>   -0.3493</td> <td>    0.014</td> <td>  -24.546</td> <td> 0.000</td> <td>   -0.377</td> <td>   -0.321</td>\n",
       "</tr>\n",
       "<tr>\n",
       "  <th>doctor_name_Dr Sam</th>                <td>    1.2814</td> <td>    0.038</td> <td>   33.869</td> <td> 0.000</td> <td>    1.207</td> <td>    1.356</td>\n",
       "</tr>\n",
       "<tr>\n",
       "  <th>doctor_name_Dr Sarah</th>              <td>    0.8043</td> <td>    0.015</td> <td>   53.972</td> <td> 0.000</td> <td>    0.775</td> <td>    0.834</td>\n",
       "</tr>\n",
       "<tr>\n",
       "  <th>doctor_name_Dr Simon</th>              <td>    6.1498</td> <td>    0.069</td> <td>   89.699</td> <td> 0.000</td> <td>    6.015</td> <td>    6.284</td>\n",
       "</tr>\n",
       "<tr>\n",
       "  <th>doctor_name_Dr Sophia</th>             <td>    0.2165</td> <td>    0.021</td> <td>   10.519</td> <td> 0.000</td> <td>    0.176</td> <td>    0.257</td>\n",
       "</tr>\n",
       "<tr>\n",
       "  <th>Age_11-20</th>                         <td>  -12.7257</td> <td>    0.042</td> <td> -306.351</td> <td> 0.000</td> <td>  -12.807</td> <td>  -12.644</td>\n",
       "</tr>\n",
       "<tr>\n",
       "  <th>Age_21-30</th>                         <td>  -10.4708</td> <td>    0.036</td> <td> -288.736</td> <td> 0.000</td> <td>  -10.542</td> <td>  -10.400</td>\n",
       "</tr>\n",
       "<tr>\n",
       "  <th>Age_31-40</th>                         <td>  -13.4232</td> <td>    0.036</td> <td> -375.422</td> <td> 0.000</td> <td>  -13.493</td> <td>  -13.353</td>\n",
       "</tr>\n",
       "<tr>\n",
       "  <th>Age_41-50</th>                         <td>  -13.4992</td> <td>    0.036</td> <td> -370.479</td> <td> 0.000</td> <td>  -13.571</td> <td>  -13.428</td>\n",
       "</tr>\n",
       "<tr>\n",
       "  <th>Age_51-60</th>                         <td>   -0.3542</td> <td>    0.041</td> <td>   -8.721</td> <td> 0.000</td> <td>   -0.434</td> <td>   -0.275</td>\n",
       "</tr>\n",
       "<tr>\n",
       "  <th>Age_61-70</th>                         <td>   -0.4094</td> <td>    0.039</td> <td>  -10.384</td> <td> 0.000</td> <td>   -0.487</td> <td>   -0.332</td>\n",
       "</tr>\n",
       "<tr>\n",
       "  <th>Age_71-80</th>                         <td>   -0.2070</td> <td>    0.042</td> <td>   -4.966</td> <td> 0.000</td> <td>   -0.289</td> <td>   -0.125</td>\n",
       "</tr>\n",
       "<tr>\n",
       "  <th>Age_91-100</th>                        <td>   -0.2482</td> <td>    0.100</td> <td>   -2.477</td> <td> 0.013</td> <td>   -0.445</td> <td>   -0.052</td>\n",
       "</tr>\n",
       "<tr>\n",
       "  <th>gender_Male</th>                       <td>    6.0067</td> <td>    0.036</td> <td>  165.093</td> <td> 0.000</td> <td>    5.935</td> <td>    6.078</td>\n",
       "</tr>\n",
       "<tr>\n",
       "  <th>Type of Admission_Trauma</th>          <td>   -0.0672</td> <td>    0.012</td> <td>   -5.669</td> <td> 0.000</td> <td>   -0.090</td> <td>   -0.044</td>\n",
       "</tr>\n",
       "<tr>\n",
       "  <th>Type of Admission_Urgent</th>          <td>    0.1499</td> <td>    0.018</td> <td>    8.287</td> <td> 0.000</td> <td>    0.114</td> <td>    0.185</td>\n",
       "</tr>\n",
       "<tr>\n",
       "  <th>Severity of Illness_Minor</th>         <td>    0.0392</td> <td>    0.016</td> <td>    2.431</td> <td> 0.015</td> <td>    0.008</td> <td>    0.071</td>\n",
       "</tr>\n",
       "<tr>\n",
       "  <th>Severity of Illness_Moderate</th>      <td>    0.0938</td> <td>    0.016</td> <td>    6.016</td> <td> 0.000</td> <td>    0.063</td> <td>    0.124</td>\n",
       "</tr>\n",
       "<tr>\n",
       "  <th>health_conditions_Diabetes</th>        <td>   -0.3458</td> <td>    0.023</td> <td>  -15.131</td> <td> 0.000</td> <td>   -0.391</td> <td>   -0.301</td>\n",
       "</tr>\n",
       "<tr>\n",
       "  <th>health_conditions_Heart disease</th>   <td>    0.6013</td> <td>    0.027</td> <td>   22.546</td> <td> 0.000</td> <td>    0.549</td> <td>    0.654</td>\n",
       "</tr>\n",
       "</table>\n",
       "<table class=\"simpletable\">\n",
       "<tr>\n",
       "  <th>Omnibus:</th>       <td>131770.682</td> <th>  Durbin-Watson:     </th>  <td>   1.998</td> \n",
       "</tr>\n",
       "<tr>\n",
       "  <th>Prob(Omnibus):</th>   <td> 0.000</td>   <th>  Jarque-Bera (JB):  </th> <td>708943.214</td>\n",
       "</tr>\n",
       "<tr>\n",
       "  <th>Skew:</th>            <td> 1.495</td>   <th>  Prob(JB):          </th>  <td>    0.00</td> \n",
       "</tr>\n",
       "<tr>\n",
       "  <th>Kurtosis:</th>        <td> 8.796</td>   <th>  Cond. No.          </th>  <td>1.46e+16</td> \n",
       "</tr>\n",
       "</table><br/><br/>Notes:<br/>[1] Standard Errors assume that the covariance matrix of the errors is correctly specified.<br/>[2] The smallest eigenvalue is 4.4e-20. This might indicate that there are<br/>strong multicollinearity problems or that the design matrix is singular."
      ],
      "text/plain": [
       "<class 'statsmodels.iolib.summary.Summary'>\n",
       "\"\"\"\n",
       "                            OLS Regression Results                            \n",
       "==============================================================================\n",
       "Dep. Variable:         Stay (in days)   R-squared:                       0.843\n",
       "Model:                            OLS   Adj. R-squared:                  0.843\n",
       "Method:                 Least Squares   F-statistic:                 7.148e+04\n",
       "Date:                Thu, 28 Apr 2022   Prob (F-statistic):               0.00\n",
       "Time:                        18:33:04   Log-Likelihood:            -1.0246e+06\n",
       "No. Observations:              400000   AIC:                         2.049e+06\n",
       "Df Residuals:                  399969   BIC:                         2.050e+06\n",
       "Df Model:                          30                                         \n",
       "Covariance Type:            nonrobust                                         \n",
       "=====================================================================================================\n",
       "                                        coef    std err          t      P>|t|      [0.025      0.975]\n",
       "-----------------------------------------------------------------------------------------------------\n",
       "const                                19.8738      0.038    523.436      0.000      19.799      19.948\n",
       "Available Extra Rooms in Hospital     0.0786      0.002     42.396      0.000       0.075       0.082\n",
       "Admission_Deposit                 -3.842e-05   4.77e-06     -8.050      0.000   -4.78e-05   -2.91e-05\n",
       "Department_anesthesia                 6.0820      0.029    210.267      0.000       6.025       6.139\n",
       "Department_gynecology                 0.4666      0.021     22.502      0.000       0.426       0.507\n",
       "Department_radiotherapy              -4.6220      0.037   -126.346      0.000      -4.694      -4.550\n",
       "Department_surgery                    9.6826      0.043    222.975      0.000       9.597       9.768\n",
       "Ward_Facility_Code_B                  0.2534      0.015     16.602      0.000       0.223       0.283\n",
       "Ward_Facility_Code_C                  0.4347      0.034     12.608      0.000       0.367       0.502\n",
       "Ward_Facility_Code_D                  0.1996      0.015     13.533      0.000       0.171       0.229\n",
       "Ward_Facility_Code_E                  0.3091      0.021     14.472      0.000       0.267       0.351\n",
       "doctor_name_Dr John                   7.2507      0.027    269.528      0.000       7.198       7.303\n",
       "doctor_name_Dr Mark                   1.1926      0.033     36.563      0.000       1.129       1.257\n",
       "doctor_name_Dr Nathan                -0.2049      0.015    -13.775      0.000      -0.234      -0.176\n",
       "doctor_name_Dr Olivia                -0.3493      0.014    -24.546      0.000      -0.377      -0.321\n",
       "doctor_name_Dr Sam                    1.2814      0.038     33.869      0.000       1.207       1.356\n",
       "doctor_name_Dr Sarah                  0.8043      0.015     53.972      0.000       0.775       0.834\n",
       "doctor_name_Dr Simon                  6.1498      0.069     89.699      0.000       6.015       6.284\n",
       "doctor_name_Dr Sophia                 0.2165      0.021     10.519      0.000       0.176       0.257\n",
       "Age_11-20                           -12.7257      0.042   -306.351      0.000     -12.807     -12.644\n",
       "Age_21-30                           -10.4708      0.036   -288.736      0.000     -10.542     -10.400\n",
       "Age_31-40                           -13.4232      0.036   -375.422      0.000     -13.493     -13.353\n",
       "Age_41-50                           -13.4992      0.036   -370.479      0.000     -13.571     -13.428\n",
       "Age_51-60                            -0.3542      0.041     -8.721      0.000      -0.434      -0.275\n",
       "Age_61-70                            -0.4094      0.039    -10.384      0.000      -0.487      -0.332\n",
       "Age_71-80                            -0.2070      0.042     -4.966      0.000      -0.289      -0.125\n",
       "Age_91-100                           -0.2482      0.100     -2.477      0.013      -0.445      -0.052\n",
       "gender_Male                           6.0067      0.036    165.093      0.000       5.935       6.078\n",
       "Type of Admission_Trauma             -0.0672      0.012     -5.669      0.000      -0.090      -0.044\n",
       "Type of Admission_Urgent              0.1499      0.018      8.287      0.000       0.114       0.185\n",
       "Severity of Illness_Minor             0.0392      0.016      2.431      0.015       0.008       0.071\n",
       "Severity of Illness_Moderate          0.0938      0.016      6.016      0.000       0.063       0.124\n",
       "health_conditions_Diabetes           -0.3458      0.023    -15.131      0.000      -0.391      -0.301\n",
       "health_conditions_Heart disease       0.6013      0.027     22.546      0.000       0.549       0.654\n",
       "==============================================================================\n",
       "Omnibus:                   131770.682   Durbin-Watson:                   1.998\n",
       "Prob(Omnibus):                  0.000   Jarque-Bera (JB):           708943.214\n",
       "Skew:                           1.495   Prob(JB):                         0.00\n",
       "Kurtosis:                       8.796   Cond. No.                     1.46e+16\n",
       "==============================================================================\n",
       "\n",
       "Notes:\n",
       "[1] Standard Errors assume that the covariance matrix of the errors is correctly specified.\n",
       "[2] The smallest eigenvalue is 4.4e-20. This might indicate that there are\n",
       "strong multicollinearity problems or that the design matrix is singular.\n",
       "\"\"\""
      ]
     },
     "execution_count": 130,
     "metadata": {},
     "output_type": "execute_result"
    }
   ],
   "source": [
    "# Dropping the specified features\n",
    "x_train2 = x_train1.drop(columns = {'staff_available', 'Visitors with Patient', 'Ward_Facility_Code_F', 'Age_81-90', 'gender_Other', 'health_conditions_High Blood Pressure', 'health_conditions_None', 'health_conditions_Other', 'Insurance_Yes'})\n",
    "\n",
    "x_test2 = x_test1.drop(columns = {'staff_available', 'Visitors with Patient', 'Ward_Facility_Code_F', 'Age_81-90', 'gender_Other', 'health_conditions_High Blood Pressure', 'health_conditions_None', 'health_conditions_Other', 'Insurance_Yes'})\n",
    "\n",
    "# Create the model after dropping the 9 features\n",
    "olsmodel2 = sm.OLS(y_train, x_train2).fit()\n",
    "\n",
    "# Get the model summary\n",
    "olsmodel2.summary()"
   ]
  },
  {
   "cell_type": "code",
   "execution_count": 131,
   "id": "af9df761",
   "metadata": {
    "id": "7U00tOIA2pMQ",
    "outputId": "9bf2e13a-8720-48ea-bc98-496105676a1d"
   },
   "outputs": [
    {
     "data": {
      "text/html": [
       "<div>\n",
       "<style scoped>\n",
       "    .dataframe tbody tr th:only-of-type {\n",
       "        vertical-align: middle;\n",
       "    }\n",
       "\n",
       "    .dataframe tbody tr th {\n",
       "        vertical-align: top;\n",
       "    }\n",
       "\n",
       "    .dataframe thead th {\n",
       "        text-align: right;\n",
       "    }\n",
       "</style>\n",
       "<table border=\"1\" class=\"dataframe\">\n",
       "  <thead>\n",
       "    <tr style=\"text-align: right;\">\n",
       "      <th></th>\n",
       "      <th>RMSE</th>\n",
       "      <th>MAE</th>\n",
       "      <th>R-squared</th>\n",
       "      <th>Adj. R-squared</th>\n",
       "      <th>MAPE</th>\n",
       "    </tr>\n",
       "  </thead>\n",
       "  <tbody>\n",
       "    <tr>\n",
       "      <th>0</th>\n",
       "      <td>3.144105</td>\n",
       "      <td>2.155755</td>\n",
       "      <td>0.843023</td>\n",
       "      <td>0.84297</td>\n",
       "      <td>19.676739</td>\n",
       "    </tr>\n",
       "  </tbody>\n",
       "</table>\n",
       "</div>"
      ],
      "text/plain": [
       "       RMSE       MAE  R-squared  Adj. R-squared       MAPE\n",
       "0  3.144105  2.155755   0.843023         0.84297  19.676739"
      ]
     },
     "execution_count": 131,
     "metadata": {},
     "output_type": "execute_result"
    }
   ],
   "source": [
    "lin_reg_test = model_performance_regression(olsmodel2, x_test2, y_test)\n",
    "lin_reg_test"
   ]
  },
  {
   "cell_type": "markdown",
   "id": "5eec56a3",
   "metadata": {
    "id": "16fOWNF62pMS"
   },
   "source": [
    "### **Checking the performance of the model on the train and the test data**"
   ]
  },
  {
   "cell_type": "code",
   "execution_count": 132,
   "id": "8aeec5b1",
   "metadata": {
    "id": "mjpqPUcw2pMS",
    "outputId": "23fe4bf4-77b5-4801-c190-3c395c09f5d9"
   },
   "outputs": [
    {
     "name": "stdout",
     "output_type": "stream",
     "text": [
      "    Data      RMSE       MAE       MAPE\n",
      "0  Train  3.135121  2.146261  19.591892\n",
      "1   Test  3.144105  2.155755  19.676739\n"
     ]
    }
   ],
   "source": [
    "model_pref(olsmodel2, x_train2, x_test2, y_train, y_test)"
   ]
  },
  {
   "cell_type": "markdown",
   "id": "3d79c54f",
   "metadata": {
    "id": "O99RtHrB2pMT"
   },
   "source": [
    "**Observation:**\n",
    "\n",
    "* RMSE, MAE, and MAPE of the train and the test data are not very different, indicating that the **model is not overfitting and has generalized well.**"
   ]
  },
  {
   "cell_type": "markdown",
   "id": "809c5234",
   "metadata": {
    "id": "RVWP-AHZ2pMT"
   },
   "source": [
    "### **Applying the cross validation technique to improve the model and evaluating it using different evaluation metrics**"
   ]
  },
  {
   "cell_type": "code",
   "execution_count": 133,
   "id": "096677ad",
   "metadata": {
    "id": "2YBZBytY2pMU",
    "outputId": "358f90d6-a1ba-4aaf-c567-64ba86989935"
   },
   "outputs": [
    {
     "name": "stdout",
     "output_type": "stream",
     "text": [
      "RSquared: 0.843 (+/- 0.004)\n",
      "Mean Squared Error: 9.832 (+/- 0.296)\n"
     ]
    }
   ],
   "source": [
    "# Import the required function\n",
    "from sklearn.model_selection import cross_val_score\n",
    "\n",
    "# Build the regression model using sklearn linear regression\n",
    "linearregression = LinearRegression()                                    \n",
    "\n",
    "# cv = 10 indicates that the data is divided into 10 folds\n",
    "cv_Score11 = cross_val_score(linearregression, x_train, y_train, cv = 10)\n",
    "\n",
    "cv_Score12 = cross_val_score(linearregression, x_train, y_train, cv = 10, \n",
    "                             scoring = 'neg_mean_squared_error')                                  \n",
    "\n",
    "print(\"RSquared: %0.3f (+/- %0.3f)\" % (cv_Score11.mean(), cv_Score11.std() * 2))\n",
    "\n",
    "print(\"Mean Squared Error: %0.3f (+/- %0.3f)\" % (-1 * cv_Score12.mean(), cv_Score12.std() * 2))"
   ]
  },
  {
   "cell_type": "markdown",
   "id": "7da5eaff",
   "metadata": {
    "id": "L72sWJZ-2pMU"
   },
   "source": [
    "**Observation:**\n",
    "- The results from the cross-validation are similar to the results we got on the training and the testing data."
   ]
  },
  {
   "cell_type": "markdown",
   "id": "1c309a0c",
   "metadata": {
    "id": "MeoIi1Vm2pMV"
   },
   "source": [
    "We may want to reiterate the model building process with new features or better feature engineering to increase the R-squared and decrease the MSE on cross-validation."
   ]
  },
  {
   "cell_type": "code",
   "execution_count": 134,
   "id": "e71f7b8c",
   "metadata": {
    "id": "JqsFNlVM2pMV",
    "outputId": "3f762a29-6c4d-446f-fbf3-7f24d91c2d73"
   },
   "outputs": [
    {
     "data": {
      "text/plain": [
       "const                                19.873791\n",
       "Available Extra Rooms in Hospital     0.078619\n",
       "Admission_Deposit                    -0.000038\n",
       "Department_anesthesia                 6.082010\n",
       "Department_gynecology                 0.466594\n",
       "Department_radiotherapy              -4.621989\n",
       "Department_surgery                    9.682582\n",
       "Ward_Facility_Code_B                  0.253351\n",
       "Ward_Facility_Code_C                  0.434731\n",
       "Ward_Facility_Code_D                  0.199594\n",
       "Ward_Facility_Code_E                  0.309118\n",
       "doctor_name_Dr John                   7.250669\n",
       "doctor_name_Dr Mark                   1.192581\n",
       "doctor_name_Dr Nathan                -0.204908\n",
       "doctor_name_Dr Olivia                -0.349337\n",
       "doctor_name_Dr Sam                    1.281366\n",
       "doctor_name_Dr Sarah                  0.804327\n",
       "doctor_name_Dr Simon                  6.149808\n",
       "doctor_name_Dr Sophia                 0.216511\n",
       "Age_11-20                           -12.725687\n",
       "Age_21-30                           -10.470843\n",
       "Age_31-40                           -13.423183\n",
       "Age_41-50                           -13.499184\n",
       "Age_51-60                            -0.354188\n",
       "Age_61-70                            -0.409381\n",
       "Age_71-80                            -0.207004\n",
       "Age_91-100                           -0.248155\n",
       "gender_Male                           6.006721\n",
       "Type of Admission_Trauma             -0.067187\n",
       "Type of Admission_Urgent              0.149876\n",
       "Severity of Illness_Minor             0.039205\n",
       "Severity of Illness_Moderate          0.093807\n",
       "health_conditions_Diabetes           -0.345811\n",
       "health_conditions_Heart disease       0.601252\n",
       "dtype: float64"
      ]
     },
     "execution_count": 134,
     "metadata": {},
     "output_type": "execute_result"
    }
   ],
   "source": [
    "# Using the params method to get the coefficients of the model\n",
    "coef = olsmodel2.params\n",
    "\n",
    "coef"
   ]
  },
  {
   "cell_type": "code",
   "execution_count": 135,
   "id": "e52fe001",
   "metadata": {
    "id": "o7FePZPW2pMV",
    "outputId": "bd2a8c75-ea60-43f3-9860-d01476dcdf1f"
   },
   "outputs": [
    {
     "name": "stdout",
     "output_type": "stream",
     "text": [
      "Stay (in days)=\t( 19.87379120881513 ) *  const + ( 0.07861910039489392 ) *  Available Extra Rooms in Hospital + ( -3.842055619680103e-05 ) *  Admission_Deposit + ( 6.08200987687472 ) *  Department_anesthesia + ( 0.46659368247342103 ) *  Department_gynecology + ( -4.621988990506784 ) *  Department_radiotherapy + ( 9.68258206756855 ) *  Department_surgery + ( 0.2533508305244102 ) *  Ward_Facility_Code_B + ( 0.4347314177734212 ) *  Ward_Facility_Code_C + ( 0.19959404619904084 ) *  Ward_Facility_Code_D + ( 0.3091175655422771 ) *  Ward_Facility_Code_E + ( 7.250668829257773 ) *  doctor_name_Dr John + ( 1.1925809939249885 ) *  doctor_name_Dr Mark + ( -0.20490771930672766 ) *  doctor_name_Dr Nathan + ( -0.3493369266066516 ) *  doctor_name_Dr Olivia + ( 1.2813656355905274 ) *  doctor_name_Dr Sam + ( 0.8043274273889113 ) *  doctor_name_Dr Sarah + ( 6.1498081278696155 ) *  doctor_name_Dr Simon + ( 0.21651090099786324 ) *  doctor_name_Dr Sophia + ( -12.725686771115 ) *  Age_11-20 + ( -10.470843324943838 ) *  Age_21-30 + ( -13.423183457877595 ) *  Age_31-40 + ( -13.499183837578439 ) *  Age_41-50 + ( -0.35418764965276595 ) *  Age_51-60 + ( -0.40938089839505726 ) *  Age_61-70 + ( -0.20700353951144096 ) *  Age_71-80 + ( -0.24815496315013563 ) *  Age_91-100 + ( 6.006720569214494 ) *  gender_Male + ( -0.06718695763421897 ) *  Type of Admission_Trauma + ( 0.1498762570877908 ) *  Type of Admission_Urgent + ( 0.03920518990506622 ) *  Severity of Illness_Minor + ( 0.09380656545531922 ) *  Severity of Illness_Moderate + ( -0.34581060343565273 ) *  health_conditions_Diabetes + ( 0.6012519269633729 ) *  health_conditions_Heart disease + "
     ]
    }
   ],
   "source": [
    "# Let us write the equation of the fit\n",
    "Equation = \"Stay (in days)=\"\n",
    "\n",
    "print(Equation, end = '\\t')\n",
    "\n",
    "for i in range(len(coef)):\n",
    "    \n",
    "    print('(', coef[i], ') * ', coef.index[i], '+', end = ' ')"
   ]
  },
  {
   "cell_type": "markdown",
   "id": "dc744119",
   "metadata": {
    "id": "QDggSWcb2pMV"
   },
   "source": [
    "### **Interpreting our Regression Coefficients**"
   ]
  },
  {
   "cell_type": "markdown",
   "id": "9a3f5605",
   "metadata": {
    "id": "KoafnTOA2pMW"
   },
   "source": [
    "With our linear regression model's adjusted R-squared value of around 0.84, we can capture **84% of the variation** in the target variable.\n",
    "\n",
    "The p-values for these variables are < 0.05 in our final model, meaning they are statistically significant"
   ]
  },
  {
   "cell_type": "markdown",
   "id": "815ac136",
   "metadata": {
    "id": "qty2K1BP2pMW"
   },
   "source": [
    "* The Stay (in days) decreases with an increase in Department_radiotherapy. 1 unit increase in the Department_radiotherapy leads to a decrease of Stay (in days) ~ 4.62 times the Stay (in days) when everything else is constant.\n",
    "\n",
    "* The Stay (in days) increases with an increase in Department_anesthesia. 1 unit increase in Department_anesthesia leads to an increase of Stay (in days) ~ 6.08 times the Stay (in days) when everything else is constant. This is understandable, as anesthesia is used in severe cases which results in more days of stay.\n",
    "\n",
    "* The Stay (in days) increases with an increase in Department_surgery. 1 unit increase in Department_surgery leads to an increase of Stay (in days) ~ 9.68 times the Stay (in days) when everything else is constant. This is understandable, as surgery is conducted in severe cases which results in more days of stay.\n",
    "\n",
    "* The Stay (in days) increases with an increase in doctor_name_Dr Simon. 1 unit increase in doctor_name_Dr Simon leads to an increase of Stay (in days) ~ 6.14 times the Stay (in days) when everything else is constant. This is understandable, as surgery cases are handled by Dr.Simon.\n",
    "\n",
    "* The Stay (in days) decreases with an increase in Age_11-20. 1 unit increase in the Age_11-20 leads to a decrease of Stay (in days) ~ 12.72 times the Stay (in days) when everything else is constant. This is understandable since young age people tend to have less severe problems.\n",
    "\n",
    "* The Stay (in days) decreases with an increase in Age_21-30. 1 unit increase in the Age_21-30 leads to a decrease of Stay (in days) ~ 10.47 times the Stay (in days) when everything else is constant. This is understandable since young age people tend to have less severe problems."
   ]
  },
  {
   "cell_type": "markdown",
   "id": "cb8be028",
   "metadata": {
    "id": "ZOXNtE552pMW"
   },
   "source": [
    "### **Ridge Regression**"
   ]
  },
  {
   "cell_type": "code",
   "execution_count": 136,
   "id": "442777ce",
   "metadata": {
    "id": "3Qx3FqS42pMW"
   },
   "outputs": [],
   "source": [
    "rdg = Ridge()"
   ]
  },
  {
   "cell_type": "code",
   "execution_count": 137,
   "id": "f8edba61",
   "metadata": {
    "id": "nddtcYWm2pMW",
    "outputId": "0156ed15-696f-4c0c-8d7b-e50085767a14"
   },
   "outputs": [
    {
     "name": "stdout",
     "output_type": "stream",
     "text": [
      "    Data      RMSE       MAE       MAPE\n",
      "0  Train  3.135092  2.146301  19.592776\n",
      "1   Test  3.144039  2.155819  19.677875\n"
     ]
    }
   ],
   "source": [
    "rdg.fit(x_train, y_train)\n",
    "\n",
    "model_pref(rdg, x_train, x_test, y_train, y_test)"
   ]
  },
  {
   "cell_type": "code",
   "execution_count": 138,
   "id": "4657ca20",
   "metadata": {
    "id": "SxyXqnYt2pMX",
    "outputId": "d746f5d9-6eaf-42c2-c4ff-d0b83e73da6f"
   },
   "outputs": [
    {
     "data": {
      "text/html": [
       "<div>\n",
       "<style scoped>\n",
       "    .dataframe tbody tr th:only-of-type {\n",
       "        vertical-align: middle;\n",
       "    }\n",
       "\n",
       "    .dataframe tbody tr th {\n",
       "        vertical-align: top;\n",
       "    }\n",
       "\n",
       "    .dataframe thead th {\n",
       "        text-align: right;\n",
       "    }\n",
       "</style>\n",
       "<table border=\"1\" class=\"dataframe\">\n",
       "  <thead>\n",
       "    <tr style=\"text-align: right;\">\n",
       "      <th></th>\n",
       "      <th>RMSE</th>\n",
       "      <th>MAE</th>\n",
       "      <th>R-squared</th>\n",
       "      <th>Adj. R-squared</th>\n",
       "      <th>MAPE</th>\n",
       "    </tr>\n",
       "  </thead>\n",
       "  <tbody>\n",
       "    <tr>\n",
       "      <th>0</th>\n",
       "      <td>3.144039</td>\n",
       "      <td>2.155819</td>\n",
       "      <td>0.84303</td>\n",
       "      <td>0.842964</td>\n",
       "      <td>19.677875</td>\n",
       "    </tr>\n",
       "  </tbody>\n",
       "</table>\n",
       "</div>"
      ],
      "text/plain": [
       "       RMSE       MAE  R-squared  Adj. R-squared       MAPE\n",
       "0  3.144039  2.155819    0.84303        0.842964  19.677875"
      ]
     },
     "execution_count": 138,
     "metadata": {},
     "output_type": "execute_result"
    }
   ],
   "source": [
    "ridge_regression_perf_test = model_performance_regression(rdg, x_test, y_test)\n",
    "\n",
    "ridge_regression_perf_test"
   ]
  },
  {
   "cell_type": "markdown",
   "id": "686e2fef",
   "metadata": {
    "id": "ugwks0m92pMY"
   },
   "source": [
    "Ridge regression is producing similar results in comparison to Linear Regression without regularization."
   ]
  },
  {
   "cell_type": "markdown",
   "id": "786bcabe",
   "metadata": {
    "id": "JcSnMrJM2pMY"
   },
   "source": [
    "There is some scope to improve the model's performance, as there is a feeling that we are not able to fully model the relationship using linear models.\n",
    "\n",
    "Let's now build **Non-Linear Regression models** like Decision Tree Regressors and Random Forest Regressors and check their performance."
   ]
  },
  {
   "cell_type": "markdown",
   "id": "7f7f9851",
   "metadata": {
    "id": "J0Nkflof9xLs"
   },
   "source": [
    "### **Decision Tree Regressor**"
   ]
  },
  {
   "cell_type": "code",
   "execution_count": 139,
   "id": "bf5efce0",
   "metadata": {
    "colab": {
     "base_uri": "https://localhost:8080/",
     "height": 81
    },
    "id": "qshkBU0uUewv",
    "outputId": "d7d288ff-d535-4f78-b961-cedf3ba72565"
   },
   "outputs": [
    {
     "data": {
      "text/html": [
       "<div>\n",
       "<style scoped>\n",
       "    .dataframe tbody tr th:only-of-type {\n",
       "        vertical-align: middle;\n",
       "    }\n",
       "\n",
       "    .dataframe tbody tr th {\n",
       "        vertical-align: top;\n",
       "    }\n",
       "\n",
       "    .dataframe thead th {\n",
       "        text-align: right;\n",
       "    }\n",
       "</style>\n",
       "<table border=\"1\" class=\"dataframe\">\n",
       "  <thead>\n",
       "    <tr style=\"text-align: right;\">\n",
       "      <th></th>\n",
       "      <th>RMSE</th>\n",
       "      <th>MAE</th>\n",
       "      <th>R-squared</th>\n",
       "      <th>Adj. R-squared</th>\n",
       "      <th>MAPE</th>\n",
       "    </tr>\n",
       "  </thead>\n",
       "  <tbody>\n",
       "    <tr>\n",
       "      <th>0</th>\n",
       "      <td>1.81515</td>\n",
       "      <td>1.12829</td>\n",
       "      <td>0.94768</td>\n",
       "      <td>0.947658</td>\n",
       "      <td>9.341248</td>\n",
       "    </tr>\n",
       "  </tbody>\n",
       "</table>\n",
       "</div>"
      ],
      "text/plain": [
       "      RMSE      MAE  R-squared  Adj. R-squared      MAPE\n",
       "0  1.81515  1.12829    0.94768        0.947658  9.341248"
      ]
     },
     "execution_count": 139,
     "metadata": {},
     "output_type": "execute_result"
    }
   ],
   "source": [
    "# Decision Tree Regressor\n",
    "dt_regressor = DecisionTreeRegressor(random_state = 1)\n",
    "\n",
    "# Fitting the model\n",
    "dt_regressor.fit(x_train, y_train)\n",
    "\n",
    "# Model Performance on test data i.e prediction\n",
    "dt_regressor_perf_test = model_performance_regression(dt_regressor, x_test, y_test)\n",
    "\n",
    "dt_regressor_perf_test"
   ]
  },
  {
   "cell_type": "markdown",
   "id": "56ae1145",
   "metadata": {
    "id": "sa8z6Ric93Qc"
   },
   "source": [
    "### **Tuning the Decision Tree Regressor**"
   ]
  },
  {
   "cell_type": "code",
   "execution_count": 140,
   "id": "1735fcbd",
   "metadata": {
    "colab": {
     "base_uri": "https://localhost:8080/"
    },
    "id": "kJ1ncLJuuE3c",
    "outputId": "6a28a1cb-bf45-45a5-eaf4-b6dd03a75640"
   },
   "outputs": [
    {
     "data": {
      "text/plain": [
       "DecisionTreeRegressor(criterion='friedman_mse', max_depth=7, min_samples_leaf=3,\n",
       "                      random_state=1)"
      ]
     },
     "execution_count": 140,
     "metadata": {},
     "output_type": "execute_result"
    }
   ],
   "source": [
    "# Choose the type of regressor \n",
    "dtree_tuned = DecisionTreeRegressor(random_state = 1)\n",
    "\n",
    "# Grid of parameters to choose from\n",
    "parameters = {'max_depth': np.arange(2, 8), \n",
    "              \n",
    "              'criterion': ['squared_error', 'friedman_mse'],\n",
    "              \n",
    "              'min_samples_leaf': [1, 3, 5, 7],\n",
    "              \n",
    "              'max_leaf_nodes': [2, 5, 7] + [None]\n",
    "             }\n",
    "\n",
    "# Type of scoring used to compare parameter combinations\n",
    "scorer = make_scorer(r2_score)\n",
    "\n",
    "# Run the grid search\n",
    "grid_obj = GridSearchCV(dtree_tuned, parameters, scoring = scorer, cv = 5)\n",
    "\n",
    "grid_obj = grid_obj.fit(x_train,y_train)\n",
    "\n",
    "# Set the dtree_tuned_regressor to the best combination of parameters\n",
    "dtree_tuned_regressor = grid_obj.best_estimator_\n",
    "\n",
    "dtree_tuned_regressor.fit(x_train, y_train)"
   ]
  },
  {
   "cell_type": "markdown",
   "id": "b8dfd32a",
   "metadata": {
    "id": "5OuST6SBpTSf"
   },
   "source": [
    "**We have tuned the model and fit the tuned model on the training data. Now, let's check the model performance on the testing data**"
   ]
  },
  {
   "cell_type": "code",
   "execution_count": 141,
   "id": "e786b014",
   "metadata": {
    "id": "3JCMcfuBB68v"
   },
   "outputs": [],
   "source": [
    "# Get the score of tuned decision tree regressor\n",
    "dtree_tuned_regressor_perf_test = model_performance_regression(dtree_tuned_regressor, x_test, y_test)"
   ]
  },
  {
   "cell_type": "code",
   "execution_count": 142,
   "id": "8e0e6c7b",
   "metadata": {
    "colab": {
     "base_uri": "https://localhost:8080/",
     "height": 81
    },
    "id": "3Qj6zqcuCArm",
    "outputId": "01f17364-49c9-472e-ac0b-ba06ecdbd452"
   },
   "outputs": [
    {
     "data": {
      "text/html": [
       "<div>\n",
       "<style scoped>\n",
       "    .dataframe tbody tr th:only-of-type {\n",
       "        vertical-align: middle;\n",
       "    }\n",
       "\n",
       "    .dataframe tbody tr th {\n",
       "        vertical-align: top;\n",
       "    }\n",
       "\n",
       "    .dataframe thead th {\n",
       "        text-align: right;\n",
       "    }\n",
       "</style>\n",
       "<table border=\"1\" class=\"dataframe\">\n",
       "  <thead>\n",
       "    <tr style=\"text-align: right;\">\n",
       "      <th></th>\n",
       "      <th>RMSE</th>\n",
       "      <th>MAE</th>\n",
       "      <th>R-squared</th>\n",
       "      <th>Adj. R-squared</th>\n",
       "      <th>MAPE</th>\n",
       "    </tr>\n",
       "  </thead>\n",
       "  <tbody>\n",
       "    <tr>\n",
       "      <th>0</th>\n",
       "      <td>1.741743</td>\n",
       "      <td>1.161072</td>\n",
       "      <td>0.951826</td>\n",
       "      <td>0.951806</td>\n",
       "      <td>9.64668</td>\n",
       "    </tr>\n",
       "  </tbody>\n",
       "</table>\n",
       "</div>"
      ],
      "text/plain": [
       "       RMSE       MAE  R-squared  Adj. R-squared     MAPE\n",
       "0  1.741743  1.161072   0.951826        0.951806  9.64668"
      ]
     },
     "execution_count": 142,
     "metadata": {},
     "output_type": "execute_result"
    }
   ],
   "source": [
    "dtree_tuned_regressor_perf_test"
   ]
  },
  {
   "cell_type": "markdown",
   "id": "b01d8b0c",
   "metadata": {
    "id": "1-2fDKtEmXhz"
   },
   "source": [
    "**Let's look at the feature importance of the tuned decision tree model.**"
   ]
  },
  {
   "cell_type": "code",
   "execution_count": 143,
   "id": "65f5fa5d",
   "metadata": {
    "colab": {
     "base_uri": "https://localhost:8080/",
     "height": 621
    },
    "id": "J7vyv1jkmoRS",
    "outputId": "f97d477a-219d-4e3b-d7a2-513e4a333fc3"
   },
   "outputs": [
    {
     "data": {
      "image/png": "[encoded data removed]",
      "text/plain": [
       "<Figure size 720x720 with 1 Axes>"
      ]
     },
     "metadata": {
      "needs_background": "light"
     },
     "output_type": "display_data"
    }
   ],
   "source": [
    "# Plotting the feature importance\n",
    "features = list(x.columns)\n",
    "\n",
    "importances = dtree_tuned_regressor.feature_importances_\n",
    "\n",
    "indices = np.argsort(importances)\n",
    "\n",
    "plt.figure(figsize = (10, 10))\n",
    "\n",
    "plt.title('Feature Importances')\n",
    "\n",
    "plt.barh(range(len(indices)), importances[indices], color = 'violet', align = 'center')\n",
    "\n",
    "plt.yticks(range(len(indices)), [features[i] for i in indices])\n",
    "\n",
    "plt.xlabel('Relative Importance')\n",
    "\n",
    "plt.show()"
   ]
  },
  {
   "cell_type": "markdown",
   "id": "910bae11",
   "metadata": {
    "id": "sogCEzntm2fF"
   },
   "source": [
    "**Observations:**\n",
    "\n",
    "- **Department_gynecology, Age_41_50, and Age_31_40 are the most important features** followed by Department_anesthesia, Department_anesthesia, and Department_surgery.\n",
    "- The rest of the variables have no impact in this model to decide the duration of the stay in the hospital."
   ]
  },
  {
   "cell_type": "markdown",
   "id": "b6b39a26",
   "metadata": {
    "id": "lkXRAKBseIfT"
   },
   "source": [
    "### **Bagging Regressor**"
   ]
  },
  {
   "cell_type": "code",
   "execution_count": 144,
   "id": "c3060dbf",
   "metadata": {
    "colab": {
     "base_uri": "https://localhost:8080/",
     "height": 81
    },
    "id": "OrPnEn_pi0Ap",
    "outputId": "6ff227fd-e866-4487-98ca-b5dfe37bd922"
   },
   "outputs": [
    {
     "data": {
      "text/html": [
       "<div>\n",
       "<style scoped>\n",
       "    .dataframe tbody tr th:only-of-type {\n",
       "        vertical-align: middle;\n",
       "    }\n",
       "\n",
       "    .dataframe tbody tr th {\n",
       "        vertical-align: top;\n",
       "    }\n",
       "\n",
       "    .dataframe thead th {\n",
       "        text-align: right;\n",
       "    }\n",
       "</style>\n",
       "<table border=\"1\" class=\"dataframe\">\n",
       "  <thead>\n",
       "    <tr style=\"text-align: right;\">\n",
       "      <th></th>\n",
       "      <th>RMSE</th>\n",
       "      <th>MAE</th>\n",
       "      <th>R-squared</th>\n",
       "      <th>Adj. R-squared</th>\n",
       "      <th>MAPE</th>\n",
       "    </tr>\n",
       "  </thead>\n",
       "  <tbody>\n",
       "    <tr>\n",
       "      <th>0</th>\n",
       "      <td>1.36894</td>\n",
       "      <td>0.905205</td>\n",
       "      <td>0.970242</td>\n",
       "      <td>0.970229</td>\n",
       "      <td>7.648842</td>\n",
       "    </tr>\n",
       "  </tbody>\n",
       "</table>\n",
       "</div>"
      ],
      "text/plain": [
       "      RMSE       MAE  R-squared  Adj. R-squared      MAPE\n",
       "0  1.36894  0.905205   0.970242        0.970229  7.648842"
      ]
     },
     "execution_count": 144,
     "metadata": {},
     "output_type": "execute_result"
    }
   ],
   "source": [
    "# Bagging Regressor\n",
    "bagging_estimator = BaggingRegressor(random_state = 1)\n",
    "\n",
    "# Fitting the model\n",
    "bagging_estimator.fit(x_train, y_train)\n",
    "\n",
    "# Model Performance on the test data\n",
    "bagging_estimator_perf_test = model_performance_regression(bagging_estimator, x_test, y_test)\n",
    "\n",
    "bagging_estimator_perf_test"
   ]
  },
  {
   "cell_type": "markdown",
   "id": "c7bed4b1",
   "metadata": {
    "id": "3h_IMznmkhTg"
   },
   "source": [
    "### **Tuned Bagging Regressor** "
   ]
  },
  {
   "cell_type": "code",
   "execution_count": 145,
   "id": "367e8e6c",
   "metadata": {
    "colab": {
     "base_uri": "https://localhost:8080/"
    },
    "id": "4mwlkvFEklU1",
    "outputId": "421cee8f-16dc-4a2e-bd95-6dd44fd19442"
   },
   "outputs": [
    {
     "data": {
      "text/plain": [
       "BaggingRegressor(max_features=0.8, max_samples=0.8, n_estimators=15,\n",
       "                 random_state=1)"
      ]
     },
     "execution_count": 145,
     "metadata": {},
     "output_type": "execute_result"
    }
   ],
   "source": [
    "# Choose the type of regressor\n",
    "bagging_tuned = BaggingRegressor(random_state = 1)\n",
    "\n",
    "# Grid of parameters to choose from\n",
    "parameters = {\"n_estimators\": [10, 15, 20],\n",
    "              \n",
    "              \"max_samples\": [0.8, 1],\n",
    "              \n",
    "              \"max_features\": [0.8, 1]\n",
    "             }\n",
    "\n",
    "# Type of scoring used to compare parameter combinations\n",
    "scorer = make_scorer(r2_score)\n",
    "\n",
    "# Run the grid search\n",
    "grid_obj = GridSearchCV(bagging_tuned, parameters, scoring = scorer, cv = 5)\n",
    "\n",
    "grid_obj = grid_obj.fit(x_train, y_train)\n",
    "\n",
    "# Set the bagging_tuned_regressor to the best combination of parameters\n",
    "bagging_tuned_regressor = grid_obj.best_estimator_\n",
    "\n",
    "bagging_tuned_regressor.fit(x_train, y_train)"
   ]
  },
  {
   "cell_type": "code",
   "execution_count": 146,
   "id": "dedb682d",
   "metadata": {
    "colab": {
     "base_uri": "https://localhost:8080/",
     "height": 81
    },
    "id": "dCF5pabCkNyF",
    "outputId": "0ee170aa-2260-415c-d403-007e3eaccc5a"
   },
   "outputs": [
    {
     "data": {
      "text/html": [
       "<div>\n",
       "<style scoped>\n",
       "    .dataframe tbody tr th:only-of-type {\n",
       "        vertical-align: middle;\n",
       "    }\n",
       "\n",
       "    .dataframe tbody tr th {\n",
       "        vertical-align: top;\n",
       "    }\n",
       "\n",
       "    .dataframe thead th {\n",
       "        text-align: right;\n",
       "    }\n",
       "</style>\n",
       "<table border=\"1\" class=\"dataframe\">\n",
       "  <thead>\n",
       "    <tr style=\"text-align: right;\">\n",
       "      <th></th>\n",
       "      <th>RMSE</th>\n",
       "      <th>MAE</th>\n",
       "      <th>R-squared</th>\n",
       "      <th>Adj. R-squared</th>\n",
       "      <th>MAPE</th>\n",
       "    </tr>\n",
       "  </thead>\n",
       "  <tbody>\n",
       "    <tr>\n",
       "      <th>0</th>\n",
       "      <td>1.536988</td>\n",
       "      <td>1.032587</td>\n",
       "      <td>0.962487</td>\n",
       "      <td>0.962471</td>\n",
       "      <td>8.952246</td>\n",
       "    </tr>\n",
       "  </tbody>\n",
       "</table>\n",
       "</div>"
      ],
      "text/plain": [
       "       RMSE       MAE  R-squared  Adj. R-squared      MAPE\n",
       "0  1.536988  1.032587   0.962487        0.962471  8.952246"
      ]
     },
     "execution_count": 146,
     "metadata": {},
     "output_type": "execute_result"
    }
   ],
   "source": [
    "# Get the score of tuned Bagging tree regressor\n",
    "bagging_tuned_regressor_perf_test = model_performance_regression(bagging_tuned_regressor, x_test, y_test)\n",
    "\n",
    "bagging_tuned_regressor_perf_test"
   ]
  },
  {
   "cell_type": "markdown",
   "id": "732dd434",
   "metadata": {
    "id": "kB3zeBib2pMb"
   },
   "source": [
    "**The bagging regressor has no attribute to calculate feature importance in the Sklearn library. So, let's move on to the next model.**"
   ]
  },
  {
   "cell_type": "markdown",
   "id": "772ffde9",
   "metadata": {
    "id": "eZg2DYmNeQ-2"
   },
   "source": [
    "### **Random Forest Regressor**"
   ]
  },
  {
   "cell_type": "code",
   "execution_count": 147,
   "id": "2ed3397c",
   "metadata": {
    "colab": {
     "base_uri": "https://localhost:8080/",
     "height": 81
    },
    "id": "2AWy2uKodOdL",
    "outputId": "e32644c4-8da1-49d5-a178-71f6dbc1aee2"
   },
   "outputs": [
    {
     "data": {
      "text/html": [
       "<div>\n",
       "<style scoped>\n",
       "    .dataframe tbody tr th:only-of-type {\n",
       "        vertical-align: middle;\n",
       "    }\n",
       "\n",
       "    .dataframe tbody tr th {\n",
       "        vertical-align: top;\n",
       "    }\n",
       "\n",
       "    .dataframe thead th {\n",
       "        text-align: right;\n",
       "    }\n",
       "</style>\n",
       "<table border=\"1\" class=\"dataframe\">\n",
       "  <thead>\n",
       "    <tr style=\"text-align: right;\">\n",
       "      <th></th>\n",
       "      <th>RMSE</th>\n",
       "      <th>MAE</th>\n",
       "      <th>R-squared</th>\n",
       "      <th>Adj. R-squared</th>\n",
       "      <th>MAPE</th>\n",
       "    </tr>\n",
       "  </thead>\n",
       "  <tbody>\n",
       "    <tr>\n",
       "      <th>0</th>\n",
       "      <td>1.303684</td>\n",
       "      <td>0.86505</td>\n",
       "      <td>0.973011</td>\n",
       "      <td>0.973</td>\n",
       "      <td>7.314995</td>\n",
       "    </tr>\n",
       "  </tbody>\n",
       "</table>\n",
       "</div>"
      ],
      "text/plain": [
       "       RMSE      MAE  R-squared  Adj. R-squared      MAPE\n",
       "0  1.303684  0.86505   0.973011           0.973  7.314995"
      ]
     },
     "execution_count": 147,
     "metadata": {},
     "output_type": "execute_result"
    }
   ],
   "source": [
    "# Random Forest Regressor\n",
    "regressor = RandomForestRegressor(n_estimators = 100, random_state = 1)\n",
    "\n",
    "# Fitting the model\n",
    "regressor.fit(x_train, y_train)\n",
    "\n",
    "# Model Performance on the test data\n",
    "regressor_perf_test = model_performance_regression(regressor, x_test, y_test)\n",
    "\n",
    "regressor_perf_test"
   ]
  },
  {
   "cell_type": "markdown",
   "id": "7c7553de",
   "metadata": {
    "id": "3u0gWZX1obu7"
   },
   "source": [
    "### **Tuned Random Forest Regressor**\n",
    "\n",
    "**NOTE:** Due to a large number of observations in the data, the code in the next cell for GridSearchCV might take 1-2 hours to run depending on the configuration of your system.  "
   ]
  },
  {
   "cell_type": "code",
   "execution_count": 148,
   "id": "6a767d6e",
   "metadata": {
    "colab": {
     "base_uri": "https://localhost:8080/"
    },
    "id": "ONfg_OIGoaLU",
    "outputId": "27db0837-b0f7-48da-fced-a4498cff7e3e"
   },
   "outputs": [
    {
     "data": {
      "text/plain": [
       "RandomForestRegressor(max_depth=7, max_features=0.8, n_estimators=120,\n",
       "                      random_state=1)"
      ]
     },
     "execution_count": 148,
     "metadata": {},
     "output_type": "execute_result"
    }
   ],
   "source": [
    "rf_tuned = RandomForestRegressor(random_state = 1)\n",
    "\n",
    "# Grid of parameters to choose from\n",
    "parameters = {\"n_estimators\": [110, 120],\n",
    "              \n",
    "    \"max_depth\": [5, 7],\n",
    "              \n",
    "    \"max_features\": [0.8, 1]\n",
    "             }\n",
    "\n",
    "# Type of scoring used to compare parameter combinations\n",
    "scorer = make_scorer(r2_score)\n",
    "\n",
    "# Run the grid search\n",
    "grid_obj = GridSearchCV(rf_tuned, parameters, scoring = scorer, cv = 5)\n",
    "\n",
    "grid_obj = grid_obj.fit(x_train, y_train)\n",
    "\n",
    "# Set the rf_tuned_regressor to the best combination of parameters\n",
    "rf_tuned_regressor = grid_obj.best_estimator_\n",
    "\n",
    "rf_tuned_regressor.fit(x_train, y_train)"
   ]
  },
  {
   "cell_type": "code",
   "execution_count": 149,
   "id": "9497ff75",
   "metadata": {
    "colab": {
     "base_uri": "https://localhost:8080/",
     "height": 81
    },
    "id": "wSh5GQzatVoR",
    "outputId": "593955e6-0d4a-4520-ed30-5682a9892196"
   },
   "outputs": [
    {
     "data": {
      "text/html": [
       "<div>\n",
       "<style scoped>\n",
       "    .dataframe tbody tr th:only-of-type {\n",
       "        vertical-align: middle;\n",
       "    }\n",
       "\n",
       "    .dataframe tbody tr th {\n",
       "        vertical-align: top;\n",
       "    }\n",
       "\n",
       "    .dataframe thead th {\n",
       "        text-align: right;\n",
       "    }\n",
       "</style>\n",
       "<table border=\"1\" class=\"dataframe\">\n",
       "  <thead>\n",
       "    <tr style=\"text-align: right;\">\n",
       "      <th></th>\n",
       "      <th>RMSE</th>\n",
       "      <th>MAE</th>\n",
       "      <th>R-squared</th>\n",
       "      <th>Adj. R-squared</th>\n",
       "      <th>MAPE</th>\n",
       "    </tr>\n",
       "  </thead>\n",
       "  <tbody>\n",
       "    <tr>\n",
       "      <th>0</th>\n",
       "      <td>1.722809</td>\n",
       "      <td>1.156349</td>\n",
       "      <td>0.952868</td>\n",
       "      <td>0.952848</td>\n",
       "      <td>9.640594</td>\n",
       "    </tr>\n",
       "  </tbody>\n",
       "</table>\n",
       "</div>"
      ],
      "text/plain": [
       "       RMSE       MAE  R-squared  Adj. R-squared      MAPE\n",
       "0  1.722809  1.156349   0.952868        0.952848  9.640594"
      ]
     },
     "execution_count": 149,
     "metadata": {},
     "output_type": "execute_result"
    }
   ],
   "source": [
    "# Model Performance on the test data\n",
    "rf_tuned_regressor_perf_test = model_performance_regression(rf_tuned_regressor, x_test, y_test)\n",
    "\n",
    "rf_tuned_regressor_perf_test"
   ]
  },
  {
   "cell_type": "markdown",
   "id": "bfe0f3af",
   "metadata": {
    "id": "SxhMeC6S2pMd"
   },
   "source": [
    "**Observations:**\n",
    "\n",
    "- The performance of the tuned model is decreased as compared to the model with default parameters. \n",
    "- This might be because we have tried a very less number of hyperparameters and less number of values due to computational limits. We can certainly try to improve the performance of the model by tuning the model further.   "
   ]
  },
  {
   "cell_type": "markdown",
   "id": "791467fb",
   "metadata": {
    "id": "-BwR44Moo7zT"
   },
   "source": [
    "**Visualizing the feature importance**"
   ]
  },
  {
   "cell_type": "code",
   "execution_count": 150,
   "id": "85ce891e",
   "metadata": {
    "colab": {
     "base_uri": "https://localhost:8080/",
     "height": 621
    },
    "id": "WpKYCHSAo619",
    "outputId": "010616a4-1755-4a87-f7b2-4a3be4a666d0"
   },
   "outputs": [
    {
     "data": {
      "image/png": "[encoded data removed]",
      "text/plain": [
       "<Figure size 720x720 with 1 Axes>"
      ]
     },
     "metadata": {
      "needs_background": "light"
     },
     "output_type": "display_data"
    }
   ],
   "source": [
    "# Plotting the feature importance\n",
    "importances = rf_tuned_regressor.feature_importances_\n",
    "\n",
    "indices = np.argsort(importances)\n",
    "\n",
    "plt.figure(figsize = (10, 10))\n",
    "\n",
    "plt.title('Feature Importances')\n",
    "\n",
    "plt.barh(range(len(indices)), importances[indices], color = 'violet', align = 'center')\n",
    "\n",
    "plt.yticks(range(len(indices)), [features[i] for i in indices])\n",
    "\n",
    "plt.xlabel('Relative Importance')\n",
    "\n",
    "plt.show()"
   ]
  },
  {
   "cell_type": "markdown",
   "id": "ebd7adb4",
   "metadata": {
    "id": "Bhc3EpOs2pMe"
   },
   "source": [
    "**Observation:**\n",
    "\n",
    "- The top 5 important variables are the same as the decision tree model. There are some other features like gender, and doctors adding some value to the model."
   ]
  },
  {
   "cell_type": "markdown",
   "id": "57a7a8f4",
   "metadata": {
    "id": "F_TAsHcN7f_O"
   },
   "source": [
    "### **Model Performance Comparison**"
   ]
  },
  {
   "cell_type": "code",
   "execution_count": 151,
   "id": "9ddd6a79",
   "metadata": {
    "colab": {
     "base_uri": "https://localhost:8080/",
     "height": 303
    },
    "id": "IU-67j8J7fUT",
    "outputId": "bda0aa5f-57ff-4901-eefc-36d6ff6c6ffe"
   },
   "outputs": [
    {
     "name": "stdout",
     "output_type": "stream",
     "text": [
      "Test performance comparison:\n"
     ]
    },
    {
     "data": {
      "text/html": [
       "<div>\n",
       "<style scoped>\n",
       "    .dataframe tbody tr th:only-of-type {\n",
       "        vertical-align: middle;\n",
       "    }\n",
       "\n",
       "    .dataframe tbody tr th {\n",
       "        vertical-align: top;\n",
       "    }\n",
       "\n",
       "    .dataframe thead th {\n",
       "        text-align: right;\n",
       "    }\n",
       "</style>\n",
       "<table border=\"1\" class=\"dataframe\">\n",
       "  <thead>\n",
       "    <tr style=\"text-align: right;\">\n",
       "      <th></th>\n",
       "      <th>Linear Regression</th>\n",
       "      <th>Ridge Regression</th>\n",
       "      <th>Decision tree regressor</th>\n",
       "      <th>Random Forest regressor</th>\n",
       "      <th>Bagging regressor</th>\n",
       "      <th>Tuned Decision Tree regressor</th>\n",
       "      <th>Tuned Bagging Tree regressor</th>\n",
       "      <th>Tuned Random Forest Regressor</th>\n",
       "    </tr>\n",
       "  </thead>\n",
       "  <tbody>\n",
       "    <tr>\n",
       "      <th>RMSE</th>\n",
       "      <td>3.144105</td>\n",
       "      <td>3.144039</td>\n",
       "      <td>1.815150</td>\n",
       "      <td>1.303684</td>\n",
       "      <td>1.368940</td>\n",
       "      <td>1.741743</td>\n",
       "      <td>1.536988</td>\n",
       "      <td>1.722809</td>\n",
       "    </tr>\n",
       "    <tr>\n",
       "      <th>MAE</th>\n",
       "      <td>2.155755</td>\n",
       "      <td>2.155819</td>\n",
       "      <td>1.128290</td>\n",
       "      <td>0.865050</td>\n",
       "      <td>0.905205</td>\n",
       "      <td>1.161072</td>\n",
       "      <td>1.032587</td>\n",
       "      <td>1.156349</td>\n",
       "    </tr>\n",
       "    <tr>\n",
       "      <th>R-squared</th>\n",
       "      <td>0.843023</td>\n",
       "      <td>0.843030</td>\n",
       "      <td>0.947680</td>\n",
       "      <td>0.973011</td>\n",
       "      <td>0.970242</td>\n",
       "      <td>0.951826</td>\n",
       "      <td>0.962487</td>\n",
       "      <td>0.952868</td>\n",
       "    </tr>\n",
       "    <tr>\n",
       "      <th>Adj. R-squared</th>\n",
       "      <td>0.842970</td>\n",
       "      <td>0.842964</td>\n",
       "      <td>0.947658</td>\n",
       "      <td>0.973000</td>\n",
       "      <td>0.970229</td>\n",
       "      <td>0.951806</td>\n",
       "      <td>0.962471</td>\n",
       "      <td>0.952848</td>\n",
       "    </tr>\n",
       "    <tr>\n",
       "      <th>MAPE</th>\n",
       "      <td>19.676739</td>\n",
       "      <td>19.677875</td>\n",
       "      <td>9.341248</td>\n",
       "      <td>7.314995</td>\n",
       "      <td>7.648842</td>\n",
       "      <td>9.646680</td>\n",
       "      <td>8.952246</td>\n",
       "      <td>9.640594</td>\n",
       "    </tr>\n",
       "  </tbody>\n",
       "</table>\n",
       "</div>"
      ],
      "text/plain": [
       "                Linear Regression  Ridge Regression  Decision tree regressor  \\\n",
       "RMSE                     3.144105          3.144039                 1.815150   \n",
       "MAE                      2.155755          2.155819                 1.128290   \n",
       "R-squared                0.843023          0.843030                 0.947680   \n",
       "Adj. R-squared           0.842970          0.842964                 0.947658   \n",
       "MAPE                    19.676739         19.677875                 9.341248   \n",
       "\n",
       "                Random Forest regressor  Bagging regressor  \\\n",
       "RMSE                           1.303684           1.368940   \n",
       "MAE                            0.865050           0.905205   \n",
       "R-squared                      0.973011           0.970242   \n",
       "Adj. R-squared                 0.973000           0.970229   \n",
       "MAPE                           7.314995           7.648842   \n",
       "\n",
       "                Tuned Decision Tree regressor  Tuned Bagging Tree regressor  \\\n",
       "RMSE                                 1.741743                      1.536988   \n",
       "MAE                                  1.161072                      1.032587   \n",
       "R-squared                            0.951826                      0.962487   \n",
       "Adj. R-squared                       0.951806                      0.962471   \n",
       "MAPE                                 9.646680                      8.952246   \n",
       "\n",
       "                Tuned Random Forest Regressor  \n",
       "RMSE                                 1.722809  \n",
       "MAE                                  1.156349  \n",
       "R-squared                            0.952868  \n",
       "Adj. R-squared                       0.952848  \n",
       "MAPE                                 9.640594  "
      ]
     },
     "execution_count": 151,
     "metadata": {},
     "output_type": "execute_result"
    }
   ],
   "source": [
    "models_test_comp_df = pd.concat(\n",
    "    [\n",
    "        lin_reg_test.T,\n",
    "        ridge_regression_perf_test.T,\n",
    "        dt_regressor_perf_test.T,\n",
    "        regressor_perf_test.T,\n",
    "        bagging_estimator_perf_test.T,\n",
    "        dtree_tuned_regressor_perf_test.T,\n",
    "        bagging_tuned_regressor_perf_test.T,\n",
    "        rf_tuned_regressor_perf_test.T\n",
    "    ],\n",
    "    axis = 1,\n",
    ")\n",
    "\n",
    "models_test_comp_df.columns = [\n",
    "    \"Linear Regression\",\n",
    "    \"Ridge Regression\",\n",
    "    \"Decision tree regressor\",\n",
    "    \"Random Forest regressor\",\n",
    "    \"Bagging regressor\",\n",
    "    \"Tuned Decision Tree regressor\",\n",
    "    \"Tuned Bagging Tree regressor\",\n",
    "    \"Tuned Random Forest Regressor\"]\n",
    "\n",
    "print(\"Test performance comparison:\")\n",
    "\n",
    "models_test_comp_df"
   ]
  },
  {
   "cell_type": "markdown",
   "id": "3f3af7d8",
   "metadata": {
    "id": "e0DitToI2pMf"
   },
   "source": [
    "**Observations:**\n",
    "\n",
    "- All the other models are giving a good performance in terms of RMSE and R-squared when compared to linear and ridge regression.\n",
    "- The bagging and random forest models are performing better than a single decision tree.\n",
    "- The random forest model with default parameters is giving the best performance among all the trained models."
   ]
  },
  {
   "cell_type": "markdown",
   "id": "8afa8943",
   "metadata": {
    "id": "XR43ExubwV-n"
   },
   "source": [
    "### **Fitting the chosen final model**"
   ]
  },
  {
   "cell_type": "markdown",
   "id": "b6f3cdd1",
   "metadata": {
    "id": "1oHyMjnZwWpx"
   },
   "source": [
    "- Final Model Building - Random Forest Regressor\n",
    "- We will consider Random Forest Regressor with default parameters as our final model."
   ]
  },
  {
   "cell_type": "code",
   "execution_count": 152,
   "id": "01c05c39",
   "metadata": {
    "colab": {
     "base_uri": "https://localhost:8080/"
    },
    "id": "bmQYd6r_vxsz",
    "outputId": "c8ea8c7b-6dc3-44af-916f-ebd0e21cea36"
   },
   "outputs": [
    {
     "data": {
      "text/plain": [
       "RandomForestRegressor(random_state=1)"
      ]
     },
     "execution_count": 152,
     "metadata": {},
     "output_type": "execute_result"
    }
   ],
   "source": [
    "final_model = RandomForestRegressor(n_estimators = 100, random_state = 1)\n",
    "\n",
    "final_model.fit(x_train, y_train)"
   ]
  },
  {
   "cell_type": "code",
   "execution_count": 153,
   "id": "0cbce811",
   "metadata": {
    "id": "LDAl8XtNvxu4"
   },
   "outputs": [],
   "source": [
    "final_model_perf_train = model_performance_regression(final_model, x_train, y_train)"
   ]
  },
  {
   "cell_type": "code",
   "execution_count": 154,
   "id": "7ce5214e",
   "metadata": {
    "colab": {
     "base_uri": "https://localhost:8080/",
     "height": 81
    },
    "id": "Mr9nsi1kzXh3",
    "outputId": "6e0cdee1-3365-4612-b510-8cf370c86408"
   },
   "outputs": [
    {
     "data": {
      "text/html": [
       "<div>\n",
       "<style scoped>\n",
       "    .dataframe tbody tr th:only-of-type {\n",
       "        vertical-align: middle;\n",
       "    }\n",
       "\n",
       "    .dataframe tbody tr th {\n",
       "        vertical-align: top;\n",
       "    }\n",
       "\n",
       "    .dataframe thead th {\n",
       "        text-align: right;\n",
       "    }\n",
       "</style>\n",
       "<table border=\"1\" class=\"dataframe\">\n",
       "  <thead>\n",
       "    <tr style=\"text-align: right;\">\n",
       "      <th></th>\n",
       "      <th>RMSE</th>\n",
       "      <th>MAE</th>\n",
       "      <th>R-squared</th>\n",
       "      <th>Adj. R-squared</th>\n",
       "      <th>MAPE</th>\n",
       "    </tr>\n",
       "  </thead>\n",
       "  <tbody>\n",
       "    <tr>\n",
       "      <th>0</th>\n",
       "      <td>0.487743</td>\n",
       "      <td>0.321099</td>\n",
       "      <td>0.996195</td>\n",
       "      <td>0.996195</td>\n",
       "      <td>2.71949</td>\n",
       "    </tr>\n",
       "  </tbody>\n",
       "</table>\n",
       "</div>"
      ],
      "text/plain": [
       "       RMSE       MAE  R-squared  Adj. R-squared     MAPE\n",
       "0  0.487743  0.321099   0.996195        0.996195  2.71949"
      ]
     },
     "execution_count": 154,
     "metadata": {},
     "output_type": "execute_result"
    }
   ],
   "source": [
    "final_model_perf_train"
   ]
  },
  {
   "cell_type": "markdown",
   "id": "c94e4763",
   "metadata": {
    "id": "HLv7Ihr9wz73"
   },
   "source": [
    "* **Both the R-squared and the Adjusted R-squared of the model are approx 99.6% on the training data.** This indicates that the model can explain approx full variance in the target variable using the independent variables.\n",
    "\n",
    "* Let's do a quick performance check on the test data."
   ]
  },
  {
   "cell_type": "code",
   "execution_count": 155,
   "id": "57341847",
   "metadata": {
    "colab": {
     "base_uri": "https://localhost:8080/",
     "height": 98
    },
    "id": "raTSMaGtvxwl",
    "outputId": "939d608f-1ddf-4e04-f943-34fee927cff9"
   },
   "outputs": [
    {
     "name": "stdout",
     "output_type": "stream",
     "text": [
      "Test Performance:\n"
     ]
    },
    {
     "data": {
      "text/html": [
       "<div>\n",
       "<style scoped>\n",
       "    .dataframe tbody tr th:only-of-type {\n",
       "        vertical-align: middle;\n",
       "    }\n",
       "\n",
       "    .dataframe tbody tr th {\n",
       "        vertical-align: top;\n",
       "    }\n",
       "\n",
       "    .dataframe thead th {\n",
       "        text-align: right;\n",
       "    }\n",
       "</style>\n",
       "<table border=\"1\" class=\"dataframe\">\n",
       "  <thead>\n",
       "    <tr style=\"text-align: right;\">\n",
       "      <th></th>\n",
       "      <th>RMSE</th>\n",
       "      <th>MAE</th>\n",
       "      <th>R-squared</th>\n",
       "      <th>Adj. R-squared</th>\n",
       "      <th>MAPE</th>\n",
       "    </tr>\n",
       "  </thead>\n",
       "  <tbody>\n",
       "    <tr>\n",
       "      <th>0</th>\n",
       "      <td>1.303684</td>\n",
       "      <td>0.86505</td>\n",
       "      <td>0.973011</td>\n",
       "      <td>0.973</td>\n",
       "      <td>7.314995</td>\n",
       "    </tr>\n",
       "  </tbody>\n",
       "</table>\n",
       "</div>"
      ],
      "text/plain": [
       "       RMSE      MAE  R-squared  Adj. R-squared      MAPE\n",
       "0  1.303684  0.86505   0.973011           0.973  7.314995"
      ]
     },
     "execution_count": 155,
     "metadata": {},
     "output_type": "execute_result"
    }
   ],
   "source": [
    "final_model_test_perf = model_performance_regression(final_model, x_test, y_test)\n",
    "\n",
    "print(\"Test Performance:\")\n",
    "\n",
    "final_model_test_perf"
   ]
  },
  {
   "cell_type": "markdown",
   "id": "c2c5d549",
   "metadata": {
    "id": "mk02N6Q_w92q"
   },
   "source": [
    "* The model is giving good performance on the test data as well, i.e., the model is giving a generalized performance.\n",
    "* The units of both RMSE and MAE are the same, days in this case. But RMSE is greater than MAE because it penalizes the outliers more.\n",
    "* **The MAE < 1 indicates that the model can predict the length of stay within a mean error of 1 day,** which is a very good performance.\n",
    "* **MAPE of 7.31 on the test data indicates that the model can predict within ~7% of the actual length of stay of patients.**"
   ]
  },
  {
   "cell_type": "markdown",
   "id": "56e2ac95",
   "metadata": {
    "id": "Dpctb2GgwLAY"
   },
   "source": [
    "**Observations:**\n",
    "\n",
    "1. Random Forest Regressor model gives the best results. It is successful in capturing ~97% of variations in the test data.\n",
    "2. MAE of 0.86 indicates that the model can successfully predict the length of stay of a patient during admission with just an error of approximately 1 day. \n",
    "3. Factors like **visitors with patient** and **admission deposit** play an important role in the prediction.\n",
    "4. Factors like **staff_available** and **extra rooms** has very less to do with the prediction from the model."
   ]
  },
  {
   "cell_type": "markdown",
   "id": "15966cd9",
   "metadata": {
    "id": "mYlv2xRvvzFr"
   },
   "source": [
    "## **Business Insights and Recommendations**"
   ]
  },
  {
   "cell_type": "markdown",
   "id": "628ff9c5",
   "metadata": {
    "id": "UPhjEiZ8v1Ub"
   },
   "source": [
    "- Gynecology is the busiest department of the hospital and it handles 68.7% of the total number of patients. It needs ample resources and staff for the smooth functioning of the department.\n",
    "- The number of visitors with the patients highly influences the length of stay of a patient. The maximum number of visitors can go up to 32 which is very high. A restriction can be imposed on this.\n",
    "- 74.2% of the patients are female. Thus, resources need to be procured while keeping this figure in mind.\n",
    "- A large percentage of patients (89.3%) are in trauma or emergency during admission. An increase in ambulances and emergency rooms can reduce the risk of casualties.\n",
    "- Ward A has the most number of patients who stay for the longest and the most serious patients. These wards can be equipped with more resources and staff to reduce the length of stay of these patients.\n",
    "- Elderly patients (51-100) and children (1-10) stay for the longest. Extra attention to these age groups can lead to a faster discharge from the hospital.\n",
    "- Wards D, E, and C have the most visitors with a patient. These wards will need more space and amenities like washrooms, shops, and lobbies for the visitors. Spaces can also be rented out to shop owners and advertisements to generate extra income.\n",
    "- Finally, the Random Forest Regressor can predict the length of stay of the patient with just an error of 1 day. The hospital can use these predictions to allocate the resources and staff accordingly and reduce any kind of wastage. The hospital can also allocate the wards and doctors accordingly to optimize admissions even during emergencies."
   ]
  },
  {
   "cell_type": "markdown",
   "id": "bd56a411",
   "metadata": {
    "id": "-NCsvoPRS5rZ"
   },
   "source": [
    "## **Additional Content (Optional)**\n",
    "\n",
    "## **Boosting Models**\n",
    "\n",
    "Let's now look at the other kind of Ensemble technique knowns as Boosting"
   ]
  },
  {
   "cell_type": "markdown",
   "id": "36100083",
   "metadata": {
    "id": "cbgGiDdslXUn"
   },
   "source": [
    "### **XGBoost**\n",
    "- XGBoost stands for Extreme Gradient Boosting.\n",
    "- XGBoost is a tree-based ensemble machine learning technique that improves prediction power and performance by improvising on the Gradient Boosting framework and incorporating reliable approximation algorithms. It is widely utilized and routinely appears at the top of competition leader boards in data science."
   ]
  },
  {
   "cell_type": "code",
   "execution_count": 156,
   "id": "ebf6a8a2",
   "metadata": {
    "colab": {
     "base_uri": "https://localhost:8080/"
    },
    "id": "eEI6-ZDoYkw8",
    "outputId": "50007062-ad62-4375-935f-94539051e7c8"
   },
   "outputs": [
    {
     "name": "stdout",
     "output_type": "stream",
     "text": [
      "Collecting xgboost\n",
      "  Downloading xgboost-1.6.0-py3-none-win_amd64.whl (126.1 MB)\n",
      "Requirement already satisfied: scipy in c:\\users\\acer\\anaconda3\\lib\\site-packages (from xgboost) (1.6.1)\n",
      "Requirement already satisfied: numpy in c:\\users\\acer\\anaconda3\\lib\\site-packages (from xgboost) (1.20.3)\n",
      "Installing collected packages: xgboost\n",
      "Successfully installed xgboost-1.6.0\n"
     ]
    },
    {
     "name": "stderr",
     "output_type": "stream",
     "text": [
      "WARNING: Ignoring invalid distribution -tatsmodels (c:\\users\\acer\\anaconda3\\lib\\site-packages)\n",
      "WARNING: Ignoring invalid distribution -tatsmodels (c:\\users\\acer\\anaconda3\\lib\\site-packages)\n",
      "WARNING: Ignoring invalid distribution -tatsmodels (c:\\users\\acer\\anaconda3\\lib\\site-packages)\n",
      "WARNING: Ignoring invalid distribution -tatsmodels (c:\\users\\acer\\anaconda3\\lib\\site-packages)\n",
      "WARNING: Ignoring invalid distribution -tatsmodels (c:\\users\\acer\\anaconda3\\lib\\site-packages)\n",
      "WARNING: Ignoring invalid distribution -tatsmodels (c:\\users\\acer\\anaconda3\\lib\\site-packages)\n",
      "WARNING: Ignoring invalid distribution -tatsmodels (c:\\users\\acer\\anaconda3\\lib\\site-packages)\n"
     ]
    }
   ],
   "source": [
    "# Installing the xgboost library using the 'pip' command.\n",
    "!pip install xgboost"
   ]
  },
  {
   "cell_type": "code",
   "execution_count": 157,
   "id": "d75868f8",
   "metadata": {
    "id": "hky6XMUzYi0S"
   },
   "outputs": [],
   "source": [
    "# Importing the Random Forest Regressor and Bagging Regressor [Bagging]\n",
    "from sklearn.ensemble import RandomForestRegressor, BaggingRegressor\n",
    "\n",
    "# Importing the AdaBoostRegressor and GradientBoostingRegressor [Boosting]\n",
    "from sklearn.ensemble import AdaBoostRegressor, GradientBoostingRegressor\n",
    "\n",
    "# Importing the XGBReressor from the xgboost\n",
    "from xgboost import XGBRegressor"
   ]
  },
  {
   "cell_type": "code",
   "execution_count": 158,
   "id": "b07008fe",
   "metadata": {
    "colab": {
     "base_uri": "https://localhost:8080/",
     "height": 81
    },
    "id": "cbXxkU2dmNym",
    "outputId": "e492e7b0-e10c-4a02-9950-78e2112a424f"
   },
   "outputs": [
    {
     "data": {
      "text/html": [
       "<div>\n",
       "<style scoped>\n",
       "    .dataframe tbody tr th:only-of-type {\n",
       "        vertical-align: middle;\n",
       "    }\n",
       "\n",
       "    .dataframe tbody tr th {\n",
       "        vertical-align: top;\n",
       "    }\n",
       "\n",
       "    .dataframe thead th {\n",
       "        text-align: right;\n",
       "    }\n",
       "</style>\n",
       "<table border=\"1\" class=\"dataframe\">\n",
       "  <thead>\n",
       "    <tr style=\"text-align: right;\">\n",
       "      <th></th>\n",
       "      <th>RMSE</th>\n",
       "      <th>MAE</th>\n",
       "      <th>R-squared</th>\n",
       "      <th>Adj. R-squared</th>\n",
       "      <th>MAPE</th>\n",
       "    </tr>\n",
       "  </thead>\n",
       "  <tbody>\n",
       "    <tr>\n",
       "      <th>0</th>\n",
       "      <td>2.375388</td>\n",
       "      <td>1.58689</td>\n",
       "      <td>0.910399</td>\n",
       "      <td>0.910362</td>\n",
       "      <td>13.623722</td>\n",
       "    </tr>\n",
       "  </tbody>\n",
       "</table>\n",
       "</div>"
      ],
      "text/plain": [
       "       RMSE      MAE  R-squared  Adj. R-squared       MAPE\n",
       "0  2.375388  1.58689   0.910399        0.910362  13.623722"
      ]
     },
     "execution_count": 158,
     "metadata": {},
     "output_type": "execute_result"
    }
   ],
   "source": [
    "# Adaboost Regressor\n",
    "adaboost_model = AdaBoostRegressor(random_state = 1)\n",
    "\n",
    "# Fitting the model\n",
    "adaboost_model.fit(x_train, y_train)\n",
    "\n",
    "# Model Performance on the test data\n",
    "adaboost_model_perf_test = model_performance_regression(adaboost_model, x_test, y_test)\n",
    "\n",
    "adaboost_model_perf_test"
   ]
  },
  {
   "cell_type": "code",
   "execution_count": 159,
   "id": "3e7c473d",
   "metadata": {
    "id": "quTWFI5eornN"
   },
   "outputs": [
    {
     "data": {
      "text/html": [
       "<div>\n",
       "<style scoped>\n",
       "    .dataframe tbody tr th:only-of-type {\n",
       "        vertical-align: middle;\n",
       "    }\n",
       "\n",
       "    .dataframe tbody tr th {\n",
       "        vertical-align: top;\n",
       "    }\n",
       "\n",
       "    .dataframe thead th {\n",
       "        text-align: right;\n",
       "    }\n",
       "</style>\n",
       "<table border=\"1\" class=\"dataframe\">\n",
       "  <thead>\n",
       "    <tr style=\"text-align: right;\">\n",
       "      <th></th>\n",
       "      <th>RMSE</th>\n",
       "      <th>MAE</th>\n",
       "      <th>R-squared</th>\n",
       "      <th>Adj. R-squared</th>\n",
       "      <th>MAPE</th>\n",
       "    </tr>\n",
       "  </thead>\n",
       "  <tbody>\n",
       "    <tr>\n",
       "      <th>0</th>\n",
       "      <td>1.792721</td>\n",
       "      <td>1.212749</td>\n",
       "      <td>0.948965</td>\n",
       "      <td>0.948944</td>\n",
       "      <td>10.247284</td>\n",
       "    </tr>\n",
       "  </tbody>\n",
       "</table>\n",
       "</div>"
      ],
      "text/plain": [
       "       RMSE       MAE  R-squared  Adj. R-squared       MAPE\n",
       "0  1.792721  1.212749   0.948965        0.948944  10.247284"
      ]
     },
     "execution_count": 159,
     "metadata": {},
     "output_type": "execute_result"
    }
   ],
   "source": [
    "# Gradient Boost Regressor\n",
    "gbc = GradientBoostingRegressor(random_state = 1)\n",
    "\n",
    "# Fitting the model\n",
    "gbc.fit(x_train, y_train)\n",
    "\n",
    "# Model Performance on the test data\n",
    "gbc_perf_test = model_performance_regression(gbc, x_test, y_test)\n",
    "\n",
    "gbc_perf_test"
   ]
  },
  {
   "cell_type": "code",
   "execution_count": 160,
   "id": "88cf5c60",
   "metadata": {
    "id": "xPyN6_CVoxYy"
   },
   "outputs": [
    {
     "data": {
      "text/html": [
       "<div>\n",
       "<style scoped>\n",
       "    .dataframe tbody tr th:only-of-type {\n",
       "        vertical-align: middle;\n",
       "    }\n",
       "\n",
       "    .dataframe tbody tr th {\n",
       "        vertical-align: top;\n",
       "    }\n",
       "\n",
       "    .dataframe thead th {\n",
       "        text-align: right;\n",
       "    }\n",
       "</style>\n",
       "<table border=\"1\" class=\"dataframe\">\n",
       "  <thead>\n",
       "    <tr style=\"text-align: right;\">\n",
       "      <th></th>\n",
       "      <th>RMSE</th>\n",
       "      <th>MAE</th>\n",
       "      <th>R-squared</th>\n",
       "      <th>Adj. R-squared</th>\n",
       "      <th>MAPE</th>\n",
       "    </tr>\n",
       "  </thead>\n",
       "  <tbody>\n",
       "    <tr>\n",
       "      <th>0</th>\n",
       "      <td>1.510606</td>\n",
       "      <td>1.033003</td>\n",
       "      <td>0.963764</td>\n",
       "      <td>0.963748</td>\n",
       "      <td>8.867275</td>\n",
       "    </tr>\n",
       "  </tbody>\n",
       "</table>\n",
       "</div>"
      ],
      "text/plain": [
       "       RMSE       MAE  R-squared  Adj. R-squared      MAPE\n",
       "0  1.510606  1.033003   0.963764        0.963748  8.867275"
      ]
     },
     "execution_count": 160,
     "metadata": {},
     "output_type": "execute_result"
    }
   ],
   "source": [
    "# XGBoost Regressor\n",
    "xgb = XGBRegressor(random_state = 1, eval_metric = 'logloss')\n",
    "\n",
    "# Fitting the model\n",
    "xgb.fit(x_train,y_train)\n",
    "\n",
    "# Model Performance on the test data\n",
    "xgb_perf_test = model_performance_regression(xgb, x_test, y_test)\n",
    "\n",
    "xgb_perf_test"
   ]
  },
  {
   "cell_type": "markdown",
   "id": "d8dfe55a",
   "metadata": {
    "id": "Wal3dM_29yLW"
   },
   "source": [
    "### **Hyperparameter Tuning: Boosting**\n",
    "\n",
    "Hyperparameter tuning is a great technique in machine learning to develop the model with optimal parameters. If the size of the data increases, the computation time will increase during the training process.\n",
    "- For practice purposes, we have listed below some of the important hyperparameters for each algorithm that can be tuned to improve the model performance."
   ]
  },
  {
   "cell_type": "markdown",
   "id": "42e85fc0",
   "metadata": {
    "id": "btmWTNY26aRq"
   },
   "source": [
    "**1. Adaboost**\n",
    "\n",
    "- - Some important hyperparameters that can be tuned:\n",
    "\n",
    " - **base_estimator** object, default = None\n",
    "The base estimator from which the boosted ensemble is built. If None, then the base estimator is DecisionTreeRegressor initialized with max_depth = 3.\n",
    "  - **n_estimators** int, default = 50\n",
    "  The maximum number of estimators at which boosting is terminated. In the case of a perfect fit, the learning procedure is stopped early.\n",
    "  \n",
    "  - **loss:** {‘linear’, ‘square’, ‘exponential’}, default = ’linear’\n",
    "The loss function to use when updating the weights after each boosting iteration.\n",
    "\n",
    " - **learning_rate** float, default = 1.0\n",
    "Weight is applied to each regressor at each boosting iteration. A higher learning rate increases the contribution of each regressor.\n",
    "\n",
    "**2. Gradient Boosting Algorithm**\n",
    "\n",
    "- - Some important hyperparameters that can be tuned:\n",
    "\n",
    " - **n_estimators**: The number of boosting stages that will be performed.\n",
    " \n",
    " - **max_depth**: Limits the number of nodes in the tree. The best value depends on the interaction of the input variables.\n",
    "\n",
    "  - **min_samples_split**: The minimum number of samples required to split an internal node.\n",
    "\n",
    "  - **learning_rate**: How much the contribution of each tree will shrink.\n",
    "\n",
    "  - **loss**:Loss function to optimize. \n",
    "\n",
    "For a better understanding of each parameter in the Gradient Boosting Regressor, please refer to this [source](https://scikit-learn.org/stable/modules/generated/sklearn.ensemble.GradientBoostingRegressor.html#sklearn.ensemble.GradientBoostingRegressor).\n",
    "\n",
    "\n",
    "**3. XGBoost Algorithm**\n",
    "\n",
    "- - Some important hyperparameters that can be tuned:\n",
    "\n",
    " - **booster** [default = gbtree ] Which booster to use. Can be gbtree, gblinear, or dart; gbtree and dart use tree-based models while gblinear uses linear functions.\n",
    " \n",
    " - **min_child_weight** [default = 1]\n",
    "\n",
    "   The minimum sum of instance weight (hessian) needed in a child. If the tree partition step results in a leaf node with the sum of instance weight less than min_child_weight, then the building process will give up further partitioning. In the linear regression task, this simply corresponds to the minimum number of instances needed to be in each node. The larger min_child_weight is, the more conservative the algorithm will be.\n",
    "\n",
    "  For a better understanding of each parameter in the XGBoost Regressor, please refer to this [source](https://xgboost.readthedocs.io/en/stable/parameter.html)."
   ]
  },
  {
   "cell_type": "markdown",
   "id": "50144775",
   "metadata": {
    "id": "icuGOdgBg9ZL"
   },
   "source": [
    "### **Comparison of all the models we have built so far**"
   ]
  },
  {
   "cell_type": "code",
   "execution_count": 161,
   "id": "f1efc6f6",
   "metadata": {
    "id": "QU4hsMH4d_tk",
    "outputId": "5f772d78-ade6-4c4d-b933-23e5e063beeb"
   },
   "outputs": [
    {
     "name": "stdout",
     "output_type": "stream",
     "text": [
      "Test performance comparison:\n"
     ]
    }
   ],
   "source": [
    "models_test_comp_df = pd.concat(\n",
    "    [\n",
    "        lin_reg_test.T,\n",
    "        ridge_regression_perf_test.T,\n",
    "        dt_regressor_perf_test.T,\n",
    "        regressor_perf_test.T,\n",
    "        bagging_estimator_perf_test.T,\n",
    "        adaboost_model_perf_test.T,\n",
    "        gbc_perf_test.T,\n",
    "        xgb_perf_test.T\n",
    "    ],\n",
    "    axis = 1,\n",
    ")\n",
    "\n",
    "models_test_comp_df.columns = [\n",
    "    \"Linear Regression\",\n",
    "    \"Ridge Regression\",\n",
    "    \"Decision tree regressor\",\n",
    "    \"Random Forest regressor\",\n",
    "    \"Bagging regressor\",\n",
    "    \"Adaboost regressor\",\n",
    "    \"Gradientboost regressor\",\n",
    "    \"XGBoost regressor\"\n",
    "]\n",
    "\n",
    "print(\"Test performance comparison:\")"
   ]
  },
  {
   "cell_type": "code",
   "execution_count": 162,
   "id": "929c4451",
   "metadata": {
    "colab": {
     "base_uri": "https://localhost:8080/",
     "height": 250
    },
    "id": "oEHFbSbZVYHF",
    "outputId": "4d45ab32-a03e-4265-9127-eb8cd6c4149f"
   },
   "outputs": [
    {
     "data": {
      "text/html": [
       "<div>\n",
       "<style scoped>\n",
       "    .dataframe tbody tr th:only-of-type {\n",
       "        vertical-align: middle;\n",
       "    }\n",
       "\n",
       "    .dataframe tbody tr th {\n",
       "        vertical-align: top;\n",
       "    }\n",
       "\n",
       "    .dataframe thead th {\n",
       "        text-align: right;\n",
       "    }\n",
       "</style>\n",
       "<table border=\"1\" class=\"dataframe\">\n",
       "  <thead>\n",
       "    <tr style=\"text-align: right;\">\n",
       "      <th></th>\n",
       "      <th>Linear Regression</th>\n",
       "      <th>Ridge Regression</th>\n",
       "      <th>Decision tree regressor</th>\n",
       "      <th>Random Forest regressor</th>\n",
       "      <th>Bagging regressor</th>\n",
       "      <th>Adaboost regressor</th>\n",
       "      <th>Gradientboost regressor</th>\n",
       "      <th>XGBoost regressor</th>\n",
       "    </tr>\n",
       "  </thead>\n",
       "  <tbody>\n",
       "    <tr>\n",
       "      <th>RMSE</th>\n",
       "      <td>3.144105</td>\n",
       "      <td>3.144039</td>\n",
       "      <td>1.815150</td>\n",
       "      <td>1.303684</td>\n",
       "      <td>1.368940</td>\n",
       "      <td>2.375388</td>\n",
       "      <td>1.792721</td>\n",
       "      <td>1.510606</td>\n",
       "    </tr>\n",
       "    <tr>\n",
       "      <th>MAE</th>\n",
       "      <td>2.155755</td>\n",
       "      <td>2.155819</td>\n",
       "      <td>1.128290</td>\n",
       "      <td>0.865050</td>\n",
       "      <td>0.905205</td>\n",
       "      <td>1.586890</td>\n",
       "      <td>1.212749</td>\n",
       "      <td>1.033003</td>\n",
       "    </tr>\n",
       "    <tr>\n",
       "      <th>R-squared</th>\n",
       "      <td>0.843023</td>\n",
       "      <td>0.843030</td>\n",
       "      <td>0.947680</td>\n",
       "      <td>0.973011</td>\n",
       "      <td>0.970242</td>\n",
       "      <td>0.910399</td>\n",
       "      <td>0.948965</td>\n",
       "      <td>0.963764</td>\n",
       "    </tr>\n",
       "    <tr>\n",
       "      <th>Adj. R-squared</th>\n",
       "      <td>0.842970</td>\n",
       "      <td>0.842964</td>\n",
       "      <td>0.947658</td>\n",
       "      <td>0.973000</td>\n",
       "      <td>0.970229</td>\n",
       "      <td>0.910362</td>\n",
       "      <td>0.948944</td>\n",
       "      <td>0.963748</td>\n",
       "    </tr>\n",
       "    <tr>\n",
       "      <th>MAPE</th>\n",
       "      <td>19.676739</td>\n",
       "      <td>19.677875</td>\n",
       "      <td>9.341248</td>\n",
       "      <td>7.314995</td>\n",
       "      <td>7.648842</td>\n",
       "      <td>13.623722</td>\n",
       "      <td>10.247284</td>\n",
       "      <td>8.867275</td>\n",
       "    </tr>\n",
       "  </tbody>\n",
       "</table>\n",
       "</div>"
      ],
      "text/plain": [
       "                Linear Regression  Ridge Regression  Decision tree regressor  \\\n",
       "RMSE                     3.144105          3.144039                 1.815150   \n",
       "MAE                      2.155755          2.155819                 1.128290   \n",
       "R-squared                0.843023          0.843030                 0.947680   \n",
       "Adj. R-squared           0.842970          0.842964                 0.947658   \n",
       "MAPE                    19.676739         19.677875                 9.341248   \n",
       "\n",
       "                Random Forest regressor  Bagging regressor  \\\n",
       "RMSE                           1.303684           1.368940   \n",
       "MAE                            0.865050           0.905205   \n",
       "R-squared                      0.973011           0.970242   \n",
       "Adj. R-squared                 0.973000           0.970229   \n",
       "MAPE                           7.314995           7.648842   \n",
       "\n",
       "                Adaboost regressor  Gradientboost regressor  XGBoost regressor  \n",
       "RMSE                      2.375388                 1.792721           1.510606  \n",
       "MAE                       1.586890                 1.212749           1.033003  \n",
       "R-squared                 0.910399                 0.948965           0.963764  \n",
       "Adj. R-squared            0.910362                 0.948944           0.963748  \n",
       "MAPE                     13.623722                10.247284           8.867275  "
      ]
     },
     "execution_count": 162,
     "metadata": {},
     "output_type": "execute_result"
    }
   ],
   "source": [
    "models_test_comp_df"
   ]
  },
  {
   "cell_type": "markdown",
   "id": "e2461d97",
   "metadata": {
    "id": "NxMEPVeETRpV"
   },
   "source": [
    "**Observations:**\n",
    "\n",
    "* With default parameters, the bagging methods outperform the boosting methods.\n",
    "* **The Random Forest Regressor gives the best performance for this dataset.**"
   ]
  }
 ],
 "metadata": {
  "kernelspec": {
   "display_name": "Python 3 (ipykernel)",
   "language": "python",
   "name": "python3"
  },
  "language_info": {
   "codemirror_mode": {
    "name": "ipython",
    "version": 3
   },
   "file_extension": ".py",
   "mimetype": "text/x-python",
   "name": "python",
   "nbconvert_exporter": "python",
   "pygments_lexer": "ipython3",
   "version": "3.9.7"
  }
 },
 "nbformat": 4,
 "nbformat_minor": 5
}
