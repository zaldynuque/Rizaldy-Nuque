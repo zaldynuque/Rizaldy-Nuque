{
 "cells": [
  {
   "cell_type": "markdown",
   "metadata": {},
   "source": [
    "# **Time Series Project: Forecasting Amazon Stock Prices**\n",
    "\n",
    "# **Marks: 30**"
   ]
  },
  {
   "cell_type": "markdown",
   "metadata": {
    "id": "HOp58caIJ7Dn"
   },
   "source": [
    "Welcome to the project on Time Series. We will use the Amazon Stock Prices dataset for this project.\n",
    " \n",
    "----------------\n",
    "## **Context:** \n",
    "----------------\n",
    "\n",
    "**Stocks are one of the most popular financial instruments invented for building wealth** and are the **centerpiece of any investment portfolio.** Recent advances in trading technology have opened up stock markets in such a way that nowadays, **nearly anybody can own stocks.** \n",
    "\n",
    "In the last few decades, there's been an **explosive increase in the average person's interest in the stock market.** This makes stock value prediction an interesting and popular problem to explore.\n",
    "\n",
    "\n",
    "------------------\n",
    "## **Objective:**\n",
    "------------------\n",
    "\n",
    "Amazon.com, Inc. engages in the retail sale of consumer products and subscriptions in North America as well as internationally. This dataset consists of monthly average stock closing prices of Amazon over a period of 12 years from 2006 to 2017. We have to **build a time series model** using the AR, MA, ARMA, and ARIMA models in order to **forecast the stock closing price of Amazon.**\n",
    "\n",
    "--------------------------\n",
    "## **Data Dictionary:**\n",
    "--------------------------\n",
    "- **date:** Date when the price was collected\n",
    "- **close:** Closing price of the stock"
   ]
  },
  {
   "cell_type": "markdown",
   "metadata": {
    "id": "8exxCklSLD58"
   },
   "source": [
    "## **Importing the necessary libraries and overview of the dataset**"
   ]
  },
  {
   "cell_type": "markdown",
   "metadata": {},
   "source": [
    "**Important Note: Please note that we are downgrading the version of the statsmodels library to version 0.12.1.** Due to some variations, the latest version of the library might not give us the desired results. You can run the below code to downgrade the library and avoid any issues in the output. Once the code runs successfully, either restart the kernel or restart the Jupyter Notebook before importing the statsmodels library. It is enough to run the install statsmodels cell once. To be sure you are using the correct version of the library, you can use the code in the **version check** cell of the notebook."
   ]
  },
  {
   "cell_type": "code",
   "execution_count": 1,
   "metadata": {},
   "outputs": [],
   "source": [
    "!pip install statsmodels == 0.12.1"
   ]
  },
  {
   "cell_type": "code",
   "execution_count": 2,
   "metadata": {},
   "outputs": [
    {
     "data": {
      "text/plain": [
       "'0.12.1'"
      ]
     },
     "execution_count": 2,
     "metadata": {},
     "output_type": "execute_result"
    }
   ],
   "source": [
    "# Version check \n",
    "\n",
    "import statsmodels\n",
    "\n",
    "statsmodels.__version__"
   ]
  },
  {
   "cell_type": "code",
   "execution_count": 3,
   "metadata": {
    "id": "gLjB0Gq3tjd9"
   },
   "outputs": [],
   "source": [
    "# Importing libraries for data manipulation\n",
    "import pandas as pd\n",
    "\n",
    "import numpy as np\n",
    "\n",
    "# Importing libraries for visualization\n",
    "import matplotlib.pylab as plt\n",
    "\n",
    "import seaborn as sns\n",
    "\n",
    "# Importing library for date manipulation\n",
    "from datetime import datetime\n",
    "\n",
    "# To calculate the MSE or RMSE\n",
    "from sklearn.metrics import mean_squared_error\n",
    "\n",
    "# Importing acf and pacf functions\n",
    "from statsmodels.graphics.tsaplots import plot_acf, plot_pacf\n",
    "\n",
    "# Importing models from statsmodels library\n",
    "from statsmodels.tsa.ar_model import AutoReg\n",
    "\n",
    "from statsmodels.tsa.arima.model import ARIMA\n",
    "\n",
    "# To ignore the warnings\n",
    "import warnings\n",
    "warnings.filterwarnings('ignore')"
   ]
  },
  {
   "cell_type": "markdown",
   "metadata": {
    "id": "s1M9cLcwLjYP"
   },
   "source": [
    "### **Loading the dataset**"
   ]
  },
  {
   "cell_type": "code",
   "execution_count": 4,
   "metadata": {
    "id": "yEY4X-hi6YNd"
   },
   "outputs": [],
   "source": [
    "# If you are having an issue while loading the excel file in pandas, please run the below command in anaconda prompt, otherwise ignore.\n",
    "# conda install -c anaconda xlrd"
   ]
  },
  {
   "cell_type": "code",
   "execution_count": 5,
   "metadata": {
    "colab": {
     "base_uri": "https://localhost:8080/",
     "height": 197
    },
    "id": "txrecHfeD-Xk",
    "outputId": "0f19be97-ad87-48df-b03e-014aed5fe6e7"
   },
   "outputs": [
    {
     "data": {
      "text/html": [
       "<div>\n",
       "<style scoped>\n",
       "    .dataframe tbody tr th:only-of-type {\n",
       "        vertical-align: middle;\n",
       "    }\n",
       "\n",
       "    .dataframe tbody tr th {\n",
       "        vertical-align: top;\n",
       "    }\n",
       "\n",
       "    .dataframe thead th {\n",
       "        text-align: right;\n",
       "    }\n",
       "</style>\n",
       "<table border=\"1\" class=\"dataframe\">\n",
       "  <thead>\n",
       "    <tr style=\"text-align: right;\">\n",
       "      <th></th>\n",
       "      <th>date</th>\n",
       "      <th>close</th>\n",
       "    </tr>\n",
       "  </thead>\n",
       "  <tbody>\n",
       "    <tr>\n",
       "      <th>0</th>\n",
       "      <td>2006-01-01</td>\n",
       "      <td>45.22</td>\n",
       "    </tr>\n",
       "    <tr>\n",
       "      <th>1</th>\n",
       "      <td>2006-02-01</td>\n",
       "      <td>38.82</td>\n",
       "    </tr>\n",
       "    <tr>\n",
       "      <th>2</th>\n",
       "      <td>2006-03-01</td>\n",
       "      <td>36.38</td>\n",
       "    </tr>\n",
       "    <tr>\n",
       "      <th>3</th>\n",
       "      <td>2006-04-01</td>\n",
       "      <td>36.32</td>\n",
       "    </tr>\n",
       "    <tr>\n",
       "      <th>4</th>\n",
       "      <td>2006-05-01</td>\n",
       "      <td>34.13</td>\n",
       "    </tr>\n",
       "  </tbody>\n",
       "</table>\n",
       "</div>"
      ],
      "text/plain": [
       "        date  close\n",
       "0 2006-01-01  45.22\n",
       "1 2006-02-01  38.82\n",
       "2 2006-03-01  36.38\n",
       "3 2006-04-01  36.32\n",
       "4 2006-05-01  34.13"
      ]
     },
     "execution_count": 5,
     "metadata": {},
     "output_type": "execute_result"
    }
   ],
   "source": [
    "df = pd.read_excel('amazon_stocks_prices.xlsx')\n",
    "\n",
    "df.head()"
   ]
  },
  {
   "cell_type": "markdown",
   "metadata": {
    "id": "XYC7L_OfyTGE"
   },
   "source": [
    "### **Checking info of the dataset** "
   ]
  },
  {
   "cell_type": "markdown",
   "metadata": {
    "id": "3zCpvSUX72mH"
   },
   "source": [
    "### **Question 1: Check the info of the dataset and write your observations. (2 Marks)**"
   ]
  },
  {
   "cell_type": "code",
   "execution_count": null,
   "metadata": {
    "id": "z1os8wEZyTGF",
    "outputId": "7f6e4afd-bd8c-4d5f-8c85-e3485268021e"
   },
   "outputs": [],
   "source": [
    "# Write your code here"
   ]
  },
  {
   "cell_type": "markdown",
   "metadata": {
    "id": "yejYCE0eyTGF"
   },
   "source": [
    "**Observations:_____________**"
   ]
  },
  {
   "cell_type": "code",
   "execution_count": 7,
   "metadata": {
    "colab": {
     "base_uri": "https://localhost:8080/",
     "height": 227
    },
    "id": "4aaCUhZVIgP7",
    "outputId": "7a16771e-c815-4e5f-96df-8c807c17f5a8"
   },
   "outputs": [
    {
     "data": {
      "text/html": [
       "<div>\n",
       "<style scoped>\n",
       "    .dataframe tbody tr th:only-of-type {\n",
       "        vertical-align: middle;\n",
       "    }\n",
       "\n",
       "    .dataframe tbody tr th {\n",
       "        vertical-align: top;\n",
       "    }\n",
       "\n",
       "    .dataframe thead th {\n",
       "        text-align: right;\n",
       "    }\n",
       "</style>\n",
       "<table border=\"1\" class=\"dataframe\">\n",
       "  <thead>\n",
       "    <tr style=\"text-align: right;\">\n",
       "      <th></th>\n",
       "      <th>close</th>\n",
       "    </tr>\n",
       "    <tr>\n",
       "      <th>date</th>\n",
       "      <th></th>\n",
       "    </tr>\n",
       "  </thead>\n",
       "  <tbody>\n",
       "    <tr>\n",
       "      <th>2006-01-01</th>\n",
       "      <td>45.22</td>\n",
       "    </tr>\n",
       "    <tr>\n",
       "      <th>2006-02-01</th>\n",
       "      <td>38.82</td>\n",
       "    </tr>\n",
       "    <tr>\n",
       "      <th>2006-03-01</th>\n",
       "      <td>36.38</td>\n",
       "    </tr>\n",
       "    <tr>\n",
       "      <th>2006-04-01</th>\n",
       "      <td>36.32</td>\n",
       "    </tr>\n",
       "    <tr>\n",
       "      <th>2006-05-01</th>\n",
       "      <td>34.13</td>\n",
       "    </tr>\n",
       "  </tbody>\n",
       "</table>\n",
       "</div>"
      ],
      "text/plain": [
       "            close\n",
       "date             \n",
       "2006-01-01  45.22\n",
       "2006-02-01  38.82\n",
       "2006-03-01  36.38\n",
       "2006-04-01  36.32\n",
       "2006-05-01  34.13"
      ]
     },
     "execution_count": 7,
     "metadata": {},
     "output_type": "execute_result"
    }
   ],
   "source": [
    "# Setting date as the index\n",
    "\n",
    "df = df.set_index(['date'])\n",
    "\n",
    "df.head()"
   ]
  },
  {
   "cell_type": "markdown",
   "metadata": {
    "id": "S0_r4xSFyTGG"
   },
   "source": [
    "Now, let's **visualize the time series** to get an idea about the trend and/or seasonality within the data."
   ]
  },
  {
   "cell_type": "code",
   "execution_count": 8,
   "metadata": {
    "colab": {
     "base_uri": "https://localhost:8080/",
     "height": 530
    },
    "id": "n6us8-mbJLkz",
    "outputId": "51cd1f6b-90bf-48df-ec6d-50acdd1ed430"
   },
   "outputs": [
    {
     "data": {
      "text/plain": [
       "[<matplotlib.lines.Line2D at 0x1bec62795b0>]"
      ]
     },
     "execution_count": 8,
     "metadata": {},
     "output_type": "execute_result"
    },
    {
     "data": {
      "image/png": "[encoded data removed]",
      "text/plain": [
       "<Figure size 1152x576 with 1 Axes>"
      ]
     },
     "metadata": {
      "needs_background": "light"
     },
     "output_type": "display_data"
    }
   ],
   "source": [
    "# Visualizing the time series\n",
    "\n",
    "plt.figure(figsize = (16, 8))\n",
    "\n",
    "plt.xlabel(\"Month\")\n",
    "\n",
    "plt.ylabel(\"Closing Prices\")\n",
    "\n",
    "plt.title('Amazon Stock Prices')\n",
    "\n",
    "plt.plot(df.index, df.close, color = 'c', marker = '.')"
   ]
  },
  {
   "cell_type": "markdown",
   "metadata": {
    "id": "0dFH_yieMw-_"
   },
   "source": [
    "**Observations:**\n",
    "- We can see that the series has an **upward trend with some seasonality.** This implies that the **average stock price of Amazon has been increasing almost every year.**\n",
    "- Before building different models, it is important to **check whether the series is stationary or not.**\n",
    "\n",
    "Let us first split the dataset into train and test sets."
   ]
  },
  {
   "cell_type": "markdown",
   "metadata": {
    "id": "CByBcO2AMb8S"
   },
   "source": [
    "## **Splitting the dataset**"
   ]
  },
  {
   "cell_type": "code",
   "execution_count": 9,
   "metadata": {
    "colab": {
     "base_uri": "https://localhost:8080/"
    },
    "id": "VGBcb_XQrACZ",
    "outputId": "8ad1d5c7-f83d-4ad6-ac23-28f994e8690b"
   },
   "outputs": [
    {
     "name": "stdout",
     "output_type": "stream",
     "text": [
      "             close\n",
      "date              \n",
      "2006-01-01   45.22\n",
      "2006-02-01   38.82\n",
      "2006-03-01   36.38\n",
      "2006-04-01   36.32\n",
      "2006-05-01   34.13\n",
      "...            ...\n",
      "2015-08-01  518.46\n",
      "2015-09-01  520.96\n",
      "2015-10-01  566.74\n",
      "2015-11-01  657.70\n",
      "2015-12-01  669.26\n",
      "\n",
      "[120 rows x 1 columns]\n",
      "              close\n",
      "date               \n",
      "2016-01-01   601.06\n",
      "2016-02-01   530.62\n",
      "2016-03-01   572.37\n",
      "2016-04-01   613.59\n",
      "2016-05-01   697.47\n",
      "2016-06-01   716.39\n",
      "2016-07-01   741.47\n",
      "2016-08-01   764.84\n",
      "2016-09-01   788.97\n",
      "2016-10-01   824.44\n",
      "2016-11-01   763.34\n",
      "2016-12-01   763.33\n",
      "2017-01-01   807.51\n",
      "2017-02-01   835.75\n",
      "2017-03-01   854.24\n",
      "2017-04-01   903.39\n",
      "2017-05-01   961.72\n",
      "2017-06-01   990.44\n",
      "2017-07-01  1008.48\n",
      "2017-08-01   971.44\n",
      "2017-09-01   968.99\n",
      "2017-10-01  1000.72\n",
      "2017-11-01  1139.81\n",
      "2017-12-01  1168.84\n"
     ]
    }
   ],
   "source": [
    "# Splitting the data into train and test sets\n",
    "\n",
    "df_train = df.loc['2006-01-01' : '2015-12-01']\n",
    "\n",
    "df_test = df.loc['2016-01-01' : '2017-12-01']\n",
    "\n",
    "print(df_train)\n",
    "\n",
    "print(df_test)"
   ]
  },
  {
   "cell_type": "markdown",
   "metadata": {
    "id": "v8K-Y566NBXt"
   },
   "source": [
    "Now, let us check the **rolling mean and standard deviation** of the series to **visualize if the series has any trend or seasonality.**"
   ]
  },
  {
   "cell_type": "markdown",
   "metadata": {
    "id": "TQELl40wMkUq"
   },
   "source": [
    "## **Testing the stationarity of the series**"
   ]
  },
  {
   "cell_type": "code",
   "execution_count": 10,
   "metadata": {
    "colab": {
     "base_uri": "https://localhost:8080/",
     "height": 499
    },
    "id": "GF6CpDXzNNj0",
    "outputId": "d6c47c2b-fb0e-4a60-f012-e65e0c95ebe2"
   },
   "outputs": [
    {
     "data": {
      "image/png": "[encoded data removed]",
      "text/plain": [
       "<Figure size 1152x576 with 1 Axes>"
      ]
     },
     "metadata": {
      "needs_background": "light"
     },
     "output_type": "display_data"
    }
   ],
   "source": [
    "# Calculating the rolling mean and standard deviation for a window of 12 observations\n",
    "\n",
    "rolmean = df_train.rolling(window = 12).mean() \n",
    "\n",
    "rolstd = df_train.rolling(window = 12).std()\n",
    "\n",
    "# Visualizing the rolling mean and standard deviation\n",
    "\n",
    "plt.figure(figsize = (16, 8))\n",
    "\n",
    "actual = plt.plot(df_train, color = 'c', label = 'Actual Series')\n",
    "\n",
    "rollingmean = plt.plot(rolmean, color = 'red', label = 'Rolling Mean') \n",
    "\n",
    "rollingstd = plt.plot(rolstd, color = 'green', label = 'Rolling Std. Dev.')\n",
    "\n",
    "plt.title('Rolling Mean & Standard Deviation of the Series')\n",
    "\n",
    "plt.legend()\n",
    "\n",
    "plt.show()"
   ]
  },
  {
   "cell_type": "markdown",
   "metadata": {
    "id": "ylSjsdZlN0Vp"
   },
   "source": [
    "**Observations:**\n",
    "- We can see there is an upward trend in the series.\n",
    "- We can confirm that **the time series is not stationary.**"
   ]
  },
  {
   "cell_type": "markdown",
   "metadata": {
    "id": "xqztvb09OOWK"
   },
   "source": [
    "We can also use the **Augmented Dickey-Fuller (ADF) Test** to verify if the series is stationary or not.\n",
    "The null and alternate hypotheses for the ADF Test are defined as: \n",
    "- **Null hypothesis:** The Time Series is non-stationary\n",
    "- **Alternative hypothesis:** The Time Series is stationary"
   ]
  },
  {
   "cell_type": "code",
   "execution_count": 11,
   "metadata": {
    "colab": {
     "base_uri": "https://localhost:8080/"
    },
    "id": "9PSHUSplGGpS",
    "outputId": "1fab7ce9-dced-4346-f5fe-e51cadc35fff"
   },
   "outputs": [
    {
     "name": "stdout",
     "output_type": "stream",
     "text": [
      "Dickey-Fuller Test:\n",
      "Test Statistic            3.464016\n",
      "p-value                   1.000000\n",
      "Lags Used                 0.000000\n",
      "No. of Observations     119.000000\n",
      "Critical Value (1%)      -3.486535\n",
      "Critical Value (5%)      -2.886151\n",
      "Critical Value (10%)     -2.579896\n",
      "dtype: float64\n"
     ]
    }
   ],
   "source": [
    "# Define a function to use ADF test\n",
    "\n",
    "def adfuller(df_train):\n",
    "    \n",
    "  # Importing ADF using statsmodels\n",
    "    from statsmodels.tsa.stattools import adfuller\n",
    "\n",
    "    print('Dickey-Fuller Test:')\n",
    "\n",
    "    adftest = adfuller(df_train['close'])\n",
    "\n",
    "    adfoutput = pd.Series(adftest[0:4], index = ['Test Statistic', 'p-value', 'Lags Used', 'No. of Observations'])\n",
    "\n",
    "    for key,value in adftest[4].items():\n",
    "\n",
    "        adfoutput['Critical Value (%s)'%key] = value\n",
    "\n",
    "    print(adfoutput)\n",
    "\n",
    "adfuller(df_train)"
   ]
  },
  {
   "cell_type": "markdown",
   "metadata": {
    "id": "CcolxfvZOfkx"
   },
   "source": [
    "**Observations:**\n",
    "1. From the above test, we can see that the **p-value = 1, i.e., > 0.05** (for 95% confidence intervals) therefore, **we fail to reject the null hypothesis.**\n",
    "2. Hence, **we can confirm that the series is non-stationary.**"
   ]
  },
  {
   "cell_type": "markdown",
   "metadata": {
    "id": "AUylcu-hOmCe"
   },
   "source": [
    "## **Making the series stationary**"
   ]
  },
  {
   "cell_type": "markdown",
   "metadata": {
    "id": "AWQtEPXSOrJo"
   },
   "source": [
    "We can use some of the following methods to convert a non-stationary series into a stationary one:\n",
    "1. **Log Transformation**\n",
    "2. **By differencing the series (lagged series)**\n",
    "\n",
    "Let's first use a log transformation over this series to remove exponential variance and check the stationarity of the series again."
   ]
  },
  {
   "cell_type": "code",
   "execution_count": 12,
   "metadata": {
    "colab": {
     "base_uri": "https://localhost:8080/",
     "height": 483
    },
    "id": "BNH9DkX0O97h",
    "outputId": "6da2f5a5-7b2c-43dd-f288-c6c7535cc945"
   },
   "outputs": [
    {
     "data": {
      "image/png": "[encoded data removed]",
      "text/plain": [
       "<Figure size 1152x576 with 1 Axes>"
      ]
     },
     "metadata": {
      "needs_background": "light"
     },
     "output_type": "display_data"
    }
   ],
   "source": [
    "# Visualize the rolling mean and standard deviation after using log transformation\n",
    "\n",
    "plt.figure(figsize = (16, 8))\n",
    "\n",
    "df_log = np.log(df_train)\n",
    "\n",
    "MAvg = df_log.rolling(window = 12).mean()\n",
    "\n",
    "MStd = df_log.rolling(window = 12).std()\n",
    "\n",
    "plt.plot(df_log)\n",
    "\n",
    "plt.plot(MAvg, color = 'r', label = 'Moving Average')\n",
    "\n",
    "plt.plot(MStd, color = 'g', label = 'Standard Deviation')\n",
    "\n",
    "plt.legend()\n",
    "\n",
    "plt.show()"
   ]
  },
  {
   "cell_type": "markdown",
   "metadata": {
    "id": "m6iuwGHPPZuQ"
   },
   "source": [
    "**Observations:**\n",
    "- Since **we can still see the upward trend in the series**, we can conclude that **the series is still non-stationary.** \n",
    "- However, the standard deviation is almost constant which implies that **now the series has a constant variance.**"
   ]
  },
  {
   "cell_type": "markdown",
   "metadata": {
    "id": "5jzxXkgQPlhd"
   },
   "source": [
    "**Let's shift the series by order 1 (or by 1 month) & apply differencing (using lagged series)** and then check the rolling mean and standard deviation."
   ]
  },
  {
   "cell_type": "markdown",
   "metadata": {
    "id": "x9QunCej7Etr"
   },
   "source": [
    "### **Question 2: Visualize the rolling mean and rolling standard deviation of the shifted series (df_shift) and check the stationarity by calling the adfuller() function. Also, write your observations on the same. (3 Marks)**"
   ]
  },
  {
   "cell_type": "code",
   "execution_count": null,
   "metadata": {
    "colab": {
     "base_uri": "https://localhost:8080/",
     "height": 483
    },
    "id": "JJOcYwTZEwJi",
    "outputId": "750d9468-fb12-4676-95ed-90dfbf39537b"
   },
   "outputs": [],
   "source": [
    "plt.figure(figsize = (16, 8))\n",
    "\n",
    "df_shift = df_log - df_log.shift(periods = 1)\n",
    "\n",
    "MAvg_shift = ______________________________   # Use window = 12 \n",
    "\n",
    "MStd_shift = ______________________________   # Use window = 12\n",
    "\n",
    "plt.plot(_________ , color = 'c')\n",
    "\n",
    "plt.plot(__________ , color = 'red', label = 'Moving Average')\n",
    "\n",
    "plt.plot(__________ , color = 'green', label = 'Standard Deviation')\n",
    "\n",
    "plt.legend()\n",
    "\n",
    "plt.show()\n",
    "\n",
    "# Dropping the null values that we get after applying differencing method\n",
    "\n",
    "df_shift = df_shift.dropna()"
   ]
  },
  {
   "cell_type": "markdown",
   "metadata": {
    "id": "TJsYy2S1P32j"
   },
   "source": [
    "**Observation:___________________** "
   ]
  },
  {
   "cell_type": "markdown",
   "metadata": {},
   "source": [
    "Let us use the adfuller test to check the stationarity."
   ]
  },
  {
   "cell_type": "code",
   "execution_count": 14,
   "metadata": {
    "colab": {
     "base_uri": "https://localhost:8080/"
    },
    "id": "t42JhnQeP0b-",
    "outputId": "d6877f13-1297-4ece-e25d-51155e3022ee"
   },
   "outputs": [
    {
     "name": "stdout",
     "output_type": "stream",
     "text": [
      "Dickey-Fuller Test:\n",
      "Test Statistic         -8.640344e+00\n",
      "p-value                 5.447548e-14\n",
      "Lags Used               0.000000e+00\n",
      "No. of Observations     1.180000e+02\n",
      "Critical Value (1%)    -3.487022e+00\n",
      "Critical Value (5%)    -2.886363e+00\n",
      "Critical Value (10%)   -2.580009e+00\n",
      "dtype: float64\n"
     ]
    }
   ],
   "source": [
    "adfuller(df_shift)"
   ]
  },
  {
   "cell_type": "markdown",
   "metadata": {
    "id": "CxVdje3XPJ2y"
   },
   "source": [
    "**Observation:**\n",
    "- We can see that **the p-value is now far lesser than 0.05** (for 95% confidence interval), **therefore we can reject the null hypothesis that the series is non-stationary.**\n",
    "\n",
    "We can conclude that **the series is now stationary.** Let's decompose the time series to check its different components."
   ]
  },
  {
   "cell_type": "markdown",
   "metadata": {
    "id": "Mvbug_60QN4t"
   },
   "source": [
    "## **Decomposing the time series components into Trend, Seasonality, and Residual**"
   ]
  },
  {
   "cell_type": "code",
   "execution_count": 15,
   "metadata": {
    "colab": {
     "base_uri": "https://localhost:8080/",
     "height": 297
    },
    "id": "ll-jF3olQVUM",
    "outputId": "70ed23f1-007b-45f7-ed28-7d6ed0c4f84e"
   },
   "outputs": [
    {
     "data": {
      "image/png": "[encoded data removed]",
      "text/plain": [
       "<Figure size 1080x720 with 4 Axes>"
      ]
     },
     "metadata": {
      "needs_background": "light"
     },
     "output_type": "display_data"
    }
   ],
   "source": [
    "# Importing the seasonal_decompose function to decompose the time series\n",
    "\n",
    "from statsmodels.tsa.seasonal import seasonal_decompose\n",
    "\n",
    "decomp = seasonal_decompose(df_train)\n",
    "\n",
    "# Extracting the trend component\n",
    "trend = decomp.trend\n",
    "\n",
    "# Extracting the seasonal component\n",
    "seasonal = decomp.seasonal\n",
    "\n",
    "# Extracting the residuals\n",
    "residual = decomp.resid\n",
    "\n",
    "plt.figure(figsize = (15, 10))\n",
    "\n",
    "plt.subplot(411)\n",
    "plt.plot(df_train, label = 'Actual', marker = '.')\n",
    "plt.legend(loc = 'upper left')\n",
    "\n",
    "plt.subplot(412)\n",
    "plt.plot(trend, label = 'Trend', marker = '.')\n",
    "plt.legend(loc = 'upper left')\n",
    "\n",
    "plt.subplot(413)\n",
    "plt.plot(seasonal, label = 'Seasonality', marker = '.')\n",
    "plt.legend(loc = 'upper left')\n",
    "\n",
    "plt.subplot(414)\n",
    "plt.plot(residual, label = 'Residuals', marker = '.')\n",
    "plt.legend(loc = 'upper left')\n",
    "\n",
    "plt.tight_layout()"
   ]
  },
  {
   "cell_type": "markdown",
   "metadata": {
    "id": "U7EMaq0kQf9A"
   },
   "source": [
    "**Observations:**\n",
    "- We can see that there are significant **trend, seasonality, and residuals components** in the series.\n",
    "- The plot for seasonality shows that **Amazon's stock prices spike in July, September, and December.**\n",
    "\n",
    "**Now, let's move on to the model building section. First, we will plot the `ACF` and `PACF` plots to get the values of p and q, i.e., order of AR and MA models to be used.**"
   ]
  },
  {
   "cell_type": "markdown",
   "metadata": {
    "id": "BNZ5TDfFQhia"
   },
   "source": [
    "## **ACF and PACF plots**\n",
    "\n",
    "**Plotting the auto-correlation function and partial auto-correlation function to get p and q values for AR, MA, ARMA, and ARIMA models.**"
   ]
  },
  {
   "cell_type": "code",
   "execution_count": 16,
   "metadata": {
    "colab": {
     "base_uri": "https://localhost:8080/",
     "height": 562
    },
    "id": "Npj2l97-jShn",
    "outputId": "e34f0ee4-7288-47aa-8c75-b484ee53728e"
   },
   "outputs": [
    {
     "data": {
      "text/plain": [
       "<Figure size 1152x576 with 0 Axes>"
      ]
     },
     "metadata": {},
     "output_type": "display_data"
    },
    {
     "data": {
      "image/png": "[encoded data removed]",
      "text/plain": [
       "<Figure size 432x288 with 1 Axes>"
      ]
     },
     "metadata": {
      "needs_background": "light"
     },
     "output_type": "display_data"
    },
    {
     "data": {
      "image/png": "[encoded data removed]",
      "text/plain": [
       "<Figure size 432x288 with 1 Axes>"
      ]
     },
     "metadata": {
      "needs_background": "light"
     },
     "output_type": "display_data"
    }
   ],
   "source": [
    "from statsmodels.graphics.tsaplots import plot_acf,plot_pacf\n",
    "\n",
    "plt.figure(figsize = (16, 8))\n",
    "\n",
    "plot_acf(df_shift, lags = 12) \n",
    "\n",
    "plt.show() \n",
    "\n",
    "plot_pacf(df_shift, lags = 12) \n",
    "\n",
    "plt.show()"
   ]
  },
  {
   "cell_type": "markdown",
   "metadata": {
    "id": "qjvHsnyplXGA"
   },
   "source": [
    "**Observations:**\n",
    "- From the above PACF plot, we can see that **the highest lag** at which the plot extends beyond the statistically significant boundary is **lag 1.** \n",
    "- This indicates that an **AR Model of lag 1 (p = 1)** should be sufficient to fit the data.\n",
    "- Similarly, from the ACF plot, we can infer that **q = 1.**"
   ]
  },
  {
   "cell_type": "markdown",
   "metadata": {
    "id": "de-VRmaXRVT4"
   },
   "source": [
    "## **AR Model**"
   ]
  },
  {
   "cell_type": "markdown",
   "metadata": {
    "id": "vC69PTrp8QXF"
   },
   "source": [
    "### **Question 3: Fit and predict the shifted series with the AR model and calculate the RMSE. Also, visualize the time series and write your observations. (5 Marks)**"
   ]
  },
  {
   "cell_type": "code",
   "execution_count": null,
   "metadata": {
    "id": "rTjpvVnJyTGN",
    "outputId": "b04a262a-ff88-4ee7-d077-8ecd5765448a"
   },
   "outputs": [],
   "source": [
    "# Importing AutoReg function to apply AR model\n",
    "\n",
    "from statsmodels.tsa.ar_model import AutoReg\n",
    "\n",
    "plt.figure(figsize = (16, 8))\n",
    "\n",
    "model_AR = _______________ # Use number of lags as 1 and apply AutoReg function on df_shift series\n",
    "\n",
    "results_AR = ________________ # Fit the model\n",
    "\n",
    "plt.plot(df_shift)\n",
    "\n",
    "predict = results_AR.predict(start = 0, end = len(df_shift) - 1) # Predict the series \n",
    "\n",
    "predict = predict.fillna(0) # Converting NaN values to 0\n",
    "\n",
    "plt.plot(___________ , color = 'red')\n",
    "\n",
    "plt.title('AR Model - RMSE: %.4f'% mean_squared_error(predict, df_shift['close'], squared = False))  # Calculating rmse\n",
    "\n",
    "plt.show()"
   ]
  },
  {
   "cell_type": "markdown",
   "metadata": {
    "id": "vIYE0RaHyTGO"
   },
   "source": [
    "**Observations:________________________**"
   ]
  },
  {
   "cell_type": "markdown",
   "metadata": {},
   "source": [
    "**Let's check the AIC value** of the model"
   ]
  },
  {
   "cell_type": "code",
   "execution_count": null,
   "metadata": {
    "colab": {
     "base_uri": "https://localhost:8080/",
     "height": 295
    },
    "id": "g258w5rrIAR2",
    "outputId": "6417f98a-e1a6-438c-ec80-712a6196dbda"
   },
   "outputs": [],
   "source": [
    "results_AR.aic"
   ]
  },
  {
   "cell_type": "markdown",
   "metadata": {
    "id": "b2aUKeuSRhPG"
   },
   "source": [
    "Now, let's build MA, ARMA, and ARIMA models as well, and see if we can get a better model."
   ]
  },
  {
   "cell_type": "markdown",
   "metadata": {
    "id": "EjEdx7vaSyGV"
   },
   "source": [
    "## **MA Model**"
   ]
  },
  {
   "cell_type": "markdown",
   "metadata": {
    "id": "o-gQpPS1yTGQ"
   },
   "source": [
    "**We will be using an ARIMA model with p = 0 and d = 0 so that it will work as an MA model.**"
   ]
  },
  {
   "cell_type": "markdown",
   "metadata": {
    "id": "irexoL879EOY"
   },
   "source": [
    "### **Question 4: Fit and predict the shifted series with the MA model and calculate the RMSE. Also, visualize the time series and write your observations. (2 Marks)**"
   ]
  },
  {
   "cell_type": "code",
   "execution_count": null,
   "metadata": {
    "colab": {
     "base_uri": "https://localhost:8080/",
     "height": 499
    },
    "id": "mewnDvWGS1ow",
    "outputId": "106b8a06-77aa-404e-f7de-5472c0b2aa34"
   },
   "outputs": [],
   "source": [
    "from statsmodels.tsa.arima_model import ARIMA\n",
    "\n",
    "plt.figure(figsize = (16, 8))\n",
    "\n",
    "model_MA = _________________ # Using p = 0, d = 0, q = 1 and apply ARIMA function on df_shift series\n",
    "\n",
    "results_MA = _____________ # Fit the model\n",
    "\n",
    "plt.plot(df_shift)\n",
    "\n",
    "plt.plot(results_MA.fittedvalues, color = 'red')\n",
    "\n",
    "plt.title('MA Model - RMSE: %.4f'% mean_squared_error(results_MA.fittedvalues, df_shift['close'], squared = False))\n",
    "\n",
    "plt.show()"
   ]
  },
  {
   "cell_type": "markdown",
   "metadata": {},
   "source": [
    "**Observations:_______**"
   ]
  },
  {
   "cell_type": "markdown",
   "metadata": {
    "id": "CXPJFw6dyTGR"
   },
   "source": [
    "**Let's check the AIC value** of the model"
   ]
  },
  {
   "cell_type": "code",
   "execution_count": null,
   "metadata": {
    "colab": {
     "base_uri": "https://localhost:8080/",
     "height": 295
    },
    "id": "JTBiP8BKI9tn",
    "outputId": "9f21fd4b-1792-4601-eaf6-a7e0dcf114e0"
   },
   "outputs": [],
   "source": [
    "results_MA.aic"
   ]
  },
  {
   "cell_type": "markdown",
   "metadata": {
    "id": "HQ4pPz-8TJt7"
   },
   "source": [
    "- **The MA model is giving a much lower AIC** in comparison to the AR model, implying that **the MA model fits the training data better.** "
   ]
  },
  {
   "cell_type": "markdown",
   "metadata": {
    "id": "IOUk6AyoTP_N"
   },
   "source": [
    "## **ARMA Model**"
   ]
  },
  {
   "cell_type": "markdown",
   "metadata": {
    "id": "5--YYKy9TVIR"
   },
   "source": [
    "We will be using an **ARIMA model with p = 1 and q = 1** (as observed from the ACF and PACF plots) **and d = 0 so that it will work as an ARMA model.**"
   ]
  },
  {
   "cell_type": "markdown",
   "metadata": {
    "id": "s1ERtOVa9R54"
   },
   "source": [
    "### **Question 5: Fit and predict the shifted series with the ARMA model and calculate the RMSE. Also, visualize the time series and write your observations. (2 Marks)**"
   ]
  },
  {
   "cell_type": "code",
   "execution_count": null,
   "metadata": {
    "colab": {
     "base_uri": "https://localhost:8080/",
     "height": 499
    },
    "id": "8U6O6SYlWPa7",
    "outputId": "8b4d99ba-d3b5-4198-8cc4-c08f9b765e36"
   },
   "outputs": [],
   "source": [
    "plt.figure(figsize = (16, 8))\n",
    "\n",
    "model_ARMA = _______________ # Using p = 1, d = 0, q = 1 and apply ARIMA function on df_shift series\n",
    "\n",
    "results_ARMA = _______________ # Fit the model\n",
    "\n",
    "plt.plot(df_shift)\n",
    "\n",
    "plt.plot(results_ARMA.fittedvalues, color = 'red')\n",
    "\n",
    "plt.title('ARMA Model - RMSE: %.4f'% mean_squared_error(results_ARMA.fittedvalues, df_shift['close'], squared = False))\n",
    "\n",
    "plt.show()"
   ]
  },
  {
   "cell_type": "markdown",
   "metadata": {},
   "source": [
    "**Observations:________________________**"
   ]
  },
  {
   "cell_type": "markdown",
   "metadata": {
    "id": "ldjx2ysNyTGT"
   },
   "source": [
    "**Let's check the AIC value** of the model"
   ]
  },
  {
   "cell_type": "code",
   "execution_count": null,
   "metadata": {
    "colab": {
     "base_uri": "https://localhost:8080/",
     "height": 335
    },
    "id": "HpZS_2j0Tf2n",
    "outputId": "a6ff01fd-61b9-436b-c7d2-b28b0ebf5fb8"
   },
   "outputs": [],
   "source": [
    "results_ARMA.aic"
   ]
  },
  {
   "cell_type": "markdown",
   "metadata": {
    "id": "mEUa54hKMpB0"
   },
   "source": [
    "- **The AIC value of the ARMA model is more or less similar** to the MA model.\n",
    "\n",
    "**Let us try using the ARIMA Model.**"
   ]
  },
  {
   "cell_type": "markdown",
   "metadata": {
    "id": "8PfixH2PM4aQ"
   },
   "source": [
    "## **ARIMA Model**"
   ]
  },
  {
   "cell_type": "markdown",
   "metadata": {
    "id": "6U5N8fYX9Xz9"
   },
   "source": [
    "Here, we will be using an **ARIMA Model with p = 1, d = 1, & q = 1**."
   ]
  },
  {
   "cell_type": "markdown",
   "metadata": {
    "id": "5fj4sYxh9fQ2"
   },
   "source": [
    "### **Question 6: Fit and predict the shifted series with the ARIMA model and calculate the RMSE. Also, visualize the time series and write your observations. (2 Marks)**"
   ]
  },
  {
   "cell_type": "markdown",
   "metadata": {},
   "source": [
    "Since we are using d=1 in the ARIMA model, it will result in double differencing of the df_log series. So, we need double shifted series in order to calculate the RMSE of the model."
   ]
  },
  {
   "cell_type": "code",
   "execution_count": 23,
   "metadata": {},
   "outputs": [],
   "source": [
    "# Getting double differenced series\n",
    "\n",
    "df_shift2 = df_log - df_log.shift(periods = 2)\n",
    "\n",
    "df_shift2.dropna(inplace=True)"
   ]
  },
  {
   "cell_type": "code",
   "execution_count": null,
   "metadata": {
    "id": "SkM4j0ISyTGV",
    "outputId": "3383de44-38fe-47b7-fb4c-534484c11488"
   },
   "outputs": [],
   "source": [
    "from statsmodels.tsa.arima_model import ARIMA\n",
    "\n",
    "plt.figure(figsize = (16, 8))\n",
    "\n",
    "model_ARIMA = ________________ # Using p = 1, d = 1, q = 1 and apply ARIMA function on df_shift series\n",
    "\n",
    "results_ARIMA = ___________________ # Fit the model\n",
    "\n",
    "plt.plot(df_shift)\n",
    "\n",
    "plt.plot(results_ARIMA.fittedvalues, color = 'red')\n",
    "\n",
    "plt.title('ARIMA Model - RMSE: %.4f'% mean_squared_error(results_ARIMA.fittedvalues, df_shift2['close'], squared = False))\n",
    "\n",
    "plt.show()"
   ]
  },
  {
   "cell_type": "markdown",
   "metadata": {},
   "source": [
    "**Observations:________**"
   ]
  },
  {
   "cell_type": "markdown",
   "metadata": {
    "id": "9s_4b7OZyTGV"
   },
   "source": [
    "**Let's check the AIC value** of the model"
   ]
  },
  {
   "cell_type": "code",
   "execution_count": null,
   "metadata": {
    "colab": {
     "base_uri": "https://localhost:8080/",
     "height": 335
    },
    "id": "XLkC21IWSeO3",
    "outputId": "569e240f-91eb-4d86-99c1-c90dc10a693e"
   },
   "outputs": [],
   "source": [
    "results_ARIMA.aic"
   ]
  },
  {
   "cell_type": "markdown",
   "metadata": {
    "id": "nZuxf9sSyTGW"
   },
   "source": [
    "- **The AIC value of the ARIMA model is higher than the ARMA model**. \n",
    "\n",
    "We observed that **MA and ARMA models return almost the same RMSE.** Also, there is not much difference in the AIC value of both the models.\n",
    "\n",
    "**We can choose to predict the values using the ARMA model as it takes into account more factors than the MA model.**"
   ]
  },
  {
   "cell_type": "code",
   "execution_count": 26,
   "metadata": {
    "colab": {
     "base_uri": "https://localhost:8080/"
    },
    "id": "LnxW2q8DX2KR",
    "outputId": "199afe8e-1200-4730-f6fd-f2d1cab3d866"
   },
   "outputs": [
    {
     "data": {
      "text/plain": [
       "date\n",
       "2006-02-01    0.022231\n",
       "2006-03-01   -0.019675\n",
       "2006-04-01    0.009178\n",
       "2006-05-01    0.018981\n",
       "2006-06-01    0.001609\n",
       "                ...   \n",
       "2015-08-01    0.043233\n",
       "2015-09-01    0.032285\n",
       "2015-10-01    0.015692\n",
       "2015-11-01    0.039275\n",
       "2015-12-01    0.050568\n",
       "Length: 119, dtype: float64"
      ]
     },
     "execution_count": 26,
     "metadata": {},
     "output_type": "execute_result"
    }
   ],
   "source": [
    "# Printing the fitted values\n",
    "predictions = pd.Series(results_ARMA.fittedvalues)\n",
    "\n",
    "predictions"
   ]
  },
  {
   "cell_type": "markdown",
   "metadata": {
    "id": "BkoLt_MKT1gL"
   },
   "source": [
    "## **Inverse Transformation**"
   ]
  },
  {
   "cell_type": "markdown",
   "metadata": {
    "id": "pYQWOVnrT3jB"
   },
   "source": [
    "Now we have fitted values using the ARMA model, **we will use the inverse transformation to get back the original values.**"
   ]
  },
  {
   "cell_type": "markdown",
   "metadata": {
    "id": "PIhu5jLQ9lzq"
   },
   "source": [
    "### **Question 7: Apply an inverse transformation on the predictions of the ARMA Model. (5 Marks)**"
   ]
  },
  {
   "cell_type": "code",
   "execution_count": null,
   "metadata": {
    "colab": {
     "base_uri": "https://localhost:8080/"
    },
    "id": "vzLZ2mKKWZgm",
    "outputId": "22389599-9b43-4459-df5b-212ef68f2338"
   },
   "outputs": [],
   "source": [
    "# First step - doing a cumulative sum\n",
    "\n",
    "predictions_cumsum = _______________ # Use .cumsum fuction on the predictions\n",
    "\n",
    "predictions_cumsum"
   ]
  },
  {
   "cell_type": "code",
   "execution_count": null,
   "metadata": {
    "colab": {
     "base_uri": "https://localhost:8080/"
    },
    "id": "P-yrFpFeUfrR",
    "outputId": "a4d66443-88ca-464d-bc37-2338fcac4f16"
   },
   "outputs": [],
   "source": [
    "# Second step - adding the first value of the log series to the cumulative sum values\n",
    "\n",
    "predictions_log = pd.Series(df_log['close'].iloc[0], index = df_log.index)\n",
    "\n",
    "predictions_log = predictions_log.add(predictions_cumsum, fill_value = 0)\n",
    "\n",
    "predictions_log"
   ]
  },
  {
   "cell_type": "code",
   "execution_count": null,
   "metadata": {
    "colab": {
     "base_uri": "https://localhost:8080/"
    },
    "id": "XfUCTkPsXvAZ",
    "outputId": "bf2db423-1cf0-43fe-bebc-7165aa223436"
   },
   "outputs": [],
   "source": [
    "# Third step - applying exponential transformation\n",
    "\n",
    "predictions_ARMA = _________________ # Use exponential function on predictions_log\n",
    "\n",
    "predictions_ARMA"
   ]
  },
  {
   "cell_type": "code",
   "execution_count": 30,
   "metadata": {
    "colab": {
     "base_uri": "https://localhost:8080/",
     "height": 499
    },
    "id": "h2QWkVpHX-sc",
    "outputId": "3b9e3cbf-0a7f-4141-8107-c418389ad2ed"
   },
   "outputs": [
    {
     "data": {
      "image/png": "[encoded data removed]",
      "text/plain": [
       "<Figure size 1152x576 with 1 Axes>"
      ]
     },
     "metadata": {
      "needs_background": "light"
     },
     "output_type": "display_data"
    }
   ],
   "source": [
    "# Plotting the original vs predicted series\n",
    "\n",
    "plt.figure(figsize = (16, 8))\n",
    "\n",
    "plt.plot(df_train, color = 'c', label = 'Original Series')\n",
    "\n",
    "plt.plot(predictions_ARMA, color = 'r', label = 'Predicted Series')\n",
    "\n",
    "plt.title('Actual vs Predicted')\n",
    "\n",
    "plt.legend()\n",
    "\n",
    "plt.show()"
   ]
  },
  {
   "cell_type": "markdown",
   "metadata": {
    "id": "DhmkAWfdUvnn"
   },
   "source": [
    "**Observations:**\n",
    "- We can see that **the predicted series is very similar to the original series**, i.e., The model is good at predicting values on the training data except for the dip in stock prices in 2015 which may have been due to some external factors that are not included in this model. \n",
    "- Let us **forecast the closing prices for the next 24 months.**"
   ]
  },
  {
   "cell_type": "markdown",
   "metadata": {
    "id": "oClL4WRFU1kk"
   },
   "source": [
    "## **Forecasting the values for next 24 months and compare it with test data**"
   ]
  },
  {
   "cell_type": "markdown",
   "metadata": {
    "id": "LrcEHAMyVIUU"
   },
   "source": [
    "**To forecast the values for the next 24 months using the ARMA model, we need to follow the steps below:**\n",
    "1. Forecast the log-transformed fitted values for the next 24 months\n",
    "2. Make a list of these 24 month (2016-2017) forecasted values\n",
    "3. Convert that list into a series so that we can work with pandas functions \n",
    "4. Make a dataframe where we have the dates starting from 2016-01-01 to 2017-12-01 as the index and the respective forecasted values\n",
    "5. Apply the inverse transformation and get the real forecasted values"
   ]
  },
  {
   "cell_type": "markdown",
   "metadata": {
    "id": "r_95Tb-R91mv"
   },
   "source": [
    "### **Question 8: Forecast the stocks prices for the next 24 months and perform the inverse transformation. (5 Marks)**"
   ]
  },
  {
   "cell_type": "code",
   "execution_count": null,
   "metadata": {},
   "outputs": [],
   "source": [
    "# Forecasting the values for next 24 months\n",
    "\n",
    "forecasted_ARMA = _____________________ # Forecast using results_ARMA for next 24 months. Keep steps = 24\n",
    "\n",
    "forecasted_ARMA"
   ]
  },
  {
   "cell_type": "code",
   "execution_count": 32,
   "metadata": {},
   "outputs": [
    {
     "data": {
      "text/plain": [
       "2016-01-01    0.014983\n",
       "2016-02-01    0.036928\n",
       "2016-03-01    0.059147\n",
       "2016-04-01    0.081378\n",
       "2016-05-01    0.103608\n",
       "2016-06-01    0.125839\n",
       "2016-07-01    0.148070\n",
       "2016-08-01    0.170301\n",
       "2016-09-01    0.192532\n",
       "2016-10-01    0.214763\n",
       "2016-11-01    0.236993\n",
       "2016-12-01    0.259224\n",
       "2017-01-01    0.281455\n",
       "2017-02-01    0.303686\n",
       "2017-03-01    0.325917\n",
       "2017-04-01    0.348147\n",
       "2017-05-01    0.370378\n",
       "2017-06-01    0.392609\n",
       "2017-07-01    0.414840\n",
       "2017-08-01    0.437071\n",
       "2017-09-01    0.459302\n",
       "2017-10-01    0.481532\n",
       "2017-11-01    0.503763\n",
       "2017-12-01    0.525994\n",
       "Freq: MS, Name: predicted_mean, dtype: float64"
      ]
     },
     "execution_count": 32,
     "metadata": {},
     "output_type": "execute_result"
    }
   ],
   "source": [
    "# First step - doing cumulative sum\n",
    "\n",
    "forecasted_ARMA_cumsum = forecasted_ARMA.cumsum()\n",
    "\n",
    "forecasted_ARMA_cumsum"
   ]
  },
  {
   "cell_type": "code",
   "execution_count": 33,
   "metadata": {},
   "outputs": [
    {
     "data": {
      "text/plain": [
       "2016-01-01    6.521156\n",
       "2016-02-01    6.543100\n",
       "2016-03-01    6.565320\n",
       "2016-04-01    6.587550\n",
       "2016-05-01    6.609781\n",
       "2016-06-01    6.632012\n",
       "2016-07-01    6.654243\n",
       "2016-08-01    6.676473\n",
       "2016-09-01    6.698704\n",
       "2016-10-01    6.720935\n",
       "2016-11-01    6.743166\n",
       "2016-12-01    6.765397\n",
       "2017-01-01    6.787628\n",
       "2017-02-01    6.809858\n",
       "2017-03-01    6.832089\n",
       "2017-04-01    6.854320\n",
       "2017-05-01    6.876551\n",
       "2017-06-01    6.898782\n",
       "2017-07-01    6.921013\n",
       "2017-08-01    6.943243\n",
       "2017-09-01    6.965474\n",
       "2017-10-01    6.987705\n",
       "2017-11-01    7.009936\n",
       "2017-12-01    7.032167\n",
       "dtype: float64"
      ]
     },
     "execution_count": 33,
     "metadata": {},
     "output_type": "execute_result"
    }
   ],
   "source": [
    "# Second step - adding the last value of the log series to the cumulative sum values\n",
    "\n",
    "index = pd.date_range('2016-01-1','2018-1-1', freq = '1M') - pd.offsets.MonthBegin(1)\n",
    "\n",
    "forecasted_log = pd.Series(df_log['close'].iloc[-1], index = index)\n",
    "\n",
    "forecasted_log = forecasted_log.add(forecasted_ARMA_cumsum, fill_value = 0)\n",
    "\n",
    "forecasted_log"
   ]
  },
  {
   "cell_type": "code",
   "execution_count": 34,
   "metadata": {
    "colab": {
     "base_uri": "https://localhost:8080/"
    },
    "id": "TSwVH2oSWA05",
    "outputId": "c5d3e361-2dbf-4f39-b2df-a71b7fbf2247"
   },
   "outputs": [
    {
     "data": {
      "text/plain": [
       "2016-01-01     679.363323\n",
       "2016-02-01     694.436236\n",
       "2016-03-01     710.038959\n",
       "2016-04-01     726.000147\n",
       "2016-05-01     742.320450\n",
       "2016-06-01     759.007643\n",
       "2016-07-01     776.069961\n",
       "2016-08-01     793.515835\n",
       "2016-09-01     811.353889\n",
       "2016-10-01     829.592938\n",
       "2016-11-01     848.241997\n",
       "2016-12-01     867.310282\n",
       "2017-01-01     886.807219\n",
       "2017-02-01     906.742441\n",
       "2017-03-01     927.125803\n",
       "2017-04-01     947.967379\n",
       "2017-05-01     969.277468\n",
       "2017-06-01     991.066603\n",
       "2017-07-01    1013.345553\n",
       "2017-08-01    1036.125328\n",
       "2017-09-01    1059.417188\n",
       "2017-10-01    1083.232643\n",
       "2017-11-01    1107.583464\n",
       "2017-12-01    1132.481686\n",
       "dtype: float64"
      ]
     },
     "execution_count": 34,
     "metadata": {},
     "output_type": "execute_result"
    }
   ],
   "source": [
    "# Applying exponential transformation to the forecasted log values\n",
    "\n",
    "forecasted_ARMA = _________________ # Use exponential function on forecasted_log\n",
    "\n",
    "forecasted_ARMA"
   ]
  },
  {
   "cell_type": "markdown",
   "metadata": {
    "id": "__IDr00lyTGd"
   },
   "source": [
    "Now, let's try to visualize the original data with the predicted values on the training data and the forecasted values."
   ]
  },
  {
   "cell_type": "code",
   "execution_count": null,
   "metadata": {
    "id": "U5KUhxARyTGd",
    "outputId": "8016fc63-eba7-4ea1-ce2c-4f58ab140435"
   },
   "outputs": [],
   "source": [
    "# Plotting the original vs predicted series\n",
    "\n",
    "plt.figure(figsize = (16, 8))\n",
    "\n",
    "plt.plot(df, color = 'c', label = 'Original Series')\n",
    "\n",
    "plt.plot(___________, color = 'r', label = 'Prediction on Train data') # Plot the predictions_ARMA series\n",
    "\n",
    "plt.plot(___________, label = 'Prediction on Test data', color = 'b')  # Plot the forecasted_ARMA series\n",
    "\n",
    "plt.title('Actual vs Predicted')\n",
    "\n",
    "plt.legend()\n",
    "\n",
    "plt.show()"
   ]
  },
  {
   "cell_type": "markdown",
   "metadata": {
    "id": "9L3FTQbqyTGe"
   },
   "source": [
    "- **As observed earlier, most of the predicted values on the training data are very close to the actual values** except for the dip in stock prices in 2015.\n",
    "- **On the test data, the model can correctly predict the trend of the stock prices**, as we can see that the blue line appears to be close to the actual values (cyan blue), and they both have an upward trend. **However, the test predictions are not able to identify the volatile variations in the stock prices over the last two years.**\n",
    "\n",
    "\n",
    "Let's test the RMSE of the transformed predictions and the original value on the training and testing data to check whether the model is giving a generalized performance or not."
   ]
  },
  {
   "cell_type": "markdown",
   "metadata": {
    "id": "_k5aeHV9-JQv"
   },
   "source": [
    "### **Question 9: Check the RMSE on the original train and test data and write your conclusion from the above analysis. (4 Marks)**"
   ]
  },
  {
   "cell_type": "code",
   "execution_count": null,
   "metadata": {
    "id": "PpM76tyIyTGe",
    "outputId": "5a1d101f-9a13-44ee-8a4f-9ec11cf052e4"
   },
   "outputs": [],
   "source": [
    "from sklearn.metrics import mean_squared_error\n",
    "\n",
    "error = ____________________________ # Calculate RMSE using the predictions_ARMA and df_train\n",
    "\n",
    "error"
   ]
  },
  {
   "cell_type": "code",
   "execution_count": null,
   "metadata": {
    "colab": {
     "base_uri": "https://localhost:8080/"
    },
    "id": "GTYO1bXLmJ16",
    "outputId": "c7fc0ea4-c09e-46e7-d895-99fb4068af32"
   },
   "outputs": [],
   "source": [
    "from sklearn.metrics import mean_squared_error\n",
    "\n",
    "error = _________________________  # Calculate RMSE using the forecasted_ARMA and df_test\n",
    "\n",
    "error"
   ]
  },
  {
   "cell_type": "markdown",
   "metadata": {
    "id": "8ZJlnVhrf9OZ"
   },
   "source": [
    "## **Conclusion:**\n",
    "\n",
    "**Write your conclusion here.**"
   ]
  }
 ],
 "metadata": {
  "colab": {
   "collapsed_sections": [
    "8exxCklSLD58",
    "s1M9cLcwLjYP",
    "3zCpvSUX72mH",
    "CByBcO2AMb8S",
    "TQELl40wMkUq",
    "AUylcu-hOmCe",
    "x9QunCej7Etr",
    "Mvbug_60QN4t",
    "BNZ5TDfFQhia",
    "vC69PTrp8QXF",
    "EjEdx7vaSyGV",
    "irexoL879EOY",
    "IOUk6AyoTP_N",
    "s1ERtOVa9R54",
    "8PfixH2PM4aQ",
    "5fj4sYxh9fQ2",
    "BkoLt_MKT1gL",
    "PIhu5jLQ9lzq",
    "oClL4WRFU1kk",
    "r_95Tb-R91mv",
    "_k5aeHV9-JQv"
   ],
   "name": "Solution_Notebook_Project_Time_Series.ipynb",
   "provenance": []
  },
  "kernelspec": {
   "display_name": "Python 3 (ipykernel)",
   "language": "python",
   "name": "python3"
  },
  "language_info": {
   "codemirror_mode": {
    "name": "ipython",
    "version": 3
   },
   "file_extension": ".py",
   "mimetype": "text/x-python",
   "name": "python",
   "nbconvert_exporter": "python",
   "pygments_lexer": "ipython3",
   "version": "3.9.7"
  }
 },
 "nbformat": 4,
 "nbformat_minor": 1
}
