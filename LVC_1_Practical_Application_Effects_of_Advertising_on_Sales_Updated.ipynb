{
 "cells": [
  {
   "cell_type": "markdown",
   "metadata": {},
   "source": [
    "# **Effects of Advertising on Sales**"
   ]
  },
  {
   "cell_type": "markdown",
   "metadata": {
    "id": "mM7KaMsIyx5q"
   },
   "source": [
    "-------------------------------------------\n",
    "## **Context and Objective**\n",
    "-------------------------------------------\n",
    "\n",
    "- An interesting application of regression is to quantify the effect of advertisement on sales. Various channels of advertisement are newspaper, TV, radio, etc. \n",
    "- In this case study, we will have a look at the advertising data of a company and try to see its effect on sales.\n",
    "- We will also try to predict the sales given the different parameters of advertising. \n",
    "\n",
    "-------------------------\n",
    "## **Dataset**\n",
    "-------------------------\n",
    "\n",
    "The data at hand has three features about the spending on advertising and the target variable is the net sales. Attributes are:\n",
    "\n",
    "- **TV**    - Independent variable quantifying the budget for TV ads\n",
    "- **Radio** - Independent variable quantifying the budget for radio ads \n",
    "- **News**  - Independent variable quantifying the budget for news ads\n",
    "- **Sales** - Dependent variable quantifying the net sales"
   ]
  },
  {
   "cell_type": "markdown",
   "metadata": {
    "id": "rzjQEUms29nL"
   },
   "source": [
    "## **Importing the libraries**"
   ]
  },
  {
   "cell_type": "code",
   "execution_count": 38,
   "metadata": {
    "id": "Mbek6djw26sQ"
   },
   "outputs": [],
   "source": [
    "import pandas as pd\n",
    "\n",
    "import numpy as np\n",
    "\n",
    "import numpy as np\n",
    "\n",
    "from sklearn import linear_model\n",
    "\n",
    "import matplotlib.pyplot as plt\n",
    "\n",
    "import warnings\n",
    "warnings.filterwarnings('ignore')"
   ]
  },
  {
   "cell_type": "markdown",
   "metadata": {},
   "source": [
    "## **Loading the data**"
   ]
  },
  {
   "cell_type": "code",
   "execution_count": 39,
   "metadata": {
    "colab": {
     "base_uri": "https://localhost:8080/",
     "height": 206
    },
    "id": "qIbGMZS36De1",
    "outputId": "6d7ae14d-af32-4316-d418-f74506f945b3"
   },
   "outputs": [
    {
     "data": {
      "text/html": [
       "<div>\n",
       "<style scoped>\n",
       "    .dataframe tbody tr th:only-of-type {\n",
       "        vertical-align: middle;\n",
       "    }\n",
       "\n",
       "    .dataframe tbody tr th {\n",
       "        vertical-align: top;\n",
       "    }\n",
       "\n",
       "    .dataframe thead th {\n",
       "        text-align: right;\n",
       "    }\n",
       "</style>\n",
       "<table border=\"1\" class=\"dataframe\">\n",
       "  <thead>\n",
       "    <tr style=\"text-align: right;\">\n",
       "      <th></th>\n",
       "      <th>Unnamed: 0</th>\n",
       "      <th>TV</th>\n",
       "      <th>Radio</th>\n",
       "      <th>Newspaper</th>\n",
       "      <th>Sales</th>\n",
       "    </tr>\n",
       "  </thead>\n",
       "  <tbody>\n",
       "    <tr>\n",
       "      <th>0</th>\n",
       "      <td>1</td>\n",
       "      <td>230.1</td>\n",
       "      <td>37.8</td>\n",
       "      <td>69.2</td>\n",
       "      <td>22.1</td>\n",
       "    </tr>\n",
       "    <tr>\n",
       "      <th>1</th>\n",
       "      <td>2</td>\n",
       "      <td>44.5</td>\n",
       "      <td>39.3</td>\n",
       "      <td>45.1</td>\n",
       "      <td>10.4</td>\n",
       "    </tr>\n",
       "    <tr>\n",
       "      <th>2</th>\n",
       "      <td>3</td>\n",
       "      <td>17.2</td>\n",
       "      <td>45.9</td>\n",
       "      <td>69.3</td>\n",
       "      <td>9.3</td>\n",
       "    </tr>\n",
       "    <tr>\n",
       "      <th>3</th>\n",
       "      <td>4</td>\n",
       "      <td>151.5</td>\n",
       "      <td>41.3</td>\n",
       "      <td>58.5</td>\n",
       "      <td>18.5</td>\n",
       "    </tr>\n",
       "    <tr>\n",
       "      <th>4</th>\n",
       "      <td>5</td>\n",
       "      <td>180.8</td>\n",
       "      <td>10.8</td>\n",
       "      <td>58.4</td>\n",
       "      <td>12.9</td>\n",
       "    </tr>\n",
       "  </tbody>\n",
       "</table>\n",
       "</div>"
      ],
      "text/plain": [
       "   Unnamed: 0     TV  Radio  Newspaper  Sales\n",
       "0           1  230.1   37.8       69.2   22.1\n",
       "1           2   44.5   39.3       45.1   10.4\n",
       "2           3   17.2   45.9       69.3    9.3\n",
       "3           4  151.5   41.3       58.5   18.5\n",
       "4           5  180.8   10.8       58.4   12.9"
      ]
     },
     "execution_count": 39,
     "metadata": {},
     "output_type": "execute_result"
    }
   ],
   "source": [
    "Ad_df = pd.read_csv('Advertising.csv')\n",
    "\n",
    "# We have loaded the data into the Ad_df DataFrame. Let us now have a quick look.\n",
    "\n",
    "Ad_df.head()"
   ]
  },
  {
   "cell_type": "code",
   "execution_count": 40,
   "metadata": {
    "id": "dQD08slX6tVt"
   },
   "outputs": [],
   "source": [
    "# We can drop the first column as it is just the index\n",
    "\n",
    "Ad_df.drop(columns = 'Unnamed: 0', inplace = True)"
   ]
  },
  {
   "cell_type": "code",
   "execution_count": 41,
   "metadata": {
    "colab": {
     "base_uri": "https://localhost:8080/",
     "height": 424
    },
    "id": "PHN8-pYv7IAP",
    "outputId": "a78dfe11-9e56-49d3-8f05-84c6950a0eca"
   },
   "outputs": [
    {
     "data": {
      "text/html": [
       "<div>\n",
       "<style scoped>\n",
       "    .dataframe tbody tr th:only-of-type {\n",
       "        vertical-align: middle;\n",
       "    }\n",
       "\n",
       "    .dataframe tbody tr th {\n",
       "        vertical-align: top;\n",
       "    }\n",
       "\n",
       "    .dataframe thead th {\n",
       "        text-align: right;\n",
       "    }\n",
       "</style>\n",
       "<table border=\"1\" class=\"dataframe\">\n",
       "  <thead>\n",
       "    <tr style=\"text-align: right;\">\n",
       "      <th></th>\n",
       "      <th>TV</th>\n",
       "      <th>Radio</th>\n",
       "      <th>Newspaper</th>\n",
       "      <th>Sales</th>\n",
       "    </tr>\n",
       "  </thead>\n",
       "  <tbody>\n",
       "    <tr>\n",
       "      <th>0</th>\n",
       "      <td>230.1</td>\n",
       "      <td>37.8</td>\n",
       "      <td>69.2</td>\n",
       "      <td>22.1</td>\n",
       "    </tr>\n",
       "    <tr>\n",
       "      <th>1</th>\n",
       "      <td>44.5</td>\n",
       "      <td>39.3</td>\n",
       "      <td>45.1</td>\n",
       "      <td>10.4</td>\n",
       "    </tr>\n",
       "    <tr>\n",
       "      <th>2</th>\n",
       "      <td>17.2</td>\n",
       "      <td>45.9</td>\n",
       "      <td>69.3</td>\n",
       "      <td>9.3</td>\n",
       "    </tr>\n",
       "    <tr>\n",
       "      <th>3</th>\n",
       "      <td>151.5</td>\n",
       "      <td>41.3</td>\n",
       "      <td>58.5</td>\n",
       "      <td>18.5</td>\n",
       "    </tr>\n",
       "    <tr>\n",
       "      <th>4</th>\n",
       "      <td>180.8</td>\n",
       "      <td>10.8</td>\n",
       "      <td>58.4</td>\n",
       "      <td>12.9</td>\n",
       "    </tr>\n",
       "    <tr>\n",
       "      <th>...</th>\n",
       "      <td>...</td>\n",
       "      <td>...</td>\n",
       "      <td>...</td>\n",
       "      <td>...</td>\n",
       "    </tr>\n",
       "    <tr>\n",
       "      <th>195</th>\n",
       "      <td>38.2</td>\n",
       "      <td>3.7</td>\n",
       "      <td>13.8</td>\n",
       "      <td>7.6</td>\n",
       "    </tr>\n",
       "    <tr>\n",
       "      <th>196</th>\n",
       "      <td>94.2</td>\n",
       "      <td>4.9</td>\n",
       "      <td>8.1</td>\n",
       "      <td>9.7</td>\n",
       "    </tr>\n",
       "    <tr>\n",
       "      <th>197</th>\n",
       "      <td>177.0</td>\n",
       "      <td>9.3</td>\n",
       "      <td>6.4</td>\n",
       "      <td>12.8</td>\n",
       "    </tr>\n",
       "    <tr>\n",
       "      <th>198</th>\n",
       "      <td>283.6</td>\n",
       "      <td>42.0</td>\n",
       "      <td>66.2</td>\n",
       "      <td>25.5</td>\n",
       "    </tr>\n",
       "    <tr>\n",
       "      <th>199</th>\n",
       "      <td>232.1</td>\n",
       "      <td>8.6</td>\n",
       "      <td>8.7</td>\n",
       "      <td>13.4</td>\n",
       "    </tr>\n",
       "  </tbody>\n",
       "</table>\n",
       "<p>200 rows × 4 columns</p>\n",
       "</div>"
      ],
      "text/plain": [
       "        TV  Radio  Newspaper  Sales\n",
       "0    230.1   37.8       69.2   22.1\n",
       "1     44.5   39.3       45.1   10.4\n",
       "2     17.2   45.9       69.3    9.3\n",
       "3    151.5   41.3       58.5   18.5\n",
       "4    180.8   10.8       58.4   12.9\n",
       "..     ...    ...        ...    ...\n",
       "195   38.2    3.7       13.8    7.6\n",
       "196   94.2    4.9        8.1    9.7\n",
       "197  177.0    9.3        6.4   12.8\n",
       "198  283.6   42.0       66.2   25.5\n",
       "199  232.1    8.6        8.7   13.4\n",
       "\n",
       "[200 rows x 4 columns]"
      ]
     },
     "execution_count": 41,
     "metadata": {},
     "output_type": "execute_result"
    }
   ],
   "source": [
    "# Checking the DataFrame again after dropping the 'Unnamed: 0'  column\n",
    "Ad_df"
   ]
  },
  {
   "cell_type": "markdown",
   "metadata": {},
   "source": [
    "## **Checking the info of the data**"
   ]
  },
  {
   "cell_type": "code",
   "execution_count": 42,
   "metadata": {
    "colab": {
     "base_uri": "https://localhost:8080/"
    },
    "id": "lPtSvD8T-ALA",
    "outputId": "bc92c947-876f-455b-99d3-df84689c4fe5"
   },
   "outputs": [
    {
     "name": "stdout",
     "output_type": "stream",
     "text": [
      "<class 'pandas.core.frame.DataFrame'>\n",
      "RangeIndex: 200 entries, 0 to 199\n",
      "Data columns (total 4 columns):\n",
      " #   Column     Non-Null Count  Dtype  \n",
      "---  ------     --------------  -----  \n",
      " 0   TV         200 non-null    float64\n",
      " 1   Radio      200 non-null    float64\n",
      " 2   Newspaper  200 non-null    float64\n",
      " 3   Sales      200 non-null    float64\n",
      "dtypes: float64(4)\n",
      "memory usage: 6.4 KB\n"
     ]
    }
   ],
   "source": [
    "Ad_df.info()"
   ]
  },
  {
   "cell_type": "markdown",
   "metadata": {
    "id": "TtclE25ghs4f"
   },
   "source": [
    "**Observations:** \n",
    "\n",
    "- There are **200 observations and 4 columns** in the data. \n",
    "- There are **no missing values** in the data.\n",
    "- All the **variables are of float data type**."
   ]
  },
  {
   "cell_type": "markdown",
   "metadata": {
    "id": "vdPHnnpw_9oV"
   },
   "source": [
    "## **Simple Linear Regression**\n",
    "\n",
    "Let us now start with the simple linear regression. We will fit the linear regression model using one feature at a time and have a look at the results from each model."
   ]
  },
  {
   "cell_type": "code",
   "execution_count": 43,
   "metadata": {
    "id": "q4UTFBGd9_Dr"
   },
   "outputs": [],
   "source": [
    "# Dataset is stored in a Pandas DataFrame. Let us take out all the variables in a numpy array.\n",
    "\n",
    "Sales = Ad_df.Sales.values.reshape(len(Ad_df['Sales']), 1)\n",
    "\n",
    "TV = Ad_df.TV.values.reshape(len(Ad_df['Sales']), 1)\n",
    "\n",
    "Radio = Ad_df.Radio.values.reshape(len(Ad_df['Sales']), 1)\n",
    "\n",
    "Newspaper = Ad_df.Newspaper.values.reshape(len(Ad_df['Sales']), 1)"
   ]
  },
  {
   "cell_type": "code",
   "execution_count": 44,
   "metadata": {
    "colab": {
     "base_uri": "https://localhost:8080/",
     "height": 112
    },
    "id": "Q4CKboT-CBgP",
    "outputId": "0118bd6b-7285-434d-bae5-6139964d3393"
   },
   "outputs": [
    {
     "data": {
      "text/html": [
       "<div>\n",
       "<style scoped>\n",
       "    .dataframe tbody tr th:only-of-type {\n",
       "        vertical-align: middle;\n",
       "    }\n",
       "\n",
       "    .dataframe tbody tr th {\n",
       "        vertical-align: top;\n",
       "    }\n",
       "\n",
       "    .dataframe thead th {\n",
       "        text-align: right;\n",
       "    }\n",
       "</style>\n",
       "<table border=\"1\" class=\"dataframe\">\n",
       "  <thead>\n",
       "    <tr style=\"text-align: right;\">\n",
       "      <th></th>\n",
       "      <th>TV</th>\n",
       "      <th>Radio</th>\n",
       "      <th>Newspaper</th>\n",
       "    </tr>\n",
       "  </thead>\n",
       "  <tbody>\n",
       "    <tr>\n",
       "      <th>Intercept</th>\n",
       "      <td>7.032594</td>\n",
       "      <td>9.311638</td>\n",
       "      <td>12.351407</td>\n",
       "    </tr>\n",
       "    <tr>\n",
       "      <th>Coefficient</th>\n",
       "      <td>0.047537</td>\n",
       "      <td>0.202496</td>\n",
       "      <td>0.054693</td>\n",
       "    </tr>\n",
       "  </tbody>\n",
       "</table>\n",
       "</div>"
      ],
      "text/plain": [
       "                   TV     Radio  Newspaper\n",
       "Intercept    7.032594  9.311638  12.351407\n",
       "Coefficient  0.047537  0.202496   0.054693"
      ]
     },
     "execution_count": 44,
     "metadata": {},
     "output_type": "execute_result"
    }
   ],
   "source": [
    "# Fitting the simple linear regression model with the TV feature\n",
    "\n",
    "tv_model = linear_model.LinearRegression()\n",
    "\n",
    "tv_model.fit(TV, Sales)\n",
    "\n",
    "coeffs_tv = np.array(list(tv_model.intercept_.flatten()) + list(tv_model.coef_.flatten()))\n",
    "\n",
    "coeffs_tv = list(coeffs_tv)\n",
    "\n",
    "# Fitting the simple linear regression model with the Radio feature\n",
    "\n",
    "radio_model = linear_model.LinearRegression()\n",
    "\n",
    "radio_model.fit(Radio, Sales)\n",
    "\n",
    "coeffs_radio = np.array(list(radio_model.intercept_.flatten()) + list(radio_model.coef_.flatten()))\n",
    "\n",
    "coeffs_radio = list(coeffs_radio)\n",
    "\n",
    "# Fitting the simple linear regression model with the Newspaper feature\n",
    "\n",
    "newspaper_model = linear_model.LinearRegression()\n",
    "\n",
    "newspaper_model.fit(Newspaper, Sales)\n",
    "\n",
    "coeffs_newspaper = np.array(list(newspaper_model.intercept_.flatten()) + list(newspaper_model.coef_.flatten()))\n",
    "\n",
    "coeffs_newspaper = list(coeffs_newspaper)\n",
    "\n",
    "# Let us store the above results in a dictionary and then display using a DataFrame\n",
    "\n",
    "dict_Sales = {}\n",
    "\n",
    "dict_Sales[\"TV\"] = coeffs_tv\n",
    "\n",
    "dict_Sales[\"Radio\"] = coeffs_radio\n",
    "\n",
    "dict_Sales[\"Newspaper\"] = coeffs_newspaper\n",
    "\n",
    "metric_Df_SLR = pd.DataFrame(dict_Sales)\n",
    "\n",
    "metric_Df_SLR.index = ['Intercept', 'Coefficient']\n",
    "\n",
    "metric_Df_SLR"
   ]
  },
  {
   "cell_type": "code",
   "execution_count": 45,
   "metadata": {
    "colab": {
     "base_uri": "https://localhost:8080/"
    },
    "id": "IFjl_ZoW_njD",
    "outputId": "4854263d-47cc-4995-828a-52372294f9c5"
   },
   "outputs": [
    {
     "name": "stdout",
     "output_type": "stream",
     "text": [
      "TV simple linear regression R-Square : 0.611875050850071\n",
      "Radio simple linear regression R-Square : 0.33203245544529525\n",
      "Newspaper simple linear regression R-Square : 0.05212044544430516\n"
     ]
    },
    {
     "data": {
      "text/plain": [
       "[0.611875050850071, 0.33203245544529525, 0.05212044544430516]"
      ]
     },
     "execution_count": 45,
     "metadata": {},
     "output_type": "execute_result"
    }
   ],
   "source": [
    "# Let us now calculate R^2 for each of the models\n",
    "\n",
    "tv_rsq = tv_model.score(TV, Sales)\n",
    "\n",
    "radio_rsq = radio_model.score(Radio, Sales)\n",
    "\n",
    "newspaper_rsq = newspaper_model.score(Newspaper, Sales)\n",
    "\n",
    "print(\"TV simple linear regression R-Square :\", tv_rsq)\n",
    "\n",
    "print(\"Radio simple linear regression R-Square :\", radio_rsq)\n",
    "\n",
    "print(\"Newspaper simple linear regression R-Square :\", newspaper_rsq)\n",
    "\n",
    "list_rsq = [tv_rsq, radio_rsq, newspaper_rsq]\n",
    "\n",
    "list_rsq"
   ]
  },
  {
   "cell_type": "code",
   "execution_count": 46,
   "metadata": {
    "colab": {
     "base_uri": "https://localhost:8080/",
     "height": 143
    },
    "id": "jMAZXp21AGsB",
    "outputId": "65ed39bb-2e95-40d3-a51a-c0c17cef6014"
   },
   "outputs": [
    {
     "data": {
      "text/html": [
       "<div>\n",
       "<style scoped>\n",
       "    .dataframe tbody tr th:only-of-type {\n",
       "        vertical-align: middle;\n",
       "    }\n",
       "\n",
       "    .dataframe tbody tr th {\n",
       "        vertical-align: top;\n",
       "    }\n",
       "\n",
       "    .dataframe thead th {\n",
       "        text-align: right;\n",
       "    }\n",
       "</style>\n",
       "<table border=\"1\" class=\"dataframe\">\n",
       "  <thead>\n",
       "    <tr style=\"text-align: right;\">\n",
       "      <th></th>\n",
       "      <th>TV</th>\n",
       "      <th>Radio</th>\n",
       "      <th>Newspaper</th>\n",
       "    </tr>\n",
       "  </thead>\n",
       "  <tbody>\n",
       "    <tr>\n",
       "      <th>Intercept</th>\n",
       "      <td>7.032594</td>\n",
       "      <td>9.311638</td>\n",
       "      <td>12.351407</td>\n",
       "    </tr>\n",
       "    <tr>\n",
       "      <th>Coefficient</th>\n",
       "      <td>0.047537</td>\n",
       "      <td>0.202496</td>\n",
       "      <td>0.054693</td>\n",
       "    </tr>\n",
       "    <tr>\n",
       "      <th>R-Squared</th>\n",
       "      <td>0.611875</td>\n",
       "      <td>0.332032</td>\n",
       "      <td>0.052120</td>\n",
       "    </tr>\n",
       "  </tbody>\n",
       "</table>\n",
       "</div>"
      ],
      "text/plain": [
       "                   TV     Radio  Newspaper\n",
       "Intercept    7.032594  9.311638  12.351407\n",
       "Coefficient  0.047537  0.202496   0.054693\n",
       "R-Squared    0.611875  0.332032   0.052120"
      ]
     },
     "execution_count": 46,
     "metadata": {},
     "output_type": "execute_result"
    }
   ],
   "source": [
    "metric_Df_SLR.loc['R-Squared'] = list_rsq\n",
    "\n",
    "metric_Df_SLR"
   ]
  },
  {
   "cell_type": "markdown",
   "metadata": {
    "id": "Es84uRdJhs4i"
   },
   "source": [
    "\n",
    "**Observation:** \n",
    "\n",
    "- We can see that TV has the highest R^2 value, i.e., 61% followed by Radio."
   ]
  },
  {
   "cell_type": "markdown",
   "metadata": {
    "id": "6x63PBJxhs4i"
   },
   "source": [
    "Let's try to visualize the best fit line from each of the simple regression models using the regression plot"
   ]
  },
  {
   "cell_type": "code",
   "execution_count": 47,
   "metadata": {
    "colab": {
     "base_uri": "https://localhost:8080/",
     "height": 803
    },
    "id": "_R45kkSNQxPx",
    "outputId": "a07ac970-c191-4282-96e5-950164b56f02"
   },
   "outputs": [
    {
     "data": {
      "image/png": "[encoded data removed]",
      "text/plain": [
       "<Figure size 432x288 with 1 Axes>"
      ]
     },
     "metadata": {
      "needs_background": "light"
     },
     "output_type": "display_data"
    },
    {
     "data": {
      "image/png": "[encoded data removed]",
      "text/plain": [
       "<Figure size 432x288 with 1 Axes>"
      ]
     },
     "metadata": {
      "needs_background": "light"
     },
     "output_type": "display_data"
    },
    {
     "data": {
      "image/png": "[encoded data removed]",
      "text/plain": [
       "<Figure size 432x288 with 1 Axes>"
      ]
     },
     "metadata": {
      "needs_background": "light"
     },
     "output_type": "display_data"
    }
   ],
   "source": [
    "# Simple linear regression with TV as the independent variable\n",
    "plt.scatter(TV, Sales, color = 'red')\n",
    "\n",
    "plt.xlabel('TV Ads')\n",
    "\n",
    "plt.ylabel('Sales')\n",
    "\n",
    "plt.plot(TV, tv_model.predict(TV), color = 'blue', linewidth = 3)\n",
    "\n",
    "plt.show()\n",
    "\n",
    "# Simple linear regression with Radio as the independent variable\n",
    "plt.scatter(Radio, Sales,  color = 'red')\n",
    "\n",
    "plt.xlabel('Radio Ads')\n",
    "\n",
    "plt.ylabel('Sales')\n",
    "\n",
    "plt.plot(Radio, radio_model.predict(Radio), color = 'blue', linewidth = 3)\n",
    "\n",
    "plt.show()\n",
    "\n",
    "# Simple linear regression with Newspaper as the independent variable\n",
    "plt.scatter(Newspaper, Sales, color = 'red')\n",
    "\n",
    "plt.xlabel('Newspaper Ads')\n",
    "\n",
    "plt.ylabel('Sales')\n",
    "\n",
    "plt.plot(Newspaper, newspaper_model.predict(Newspaper), color = 'blue', linewidth = 3)\n",
    "\n",
    "plt.show()"
   ]
  },
  {
   "cell_type": "markdown",
   "metadata": {
    "id": "QxiuPBWPQnKm"
   },
   "source": [
    "## **Multiple Linear Regression**\n",
    "\n",
    "Let us now build a multiple linear regression model, i.e., we will use all three features to predict the target variable - sales."
   ]
  },
  {
   "cell_type": "code",
   "execution_count": 48,
   "metadata": {
    "colab": {
     "base_uri": "https://localhost:8080/"
    },
    "id": "p0XdOsasQ_uq",
    "outputId": "3d016591-cdfa-44e6-a36b-281330e07d8f"
   },
   "outputs": [
    {
     "data": {
      "text/plain": [
       "LinearRegression()"
      ]
     },
     "execution_count": 48,
     "metadata": {},
     "output_type": "execute_result"
    }
   ],
   "source": [
    "mlr_model = linear_model.LinearRegression()\n",
    "\n",
    "mlr_model.fit(Ad_df[['TV', 'Radio', 'Newspaper']], Ad_df['Sales'])"
   ]
  },
  {
   "cell_type": "code",
   "execution_count": 49,
   "metadata": {
    "id": "f45Fynt_WSIr"
   },
   "outputs": [],
   "source": [
    "Ad_df['Sales_Predicted'] = mlr_model.predict(Ad_df[['TV', 'Radio', 'Newspaper']]) \n",
    "\n",
    "Ad_df['Error'] = (Ad_df['Sales_Predicted'] - Ad_df['Sales'])**2\n",
    "\n",
    "MSE_MLR = Ad_df['Error'].mean()"
   ]
  },
  {
   "cell_type": "code",
   "execution_count": 50,
   "metadata": {
    "colab": {
     "base_uri": "https://localhost:8080/"
    },
    "id": "2IR7lKmrYCpl",
    "outputId": "265bd9f4-199b-466f-da7a-2a3789c9565d"
   },
   "outputs": [
    {
     "data": {
      "text/plain": [
       "2.784126314510936"
      ]
     },
     "execution_count": 50,
     "metadata": {},
     "output_type": "execute_result"
    }
   ],
   "source": [
    "MSE_MLR"
   ]
  },
  {
   "cell_type": "code",
   "execution_count": 51,
   "metadata": {
    "colab": {
     "base_uri": "https://localhost:8080/"
    },
    "id": "yXJ6F7b5OqPI",
    "outputId": "1ab9104b-7d2a-4865-926e-00a3813fa59b"
   },
   "outputs": [
    {
     "data": {
      "text/plain": [
       "0.8972106381789522"
      ]
     },
     "execution_count": 51,
     "metadata": {},
     "output_type": "execute_result"
    }
   ],
   "source": [
    "mlr_model.score(Ad_df[['TV', 'Radio', 'Newspaper']], Ad_df['Sales'])"
   ]
  },
  {
   "cell_type": "markdown",
   "metadata": {
    "id": "qsZJ-jimhs4k"
   },
   "source": [
    "**Observation:** \n",
    "\n",
    "- The R^2 value for the multiple linear regression comes out to be **89.7%.** This is much better than any of the simple linear regression models."
   ]
  },
  {
   "cell_type": "markdown",
   "metadata": {
    "id": "UijVypbEhs4k"
   },
   "source": [
    "Let's now try to use the statsmodels library to get a more detailed model interpretation."
   ]
  },
  {
   "cell_type": "code",
   "execution_count": 52,
   "metadata": {
    "colab": {
     "base_uri": "https://localhost:8080/"
    },
    "id": "qjFCh7tkWf0M",
    "outputId": "5999b87c-518c-4aff-fd3f-e772809c9ee2"
   },
   "outputs": [
    {
     "name": "stdout",
     "output_type": "stream",
     "text": [
      "                            OLS Regression Results                            \n",
      "==============================================================================\n",
      "Dep. Variable:                  Sales   R-squared:                       0.897\n",
      "Model:                            OLS   Adj. R-squared:                  0.896\n",
      "Method:                 Least Squares   F-statistic:                     570.3\n",
      "Date:                Wed, 13 Apr 2022   Prob (F-statistic):           1.58e-96\n",
      "Time:                        18:20:22   Log-Likelihood:                -386.18\n",
      "No. Observations:                 200   AIC:                             780.4\n",
      "Df Residuals:                     196   BIC:                             793.6\n",
      "Df Model:                           3                                         \n",
      "Covariance Type:            nonrobust                                         \n",
      "==============================================================================\n",
      "                 coef    std err          t      P>|t|      [0.025      0.975]\n",
      "------------------------------------------------------------------------------\n",
      "Intercept      2.9389      0.312      9.422      0.000       2.324       3.554\n",
      "TV             0.0458      0.001     32.809      0.000       0.043       0.049\n",
      "Radio          0.1885      0.009     21.893      0.000       0.172       0.206\n",
      "Newspaper     -0.0010      0.006     -0.177      0.860      -0.013       0.011\n",
      "==============================================================================\n",
      "Omnibus:                       60.414   Durbin-Watson:                   2.084\n",
      "Prob(Omnibus):                  0.000   Jarque-Bera (JB):              151.241\n",
      "Skew:                          -1.327   Prob(JB):                     1.44e-33\n",
      "Kurtosis:                       6.332   Cond. No.                         454.\n",
      "==============================================================================\n",
      "\n",
      "Notes:\n",
      "[1] Standard Errors assume that the covariance matrix of the errors is correctly specified.\n"
     ]
    }
   ],
   "source": [
    "# Let us get a more detailed model using statsmodels\n",
    "\n",
    "import statsmodels.formula.api as smf\n",
    "\n",
    "lm1 = smf.ols(formula = 'Sales ~ TV+Radio+Newspaper', data = Ad_df).fit()\n",
    "\n",
    "lm1.params\n",
    "\n",
    "print(lm1.summary())  #Inferential statistics"
   ]
  },
  {
   "cell_type": "code",
   "execution_count": 53,
   "metadata": {
    "colab": {
     "base_uri": "https://localhost:8080/"
    },
    "id": "w2aGVrtKnY7G",
    "outputId": "53f75ada-e022-403a-eb77-b26c5adcf1ff"
   },
   "outputs": [
    {
     "name": "stdout",
     "output_type": "stream",
     "text": [
      "*************Parameters**************\n",
      "Intercept    2.938889\n",
      "TV           0.045765\n",
      "Radio        0.188530\n",
      "Newspaper   -0.001037\n",
      "dtype: float64\n",
      "*************P-Values**************\n",
      "Intercept    1.267295e-17\n",
      "TV           1.509960e-81\n",
      "Radio        1.505339e-54\n",
      "Newspaper    8.599151e-01\n",
      "dtype: float64\n",
      "************Standard Errors***************\n",
      "Intercept    0.311908\n",
      "TV           0.001395\n",
      "Radio        0.008611\n",
      "Newspaper    0.005871\n",
      "dtype: float64\n",
      "*************Confidence Interval**************\n",
      "                  0         1\n",
      "Intercept  2.323762  3.554016\n",
      "TV         0.043014  0.048516\n",
      "Radio      0.171547  0.205513\n",
      "Newspaper -0.012616  0.010541\n",
      "*************Error Covariance Matrix**************\n",
      "           Intercept            TV         Radio     Newspaper\n",
      "Intercept   0.097287 -2.657273e-04 -1.115489e-03 -5.910212e-04\n",
      "TV         -0.000266  1.945737e-06 -4.470395e-07 -3.265950e-07\n",
      "Radio      -0.001115 -4.470395e-07  7.415335e-05 -1.780062e-05\n",
      "Newspaper  -0.000591 -3.265950e-07 -1.780062e-05  3.446875e-05\n"
     ]
    }
   ],
   "source": [
    "print(\"*************Parameters**************\")\n",
    "\n",
    "print(lm1.params)\n",
    "\n",
    "print(\"*************P-Values**************\")\n",
    "\n",
    "print(lm1.pvalues)\n",
    "\n",
    "print(\"************Standard Errors***************\")\n",
    "\n",
    "print(lm1.bse) \n",
    "\n",
    "print(\"*************Confidence Interval**************\")\n",
    "\n",
    "print(lm1.conf_int())\n",
    "\n",
    "print(\"*************Error Covariance Matrix**************\")\n",
    "\n",
    "print(lm1.cov_params())"
   ]
  },
  {
   "cell_type": "markdown",
   "metadata": {},
   "source": [
    "**Observations:**\n",
    "* The p-value of a variable indicates if the variable is significant or not. If we consider the significance level to be 0.05 (5%), then any variable with a p-value less than 0.05 would be considered significant.\n",
    "* The p-value for the Newspaper variable is 0.85, which is higher than 0.05. This shows that the Newspaper variable is insignificant.\n",
    "* The R-squared value for the Linear Regression model is ~0.90, which indicates that the model is able to explain almost 90% variance in the target variable."
   ]
  },
  {
   "cell_type": "markdown",
   "metadata": {
    "id": "drlo5QI2h2oY"
   },
   "source": [
    "## **Visualizing the confidence bands in Simple Linear Regression**"
   ]
  },
  {
   "cell_type": "code",
   "execution_count": 54,
   "metadata": {
    "colab": {
     "base_uri": "https://localhost:8080/",
     "height": 1000
    },
    "id": "daxXRhFiip3e",
    "outputId": "01a6e2a6-7b65-4193-f2a3-a707ee565ed7"
   },
   "outputs": [
    {
     "data": {
      "text/plain": [
       "<seaborn.axisgrid.FacetGrid at 0x1766d046340>"
      ]
     },
     "execution_count": 54,
     "metadata": {},
     "output_type": "execute_result"
    },
    {
     "data": {
      "image/png": "[encoded data removed]",
      "text/plain": [
       "<Figure size 360x360 with 1 Axes>"
      ]
     },
     "metadata": {
      "needs_background": "light"
     },
     "output_type": "display_data"
    },
    {
     "data": {
      "image/png": "[encoded data removed]",
      "text/plain": [
       "<Figure size 360x360 with 1 Axes>"
      ]
     },
     "metadata": {
      "needs_background": "light"
     },
     "output_type": "display_data"
    },
    {
     "data": {
      "image/png": "[encoded data removed]",
      "text/plain": [
       "<Figure size 360x360 with 1 Axes>"
      ]
     },
     "metadata": {
      "needs_background": "light"
     },
     "output_type": "display_data"
    }
   ],
   "source": [
    "import seaborn as sns\n",
    "\n",
    "sns.lmplot(x = 'TV', y = 'Sales', data = Ad_df)\n",
    "\n",
    "sns.lmplot(x = 'Radio', y = 'Sales', data = Ad_df )\n",
    "\n",
    "sns.lmplot(x = 'Newspaper', y = 'Sales', data = Ad_df)"
   ]
  },
  {
   "cell_type": "markdown",
   "metadata": {
    "id": "GGCcusUsz_Az"
   },
   "source": [
    "# **Model Evaluation: Cross validation and Bootstrapping**\n",
    "\n",
    "- We observed that the variable 'Newspaper' can be omitted from the list of significant features owing to the p-value.\n",
    "- Let us now run the regression analysis adding a multiplicative feature in it."
   ]
  },
  {
   "cell_type": "code",
   "execution_count": 55,
   "metadata": {
    "id": "zTSASn2az9-B"
   },
   "outputs": [],
   "source": [
    "Ad_df['TVandRadio'] = Ad_df['TV'] * Ad_df['Radio']"
   ]
  },
  {
   "cell_type": "code",
   "execution_count": 56,
   "metadata": {
    "id": "h_EfN22CWf5W"
   },
   "outputs": [],
   "source": [
    "# Let us remove the sales_predicted and the error column generated earlier\n",
    "\n",
    "Ad_df.drop(columns = [\"Error\", \"Sales_Predicted\"], inplace = True)"
   ]
  },
  {
   "cell_type": "code",
   "execution_count": 57,
   "metadata": {
    "colab": {
     "base_uri": "https://localhost:8080/"
    },
    "id": "rz8DKNiF2QxK",
    "outputId": "d6e933e3-75d1-49bc-a16e-9898416283e9"
   },
   "outputs": [
    {
     "name": "stdout",
     "output_type": "stream",
     "text": [
      "                            OLS Regression Results                            \n",
      "==============================================================================\n",
      "Dep. Variable:                  Sales   R-squared:                       0.968\n",
      "Model:                            OLS   Adj. R-squared:                  0.967\n",
      "Method:                 Least Squares   F-statistic:                     1466.\n",
      "Date:                Wed, 13 Apr 2022   Prob (F-statistic):          2.92e-144\n",
      "Time:                        18:20:23   Log-Likelihood:                -270.04\n",
      "No. Observations:                 200   AIC:                             550.1\n",
      "Df Residuals:                     195   BIC:                             566.6\n",
      "Df Model:                           4                                         \n",
      "Covariance Type:            nonrobust                                         \n",
      "==============================================================================\n",
      "                 coef    std err          t      P>|t|      [0.025      0.975]\n",
      "------------------------------------------------------------------------------\n",
      "Intercept      6.7284      0.253     26.561      0.000       6.229       7.228\n",
      "TV             0.0191      0.002     12.633      0.000       0.016       0.022\n",
      "Radio          0.0280      0.009      3.062      0.003       0.010       0.046\n",
      "Newspaper      0.0014      0.003      0.438      0.662      -0.005       0.008\n",
      "TVandRadio     0.0011   5.26e-05     20.686      0.000       0.001       0.001\n",
      "==============================================================================\n",
      "Omnibus:                      126.161   Durbin-Watson:                   2.216\n",
      "Prob(Omnibus):                  0.000   Jarque-Bera (JB):             1123.463\n",
      "Skew:                          -2.291   Prob(JB):                    1.10e-244\n",
      "Kurtosis:                      13.669   Cond. No.                     1.84e+04\n",
      "==============================================================================\n",
      "\n",
      "Notes:\n",
      "[1] Standard Errors assume that the covariance matrix of the errors is correctly specified.\n",
      "[2] The condition number is large, 1.84e+04. This might indicate that there are\n",
      "strong multicollinearity or other numerical problems.\n"
     ]
    }
   ],
   "source": [
    "# Let us do the modelling with new features\n",
    "\n",
    "import statsmodels.formula.api as smf\n",
    "\n",
    "lm2 = smf.ols(formula = 'Sales ~ TV+Radio + Newspaper + TVandRadio', data = Ad_df).fit()\n",
    "\n",
    "lm2.params\n",
    "\n",
    "print(lm2.summary())"
   ]
  },
  {
   "cell_type": "markdown",
   "metadata": {
    "id": "NslaNwMQFjL1"
   },
   "source": [
    "**Observation:**\n",
    "\n",
    "- We see an increase in the R-squared here. However, is this model useful for prediction? Does it predict well for the unseen data? Let us find out!"
   ]
  },
  {
   "cell_type": "markdown",
   "metadata": {
    "id": "d46mQv0BUKZ8"
   },
   "source": [
    "## **Performance assessment, testing, and validation**"
   ]
  },
  {
   "cell_type": "markdown",
   "metadata": {
    "id": "-EAcqssG3pr0"
   },
   "source": [
    "### **Train, Test, and Validation set**\n",
    "\n",
    "- We will split the data into three sets, one to train the model, one to validate the model performance (not seen during training) and make improvements, and the last to test the model."
   ]
  },
  {
   "cell_type": "code",
   "execution_count": 58,
   "metadata": {
    "id": "uQTTvaQ_3C6D"
   },
   "outputs": [],
   "source": [
    "from sklearn.model_selection import train_test_split"
   ]
  },
  {
   "cell_type": "code",
   "execution_count": 59,
   "metadata": {
    "id": "RRerX1zyDUlM"
   },
   "outputs": [],
   "source": [
    "features_base = [i for i in Ad_df.columns if i not in (\"Sales\" , \"TVandRadio\")]\n",
    "\n",
    "features_added = [i for i in Ad_df.columns if i not in \"Sales\"]\n",
    "\n",
    "target = 'Sales'\n",
    "\n",
    "# Splitting the original data into train and test sets\n",
    "train, test = train_test_split(Ad_df, test_size = 0.10, train_size = 0.9, random_state = 1)"
   ]
  },
  {
   "cell_type": "code",
   "execution_count": 60,
   "metadata": {
    "id": "ztuTrjlsDUq0"
   },
   "outputs": [],
   "source": [
    "# Splitting the above training data into train and validation sets\n",
    "train, validation = train_test_split(train, test_size = 0.2, train_size = 0.80, random_state = 1)"
   ]
  },
  {
   "cell_type": "code",
   "execution_count": 61,
   "metadata": {
    "colab": {
     "base_uri": "https://localhost:8080/"
    },
    "id": "jgm44JjJDUtK",
    "outputId": "4e9402d5-2f71-49d5-9074-5f801a0428be"
   },
   "outputs": [
    {
     "data": {
      "text/plain": [
       "((144, 5), (36, 5), (20, 5))"
      ]
     },
     "execution_count": 61,
     "metadata": {},
     "output_type": "execute_result"
    }
   ],
   "source": [
    "train.shape, validation.shape, test.shape"
   ]
  },
  {
   "cell_type": "code",
   "execution_count": 62,
   "metadata": {
    "colab": {
     "base_uri": "https://localhost:8080/"
    },
    "id": "BCsbEBPoDUwm",
    "outputId": "7ea5fbd0-ecfa-4a45-e1ca-a7d2dff30c7d"
   },
   "outputs": [
    {
     "name": "stdout",
     "output_type": "stream",
     "text": [
      "*********Training set Metrics**************\n",
      "R-Squared: 0.9094027928793047\n",
      "MSE:  2.722181832122794\n",
      "********Validation set Metrics**************\n",
      "R-Squared: 0.8235994856519824\n",
      "MSE:  3.3130452990550636\n"
     ]
    }
   ],
   "source": [
    "# Now, let us fit the model and find the performance on training and validation sets\n",
    "\n",
    "from sklearn.linear_model import LinearRegression\n",
    "\n",
    "mlr = LinearRegression()\n",
    "\n",
    "mlr.fit(train[features_base], train[target])\n",
    "\n",
    "print(\"*********Training set Metrics**************\")\n",
    "\n",
    "print(\"R-Squared:\", mlr.score(train[features_base], train[target]))\n",
    "\n",
    "se_train = (train[target] - mlr.predict(train[features_base]))**2\n",
    "\n",
    "mse_train = se_train.mean()\n",
    "\n",
    "print('MSE: ', mse_train)\n",
    "\n",
    "print(\"********Validation set Metrics**************\")\n",
    "\n",
    "print(\"R-Squared:\", mlr.score(validation[features_base], validation[target]))\n",
    "\n",
    "se_val = (validation[target] - mlr.predict(validation[features_base]))**2\n",
    "\n",
    "mse_val = se_val.mean()\n",
    "\n",
    "print('MSE: ', mse_val)"
   ]
  },
  {
   "cell_type": "markdown",
   "metadata": {},
   "source": [
    "**Observations:**\n",
    "\n",
    "- We observe that the R-squared is higher on the training data in comparison to the validation data and MSE is lower on the training data in comparison to the validation data.\n",
    "- This implies that the model is slightly overfitting the training data."
   ]
  },
  {
   "cell_type": "code",
   "execution_count": 63,
   "metadata": {
    "colab": {
     "base_uri": "https://localhost:8080/"
    },
    "id": "BhMVT0OoI-ZR",
    "outputId": "7a15fda3-99e9-4ce7-ed1f-63965aa9a04b"
   },
   "outputs": [
    {
     "name": "stdout",
     "output_type": "stream",
     "text": [
      "*********Training set Metrics**************\n",
      "R-Squared: 0.9671620223595259\n",
      "MSE:  0.9866854506614621\n",
      "********Validation set Metrics**************\n",
      "R-Squared: 0.9597611053967473\n",
      "MSE:  0.7557420175174034\n"
     ]
    }
   ],
   "source": [
    "# Can we increase the model performance by adding the new feature? \n",
    "\n",
    "# We found that to be the case in the analysis above but let's check the same for the validation dataset\n",
    "\n",
    "mlr_added_feature = LinearRegression()\n",
    "\n",
    "mlr_added_feature.fit(train[features_added], train[target])\n",
    "\n",
    "print(\"*********Training set Metrics**************\")\n",
    "\n",
    "print(\"R-Squared:\", mlr_added_feature.score(train[features_added], train[target]))\n",
    "\n",
    "se_train = (train[target] - mlr_added_feature.predict(train[features_added]))**2\n",
    "\n",
    "mse_train = se_train.mean()\n",
    "\n",
    "print('MSE: ', mse_train)\n",
    "\n",
    "print(\"********Validation set Metrics**************\")\n",
    "\n",
    "print(\"R-Squared:\", mlr_added_feature.score(validation[features_added], validation[target]))\n",
    "\n",
    "se_val = (validation[target] - mlr_added_feature.predict(validation[features_added]))**2\n",
    "\n",
    "mse_val = se_val.mean()\n",
    "\n",
    "print('MSE: ', mse_val)"
   ]
  },
  {
   "cell_type": "markdown",
   "metadata": {
    "id": "b6lpvtsONOad"
   },
   "source": [
    "**Observations:**\n",
    "- We observe that the R-squared increased as we would expect after adding a new feature. The MSE has also decreased. \n",
    "- The overfitting is reduced and the model is giving more generalized performance now. \n",
    "\n",
    "Let us now fit a regularized model."
   ]
  },
  {
   "cell_type": "markdown",
   "metadata": {
    "id": "7vbHnD39NJho"
   },
   "source": [
    "## **Regularization**"
   ]
  },
  {
   "cell_type": "code",
   "execution_count": 64,
   "metadata": {
    "colab": {
     "base_uri": "https://localhost:8080/"
    },
    "id": "zvJSmJcAQ5-L",
    "outputId": "bce9a12c-b856-4ee9-d2ff-712d782eb191"
   },
   "outputs": [
    {
     "data": {
      "text/plain": [
       "['TV', 'Radio', 'Newspaper', 'TVandRadio']"
      ]
     },
     "execution_count": 64,
     "metadata": {},
     "output_type": "execute_result"
    }
   ],
   "source": [
    "features_added"
   ]
  },
  {
   "cell_type": "code",
   "execution_count": 65,
   "metadata": {
    "colab": {
     "base_uri": "https://localhost:8080/"
    },
    "id": "aZoBlRnCKge6",
    "outputId": "28532c42-aac8-4151-891a-d9eb9c781b35"
   },
   "outputs": [
    {
     "name": "stdout",
     "output_type": "stream",
     "text": [
      "*********Training set Metrics**************\n",
      "R-Squared: 0.9671620223085567\n",
      "MSE:  0.9866854521929357\n",
      "********Validation set Metrics**************\n",
      "R-Squared: 0.9597629105527914\n",
      "MSE:  0.7557081141936639\n"
     ]
    }
   ],
   "source": [
    "from sklearn.linear_model import Ridge\n",
    "\n",
    "from sklearn.linear_model import Lasso\n",
    "\n",
    "# Fitting Ridge regression with the default features\n",
    "\n",
    "ridge = Ridge()\n",
    "\n",
    "ridge.fit(train[features_added], train[target])\n",
    "\n",
    "print(\"*********Training set Metrics**************\")\n",
    "\n",
    "print(\"R-Squared:\", ridge.score(train[features_added], train[target]))\n",
    "\n",
    "se_train = (train[target] - ridge.predict(train[features_added]))**2\n",
    "\n",
    "mse_train = se_train.mean()\n",
    "\n",
    "print('MSE: ', mse_train)\n",
    "\n",
    "print(\"********Validation set Metrics**************\")\n",
    "\n",
    "print(\"R-Squared:\", ridge.score(validation[features_added], validation[target]))\n",
    "\n",
    "se_val = (validation[target] - ridge.predict(validation[features_added]))**2\n",
    "\n",
    "mse_val = se_val.mean()\n",
    "\n",
    "print('MSE: ', mse_val)"
   ]
  },
  {
   "cell_type": "code",
   "execution_count": 66,
   "metadata": {
    "colab": {
     "base_uri": "https://localhost:8080/"
    },
    "id": "oL3Px7TORUVN",
    "outputId": "6d78b7aa-9139-4e51-fa96-1efeb2235ebb"
   },
   "outputs": [
    {
     "name": "stdout",
     "output_type": "stream",
     "text": [
      "*********Training set Metrics**************\n",
      "R-Squared: 0.9664951415258186\n",
      "MSE:  1.0067232746452661\n",
      "********Validation set Metrics**************\n",
      "R-Squared: 0.96554549004555\n",
      "MSE:  0.6471032845779189\n"
     ]
    }
   ],
   "source": [
    "from sklearn.linear_model import Ridge\n",
    "\n",
    "from sklearn.linear_model import Lasso\n",
    "\n",
    "# Fitting Lasso regression with the default features\n",
    "\n",
    "lasso = Lasso()\n",
    "\n",
    "lasso.fit(train[features_added], train[target])\n",
    "\n",
    "print(\"*********Training set Metrics**************\")\n",
    "\n",
    "print(\"R-Squared:\", lasso.score(train[features_added], train[target]))\n",
    "\n",
    "se_train = (train[target] - lasso.predict(train[features_added]))**2\n",
    "\n",
    "mse_train = se_train.mean()\n",
    "\n",
    "print('MSE: ', mse_train)\n",
    "\n",
    "print(\"********Validation set Metrics**************\")\n",
    "\n",
    "print(\"R-Squared:\", lasso.score(validation[features_added], validation[target]))\n",
    "\n",
    "se_val = (validation[target] - lasso.predict(validation[features_added]))**2\n",
    "\n",
    "mse_val = se_val.mean()\n",
    "\n",
    "print('MSE: ', mse_val)"
   ]
  },
  {
   "cell_type": "code",
   "execution_count": 67,
   "metadata": {
    "colab": {
     "base_uri": "https://localhost:8080/"
    },
    "id": "auLl5-cWRhKb",
    "outputId": "de9fe8f1-3a51-4abd-83fe-7165835bdca8"
   },
   "outputs": [
    {
     "name": "stdout",
     "output_type": "stream",
     "text": [
      "*****************Test set Metrics******************\n",
      "Rsquared:  0.9782287288583794\n",
      "MSE:  0.3633625153536476\n",
      "Intercept is 6.400611452367672 and Coefficients are [0.02127321 0.0410115  0.00051154 0.00100741]\n"
     ]
    }
   ],
   "source": [
    "# Let us predict on the unseen data using the Ridge regression\n",
    "\n",
    "rsq_test = ridge.score(test[features_added], test[target])\n",
    "\n",
    "se_test = (test[target] - ridge.predict(test[features_added]))**2\n",
    "\n",
    "mse_test = se_test.mean()\n",
    "\n",
    "print(\"*****************Test set Metrics******************\")\n",
    "\n",
    "print(\"Rsquared: \", rsq_test)\n",
    "\n",
    "print(\"MSE: \", mse_test)\n",
    "\n",
    "print(\"Intercept is {} and Coefficients are {}\".format(ridge.intercept_, ridge.coef_))"
   ]
  },
  {
   "cell_type": "markdown",
   "metadata": {
    "id": "SvdZcoUc9r4C"
   },
   "source": [
    "## **K-Fold and LooCV**\n",
    "\n",
    "- We will now evaluate the performance of the model using the LooCV and K-Fold methods."
   ]
  },
  {
   "cell_type": "code",
   "execution_count": 68,
   "metadata": {
    "id": "tY9Rz4rf9ql5"
   },
   "outputs": [],
   "source": [
    "from sklearn.linear_model import Ridge\n",
    "\n",
    "from sklearn.linear_model import Lasso\n",
    "\n",
    "from sklearn.model_selection import cross_val_score"
   ]
  },
  {
   "cell_type": "code",
   "execution_count": 69,
   "metadata": {
    "colab": {
     "base_uri": "https://localhost:8080/"
    },
    "id": "WMcwry-h64ZA",
    "outputId": "4523a35f-b5e3-4e92-a091-fc2a54595f40"
   },
   "outputs": [
    {
     "name": "stdout",
     "output_type": "stream",
     "text": [
      "Mean Score:\n",
      "0.9649887636257694 \n",
      "\n",
      "Confidence Interval:\n"
     ]
    },
    {
     "data": {
      "text/plain": [
       "(0.9430473456799697, 0.986930181571569)"
      ]
     },
     "execution_count": 69,
     "metadata": {},
     "output_type": "execute_result"
    }
   ],
   "source": [
    "ridgeCV = Ridge()\n",
    "\n",
    "cvs = cross_val_score(ridgeCV, Ad_df[features_added], Ad_df[target], cv = 10)\n",
    "\n",
    "print(\"Mean Score:\")\n",
    "\n",
    "print(cvs.mean(), \"\\n\")\n",
    "\n",
    "print(\"Confidence Interval:\")\n",
    "\n",
    "cvs.mean() - cvs.std(), cvs.mean() + cvs.std() \n",
    "\n",
    "# Note that the same can be set as LooCV if cv parameter above is set to n, i.e., 200."
   ]
  },
  {
   "cell_type": "markdown",
   "metadata": {
    "id": "id70R6LjYLEW"
   },
   "source": [
    "### **Extra: Statsmodels to fit regularized model**"
   ]
  },
  {
   "cell_type": "markdown",
   "metadata": {},
   "source": [
    "You can also use the statsmodels library to fit regularized regression models, i.e., Ridge and Lasso. The code in the below cell is commented. In case you are interested, you can uncomment the code and run the cell to get the output. "
   ]
  },
  {
   "cell_type": "code",
   "execution_count": 70,
   "metadata": {
    "id": "XVfz6N4yCT09"
   },
   "outputs": [],
   "source": [
    "# import statsmodels.formula.api as smf\n",
    "\n",
    "## Here, lasso is fit\n",
    "# lm3 = smf.ols(formula = 'Sales ~ TV+Radio+Newspaper+TVandRadio', data = Ad_df).fit_regularized(method = 'elastic_net', L1_wt = 1)\n",
    "# print(\"*************Parameters**************\")\n",
    "# print(lm3.params)\n",
    "\n",
    "## Here, ridge regularization has been fit\n",
    "# lm4 = smf.ols(formula = 'Sales ~ TV+Radio+Newspaper+TVandRadio', data = Ad_df).fit_regularized(method = 'elastic_net', L1_wt = 0)\n",
    "# print(\"*************Parameters**************\")\n",
    "# print(lm4.params)"
   ]
  },
  {
   "cell_type": "markdown",
   "metadata": {
    "id": "i6veKXLlmMWr"
   },
   "source": [
    "## **Bootstrapping**"
   ]
  },
  {
   "cell_type": "code",
   "execution_count": 71,
   "metadata": {
    "colab": {
     "base_uri": "https://localhost:8080/"
    },
    "id": "8FcvUb-YmLUP",
    "outputId": "6fdd9445-4295-4d11-e43b-cd4145751750"
   },
   "outputs": [
    {
     "name": "stdout",
     "output_type": "stream",
     "text": [
      "                            OLS Regression Results                            \n",
      "==============================================================================\n",
      "Dep. Variable:                  Sales   R-squared:                       0.612\n",
      "Model:                            OLS   Adj. R-squared:                  0.610\n",
      "Method:                 Least Squares   F-statistic:                     312.1\n",
      "Date:                Wed, 13 Apr 2022   Prob (F-statistic):           1.47e-42\n",
      "Time:                        18:20:27   Log-Likelihood:                -519.05\n",
      "No. Observations:                 200   AIC:                             1042.\n",
      "Df Residuals:                     198   BIC:                             1049.\n",
      "Df Model:                           1                                         \n",
      "Covariance Type:            nonrobust                                         \n",
      "==============================================================================\n",
      "                 coef    std err          t      P>|t|      [0.025      0.975]\n",
      "------------------------------------------------------------------------------\n",
      "Intercept      7.0326      0.458     15.360      0.000       6.130       7.935\n",
      "TV             0.0475      0.003     17.668      0.000       0.042       0.053\n",
      "==============================================================================\n",
      "Omnibus:                        0.531   Durbin-Watson:                   1.935\n",
      "Prob(Omnibus):                  0.767   Jarque-Bera (JB):                0.669\n",
      "Skew:                          -0.089   Prob(JB):                        0.716\n",
      "Kurtosis:                       2.779   Cond. No.                         338.\n",
      "==============================================================================\n",
      "\n",
      "Notes:\n",
      "[1] Standard Errors assume that the covariance matrix of the errors is correctly specified.\n"
     ]
    }
   ],
   "source": [
    "# Let us get a more detailed model using statsmodels\n",
    "\n",
    "import statsmodels.formula.api as smf\n",
    "\n",
    "lm2 = smf.ols(formula = 'Sales ~ TV', data = Ad_df).fit()\n",
    "\n",
    "lm2.params\n",
    "\n",
    "print(lm2.summary())"
   ]
  },
  {
   "cell_type": "code",
   "execution_count": 79,
   "metadata": {
    "colab": {
     "base_uri": "https://localhost:8080/",
     "height": 279
    },
    "id": "_qjK1Fn9UOJT",
    "outputId": "bae62018-cf01-486a-e09f-23b98b36df39"
   },
   "outputs": [
    {
     "data": {
      "image/png": "[encoded data removed]",
      "text/plain": [
       "<Figure size 432x288 with 1 Axes>"
      ]
     },
     "metadata": {
      "needs_background": "light"
     },
     "output_type": "display_data"
    }
   ],
   "source": [
    "# Now, let us calculate the slopes a 1000 times using bootstrapping\n",
    "\n",
    "import statsmodels.formula.api as smf\n",
    "\n",
    "Slope = []\n",
    "\n",
    "for i in range(1000):\n",
    "    bootstrap_df = Ad_df.sample(n = 200, replace = True)\n",
    "\n",
    "    lm3 = smf.ols(formula = 'Sales ~ TV', data = bootstrap_df).fit()\n",
    "\n",
    "    Slope.append(lm3.params.TV)\n",
    "\n",
    "    plt.xlabel('TV Ads')\n",
    "\n",
    "    plt.ylabel('Sales')\n",
    "\n",
    "    plt.plot(bootstrap_df['TV'], lm3.predict(bootstrap_df['TV']), color = 'green', linewidth = 3)\n",
    "\n",
    "plt.scatter(Ad_df['TV'], Ad_df['Sales'], color = (0, 0, 0.5))\n",
    "\n",
    "plt.show()\n"
   ]
  },
  {
   "cell_type": "code",
   "execution_count": 80,
   "metadata": {
    "colab": {
     "base_uri": "https://localhost:8080/"
    },
    "id": "my0E81YkGwCN",
    "outputId": "05df9d7c-e5fe-4bb9-8b14-b10e97b42555"
   },
   "outputs": [
    {
     "data": {
      "text/plain": [
       "array([0.04175036, 0.05318831])"
      ]
     },
     "execution_count": 80,
     "metadata": {},
     "output_type": "execute_result"
    }
   ],
   "source": [
    "# Let's now find out the 2.5 and 97.5 percentile for the slopes obtained\n",
    "\n",
    "import numpy as np\n",
    "\n",
    "Slope = np.array(Slope)\n",
    "\n",
    "Sort_Slope = np.sort(Slope)\n",
    "\n",
    "Slope_limits = np.percentile(Sort_Slope, (2.5, 97.5))\n",
    "\n",
    "Slope_limits"
   ]
  },
  {
   "cell_type": "code",
   "execution_count": 82,
   "metadata": {
    "colab": {
     "base_uri": "https://localhost:8080/",
     "height": 282
    },
    "id": "tfuLE-9Hoh2G",
    "outputId": "2afa963b-7f3e-4511-d6f2-66e0216e3fee"
   },
   "outputs": [
    {
     "data": {
      "text/plain": [
       "<matplotlib.lines.Line2D at 0x1766b9be670>"
      ]
     },
     "execution_count": 82,
     "metadata": {},
     "output_type": "execute_result"
    },
    {
     "data": {
      "image/png": "[encoded data removed]",
      "text/plain": [
       "<Figure size 432x288 with 1 Axes>"
      ]
     },
     "metadata": {
      "needs_background": "light"
     },
     "output_type": "display_data"
    }
   ],
   "source": [
    "# Plotting the slopes and the upper and the lower limits\n",
    "\n",
    "plt.hist(Slope, 50)\n",
    "\n",
    "plt.axvline(Slope_limits[0], color = 'r')\n",
    "\n",
    "plt.axvline(Slope_limits[1], color = 'r')"
   ]
  }
 ],
 "metadata": {
  "colab": {
   "collapsed_sections": [],
   "name": "LVC_1_Practical_Application_Effects_of_Advertising_on_Sales_Updated.ipynb",
   "provenance": []
  },
  "kernelspec": {
   "display_name": "Python 3",
   "language": "python",
   "name": "python3"
  },
  "language_info": {
   "codemirror_mode": {
    "name": "ipython",
    "version": 3
   },
   "file_extension": ".py",
   "mimetype": "text/x-python",
   "name": "python",
   "nbconvert_exporter": "python",
   "pygments_lexer": "ipython3",
   "version": "3.8.3"
  }
 },
 "nbformat": 4,
 "nbformat_minor": 1
}
