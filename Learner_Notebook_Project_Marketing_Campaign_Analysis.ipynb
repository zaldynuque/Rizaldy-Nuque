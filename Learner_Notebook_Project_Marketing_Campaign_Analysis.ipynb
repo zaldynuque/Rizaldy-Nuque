{
  "cells": [
    {
      "cell_type": "markdown",
      "metadata": {
        "id": "HWyvTyUMm5QB"
      },
      "source": [
        "---------------------\n",
        "# Project: Marketing Campaign Analysis\n",
        "**Marks:60**\n",
        "--------------------\n",
        "\n",
        "Welcome to the project on Foundations for Data Science. In this project, we aim to analyze marketing data and address some important business problems/questions.\n",
        "\n",
        "---------------------\n",
        "## Context\n",
        "--------------------\n",
        "\n",
        "Marketing Analytics broadly refers to the practice of using analytical methods and techniques to understand the effectiveness of various marketing activities and deploy data-driven decisions to optimize for ROI on conversion rates. It typically involves analyzing various metrics around customer engagement with various marketing activities including but not limited to, ATL (above the line) marketing activities, BTL (below the line) campaigns, targeting personalized offers. Typically the variables of interest are customer profile, campaign conversion rates, and costs associated with various marketing channels. These can generate valuable insights that can help an organization form better marketing strategies, optimize/innovate on delivery, and achieve overall growth. \n",
        "\n",
        "---------------------\n",
        "## Problem Statement\n",
        "--------------------\n",
        "Company 'All You Need' has hired you as a Data Scientist and you've been told by the Chief Marketing Officer that recent marketing campaigns have not been as effective as they were expected to be and the conversion rate is very low.\n",
        "Your task is to analyze the related data, understand the problem, and identify key insights and recommendations for the CMO to potentially implement.  \n",
        "\n",
        "The data set marketing_data.csv consists of 2,240 customers of All You Need company with data on:\n",
        "\n",
        "- Campaign successes/failures\n",
        "- Product preferences\n",
        "- Channel performances\n",
        "- Customer profiles based on the spending habits\n",
        "\n",
        "-------------------\n",
        "## Data Dictionary\n",
        "-------------------\n",
        "- ID : Unique ID of each customer\n",
        "- Year_Birth : Age of the customer\n",
        "- Education : Customer's level of education\n",
        "- Marital_Status : Customer's marital status\n",
        "- Kidhome : Number of small children in customer's household\n",
        "- Teenhome : Number of teenagers in customer's household\n",
        "- Income : Customer's yearly household income\n",
        "- Recency : Number of days since the last purchase\n",
        "- MntFishProducts : The amount spent on fish products in the last 2 years\n",
        "- MntMeatProducts : The amount spent on meat products in the last 2 years\n",
        "- MntFruits : The amount spent on fruits products in the last 2 years\n",
        "- MntSweetProducts : Amount spent on sweet products in the last 2 years\n",
        "- MntWines : The amount spent on wine products in the last 2 years\n",
        "- MntGoldProds : The amount spent on gold products in the last 2 years\n",
        "- NumDealsPurchases : Number of purchases made with discount\n",
        "- NumCatalogPurchases : Number of purchases made using catalog (buying goods to be shipped through the mail)\n",
        "- NumStorePurchases : Number of purchases made directly in stores\n",
        "- NumWebPurchases : Number of purchases made through the company's website\n",
        "- NumWebVisitsMonth : Number of visits to company's website in the last month\n",
        "- AcceptedCmp1 : 1 if customer accepted the offer in the first campaign, 0 otherwise \n",
        "- AcceptedCmp2 : 1 if customer accepted the offer in the second campaign, 0 otherwise\n",
        "- AcceptedCmp3 : 1 if customer accepted the offer in the third campaign, 0 otherwise\n",
        "- AcceptedCmp4 : 1 if customer accepted the offer in the fourth campaign, 0 otherwise\n",
        "- AcceptedCmp5 : 1 if customer accepted the offer in the fifth campaign, 0 otherwise\n",
        "- AcceptedCmp6 : 1 if customer accepted the offer in the last campaign, 0 otherwise \n",
        "- Complain : 1 If the customer complained in the last 2 years, 0 otherwise\n",
        "- Country: Country customer belongs to"
      ]
    },
    {
      "cell_type": "markdown",
      "metadata": {
        "id": "PSLSYTABd7GH"
      },
      "source": [
        "## Importing libraries and overview of the dataset"
      ]
    },
    {
      "cell_type": "code",
      "execution_count": null,
      "metadata": {
        "id": "8NkIQTGhxfQA"
      },
      "outputs": [],
      "source": [
        "# Library to supress warnings or deprecation notes \n",
        "import warnings\n",
        "warnings.filterwarnings('ignore')\n",
        "\n",
        "# Libraries to help with reading and manipulating data\n",
        "import numpy as np\n",
        "import pandas as pd\n",
        "\n",
        "# Libraries to help with data visualization\n",
        "import matplotlib.pyplot as plt\n",
        "%matplotlib inline\n",
        "import seaborn as sns"
      ]
    },
    {
      "cell_type": "code",
      "execution_count": null,
      "metadata": {
        "id": "FZbRhT35x49S"
      },
      "outputs": [],
      "source": [
        "# from google.colab import files\n",
        "# uploaded = files.upload()"
      ]
    },
    {
      "cell_type": "markdown",
      "metadata": {
        "id": "EksSr2vUyOj9"
      },
      "source": [
        "### Load the dataset"
      ]
    },
    {
      "cell_type": "code",
      "execution_count": null,
      "metadata": {
        "colab": {
          "base_uri": "https://localhost:8080/",
          "height": 224
        },
        "id": "uYKkC4GBx9rc",
        "outputId": "09495886-d55f-4ff9-ed8e-08f481248270"
      },
      "outputs": [
        {
          "data": {
            "text/html": [
              "<div>\n",
              "<style scoped>\n",
              "    .dataframe tbody tr th:only-of-type {\n",
              "        vertical-align: middle;\n",
              "    }\n",
              "\n",
              "    .dataframe tbody tr th {\n",
              "        vertical-align: top;\n",
              "    }\n",
              "\n",
              "    .dataframe thead th {\n",
              "        text-align: right;\n",
              "    }\n",
              "</style>\n",
              "<table border=\"1\" class=\"dataframe\">\n",
              "  <thead>\n",
              "    <tr style=\"text-align: right;\">\n",
              "      <th></th>\n",
              "      <th>ID</th>\n",
              "      <th>Year_Birth</th>\n",
              "      <th>Education</th>\n",
              "      <th>Marital_Status</th>\n",
              "      <th>Income</th>\n",
              "      <th>Kidhome</th>\n",
              "      <th>Teenhome</th>\n",
              "      <th>Recency</th>\n",
              "      <th>MntWines</th>\n",
              "      <th>MntFruits</th>\n",
              "      <th>...</th>\n",
              "      <th>NumStorePurchases</th>\n",
              "      <th>NumWebVisitsMonth</th>\n",
              "      <th>AcceptedCmp1</th>\n",
              "      <th>AcceptedCmp2</th>\n",
              "      <th>AcceptedCmp3</th>\n",
              "      <th>AcceptedCmp4</th>\n",
              "      <th>AcceptedCmp5</th>\n",
              "      <th>AcceptedCmp6</th>\n",
              "      <th>Complain</th>\n",
              "      <th>Country</th>\n",
              "    </tr>\n",
              "  </thead>\n",
              "  <tbody>\n",
              "    <tr>\n",
              "      <th>0</th>\n",
              "      <td>1826</td>\n",
              "      <td>1970</td>\n",
              "      <td>Graduation</td>\n",
              "      <td>Divorced</td>\n",
              "      <td>84835.0</td>\n",
              "      <td>0</td>\n",
              "      <td>0</td>\n",
              "      <td>0</td>\n",
              "      <td>189</td>\n",
              "      <td>104</td>\n",
              "      <td>...</td>\n",
              "      <td>6</td>\n",
              "      <td>1</td>\n",
              "      <td>0</td>\n",
              "      <td>1</td>\n",
              "      <td>0</td>\n",
              "      <td>0</td>\n",
              "      <td>0</td>\n",
              "      <td>0</td>\n",
              "      <td>0</td>\n",
              "      <td>SP</td>\n",
              "    </tr>\n",
              "    <tr>\n",
              "      <th>1</th>\n",
              "      <td>1</td>\n",
              "      <td>1961</td>\n",
              "      <td>Graduation</td>\n",
              "      <td>Single</td>\n",
              "      <td>57091.0</td>\n",
              "      <td>0</td>\n",
              "      <td>0</td>\n",
              "      <td>0</td>\n",
              "      <td>464</td>\n",
              "      <td>5</td>\n",
              "      <td>...</td>\n",
              "      <td>7</td>\n",
              "      <td>5</td>\n",
              "      <td>0</td>\n",
              "      <td>1</td>\n",
              "      <td>0</td>\n",
              "      <td>0</td>\n",
              "      <td>0</td>\n",
              "      <td>1</td>\n",
              "      <td>0</td>\n",
              "      <td>CA</td>\n",
              "    </tr>\n",
              "    <tr>\n",
              "      <th>2</th>\n",
              "      <td>10476</td>\n",
              "      <td>1958</td>\n",
              "      <td>Graduation</td>\n",
              "      <td>Married</td>\n",
              "      <td>67267.0</td>\n",
              "      <td>0</td>\n",
              "      <td>1</td>\n",
              "      <td>0</td>\n",
              "      <td>134</td>\n",
              "      <td>11</td>\n",
              "      <td>...</td>\n",
              "      <td>5</td>\n",
              "      <td>2</td>\n",
              "      <td>0</td>\n",
              "      <td>0</td>\n",
              "      <td>0</td>\n",
              "      <td>0</td>\n",
              "      <td>0</td>\n",
              "      <td>0</td>\n",
              "      <td>0</td>\n",
              "      <td>US</td>\n",
              "    </tr>\n",
              "    <tr>\n",
              "      <th>3</th>\n",
              "      <td>1386</td>\n",
              "      <td>1967</td>\n",
              "      <td>Graduation</td>\n",
              "      <td>Together</td>\n",
              "      <td>32474.0</td>\n",
              "      <td>1</td>\n",
              "      <td>1</td>\n",
              "      <td>0</td>\n",
              "      <td>10</td>\n",
              "      <td>0</td>\n",
              "      <td>...</td>\n",
              "      <td>2</td>\n",
              "      <td>7</td>\n",
              "      <td>0</td>\n",
              "      <td>0</td>\n",
              "      <td>0</td>\n",
              "      <td>0</td>\n",
              "      <td>0</td>\n",
              "      <td>0</td>\n",
              "      <td>0</td>\n",
              "      <td>AUS</td>\n",
              "    </tr>\n",
              "    <tr>\n",
              "      <th>4</th>\n",
              "      <td>5371</td>\n",
              "      <td>1989</td>\n",
              "      <td>Graduation</td>\n",
              "      <td>Single</td>\n",
              "      <td>21474.0</td>\n",
              "      <td>1</td>\n",
              "      <td>0</td>\n",
              "      <td>0</td>\n",
              "      <td>6</td>\n",
              "      <td>16</td>\n",
              "      <td>...</td>\n",
              "      <td>2</td>\n",
              "      <td>7</td>\n",
              "      <td>1</td>\n",
              "      <td>1</td>\n",
              "      <td>0</td>\n",
              "      <td>0</td>\n",
              "      <td>0</td>\n",
              "      <td>0</td>\n",
              "      <td>0</td>\n",
              "      <td>SP</td>\n",
              "    </tr>\n",
              "  </tbody>\n",
              "</table>\n",
              "<p>5 rows × 27 columns</p>\n",
              "</div>"
            ],
            "text/plain": [
              "      ID  Year_Birth   Education Marital_Status   Income  Kidhome  Teenhome  \\\n",
              "0   1826        1970  Graduation       Divorced  84835.0        0         0   \n",
              "1      1        1961  Graduation         Single  57091.0        0         0   \n",
              "2  10476        1958  Graduation        Married  67267.0        0         1   \n",
              "3   1386        1967  Graduation       Together  32474.0        1         1   \n",
              "4   5371        1989  Graduation         Single  21474.0        1         0   \n",
              "\n",
              "   Recency  MntWines  MntFruits  ...  NumStorePurchases  NumWebVisitsMonth  \\\n",
              "0        0       189        104  ...                  6                  1   \n",
              "1        0       464          5  ...                  7                  5   \n",
              "2        0       134         11  ...                  5                  2   \n",
              "3        0        10          0  ...                  2                  7   \n",
              "4        0         6         16  ...                  2                  7   \n",
              "\n",
              "   AcceptedCmp1  AcceptedCmp2  AcceptedCmp3  AcceptedCmp4  AcceptedCmp5  \\\n",
              "0             0             1             0             0             0   \n",
              "1             0             1             0             0             0   \n",
              "2             0             0             0             0             0   \n",
              "3             0             0             0             0             0   \n",
              "4             1             1             0             0             0   \n",
              "\n",
              "   AcceptedCmp6  Complain  Country  \n",
              "0             0         0       SP  \n",
              "1             1         0       CA  \n",
              "2             0         0       US  \n",
              "3             0         0      AUS  \n",
              "4             0         0       SP  \n",
              "\n",
              "[5 rows x 27 columns]"
            ]
          },
          "execution_count": 3,
          "metadata": {
            "tags": []
          },
          "output_type": "execute_result"
        }
      ],
      "source": [
        "# loading the datset\n",
        "\n",
        "df = pd.read_csv('MarketingData.csv')\n",
        "df.head()"
      ]
    },
    {
      "cell_type": "markdown",
      "metadata": {
        "id": "WQrsjZ8hXFHC"
      },
      "source": [
        "### Check info of the dataset"
      ]
    },
    {
      "cell_type": "code",
      "execution_count": null,
      "metadata": {
        "colab": {
          "base_uri": "https://localhost:8080/"
        },
        "id": "t1ybUVL22XIE",
        "outputId": "a155a051-a903-40f3-c2b9-dacce6c4b8bb",
        "scrolled": false
      },
      "outputs": [
        {
          "name": "stdout",
          "output_type": "stream",
          "text": [
            "<class 'pandas.core.frame.DataFrame'>\n",
            "RangeIndex: 2240 entries, 0 to 2239\n",
            "Data columns (total 27 columns):\n",
            " #   Column               Non-Null Count  Dtype  \n",
            "---  ------               --------------  -----  \n",
            " 0   ID                   2240 non-null   int64  \n",
            " 1   Year_Birth           2240 non-null   int64  \n",
            " 2   Education            2240 non-null   object \n",
            " 3   Marital_Status       2240 non-null   object \n",
            " 4   Income               2216 non-null   float64\n",
            " 5   Kidhome              2240 non-null   int64  \n",
            " 6   Teenhome             2240 non-null   int64  \n",
            " 7   Recency              2240 non-null   int64  \n",
            " 8   MntWines             2240 non-null   int64  \n",
            " 9   MntFruits            2240 non-null   int64  \n",
            " 10  MntMeatProducts      2240 non-null   int64  \n",
            " 11  MntFishProducts      2240 non-null   int64  \n",
            " 12  MntSweetProducts     2240 non-null   int64  \n",
            " 13  MntGoldProds         2240 non-null   int64  \n",
            " 14  NumDealsPurchases    2240 non-null   int64  \n",
            " 15  NumWebPurchases      2240 non-null   int64  \n",
            " 16  NumCatalogPurchases  2240 non-null   int64  \n",
            " 17  NumStorePurchases    2240 non-null   int64  \n",
            " 18  NumWebVisitsMonth    2240 non-null   int64  \n",
            " 19  AcceptedCmp1         2240 non-null   int64  \n",
            " 20  AcceptedCmp2         2240 non-null   int64  \n",
            " 21  AcceptedCmp3         2240 non-null   int64  \n",
            " 22  AcceptedCmp4         2240 non-null   int64  \n",
            " 23  AcceptedCmp5         2240 non-null   int64  \n",
            " 24  AcceptedCmp6         2240 non-null   int64  \n",
            " 25  Complain             2240 non-null   int64  \n",
            " 26  Country              2240 non-null   object \n",
            "dtypes: float64(1), int64(23), object(3)\n",
            "memory usage: 472.6+ KB\n"
          ]
        }
      ],
      "source": [
        "#Checking the info\n",
        "\n",
        "df.info()"
      ]
    },
    {
      "cell_type": "markdown",
      "metadata": {
        "id": "yXwQ2e2AM7gM"
      },
      "source": [
        "**Observations:**\n",
        "- There are a total of 27 columns and 2,240 observations in the dataset\n",
        "- We can see that the Income column has less than 2,240 non-null values i.e. column has missing values. We'll explore this further\n"
      ]
    },
    {
      "cell_type": "markdown",
      "metadata": {
        "id": "4PQGsm8DCXla"
      },
      "source": [
        "### Let's check the percentage of missing values for the Income column."
      ]
    },
    {
      "cell_type": "code",
      "execution_count": null,
      "metadata": {
        "colab": {
          "base_uri": "https://localhost:8080/"
        },
        "id": "4XsFJKUSyKnO",
        "outputId": "ed67057b-1744-4863-96ec-1ba10ba718a1"
      },
      "outputs": [
        {
          "data": {
            "text/plain": [
              "1.0714285714285714"
            ]
          },
          "execution_count": 5,
          "metadata": {
            "tags": []
          },
          "output_type": "execute_result"
        }
      ],
      "source": [
        "# % Null values in the Income column\n",
        "\n",
        "(df.isnull().sum()/df.shape[0]*100)['Income']"
      ]
    },
    {
      "cell_type": "markdown",
      "metadata": {
        "id": "DgXX8iLmhYVh"
      },
      "source": [
        "**Observations:**\n",
        "- Income has ~1.07% missing values."
      ]
    },
    {
      "cell_type": "markdown",
      "metadata": {
        "id": "WN4dKPbqT6Sl"
      },
      "source": [
        "### Let's create a list for numerical columns in the dataset and check the summary statistics "
      ]
    },
    {
      "cell_type": "markdown",
      "metadata": {
        "id": "Lyup1J2MNcOp"
      },
      "source": [
        "### **Question 1: Find the summary statistics for numerical columns and write your observations. (use describe function).** - 4 Marks"
      ]
    },
    {
      "cell_type": "code",
      "execution_count": null,
      "metadata": {
        "id": "6BPgWtdPOx1a"
      },
      "outputs": [],
      "source": [
        "# num_cols contain numerical varibales \n",
        "num_cols=['Year_Birth','Income','Recency', 'MntWines', 'MntFruits',\n",
        "       'MntMeatProducts', 'MntFishProducts', 'MntSweetProducts',\n",
        "       'MntGoldProds', 'NumDealsPurchases', 'NumWebPurchases',\n",
        "       'NumCatalogPurchases', 'NumStorePurchases', 'NumWebVisitsMonth','Kidhome',\n",
        "       'Teenhome']"
      ]
    },
    {
      "cell_type": "code",
      "execution_count": null,
      "metadata": {
        "id": "NaElwwzJOjQB"
      },
      "outputs": [],
      "source": [
        "# printing descriptive statistics of numerical columns\n",
        "\n",
        "#Uncomment the following code and fill in the blanks\n",
        "#df[___]._____.T"
      ]
    },
    {
      "cell_type": "markdown",
      "metadata": {
        "id": "PdiNgC5pQS3A"
      },
      "source": [
        "**Observations:________**"
      ]
    },
    {
      "cell_type": "markdown",
      "metadata": {
        "id": "UNGZN-LRUNoc"
      },
      "source": [
        "### Let's create a list for categorical columns in the dataset and check the count of each category"
      ]
    },
    {
      "cell_type": "code",
      "execution_count": null,
      "metadata": {
        "id": "asp3Dl34Gf-w"
      },
      "outputs": [],
      "source": [
        "#cat_cols contain categorical variables\n",
        "cat_cols=['Education', 'Marital_Status', 'AcceptedCmp3', 'AcceptedCmp4', 'AcceptedCmp5', 'AcceptedCmp1',\n",
        "       'AcceptedCmp2', 'AcceptedCmp6', 'Complain', 'Country']"
      ]
    },
    {
      "cell_type": "code",
      "execution_count": null,
      "metadata": {
        "colab": {
          "base_uri": "https://localhost:8080/"
        },
        "id": "WWHbB61oUXKP",
        "outputId": "f7885b80-57e6-4a48-9f67-9895fa854531"
      },
      "outputs": [
        {
          "name": "stdout",
          "output_type": "stream",
          "text": [
            "Graduation    0.503125\n",
            "PhD           0.216964\n",
            "Master        0.165179\n",
            "2n Cycle      0.090625\n",
            "Basic         0.024107\n",
            "Name: Education, dtype: float64\n",
            "----------------------------------------\n",
            "Married     0.385714\n",
            "Together    0.258929\n",
            "Single      0.214286\n",
            "Divorced    0.103571\n",
            "Widow       0.034375\n",
            "Alone       0.001339\n",
            "Absurd      0.000893\n",
            "YOLO        0.000893\n",
            "Name: Marital_Status, dtype: float64\n",
            "----------------------------------------\n",
            "0    0.927232\n",
            "1    0.072768\n",
            "Name: AcceptedCmp3, dtype: float64\n",
            "----------------------------------------\n",
            "0    0.935714\n",
            "1    0.064286\n",
            "Name: AcceptedCmp4, dtype: float64\n",
            "----------------------------------------\n",
            "0    0.925446\n",
            "1    0.074554\n",
            "Name: AcceptedCmp5, dtype: float64\n",
            "----------------------------------------\n",
            "0    0.927232\n",
            "1    0.072768\n",
            "Name: AcceptedCmp1, dtype: float64\n",
            "----------------------------------------\n",
            "0    0.850893\n",
            "1    0.149107\n",
            "Name: AcceptedCmp2, dtype: float64\n",
            "----------------------------------------\n",
            "0    0.986607\n",
            "1    0.013393\n",
            "Name: AcceptedCmp6, dtype: float64\n",
            "----------------------------------------\n",
            "0    0.990625\n",
            "1    0.009375\n",
            "Name: Complain, dtype: float64\n",
            "----------------------------------------\n",
            "SP     0.488839\n",
            "SA     0.150446\n",
            "CA     0.119643\n",
            "AUS    0.071429\n",
            "IND    0.066071\n",
            "GER    0.053571\n",
            "US     0.048661\n",
            "ME     0.001339\n",
            "Name: Country, dtype: float64\n",
            "----------------------------------------\n"
          ]
        }
      ],
      "source": [
        "# Printing the count of each unique value in each column\n",
        "\n",
        "for column in cat_cols:\n",
        "    print(df[column].value_counts(normalize=True))\n",
        "    print(\"-\" * 40)"
      ]
    },
    {
      "cell_type": "markdown",
      "metadata": {
        "id": "hUJEJGvNVJlU"
      },
      "source": [
        "**Observations:**\n",
        "- In education, 2n cycle and Master means the same thing. We can combine these two categories.\n",
        "- There are many categories in marital status. We can combine the category 'Alone' with 'Single'.\n",
        "- It is not clear from the data that what do the terms 'Absurd', and 'YOLO' actually mean. We can combine these categories to make a new category - 'Others'.\n",
        "- There are only 21 customers who complained in the last two years.\n",
        "- The majority of the customers belong to Spain and least to Mexico.\n",
        "- The most common educational status is Graduation\n",
        "- The most common marital status is Married"
      ]
    },
    {
      "cell_type": "markdown",
      "metadata": {
        "id": "kd8P0lbdWbVj"
      },
      "source": [
        "## Data Preprocessing and Exploratory Data Analysis\n",
        "\n",
        "In this section, we will first prepare our dataset for analysis.\n",
        "- Fixing the categories\n",
        "- Creating new columns as the total amount spent, total purchase made, total kids at home, and total accepted campaigns\n",
        "- Dealing with missing values and outliers\n",
        "- Extract key insights from the data"
      ]
    },
    {
      "cell_type": "markdown",
      "metadata": {
        "id": "TlSQTxHWW520"
      },
      "source": [
        "###Replacing the \"2n Cycle\" category with \"Master\" in Education and \"Alone\" with \"Single\" in Marital_Status and \"Absurd\" and \"YOLO\" categories with \"Others\" in Marital_Status\n",
        "\n"
      ]
    },
    {
      "cell_type": "code",
      "execution_count": null,
      "metadata": {
        "id": "0zJZKjrOWkEA"
      },
      "outputs": [],
      "source": [
        "# Replacing 2n Cycle with Master\n",
        "\n",
        "df[\"Education\"].replace(\"2n Cycle\", \"Master\", inplace=True)"
      ]
    },
    {
      "cell_type": "code",
      "execution_count": null,
      "metadata": {
        "id": "m2mZIkYyWomX"
      },
      "outputs": [],
      "source": [
        "# Replacing Alone with Single\n",
        "\n",
        "df[\"Marital_Status\"].replace([\"Alone\",], \"Single\", inplace=True)"
      ]
    },
    {
      "cell_type": "code",
      "execution_count": null,
      "metadata": {
        "id": "ohlMeIG8wy3A"
      },
      "outputs": [],
      "source": [
        "# Replacing YOLO, Absurd with Others\n",
        "\n",
        "df['Marital_Status'].replace([\"Absurd\", \"YOLO\"], \"Others\", inplace=True)"
      ]
    },
    {
      "cell_type": "markdown",
      "metadata": {
        "id": "QGjvlCaWNcOw"
      },
      "source": [
        "We have fixed the categories in the Marital_Status. Now, let's see the distribution count in different categories for marital status."
      ]
    },
    {
      "cell_type": "code",
      "execution_count": null,
      "metadata": {
        "id": "6gRJBzY2NcOx",
        "outputId": "0ccbb10f-7a14-4238-cb0e-ecf7514ed11c"
      },
      "outputs": [
        {
          "data": {
            "text/plain": [
              "Married     864\n",
              "Together    580\n",
              "Single      483\n",
              "Divorced    232\n",
              "Widow        77\n",
              "Others        4\n",
              "Name: Marital_Status, dtype: int64"
            ]
          },
          "execution_count": 13,
          "metadata": {
            "tags": []
          },
          "output_type": "execute_result"
        }
      ],
      "source": [
        "df.Marital_Status.value_counts()"
      ]
    },
    {
      "cell_type": "markdown",
      "metadata": {
        "id": "RgqRmkklNcOy"
      },
      "source": [
        "**Observation**:\n",
        "\n",
        "- The majority of customer belong to married category and the other category have only 4 observations."
      ]
    },
    {
      "cell_type": "markdown",
      "metadata": {
        "id": "ZVsuehfuGf-7"
      },
      "source": [
        "### Creating new features from the existing features"
      ]
    },
    {
      "cell_type": "code",
      "execution_count": null,
      "metadata": {
        "id": "UoGL7XlIGf-7"
      },
      "outputs": [],
      "source": [
        "# creating new features to get overall picture of a customer, how much he/she has spend, \n",
        "#how many children he/she has, total campaigns accepted, etc.\n",
        "\n",
        "\n",
        "# total spending by a customer\n",
        "spending_col = [col for col in df.columns if 'Mnt' in col]\n",
        "df['Total_Spending'] = df[spending_col].sum(axis = 1) \n",
        "\n",
        "#total purchases made by a customer\n",
        "platform_col = [col for col in df.columns if 'Purchases' in col]\n",
        "df['Total_Purchase'] = df[platform_col].sum(axis = 1) \n",
        "\n",
        "#total no. of childern\n",
        "df['NumberofChildren'] = df['Kidhome'] + df['Teenhome']  \n",
        "\n",
        "# Total no. of campaign accepted by a customer\n",
        "campaigns_cols = [col for col in df.columns if 'Cmp' in col]\n",
        "df['TotalCampaignsAcc'] = df[campaigns_cols].sum(axis=1)"
      ]
    },
    {
      "cell_type": "markdown",
      "metadata": {
        "id": "8bYz0FPnwy3A"
      },
      "source": [
        "### Let's check outliers for new variables - Total_Spending, Total_Purchase. Also, let's analyze the Year_Birth column as we observed above that it had a minimum value of 1893."
      ]
    },
    {
      "cell_type": "code",
      "execution_count": null,
      "metadata": {
        "id": "14kAzv0vwy3B",
        "outputId": "451ec410-6982-483b-cfac-87b74297a409"
      },
      "outputs": [
        {
          "data": {
            "image/png": "[encoded data removed]",
            "text/plain": [
              "<Figure size 432x288 with 1 Axes>"
            ]
          },
          "metadata": {
            "needs_background": "light",
            "tags": []
          },
          "output_type": "display_data"
        },
        {
          "data": {
            "image/png": "[encoded data removed]",
            "text/plain": [
              "<Figure size 432x288 with 1 Axes>"
            ]
          },
          "metadata": {
            "needs_background": "light",
            "tags": []
          },
          "output_type": "display_data"
        },
        {
          "data": {
            "image/png": "[encoded data removed]",
            "text/plain": [
              "<Figure size 432x288 with 1 Axes>"
            ]
          },
          "metadata": {
            "needs_background": "light",
            "tags": []
          },
          "output_type": "display_data"
        }
      ],
      "source": [
        "# Plotting boxplot for Year_Birth, Total_Spending, Total_Purchase\n",
        "\n",
        "cols=['Year_Birth','Total_Spending','Total_Purchase']\n",
        "for i in cols:\n",
        "    sns.boxplot(x=df[i])\n",
        "    plt.show()"
      ]
    },
    {
      "cell_type": "markdown",
      "metadata": {
        "id": "ygkdL5TDwy3B"
      },
      "source": [
        "**Observations:**\n",
        "- The birth year is reported as <=1900 for some users, while the current year is 2021. it's very unlikely that the person is alive. it may be a reporting error.\n",
        "- There are some outliers in total spending and total purchase. \n",
        "- The observations marked as outliers are very closed to the upper whisker and some extreme points can be expected for variables like total spending. We can leave these outliers untreated. "
      ]
    },
    {
      "cell_type": "markdown",
      "metadata": {
        "id": "itCHGYMLwy3B"
      },
      "source": [
        "Let's check the number of observations for which year birth is less than 1900. "
      ]
    },
    {
      "cell_type": "code",
      "execution_count": null,
      "metadata": {
        "id": "a9A6hL6sNcO2",
        "outputId": "e648d372-5a90-4edb-8272-dcfa03f79161"
      },
      "outputs": [
        {
          "data": {
            "text/html": [
              "<div>\n",
              "<style scoped>\n",
              "    .dataframe tbody tr th:only-of-type {\n",
              "        vertical-align: middle;\n",
              "    }\n",
              "\n",
              "    .dataframe tbody tr th {\n",
              "        vertical-align: top;\n",
              "    }\n",
              "\n",
              "    .dataframe thead th {\n",
              "        text-align: right;\n",
              "    }\n",
              "</style>\n",
              "<table border=\"1\" class=\"dataframe\">\n",
              "  <thead>\n",
              "    <tr style=\"text-align: right;\">\n",
              "      <th></th>\n",
              "      <th>ID</th>\n",
              "      <th>Year_Birth</th>\n",
              "      <th>Education</th>\n",
              "      <th>Marital_Status</th>\n",
              "      <th>Income</th>\n",
              "      <th>Kidhome</th>\n",
              "      <th>Teenhome</th>\n",
              "      <th>Recency</th>\n",
              "      <th>MntWines</th>\n",
              "      <th>MntFruits</th>\n",
              "      <th>...</th>\n",
              "      <th>AcceptedCmp3</th>\n",
              "      <th>AcceptedCmp4</th>\n",
              "      <th>AcceptedCmp5</th>\n",
              "      <th>AcceptedCmp6</th>\n",
              "      <th>Complain</th>\n",
              "      <th>Country</th>\n",
              "      <th>Total_Spending</th>\n",
              "      <th>Total_Purchase</th>\n",
              "      <th>NumberofChildren</th>\n",
              "      <th>TotalCampaignsAcc</th>\n",
              "    </tr>\n",
              "  </thead>\n",
              "  <tbody>\n",
              "    <tr>\n",
              "      <th>513</th>\n",
              "      <td>11004</td>\n",
              "      <td>1893</td>\n",
              "      <td>Master</td>\n",
              "      <td>Single</td>\n",
              "      <td>60182.0</td>\n",
              "      <td>0</td>\n",
              "      <td>1</td>\n",
              "      <td>23</td>\n",
              "      <td>8</td>\n",
              "      <td>0</td>\n",
              "      <td>...</td>\n",
              "      <td>0</td>\n",
              "      <td>0</td>\n",
              "      <td>0</td>\n",
              "      <td>0</td>\n",
              "      <td>0</td>\n",
              "      <td>SA</td>\n",
              "      <td>22</td>\n",
              "      <td>4</td>\n",
              "      <td>1</td>\n",
              "      <td>0</td>\n",
              "    </tr>\n",
              "    <tr>\n",
              "      <th>827</th>\n",
              "      <td>1150</td>\n",
              "      <td>1899</td>\n",
              "      <td>PhD</td>\n",
              "      <td>Together</td>\n",
              "      <td>83532.0</td>\n",
              "      <td>0</td>\n",
              "      <td>0</td>\n",
              "      <td>36</td>\n",
              "      <td>755</td>\n",
              "      <td>144</td>\n",
              "      <td>...</td>\n",
              "      <td>1</td>\n",
              "      <td>0</td>\n",
              "      <td>0</td>\n",
              "      <td>0</td>\n",
              "      <td>0</td>\n",
              "      <td>SP</td>\n",
              "      <td>1853</td>\n",
              "      <td>15</td>\n",
              "      <td>0</td>\n",
              "      <td>1</td>\n",
              "    </tr>\n",
              "  </tbody>\n",
              "</table>\n",
              "<p>2 rows × 31 columns</p>\n",
              "</div>"
            ],
            "text/plain": [
              "        ID  Year_Birth Education Marital_Status   Income  Kidhome  Teenhome  \\\n",
              "513  11004        1893    Master         Single  60182.0        0         1   \n",
              "827   1150        1899       PhD       Together  83532.0        0         0   \n",
              "\n",
              "     Recency  MntWines  MntFruits  ...  AcceptedCmp3  AcceptedCmp4  \\\n",
              "513       23         8          0  ...             0             0   \n",
              "827       36       755        144  ...             1             0   \n",
              "\n",
              "     AcceptedCmp5  AcceptedCmp6  Complain  Country  Total_Spending  \\\n",
              "513             0             0         0       SA              22   \n",
              "827             0             0         0       SP            1853   \n",
              "\n",
              "     Total_Purchase  NumberofChildren  TotalCampaignsAcc  \n",
              "513               4                 1                  0  \n",
              "827              15                 0                  1  \n",
              "\n",
              "[2 rows x 31 columns]"
            ]
          },
          "execution_count": 16,
          "metadata": {
            "tags": []
          },
          "output_type": "execute_result"
        }
      ],
      "source": [
        "df[df['Year_Birth'] < 1900]"
      ]
    },
    {
      "cell_type": "markdown",
      "metadata": {
        "id": "QV9NyDMZNcO3"
      },
      "source": [
        "**Observation**:\n",
        "- There are only 2 observations for which birth year is less than 1900. We can drop these observations."
      ]
    },
    {
      "cell_type": "code",
      "execution_count": null,
      "metadata": {
        "id": "EcFOaNYywy3B"
      },
      "outputs": [],
      "source": [
        "#keeping data for customers having birth year >1900\n",
        "\n",
        "df = df[df['Year_Birth'] > 1900]"
      ]
    },
    {
      "cell_type": "markdown",
      "metadata": {
        "id": "Ubg_cHK6XU4C"
      },
      "source": [
        "### Check the outliers and impute the missing values for the Income variable"
      ]
    },
    {
      "cell_type": "code",
      "execution_count": null,
      "metadata": {
        "colab": {
          "base_uri": "https://localhost:8080/",
          "height": 297
        },
        "id": "mC8wPHivYC2j",
        "outputId": "13851ddb-41c0-44b5-808b-765d6cecfcad"
      },
      "outputs": [
        {
          "data": {
            "image/png": "[encoded data removed]",
            "text/plain": [
              "<Figure size 720x288 with 1 Axes>"
            ]
          },
          "metadata": {
            "needs_background": "light",
            "tags": []
          },
          "output_type": "display_data"
        }
      ],
      "source": [
        "#plotting Boxplot for income\n",
        "\n",
        "plt.figure(figsize=(10,4))\n",
        "sns.boxplot(df['Income'])\n",
        "plt.title('Income boxplot', size=16)\n",
        "plt.show()"
      ]
    },
    {
      "cell_type": "markdown",
      "metadata": {
        "id": "vpWozq97YHZ-"
      },
      "source": [
        "**Observations:**\n",
        "\n",
        "- We can see from the boxplot that there are some outliers in the income variable.\n",
        "- Let's find the value at upper whisker to check how many observations are marked as outliers.\n"
      ]
    },
    {
      "cell_type": "code",
      "execution_count": null,
      "metadata": {
        "colab": {
          "base_uri": "https://localhost:8080/"
        },
        "id": "22qkPbcpGf-_",
        "outputId": "e5265b68-f579-4fe7-f240-79052962e94c"
      },
      "outputs": [
        {
          "name": "stdout",
          "output_type": "stream",
          "text": [
            "118348.5\n"
          ]
        }
      ],
      "source": [
        "#Calculating the upper whisker for the Income variable\n",
        "\n",
        "Q1 = df.quantile(q=0.25) #First quartile\n",
        "Q3 = df.quantile(q=0.75) #Third quartile\n",
        "IQR = Q3 - Q1            #Inter Quartile Range\n",
        "\n",
        "upper_whisker = (Q3 + 1.5*IQR)['Income']   #Upper Whisker\n",
        "print(upper_whisker)"
      ]
    },
    {
      "cell_type": "code",
      "execution_count": null,
      "metadata": {
        "colab": {
          "base_uri": "https://localhost:8080/",
          "height": 317
        },
        "id": "VsD-gke4Gf-_",
        "outputId": "79cf6bb2-98a2-476c-9a66-4213535ce0e7"
      },
      "outputs": [
        {
          "data": {
            "text/html": [
              "<div>\n",
              "<style scoped>\n",
              "    .dataframe tbody tr th:only-of-type {\n",
              "        vertical-align: middle;\n",
              "    }\n",
              "\n",
              "    .dataframe tbody tr th {\n",
              "        vertical-align: top;\n",
              "    }\n",
              "\n",
              "    .dataframe thead th {\n",
              "        text-align: right;\n",
              "    }\n",
              "</style>\n",
              "<table border=\"1\" class=\"dataframe\">\n",
              "  <thead>\n",
              "    <tr style=\"text-align: right;\">\n",
              "      <th></th>\n",
              "      <th>ID</th>\n",
              "      <th>Year_Birth</th>\n",
              "      <th>Education</th>\n",
              "      <th>Marital_Status</th>\n",
              "      <th>Income</th>\n",
              "      <th>Kidhome</th>\n",
              "      <th>Teenhome</th>\n",
              "      <th>Recency</th>\n",
              "      <th>MntWines</th>\n",
              "      <th>MntFruits</th>\n",
              "      <th>...</th>\n",
              "      <th>AcceptedCmp3</th>\n",
              "      <th>AcceptedCmp4</th>\n",
              "      <th>AcceptedCmp5</th>\n",
              "      <th>AcceptedCmp6</th>\n",
              "      <th>Complain</th>\n",
              "      <th>Country</th>\n",
              "      <th>Total_Spending</th>\n",
              "      <th>Total_Purchase</th>\n",
              "      <th>NumberofChildren</th>\n",
              "      <th>TotalCampaignsAcc</th>\n",
              "    </tr>\n",
              "  </thead>\n",
              "  <tbody>\n",
              "    <tr>\n",
              "      <th>325</th>\n",
              "      <td>4931</td>\n",
              "      <td>1977</td>\n",
              "      <td>Graduation</td>\n",
              "      <td>Together</td>\n",
              "      <td>157146.0</td>\n",
              "      <td>0</td>\n",
              "      <td>0</td>\n",
              "      <td>13</td>\n",
              "      <td>1</td>\n",
              "      <td>0</td>\n",
              "      <td>...</td>\n",
              "      <td>0</td>\n",
              "      <td>0</td>\n",
              "      <td>0</td>\n",
              "      <td>0</td>\n",
              "      <td>0</td>\n",
              "      <td>SA</td>\n",
              "      <td>1730</td>\n",
              "      <td>28</td>\n",
              "      <td>0</td>\n",
              "      <td>0</td>\n",
              "    </tr>\n",
              "    <tr>\n",
              "      <th>497</th>\n",
              "      <td>1501</td>\n",
              "      <td>1982</td>\n",
              "      <td>PhD</td>\n",
              "      <td>Married</td>\n",
              "      <td>160803.0</td>\n",
              "      <td>0</td>\n",
              "      <td>0</td>\n",
              "      <td>21</td>\n",
              "      <td>55</td>\n",
              "      <td>16</td>\n",
              "      <td>...</td>\n",
              "      <td>0</td>\n",
              "      <td>0</td>\n",
              "      <td>0</td>\n",
              "      <td>0</td>\n",
              "      <td>0</td>\n",
              "      <td>US</td>\n",
              "      <td>1717</td>\n",
              "      <td>44</td>\n",
              "      <td>0</td>\n",
              "      <td>0</td>\n",
              "    </tr>\n",
              "    <tr>\n",
              "      <th>527</th>\n",
              "      <td>9432</td>\n",
              "      <td>1977</td>\n",
              "      <td>Graduation</td>\n",
              "      <td>Together</td>\n",
              "      <td>666666.0</td>\n",
              "      <td>1</td>\n",
              "      <td>0</td>\n",
              "      <td>23</td>\n",
              "      <td>9</td>\n",
              "      <td>14</td>\n",
              "      <td>...</td>\n",
              "      <td>0</td>\n",
              "      <td>0</td>\n",
              "      <td>0</td>\n",
              "      <td>0</td>\n",
              "      <td>0</td>\n",
              "      <td>SA</td>\n",
              "      <td>62</td>\n",
              "      <td>11</td>\n",
              "      <td>1</td>\n",
              "      <td>0</td>\n",
              "    </tr>\n",
              "    <tr>\n",
              "      <th>731</th>\n",
              "      <td>1503</td>\n",
              "      <td>1976</td>\n",
              "      <td>PhD</td>\n",
              "      <td>Together</td>\n",
              "      <td>162397.0</td>\n",
              "      <td>1</td>\n",
              "      <td>1</td>\n",
              "      <td>31</td>\n",
              "      <td>85</td>\n",
              "      <td>1</td>\n",
              "      <td>...</td>\n",
              "      <td>0</td>\n",
              "      <td>0</td>\n",
              "      <td>0</td>\n",
              "      <td>0</td>\n",
              "      <td>0</td>\n",
              "      <td>SP</td>\n",
              "      <td>107</td>\n",
              "      <td>1</td>\n",
              "      <td>2</td>\n",
              "      <td>0</td>\n",
              "    </tr>\n",
              "    <tr>\n",
              "      <th>853</th>\n",
              "      <td>5336</td>\n",
              "      <td>1971</td>\n",
              "      <td>Master</td>\n",
              "      <td>Together</td>\n",
              "      <td>157733.0</td>\n",
              "      <td>1</td>\n",
              "      <td>0</td>\n",
              "      <td>37</td>\n",
              "      <td>39</td>\n",
              "      <td>1</td>\n",
              "      <td>...</td>\n",
              "      <td>0</td>\n",
              "      <td>0</td>\n",
              "      <td>0</td>\n",
              "      <td>0</td>\n",
              "      <td>0</td>\n",
              "      <td>SP</td>\n",
              "      <td>59</td>\n",
              "      <td>2</td>\n",
              "      <td>1</td>\n",
              "      <td>0</td>\n",
              "    </tr>\n",
              "    <tr>\n",
              "      <th>1826</th>\n",
              "      <td>5555</td>\n",
              "      <td>1975</td>\n",
              "      <td>Graduation</td>\n",
              "      <td>Divorced</td>\n",
              "      <td>153924.0</td>\n",
              "      <td>0</td>\n",
              "      <td>0</td>\n",
              "      <td>81</td>\n",
              "      <td>1</td>\n",
              "      <td>1</td>\n",
              "      <td>...</td>\n",
              "      <td>0</td>\n",
              "      <td>0</td>\n",
              "      <td>0</td>\n",
              "      <td>0</td>\n",
              "      <td>0</td>\n",
              "      <td>SP</td>\n",
              "      <td>6</td>\n",
              "      <td>0</td>\n",
              "      <td>0</td>\n",
              "      <td>0</td>\n",
              "    </tr>\n",
              "    <tr>\n",
              "      <th>1925</th>\n",
              "      <td>11181</td>\n",
              "      <td>1949</td>\n",
              "      <td>PhD</td>\n",
              "      <td>Married</td>\n",
              "      <td>156924.0</td>\n",
              "      <td>0</td>\n",
              "      <td>0</td>\n",
              "      <td>85</td>\n",
              "      <td>2</td>\n",
              "      <td>1</td>\n",
              "      <td>...</td>\n",
              "      <td>0</td>\n",
              "      <td>0</td>\n",
              "      <td>0</td>\n",
              "      <td>0</td>\n",
              "      <td>0</td>\n",
              "      <td>CA</td>\n",
              "      <td>8</td>\n",
              "      <td>0</td>\n",
              "      <td>0</td>\n",
              "      <td>0</td>\n",
              "    </tr>\n",
              "    <tr>\n",
              "      <th>2204</th>\n",
              "      <td>8475</td>\n",
              "      <td>1973</td>\n",
              "      <td>PhD</td>\n",
              "      <td>Married</td>\n",
              "      <td>157243.0</td>\n",
              "      <td>0</td>\n",
              "      <td>1</td>\n",
              "      <td>98</td>\n",
              "      <td>20</td>\n",
              "      <td>2</td>\n",
              "      <td>...</td>\n",
              "      <td>0</td>\n",
              "      <td>0</td>\n",
              "      <td>0</td>\n",
              "      <td>0</td>\n",
              "      <td>0</td>\n",
              "      <td>IND</td>\n",
              "      <td>1608</td>\n",
              "      <td>37</td>\n",
              "      <td>1</td>\n",
              "      <td>0</td>\n",
              "    </tr>\n",
              "  </tbody>\n",
              "</table>\n",
              "<p>8 rows × 31 columns</p>\n",
              "</div>"
            ],
            "text/plain": [
              "         ID  Year_Birth   Education Marital_Status    Income  Kidhome  \\\n",
              "325    4931        1977  Graduation       Together  157146.0        0   \n",
              "497    1501        1982         PhD        Married  160803.0        0   \n",
              "527    9432        1977  Graduation       Together  666666.0        1   \n",
              "731    1503        1976         PhD       Together  162397.0        1   \n",
              "853    5336        1971      Master       Together  157733.0        1   \n",
              "1826   5555        1975  Graduation       Divorced  153924.0        0   \n",
              "1925  11181        1949         PhD        Married  156924.0        0   \n",
              "2204   8475        1973         PhD        Married  157243.0        0   \n",
              "\n",
              "      Teenhome  Recency  MntWines  MntFruits  ...  AcceptedCmp3  AcceptedCmp4  \\\n",
              "325          0       13         1          0  ...             0             0   \n",
              "497          0       21        55         16  ...             0             0   \n",
              "527          0       23         9         14  ...             0             0   \n",
              "731          1       31        85          1  ...             0             0   \n",
              "853          0       37        39          1  ...             0             0   \n",
              "1826         0       81         1          1  ...             0             0   \n",
              "1925         0       85         2          1  ...             0             0   \n",
              "2204         1       98        20          2  ...             0             0   \n",
              "\n",
              "      AcceptedCmp5  AcceptedCmp6  Complain  Country  Total_Spending  \\\n",
              "325              0             0         0       SA            1730   \n",
              "497              0             0         0       US            1717   \n",
              "527              0             0         0       SA              62   \n",
              "731              0             0         0       SP             107   \n",
              "853              0             0         0       SP              59   \n",
              "1826             0             0         0       SP               6   \n",
              "1925             0             0         0       CA               8   \n",
              "2204             0             0         0      IND            1608   \n",
              "\n",
              "      Total_Purchase  NumberofChildren  TotalCampaignsAcc  \n",
              "325               28                 0                  0  \n",
              "497               44                 0                  0  \n",
              "527               11                 1                  0  \n",
              "731                1                 2                  0  \n",
              "853                2                 1                  0  \n",
              "1826               0                 0                  0  \n",
              "1925               0                 0                  0  \n",
              "2204              37                 1                  0  \n",
              "\n",
              "[8 rows x 31 columns]"
            ]
          },
          "execution_count": 20,
          "metadata": {
            "tags": []
          },
          "output_type": "execute_result"
        }
      ],
      "source": [
        "#Checking the observations marked as outliers\n",
        "df[df.Income>upper_whisker]"
      ]
    },
    {
      "cell_type": "markdown",
      "metadata": {
        "id": "421t-8UFaWe5"
      },
      "source": [
        "**Observations**:\n",
        "\n",
        "- We have only 8 observations with an income greater than the upper whisker. \n",
        "- Only 3 observations (ID- 4931, 1501, 8475) out of 8 outliers have purchased more than 11 times in the last 2 years.\n",
        "- Other 5 observations have very less amount of total spending."
      ]
    },
    {
      "cell_type": "markdown",
      "metadata": {
        "id": "bMh5ZjjJwy3D"
      },
      "source": [
        "**Let's compare the summary statistics for these observations with observations on the other side of the upper whisker.**"
      ]
    },
    {
      "cell_type": "code",
      "execution_count": null,
      "metadata": {
        "colab": {
          "base_uri": "https://localhost:8080/",
          "height": 917
        },
        "id": "v-v9BmtnGf_B",
        "outputId": "510d5ca0-6ce8-4674-c80d-c7bb1e958a3f"
      },
      "outputs": [
        {
          "data": {
            "text/html": [
              "<div>\n",
              "<style scoped>\n",
              "    .dataframe tbody tr th:only-of-type {\n",
              "        vertical-align: middle;\n",
              "    }\n",
              "\n",
              "    .dataframe tbody tr th {\n",
              "        vertical-align: top;\n",
              "    }\n",
              "\n",
              "    .dataframe thead th {\n",
              "        text-align: right;\n",
              "    }\n",
              "</style>\n",
              "<table border=\"1\" class=\"dataframe\">\n",
              "  <thead>\n",
              "    <tr style=\"text-align: right;\">\n",
              "      <th></th>\n",
              "      <th>count</th>\n",
              "      <th>mean</th>\n",
              "      <th>std</th>\n",
              "      <th>min</th>\n",
              "      <th>25%</th>\n",
              "      <th>50%</th>\n",
              "      <th>75%</th>\n",
              "      <th>max</th>\n",
              "    </tr>\n",
              "  </thead>\n",
              "  <tbody>\n",
              "    <tr>\n",
              "      <th>ID</th>\n",
              "      <td>8.0</td>\n",
              "      <td>5989.250</td>\n",
              "      <td>3525.251308</td>\n",
              "      <td>1501.0</td>\n",
              "      <td>4074.00</td>\n",
              "      <td>5445.5</td>\n",
              "      <td>8714.25</td>\n",
              "      <td>11181.0</td>\n",
              "    </tr>\n",
              "    <tr>\n",
              "      <th>Year_Birth</th>\n",
              "      <td>8.0</td>\n",
              "      <td>1972.500</td>\n",
              "      <td>10.028531</td>\n",
              "      <td>1949.0</td>\n",
              "      <td>1972.50</td>\n",
              "      <td>1975.5</td>\n",
              "      <td>1977.00</td>\n",
              "      <td>1982.0</td>\n",
              "    </tr>\n",
              "    <tr>\n",
              "      <th>Income</th>\n",
              "      <td>8.0</td>\n",
              "      <td>221604.500</td>\n",
              "      <td>179850.404431</td>\n",
              "      <td>153924.0</td>\n",
              "      <td>157090.50</td>\n",
              "      <td>157488.0</td>\n",
              "      <td>161201.50</td>\n",
              "      <td>666666.0</td>\n",
              "    </tr>\n",
              "    <tr>\n",
              "      <th>Kidhome</th>\n",
              "      <td>8.0</td>\n",
              "      <td>0.375</td>\n",
              "      <td>0.517549</td>\n",
              "      <td>0.0</td>\n",
              "      <td>0.00</td>\n",
              "      <td>0.0</td>\n",
              "      <td>1.00</td>\n",
              "      <td>1.0</td>\n",
              "    </tr>\n",
              "    <tr>\n",
              "      <th>Teenhome</th>\n",
              "      <td>8.0</td>\n",
              "      <td>0.250</td>\n",
              "      <td>0.462910</td>\n",
              "      <td>0.0</td>\n",
              "      <td>0.00</td>\n",
              "      <td>0.0</td>\n",
              "      <td>0.25</td>\n",
              "      <td>1.0</td>\n",
              "    </tr>\n",
              "    <tr>\n",
              "      <th>Recency</th>\n",
              "      <td>8.0</td>\n",
              "      <td>48.625</td>\n",
              "      <td>33.687376</td>\n",
              "      <td>13.0</td>\n",
              "      <td>22.50</td>\n",
              "      <td>34.0</td>\n",
              "      <td>82.00</td>\n",
              "      <td>98.0</td>\n",
              "    </tr>\n",
              "    <tr>\n",
              "      <th>MntWines</th>\n",
              "      <td>8.0</td>\n",
              "      <td>26.500</td>\n",
              "      <td>30.798887</td>\n",
              "      <td>1.0</td>\n",
              "      <td>1.75</td>\n",
              "      <td>14.5</td>\n",
              "      <td>43.00</td>\n",
              "      <td>85.0</td>\n",
              "    </tr>\n",
              "    <tr>\n",
              "      <th>MntFruits</th>\n",
              "      <td>8.0</td>\n",
              "      <td>4.500</td>\n",
              "      <td>6.524678</td>\n",
              "      <td>0.0</td>\n",
              "      <td>1.00</td>\n",
              "      <td>1.0</td>\n",
              "      <td>5.00</td>\n",
              "      <td>16.0</td>\n",
              "    </tr>\n",
              "    <tr>\n",
              "      <th>MntMeatProducts</th>\n",
              "      <td>8.0</td>\n",
              "      <td>621.875</td>\n",
              "      <td>846.511402</td>\n",
              "      <td>1.0</td>\n",
              "      <td>7.25</td>\n",
              "      <td>17.0</td>\n",
              "      <td>1592.00</td>\n",
              "      <td>1725.0</td>\n",
              "    </tr>\n",
              "    <tr>\n",
              "      <th>MntFishProducts</th>\n",
              "      <td>8.0</td>\n",
              "      <td>4.250</td>\n",
              "      <td>5.650537</td>\n",
              "      <td>1.0</td>\n",
              "      <td>1.00</td>\n",
              "      <td>2.0</td>\n",
              "      <td>3.50</td>\n",
              "      <td>17.0</td>\n",
              "    </tr>\n",
              "    <tr>\n",
              "      <th>MntSweetProducts</th>\n",
              "      <td>8.0</td>\n",
              "      <td>1.250</td>\n",
              "      <td>0.886405</td>\n",
              "      <td>0.0</td>\n",
              "      <td>1.00</td>\n",
              "      <td>1.0</td>\n",
              "      <td>1.25</td>\n",
              "      <td>3.0</td>\n",
              "    </tr>\n",
              "    <tr>\n",
              "      <th>MntGoldProds</th>\n",
              "      <td>8.0</td>\n",
              "      <td>3.750</td>\n",
              "      <td>4.131759</td>\n",
              "      <td>1.0</td>\n",
              "      <td>1.00</td>\n",
              "      <td>1.5</td>\n",
              "      <td>5.00</td>\n",
              "      <td>12.0</td>\n",
              "    </tr>\n",
              "    <tr>\n",
              "      <th>NumDealsPurchases</th>\n",
              "      <td>8.0</td>\n",
              "      <td>4.250</td>\n",
              "      <td>6.777062</td>\n",
              "      <td>0.0</td>\n",
              "      <td>0.00</td>\n",
              "      <td>0.0</td>\n",
              "      <td>6.75</td>\n",
              "      <td>15.0</td>\n",
              "    </tr>\n",
              "    <tr>\n",
              "      <th>NumWebPurchases</th>\n",
              "      <td>8.0</td>\n",
              "      <td>0.500</td>\n",
              "      <td>1.069045</td>\n",
              "      <td>0.0</td>\n",
              "      <td>0.00</td>\n",
              "      <td>0.0</td>\n",
              "      <td>0.25</td>\n",
              "      <td>3.0</td>\n",
              "    </tr>\n",
              "    <tr>\n",
              "      <th>NumCatalogPurchases</th>\n",
              "      <td>8.0</td>\n",
              "      <td>9.875</td>\n",
              "      <td>13.484780</td>\n",
              "      <td>0.0</td>\n",
              "      <td>0.00</td>\n",
              "      <td>0.5</td>\n",
              "      <td>23.50</td>\n",
              "      <td>28.0</td>\n",
              "    </tr>\n",
              "    <tr>\n",
              "      <th>NumStorePurchases</th>\n",
              "      <td>8.0</td>\n",
              "      <td>0.750</td>\n",
              "      <td>1.035098</td>\n",
              "      <td>0.0</td>\n",
              "      <td>0.00</td>\n",
              "      <td>0.5</td>\n",
              "      <td>1.00</td>\n",
              "      <td>3.0</td>\n",
              "    </tr>\n",
              "    <tr>\n",
              "      <th>NumWebVisitsMonth</th>\n",
              "      <td>8.0</td>\n",
              "      <td>1.125</td>\n",
              "      <td>2.031010</td>\n",
              "      <td>0.0</td>\n",
              "      <td>0.00</td>\n",
              "      <td>0.5</td>\n",
              "      <td>1.00</td>\n",
              "      <td>6.0</td>\n",
              "    </tr>\n",
              "    <tr>\n",
              "      <th>AcceptedCmp1</th>\n",
              "      <td>8.0</td>\n",
              "      <td>0.000</td>\n",
              "      <td>0.000000</td>\n",
              "      <td>0.0</td>\n",
              "      <td>0.00</td>\n",
              "      <td>0.0</td>\n",
              "      <td>0.00</td>\n",
              "      <td>0.0</td>\n",
              "    </tr>\n",
              "    <tr>\n",
              "      <th>AcceptedCmp2</th>\n",
              "      <td>8.0</td>\n",
              "      <td>0.000</td>\n",
              "      <td>0.000000</td>\n",
              "      <td>0.0</td>\n",
              "      <td>0.00</td>\n",
              "      <td>0.0</td>\n",
              "      <td>0.00</td>\n",
              "      <td>0.0</td>\n",
              "    </tr>\n",
              "    <tr>\n",
              "      <th>AcceptedCmp3</th>\n",
              "      <td>8.0</td>\n",
              "      <td>0.000</td>\n",
              "      <td>0.000000</td>\n",
              "      <td>0.0</td>\n",
              "      <td>0.00</td>\n",
              "      <td>0.0</td>\n",
              "      <td>0.00</td>\n",
              "      <td>0.0</td>\n",
              "    </tr>\n",
              "    <tr>\n",
              "      <th>AcceptedCmp4</th>\n",
              "      <td>8.0</td>\n",
              "      <td>0.000</td>\n",
              "      <td>0.000000</td>\n",
              "      <td>0.0</td>\n",
              "      <td>0.00</td>\n",
              "      <td>0.0</td>\n",
              "      <td>0.00</td>\n",
              "      <td>0.0</td>\n",
              "    </tr>\n",
              "    <tr>\n",
              "      <th>AcceptedCmp5</th>\n",
              "      <td>8.0</td>\n",
              "      <td>0.000</td>\n",
              "      <td>0.000000</td>\n",
              "      <td>0.0</td>\n",
              "      <td>0.00</td>\n",
              "      <td>0.0</td>\n",
              "      <td>0.00</td>\n",
              "      <td>0.0</td>\n",
              "    </tr>\n",
              "    <tr>\n",
              "      <th>AcceptedCmp6</th>\n",
              "      <td>8.0</td>\n",
              "      <td>0.000</td>\n",
              "      <td>0.000000</td>\n",
              "      <td>0.0</td>\n",
              "      <td>0.00</td>\n",
              "      <td>0.0</td>\n",
              "      <td>0.00</td>\n",
              "      <td>0.0</td>\n",
              "    </tr>\n",
              "    <tr>\n",
              "      <th>Complain</th>\n",
              "      <td>8.0</td>\n",
              "      <td>0.000</td>\n",
              "      <td>0.000000</td>\n",
              "      <td>0.0</td>\n",
              "      <td>0.00</td>\n",
              "      <td>0.0</td>\n",
              "      <td>0.00</td>\n",
              "      <td>0.0</td>\n",
              "    </tr>\n",
              "    <tr>\n",
              "      <th>Total_Spending</th>\n",
              "      <td>8.0</td>\n",
              "      <td>662.125</td>\n",
              "      <td>848.380884</td>\n",
              "      <td>6.0</td>\n",
              "      <td>46.25</td>\n",
              "      <td>84.5</td>\n",
              "      <td>1635.25</td>\n",
              "      <td>1730.0</td>\n",
              "    </tr>\n",
              "    <tr>\n",
              "      <th>Total_Purchase</th>\n",
              "      <td>8.0</td>\n",
              "      <td>15.375</td>\n",
              "      <td>18.220377</td>\n",
              "      <td>0.0</td>\n",
              "      <td>0.75</td>\n",
              "      <td>6.5</td>\n",
              "      <td>30.25</td>\n",
              "      <td>44.0</td>\n",
              "    </tr>\n",
              "    <tr>\n",
              "      <th>NumberofChildren</th>\n",
              "      <td>8.0</td>\n",
              "      <td>0.625</td>\n",
              "      <td>0.744024</td>\n",
              "      <td>0.0</td>\n",
              "      <td>0.00</td>\n",
              "      <td>0.5</td>\n",
              "      <td>1.00</td>\n",
              "      <td>2.0</td>\n",
              "    </tr>\n",
              "    <tr>\n",
              "      <th>TotalCampaignsAcc</th>\n",
              "      <td>8.0</td>\n",
              "      <td>0.000</td>\n",
              "      <td>0.000000</td>\n",
              "      <td>0.0</td>\n",
              "      <td>0.00</td>\n",
              "      <td>0.0</td>\n",
              "      <td>0.00</td>\n",
              "      <td>0.0</td>\n",
              "    </tr>\n",
              "  </tbody>\n",
              "</table>\n",
              "</div>"
            ],
            "text/plain": [
              "                     count        mean            std       min        25%  \\\n",
              "ID                     8.0    5989.250    3525.251308    1501.0    4074.00   \n",
              "Year_Birth             8.0    1972.500      10.028531    1949.0    1972.50   \n",
              "Income                 8.0  221604.500  179850.404431  153924.0  157090.50   \n",
              "Kidhome                8.0       0.375       0.517549       0.0       0.00   \n",
              "Teenhome               8.0       0.250       0.462910       0.0       0.00   \n",
              "Recency                8.0      48.625      33.687376      13.0      22.50   \n",
              "MntWines               8.0      26.500      30.798887       1.0       1.75   \n",
              "MntFruits              8.0       4.500       6.524678       0.0       1.00   \n",
              "MntMeatProducts        8.0     621.875     846.511402       1.0       7.25   \n",
              "MntFishProducts        8.0       4.250       5.650537       1.0       1.00   \n",
              "MntSweetProducts       8.0       1.250       0.886405       0.0       1.00   \n",
              "MntGoldProds           8.0       3.750       4.131759       1.0       1.00   \n",
              "NumDealsPurchases      8.0       4.250       6.777062       0.0       0.00   \n",
              "NumWebPurchases        8.0       0.500       1.069045       0.0       0.00   \n",
              "NumCatalogPurchases    8.0       9.875      13.484780       0.0       0.00   \n",
              "NumStorePurchases      8.0       0.750       1.035098       0.0       0.00   \n",
              "NumWebVisitsMonth      8.0       1.125       2.031010       0.0       0.00   \n",
              "AcceptedCmp1           8.0       0.000       0.000000       0.0       0.00   \n",
              "AcceptedCmp2           8.0       0.000       0.000000       0.0       0.00   \n",
              "AcceptedCmp3           8.0       0.000       0.000000       0.0       0.00   \n",
              "AcceptedCmp4           8.0       0.000       0.000000       0.0       0.00   \n",
              "AcceptedCmp5           8.0       0.000       0.000000       0.0       0.00   \n",
              "AcceptedCmp6           8.0       0.000       0.000000       0.0       0.00   \n",
              "Complain               8.0       0.000       0.000000       0.0       0.00   \n",
              "Total_Spending         8.0     662.125     848.380884       6.0      46.25   \n",
              "Total_Purchase         8.0      15.375      18.220377       0.0       0.75   \n",
              "NumberofChildren       8.0       0.625       0.744024       0.0       0.00   \n",
              "TotalCampaignsAcc      8.0       0.000       0.000000       0.0       0.00   \n",
              "\n",
              "                          50%        75%       max  \n",
              "ID                     5445.5    8714.25   11181.0  \n",
              "Year_Birth             1975.5    1977.00    1982.0  \n",
              "Income               157488.0  161201.50  666666.0  \n",
              "Kidhome                   0.0       1.00       1.0  \n",
              "Teenhome                  0.0       0.25       1.0  \n",
              "Recency                  34.0      82.00      98.0  \n",
              "MntWines                 14.5      43.00      85.0  \n",
              "MntFruits                 1.0       5.00      16.0  \n",
              "MntMeatProducts          17.0    1592.00    1725.0  \n",
              "MntFishProducts           2.0       3.50      17.0  \n",
              "MntSweetProducts          1.0       1.25       3.0  \n",
              "MntGoldProds              1.5       5.00      12.0  \n",
              "NumDealsPurchases         0.0       6.75      15.0  \n",
              "NumWebPurchases           0.0       0.25       3.0  \n",
              "NumCatalogPurchases       0.5      23.50      28.0  \n",
              "NumStorePurchases         0.5       1.00       3.0  \n",
              "NumWebVisitsMonth         0.5       1.00       6.0  \n",
              "AcceptedCmp1              0.0       0.00       0.0  \n",
              "AcceptedCmp2              0.0       0.00       0.0  \n",
              "AcceptedCmp3              0.0       0.00       0.0  \n",
              "AcceptedCmp4              0.0       0.00       0.0  \n",
              "AcceptedCmp5              0.0       0.00       0.0  \n",
              "AcceptedCmp6              0.0       0.00       0.0  \n",
              "Complain                  0.0       0.00       0.0  \n",
              "Total_Spending           84.5    1635.25    1730.0  \n",
              "Total_Purchase            6.5      30.25      44.0  \n",
              "NumberofChildren          0.5       1.00       2.0  \n",
              "TotalCampaignsAcc         0.0       0.00       0.0  "
            ]
          },
          "execution_count": 21,
          "metadata": {
            "tags": []
          },
          "output_type": "execute_result"
        }
      ],
      "source": [
        "#Checking the summary statistics for observations marked as outliers\n",
        "df[df.Income>upper_whisker].describe().T"
      ]
    },
    {
      "cell_type": "code",
      "execution_count": null,
      "metadata": {
        "id": "azRuCO-ywy3D",
        "outputId": "e5883b63-12ea-437c-d462-dc25bc6453d2"
      },
      "outputs": [
        {
          "data": {
            "text/html": [
              "<div>\n",
              "<style scoped>\n",
              "    .dataframe tbody tr th:only-of-type {\n",
              "        vertical-align: middle;\n",
              "    }\n",
              "\n",
              "    .dataframe tbody tr th {\n",
              "        vertical-align: top;\n",
              "    }\n",
              "\n",
              "    .dataframe thead th {\n",
              "        text-align: right;\n",
              "    }\n",
              "</style>\n",
              "<table border=\"1\" class=\"dataframe\">\n",
              "  <thead>\n",
              "    <tr style=\"text-align: right;\">\n",
              "      <th></th>\n",
              "      <th>count</th>\n",
              "      <th>mean</th>\n",
              "      <th>std</th>\n",
              "      <th>min</th>\n",
              "      <th>25%</th>\n",
              "      <th>50%</th>\n",
              "      <th>75%</th>\n",
              "      <th>max</th>\n",
              "    </tr>\n",
              "  </thead>\n",
              "  <tbody>\n",
              "    <tr>\n",
              "      <th>ID</th>\n",
              "      <td>2205.0</td>\n",
              "      <td>5585.439456</td>\n",
              "      <td>3247.546423</td>\n",
              "      <td>0.0</td>\n",
              "      <td>2815.0</td>\n",
              "      <td>5455.0</td>\n",
              "      <td>8418.0</td>\n",
              "      <td>11191.0</td>\n",
              "    </tr>\n",
              "    <tr>\n",
              "      <th>Year_Birth</th>\n",
              "      <td>2205.0</td>\n",
              "      <td>1968.904308</td>\n",
              "      <td>11.705801</td>\n",
              "      <td>1940.0</td>\n",
              "      <td>1959.0</td>\n",
              "      <td>1970.0</td>\n",
              "      <td>1977.0</td>\n",
              "      <td>1996.0</td>\n",
              "    </tr>\n",
              "    <tr>\n",
              "      <th>Income</th>\n",
              "      <td>2205.0</td>\n",
              "      <td>51622.094785</td>\n",
              "      <td>20713.063826</td>\n",
              "      <td>1730.0</td>\n",
              "      <td>35196.0</td>\n",
              "      <td>51287.0</td>\n",
              "      <td>68281.0</td>\n",
              "      <td>113734.0</td>\n",
              "    </tr>\n",
              "    <tr>\n",
              "      <th>Kidhome</th>\n",
              "      <td>2205.0</td>\n",
              "      <td>0.442177</td>\n",
              "      <td>0.537132</td>\n",
              "      <td>0.0</td>\n",
              "      <td>0.0</td>\n",
              "      <td>0.0</td>\n",
              "      <td>1.0</td>\n",
              "      <td>2.0</td>\n",
              "    </tr>\n",
              "    <tr>\n",
              "      <th>Teenhome</th>\n",
              "      <td>2205.0</td>\n",
              "      <td>0.506576</td>\n",
              "      <td>0.544380</td>\n",
              "      <td>0.0</td>\n",
              "      <td>0.0</td>\n",
              "      <td>0.0</td>\n",
              "      <td>1.0</td>\n",
              "      <td>2.0</td>\n",
              "    </tr>\n",
              "    <tr>\n",
              "      <th>Recency</th>\n",
              "      <td>2205.0</td>\n",
              "      <td>49.009070</td>\n",
              "      <td>28.932111</td>\n",
              "      <td>0.0</td>\n",
              "      <td>24.0</td>\n",
              "      <td>49.0</td>\n",
              "      <td>74.0</td>\n",
              "      <td>99.0</td>\n",
              "    </tr>\n",
              "    <tr>\n",
              "      <th>MntWines</th>\n",
              "      <td>2205.0</td>\n",
              "      <td>306.164626</td>\n",
              "      <td>337.493839</td>\n",
              "      <td>0.0</td>\n",
              "      <td>24.0</td>\n",
              "      <td>178.0</td>\n",
              "      <td>507.0</td>\n",
              "      <td>1493.0</td>\n",
              "    </tr>\n",
              "    <tr>\n",
              "      <th>MntFruits</th>\n",
              "      <td>2205.0</td>\n",
              "      <td>26.403175</td>\n",
              "      <td>39.784484</td>\n",
              "      <td>0.0</td>\n",
              "      <td>2.0</td>\n",
              "      <td>8.0</td>\n",
              "      <td>33.0</td>\n",
              "      <td>199.0</td>\n",
              "    </tr>\n",
              "    <tr>\n",
              "      <th>MntMeatProducts</th>\n",
              "      <td>2205.0</td>\n",
              "      <td>165.312018</td>\n",
              "      <td>217.784507</td>\n",
              "      <td>0.0</td>\n",
              "      <td>16.0</td>\n",
              "      <td>68.0</td>\n",
              "      <td>232.0</td>\n",
              "      <td>1725.0</td>\n",
              "    </tr>\n",
              "    <tr>\n",
              "      <th>MntFishProducts</th>\n",
              "      <td>2205.0</td>\n",
              "      <td>37.756463</td>\n",
              "      <td>54.824635</td>\n",
              "      <td>0.0</td>\n",
              "      <td>3.0</td>\n",
              "      <td>12.0</td>\n",
              "      <td>50.0</td>\n",
              "      <td>259.0</td>\n",
              "    </tr>\n",
              "    <tr>\n",
              "      <th>MntSweetProducts</th>\n",
              "      <td>2205.0</td>\n",
              "      <td>27.128345</td>\n",
              "      <td>41.130468</td>\n",
              "      <td>0.0</td>\n",
              "      <td>1.0</td>\n",
              "      <td>8.0</td>\n",
              "      <td>34.0</td>\n",
              "      <td>262.0</td>\n",
              "    </tr>\n",
              "    <tr>\n",
              "      <th>MntGoldProds</th>\n",
              "      <td>2205.0</td>\n",
              "      <td>44.057143</td>\n",
              "      <td>51.736211</td>\n",
              "      <td>0.0</td>\n",
              "      <td>9.0</td>\n",
              "      <td>25.0</td>\n",
              "      <td>56.0</td>\n",
              "      <td>321.0</td>\n",
              "    </tr>\n",
              "    <tr>\n",
              "      <th>NumDealsPurchases</th>\n",
              "      <td>2205.0</td>\n",
              "      <td>2.318367</td>\n",
              "      <td>1.886107</td>\n",
              "      <td>0.0</td>\n",
              "      <td>1.0</td>\n",
              "      <td>2.0</td>\n",
              "      <td>3.0</td>\n",
              "      <td>15.0</td>\n",
              "    </tr>\n",
              "    <tr>\n",
              "      <th>NumWebPurchases</th>\n",
              "      <td>2205.0</td>\n",
              "      <td>4.100680</td>\n",
              "      <td>2.737424</td>\n",
              "      <td>0.0</td>\n",
              "      <td>2.0</td>\n",
              "      <td>4.0</td>\n",
              "      <td>6.0</td>\n",
              "      <td>27.0</td>\n",
              "    </tr>\n",
              "    <tr>\n",
              "      <th>NumCatalogPurchases</th>\n",
              "      <td>2205.0</td>\n",
              "      <td>2.645351</td>\n",
              "      <td>2.798647</td>\n",
              "      <td>0.0</td>\n",
              "      <td>0.0</td>\n",
              "      <td>2.0</td>\n",
              "      <td>4.0</td>\n",
              "      <td>28.0</td>\n",
              "    </tr>\n",
              "    <tr>\n",
              "      <th>NumStorePurchases</th>\n",
              "      <td>2205.0</td>\n",
              "      <td>5.823583</td>\n",
              "      <td>3.241796</td>\n",
              "      <td>0.0</td>\n",
              "      <td>3.0</td>\n",
              "      <td>5.0</td>\n",
              "      <td>8.0</td>\n",
              "      <td>13.0</td>\n",
              "    </tr>\n",
              "    <tr>\n",
              "      <th>NumWebVisitsMonth</th>\n",
              "      <td>2205.0</td>\n",
              "      <td>5.336961</td>\n",
              "      <td>2.413535</td>\n",
              "      <td>0.0</td>\n",
              "      <td>3.0</td>\n",
              "      <td>6.0</td>\n",
              "      <td>7.0</td>\n",
              "      <td>20.0</td>\n",
              "    </tr>\n",
              "    <tr>\n",
              "      <th>AcceptedCmp1</th>\n",
              "      <td>2205.0</td>\n",
              "      <td>0.073923</td>\n",
              "      <td>0.261705</td>\n",
              "      <td>0.0</td>\n",
              "      <td>0.0</td>\n",
              "      <td>0.0</td>\n",
              "      <td>0.0</td>\n",
              "      <td>1.0</td>\n",
              "    </tr>\n",
              "    <tr>\n",
              "      <th>AcceptedCmp2</th>\n",
              "      <td>2205.0</td>\n",
              "      <td>0.151020</td>\n",
              "      <td>0.358150</td>\n",
              "      <td>0.0</td>\n",
              "      <td>0.0</td>\n",
              "      <td>0.0</td>\n",
              "      <td>0.0</td>\n",
              "      <td>1.0</td>\n",
              "    </tr>\n",
              "    <tr>\n",
              "      <th>AcceptedCmp3</th>\n",
              "      <td>2205.0</td>\n",
              "      <td>0.073016</td>\n",
              "      <td>0.260222</td>\n",
              "      <td>0.0</td>\n",
              "      <td>0.0</td>\n",
              "      <td>0.0</td>\n",
              "      <td>0.0</td>\n",
              "      <td>1.0</td>\n",
              "    </tr>\n",
              "    <tr>\n",
              "      <th>AcceptedCmp4</th>\n",
              "      <td>2205.0</td>\n",
              "      <td>0.064399</td>\n",
              "      <td>0.245518</td>\n",
              "      <td>0.0</td>\n",
              "      <td>0.0</td>\n",
              "      <td>0.0</td>\n",
              "      <td>0.0</td>\n",
              "      <td>1.0</td>\n",
              "    </tr>\n",
              "    <tr>\n",
              "      <th>AcceptedCmp5</th>\n",
              "      <td>2205.0</td>\n",
              "      <td>0.074376</td>\n",
              "      <td>0.262442</td>\n",
              "      <td>0.0</td>\n",
              "      <td>0.0</td>\n",
              "      <td>0.0</td>\n",
              "      <td>0.0</td>\n",
              "      <td>1.0</td>\n",
              "    </tr>\n",
              "    <tr>\n",
              "      <th>AcceptedCmp6</th>\n",
              "      <td>2205.0</td>\n",
              "      <td>0.013605</td>\n",
              "      <td>0.115872</td>\n",
              "      <td>0.0</td>\n",
              "      <td>0.0</td>\n",
              "      <td>0.0</td>\n",
              "      <td>0.0</td>\n",
              "      <td>1.0</td>\n",
              "    </tr>\n",
              "    <tr>\n",
              "      <th>Complain</th>\n",
              "      <td>2205.0</td>\n",
              "      <td>0.009070</td>\n",
              "      <td>0.094827</td>\n",
              "      <td>0.0</td>\n",
              "      <td>0.0</td>\n",
              "      <td>0.0</td>\n",
              "      <td>0.0</td>\n",
              "      <td>1.0</td>\n",
              "    </tr>\n",
              "    <tr>\n",
              "      <th>Total_Spending</th>\n",
              "      <td>2205.0</td>\n",
              "      <td>606.821769</td>\n",
              "      <td>601.675284</td>\n",
              "      <td>5.0</td>\n",
              "      <td>69.0</td>\n",
              "      <td>397.0</td>\n",
              "      <td>1047.0</td>\n",
              "      <td>2525.0</td>\n",
              "    </tr>\n",
              "    <tr>\n",
              "      <th>Total_Purchase</th>\n",
              "      <td>2205.0</td>\n",
              "      <td>14.887982</td>\n",
              "      <td>7.615277</td>\n",
              "      <td>0.0</td>\n",
              "      <td>8.0</td>\n",
              "      <td>15.0</td>\n",
              "      <td>21.0</td>\n",
              "      <td>43.0</td>\n",
              "    </tr>\n",
              "    <tr>\n",
              "      <th>NumberofChildren</th>\n",
              "      <td>2205.0</td>\n",
              "      <td>0.948753</td>\n",
              "      <td>0.749231</td>\n",
              "      <td>0.0</td>\n",
              "      <td>0.0</td>\n",
              "      <td>1.0</td>\n",
              "      <td>1.0</td>\n",
              "      <td>3.0</td>\n",
              "    </tr>\n",
              "    <tr>\n",
              "      <th>TotalCampaignsAcc</th>\n",
              "      <td>2205.0</td>\n",
              "      <td>0.450340</td>\n",
              "      <td>0.894075</td>\n",
              "      <td>0.0</td>\n",
              "      <td>0.0</td>\n",
              "      <td>0.0</td>\n",
              "      <td>1.0</td>\n",
              "      <td>5.0</td>\n",
              "    </tr>\n",
              "  </tbody>\n",
              "</table>\n",
              "</div>"
            ],
            "text/plain": [
              "                      count          mean           std     min      25%  \\\n",
              "ID                   2205.0   5585.439456   3247.546423     0.0   2815.0   \n",
              "Year_Birth           2205.0   1968.904308     11.705801  1940.0   1959.0   \n",
              "Income               2205.0  51622.094785  20713.063826  1730.0  35196.0   \n",
              "Kidhome              2205.0      0.442177      0.537132     0.0      0.0   \n",
              "Teenhome             2205.0      0.506576      0.544380     0.0      0.0   \n",
              "Recency              2205.0     49.009070     28.932111     0.0     24.0   \n",
              "MntWines             2205.0    306.164626    337.493839     0.0     24.0   \n",
              "MntFruits            2205.0     26.403175     39.784484     0.0      2.0   \n",
              "MntMeatProducts      2205.0    165.312018    217.784507     0.0     16.0   \n",
              "MntFishProducts      2205.0     37.756463     54.824635     0.0      3.0   \n",
              "MntSweetProducts     2205.0     27.128345     41.130468     0.0      1.0   \n",
              "MntGoldProds         2205.0     44.057143     51.736211     0.0      9.0   \n",
              "NumDealsPurchases    2205.0      2.318367      1.886107     0.0      1.0   \n",
              "NumWebPurchases      2205.0      4.100680      2.737424     0.0      2.0   \n",
              "NumCatalogPurchases  2205.0      2.645351      2.798647     0.0      0.0   \n",
              "NumStorePurchases    2205.0      5.823583      3.241796     0.0      3.0   \n",
              "NumWebVisitsMonth    2205.0      5.336961      2.413535     0.0      3.0   \n",
              "AcceptedCmp1         2205.0      0.073923      0.261705     0.0      0.0   \n",
              "AcceptedCmp2         2205.0      0.151020      0.358150     0.0      0.0   \n",
              "AcceptedCmp3         2205.0      0.073016      0.260222     0.0      0.0   \n",
              "AcceptedCmp4         2205.0      0.064399      0.245518     0.0      0.0   \n",
              "AcceptedCmp5         2205.0      0.074376      0.262442     0.0      0.0   \n",
              "AcceptedCmp6         2205.0      0.013605      0.115872     0.0      0.0   \n",
              "Complain             2205.0      0.009070      0.094827     0.0      0.0   \n",
              "Total_Spending       2205.0    606.821769    601.675284     5.0     69.0   \n",
              "Total_Purchase       2205.0     14.887982      7.615277     0.0      8.0   \n",
              "NumberofChildren     2205.0      0.948753      0.749231     0.0      0.0   \n",
              "TotalCampaignsAcc    2205.0      0.450340      0.894075     0.0      0.0   \n",
              "\n",
              "                         50%      75%       max  \n",
              "ID                    5455.0   8418.0   11191.0  \n",
              "Year_Birth            1970.0   1977.0    1996.0  \n",
              "Income               51287.0  68281.0  113734.0  \n",
              "Kidhome                  0.0      1.0       2.0  \n",
              "Teenhome                 0.0      1.0       2.0  \n",
              "Recency                 49.0     74.0      99.0  \n",
              "MntWines               178.0    507.0    1493.0  \n",
              "MntFruits                8.0     33.0     199.0  \n",
              "MntMeatProducts         68.0    232.0    1725.0  \n",
              "MntFishProducts         12.0     50.0     259.0  \n",
              "MntSweetProducts         8.0     34.0     262.0  \n",
              "MntGoldProds            25.0     56.0     321.0  \n",
              "NumDealsPurchases        2.0      3.0      15.0  \n",
              "NumWebPurchases          4.0      6.0      27.0  \n",
              "NumCatalogPurchases      2.0      4.0      28.0  \n",
              "NumStorePurchases        5.0      8.0      13.0  \n",
              "NumWebVisitsMonth        6.0      7.0      20.0  \n",
              "AcceptedCmp1             0.0      0.0       1.0  \n",
              "AcceptedCmp2             0.0      0.0       1.0  \n",
              "AcceptedCmp3             0.0      0.0       1.0  \n",
              "AcceptedCmp4             0.0      0.0       1.0  \n",
              "AcceptedCmp5             0.0      0.0       1.0  \n",
              "AcceptedCmp6             0.0      0.0       1.0  \n",
              "Complain                 0.0      0.0       1.0  \n",
              "Total_Spending         397.0   1047.0    2525.0  \n",
              "Total_Purchase          15.0     21.0      43.0  \n",
              "NumberofChildren         1.0      1.0       3.0  \n",
              "TotalCampaignsAcc        0.0      1.0       5.0  "
            ]
          },
          "execution_count": 22,
          "metadata": {
            "tags": []
          },
          "output_type": "execute_result"
        }
      ],
      "source": [
        "#Checking the summary statistics for observations not marked as outliers\n",
        "df[df.Income<upper_whisker].describe().T"
      ]
    },
    {
      "cell_type": "markdown",
      "metadata": {
        "id": "dAI83JVYGf_B"
      },
      "source": [
        "**Observations**:\n",
        "\n",
        "- None of the outliers have accepted any of the campaigns or have submitted any complaints in the last 2 years.\n",
        "- We can see that customers who are outliers have lower mean expenditure per customer for all the products except meat products.\n",
        "- The outliers have a higher number of catalog purchases on average and very low number of web purchases.\n",
        "- We can drop the 5 observations at indices [527, 731, 853, 1826, 1925] as they would not add value to our analysis."
      ]
    },
    {
      "cell_type": "code",
      "execution_count": null,
      "metadata": {
        "id": "cSgAgVe2Gf_D"
      },
      "outputs": [],
      "source": [
        "#Dropping 5 observations at indices 527, 731, 853, 1826, 1925\n",
        "df.drop(index=[527, 731, 853, 1826, 1925], inplace=True)"
      ]
    },
    {
      "cell_type": "markdown",
      "metadata": {
        "id": "eyvgj9AYArjU"
      },
      "source": [
        "### Check the distribution for Income"
      ]
    },
    {
      "cell_type": "code",
      "execution_count": null,
      "metadata": {
        "colab": {
          "base_uri": "https://localhost:8080/",
          "height": 387
        },
        "id": "oHA8kHJN5qq4",
        "outputId": "836a12f8-6fe6-416a-fd58-6e1bad10aef8"
      },
      "outputs": [
        {
          "data": {
            "image/png": "[encoded data removed]",
            "text/plain": [
              "<Figure size 720x360 with 1 Axes>"
            ]
          },
          "metadata": {
            "needs_background": "light",
            "tags": []
          },
          "output_type": "display_data"
        }
      ],
      "source": [
        "#plotting displot for income\n",
        "\n",
        "sns.displot(df['Income'], kde=True, height=5, aspect=2)\n",
        "plt.title('Income distribution', size=16, )\n",
        "plt.ylabel('count');"
      ]
    },
    {
      "cell_type": "markdown",
      "metadata": {
        "id": "4Qx5pfvB6H7O"
      },
      "source": [
        "**Observations:**\n",
        "\n",
        "- After treating outliers, the distribution for the income variable is close to normal distribution with very few extreme observations to the right.\n",
        "- We will replace the missing values for the income variable with the median, and not mean, as the variable is slightly skewed to the right"
      ]
    },
    {
      "cell_type": "code",
      "execution_count": null,
      "metadata": {
        "id": "d4kaKTVt2Axu"
      },
      "outputs": [],
      "source": [
        "#filling null values with median\n",
        "\n",
        "df['Income'].fillna(df.Income.median(), inplace=True)"
      ]
    },
    {
      "cell_type": "markdown",
      "metadata": {
        "id": "OYOZMxwfGf_M"
      },
      "source": [
        "### Analyzing all the campaigns"
      ]
    },
    {
      "cell_type": "markdown",
      "metadata": {
        "id": "V_c6xPvrNcPB"
      },
      "source": [
        "### **Question 2: Write your observations on acceptance rate for each campaign given in the below plot.** - 4 Marks"
      ]
    },
    {
      "cell_type": "markdown",
      "metadata": {
        "id": "sL5n9EyfGf_M"
      },
      "source": [
        "#### Let's find out what is the acceptance rate for each campaign?"
      ]
    },
    {
      "cell_type": "code",
      "execution_count": null,
      "metadata": {
        "colab": {
          "base_uri": "https://localhost:8080/",
          "height": 440
        },
        "id": "FhRj9XdiGf_M",
        "outputId": "deae5ca3-5386-4fef-d52b-e034b5bbb390"
      },
      "outputs": [
        {
          "data": {
            "image/png": "[encoded data removed]",
            "text/plain": [
              "<Figure size 432x432 with 1 Axes>"
            ]
          },
          "metadata": {
            "needs_background": "light",
            "tags": []
          },
          "output_type": "display_data"
        }
      ],
      "source": [
        "# PLotting the % acceptance for every campaign\n",
        "\n",
        "Camp_cols=['AcceptedCmp1', 'AcceptedCmp2', 'AcceptedCmp3', 'AcceptedCmp4', 'AcceptedCmp5', 'AcceptedCmp6']\n",
        "\n",
        "success_campaign=(df[Camp_cols].sum()/df.shape[0])*100\n",
        "\n",
        "# plot\n",
        "success_campaign.plot(kind='bar', figsize=(6,6))\n",
        "plt.ylabel(\"Perentage\")\n",
        "plt.show()"
      ]
    },
    {
      "cell_type": "markdown",
      "metadata": {
        "id": "xPtPMZlAGf_N"
      },
      "source": [
        "**Observations:_______**"
      ]
    },
    {
      "cell_type": "markdown",
      "metadata": {
        "id": "tHF1QAmgGf_N"
      },
      "source": [
        "### Let's analyze what kind of customer are accepting campaigns?"
      ]
    },
    {
      "cell_type": "code",
      "execution_count": null,
      "metadata": {
        "colab": {
          "base_uri": "https://localhost:8080/",
          "height": 497
        },
        "id": "T1xzVWd-Gf_O",
        "outputId": "b520bd4e-d21c-4fe4-e757-d05eea640e52"
      },
      "outputs": [
        {
          "data": {
            "image/png": "[encoded data removed]",
            "text/plain": [
              "<Figure size 576x576 with 1 Axes>"
            ]
          },
          "metadata": {
            "needs_background": "light",
            "tags": []
          },
          "output_type": "display_data"
        }
      ],
      "source": [
        "plt.figure(figsize=(8,8))\n",
        "sns.swarmplot(x='TotalCampaignsAcc', y='Income', data=df)\n",
        "plt.show()"
      ]
    },
    {
      "cell_type": "markdown",
      "metadata": {
        "id": "1sFSyKU0Gf_O"
      },
      "source": [
        "**Observations:**\n",
        "- Higher the income higher the number of campaigns accepted."
      ]
    },
    {
      "cell_type": "code",
      "execution_count": null,
      "metadata": {
        "colab": {
          "base_uri": "https://localhost:8080/"
        },
        "id": "qCK2A0K7Gf_P",
        "outputId": "5500dc8e-18df-4d4c-c0bb-cac9925a82bd"
      },
      "outputs": [
        {
          "data": {
            "text/plain": [
              "51762.59811827957"
            ]
          },
          "execution_count": 28,
          "metadata": {
            "tags": []
          },
          "output_type": "execute_result"
        }
      ],
      "source": [
        "# Let's see the mean income of customers\n",
        "df.Income.mean()"
      ]
    },
    {
      "cell_type": "markdown",
      "metadata": {
        "id": "j4tsFdTmNcPK"
      },
      "source": [
        "### **Question 3: Write your observations on acceptance rate for each campaign according to the income level.** - 7 Marks"
      ]
    },
    {
      "cell_type": "markdown",
      "metadata": {
        "id": "4OAka1VUGf_Q"
      },
      "source": [
        "The mean income of customers is close to 52K. Let's divide the income into 2 segments of income>52k and income<52k and see the acceptance rate in each segment."
      ]
    },
    {
      "cell_type": "code",
      "execution_count": null,
      "metadata": {
        "id": "DFdWocIpNcPL",
        "outputId": "d839860b-9f61-4c64-ffad-58f21e4a1093"
      },
      "outputs": [
        {
          "data": {
            "image/png": "[encoded data removed]",
            "text/plain": [
              "<Figure size 576x576 with 1 Axes>"
            ]
          },
          "metadata": {
            "needs_background": "light",
            "tags": []
          },
          "output_type": "display_data"
        }
      ],
      "source": [
        "# making dataframes of customers having income <52k and >52K\n",
        "df1=df[df.Income<52000]\n",
        "df2=df[df.Income>52000]\n",
        "\n",
        "Camp_cols=['AcceptedCmp1', 'AcceptedCmp2', 'AcceptedCmp3', 'AcceptedCmp4', 'AcceptedCmp5', 'AcceptedCmp6']\n",
        "\n",
        "#Calculating success rate of each campaign for both segments \n",
        "success_campaign1=pd.DataFrame((df1[Camp_cols].sum()/df1.shape[0])*100, columns=['Income <52K'])\n",
        "\n",
        "success_campaign2=pd.DataFrame((df2[Camp_cols].sum()/df2.shape[0])*100, columns=['Income >52K'])\n",
        "\n",
        "new_df=pd.concat([success_campaign1, success_campaign2], axis=1)\n",
        "\n",
        "# plot\n",
        "plt.figure(figsize=(8,8))\n",
        "sns.lineplot(data=new_df)\n",
        "plt.title(\"Percentage Acceptance of each campaign\")\n",
        "plt.ylabel(\"Percentage Acceptance of a campaign\")\n",
        "plt.show()"
      ]
    },
    {
      "cell_type": "markdown",
      "metadata": {
        "id": "IlPBoCpxGf_R"
      },
      "source": [
        "**Observations:__________**"
      ]
    },
    {
      "cell_type": "markdown",
      "metadata": {
        "id": "TcYsT7BqGf_S"
      },
      "source": [
        "Let's find out who has accepted the last campaign and what could be the reason?"
      ]
    },
    {
      "cell_type": "code",
      "execution_count": null,
      "metadata": {
        "colab": {
          "base_uri": "https://localhost:8080/"
        },
        "id": "jdud0TUNGf_S",
        "outputId": "21031757-0f4a-48a2-f448-48f46b31071b"
      },
      "outputs": [
        {
          "data": {
            "text/plain": [
              "(30, 31)"
            ]
          },
          "execution_count": 31,
          "metadata": {
            "tags": []
          },
          "output_type": "execute_result"
        }
      ],
      "source": [
        "df[df['AcceptedCmp6']==1].shape"
      ]
    },
    {
      "cell_type": "markdown",
      "metadata": {
        "id": "wHD7GwFWGf_U"
      },
      "source": [
        "- There are only 30 customers who have accepted the last campaign.\n",
        "- Let's check if these customers are new or they have accepted previous campaigns as well."
      ]
    },
    {
      "cell_type": "code",
      "execution_count": null,
      "metadata": {
        "colab": {
          "base_uri": "https://localhost:8080/"
        },
        "id": "WSQVMikgGf_W",
        "outputId": "ab72b652-7e0b-47a7-e819-ff242f0dd277"
      },
      "outputs": [
        {
          "data": {
            "text/plain": [
              "AcceptedCmp6\n",
              "0    0.404632\n",
              "1    3.633333\n",
              "Name: TotalCampaignsAcc, dtype: float64"
            ]
          },
          "execution_count": 32,
          "metadata": {
            "tags": []
          },
          "output_type": "execute_result"
        }
      ],
      "source": [
        "grouped2=df.groupby('AcceptedCmp6').mean()['TotalCampaignsAcc']\n",
        "grouped2"
      ]
    },
    {
      "cell_type": "markdown",
      "metadata": {
        "id": "IX5OCX_dGf_d"
      },
      "source": [
        "**Observations:**\n",
        "- We know that the maximum number of campaigns any customer has accepted is 5.\n",
        "- We can observe that the value for TotalCampaignsAcc is ~3.6 for customers who have accepted the last campaign.\n",
        "- This implies that these 30 customers are those loyal customers who have been accepting most of the campaigns."
      ]
    },
    {
      "cell_type": "markdown",
      "metadata": {
        "id": "JeuF8vf8_yOU"
      },
      "source": [
        "### It could be that different campaigns are focussed on different set of products. Let's check if the product preference for those who accepted the campaigns is different from those who didn't - using amount spent and number of purchases"
      ]
    },
    {
      "cell_type": "markdown",
      "metadata": {
        "id": "RGqZVmBA_yOU"
      },
      "source": [
        "Let's define a function which will take the column name for the product as input and will generate the barplot for every campaign and average amount spent on a product"
      ]
    },
    {
      "cell_type": "code",
      "execution_count": null,
      "metadata": {
        "id": "kEnjxhJR_yOV"
      },
      "outputs": [],
      "source": [
        "def amount_per_campaign(columns_name):\n",
        "    p1=pd.DataFrame(df.groupby(['AcceptedCmp1']).mean()[columns_name]).T\n",
        "    p2=pd.DataFrame(df.groupby(['AcceptedCmp2']).mean()[columns_name]).T\n",
        "    p3=pd.DataFrame(df.groupby(['AcceptedCmp3']).mean()[columns_name]).T\n",
        "    p4=pd.DataFrame(df.groupby(['AcceptedCmp4']).mean()[columns_name]).T\n",
        "    p5=pd.DataFrame(df.groupby(['AcceptedCmp5']).mean()[columns_name]).T\n",
        "    p6=pd.DataFrame(df.groupby(['AcceptedCmp6']).mean()[columns_name]).T\n",
        "    pd.concat([p1,p2,p3,p4,p5,p6],axis=0).set_index([Camp_cols]).plot(kind='line', figsize=(8,8))\n",
        "    plt.ylabel('Average amount spend on' + ' ' + columns_name)\n",
        "    plt.show()"
      ]
    },
    {
      "cell_type": "markdown",
      "metadata": {
        "id": "QGcfZqzeFQFq"
      },
      "source": [
        "#### Use the function defined above to generate barplots for different purchasing Products"
      ]
    },
    {
      "cell_type": "code",
      "execution_count": null,
      "metadata": {
        "colab": {
          "base_uri": "https://localhost:8080/",
          "height": 331
        },
        "id": "0R8YBg7X_yOV",
        "outputId": "853d5a9b-c32a-4171-af65-d214cef1da78"
      },
      "outputs": [
        {
          "data": {
            "image/png": "[encoded data removed]",
            "text/plain": [
              "<Figure size 576x576 with 1 Axes>"
            ]
          },
          "metadata": {
            "needs_background": "light",
            "tags": []
          },
          "output_type": "display_data"
        }
      ],
      "source": [
        "#here is an example showing how to use this function on the column MntWines\n",
        "amount_per_campaign('MntWines')"
      ]
    },
    {
      "cell_type": "markdown",
      "metadata": {
        "id": "9tSYxVGC_yOV"
      },
      "source": [
        "**Observations:**\n",
        "- For the customers accepting campaign 3, 4, 5, and 6 the average amount spent on wine is quite high."
      ]
    },
    {
      "cell_type": "markdown",
      "metadata": {
        "id": "WK2doU9QNcPR"
      },
      "source": [
        "### **Question 4: Write the code and your observations on average amount spent on different products across all campaigns.** - 7 Marks"
      ]
    },
    {
      "cell_type": "code",
      "execution_count": null,
      "metadata": {
        "id": "dW3ryYGY_yOW"
      },
      "outputs": [],
      "source": [
        "#meat products\n",
        "\n",
        "#call the function amount_per_campaign for MntMeatProducts\n"
      ]
    },
    {
      "cell_type": "code",
      "execution_count": null,
      "metadata": {
        "id": "7g0XOgdC_yOW"
      },
      "outputs": [],
      "source": [
        "# Fruit products\n",
        "\n",
        "#call the function amount_per_campaign for MntFruits"
      ]
    },
    {
      "cell_type": "code",
      "execution_count": null,
      "metadata": {
        "id": "TVCQf6AD_yOX"
      },
      "outputs": [],
      "source": [
        "# gold products\n",
        "\n",
        "#call the function amount_per_campaign for MntGoldProds"
      ]
    },
    {
      "cell_type": "code",
      "execution_count": null,
      "metadata": {
        "id": "YbJLZozJ_yOX"
      },
      "outputs": [],
      "source": [
        "#sweet products\n",
        "\n",
        "#call the function amount_per_campaign for MntSweetProducts"
      ]
    },
    {
      "cell_type": "markdown",
      "metadata": {
        "id": "dGfE-yPd_yOY"
      },
      "source": [
        "**Observations:__________**"
      ]
    },
    {
      "cell_type": "markdown",
      "metadata": {
        "id": "qtYU4SmA_yOY"
      },
      "source": [
        "### We have analyzed the relationship between campaigns and different products. Now, let's see the relationship of campaigns with different purchasing channels."
      ]
    },
    {
      "cell_type": "markdown",
      "metadata": {
        "id": "7l8vplaV_yOY"
      },
      "source": [
        "We have a defined a function which will take the column name of the channel name as input and will generate the barplot for every campaign and average purchase made through that channel if the campaign is accepted"
      ]
    },
    {
      "cell_type": "code",
      "execution_count": null,
      "metadata": {
        "id": "67Eo-CQ0_yOY"
      },
      "outputs": [],
      "source": [
        "def Purchases_per_campaign(columns_name):\n",
        "    dp1=pd.DataFrame(df.groupby(['AcceptedCmp1']).mean()[columns_name]).T\n",
        "    dp2=pd.DataFrame(df.groupby(['AcceptedCmp2']).mean()[columns_name]).T\n",
        "    dp3=pd.DataFrame(df.groupby(['AcceptedCmp3']).mean()[columns_name]).T\n",
        "    dp4=pd.DataFrame(df.groupby(['AcceptedCmp4']).mean()[columns_name]).T\n",
        "    dp5=pd.DataFrame(df.groupby(['AcceptedCmp5']).mean()[columns_name]).T\n",
        "    dp6=pd.DataFrame(df.groupby(['AcceptedCmp6']).mean()[columns_name]).T\n",
        "    pd.concat([dp1,dp2,dp3,dp4,dp5,dp6],axis=0).set_index([Camp_cols]).plot(kind='line', figsize=(8,8))\n",
        "    plt.ylabel('Average' + ' ' + columns_name)\n",
        "    plt.show()"
      ]
    },
    {
      "cell_type": "code",
      "execution_count": null,
      "metadata": {
        "colab": {
          "base_uri": "https://localhost:8080/",
          "height": 331
        },
        "id": "Yodn4QQF_yOZ",
        "outputId": "9fe71853-c053-4cfe-d542-9c9b85acf44d"
      },
      "outputs": [
        {
          "data": {
            "image/png": "[encoded data removed]",
            "text/plain": [
              "<Figure size 576x576 with 1 Axes>"
            ]
          },
          "metadata": {
            "needs_background": "light",
            "tags": []
          },
          "output_type": "display_data"
        }
      ],
      "source": [
        "#here is an example showing how to use this function on the column NumDealsPurchases\n",
        "Purchases_per_campaign('NumDealsPurchases')"
      ]
    },
    {
      "cell_type": "markdown",
      "metadata": {
        "id": "NhYaBYiT_yOZ"
      },
      "source": [
        "**Observations:**\n",
        "- For the customers accepting campaign 3, 4, and 6 the average deals purchase is quite low."
      ]
    },
    {
      "cell_type": "markdown",
      "metadata": {
        "id": "Q01Rs2vPNcPX"
      },
      "source": [
        "### **Question 5: Write the code and your observations on average number of purchases from different channels across all campaigns.** - 7 Marks"
      ]
    },
    {
      "cell_type": "code",
      "execution_count": null,
      "metadata": {
        "id": "uqPXLik8_yOZ"
      },
      "outputs": [],
      "source": [
        "# store purchase\n",
        "\n",
        "#call the function Purchases_per_campaign for NumStorePurchases"
      ]
    },
    {
      "cell_type": "code",
      "execution_count": null,
      "metadata": {
        "id": "5mXjKKA8_yOa"
      },
      "outputs": [],
      "source": [
        "#Catalog purchase\n",
        "\n",
        "#call the function Purchases_per_campaign for NumCatalogPurchases"
      ]
    },
    {
      "cell_type": "code",
      "execution_count": null,
      "metadata": {
        "id": "_MoWxEhb_yOb"
      },
      "outputs": [],
      "source": [
        "#Web purchases\n",
        "\n",
        "#call the function Purchases_per_campaign for NumWebPurchases"
      ]
    },
    {
      "cell_type": "markdown",
      "metadata": {
        "id": "CMGO-sJb_yOc"
      },
      "source": [
        "**Observations:_______**"
      ]
    },
    {
      "cell_type": "code",
      "execution_count": null,
      "metadata": {
        "colab": {
          "base_uri": "https://localhost:8080/",
          "height": 331
        },
        "id": "QdaVaBxD_yOc",
        "outputId": "2d500c07-bced-4277-86d1-5f61cec3db87"
      },
      "outputs": [
        {
          "data": {
            "image/png": "[encoded data removed]",
            "text/plain": [
              "<Figure size 576x576 with 1 Axes>"
            ]
          },
          "metadata": {
            "needs_background": "light",
            "tags": []
          },
          "output_type": "display_data"
        }
      ],
      "source": [
        "#Recency\n",
        "\n",
        "Purchases_per_campaign('Recency')"
      ]
    },
    {
      "cell_type": "markdown",
      "metadata": {
        "id": "jvO8t5P9_yOd"
      },
      "source": [
        "**Observations:**\n",
        "- Average recency of the customers who accepted campaign 2 is quite low which implies that campaign 2 was accepted by the customers who recently purchased an item. "
      ]
    },
    {
      "cell_type": "markdown",
      "metadata": {
        "id": "ghgSD7B9_yOg"
      },
      "source": [
        "#### We have analyzed the relationship between campaigns and numerical variables. Let's see the relationship of campaigns with different categorical variables"
      ]
    },
    {
      "cell_type": "markdown",
      "metadata": {
        "id": "DU5NuB9f_yOh"
      },
      "source": [
        "We will check the percentage acceptance of each campaign with respect to each category in the categorical variable. The percentage acceptance is calculated as number of customers who have accepted the campaign to the total number of customers."
      ]
    },
    {
      "cell_type": "code",
      "execution_count": null,
      "metadata": {
        "id": "ialfEeEI_yOi"
      },
      "outputs": [],
      "source": [
        "def Cat_Campaign_Relation(df, column_name):\n",
        "    e1=(df.groupby([column_name]).sum()['AcceptedCmp1']/df.groupby([column_name]).count()['AcceptedCmp1'])\n",
        "    e2=(df.groupby([column_name]).sum()['AcceptedCmp2']/df.groupby([column_name]).count()['AcceptedCmp2'])\n",
        "    e3=(df.groupby([column_name]).sum()['AcceptedCmp3']/df.groupby([column_name]).count()['AcceptedCmp3'])\n",
        "    e4=(df.groupby([column_name]).sum()['AcceptedCmp4']/df.groupby([column_name]).count()['AcceptedCmp4'])\n",
        "    e5=(df.groupby([column_name]).sum()['AcceptedCmp5']/df.groupby([column_name]).count()['AcceptedCmp5'])\n",
        "    e6=(df.groupby([column_name]).sum()['AcceptedCmp6']/df.groupby([column_name]).count()['AcceptedCmp6'])\n",
        "    df_new=pd.concat([e1,e2,e3,e4,e5,e6],axis=1).T\n",
        "    plt.figure(figsize=(8,8))\n",
        "    sns.lineplot(data=df_new, markers=True, linewidth=2)\n",
        "    plt.ylabel('Percentage Acceptance')\n",
        "    plt.show()"
      ]
    },
    {
      "cell_type": "code",
      "execution_count": null,
      "metadata": {
        "colab": {
          "base_uri": "https://localhost:8080/",
          "height": 434
        },
        "id": "90GY2y2X_yOi",
        "outputId": "8edc02e8-64e8-4527-af8f-309b42d03136"
      },
      "outputs": [
        {
          "data": {
            "image/png": "[encoded data removed]",
            "text/plain": [
              "<Figure size 576x576 with 1 Axes>"
            ]
          },
          "metadata": {
            "needs_background": "light",
            "tags": []
          },
          "output_type": "display_data"
        }
      ],
      "source": [
        "#here is an example showing how to use this function on the column Education\n",
        "Cat_Campaign_Relation(df, 'Education')"
      ]
    },
    {
      "cell_type": "markdown",
      "metadata": {
        "id": "Zmp0_yvg_yOi"
      },
      "source": [
        "**Observations:**\n",
        "\n",
        "- More than 20% of the customers with Ph.D have accepted campaign 2.\n",
        "- Customers with basic education have only accepted campaign 1 and 2.\n",
        "- Except customers with basic education level, all education levels follow the same trend."
      ]
    },
    {
      "cell_type": "markdown",
      "metadata": {
        "id": "kJvU-sLiNcPe"
      },
      "source": [
        "### **Question 6: Write the code and your observations on percentage acceptance for different categorical variables across all campaigns.** - 7 Marks"
      ]
    },
    {
      "cell_type": "code",
      "execution_count": null,
      "metadata": {
        "id": "1doTPPzR_yOi"
      },
      "outputs": [],
      "source": [
        "#NumberofChildren\n",
        "\n",
        "#call the function Cat_Campaign_Relation for NumberofChildren"
      ]
    },
    {
      "cell_type": "code",
      "execution_count": null,
      "metadata": {
        "id": "Gq_1lf4r_yOl"
      },
      "outputs": [],
      "source": [
        "#Let's filter the observations with 'Others' category as they are only 4 such observations\n",
        "df_rest=df[df.Marital_Status!='Others']\n",
        "\n",
        "#call the function Cat_Campaign_Relation for Marital_Status with dataframe df_rest"
      ]
    },
    {
      "cell_type": "code",
      "execution_count": null,
      "metadata": {
        "id": "9kDa6fQlNcPf",
        "outputId": "8f0a9cda-16cb-46a4-f397-8c807ae4742c"
      },
      "outputs": [
        {
          "data": {
            "text/plain": [
              "<matplotlib.axes._subplots.AxesSubplot at 0x1a4a88f5370>"
            ]
          },
          "execution_count": 144,
          "metadata": {
            "tags": []
          },
          "output_type": "execute_result"
        },
        {
          "data": {
            "image/png": "[encoded data removed]",
            "text/plain": [
              "<Figure size 576x576 with 2 Axes>"
            ]
          },
          "metadata": {
            "needs_background": "light",
            "tags": []
          },
          "output_type": "display_data"
        }
      ],
      "source": [
        "#Let's filter the observations for 'ME' country as they are only 3 such observations\n",
        "df_not_mexico=df[df.Country!='ME']\n",
        "\n",
        "#Plot\n",
        "plt.figure(figsize=(8,8))\n",
        "sns.heatmap((df_not_mexico.groupby('Country').sum()[Camp_cols]/df_not_mexico.groupby('Country').count()[Camp_cols])*100, annot=True, fmt='0.2f', cmap=\"YlGnBu\")"
      ]
    },
    {
      "cell_type": "markdown",
      "metadata": {
        "id": "InSApaQbNcPg"
      },
      "source": [
        "**Observation:_______**"
      ]
    },
    {
      "cell_type": "markdown",
      "metadata": {
        "id": "OA2JaCi7Gf_h"
      },
      "source": [
        "### Check the product preferences by customers"
      ]
    },
    {
      "cell_type": "code",
      "execution_count": null,
      "metadata": {
        "colab": {
          "base_uri": "https://localhost:8080/",
          "height": 402
        },
        "id": "5krnjT0AGf_h",
        "outputId": "4d955e1f-e54c-46ee-d35f-911327c9c576"
      },
      "outputs": [
        {
          "data": {
            "image/png": "[encoded data removed]",
            "text/plain": [
              "<Figure size 720x360 with 1 Axes>"
            ]
          },
          "metadata": {
            "needs_background": "light",
            "tags": []
          },
          "output_type": "display_data"
        }
      ],
      "source": [
        "#creating a list which contains name of all products\n",
        "\n",
        "mnt_cols = [col for col in df.columns if 'Mnt' in col]\n",
        "\n",
        "spending=df[mnt_cols].mean(axis=0)\n",
        "spending.plot(kind='bar', figsize=(10,5))\n",
        "plt.ylabel(\"Average spend by customers\")\n",
        "plt.show()"
      ]
    },
    {
      "cell_type": "markdown",
      "metadata": {
        "id": "XOIM6XLbGf_i"
      },
      "source": [
        "**Observations**:\n",
        "\n",
        "- The mean amount spent by customers in the last 2 years is highest for wines followed by meat products."
      ]
    },
    {
      "cell_type": "markdown",
      "metadata": {
        "id": "G9SobPFUGf_i"
      },
      "source": [
        "Let's check if the product preferences are similar for different types of customers. We will calculate the percentage amount spent by customers on a product for each category with respect to the total spending by customers belonging to that category."
      ]
    },
    {
      "cell_type": "code",
      "execution_count": null,
      "metadata": {
        "id": "Q72PonDINcPi"
      },
      "outputs": [],
      "source": [
        "def amount_per_category(df, column_name):\n",
        "    df_new1=((df.groupby([column_name]).sum()[mnt_cols].T)/df.groupby([column_name]).sum()['Total_Spending'])\n",
        "    plt.figure(figsize=(10,8))\n",
        "    sns.heatmap(df_new1.T, annot=True, cmap=\"YlGnBu\")\n",
        "    plt.show()"
      ]
    },
    {
      "cell_type": "code",
      "execution_count": null,
      "metadata": {
        "colab": {
          "base_uri": "https://localhost:8080/",
          "height": 511
        },
        "id": "uO2pkSlO_yOn",
        "outputId": "c5998166-826b-4f43-ae56-1000de5a191f"
      },
      "outputs": [
        {
          "data": {
            "image/png": "[encoded data removed]",
            "text/plain": [
              "<Figure size 720x576 with 2 Axes>"
            ]
          },
          "metadata": {
            "needs_background": "light",
            "tags": []
          },
          "output_type": "display_data"
        }
      ],
      "source": [
        "# plot showing the percentage of total spending of different products by a group of customers having the same education level\n",
        "\n",
        "amount_per_category(df, 'Education')"
      ]
    },
    {
      "cell_type": "markdown",
      "metadata": {
        "id": "vRSOASaU_yOo"
      },
      "source": [
        "**Observations:**\n",
        "- Customers with PhD spend ~60% of their total spending on wines.\n",
        "- Customers with Graduation and Master's spend ~45-50% of their total spending on wines.\n",
        "- Customers with Graduation and Master's spend ~27-29% of their total spending on meat.\n",
        "- Customers with PhD spend ~25% of their total spending on meat.\n",
        "- Customers having education level Master or PhD spend ~80% on meat and wines.\n",
        "- Customers with basic education spend more on Fruits, Fish, Sweet, and Gold products."
      ]
    },
    {
      "cell_type": "markdown",
      "metadata": {
        "id": "NMb2KdP6NcPk"
      },
      "source": [
        "### **Question 7: Write the code and your observations on percentage amount spent on different products for each category of the mentioned categorical variables.** - 7 Marks"
      ]
    },
    {
      "cell_type": "code",
      "execution_count": null,
      "metadata": {
        "id": "mY5YRE0v_yOo"
      },
      "outputs": [],
      "source": [
        "#call the function amount_per_category for Marital_Status with dataframe df_rest"
      ]
    },
    {
      "cell_type": "code",
      "execution_count": null,
      "metadata": {
        "id": "j58mWAcG_yOo"
      },
      "outputs": [],
      "source": [
        "#call the function amount_per_category for Country with dataframe df_not_mexico"
      ]
    },
    {
      "cell_type": "markdown",
      "metadata": {
        "id": "Ow7UV0r3_yOo"
      },
      "source": [
        "**Observations:_______**"
      ]
    },
    {
      "cell_type": "markdown",
      "metadata": {
        "id": "MCfP8b68Gf_m"
      },
      "source": [
        "### Check different channel performances "
      ]
    },
    {
      "cell_type": "markdown",
      "metadata": {
        "id": "LmF6hn63NcPm"
      },
      "source": [
        "Let's calculate the percentage of purchases for all the channels."
      ]
    },
    {
      "cell_type": "code",
      "execution_count": null,
      "metadata": {
        "colab": {
          "base_uri": "https://localhost:8080/",
          "height": 477
        },
        "id": "rpVQDGs0Gf_n",
        "outputId": "b9a9f658-3acd-44a4-bcf4-2c9343c66d49"
      },
      "outputs": [
        {
          "data": {
            "image/png": "[encoded data removed]",
            "text/plain": [
              "<Figure size 432x432 with 1 Axes>"
            ]
          },
          "metadata": {
            "needs_background": "light",
            "tags": []
          },
          "output_type": "display_data"
        }
      ],
      "source": [
        "# list of cols for channels\n",
        "\n",
        "channel_cols = [col for col in df.columns if 'Purchases' in col] \n",
        "\n",
        "#making dataframe of columns having purchase and taking sum of them.\n",
        "channels = pd.DataFrame(df[channel_cols].sum()/df.Total_Purchase.sum(), columns=['NumberofPurchases'])\n",
        "\n",
        "# plot\n",
        "channels.plot(kind='bar', figsize=(6,6))\n",
        "plt.ylabel(\"Percentage Purchases\")\n",
        "plt.show()"
      ]
    },
    {
      "cell_type": "markdown",
      "metadata": {
        "id": "Ge8Y1cocGf_p"
      },
      "source": [
        "**Observations**:\n",
        "\n",
        "- We can see that the most purchases are from the stores followed by web purchases.\n",
        "- Number of deal purchases and catalog purchases are low."
      ]
    },
    {
      "cell_type": "markdown",
      "metadata": {
        "id": "p-PQNwyiNcPn"
      },
      "source": [
        "### **Question 8: Write your observations on percentage purchases from different channels for different categories of the income_cat column.** - 4 Marks"
      ]
    },
    {
      "cell_type": "markdown",
      "metadata": {
        "id": "o44mr5_d_yOp"
      },
      "source": [
        "Let's check how number of purchases via different channels varies for different income bins."
      ]
    },
    {
      "cell_type": "code",
      "execution_count": null,
      "metadata": {
        "id": "mzBKuE1tGf_q"
      },
      "outputs": [],
      "source": [
        "#Binning the income column\n",
        "df['income_cat']=pd.qcut(df.Income, q=[0, 0.25, 0.50, 0.75, 1], labels=['low', 'medium', 'high', 'very_high'])"
      ]
    },
    {
      "cell_type": "code",
      "execution_count": null,
      "metadata": {
        "id": "hg9lbj0pNcPp",
        "outputId": "f52300b3-8d46-4fdc-daeb-4570c4b34afe"
      },
      "outputs": [
        {
          "data": {
            "image/png": "[encoded data removed]",
            "text/plain": [
              "<Figure size 576x576 with 1 Axes>"
            ]
          },
          "metadata": {
            "needs_background": "light",
            "tags": []
          },
          "output_type": "display_data"
        }
      ],
      "source": [
        "group=df.groupby('income_cat').sum()[channel_cols]\n",
        "(group/group.sum()).plot(kind='bar', figsize=(8,8))\n",
        "plt.ylabel(\"Percentage Purchases\")\n",
        "plt.show()"
      ]
    },
    {
      "cell_type": "markdown",
      "metadata": {
        "id": "XZCofEHLGf_r"
      },
      "source": [
        "**Observations:__________**"
      ]
    },
    {
      "cell_type": "markdown",
      "metadata": {
        "id": "pN3wPhAwGf_s"
      },
      "source": [
        "### We can also visualize the correlation by purchases from different channels and income of the customer."
      ]
    },
    {
      "cell_type": "markdown",
      "metadata": {
        "id": "v5Qw5OtINcPq"
      },
      "source": [
        "### **Question 9: Find the correlation matrix for the columns mentioned below and visualize the same using heatmap.** - 3 Marks"
      ]
    },
    {
      "cell_type": "code",
      "execution_count": null,
      "metadata": {
        "id": "Fer9mc0eGf_t"
      },
      "outputs": [],
      "source": [
        "corr=df[['Income', 'NumDealsPurchases', 'NumWebPurchases', 'NumCatalogPurchases', 'NumStorePurchases' ]].corr()\n",
        "\n",
        "#Write your code here"
      ]
    },
    {
      "cell_type": "markdown",
      "metadata": {
        "id": "0224PAuvGf_t"
      },
      "source": [
        "**Observations:____**"
      ]
    },
    {
      "cell_type": "markdown",
      "metadata": {
        "id": "pH7kPPW2NcPs"
      },
      "source": [
        "As we know from our analysis we have done so far that customers with income, number of children, and amount spending on wines are the important factors.  Let's try to come up with new customer profile on the basis of these 3 attributes and check what would be the acceptance rate for that customer profile."
      ]
    },
    {
      "cell_type": "code",
      "execution_count": null,
      "metadata": {
        "id": "Q54Wjwxrwy3U"
      },
      "outputs": [],
      "source": [
        "df3=df[df.Income>52000]\n",
        "df4=df3[df3.MntWines>df3.MntWines.mean()]\n",
        "new_profile=df4[df4.NumberofChildren==0]"
      ]
    },
    {
      "cell_type": "code",
      "execution_count": null,
      "metadata": {
        "id": "n0aU_dD6wy3U",
        "outputId": "93648684-e47f-4426-a18d-dbbac8e2bc0e"
      },
      "outputs": [
        {
          "data": {
            "image/png": "[encoded data removed]",
            "text/plain": [
              "<Figure size 576x432 with 1 Axes>"
            ]
          },
          "metadata": {
            "needs_background": "light",
            "tags": []
          },
          "output_type": "display_data"
        }
      ],
      "source": [
        "#Calculating success rate of each campaign for both segments \n",
        "success_campaign3=pd.DataFrame(success_campaign, columns=['Overall Acceptance'])\n",
        "\n",
        "success_campaign4=pd.DataFrame((new_profile[Camp_cols].sum()/new_profile.shape[0])*100, columns=['New Customer Profile Acceptance '])\n",
        "\n",
        "# plot\n",
        "pd.concat([success_campaign3, success_campaign4], axis=1).plot(kind='bar', figsize=(8,6))\n",
        "plt.title(\"\")\n",
        "plt.ylabel(\"\")\n",
        "plt.show()"
      ]
    },
    {
      "cell_type": "markdown",
      "metadata": {
        "id": "rtdOB71c_yO1"
      },
      "source": [
        "**Observations:**\n",
        "- Orange bars in the plot indicates that acceptance rate would have been high for new customer profile i.e. income greater than the mean income, no kid at home, amount spent of wines is greater than the mean amount spent on wines."
      ]
    },
    {
      "cell_type": "markdown",
      "metadata": {
        "id": "1-oEWnPtNcPu"
      },
      "source": [
        "### **Question 10: Based on your analysis, write the conclusions and recommendations for the CMO to help make the next marketing campaign strategy.** - 10 Marks"
      ]
    },
    {
      "cell_type": "markdown",
      "metadata": {
        "id": "Ke-ib_KpRZyg"
      },
      "source": [
        "## Conclusion and Recommendations"
      ]
    },
    {
      "cell_type": "markdown",
      "metadata": {
        "id": "8pUiJqaxIQxH"
      },
      "source": [
        "#Write your conclusions here"
      ]
    },
    {
      "cell_type": "markdown",
      "metadata": {
        "id": "d2bGcsxHNcPv"
      },
      "source": [
        "#Write your recommendations here"
      ]
    }
  ],
  "metadata": {
    "colab": {
      "collapsed_sections": [],
      "name": "Learner_Notebook_Project_Marketing_Campaign_Analysis-3 (1).ipynb",
      "provenance": []
    },
    "kernelspec": {
      "display_name": "Python 3",
      "language": "python",
      "name": "python3"
    },
    "language_info": {
      "codemirror_mode": {
        "name": "ipython",
        "version": 3
      },
      "file_extension": ".py",
      "mimetype": "text/x-python",
      "name": "python",
      "nbconvert_exporter": "python",
      "pygments_lexer": "ipython3",
      "version": "3.8.3"
    }
  },
  "nbformat": 4,
  "nbformat_minor": 0
}