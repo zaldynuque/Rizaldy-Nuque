{
 "cells": [
  {
   "cell_type": "markdown",
   "id": "681fc45a",
   "metadata": {},
   "source": [
    "# **Decision Trees and Random Forest Project: Predicting Potential Customers**\n",
    "\n",
    "# **Marks: 30**"
   ]
  },
  {
   "cell_type": "markdown",
   "id": "6363dfb1",
   "metadata": {},
   "source": [
    "Welcome to the project on classification using Decision Tree and Random Forest.\n",
    "\n",
    "--------------------------------\n",
    "## **Context** \n",
    "-------------------------------\n",
    "\n",
    "The EdTech industry has been surging in the past decade immensely, and according to a forecast, the Online Education market, would be worth $286.62bn by 2023, with a compound annual growth rate (CAGR) of 10.26% from 2018 to 2023. The modern era of online education has enforced a lot in its growth and expansion beyond any limit. Due to having many dominant features like ease of information sharing, personalized learning experience, transparency of assessment, etc., it is now preferable to traditional education. \n",
    "\n",
    "The online education sector has witnessed rapid growth and is attracting a lot of new customers. Due to this rapid growth, many new companies have emerged in this industry. With the availability and ease of use of digital marketing resources, companies can reach out to a wider audience with their offerings. The customers who show interest in these offerings are termed as **leads**. There are various sources of obtaining leads for Edtech companies, like:\n",
    "\n",
    "* The customer interacts with the marketing front on social media or other online platforms. \n",
    "* The customer browses the website/app and downloads the brochure.\n",
    "* The customer connects through emails for more information.\n",
    "\n",
    "The company then nurtures these leads and tries to convert them to paid customers. For this, the representative from the organization connects with the lead on call or through email to share further details.\n",
    "\n",
    "\n",
    "----------------------------\n",
    "## **Objective**\n",
    "-----------------------------\n",
    "\n",
    "\n",
    "ExtraaLearn is an initial stage startup that offers programs on cutting-edge technologies to students and professionals to help them upskill/reskill. With a large number of leads being generated on a regular basis, one of the issues faced by ExtraaLearn is to identify which of the leads are more likely to convert so that they can allocate the resources accordingly. You, as a data scientist at ExtraaLearn, have been provided the leads data to:\n",
    "* Analyze and build an ML model to help identify which leads are more likely to convert to paid customers. \n",
    "* Find the factors driving the lead conversion process.\n",
    "* Create a profile of the leads which are likely to convert.\n",
    "\n",
    "\n",
    "--------------------------\n",
    "## **Data Description**\n",
    "--------------------------\n",
    "\n",
    "The data contains the different attributes of leads and their interaction details with ExtraaLearn. The detailed data dictionary is given below.\n",
    "\n",
    "* **ID:** ID of the lead\n",
    "* **age:** Age of the lead\n",
    "* **current_occupation:** Current occupation of the lead. Values include 'Professional', 'Unemployed', and 'Student'\n",
    "* **first_interaction:** How did the lead first interact with ExtraaLearn? Values include 'Website' and 'Mobile App'\n",
    "* **profile_completed:** What percentage of the profile has been filled by the lead on the website/mobile app? Values include Low - (0-50%), Medium - (50-75%), High (75-100%)\n",
    "* **website_visits:** The number of times a lead has visited the website\n",
    "* **time_spent_on_website:** Total time spent on the website\n",
    "* **page_views_per_visit:** Average number of pages on the website viewed during the visits\n",
    "* **last_activity:** Last interaction between the lead and ExtraaLearn \n",
    "    * **Email Activity:** Seeking details about the program through email, Representative shared information with a lead like a brochure of the program, etc.\n",
    "    * **Phone Activity:** Had a phone conversation with a representative, had a conversation over SMS with a representative, etc.\n",
    "    * **Website Activity:** Interacted on live chat with a representative, updated profile on the website, etc.\n",
    "\n",
    "* **print_media_type1:** Flag indicating whether the lead had seen the ad of ExtraaLearn in the Newspaper\n",
    "* **print_media_type2:** Flag indicating whether the lead had seen the ad of ExtraaLearn in the Magazine\n",
    "* **digital_media:** Flag indicating whether the lead had seen the ad of ExtraaLearn on the digital platforms\n",
    "* **educational_channels:** Flag indicating whether the lead had heard about ExtraaLearn in the education channels like online forums, discussion threads, educational websites, etc.\n",
    "* **referral:** Flag indicating whether the lead had heard about ExtraaLearn through reference.\n",
    "* **status:** Flag indicating whether the lead was converted to a paid customer or not."
   ]
  },
  {
   "cell_type": "markdown",
   "id": "29872b1d",
   "metadata": {},
   "source": [
    "## **Importing the necessary libraries and overview of the dataset**"
   ]
  },
  {
   "cell_type": "code",
   "execution_count": 1,
   "id": "636e773e",
   "metadata": {},
   "outputs": [],
   "source": [
    "import warnings\n",
    "warnings.filterwarnings(\"ignore\")\n",
    "\n",
    "# Libraries for data manipulation and visualization\n",
    "import pandas as pd\n",
    "\n",
    "import numpy as np\n",
    "\n",
    "import matplotlib.pyplot as plt\n",
    "\n",
    "import seaborn as sns\n",
    "\n",
    "from sklearn.model_selection import train_test_split\n",
    "\n",
    "# Algorithms to use\n",
    "from sklearn.tree import DecisionTreeClassifier\n",
    "\n",
    "from sklearn import tree\n",
    "\n",
    "from sklearn.ensemble import RandomForestClassifier\n",
    "\n",
    "# Metrics to evaluate the model\n",
    "from sklearn.metrics import confusion_matrix, classification_report, recall_score\n",
    "\n",
    "from sklearn import metrics\n",
    "\n",
    "# For hyperparameter tuning\n",
    "from sklearn.model_selection import GridSearchCV"
   ]
  },
  {
   "cell_type": "markdown",
   "id": "645bb110",
   "metadata": {},
   "source": [
    "### **Loading the dataset**"
   ]
  },
  {
   "cell_type": "code",
   "execution_count": 2,
   "id": "04a65268",
   "metadata": {},
   "outputs": [],
   "source": [
    "learn = pd.read_csv(\"ExtraaLearn.csv\")"
   ]
  },
  {
   "cell_type": "code",
   "execution_count": 3,
   "id": "6dc0b219",
   "metadata": {},
   "outputs": [],
   "source": [
    "# Copying data to another variable to avoid any changes to the original data\n",
    "data = learn.copy()"
   ]
  },
  {
   "cell_type": "markdown",
   "id": "b020c47c",
   "metadata": {},
   "source": [
    "### **View the first and the last 5 rows of the dataset**"
   ]
  },
  {
   "cell_type": "code",
   "execution_count": 4,
   "id": "f3509ed7",
   "metadata": {},
   "outputs": [
    {
     "data": {
      "text/html": [
       "<div>\n",
       "<style scoped>\n",
       "    .dataframe tbody tr th:only-of-type {\n",
       "        vertical-align: middle;\n",
       "    }\n",
       "\n",
       "    .dataframe tbody tr th {\n",
       "        vertical-align: top;\n",
       "    }\n",
       "\n",
       "    .dataframe thead th {\n",
       "        text-align: right;\n",
       "    }\n",
       "</style>\n",
       "<table border=\"1\" class=\"dataframe\">\n",
       "  <thead>\n",
       "    <tr style=\"text-align: right;\">\n",
       "      <th></th>\n",
       "      <th>ID</th>\n",
       "      <th>age</th>\n",
       "      <th>current_occupation</th>\n",
       "      <th>first_interaction</th>\n",
       "      <th>profile_completed</th>\n",
       "      <th>website_visits</th>\n",
       "      <th>time_spent_on_website</th>\n",
       "      <th>page_views_per_visit</th>\n",
       "      <th>last_activity</th>\n",
       "      <th>print_media_type1</th>\n",
       "      <th>print_media_type2</th>\n",
       "      <th>digital_media</th>\n",
       "      <th>educational_channels</th>\n",
       "      <th>referral</th>\n",
       "      <th>status</th>\n",
       "    </tr>\n",
       "  </thead>\n",
       "  <tbody>\n",
       "    <tr>\n",
       "      <th>0</th>\n",
       "      <td>EXT001</td>\n",
       "      <td>57</td>\n",
       "      <td>Unemployed</td>\n",
       "      <td>Website</td>\n",
       "      <td>High</td>\n",
       "      <td>7</td>\n",
       "      <td>1639</td>\n",
       "      <td>1.861</td>\n",
       "      <td>Website Activity</td>\n",
       "      <td>Yes</td>\n",
       "      <td>No</td>\n",
       "      <td>Yes</td>\n",
       "      <td>No</td>\n",
       "      <td>No</td>\n",
       "      <td>1</td>\n",
       "    </tr>\n",
       "    <tr>\n",
       "      <th>1</th>\n",
       "      <td>EXT002</td>\n",
       "      <td>56</td>\n",
       "      <td>Professional</td>\n",
       "      <td>Mobile App</td>\n",
       "      <td>Medium</td>\n",
       "      <td>2</td>\n",
       "      <td>83</td>\n",
       "      <td>0.320</td>\n",
       "      <td>Website Activity</td>\n",
       "      <td>No</td>\n",
       "      <td>No</td>\n",
       "      <td>No</td>\n",
       "      <td>Yes</td>\n",
       "      <td>No</td>\n",
       "      <td>0</td>\n",
       "    </tr>\n",
       "    <tr>\n",
       "      <th>2</th>\n",
       "      <td>EXT003</td>\n",
       "      <td>52</td>\n",
       "      <td>Professional</td>\n",
       "      <td>Website</td>\n",
       "      <td>Medium</td>\n",
       "      <td>3</td>\n",
       "      <td>330</td>\n",
       "      <td>0.074</td>\n",
       "      <td>Website Activity</td>\n",
       "      <td>No</td>\n",
       "      <td>No</td>\n",
       "      <td>Yes</td>\n",
       "      <td>No</td>\n",
       "      <td>No</td>\n",
       "      <td>0</td>\n",
       "    </tr>\n",
       "    <tr>\n",
       "      <th>3</th>\n",
       "      <td>EXT004</td>\n",
       "      <td>53</td>\n",
       "      <td>Unemployed</td>\n",
       "      <td>Website</td>\n",
       "      <td>High</td>\n",
       "      <td>4</td>\n",
       "      <td>464</td>\n",
       "      <td>2.057</td>\n",
       "      <td>Website Activity</td>\n",
       "      <td>No</td>\n",
       "      <td>No</td>\n",
       "      <td>No</td>\n",
       "      <td>No</td>\n",
       "      <td>No</td>\n",
       "      <td>1</td>\n",
       "    </tr>\n",
       "    <tr>\n",
       "      <th>4</th>\n",
       "      <td>EXT005</td>\n",
       "      <td>23</td>\n",
       "      <td>Student</td>\n",
       "      <td>Website</td>\n",
       "      <td>High</td>\n",
       "      <td>4</td>\n",
       "      <td>600</td>\n",
       "      <td>16.914</td>\n",
       "      <td>Email Activity</td>\n",
       "      <td>No</td>\n",
       "      <td>No</td>\n",
       "      <td>No</td>\n",
       "      <td>No</td>\n",
       "      <td>No</td>\n",
       "      <td>0</td>\n",
       "    </tr>\n",
       "  </tbody>\n",
       "</table>\n",
       "</div>"
      ],
      "text/plain": [
       "       ID  age current_occupation first_interaction profile_completed  \\\n",
       "0  EXT001   57         Unemployed           Website              High   \n",
       "1  EXT002   56       Professional        Mobile App            Medium   \n",
       "2  EXT003   52       Professional           Website            Medium   \n",
       "3  EXT004   53         Unemployed           Website              High   \n",
       "4  EXT005   23            Student           Website              High   \n",
       "\n",
       "   website_visits  time_spent_on_website  page_views_per_visit  \\\n",
       "0               7                   1639                 1.861   \n",
       "1               2                     83                 0.320   \n",
       "2               3                    330                 0.074   \n",
       "3               4                    464                 2.057   \n",
       "4               4                    600                16.914   \n",
       "\n",
       "      last_activity print_media_type1 print_media_type2 digital_media  \\\n",
       "0  Website Activity               Yes                No           Yes   \n",
       "1  Website Activity                No                No            No   \n",
       "2  Website Activity                No                No           Yes   \n",
       "3  Website Activity                No                No            No   \n",
       "4    Email Activity                No                No            No   \n",
       "\n",
       "  educational_channels referral  status  \n",
       "0                   No       No       1  \n",
       "1                  Yes       No       0  \n",
       "2                   No       No       0  \n",
       "3                   No       No       1  \n",
       "4                   No       No       0  "
      ]
     },
     "execution_count": 4,
     "metadata": {},
     "output_type": "execute_result"
    }
   ],
   "source": [
    "data.head()"
   ]
  },
  {
   "cell_type": "code",
   "execution_count": 5,
   "id": "7359678c",
   "metadata": {},
   "outputs": [
    {
     "data": {
      "text/html": [
       "<div>\n",
       "<style scoped>\n",
       "    .dataframe tbody tr th:only-of-type {\n",
       "        vertical-align: middle;\n",
       "    }\n",
       "\n",
       "    .dataframe tbody tr th {\n",
       "        vertical-align: top;\n",
       "    }\n",
       "\n",
       "    .dataframe thead th {\n",
       "        text-align: right;\n",
       "    }\n",
       "</style>\n",
       "<table border=\"1\" class=\"dataframe\">\n",
       "  <thead>\n",
       "    <tr style=\"text-align: right;\">\n",
       "      <th></th>\n",
       "      <th>ID</th>\n",
       "      <th>age</th>\n",
       "      <th>current_occupation</th>\n",
       "      <th>first_interaction</th>\n",
       "      <th>profile_completed</th>\n",
       "      <th>website_visits</th>\n",
       "      <th>time_spent_on_website</th>\n",
       "      <th>page_views_per_visit</th>\n",
       "      <th>last_activity</th>\n",
       "      <th>print_media_type1</th>\n",
       "      <th>print_media_type2</th>\n",
       "      <th>digital_media</th>\n",
       "      <th>educational_channels</th>\n",
       "      <th>referral</th>\n",
       "      <th>status</th>\n",
       "    </tr>\n",
       "  </thead>\n",
       "  <tbody>\n",
       "    <tr>\n",
       "      <th>4607</th>\n",
       "      <td>EXT4608</td>\n",
       "      <td>35</td>\n",
       "      <td>Unemployed</td>\n",
       "      <td>Mobile App</td>\n",
       "      <td>Medium</td>\n",
       "      <td>15</td>\n",
       "      <td>360</td>\n",
       "      <td>2.170</td>\n",
       "      <td>Phone Activity</td>\n",
       "      <td>No</td>\n",
       "      <td>No</td>\n",
       "      <td>No</td>\n",
       "      <td>Yes</td>\n",
       "      <td>No</td>\n",
       "      <td>0</td>\n",
       "    </tr>\n",
       "    <tr>\n",
       "      <th>4608</th>\n",
       "      <td>EXT4609</td>\n",
       "      <td>55</td>\n",
       "      <td>Professional</td>\n",
       "      <td>Mobile App</td>\n",
       "      <td>Medium</td>\n",
       "      <td>8</td>\n",
       "      <td>2327</td>\n",
       "      <td>5.393</td>\n",
       "      <td>Email Activity</td>\n",
       "      <td>No</td>\n",
       "      <td>No</td>\n",
       "      <td>No</td>\n",
       "      <td>No</td>\n",
       "      <td>No</td>\n",
       "      <td>0</td>\n",
       "    </tr>\n",
       "    <tr>\n",
       "      <th>4609</th>\n",
       "      <td>EXT4610</td>\n",
       "      <td>58</td>\n",
       "      <td>Professional</td>\n",
       "      <td>Website</td>\n",
       "      <td>High</td>\n",
       "      <td>2</td>\n",
       "      <td>212</td>\n",
       "      <td>2.692</td>\n",
       "      <td>Email Activity</td>\n",
       "      <td>No</td>\n",
       "      <td>No</td>\n",
       "      <td>No</td>\n",
       "      <td>No</td>\n",
       "      <td>No</td>\n",
       "      <td>1</td>\n",
       "    </tr>\n",
       "    <tr>\n",
       "      <th>4610</th>\n",
       "      <td>EXT4611</td>\n",
       "      <td>57</td>\n",
       "      <td>Professional</td>\n",
       "      <td>Mobile App</td>\n",
       "      <td>Medium</td>\n",
       "      <td>1</td>\n",
       "      <td>154</td>\n",
       "      <td>3.879</td>\n",
       "      <td>Website Activity</td>\n",
       "      <td>Yes</td>\n",
       "      <td>No</td>\n",
       "      <td>No</td>\n",
       "      <td>No</td>\n",
       "      <td>No</td>\n",
       "      <td>0</td>\n",
       "    </tr>\n",
       "    <tr>\n",
       "      <th>4611</th>\n",
       "      <td>EXT4612</td>\n",
       "      <td>55</td>\n",
       "      <td>Professional</td>\n",
       "      <td>Website</td>\n",
       "      <td>Medium</td>\n",
       "      <td>4</td>\n",
       "      <td>2290</td>\n",
       "      <td>2.075</td>\n",
       "      <td>Phone Activity</td>\n",
       "      <td>No</td>\n",
       "      <td>No</td>\n",
       "      <td>No</td>\n",
       "      <td>No</td>\n",
       "      <td>No</td>\n",
       "      <td>0</td>\n",
       "    </tr>\n",
       "  </tbody>\n",
       "</table>\n",
       "</div>"
      ],
      "text/plain": [
       "           ID  age current_occupation first_interaction profile_completed  \\\n",
       "4607  EXT4608   35         Unemployed        Mobile App            Medium   \n",
       "4608  EXT4609   55       Professional        Mobile App            Medium   \n",
       "4609  EXT4610   58       Professional           Website              High   \n",
       "4610  EXT4611   57       Professional        Mobile App            Medium   \n",
       "4611  EXT4612   55       Professional           Website            Medium   \n",
       "\n",
       "      website_visits  time_spent_on_website  page_views_per_visit  \\\n",
       "4607              15                    360                 2.170   \n",
       "4608               8                   2327                 5.393   \n",
       "4609               2                    212                 2.692   \n",
       "4610               1                    154                 3.879   \n",
       "4611               4                   2290                 2.075   \n",
       "\n",
       "         last_activity print_media_type1 print_media_type2 digital_media  \\\n",
       "4607    Phone Activity                No                No            No   \n",
       "4608    Email Activity                No                No            No   \n",
       "4609    Email Activity                No                No            No   \n",
       "4610  Website Activity               Yes                No            No   \n",
       "4611    Phone Activity                No                No            No   \n",
       "\n",
       "     educational_channels referral  status  \n",
       "4607                  Yes       No       0  \n",
       "4608                   No       No       0  \n",
       "4609                   No       No       1  \n",
       "4610                   No       No       0  \n",
       "4611                   No       No       0  "
      ]
     },
     "execution_count": 5,
     "metadata": {},
     "output_type": "execute_result"
    }
   ],
   "source": [
    "data.tail()"
   ]
  },
  {
   "cell_type": "markdown",
   "id": "c359389a",
   "metadata": {},
   "source": [
    "### **Understand the shape of the dataset**"
   ]
  },
  {
   "cell_type": "code",
   "execution_count": 6,
   "id": "b2942847",
   "metadata": {},
   "outputs": [
    {
     "data": {
      "text/plain": [
       "(4612, 15)"
      ]
     },
     "execution_count": 6,
     "metadata": {},
     "output_type": "execute_result"
    }
   ],
   "source": [
    "data.shape"
   ]
  },
  {
   "cell_type": "markdown",
   "id": "7eb449eb",
   "metadata": {},
   "source": [
    "* The dataset has **4612 rows and 15 columns.** "
   ]
  },
  {
   "cell_type": "markdown",
   "id": "44684606",
   "metadata": {},
   "source": [
    "### **Check the data types of the columns in the dataset**"
   ]
  },
  {
   "cell_type": "code",
   "execution_count": 7,
   "id": "22bd4be0",
   "metadata": {},
   "outputs": [
    {
     "name": "stdout",
     "output_type": "stream",
     "text": [
      "<class 'pandas.core.frame.DataFrame'>\n",
      "RangeIndex: 4612 entries, 0 to 4611\n",
      "Data columns (total 15 columns):\n",
      " #   Column                 Non-Null Count  Dtype  \n",
      "---  ------                 --------------  -----  \n",
      " 0   ID                     4612 non-null   object \n",
      " 1   age                    4612 non-null   int64  \n",
      " 2   current_occupation     4612 non-null   object \n",
      " 3   first_interaction      4612 non-null   object \n",
      " 4   profile_completed      4612 non-null   object \n",
      " 5   website_visits         4612 non-null   int64  \n",
      " 6   time_spent_on_website  4612 non-null   int64  \n",
      " 7   page_views_per_visit   4612 non-null   float64\n",
      " 8   last_activity          4612 non-null   object \n",
      " 9   print_media_type1      4612 non-null   object \n",
      " 10  print_media_type2      4612 non-null   object \n",
      " 11  digital_media          4612 non-null   object \n",
      " 12  educational_channels   4612 non-null   object \n",
      " 13  referral               4612 non-null   object \n",
      " 14  status                 4612 non-null   int64  \n",
      "dtypes: float64(1), int64(4), object(10)\n",
      "memory usage: 540.6+ KB\n"
     ]
    }
   ],
   "source": [
    "data.info()"
   ]
  },
  {
   "cell_type": "markdown",
   "id": "ebd4131c",
   "metadata": {},
   "source": [
    "**Observations:**\n",
    "\n",
    "* `age`, `website_visits`, `time_spent_on_website`, `page_views_per_visit`, and `status` are of numeric type while rest of the columns are of object type.\n",
    "\n",
    "* There are **no null values** in the dataset."
   ]
  },
  {
   "cell_type": "code",
   "execution_count": 8,
   "id": "df824c89",
   "metadata": {},
   "outputs": [
    {
     "data": {
      "text/plain": [
       "0"
      ]
     },
     "execution_count": 8,
     "metadata": {},
     "output_type": "execute_result"
    }
   ],
   "source": [
    "# Checking for duplicate values\n",
    "data.duplicated().sum()"
   ]
  },
  {
   "cell_type": "markdown",
   "id": "49a4e803",
   "metadata": {},
   "source": [
    "- There are **no duplicate values** in the data."
   ]
  },
  {
   "cell_type": "markdown",
   "id": "da0fea1d",
   "metadata": {},
   "source": [
    "## **Exploratory Data Analysis**"
   ]
  },
  {
   "cell_type": "markdown",
   "id": "e911153a",
   "metadata": {},
   "source": [
    "### **Univariate Analysis**"
   ]
  },
  {
   "cell_type": "markdown",
   "id": "69634002",
   "metadata": {},
   "source": [
    "**Let's check the statistical summary of numerical variables in the data.**"
   ]
  },
  {
   "cell_type": "code",
   "execution_count": 9,
   "id": "de2d7b2d",
   "metadata": {},
   "outputs": [
    {
     "data": {
      "text/html": [
       "<div>\n",
       "<style scoped>\n",
       "    .dataframe tbody tr th:only-of-type {\n",
       "        vertical-align: middle;\n",
       "    }\n",
       "\n",
       "    .dataframe tbody tr th {\n",
       "        vertical-align: top;\n",
       "    }\n",
       "\n",
       "    .dataframe thead th {\n",
       "        text-align: right;\n",
       "    }\n",
       "</style>\n",
       "<table border=\"1\" class=\"dataframe\">\n",
       "  <thead>\n",
       "    <tr style=\"text-align: right;\">\n",
       "      <th></th>\n",
       "      <th>count</th>\n",
       "      <th>mean</th>\n",
       "      <th>std</th>\n",
       "      <th>min</th>\n",
       "      <th>25%</th>\n",
       "      <th>50%</th>\n",
       "      <th>75%</th>\n",
       "      <th>max</th>\n",
       "    </tr>\n",
       "  </thead>\n",
       "  <tbody>\n",
       "    <tr>\n",
       "      <th>age</th>\n",
       "      <td>4612.0</td>\n",
       "      <td>46.201214</td>\n",
       "      <td>13.161454</td>\n",
       "      <td>18.0</td>\n",
       "      <td>36.00000</td>\n",
       "      <td>51.000</td>\n",
       "      <td>57.00000</td>\n",
       "      <td>63.000</td>\n",
       "    </tr>\n",
       "    <tr>\n",
       "      <th>website_visits</th>\n",
       "      <td>4612.0</td>\n",
       "      <td>3.566782</td>\n",
       "      <td>2.829134</td>\n",
       "      <td>0.0</td>\n",
       "      <td>2.00000</td>\n",
       "      <td>3.000</td>\n",
       "      <td>5.00000</td>\n",
       "      <td>30.000</td>\n",
       "    </tr>\n",
       "    <tr>\n",
       "      <th>time_spent_on_website</th>\n",
       "      <td>4612.0</td>\n",
       "      <td>724.011275</td>\n",
       "      <td>743.828683</td>\n",
       "      <td>0.0</td>\n",
       "      <td>148.75000</td>\n",
       "      <td>376.000</td>\n",
       "      <td>1336.75000</td>\n",
       "      <td>2537.000</td>\n",
       "    </tr>\n",
       "    <tr>\n",
       "      <th>page_views_per_visit</th>\n",
       "      <td>4612.0</td>\n",
       "      <td>3.026126</td>\n",
       "      <td>1.968125</td>\n",
       "      <td>0.0</td>\n",
       "      <td>2.07775</td>\n",
       "      <td>2.792</td>\n",
       "      <td>3.75625</td>\n",
       "      <td>18.434</td>\n",
       "    </tr>\n",
       "    <tr>\n",
       "      <th>status</th>\n",
       "      <td>4612.0</td>\n",
       "      <td>0.298569</td>\n",
       "      <td>0.457680</td>\n",
       "      <td>0.0</td>\n",
       "      <td>0.00000</td>\n",
       "      <td>0.000</td>\n",
       "      <td>1.00000</td>\n",
       "      <td>1.000</td>\n",
       "    </tr>\n",
       "  </tbody>\n",
       "</table>\n",
       "</div>"
      ],
      "text/plain": [
       "                        count        mean         std   min        25%  \\\n",
       "age                    4612.0   46.201214   13.161454  18.0   36.00000   \n",
       "website_visits         4612.0    3.566782    2.829134   0.0    2.00000   \n",
       "time_spent_on_website  4612.0  724.011275  743.828683   0.0  148.75000   \n",
       "page_views_per_visit   4612.0    3.026126    1.968125   0.0    2.07775   \n",
       "status                 4612.0    0.298569    0.457680   0.0    0.00000   \n",
       "\n",
       "                           50%         75%       max  \n",
       "age                     51.000    57.00000    63.000  \n",
       "website_visits           3.000     5.00000    30.000  \n",
       "time_spent_on_website  376.000  1336.75000  2537.000  \n",
       "page_views_per_visit     2.792     3.75625    18.434  \n",
       "status                   0.000     1.00000     1.000  "
      ]
     },
     "execution_count": 9,
     "metadata": {},
     "output_type": "execute_result"
    }
   ],
   "source": [
    "data.describe().T"
   ]
  },
  {
   "cell_type": "markdown",
   "id": "f83d30f0",
   "metadata": {},
   "source": [
    "**Observations:**\n",
    "\n",
    "* The average age of leads in the data is about 46 years and the median age is 51 years. This implies that the majority of leads have good work experience and they may be looking for a shift in career or upskill themselves. \n",
    "* On average, a lead visits the website 3 times. There are some leads who have never visited the website.\n",
    "* On average, the leads spent 724 seconds or 12 minutes on the website. There's also a large difference between the median and 75th percentile and between 75th percentile and the maximum value which indicates there might be outliers present in this column.\n",
    "* On average, a lead views 3 pages per visit. The large difference between the 75th percentile and the maximum value suggests that there might be outliers in this column."
   ]
  },
  {
   "cell_type": "code",
   "execution_count": 10,
   "id": "a7fa9c70",
   "metadata": {},
   "outputs": [
    {
     "name": "stdout",
     "output_type": "stream",
     "text": [
      "EXT001     0.000217\n",
      "EXT2884    0.000217\n",
      "EXT3080    0.000217\n",
      "EXT3079    0.000217\n",
      "EXT3078    0.000217\n",
      "             ...   \n",
      "EXT1537    0.000217\n",
      "EXT1536    0.000217\n",
      "EXT1535    0.000217\n",
      "EXT1534    0.000217\n",
      "EXT4612    0.000217\n",
      "Name: ID, Length: 4612, dtype: float64\n",
      "--------------------------------------------------\n",
      "Professional    0.567216\n",
      "Unemployed      0.312446\n",
      "Student         0.120338\n",
      "Name: current_occupation, dtype: float64\n",
      "--------------------------------------------------\n",
      "Website       0.551171\n",
      "Mobile App    0.448829\n",
      "Name: first_interaction, dtype: float64\n",
      "--------------------------------------------------\n",
      "High      0.490893\n",
      "Medium    0.485906\n",
      "Low       0.023200\n",
      "Name: profile_completed, dtype: float64\n",
      "--------------------------------------------------\n",
      "Email Activity      0.493929\n",
      "Phone Activity      0.267563\n",
      "Website Activity    0.238508\n",
      "Name: last_activity, dtype: float64\n",
      "--------------------------------------------------\n",
      "No     0.892238\n",
      "Yes    0.107762\n",
      "Name: print_media_type1, dtype: float64\n",
      "--------------------------------------------------\n",
      "No     0.94948\n",
      "Yes    0.05052\n",
      "Name: print_media_type2, dtype: float64\n",
      "--------------------------------------------------\n",
      "No     0.885733\n",
      "Yes    0.114267\n",
      "Name: digital_media, dtype: float64\n",
      "--------------------------------------------------\n",
      "No     0.847138\n",
      "Yes    0.152862\n",
      "Name: educational_channels, dtype: float64\n",
      "--------------------------------------------------\n",
      "No     0.979835\n",
      "Yes    0.020165\n",
      "Name: referral, dtype: float64\n",
      "--------------------------------------------------\n"
     ]
    }
   ],
   "source": [
    "# Making a list of all categorical variables\n",
    "cat_col = list(data.select_dtypes(\"object\").columns)\n",
    "\n",
    "# Printing count of each unique value in each categorical column\n",
    "for column in cat_col:\n",
    "    print(data[column].value_counts(normalize = True))\n",
    "    print(\"-\" * 50)"
   ]
  },
  {
   "cell_type": "markdown",
   "id": "2a56dcf4",
   "metadata": {},
   "source": [
    "**Observations:**\n",
    "* Most of the leads are working professionals.\n",
    "* As expected, the majority of the leads interacted with ExtraaLearn from the website.\n",
    "* Almost an equal percentage of profile completions are categorized as high and medium that is 49.1% and 48.6%, respectively. Only **2.3%** of the profile completions are categorized as low.\n",
    "* Approx 49.4% of the leads had their last activity over email, followed by 26.8% having phone activity. This implies that the majority of the leads prefer to communicate via email.\n",
    "* We can observe that each ID has an equal percentage of values. Let's check the number of unique values in the ID column."
   ]
  },
  {
   "cell_type": "code",
   "execution_count": 11,
   "id": "7ecfc8a3",
   "metadata": {},
   "outputs": [
    {
     "data": {
      "text/plain": [
       "4612"
      ]
     },
     "execution_count": 11,
     "metadata": {},
     "output_type": "execute_result"
    }
   ],
   "source": [
    "# Checking the number of unique values\n",
    "data[\"ID\"].nunique()"
   ]
  },
  {
   "cell_type": "markdown",
   "id": "984a1c90",
   "metadata": {},
   "source": [
    "* All the values in the ID column are unique.\n",
    "* We can drop this column as it would not add value to our analysis."
   ]
  },
  {
   "cell_type": "code",
   "execution_count": 12,
   "id": "4b33b659",
   "metadata": {},
   "outputs": [],
   "source": [
    "# Dropping ID column\n",
    "data.drop([\"ID\"], axis = 1, inplace = True)"
   ]
  },
  {
   "cell_type": "code",
   "execution_count": 13,
   "id": "4f4ab8b9",
   "metadata": {},
   "outputs": [
    {
     "data": {
      "image/png": "[encoded data removed]",
      "text/plain": [
       "<Figure size 720x432 with 1 Axes>"
      ]
     },
     "metadata": {
      "needs_background": "light"
     },
     "output_type": "display_data"
    }
   ],
   "source": [
    "plt.figure(figsize = (10, 6))\n",
    "\n",
    "ax = sns.countplot(x = 'status', data = data)\n",
    "\n",
    "# Annotating the exact count on the top of the bar for each category \n",
    "for p in ax.patches:\n",
    "    ax.annotate('{:.1f}'.format(p.get_height()), (p.get_x(), p.get_height()+0.35))"
   ]
  },
  {
   "cell_type": "markdown",
   "id": "fcd41a4f",
   "metadata": {},
   "source": [
    "- The above plot shows that number of leads converted are significantly less than number of leads not converted which can be expected.\n",
    "- The plot indicates that **~30%** (1377/4612) of leads have been converted."
   ]
  },
  {
   "cell_type": "markdown",
   "id": "50675bdf",
   "metadata": {},
   "source": [
    "**Let's check the distribution and outliers for numerical columns in the data**"
   ]
  },
  {
   "cell_type": "markdown",
   "id": "6f3f79f6",
   "metadata": {},
   "source": [
    "### **Question 1: Provide observations for below distribution plots and box plots (2 Marks)**"
   ]
  },
  {
   "cell_type": "code",
   "execution_count": 14,
   "id": "6edceddc",
   "metadata": {},
   "outputs": [
    {
     "name": "stdout",
     "output_type": "stream",
     "text": [
      "age\n",
      "Skew : -0.72\n"
     ]
    },
    {
     "data": {
      "image/png": "[encoded data removed]",
      "text/plain": [
       "<Figure size 1080x288 with 2 Axes>"
      ]
     },
     "metadata": {
      "needs_background": "light"
     },
     "output_type": "display_data"
    },
    {
     "name": "stdout",
     "output_type": "stream",
     "text": [
      "website_visits\n",
      "Skew : 2.16\n"
     ]
    },
    {
     "data": {
      "image/png": "[encoded data removed]",
      "text/plain": [
       "<Figure size 1080x288 with 2 Axes>"
      ]
     },
     "metadata": {
      "needs_background": "light"
     },
     "output_type": "display_data"
    },
    {
     "name": "stdout",
     "output_type": "stream",
     "text": [
      "time_spent_on_website\n",
      "Skew : 0.95\n"
     ]
    },
    {
     "data": {
      "image/png": "[encoded data removed]",
      "text/plain": [
       "<Figure size 1080x288 with 2 Axes>"
      ]
     },
     "metadata": {
      "needs_background": "light"
     },
     "output_type": "display_data"
    },
    {
     "name": "stdout",
     "output_type": "stream",
     "text": [
      "page_views_per_visit\n",
      "Skew : 1.27\n"
     ]
    },
    {
     "data": {
      "image/png": "[encoded data removed]",
      "text/plain": [
       "<Figure size 1080x288 with 2 Axes>"
      ]
     },
     "metadata": {
      "needs_background": "light"
     },
     "output_type": "display_data"
    }
   ],
   "source": [
    "for col in ['age', 'website_visits', 'time_spent_on_website', 'page_views_per_visit']:\n",
    "    print(col)\n",
    "    \n",
    "    print('Skew :',round(data[col].skew(), 2))\n",
    "    \n",
    "    plt.figure(figsize = (15, 4))\n",
    "    \n",
    "    plt.subplot(1, 2, 1)\n",
    "    \n",
    "    data[col].hist(bins = 10, grid = False)\n",
    "    \n",
    "    plt.ylabel('count')\n",
    "    \n",
    "    plt.subplot(1, 2, 2)\n",
    "    \n",
    "    sns.boxplot(x = data[col])\n",
    "    \n",
    "    plt.show()"
   ]
  },
  {
   "cell_type": "markdown",
   "id": "fc291686",
   "metadata": {},
   "source": [
    "**Observations:___________**"
   ]
  },
  {
   "cell_type": "markdown",
   "id": "aa75ed87",
   "metadata": {},
   "source": [
    "### **Bivariate Analysis**"
   ]
  },
  {
   "cell_type": "markdown",
   "id": "f809a3e7",
   "metadata": {},
   "source": [
    "**We are done with univariate analysis and data preprocessing. Let's explore the data a bit more with bivariate analysis.**\n",
    "\n",
    "Leads will have different expectations from the outcome of the course and their current occupation may play a key role for them to take the program. Let's analyze it."
   ]
  },
  {
   "cell_type": "code",
   "execution_count": 15,
   "id": "ff0cd949",
   "metadata": {},
   "outputs": [
    {
     "data": {
      "image/png": "[encoded data removed]",
      "text/plain": [
       "<Figure size 720x432 with 1 Axes>"
      ]
     },
     "metadata": {
      "needs_background": "light"
     },
     "output_type": "display_data"
    }
   ],
   "source": [
    "plt.figure(figsize = (10, 6))\n",
    "\n",
    "sns.countplot(x = 'current_occupation', hue = 'status', data = data)\n",
    "\n",
    "plt.show()"
   ]
  },
  {
   "cell_type": "markdown",
   "id": "a3e7091e",
   "metadata": {},
   "source": [
    "**Observations:**\n",
    "\n",
    "- The plot shows that working professional leads are more likely to opt for a course offered by the organization and the students are least likely to be converted. \n",
    "- This shows that the currently offered programs are more oriented toward working professionals or unemployed personnel. The programs might be suitable for the working professionals who might want to transition to a new role or take up more responsibility in their current role. And also focused on skills that are in high demand making it more suitable for working professionals or currently unemployed leads."
   ]
  },
  {
   "cell_type": "markdown",
   "id": "31979349",
   "metadata": {},
   "source": [
    "**Age can also be a good factor to differentiate between such leads. Let's explore this.**"
   ]
  },
  {
   "cell_type": "code",
   "execution_count": 16,
   "id": "ebe0c3bb",
   "metadata": {},
   "outputs": [
    {
     "data": {
      "image/png": "[encoded data removed]",
      "text/plain": [
       "<Figure size 720x360 with 1 Axes>"
      ]
     },
     "metadata": {
      "needs_background": "light"
     },
     "output_type": "display_data"
    }
   ],
   "source": [
    "plt.figure(figsize = (10, 5))\n",
    "\n",
    "sns.boxplot(data[\"current_occupation\"], data[\"age\"])\n",
    "\n",
    "plt.show()"
   ]
  },
  {
   "cell_type": "code",
   "execution_count": 17,
   "id": "2ad497a9",
   "metadata": {},
   "outputs": [
    {
     "data": {
      "text/html": [
       "<div>\n",
       "<style scoped>\n",
       "    .dataframe tbody tr th:only-of-type {\n",
       "        vertical-align: middle;\n",
       "    }\n",
       "\n",
       "    .dataframe tbody tr th {\n",
       "        vertical-align: top;\n",
       "    }\n",
       "\n",
       "    .dataframe thead th {\n",
       "        text-align: right;\n",
       "    }\n",
       "</style>\n",
       "<table border=\"1\" class=\"dataframe\">\n",
       "  <thead>\n",
       "    <tr style=\"text-align: right;\">\n",
       "      <th></th>\n",
       "      <th>count</th>\n",
       "      <th>mean</th>\n",
       "      <th>std</th>\n",
       "      <th>min</th>\n",
       "      <th>25%</th>\n",
       "      <th>50%</th>\n",
       "      <th>75%</th>\n",
       "      <th>max</th>\n",
       "    </tr>\n",
       "    <tr>\n",
       "      <th>current_occupation</th>\n",
       "      <th></th>\n",
       "      <th></th>\n",
       "      <th></th>\n",
       "      <th></th>\n",
       "      <th></th>\n",
       "      <th></th>\n",
       "      <th></th>\n",
       "      <th></th>\n",
       "    </tr>\n",
       "  </thead>\n",
       "  <tbody>\n",
       "    <tr>\n",
       "      <th>Professional</th>\n",
       "      <td>2616.0</td>\n",
       "      <td>49.347477</td>\n",
       "      <td>9.890744</td>\n",
       "      <td>25.0</td>\n",
       "      <td>42.0</td>\n",
       "      <td>54.0</td>\n",
       "      <td>57.0</td>\n",
       "      <td>60.0</td>\n",
       "    </tr>\n",
       "    <tr>\n",
       "      <th>Student</th>\n",
       "      <td>555.0</td>\n",
       "      <td>21.144144</td>\n",
       "      <td>2.001114</td>\n",
       "      <td>18.0</td>\n",
       "      <td>19.0</td>\n",
       "      <td>21.0</td>\n",
       "      <td>23.0</td>\n",
       "      <td>25.0</td>\n",
       "    </tr>\n",
       "    <tr>\n",
       "      <th>Unemployed</th>\n",
       "      <td>1441.0</td>\n",
       "      <td>50.140180</td>\n",
       "      <td>9.999503</td>\n",
       "      <td>32.0</td>\n",
       "      <td>42.0</td>\n",
       "      <td>54.0</td>\n",
       "      <td>58.0</td>\n",
       "      <td>63.0</td>\n",
       "    </tr>\n",
       "  </tbody>\n",
       "</table>\n",
       "</div>"
      ],
      "text/plain": [
       "                     count       mean       std   min   25%   50%   75%   max\n",
       "current_occupation                                                           \n",
       "Professional        2616.0  49.347477  9.890744  25.0  42.0  54.0  57.0  60.0\n",
       "Student              555.0  21.144144  2.001114  18.0  19.0  21.0  23.0  25.0\n",
       "Unemployed          1441.0  50.140180  9.999503  32.0  42.0  54.0  58.0  63.0"
      ]
     },
     "execution_count": 17,
     "metadata": {},
     "output_type": "execute_result"
    }
   ],
   "source": [
    "data.groupby([\"current_occupation\"])[\"age\"].describe()"
   ]
  },
  {
   "cell_type": "markdown",
   "id": "82135093",
   "metadata": {},
   "source": [
    "**Observations:**\n",
    "\n",
    "* The range of age for students is 18 to 25 years.\n",
    "* The range of age for professionals is 25 to 60 years.\n",
    "* The range of age for unemployed leads is 32 to 63 years.\n",
    "* The average age of working professionals and unemployed leads is almost 50 years."
   ]
  },
  {
   "cell_type": "markdown",
   "id": "27a8df27",
   "metadata": {},
   "source": [
    "**The company's first interaction with leads should be compelling and persuasive. Let's see if the channels of the first interaction have an impact on the conversion of leads.**"
   ]
  },
  {
   "cell_type": "code",
   "execution_count": 18,
   "id": "63697f65",
   "metadata": {},
   "outputs": [
    {
     "data": {
      "image/png": "[encoded data removed]",
      "text/plain": [
       "<Figure size 720x432 with 1 Axes>"
      ]
     },
     "metadata": {
      "needs_background": "light"
     },
     "output_type": "display_data"
    }
   ],
   "source": [
    "plt.figure(figsize = (10, 6))\n",
    "\n",
    "sns.countplot(x = 'first_interaction', hue = 'status', data = data)\n",
    "\n",
    "plt.show()"
   ]
  },
  {
   "cell_type": "markdown",
   "id": "2934456c",
   "metadata": {},
   "source": [
    "**Observations:**\n",
    "\n",
    "* The website seems to be doing a good job as compared to mobile app as there is a huge difference in the number of conversions of the leads who first interacted with the company through website and those who interacted through mobile application.\n",
    "* Majority of the leads who interacted through websites were converted to paid customers, while only a small number of leads, who interacted through mobile app, converted."
   ]
  },
  {
   "cell_type": "markdown",
   "id": "a63064a0",
   "metadata": {},
   "source": [
    "**We observed earlier that some leads spend more time on websites than others. Let's analyze if spending more time on websites results in conversion.**"
   ]
  },
  {
   "cell_type": "markdown",
   "id": "cc82220c",
   "metadata": {},
   "source": [
    "### **Question 2:** \n",
    "- **Create a boxplot for variables 'status' and 'time_spent_on_website' (use sns.boxplot() function) (1 Mark)**\n",
    "- **Provide your observations from the plot (1 Mark)**"
   ]
  },
  {
   "cell_type": "code",
   "execution_count": null,
   "id": "94730262",
   "metadata": {},
   "outputs": [],
   "source": [
    "plt.figure(figsize = (10, 5))\n",
    "\n",
    "______________ # Write your code here\n",
    "\n",
    "plt.show()"
   ]
  },
  {
   "cell_type": "markdown",
   "id": "e51daa8b",
   "metadata": {},
   "source": [
    "**Observations:_______**"
   ]
  },
  {
   "cell_type": "markdown",
   "id": "2f71c43b",
   "metadata": {},
   "source": [
    "**People browsing the website or the mobile app are generally required to create a profile by sharing their details before they can access more information. Let's see if the profile completion level has an impact on lead coversion**"
   ]
  },
  {
   "cell_type": "code",
   "execution_count": 20,
   "id": "71810d14",
   "metadata": {},
   "outputs": [
    {
     "data": {
      "image/png": "[encoded data removed]",
      "text/plain": [
       "<Figure size 720x432 with 1 Axes>"
      ]
     },
     "metadata": {
      "needs_background": "light"
     },
     "output_type": "display_data"
    }
   ],
   "source": [
    "plt.figure(figsize = (10, 6))\n",
    "\n",
    "sns.countplot(x = 'profile_completed', hue = 'status', data = data)\n",
    "\n",
    "plt.show()"
   ]
  },
  {
   "cell_type": "markdown",
   "id": "ccefc463",
   "metadata": {},
   "source": [
    "**Observations:**\n",
    "\n",
    "* The leads whose profile completion level is high converted more in comparison to other levels of profile completion.\n",
    "* The medium and low levels of profile completion saw comparatively very less conversions.\n",
    "* The high level of profile completion might indicate a lead's intent to pursue the course which results in high conversion."
   ]
  },
  {
   "cell_type": "markdown",
   "id": "b95e8ec3",
   "metadata": {},
   "source": [
    "**Referrals from a converted lead can be a good source of income with a very low cost of advertisement. Let's see how referrals impact lead conversion status.**"
   ]
  },
  {
   "cell_type": "code",
   "execution_count": 21,
   "id": "df2ec349",
   "metadata": {},
   "outputs": [
    {
     "data": {
      "image/png": "[encoded data removed]",
      "text/plain": [
       "<Figure size 720x432 with 1 Axes>"
      ]
     },
     "metadata": {
      "needs_background": "light"
     },
     "output_type": "display_data"
    }
   ],
   "source": [
    "plt.figure(figsize = (10, 6))\n",
    "\n",
    "sns.countplot(x = 'referral', hue = 'status', data = data)\n",
    "\n",
    "plt.show()"
   ]
  },
  {
   "cell_type": "markdown",
   "id": "45590c43",
   "metadata": {},
   "source": [
    "**Observations:**\n",
    "* There are a very less number of referrals but the conversion is high. \n",
    "* Company should try to get more leads through referrals by promoting rewards for existing customer base when they refer someone."
   ]
  },
  {
   "cell_type": "markdown",
   "id": "6da6b98e",
   "metadata": {},
   "source": [
    "**We have explored different combinations of variables. Now, let's see the pairwise correlations between all the numerical variables.**"
   ]
  },
  {
   "cell_type": "code",
   "execution_count": 22,
   "id": "02c51582",
   "metadata": {},
   "outputs": [
    {
     "data": {
      "image/png": "[encoded data removed]",
      "text/plain": [
       "<Figure size 864x504 with 2 Axes>"
      ]
     },
     "metadata": {
      "needs_background": "light"
     },
     "output_type": "display_data"
    }
   ],
   "source": [
    "plt.figure(figsize = (12, 7))\n",
    "\n",
    "sns.heatmap(data.corr(), annot = True, fmt = \".2f\")\n",
    "\n",
    "plt.show()"
   ]
  },
  {
   "cell_type": "markdown",
   "id": "23785217",
   "metadata": {},
   "source": [
    "**Observations:**\n",
    "\n",
    "* There's a weak positive correlation between status and time spent on the website. This implies that a person spending more time on the website is more likely to be converted. \n",
    "* There's no correlation between any independent variable."
   ]
  },
  {
   "cell_type": "markdown",
   "id": "7441146b",
   "metadata": {},
   "source": [
    "## **Data preparation for modeling**\n",
    "\n",
    "- We want to predict which lead is more likely to be converted.\n",
    "- Before we proceed to build a model, we'll have to encode categorical features.\n",
    "- We'll split the data into train and test sets to be able to evaluate the model that we build on the train data."
   ]
  },
  {
   "cell_type": "code",
   "execution_count": 23,
   "id": "29ef25f1",
   "metadata": {},
   "outputs": [],
   "source": [
    "# Separating the target variable and other variables\n",
    "X = data.drop(columns = 'status')\n",
    "\n",
    "Y = data['status']"
   ]
  },
  {
   "cell_type": "code",
   "execution_count": 24,
   "id": "30f8b561",
   "metadata": {},
   "outputs": [],
   "source": [
    "# Creating dummy variables, drop_first=True is used to avoid redundant variables\n",
    "X = pd.get_dummies(X, drop_first = True)"
   ]
  },
  {
   "cell_type": "code",
   "execution_count": 25,
   "id": "0ad8b3d3",
   "metadata": {},
   "outputs": [],
   "source": [
    "# Splitting the data into train and test sets\n",
    "X_train, X_test, y_train, y_test = train_test_split(X, Y, test_size = 0.30, random_state = 1)"
   ]
  },
  {
   "cell_type": "markdown",
   "id": "94232d54",
   "metadata": {},
   "source": [
    "**Checking the shape of the train and test data**"
   ]
  },
  {
   "cell_type": "code",
   "execution_count": 26,
   "id": "4378cb19",
   "metadata": {},
   "outputs": [
    {
     "name": "stdout",
     "output_type": "stream",
     "text": [
      "Shape of the training set:  (3228, 16)\n",
      "Shape of the test set:  (1384, 16)\n",
      "Percentage of classes in the training set:\n",
      "0    0.704151\n",
      "1    0.295849\n",
      "Name: status, dtype: float64\n",
      "Percentage of classes in the test set:\n",
      "0    0.695087\n",
      "1    0.304913\n",
      "Name: status, dtype: float64\n"
     ]
    }
   ],
   "source": [
    "print(\"Shape of the training set: \", X_train.shape)   \n",
    "\n",
    "print(\"Shape of the test set: \", X_test.shape)\n",
    "\n",
    "print(\"Percentage of classes in the training set:\")\n",
    "\n",
    "print(y_train.value_counts(normalize = True))\n",
    "\n",
    "print(\"Percentage of classes in the test set:\")\n",
    "\n",
    "print(y_test.value_counts(normalize = True))"
   ]
  },
  {
   "cell_type": "markdown",
   "id": "4bab2b8c",
   "metadata": {},
   "source": [
    "## **Building Classification Models**"
   ]
  },
  {
   "cell_type": "markdown",
   "id": "8b2e2747",
   "metadata": {},
   "source": [
    "**Before training the model, let's choose the appropriate model evaluation criterion as per the problem at hand.**\n",
    "\n",
    "### **Model evaluation criterion**\n",
    "\n",
    "**Model can make wrong predictions as:**\n",
    "\n",
    "1. Predicting a lead will not be converted to a paid customer but, in reality, the lead would have converted to a paid customer.\n",
    "2. Predicting a lead will be converted to a paid customer but, in reality, the lead would have not converted to a paid customer. \n",
    "\n",
    "### **Which case is more important?** \n",
    "\n",
    "* If we predict that a lead will not get converted and the lead would have converted then the company will lose a potential customer. \n",
    "\n",
    "* If we predict that a lead will get converted and the lead doesn't get converted the company might lose resources by nurturing false-positive cases.\n",
    "\n",
    "Losing a potential customer is a greater loss for the organization.\n",
    "\n",
    "### **How to reduce the losses?**\n",
    "\n",
    "* Company would want `Recall` to be maximized. The greater the Recall score, higher the chances of minimizing False Negatives. "
   ]
  },
  {
   "cell_type": "markdown",
   "id": "1b3e9e70",
   "metadata": {},
   "source": [
    "**Also, let's create a function to calculate and print the classification report and confusion matrix so that we don't have to rewrite the same code repeatedly for each model.**"
   ]
  },
  {
   "cell_type": "code",
   "execution_count": 27,
   "id": "14b21e0c",
   "metadata": {},
   "outputs": [],
   "source": [
    "# Function to print the classification report and get confusion matrix in a proper format\n",
    "\n",
    "def metrics_score(actual, predicted):\n",
    "    print(classification_report(actual, predicted))\n",
    "    \n",
    "    cm = confusion_matrix(actual, predicted)\n",
    "    \n",
    "    plt.figure(figsize = (8, 5))\n",
    "    \n",
    "    sns.heatmap(cm, annot = True,  fmt = '.2f', xticklabels = ['Not Converted', 'Converted'], yticklabels = ['Not Converted', 'Converted'])\n",
    "    \n",
    "    plt.ylabel('Actual')\n",
    "    \n",
    "    plt.xlabel('Predicted')\n",
    "    \n",
    "    plt.show()"
   ]
  },
  {
   "cell_type": "markdown",
   "id": "c1de405d",
   "metadata": {},
   "source": [
    "### **Decision Tree**"
   ]
  },
  {
   "cell_type": "markdown",
   "id": "940cf6ff",
   "metadata": {},
   "source": [
    "### **Question 3:**\n",
    "\n",
    "- **Fit the decision tree classifier on the training data (use random_state=7) (1 Mark)**\n",
    "- **Check the performance on both training and testing datasets (use metrics_score function) (1 Mark)**\n",
    "- **Write your observations (2 Marks)**"
   ]
  },
  {
   "cell_type": "code",
   "execution_count": null,
   "id": "47ad662e",
   "metadata": {},
   "outputs": [],
   "source": [
    "# Fitting the decision tree classifier on the training data\n",
    "d_tree =  _________\n",
    "\n",
    "d_tree.__________"
   ]
  },
  {
   "cell_type": "markdown",
   "id": "dc5aa9ca",
   "metadata": {},
   "source": [
    "**Let's check the performance on the training data**"
   ]
  },
  {
   "cell_type": "code",
   "execution_count": null,
   "id": "ed0baa00",
   "metadata": {},
   "outputs": [],
   "source": [
    "# Checking performance on the training data\n",
    "y_pred_train1 = _____________\n",
    "\n",
    "______________"
   ]
  },
  {
   "cell_type": "markdown",
   "id": "d5735dac",
   "metadata": {},
   "source": [
    "**Observations:_________**"
   ]
  },
  {
   "cell_type": "markdown",
   "id": "3e81a1f8",
   "metadata": {},
   "source": [
    "\n",
    "**Let's check the performance on test data to see if the model is overfitting.**"
   ]
  },
  {
   "cell_type": "code",
   "execution_count": null,
   "id": "714e5227",
   "metadata": {
    "scrolled": false
   },
   "outputs": [],
   "source": [
    "# Checking performance on the testing data\n",
    "y_pred_test1 = ________________\n",
    "\n",
    "_______________"
   ]
  },
  {
   "cell_type": "markdown",
   "id": "15119820",
   "metadata": {},
   "source": [
    "**Observations:_________**"
   ]
  },
  {
   "cell_type": "markdown",
   "id": "5e67510e",
   "metadata": {},
   "source": [
    "**Let's try hyperparameter tuning using GridSearchCV to find the optimal max_depth** to reduce overfitting of the model. We can tune some other hyperparameters as well."
   ]
  },
  {
   "cell_type": "markdown",
   "id": "c844e112",
   "metadata": {},
   "source": [
    "### **Decision Tree - Hyperparameter Tuning**\n",
    "\n",
    "We will use the class_weight hyperparameter with the value equal to {0: 0.3, 1: 0.7} which is approximately the opposite of the imbalance in the original data. \n",
    "\n",
    "**This would tell the model that 1 is the important class here.**"
   ]
  },
  {
   "cell_type": "code",
   "execution_count": 31,
   "id": "74a5d810",
   "metadata": {},
   "outputs": [
    {
     "data": {
      "text/plain": [
       "DecisionTreeClassifier(class_weight={0: 0.3, 1: 0.7}, criterion='entropy',\n",
       "                       max_depth=3, min_samples_leaf=5, random_state=7)"
      ]
     },
     "execution_count": 31,
     "metadata": {},
     "output_type": "execute_result"
    }
   ],
   "source": [
    "# Choose the type of classifier \n",
    "d_tree_tuned = DecisionTreeClassifier(random_state = 7, class_weight = {0: 0.3, 1: 0.7})\n",
    "\n",
    "# Grid of parameters to choose from\n",
    "parameters = {'max_depth': np.arange(2, 10), \n",
    "              'criterion': ['gini', 'entropy'],\n",
    "              'min_samples_leaf': [5, 10, 20, 25]\n",
    "             }\n",
    "\n",
    "# Type of scoring used to compare parameter combinations - recall score for class 1\n",
    "scorer = metrics.make_scorer(recall_score, pos_label = 1)\n",
    "\n",
    "# Run the grid search\n",
    "grid_obj = GridSearchCV(d_tree_tuned, parameters, scoring = scorer, cv = 5)\n",
    "\n",
    "grid_obj = grid_obj.fit(X_train, y_train)\n",
    "\n",
    "# Set the classifier to the best combination of parameters\n",
    "d_tree_tuned = grid_obj.best_estimator_\n",
    "\n",
    "# Fit the best algorithm to the data\n",
    "d_tree_tuned.fit(X_train, y_train)"
   ]
  },
  {
   "cell_type": "markdown",
   "id": "e9437274",
   "metadata": {},
   "source": [
    "We have tuned the model and fit the tuned model on the training data. Now, **let's check the model performance on the training and testing data.**"
   ]
  },
  {
   "cell_type": "markdown",
   "id": "f5f58c3e",
   "metadata": {},
   "source": [
    "### **Question 4:**\n",
    "- **Check the performance on both training and testing datasets (2 Marks)**\n",
    "- **Compare the results with the results from the decision tree model with default parameters and write your observations (2 Marks)**"
   ]
  },
  {
   "cell_type": "code",
   "execution_count": null,
   "id": "63c23be9",
   "metadata": {},
   "outputs": [],
   "source": [
    "# Checking performance on the training data\n",
    "y_pred_train2 = ________________\n",
    "\n",
    "____________________"
   ]
  },
  {
   "cell_type": "markdown",
   "id": "63c70169",
   "metadata": {},
   "source": [
    "**Observations:__________**"
   ]
  },
  {
   "cell_type": "markdown",
   "id": "be3d054a",
   "metadata": {},
   "source": [
    "**Let's check the model performance on the testing data**"
   ]
  },
  {
   "cell_type": "code",
   "execution_count": null,
   "id": "4ee43df6",
   "metadata": {},
   "outputs": [],
   "source": [
    "# Checking performance on the testing data\n",
    "y_pred_test2 = _____________\n",
    "\n",
    "_____________________"
   ]
  },
  {
   "cell_type": "markdown",
   "id": "ebb0ae54",
   "metadata": {},
   "source": [
    "**Observations:__________**"
   ]
  },
  {
   "cell_type": "markdown",
   "id": "2448f0b2",
   "metadata": {},
   "source": [
    "**Let's visualize the tuned decision tree** and observe the decision rules:"
   ]
  },
  {
   "cell_type": "markdown",
   "id": "9a8bf736",
   "metadata": {},
   "source": [
    "### **Question 5: Write your observations from the below visualization of the tuned decision tree (3 Marks)**"
   ]
  },
  {
   "cell_type": "code",
   "execution_count": 34,
   "id": "2382ed7c",
   "metadata": {},
   "outputs": [
    {
     "data": {
      "image/png": "[encoded data removed]",
      "text/plain": [
       "<Figure size 1440x1440 with 1 Axes>"
      ]
     },
     "metadata": {
      "needs_background": "light"
     },
     "output_type": "display_data"
    }
   ],
   "source": [
    "features = list(X.columns)\n",
    "\n",
    "plt.figure(figsize = (20, 20))\n",
    "\n",
    "tree.plot_tree(d_tree_tuned, feature_names = features, filled = True, fontsize = 9, node_ids = True, class_names = True)\n",
    "\n",
    "plt.show()"
   ]
  },
  {
   "cell_type": "markdown",
   "id": "36c23d34",
   "metadata": {},
   "source": [
    "**Note:** Blue leaves represent the converted leads, i.e., **y[1]**, while the orange leaves represent the not converted leads, i.e., **y[0]**. Also, the more the number of observations in a leaf, the darker its color gets.\n",
    "\n",
    "**Observations:_________**"
   ]
  },
  {
   "cell_type": "markdown",
   "id": "415f7aab",
   "metadata": {},
   "source": [
    "**Let's look at the feature importance** of the tuned decision tree model"
   ]
  },
  {
   "cell_type": "code",
   "execution_count": 35,
   "id": "8d3cb405",
   "metadata": {},
   "outputs": [
    {
     "name": "stdout",
     "output_type": "stream",
     "text": [
      "                                     Imp\n",
      "time_spent_on_website           0.348142\n",
      "first_interaction_Website       0.327181\n",
      "profile_completed_Medium        0.239274\n",
      "age                             0.063893\n",
      "last_activity_Website Activity  0.021511\n",
      "website_visits                  0.000000\n",
      "page_views_per_visit            0.000000\n",
      "current_occupation_Student      0.000000\n",
      "current_occupation_Unemployed   0.000000\n",
      "profile_completed_Low           0.000000\n",
      "last_activity_Phone Activity    0.000000\n",
      "print_media_type1_Yes           0.000000\n",
      "print_media_type2_Yes           0.000000\n",
      "digital_media_Yes               0.000000\n",
      "educational_channels_Yes        0.000000\n",
      "referral_Yes                    0.000000\n"
     ]
    }
   ],
   "source": [
    "# Importance of features in the tree building\n",
    "\n",
    "print (pd.DataFrame(d_tree_tuned.feature_importances_, columns = [\"Imp\"], index = X_train.columns).sort_values(by = 'Imp', ascending = False))"
   ]
  },
  {
   "cell_type": "code",
   "execution_count": 36,
   "id": "25410aa2",
   "metadata": {},
   "outputs": [
    {
     "data": {
      "image/png": "[encoded data removed]",
      "text/plain": [
       "<Figure size 720x720 with 1 Axes>"
      ]
     },
     "metadata": {
      "needs_background": "light"
     },
     "output_type": "display_data"
    }
   ],
   "source": [
    "# Plotting the feature importance\n",
    "importances = d_tree_tuned.feature_importances_\n",
    "\n",
    "indices = np.argsort(importances)\n",
    "\n",
    "plt.figure(figsize = (10, 10))\n",
    "\n",
    "plt.title('Feature Importances')\n",
    "\n",
    "plt.barh(range(len(indices)), importances[indices], color = 'violet', align = 'center')\n",
    "\n",
    "plt.yticks(range(len(indices)), [features[i] for i in indices])\n",
    "\n",
    "plt.xlabel('Relative Importance')\n",
    "\n",
    "plt.show()"
   ]
  },
  {
   "cell_type": "markdown",
   "id": "69076cbd",
   "metadata": {},
   "source": [
    "**Observations:**\n",
    "- **Time spent on the website and first_interaction_website are the most important features** **followed by profile_completed, age, and last_activity**.\n",
    "- **The rest of the variables have no impact in this model, while deciding whether a lead will be converted or not**.\n",
    "\n",
    "Now, let's build another model - **a random forest classifier.**"
   ]
  },
  {
   "cell_type": "markdown",
   "id": "665d8d46",
   "metadata": {},
   "source": [
    "### **Random Forest Classifier**"
   ]
  },
  {
   "cell_type": "markdown",
   "id": "173ba9b1",
   "metadata": {},
   "source": [
    "### **Question 6:** \n",
    "- **Fit the random forest classifier on the training data (use random_state=7) (1 Mark)**\n",
    "- **Check the performance on both training and testing data (use metrics_score function) (1 Mark)**\n",
    "- **Write your observations (2 Marks)**"
   ]
  },
  {
   "cell_type": "code",
   "execution_count": 37,
   "id": "17a73ece",
   "metadata": {},
   "outputs": [
    {
     "data": {
      "text/plain": [
       "RandomForestClassifier(criterion='entropy', random_state=7)"
      ]
     },
     "execution_count": 37,
     "metadata": {},
     "output_type": "execute_result"
    }
   ],
   "source": [
    "# Fitting the random forest tree classifier on the training data\n",
    "rf_estimator = ________________\n",
    "\n",
    "rf_estimator._____________"
   ]
  },
  {
   "cell_type": "markdown",
   "id": "1f01e295",
   "metadata": {},
   "source": [
    "**Let's check the performance of the model on the training data**"
   ]
  },
  {
   "cell_type": "code",
   "execution_count": null,
   "id": "7da5a08d",
   "metadata": {},
   "outputs": [],
   "source": [
    "# Checking performance on the training data\n",
    "y_pred_train3 = ____________\n",
    "\n",
    "__________________"
   ]
  },
  {
   "cell_type": "markdown",
   "id": "bfa93d2f",
   "metadata": {},
   "source": [
    "**Observations:________**"
   ]
  },
  {
   "cell_type": "markdown",
   "id": "4349bc5a",
   "metadata": {},
   "source": [
    "**Let's check the performance on the testing data**"
   ]
  },
  {
   "cell_type": "code",
   "execution_count": null,
   "id": "df20b20d",
   "metadata": {},
   "outputs": [],
   "source": [
    "# Checking performance on the testing data\n",
    "y_pred_test3 = _______________\n",
    "\n",
    "_______________________"
   ]
  },
  {
   "cell_type": "markdown",
   "id": "ff52374b",
   "metadata": {},
   "source": [
    "**Observations:____**"
   ]
  },
  {
   "cell_type": "markdown",
   "id": "e0323550",
   "metadata": {},
   "source": [
    "**Let's see if we can get a better model by tuning the random forest classifier**"
   ]
  },
  {
   "cell_type": "markdown",
   "id": "89564ea2",
   "metadata": {},
   "source": [
    "### **Random Forest Classifier - Hyperparameter Tuning**"
   ]
  },
  {
   "cell_type": "markdown",
   "id": "416f964b",
   "metadata": {},
   "source": [
    "Let's try **tuning some of the important hyperparameters of the Random Forest Classifier**. \n",
    "\n",
    "We will **not** tune the `criterion` hyperparameter as we know from hyperparameter tuning for decision trees that `entropy` is a better splitting criterion for this data."
   ]
  },
  {
   "cell_type": "code",
   "execution_count": 40,
   "id": "90fb6640",
   "metadata": {},
   "outputs": [],
   "source": [
    "# Choose the type of classifier\n",
    "rf_estimator_tuned = RandomForestClassifier(criterion = \"entropy\", random_state = 7)\n",
    "\n",
    "# Grid of parameters to choose from\n",
    "parameters = {\"n_estimators\": [100, 110, 120],\n",
    "    \"max_depth\": [5, 6, 7],\n",
    "    \"max_features\": [0.8, 0.9, 1]\n",
    "             }\n",
    "\n",
    "# Type of scoring used to compare parameter combinations - recall score for class 1\n",
    "scorer = metrics.make_scorer(recall_score, pos_label = 1)\n",
    "\n",
    "# Run the grid search\n",
    "grid_obj = GridSearchCV(rf_estimator_tuned, parameters, scoring = scorer, cv = 5)\n",
    "\n",
    "grid_obj = grid_obj.fit(X_train, y_train)\n",
    "\n",
    "# Set the classifier to the best combination of parameters\n",
    "rf_estimator_tuned = grid_obj.best_estimator_"
   ]
  },
  {
   "cell_type": "code",
   "execution_count": 41,
   "id": "4d4b43ef",
   "metadata": {},
   "outputs": [
    {
     "data": {
      "text/plain": [
       "RandomForestClassifier(criterion='entropy', max_depth=6, max_features=0.8,\n",
       "                       n_estimators=110, random_state=7)"
      ]
     },
     "execution_count": 41,
     "metadata": {},
     "output_type": "execute_result"
    }
   ],
   "source": [
    "# Fitting the best algorithm to the training data\n",
    "rf_estimator_tuned.fit(X_train, y_train)"
   ]
  },
  {
   "cell_type": "code",
   "execution_count": 42,
   "id": "9f47950f",
   "metadata": {},
   "outputs": [
    {
     "name": "stdout",
     "output_type": "stream",
     "text": [
      "              precision    recall  f1-score   support\n",
      "\n",
      "           0       0.91      0.92      0.91      2273\n",
      "           1       0.80      0.78      0.79       955\n",
      "\n",
      "    accuracy                           0.88      3228\n",
      "   macro avg       0.86      0.85      0.85      3228\n",
      "weighted avg       0.88      0.88      0.88      3228\n",
      "\n"
     ]
    },
    {
     "data": {
      "image/png": "[encoded data removed]",
      "text/plain": [
       "<Figure size 576x360 with 2 Axes>"
      ]
     },
     "metadata": {
      "needs_background": "light"
     },
     "output_type": "display_data"
    }
   ],
   "source": [
    "# Checking performance on the training data\n",
    "y_pred_train4 = rf_estimator_tuned.predict(X_train)\n",
    "\n",
    "metrics_score(y_train, y_pred_train4)"
   ]
  },
  {
   "cell_type": "markdown",
   "id": "2f8caa9b",
   "metadata": {},
   "source": [
    "**Observations:**\n",
    "- We can see that after hyperparameter tuning, the model is performing poorly on the train data as well.\n",
    "- We can try adding some other hyperparameters and/or changing values of some hyperparameters to tune the model and see if we can get better performance.\n",
    "\n",
    "**Note:** **GridSearchCV can take a long time to run** depending on the number of hyperparameters and the number of values tried for each hyperparameter. **Therefore, we have reduced the number of values passed to each hyperparameter.** "
   ]
  },
  {
   "cell_type": "markdown",
   "id": "26f7a57b",
   "metadata": {},
   "source": [
    "### **Question 7:**\n",
    "- **Tune the random forest classifier using GridSearchCV (2 Marks)**\n",
    "- **Check the performance on both training and testing datasets (2 Marks)**\n",
    "- **Compare the results with the results from the random forest model with default parameters and write your observations (2 Marks)**"
   ]
  },
  {
   "cell_type": "markdown",
   "id": "dc36a771",
   "metadata": {},
   "source": [
    "**Note:** The below code might take some time to run depending on your system's configuration."
   ]
  },
  {
   "cell_type": "code",
   "execution_count": 43,
   "id": "ca7480f8",
   "metadata": {},
   "outputs": [],
   "source": [
    "# Choose the type of classifier \n",
    "rf_estimator_tuned = RandomForestClassifier(criterion = \"entropy\", random_state = 7)\n",
    "\n",
    "# Grid of parameters to choose from\n",
    "parameters = {\"n_estimators\": [110, 120],\n",
    "    \"max_depth\": [6, 7],\n",
    "    \"min_samples_leaf\": [20, 25],\n",
    "    \"max_features\": [0.8, 0.9],\n",
    "    \"max_samples\": [0.9, 1],\n",
    "    \"class_weight\": [{0: 0.7, 1: 0.3}, \"balanced\", {0: 0.4, 1: 0.1}]\n",
    "             }\n",
    "\n",
    "# Type of scoring used to compare parameter combinations - recall score for class 1\n",
    "scorer = metrics.make_scorer(recall_score, pos_label = 1)\n",
    "\n",
    "# Run the grid search on the training data using scorer=scorer and cv=5\n",
    "grid_obj = __________________\n",
    "\n",
    "grid_obj = __________________\n",
    "\n",
    "# Save the best estimator to variable rf_estimator_tuned\n",
    "rf_estimator_tuned = ________________\n",
    "\n",
    "#Fit the best estimator to the training data\n",
    "rf_estimator_tuned.______________"
   ]
  },
  {
   "cell_type": "markdown",
   "id": "bf260dfe",
   "metadata": {},
   "source": [
    "**Let's check the performance of the tuned model**"
   ]
  },
  {
   "cell_type": "code",
   "execution_count": null,
   "id": "86247282",
   "metadata": {},
   "outputs": [],
   "source": [
    "# Checking performance on the training data\n",
    "y_pred_train5 = ______________\n",
    "\n",
    "_________________"
   ]
  },
  {
   "cell_type": "markdown",
   "id": "0d000e4b",
   "metadata": {},
   "source": [
    "**Observations:________**"
   ]
  },
  {
   "cell_type": "markdown",
   "id": "7f48144d",
   "metadata": {},
   "source": [
    "**Let's check the model performance on the test data**"
   ]
  },
  {
   "cell_type": "code",
   "execution_count": null,
   "id": "80da7bf8",
   "metadata": {},
   "outputs": [],
   "source": [
    "# Checking performance on the test data\n",
    "y_pred_test5 = _______________\n",
    "\n",
    "______________________"
   ]
  },
  {
   "cell_type": "markdown",
   "id": "d36b4576",
   "metadata": {},
   "source": [
    "**Observations:___________**"
   ]
  },
  {
   "cell_type": "markdown",
   "id": "cd8186f0",
   "metadata": {},
   "source": [
    "**One of the drawbacks of ensemble models is that we lose the ability to obtain an interpretation of the model. We cannot observe the decision rules for random forests the way we did for decision trees. So, let's just check the feature importance of the model.**"
   ]
  },
  {
   "cell_type": "code",
   "execution_count": 47,
   "id": "3071692a",
   "metadata": {},
   "outputs": [
    {
     "data": {
      "image/png": "[encoded data removed]",
      "text/plain": [
       "<Figure size 864x864 with 1 Axes>"
      ]
     },
     "metadata": {
      "needs_background": "light"
     },
     "output_type": "display_data"
    }
   ],
   "source": [
    "importances = rf_estimator_tuned.feature_importances_\n",
    "\n",
    "indices = np.argsort(importances)\n",
    "\n",
    "feature_names = list(X.columns)\n",
    "\n",
    "plt.figure(figsize = (12, 12))\n",
    "\n",
    "plt.title('Feature Importances')\n",
    "\n",
    "plt.barh(range(len(indices)), importances[indices], color = 'violet', align = 'center')\n",
    "\n",
    "plt.yticks(range(len(indices)), [feature_names[i] for i in indices])\n",
    "\n",
    "plt.xlabel('Relative Importance')\n",
    "\n",
    "plt.show()"
   ]
  },
  {
   "cell_type": "markdown",
   "id": "bd87f4ed",
   "metadata": {},
   "source": [
    "**Observations:**\n",
    "- Similar to the decision tree model, **time spent on website, first_interaction_website, profile_completed, and age are the top four features** that help distinguish between not converted and converted leads.\n",
    "- Unlike the decision tree, **the random forest gives some importance to other variables like occupation, page_views_per_visit, as well.** This implies that the random forest is giving importance to more factors in comparison to the decision tree."
   ]
  },
  {
   "cell_type": "markdown",
   "id": "c5fcd78f",
   "metadata": {},
   "source": [
    "## **Conclusion and Recommendations**"
   ]
  },
  {
   "cell_type": "markdown",
   "id": "ddcceb4a",
   "metadata": {},
   "source": [
    "### **Question 8:**\n",
    "\n",
    "**Write your conclusions on the key factors that drive the conversion of leads and write your recommendations to the business on how can they improve the conversion rate. (5 Marks)**"
   ]
  },
  {
   "cell_type": "markdown",
   "id": "8d3ef0a2",
   "metadata": {},
   "source": [
    "### **Conclusions:________**"
   ]
  },
  {
   "cell_type": "markdown",
   "id": "2c802093",
   "metadata": {},
   "source": [
    "### **Business Recommendations_____**"
   ]
  }
 ],
 "metadata": {
  "kernelspec": {
   "display_name": "Python 3 (ipykernel)",
   "language": "python",
   "name": "python3"
  },
  "language_info": {
   "codemirror_mode": {
    "name": "ipython",
    "version": 3
   },
   "file_extension": ".py",
   "mimetype": "text/x-python",
   "name": "python",
   "nbconvert_exporter": "python",
   "pygments_lexer": "ipython3",
   "version": "3.9.7"
  }
 },
 "nbformat": 4,
 "nbformat_minor": 5
}
