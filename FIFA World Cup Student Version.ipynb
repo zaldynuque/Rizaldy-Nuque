{
 "cells": [
  {
   "cell_type": "markdown",
   "metadata": {},
   "source": [
    "<span style=\"font-family: Arial; font-weight:bold;font-size:2.3em;color:#fff;\">------------------\n",
    "\n",
    "<span style=\"font-family: Arial; font-weight:bold;font-size:2.3em;color:#fff;\">------------------\n",
    "<span style=\"font-family: Arial; font-weight:bold;font-size:2.3em;color:#fa9200;\">FIFA World Cup\n",
    "    \n",
    " \n",
    "    "
   ]
  },
  {
   "cell_type": "markdown",
   "metadata": {},
   "source": [
    "<span style=\"font-family: Arial; font-weight:bold;font-size:2em;color:#0ab6fa\">Dataset Information:-"
   ]
  },
  {
   "cell_type": "markdown",
   "metadata": {},
   "source": [
    "The FIFA World Cup is a global football competition contested by the various football-playing nations of the world. It is contested every four years and is the most prestigious and important trophy in the sport of football.\n",
    "\n",
    "The FIFA World Cup, often simply called the World Cup, is an international association football competition contested by the senior men's national teams of the members of the Fédération Internationale de Football Association (FIFA), the sport's global governing body. The championship has been awarded every four years since the inaugural tournament in 1930, except in 1942 and 1946 when it was not held because of the Second World War."
   ]
  },
  {
   "cell_type": "markdown",
   "metadata": {},
   "source": [
    "The World Cups dataset shows all information about all the World Cups in history till 2014, while the World Cup Matches dataset shows all the results from the matches contested as part of the cups."
   ]
  },
  {
   "cell_type": "markdown",
   "metadata": {},
   "source": [
    "<span style=\"font-family: Arial; font-weight:bold;font-size:2em;color:#0ab6fa\">Problem Statement:-\n",
    "    \n",
    "    \n",
    "\n",
    "A new football club named ‘Brussels United FC’ has just been inaugurated. As a member of this club, you have been assigned a task to carry analysis on matches, players, and world cup data. Here we need to analyze the countries which have won the world cup the most with attendance, goal, and matches per cup based on cities. Also distribution of home and away goals. Whether playing in the home country is a factor for winning or not?\n",
    "\n",
    "**Steps needs to be followed-**\n",
    "\n",
    "\n",
    "* Total goals scored by year\n",
    "* Total matches played and qualified teams by year\n",
    "* Matches with the highest number of attendance\n",
    "* Cities that hosted highest world cup matches\n",
    "* Average attendance by city\n",
    "* Teams with the most world cup final victories\n",
    "* World cup final results by nation\n",
    "* Match outcomes by home and away teams"
   ]
  },
  {
   "attachments": {},
   "cell_type": "markdown",
   "metadata": {},
   "source": [
    "<span style=\"font-family: Arial; font-weight:bold;font-size:2em;color:#0ab6fa\">Data Definition:-\n",
    "\n",
    "<span style=\"font-family: Arial; font-weight:bold;font-size:1.5em;color:#0ab6fa\">1. World Cup Matches Dataset\n",
    "\n",
    "**Year**: The year in which the match was played\n",
    "\n",
    "**Datetime**: The Date on which the match was played along with a 24 hour format time\n",
    "\n",
    "**Stage**: The stage at which the match was played\n",
    "\n",
    "**Stadium**: Stadium name where the match was held\n",
    "\n",
    "**City**: The city name, where the match was played\n",
    "\n",
    "**Home Team Name**: Home team country name\n",
    "\n",
    "**Home Team Goals**: Total goals scored by the home team by the end of the match\n",
    "\n",
    "**Away Team Goals**: Total goals scored by the away team by the end of the match\n",
    "\n",
    "**Away Team Name**: Away team country name\n",
    "\n",
    "**Win conditions**: Special win condition (if any)\n",
    "\n",
    "**Attendance**: Total crowd present at the stadium\n",
    "\n",
    "**Half-time Home Goals**: Goals scored by the home team until half time\n",
    "\n",
    "**Half-time Away Goals**: Goals scored by the away team until half time\n",
    "\n",
    "**Referee**: Name of the first referee\n",
    "\n",
    "**Assistant 1**: Name of the first assistant referee (linesman)\n",
    "\n",
    "**Assistant 2**: Name of the second assistant referee (linesman)\n",
    "\n",
    "**RoundID**: Unique ID of the Round\n",
    "\n",
    "**MatchID**: Unique ID of the Match\n",
    "\n",
    "**Home Team Initials**: Home team country's three letter initials\n",
    "\n",
    "**Away Team Initials**: Away team country's three left\n",
    "\n",
    "<span style=\"font-family: Arial; font-weight:bold;font-size:1.5em;color:#0ab6fa\">2. World Cup Players Dataset\n",
    "    \n",
    "\n",
    "**RoundID**: Unique ID of the Round\n",
    "\n",
    "**MatchID**: Unique ID of the Match\n",
    "\n",
    "**Team Initials**: Player's team country's three letter initials\n",
    "    \n",
    "**Coach Name**: Player's coach name\n",
    "    \n",
    "**Line-up**: Indicates whether the player was in the starting line-up or not\n",
    "    \n",
    "**Shirt Number**: Player's shirt number\n",
    "    \n",
    "**Player Name**: Player's name\n",
    "    \n",
    "**Position**: Position that the player played in\n",
    "    \n",
    "**Event**: Important event involving the player (if any)\n",
    "    \n",
    "<span style=\"font-family: Arial; font-weight:bold;font-size:1.5em;color:#0ab6fa\">3. World Cup Dataset\n",
    "    \n",
    "**Year**: Year in which the world cup was held\n",
    "    \n",
    "**Country**: Country where the world cup was held\n",
    "    \n",
    "**Winner**: Team that won the world cup\n",
    "    \n",
    "**Runners-Up**: Team that came second\n",
    "    \n",
    "**Third**: Team that came third\n",
    "    \n",
    "**Fourth**: Team that came fourth\n",
    "    \n",
    "**GoalsScored**: Total goals scored in the world cup\n",
    "    \n",
    "**QualifiedTeams**: Number of teams that qualified for the world cup\n",
    "    \n",
    "**MatchesPlayed**: Total matches played in the world cup\n",
    "    \n",
    "**Attendance**: Total attendance in the world cup"
   ]
  },
  {
   "cell_type": "code",
   "execution_count": 1,
   "metadata": {},
   "outputs": [],
   "source": [
    "#Your Code here"
   ]
  }
 ],
 "metadata": {
  "kernelspec": {
   "display_name": "Python 3",
   "language": "python",
   "name": "python3"
  },
  "language_info": {
   "codemirror_mode": {
    "name": "ipython",
    "version": 3
   },
   "file_extension": ".py",
   "mimetype": "text/x-python",
   "name": "python",
   "nbconvert_exporter": "python",
   "pygments_lexer": "ipython3",
   "version": "3.8.3"
  }
 },
 "nbformat": 4,
 "nbformat_minor": 2
}
