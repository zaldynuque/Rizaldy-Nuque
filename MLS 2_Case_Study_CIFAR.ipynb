{
 "cells": [
  {
   "cell_type": "markdown",
   "metadata": {
    "id": "t1LKB8p3jWXv"
   },
   "source": [
    "--------------------------------------------------------------------------------------\n",
    "# **CIFAR-10 Image Classification**\n",
    "---------------------------------------------------------------------------------------"
   ]
  },
  {
   "cell_type": "markdown",
   "metadata": {
    "id": "i4wjHldi5Lnf"
   },
   "source": [
    "-------------------\n",
    "## **Context**\n",
    "-------------------\n",
    "\n",
    "**CIFAR-10** (Canadian Institute For Advanced Research) is a **collection of images with 10 different classes** representing airplanes, cars, birds, cats, deer, dogs, frogs, horses, ships, and trucks. **CIFAR-10 is a set of images that can be used to teach a computer how to recognize objects.**\n",
    "\n",
    "Since the images in CIFAR-10 are low-resolution (32x32x3), this dataset can allow researchers to quickly try different algorithms to see what works. Various kinds of convolutional neural networks tend to be the best at recognizing the images in CIFAR-10.\n",
    "\n",
    "---------------------\n",
    "## **Objective**\n",
    "---------------------\n",
    "\n",
    "In this case study, we will build a multi-class classification algorithm to predict 10 different classes of the CIFAR-10 dataset using **Convolutional Neural Networks and Transfer Learning**.\n",
    "\n",
    "-------------------\n",
    "## **Dataset**\n",
    "-------------------\n",
    "\n",
    "The CIFAR-10 dataset consists of 60000 32x32x3, i.e., color images in 10 classes, with 6000 images per class. There are 50000 training images and 10000 test images. You can learn more about this dataset here - https://www.cs.toronto.edu/~kriz/cifar.html"
   ]
  },
  {
   "cell_type": "markdown",
   "metadata": {
    "id": "AVGx1739McwF"
   },
   "source": [
    "## **Loading libraries**"
   ]
  },
  {
   "cell_type": "code",
   "execution_count": 1,
   "metadata": {
    "id": "8g1pu5BeBlOe"
   },
   "outputs": [],
   "source": [
    "import keras\n",
    "\n",
    "import numpy as np\n",
    "\n",
    "# A library for data visualization\n",
    "import matplotlib.pyplot as plt\n",
    "\n",
    "# An advanced library for data visualization\n",
    "import seaborn as sns\n",
    "\n",
    "import tensorflow as tf\n",
    "\n",
    "# Keras Sequential Model\n",
    "from tensorflow.keras.models import Sequential\n",
    "\n",
    "# Importing all the different layers and optimizers\n",
    "from tensorflow.keras.layers import Dense, Dropout, Flatten, Conv2D, MaxPooling2D, BatchNormalization, Activation, LeakyReLU\n",
    "\n",
    "from tensorflow.keras.optimizers import Adam"
   ]
  },
  {
   "cell_type": "markdown",
   "metadata": {
    "id": "QQQbdM3PMl7k"
   },
   "source": [
    "## **Importing and loading the CIFAR dataset**"
   ]
  },
  {
   "cell_type": "markdown",
   "metadata": {
    "id": "rVbnTLGUkjpC"
   },
   "source": [
    "The CIFAR dataset is already present in the Keras library in the form of an n-dimensional NumPy array. We will download this dataset from the Keras module here."
   ]
  },
  {
   "cell_type": "code",
   "execution_count": 2,
   "metadata": {
    "colab": {
     "base_uri": "https://localhost:8080/"
    },
    "id": "gXsS0bsfBmGv",
    "outputId": "5ff3250c-5c21-4b38-9ef6-3f679f46b642"
   },
   "outputs": [
    {
     "name": "stdout",
     "output_type": "stream",
     "text": [
      "Downloading data from https://www.cs.toronto.edu/~kriz/cifar-10-python.tar.gz\n",
      "170500096/170498071 [==============================] - 4s 0us/step\n",
      "170508288/170498071 [==============================] - 4s 0us/step\n"
     ]
    }
   ],
   "source": [
    "# Importing the dataset\n",
    "from keras.datasets import cifar10\n",
    "\n",
    "(x_train, y_train), (x_test, y_test) = cifar10.load_data()"
   ]
  },
  {
   "cell_type": "code",
   "execution_count": 3,
   "metadata": {
    "colab": {
     "base_uri": "https://localhost:8080/"
    },
    "id": "PUJuf_oRMxp2",
    "outputId": "de43a2a1-a4d2-4367-8413-3a7d7b4402ac"
   },
   "outputs": [
    {
     "data": {
      "text/plain": [
       "(50000, 32, 32, 3)"
      ]
     },
     "execution_count": 3,
     "metadata": {},
     "output_type": "execute_result"
    }
   ],
   "source": [
    "# Checking the shape of the dataset\n",
    "x_train.shape"
   ]
  },
  {
   "cell_type": "markdown",
   "metadata": {
    "id": "Qcbdl8niM28o"
   },
   "source": [
    "Here the data is stored in a **4-dimensional NumPy array**. The first dimension **50000** is denoting **the number of images in the training data**, and each image is stacked on top of the other as a 3-dimensional NumPy array. The second dimension **32** is denoting **the number of pixels along the x-axis**, **the third dimension 32 is denoting the number of pixels along the y-axis**, and **the fourth dimension 3 is the total number of channels in those images**, i.e., these are colored images consisting of RGB (Red, Green, and Blue) channels."
   ]
  },
  {
   "cell_type": "markdown",
   "metadata": {
    "id": "vkfwqHgrOPg4"
   },
   "source": [
    "Below is the 3-dimensional NumPy representation of the first image in the training data. **Each pixel in the image has 3 values - the intensity of R, G, and B channels**, and the size of each image is 32x32. So, each image is represented by 32 arrays of shape 32x3."
   ]
  },
  {
   "cell_type": "code",
   "execution_count": 4,
   "metadata": {
    "colab": {
     "base_uri": "https://localhost:8080/"
    },
    "id": "5jvdVTFNOKre",
    "outputId": "fcdc3141-7a80-4270-ad2b-71ad77c1171f"
   },
   "outputs": [
    {
     "data": {
      "text/plain": [
       "array([[[ 59,  62,  63],\n",
       "        [ 43,  46,  45],\n",
       "        [ 50,  48,  43],\n",
       "        ...,\n",
       "        [158, 132, 108],\n",
       "        [152, 125, 102],\n",
       "        [148, 124, 103]],\n",
       "\n",
       "       [[ 16,  20,  20],\n",
       "        [  0,   0,   0],\n",
       "        [ 18,   8,   0],\n",
       "        ...,\n",
       "        [123,  88,  55],\n",
       "        [119,  83,  50],\n",
       "        [122,  87,  57]],\n",
       "\n",
       "       [[ 25,  24,  21],\n",
       "        [ 16,   7,   0],\n",
       "        [ 49,  27,   8],\n",
       "        ...,\n",
       "        [118,  84,  50],\n",
       "        [120,  84,  50],\n",
       "        [109,  73,  42]],\n",
       "\n",
       "       ...,\n",
       "\n",
       "       [[208, 170,  96],\n",
       "        [201, 153,  34],\n",
       "        [198, 161,  26],\n",
       "        ...,\n",
       "        [160, 133,  70],\n",
       "        [ 56,  31,   7],\n",
       "        [ 53,  34,  20]],\n",
       "\n",
       "       [[180, 139,  96],\n",
       "        [173, 123,  42],\n",
       "        [186, 144,  30],\n",
       "        ...,\n",
       "        [184, 148,  94],\n",
       "        [ 97,  62,  34],\n",
       "        [ 83,  53,  34]],\n",
       "\n",
       "       [[177, 144, 116],\n",
       "        [168, 129,  94],\n",
       "        [179, 142,  87],\n",
       "        ...,\n",
       "        [216, 184, 140],\n",
       "        [151, 118,  84],\n",
       "        [123,  92,  72]]], dtype=uint8)"
      ]
     },
     "execution_count": 4,
     "metadata": {},
     "output_type": "execute_result"
    }
   ],
   "source": [
    "x_train[0]"
   ]
  },
  {
   "cell_type": "code",
   "execution_count": 5,
   "metadata": {
    "colab": {
     "base_uri": "https://localhost:8080/"
    },
    "id": "8JN88vDAlqld",
    "outputId": "d67b9ad0-4bdf-4a56-df17-d0267f88ae08"
   },
   "outputs": [
    {
     "data": {
      "text/plain": [
       "array([6], dtype=uint8)"
      ]
     },
     "execution_count": 5,
     "metadata": {},
     "output_type": "execute_result"
    }
   ],
   "source": [
    "y_train[0]"
   ]
  },
  {
   "cell_type": "markdown",
   "metadata": {
    "id": "KbESa76slt25"
   },
   "source": [
    "The target labels are encoded in numerical format. Here, encoding 6 denotes the category frog. **We will create a list of category names to convert the number to its original category name.**"
   ]
  },
  {
   "cell_type": "code",
   "execution_count": 6,
   "metadata": {
    "colab": {
     "base_uri": "https://localhost:8080/"
    },
    "id": "oFVdko1zAplm",
    "outputId": "a8e46cf3-a1a6-4e81-9b1d-462ff44cb393"
   },
   "outputs": [
    {
     "data": {
      "text/plain": [
       "(10000, 32, 32, 3)"
      ]
     },
     "execution_count": 6,
     "metadata": {},
     "output_type": "execute_result"
    }
   ],
   "source": [
    "# Checking the shape of the test data\n",
    "x_test.shape"
   ]
  },
  {
   "cell_type": "markdown",
   "metadata": {
    "id": "VeLBinxebDX7"
   },
   "source": [
    "- There are **10,000 images in the test data**."
   ]
  },
  {
   "cell_type": "markdown",
   "metadata": {
    "id": "D19_wFTVQAWg"
   },
   "source": [
    "## **Converting NumPy arrays to images and visualizing some random images**"
   ]
  },
  {
   "cell_type": "markdown",
   "metadata": {
    "id": "oYKVrc-zlEsv"
   },
   "source": [
    "As we saw above, all the images are stored as NumPy arrays, and values in the array denote the pixel intensities of the image. We can use matplotlib's **imshow** function to visualize the image from NumPy arrays. Below we are plotting a few random images from the dataset, to see what the images look like."
   ]
  },
  {
   "cell_type": "code",
   "execution_count": 7,
   "metadata": {
    "id": "zEPZTcFsBIZM"
   },
   "outputs": [],
   "source": [
    "# Declaring the number of classes\n",
    "num_classes = 10\n",
    "\n",
    "# Creating a list of category names in alphabetical order\n",
    "cifar10_classes = [\"airplane\", \"automobile\", \"bird\", \"cat\", \"deer\", \"dog\", \"frog\", \"horse\", \"ship\", \"truck\"]"
   ]
  },
  {
   "cell_type": "code",
   "execution_count": 8,
   "metadata": {
    "colab": {
     "base_uri": "https://localhost:8080/",
     "height": 492
    },
    "id": "Fd_Ok9g7BO-X",
    "outputId": "25a19294-53fe-4579-8fe7-f762942f8606"
   },
   "outputs": [
    {
     "data": {
      "image/png": "[encoded data removed]",
      "text/plain": [
       "<Figure size 720x576 with 12 Axes>"
      ]
     },
     "metadata": {
      "needs_background": "light"
     },
     "output_type": "display_data"
    }
   ],
   "source": [
    "# Declaring the number of rows\n",
    "rows = 3\n",
    "\n",
    "# Declaring the number of columns\n",
    "cols = 4\n",
    "\n",
    "fig = plt.figure(figsize = (10, 8))\n",
    "\n",
    "for i in range(cols):\n",
    "\n",
    "    for j in range(rows):\n",
    "\n",
    "        random_index = np.random.randint(0, len(y_train))\n",
    "\n",
    "        ax = fig.add_subplot(rows, cols, i * rows + j + 1)\n",
    "\n",
    "        ax.imshow(x_train[random_index, :])\n",
    "\n",
    "        ax.set_title(cifar10_classes[y_train[random_index, 0]])\n",
    "\n",
    "# Display the plot\n",
    "plt.show()"
   ]
  },
  {
   "cell_type": "markdown",
   "metadata": {
    "id": "8cdXeSMgQXUA"
   },
   "source": [
    "## **Data Preparation**"
   ]
  },
  {
   "cell_type": "markdown",
   "metadata": {
    "id": "GqHqJmQxmj8W"
   },
   "source": [
    "In neural networks, it is always suggested to **normalize the feature inputs**. Normalization has the below benefits while training a neural network model: \n",
    "\n",
    "1. **Normalization makes the training faster and reduces the chances of getting stuck at local optima.**\n",
    "2. Also, **weight decay and estimation can be done more conveniently** with normalized inputs.\n",
    "3. In deep neural networks, **normalization helps to avoid exploding gradient problems.** Gradient exploding problem occurs when large error gradients accumulate and result in very large updates to neural network model weights during training. This makes a model unstable and unable to learn from the training data."
   ]
  },
  {
   "cell_type": "markdown",
   "metadata": {
    "id": "QkvuUR5apH5C"
   },
   "source": [
    "As we know, image pixel **values range from 0 - 255**, so we are simply **dividing all the pixel values by 255 to standardize all the images to have values between 0 - 1.**"
   ]
  },
  {
   "cell_type": "code",
   "execution_count": 9,
   "metadata": {
    "id": "xRU93r1FB-t3"
   },
   "outputs": [],
   "source": [
    "# Normalizing the image pixels\n",
    "x_train_normalized = x_train/255\n",
    "\n",
    "x_test_normalized = x_test/255"
   ]
  },
  {
   "cell_type": "markdown",
   "metadata": {
    "id": "bF-SawytpZbG"
   },
   "source": [
    "Since this is a **10 class classification problem**, the output layer should have **10 neurons**, which will provide us with the probabilities of the input image belonging to each of those 10 classes. Therefore, we also need to create a **one-hot encoded representation for the target classes.**"
   ]
  },
  {
   "cell_type": "code",
   "execution_count": 10,
   "metadata": {
    "id": "Gfm1zlLmQcLd"
   },
   "outputs": [],
   "source": [
    "# Creating one-hot encoded representation of target labels\n",
    "\n",
    "# We can do this by using this utility function - https://www.tensorflow.org/api_docs/python/tf/keras/utils/to_categorical\n",
    "y_train_encoded = tf.keras.utils.to_categorical(y_train)\n",
    "\n",
    "y_test_encoded = tf.keras.utils.to_categorical(y_test)"
   ]
  },
  {
   "cell_type": "markdown",
   "metadata": {
    "id": "Cev0I5MpRB84"
   },
   "source": [
    "## **Model Building**"
   ]
  },
  {
   "cell_type": "markdown",
   "metadata": {
    "id": "qno43xABp8oz"
   },
   "source": [
    "Let's now create a CNN model sequentially where we will be adding the layers one after another."
   ]
  },
  {
   "cell_type": "markdown",
   "metadata": {
    "id": "xFuQzCq3j19x"
   },
   "source": [
    "First, let's **set the seed for random number generators in NumPy, Python, and TensorFlow** to be able to reproduce the same results every time we run the code."
   ]
  },
  {
   "cell_type": "code",
   "execution_count": 11,
   "metadata": {
    "id": "rJjQnhvtj3ed"
   },
   "outputs": [],
   "source": [
    "# Fixing the seed for random number generators\n",
    "np.random.seed(42)\n",
    "\n",
    "import random\n",
    "\n",
    "random.seed(42)\n",
    "\n",
    "tf.random.set_seed(42)"
   ]
  },
  {
   "cell_type": "markdown",
   "metadata": {
    "id": "ib7sjXKzkoAI"
   },
   "source": [
    "Let's build a **CNN model with Leaky Rectified Linear Unit (LeakyRelu)** as the activation function. LeakyReLU is a type of activation function based on a ReLU, but it has a small slope for negative values instead of a flat slope. The slope coefficient is determined before training, i.e., it is not learned during training."
   ]
  },
  {
   "cell_type": "markdown",
   "metadata": {
    "id": "vojrKoZ5sDkj"
   },
   "source": [
    "**Note:**\n",
    "- In Keras, the input must be 4-dimensional to pass them to a CNN model.\n",
    "- Here, we already have a 4-dimensional input as these are colored images.\n",
    "- In the case of grayscale images, we must reshape the input features to specifically mention that we have only 1 channel, i.e., gray."
   ]
  },
  {
   "cell_type": "code",
   "execution_count": 12,
   "metadata": {
    "id": "jfkL9lliRNWH"
   },
   "outputs": [],
   "source": [
    "# Initialized a sequential model\n",
    "model_1 = Sequential()\n",
    "\n",
    "# Adding the first convolutional layer with 16 filters and the kernel size of 3x3, and 'same' padding\n",
    "\n",
    "# The input_shape denotes input dimension of CIFAR images\n",
    "model_1.add(Conv2D(filters = 16, kernel_size = (3, 3), padding = \"same\", input_shape = (32, 32, 3)))\n",
    "\n",
    "# Adding LeakyRelu activation function with a negative slope of 0.1\n",
    "model_1.add(LeakyReLU(0.1))\n",
    "\n",
    "# Adding the second convolutional layer with 32 filters and the kernel size of 3x3\n",
    "model_1.add(Conv2D(filters = 32, kernel_size = (3, 3), padding = 'same'))\n",
    "\n",
    "# Adding LeakyRelu activation function with a negative slope of 0.1\n",
    "model_1.add(LeakyReLU(0.1))\n",
    "    \n",
    "# Adding max pooling to reduce the size of the output of second convolutional layer\n",
    "model_1.add(MaxPooling2D(pool_size = (2, 2)))\n",
    "    \n",
    "# Flattening the 3-d output of the convolutional layer after max pooling to make it ready for creating dense connections\n",
    "model_1.add(Flatten())\n",
    "\n",
    "# Adding a fully connected dense layer with 256 neurons    \n",
    "model_1.add(Dense(256))\n",
    "\n",
    "# Adding LeakyRelu activation function with a negative slope of 0.1\n",
    "model_1.add(LeakyReLU(0.1))\n",
    "\n",
    "# Adding the output layer with 10 neurons and 'softmax' activation function (for a multi-class classification problem)\n",
    "model_1.add(Dense(10, activation = 'softmax'))"
   ]
  },
  {
   "cell_type": "code",
   "execution_count": 13,
   "metadata": {
    "colab": {
     "base_uri": "https://localhost:8080/"
    },
    "id": "ZdPXI2DjCRQZ",
    "outputId": "67b5b0e4-06d7-4e5d-e94d-9067356972da"
   },
   "outputs": [
    {
     "name": "stdout",
     "output_type": "stream",
     "text": [
      "Model: \"sequential\"\n",
      "_________________________________________________________________\n",
      " Layer (type)                Output Shape              Param #   \n",
      "=================================================================\n",
      " conv2d (Conv2D)             (None, 32, 32, 16)        448       \n",
      "                                                                 \n",
      " leaky_re_lu (LeakyReLU)     (None, 32, 32, 16)        0         \n",
      "                                                                 \n",
      " conv2d_1 (Conv2D)           (None, 32, 32, 32)        4640      \n",
      "                                                                 \n",
      " leaky_re_lu_1 (LeakyReLU)   (None, 32, 32, 32)        0         \n",
      "                                                                 \n",
      " max_pooling2d (MaxPooling2D  (None, 16, 16, 32)       0         \n",
      " )                                                               \n",
      "                                                                 \n",
      " flatten (Flatten)           (None, 8192)              0         \n",
      "                                                                 \n",
      " dense (Dense)               (None, 256)               2097408   \n",
      "                                                                 \n",
      " leaky_re_lu_2 (LeakyReLU)   (None, 256)               0         \n",
      "                                                                 \n",
      " dense_1 (Dense)             (None, 10)                2570      \n",
      "                                                                 \n",
      "=================================================================\n",
      "Total params: 2,105,066\n",
      "Trainable params: 2,105,066\n",
      "Non-trainable params: 0\n",
      "_________________________________________________________________\n"
     ]
    }
   ],
   "source": [
    "# Printing the model summary\n",
    "model_1.summary()"
   ]
  },
  {
   "cell_type": "markdown",
   "metadata": {
    "id": "F7RB4Zl4sP9z"
   },
   "source": [
    "As we can see from the above summary, this CNN model will train and learn **2,105,066 parameters (weights and biases).**"
   ]
  },
  {
   "cell_type": "markdown",
   "metadata": {
    "id": "SfL_GQcAsdYL"
   },
   "source": [
    "Let's now compile and train the model using the train data. Here, we are using the loss function - **categorical_crossentropy** as this is a multi-class classification problem. We will try to minimize this loss at every iteration using the **optimizer** of our choice. Also, we are choosing **accuracy** as the metric to measure the performance of the model."
   ]
  },
  {
   "cell_type": "code",
   "execution_count": 14,
   "metadata": {
    "id": "hg9-QaAVS0CD"
   },
   "outputs": [],
   "source": [
    "model_1.compile(\n",
    "    \n",
    "    loss = 'categorical_crossentropy',\n",
    "    \n",
    "    # Using Adam optimizer with 0.005 learning rate, by default it is 0.001\n",
    "    optimizer = tf.keras.optimizers.Adamax(learning_rate = 0.005),\n",
    "    \n",
    "    metrics=['accuracy']\n",
    ")"
   ]
  },
  {
   "cell_type": "code",
   "execution_count": 15,
   "metadata": {
    "colab": {
     "base_uri": "https://localhost:8080/"
    },
    "id": "PWeXlWsNCeYi",
    "outputId": "3879d5fa-6562-4919-9658-736a8853e74c"
   },
   "outputs": [
    {
     "name": "stdout",
     "output_type": "stream",
     "text": [
      "Epoch 1/10\n",
      "1407/1407 - 19s - loss: 1.3551 - accuracy: 0.5157 - val_loss: 1.0576 - val_accuracy: 0.6206 - 19s/epoch - 13ms/step\n",
      "Epoch 2/10\n",
      "1407/1407 - 9s - loss: 0.9225 - accuracy: 0.6753 - val_loss: 0.9056 - val_accuracy: 0.6880 - 9s/epoch - 6ms/step\n",
      "Epoch 3/10\n",
      "1407/1407 - 9s - loss: 0.6909 - accuracy: 0.7562 - val_loss: 0.9105 - val_accuracy: 0.6990 - 9s/epoch - 6ms/step\n",
      "Epoch 4/10\n",
      "1407/1407 - 9s - loss: 0.4753 - accuracy: 0.8357 - val_loss: 0.9843 - val_accuracy: 0.6982 - 9s/epoch - 6ms/step\n",
      "Epoch 5/10\n",
      "1407/1407 - 9s - loss: 0.2814 - accuracy: 0.9044 - val_loss: 1.0863 - val_accuracy: 0.7106 - 9s/epoch - 6ms/step\n",
      "Epoch 6/10\n",
      "1407/1407 - 9s - loss: 0.1533 - accuracy: 0.9496 - val_loss: 1.4088 - val_accuracy: 0.6936 - 9s/epoch - 7ms/step\n",
      "Epoch 7/10\n",
      "1407/1407 - 9s - loss: 0.0839 - accuracy: 0.9727 - val_loss: 1.6588 - val_accuracy: 0.6998 - 9s/epoch - 6ms/step\n",
      "Epoch 8/10\n",
      "1407/1407 - 9s - loss: 0.0525 - accuracy: 0.9836 - val_loss: 1.9140 - val_accuracy: 0.6970 - 9s/epoch - 7ms/step\n",
      "Epoch 9/10\n",
      "1407/1407 - 9s - loss: 0.0337 - accuracy: 0.9892 - val_loss: 1.9631 - val_accuracy: 0.6938 - 9s/epoch - 6ms/step\n",
      "Epoch 10/10\n",
      "1407/1407 - 9s - loss: 0.0290 - accuracy: 0.9909 - val_loss: 2.1622 - val_accuracy: 0.6946 - 9s/epoch - 6ms/step\n"
     ]
    }
   ],
   "source": [
    "history_1 = model_1.fit(\n",
    "    \n",
    "            x_train_normalized, y_train_encoded,\n",
    "            \n",
    "            epochs = 10,\n",
    "            \n",
    "            validation_split = 0.1,\n",
    "            \n",
    "            shuffle = True,\n",
    "            \n",
    "            verbose = 2\n",
    ")"
   ]
  },
  {
   "cell_type": "code",
   "execution_count": 16,
   "metadata": {
    "colab": {
     "base_uri": "https://localhost:8080/",
     "height": 295
    },
    "id": "XgrY0780yscb",
    "outputId": "acf51e78-f9d3-4415-8ba5-b17b38ee080e"
   },
   "outputs": [
    {
     "data": {
      "image/png": "[encoded data removed]",
      "text/plain": [
       "<Figure size 432x288 with 1 Axes>"
      ]
     },
     "metadata": {
      "needs_background": "light"
     },
     "output_type": "display_data"
    }
   ],
   "source": [
    "plt.plot(history_1.history['accuracy'])\n",
    "\n",
    "plt.plot(history_1.history['val_accuracy'])\n",
    "\n",
    "plt.title('Model Accuracy')\n",
    "\n",
    "plt.ylabel('Accuracy')\n",
    "\n",
    "plt.xlabel('Epoch')\n",
    "\n",
    "plt.legend(['Train', 'Validation'], loc = 'upper left')\n",
    "\n",
    "# Display the plot\n",
    "plt.show()"
   ]
  },
  {
   "cell_type": "markdown",
   "metadata": {
    "id": "pq4P01pszDkP"
   },
   "source": [
    "**Observations:** \n",
    "\n",
    "- We can see from the above plot that the model has done poorly on the validation data. The model is highly overfitting the training data. \n",
    "- The validation accuracy has become more or less constant after 2 epochs.\n",
    "\n",
    "Let's try adding a few dropout layers to the model structure to reduce overfitting and see if this improves the model or not."
   ]
  },
  {
   "cell_type": "markdown",
   "metadata": {
    "id": "0HmdpOhFqtHD"
   },
   "source": [
    "First, we need to clear the previous model's history from the session. In Keras, we need special command to clear the model's history, otherwise, the previous model history remains in the backend.\n",
    "\n",
    "Also, let's fix the seed again after clearing the backend."
   ]
  },
  {
   "cell_type": "code",
   "execution_count": 17,
   "metadata": {
    "id": "tVdO3htxq4Vp"
   },
   "outputs": [],
   "source": [
    "# Clearing the backend\n",
    "from tensorflow.keras import backend\n",
    "\n",
    "backend.clear_session()"
   ]
  },
  {
   "cell_type": "code",
   "execution_count": 18,
   "metadata": {
    "id": "jeZxhu7-q4bY"
   },
   "outputs": [],
   "source": [
    "# Fixing the seed for random number generators\n",
    "np.random.seed(42)\n",
    "\n",
    "import random\n",
    "\n",
    "random.seed(42)\n",
    "\n",
    "tf.random.set_seed(42)"
   ]
  },
  {
   "cell_type": "code",
   "execution_count": 19,
   "metadata": {
    "id": "0zsE9daOzC3u"
   },
   "outputs": [],
   "source": [
    "# Initialized a sequential model\n",
    "model_2 = Sequential()\n",
    "\n",
    "# Adding the first convolutional layer with 16 filters and the kernel size of 3x3, and 'same' padding\n",
    "\n",
    "# The input_shape denotes the input dimension of CIFAR images\n",
    "model_2.add(Conv2D(filters = 16, kernel_size = (3, 3), padding = \"same\", input_shape = (32, 32, 3)))\n",
    "\n",
    "# Adding LeakyRelu activation function with a negative slope of 0.1\n",
    "model_2.add(LeakyReLU(0.1))\n",
    "\n",
    "# Adding dropout to randomly switch off 20% neurons to reduce overfitting\n",
    "model_2.add(Dropout(0.2))\n",
    "\n",
    "# Adding the second convolutional layer with 32 filters and the kernel size of 3x3\n",
    "model_2.add(Conv2D(filters = 32, kernel_size = (3, 3), padding = 'same'))\n",
    "\n",
    "# Adding LeakyRelu activation function with a negative slope of 0.1\n",
    "model_2.add(LeakyReLU(0.1))\n",
    "\n",
    "# Adding dropout to randomly switch off 20% neurons to reduce overfitting\n",
    "model_2.add(Dropout(0.2))\n",
    "    \n",
    "# Adding max pooling to reduce the size of output of second convolutional layer\n",
    "model_2.add(MaxPooling2D(pool_size = (2, 2)))\n",
    "    \n",
    "# Flattening the 3-d output of the convolutional layer after max pooling to make it ready for creating dense connections\n",
    "model_2.add(Flatten())\n",
    "\n",
    "# Adding a fully connected dense layer with 256 neurons    \n",
    "model_2.add(Dense(256))\n",
    "\n",
    "# Adding LeakyRelu activation function with a negative slope of 0.1\n",
    "model_2.add(LeakyReLU(0.1))\n",
    "\n",
    "# Adding dropout to randomly switch off 50% neurons to reduce overfitting\n",
    "model_2.add(Dropout(0.5))\n",
    "\n",
    "# Adding the output layer with 10 neurons and 'softmax'  activation function since this is a multi-class classification problem\n",
    "model_2.add(Dense(10, activation = 'softmax'))"
   ]
  },
  {
   "cell_type": "code",
   "execution_count": 20,
   "metadata": {
    "colab": {
     "base_uri": "https://localhost:8080/"
    },
    "id": "DXDwgPhvzcrC",
    "outputId": "f98f7396-eb8b-4850-cc92-735f8085b72f"
   },
   "outputs": [
    {
     "name": "stdout",
     "output_type": "stream",
     "text": [
      "Model: \"sequential\"\n",
      "_________________________________________________________________\n",
      " Layer (type)                Output Shape              Param #   \n",
      "=================================================================\n",
      " conv2d (Conv2D)             (None, 32, 32, 16)        448       \n",
      "                                                                 \n",
      " leaky_re_lu (LeakyReLU)     (None, 32, 32, 16)        0         \n",
      "                                                                 \n",
      " dropout (Dropout)           (None, 32, 32, 16)        0         \n",
      "                                                                 \n",
      " conv2d_1 (Conv2D)           (None, 32, 32, 32)        4640      \n",
      "                                                                 \n",
      " leaky_re_lu_1 (LeakyReLU)   (None, 32, 32, 32)        0         \n",
      "                                                                 \n",
      " dropout_1 (Dropout)         (None, 32, 32, 32)        0         \n",
      "                                                                 \n",
      " max_pooling2d (MaxPooling2D  (None, 16, 16, 32)       0         \n",
      " )                                                               \n",
      "                                                                 \n",
      " flatten (Flatten)           (None, 8192)              0         \n",
      "                                                                 \n",
      " dense (Dense)               (None, 256)               2097408   \n",
      "                                                                 \n",
      " leaky_re_lu_2 (LeakyReLU)   (None, 256)               0         \n",
      "                                                                 \n",
      " dropout_2 (Dropout)         (None, 256)               0         \n",
      "                                                                 \n",
      " dense_1 (Dense)             (None, 10)                2570      \n",
      "                                                                 \n",
      "=================================================================\n",
      "Total params: 2,105,066\n",
      "Trainable params: 2,105,066\n",
      "Non-trainable params: 0\n",
      "_________________________________________________________________\n"
     ]
    }
   ],
   "source": [
    "# Printing the model summary\n",
    "model_2.summary()"
   ]
  },
  {
   "cell_type": "code",
   "execution_count": 21,
   "metadata": {
    "id": "W4FETGNizjn2"
   },
   "outputs": [],
   "source": [
    "# Compiling the model\n",
    "model_2.compile(\n",
    " \n",
    "    loss = 'categorical_crossentropy',\n",
    "    \n",
    "    optimizer = tf.keras.optimizers.Adamax(learning_rate = 0.005),\n",
    ")"
   ]
  },
  {
   "cell_type": "code",
   "execution_count": 22,
   "metadata": {
    "colab": {
     "base_uri": "https://localhost:8080/"
    },
    "id": "z-yo7xvizpZA",
    "outputId": "c2efa13b-8972-4008-b19d-2953d261d2e0"
   },
   "outputs": [
    {
     "name": "stdout",
     "output_type": "stream",
     "text": [
      "Epoch 1/10\n",
      "1407/1407 - 11s - loss: 1.5545 - accuracy: 0.4451 - val_loss: 1.7006 - val_accuracy: 0.4308 - 11s/epoch - 8ms/step\n",
      "Epoch 2/10\n",
      "1407/1407 - 10s - loss: 1.1775 - accuracy: 0.5825 - val_loss: 1.2222 - val_accuracy: 0.5828 - 10s/epoch - 7ms/step\n",
      "Epoch 3/10\n",
      "1407/1407 - 10s - loss: 1.0168 - accuracy: 0.6428 - val_loss: 1.1596 - val_accuracy: 0.6174 - 10s/epoch - 7ms/step\n",
      "Epoch 4/10\n",
      "1407/1407 - 10s - loss: 0.9153 - accuracy: 0.6762 - val_loss: 1.1593 - val_accuracy: 0.6192 - 10s/epoch - 7ms/step\n",
      "Epoch 5/10\n",
      "1407/1407 - 10s - loss: 0.8393 - accuracy: 0.7048 - val_loss: 1.1708 - val_accuracy: 0.6276 - 10s/epoch - 7ms/step\n",
      "Epoch 6/10\n",
      "1407/1407 - 10s - loss: 0.7721 - accuracy: 0.7272 - val_loss: 1.2177 - val_accuracy: 0.6312 - 10s/epoch - 7ms/step\n",
      "Epoch 7/10\n",
      "1407/1407 - 10s - loss: 0.7122 - accuracy: 0.7492 - val_loss: 1.0574 - val_accuracy: 0.6698 - 10s/epoch - 7ms/step\n",
      "Epoch 8/10\n",
      "1407/1407 - 10s - loss: 0.6680 - accuracy: 0.7627 - val_loss: 0.9645 - val_accuracy: 0.6820 - 10s/epoch - 7ms/step\n",
      "Epoch 9/10\n",
      "1407/1407 - 10s - loss: 0.6168 - accuracy: 0.7808 - val_loss: 1.1259 - val_accuracy: 0.6530 - 10s/epoch - 7ms/step\n",
      "Epoch 10/10\n",
      "1407/1407 - 10s - loss: 0.5861 - accuracy: 0.7942 - val_loss: 1.0098 - val_accuracy: 0.6892 - 10s/epoch - 7ms/step\n"
     ]
    }
   ],
   "source": [
    "# Fitting the model\n",
    "history_2 = model_2.fit(\n",
    "    \n",
    "            x_train_normalized, y_train_encoded,\n",
    "\n",
    "            epochs = 10,\n",
    "            \n",
    "            validation_split = 0.1,\n",
    "\n",
    "            shuffle = True,\n",
    "            \n",
    "            verbose = 2\n",
    ")"
   ]
  },
  {
   "cell_type": "code",
   "execution_count": 23,
   "metadata": {
    "colab": {
     "base_uri": "https://localhost:8080/",
     "height": 295
    },
    "id": "4z5hUlzszpgm",
    "outputId": "6558ad30-aad6-4a8d-802b-ed2ec145716c"
   },
   "outputs": [
    {
     "data": {
      "image/png": "[encoded data removed]",
      "text/plain": [
       "<Figure size 432x288 with 1 Axes>"
      ]
     },
     "metadata": {
      "needs_background": "light"
     },
     "output_type": "display_data"
    }
   ],
   "source": [
    "plt.plot(history_2.history['accuracy'])\n",
    "\n",
    "plt.plot(history_2.history['val_accuracy'])\n",
    "\n",
    "plt.title('Model Accuracy')\n",
    "\n",
    "plt.ylabel('Accuracy')\n",
    "\n",
    "plt.xlabel('Epoch')\n",
    "\n",
    "plt.legend(['Train', 'Validation'], loc = 'upper left')\n",
    "\n",
    "# Display the plot\n",
    "plt.show()"
   ]
  },
  {
   "cell_type": "markdown",
   "metadata": {
    "id": "DO7c23GZz1id"
   },
   "source": [
    "**Observations:** \n",
    "\n",
    "- The second model with dropout layers seems to have reduced the overfitting in comparison to the previous model, but still, the model is not performing well on the validation data. \n",
    "- The validation accuracy has decreased slightly as compared to the previous model.\n",
    "\n",
    "Let's now build another model with a few more convolution layers, max-pooling layers, and dropout layers to reduce overfitting. Also, let's change the learning rate and the number of epochs and see if the model's performance improves."
   ]
  },
  {
   "cell_type": "code",
   "execution_count": 24,
   "metadata": {
    "id": "FxYh6iL4tvHx"
   },
   "outputs": [],
   "source": [
    "# Clearing backend\n",
    "from tensorflow.keras import backend\n",
    "\n",
    "backend.clear_session()"
   ]
  },
  {
   "cell_type": "code",
   "execution_count": 25,
   "metadata": {
    "id": "x3EHgJurtvP7"
   },
   "outputs": [],
   "source": [
    "# Fixing the seed for random number generators\n",
    "np.random.seed(42)\n",
    "\n",
    "import random\n",
    "\n",
    "random.seed(42)\n",
    "\n",
    "tf.random.set_seed(42)"
   ]
  },
  {
   "cell_type": "code",
   "execution_count": 27,
   "metadata": {
    "id": "Fbwty5Owz18k"
   },
   "outputs": [],
   "source": [
    "# Initialized a sequential model\n",
    "model_3 = Sequential()\n",
    "\n",
    "# Adding the first convolutional layer with 16 filters and the kernel size of 3x3, and 'same' padding\n",
    "\n",
    "# The input_shape denotes input dimension of CIFAR images\n",
    "model_3.add(Conv2D(filters = 16, kernel_size = (3, 3), padding = \"same\", input_shape = (32, 32, 3)))\n",
    "\n",
    "# Adding LeakyRelu activation function with a negative slope of 0.1\n",
    "model_3.add(LeakyReLU(0.1))\n",
    "\n",
    "# Adding the second convolutional layer with 32 filters and the kernel size of 3x3\n",
    "model_3.add(Conv2D(filters = 32, kernel_size = (3, 3), padding = 'same'))\n",
    "\n",
    "# Adding LeakyRelu activation function with a negative slope of 0.1\n",
    "model_3.add(LeakyReLU(0.1))\n",
    "    \n",
    "# Adding max pooling to reduce the size of output of the second convolutional layer\n",
    "model_3.add(MaxPooling2D(pool_size = (2, 2)))\n",
    "    \n",
    "# Adding dropout to randomly switch off 25% of the network to reduce overfitting\n",
    "model_3.add(Dropout(0.25))\n",
    "    \n",
    "# Adding the third convolutional layer with 32 filters and the kernel size of 3x3\n",
    "model_3.add(Conv2D(filters = 32, kernel_size = (3, 3), padding = 'same'))\n",
    "\n",
    "# Adding LeakyRelu activation function with a negative slope of 0.1\n",
    "model_3.add(LeakyReLU(0.1))\n",
    "\n",
    "# Adding the fourth convolutional layer with 64 filters and the kernel size of 3x3\n",
    "model_3.add(Conv2D(filters = 64, kernel_size = (3, 3), padding = 'same'))\n",
    "\n",
    "# Adding LeakyRelu activation function with a negative slope of 0.1\n",
    "model_3.add(LeakyReLU(0.1))\n",
    "\n",
    "# Adding max pooling to reduce the size of output of the fourth convolutional layer    \n",
    "model_3.add(MaxPooling2D(pool_size = (2, 2)))\n",
    "    \n",
    "# Adding dropout to randomly switch off 25% of the network to reduce overfitting\n",
    "model_3.add(Dropout(0.25))\n",
    "\n",
    "# Flattening the 3-d output of the convolutional layer after max pooling to make it ready for creating dense connections\n",
    "model_3.add(Flatten())\n",
    "\n",
    "# Adding a fully connected dense layer with 256 neurons    \n",
    "model_3.add(Dense(256))\n",
    "\n",
    "# Adding LeakyRelu activation function with negative slope of 0.1\n",
    "model_3.add(LeakyReLU(0.1))\n",
    "    \n",
    "# Adding dropout to randomly switch off 50% of dense layer neurons to reduce overfitting\n",
    "model_3.add(Dropout(0.5))\n",
    "\n",
    "# Adding the output layer with 10 neurons and 'softmax' activation function since this is a multi-class classification problem\n",
    "model_3.add(Dense(10, activation = 'softmax'))"
   ]
  },
  {
   "cell_type": "code",
   "execution_count": 28,
   "metadata": {
    "colab": {
     "base_uri": "https://localhost:8080/"
    },
    "id": "Fn3i6fm80k9W",
    "outputId": "b8192e01-d5fe-45d9-a613-c8a25787ae6f"
   },
   "outputs": [
    {
     "name": "stdout",
     "output_type": "stream",
     "text": [
      "Model: \"sequential\"\n",
      "_________________________________________________________________\n",
      " Layer (type)                Output Shape              Param #   \n",
      "=================================================================\n",
      " conv2d (Conv2D)             (None, 32, 32, 16)        448       \n",
      "                                                                 \n",
      " leaky_re_lu (LeakyReLU)     (None, 32, 32, 16)        0         \n",
      "                                                                 \n",
      " conv2d_1 (Conv2D)           (None, 32, 32, 32)        4640      \n",
      "                                                                 \n",
      " leaky_re_lu_1 (LeakyReLU)   (None, 32, 32, 32)        0         \n",
      "                                                                 \n",
      " max_pooling2d (MaxPooling2D  (None, 16, 16, 32)       0         \n",
      " )                                                               \n",
      "                                                                 \n",
      " dropout (Dropout)           (None, 16, 16, 32)        0         \n",
      "                                                                 \n",
      " conv2d_2 (Conv2D)           (None, 16, 16, 32)        9248      \n",
      "                                                                 \n",
      " leaky_re_lu_2 (LeakyReLU)   (None, 16, 16, 32)        0         \n",
      "                                                                 \n",
      " conv2d_3 (Conv2D)           (None, 16, 16, 64)        18496     \n",
      "                                                                 \n",
      " leaky_re_lu_3 (LeakyReLU)   (None, 16, 16, 64)        0         \n",
      "                                                                 \n",
      " max_pooling2d_1 (MaxPooling  (None, 8, 8, 64)         0         \n",
      " 2D)                                                             \n",
      "                                                                 \n",
      " dropout_1 (Dropout)         (None, 8, 8, 64)          0         \n",
      "                                                                 \n",
      " flatten (Flatten)           (None, 4096)              0         \n",
      "                                                                 \n",
      " dense (Dense)               (None, 256)               1048832   \n",
      "                                                                 \n",
      " leaky_re_lu_4 (LeakyReLU)   (None, 256)               0         \n",
      "                                                                 \n",
      " dropout_2 (Dropout)         (None, 256)               0         \n",
      "                                                                 \n",
      " dense_1 (Dense)             (None, 10)                2570      \n",
      "                                                                 \n",
      "=================================================================\n",
      "Total params: 1,084,234\n",
      "Trainable params: 1,084,234\n",
      "Non-trainable params: 0\n",
      "_________________________________________________________________\n"
     ]
    }
   ],
   "source": [
    "# Summary of the model\n",
    "model_3.summary()"
   ]
  },
  {
   "cell_type": "markdown",
   "metadata": {
    "id": "DguLgpAZ0rh-"
   },
   "source": [
    "In this new architecture, although **the number of convolutional layers has increased**, but the **total number of trainable parameters has reduced significantly (~ 50%)**. This is due to the addition of a few **max-pooling layers in between**. Let's train this model."
   ]
  },
  {
   "cell_type": "code",
   "execution_count": 30,
   "metadata": {
    "id": "soStr8km0lIt"
   },
   "outputs": [],
   "source": [
    "model_3.compile(\n",
    "    \n",
    "    loss = 'categorical_crossentropy',\n",
    "\n",
    "    optimizer = tf.keras.optimizers.Adamax(learning_rate = 0.001),\n",
    "    \n",
    "    metrics = ['accuracy']\n",
    ")"
   ]
  },
  {
   "cell_type": "code",
   "execution_count": 31,
   "metadata": {
    "colab": {
     "base_uri": "https://localhost:8080/"
    },
    "id": "4vKm-IiB1BcB",
    "outputId": "e8ee4a32-6d63-4196-87bb-e7f0cdfda176"
   },
   "outputs": [
    {
     "name": "stdout",
     "output_type": "stream",
     "text": [
      "Epoch 1/15\n",
      "1407/1407 - 14s - loss: 1.6298 - accuracy: 0.4076 - val_loss: 1.3043 - val_accuracy: 0.5286 - 14s/epoch - 10ms/step\n",
      "Epoch 2/15\n",
      "1407/1407 - 12s - loss: 1.2694 - accuracy: 0.5462 - val_loss: 1.0677 - val_accuracy: 0.6286 - 12s/epoch - 9ms/step\n",
      "Epoch 3/15\n",
      "1407/1407 - 12s - loss: 1.1054 - accuracy: 0.6079 - val_loss: 0.9629 - val_accuracy: 0.6626 - 12s/epoch - 9ms/step\n",
      "Epoch 4/15\n",
      "1407/1407 - 12s - loss: 1.0017 - accuracy: 0.6465 - val_loss: 0.9013 - val_accuracy: 0.6908 - 12s/epoch - 9ms/step\n",
      "Epoch 5/15\n",
      "1407/1407 - 13s - loss: 0.9240 - accuracy: 0.6752 - val_loss: 0.8416 - val_accuracy: 0.7102 - 13s/epoch - 9ms/step\n",
      "Epoch 6/15\n",
      "1407/1407 - 13s - loss: 0.8632 - accuracy: 0.6963 - val_loss: 0.7724 - val_accuracy: 0.7350 - 13s/epoch - 9ms/step\n",
      "Epoch 7/15\n",
      "1407/1407 - 13s - loss: 0.8120 - accuracy: 0.7168 - val_loss: 0.7838 - val_accuracy: 0.7258 - 13s/epoch - 9ms/step\n",
      "Epoch 8/15\n",
      "1407/1407 - 13s - loss: 0.7721 - accuracy: 0.7303 - val_loss: 0.7191 - val_accuracy: 0.7508 - 13s/epoch - 9ms/step\n",
      "Epoch 9/15\n",
      "1407/1407 - 13s - loss: 0.7368 - accuracy: 0.7409 - val_loss: 0.7273 - val_accuracy: 0.7488 - 13s/epoch - 9ms/step\n",
      "Epoch 10/15\n",
      "1407/1407 - 12s - loss: 0.6983 - accuracy: 0.7530 - val_loss: 0.6896 - val_accuracy: 0.7584 - 12s/epoch - 9ms/step\n",
      "Epoch 11/15\n",
      "1407/1407 - 13s - loss: 0.6773 - accuracy: 0.7612 - val_loss: 0.6766 - val_accuracy: 0.7692 - 13s/epoch - 9ms/step\n",
      "Epoch 12/15\n",
      "1407/1407 - 13s - loss: 0.6485 - accuracy: 0.7716 - val_loss: 0.6468 - val_accuracy: 0.7752 - 13s/epoch - 9ms/step\n",
      "Epoch 13/15\n",
      "1407/1407 - 16s - loss: 0.6244 - accuracy: 0.7813 - val_loss: 0.6540 - val_accuracy: 0.7764 - 16s/epoch - 12ms/step\n",
      "Epoch 14/15\n",
      "1407/1407 - 14s - loss: 0.6061 - accuracy: 0.7853 - val_loss: 0.6455 - val_accuracy: 0.7788 - 14s/epoch - 10ms/step\n",
      "Epoch 15/15\n",
      "1407/1407 - 13s - loss: 0.5824 - accuracy: 0.7947 - val_loss: 0.6239 - val_accuracy: 0.7838 - 13s/epoch - 9ms/step\n"
     ]
    }
   ],
   "source": [
    "history_3 = model_3.fit(\n",
    "    \n",
    "            x_train_normalized, y_train_encoded,\n",
    "\n",
    "            epochs = 15,\n",
    "\n",
    "            validation_split = 0.1,\n",
    "\n",
    "            shuffle = True,\n",
    "\n",
    "            verbose = 2\n",
    ")"
   ]
  },
  {
   "cell_type": "code",
   "execution_count": 33,
   "metadata": {
    "colab": {
     "base_uri": "https://localhost:8080/",
     "height": 295
    },
    "id": "VUoFwdcf1BpE",
    "outputId": "d423d168-6f1a-4f98-d6f4-5356a873589a"
   },
   "outputs": [
    {
     "data": {
      "image/png": "[encoded data removed]",
      "text/plain": [
       "<Figure size 432x288 with 1 Axes>"
      ]
     },
     "metadata": {
      "needs_background": "light"
     },
     "output_type": "display_data"
    }
   ],
   "source": [
    "plt.plot(history_3.history['accuracy'])\n",
    "\n",
    "plt.plot(history_3.history['val_accuracy'])\n",
    "\n",
    "plt.title('Model Accuracy')\n",
    "\n",
    "plt.ylabel('Accuracy')\n",
    "\n",
    "plt.xlabel('Epoch')\n",
    "\n",
    "plt.legend(['Train', 'Validation'], loc = 'upper left')\n",
    "\n",
    "# Display the plot\n",
    "plt.show()"
   ]
  },
  {
   "cell_type": "markdown",
   "metadata": {
    "id": "n4fzt2Yu1jAh"
   },
   "source": [
    "**Observations:** \n",
    "\n",
    "- The third iteration of this model seems very promising now.\n",
    "- **The validation accuracy has improved substantially** and the problem of **overfitting has been solved**. We can say that the **model is giving a generalized performance.** \n",
    "- The above plot shows that **the validation accuracy is higher than the training accuracy**. There are a **few possible reasons** for this:\n",
    "    - The **size of the validation set is not big enough**.\n",
    "    - We may have **imbalanced data in the validation set**.\n",
    "    - **High regularization**. If we use regularization methods such as L2, L1, or Dropout, while the model calculates training accuracy it uses a regularized model but when it calculates accuracy on the validation set, it processes the data through an unregularized model. Regularization introduces some noise in loss value during training, because of this the training accuracy decreases more than expected, but while evaluating the model, the model doesn't use regularization, and hence there's no noise, which is why the validation accuracy doesn't decrease.\n",
    "    - **To overcome this, we can try reducing the regularization or increasing the size of the validation set**."
   ]
  },
  {
   "cell_type": "markdown",
   "metadata": {
    "id": "9tTjZvQOsDkp"
   },
   "source": [
    "**We can try out some more iterations and tune some of the hyperparameters** to further improve the model **but hyperparameter tuning is exhaustive** and can take a long time to find the right set of values for each hyperparameter.\n",
    "\n",
    "**Let's try some other techniques like transfer learning** to see if we can speed up the process of training the model and can also get a more accurate model overall."
   ]
  },
  {
   "cell_type": "markdown",
   "metadata": {
    "id": "GVTSpUWzy5BO"
   },
   "source": [
    "### **Transfer Learning**"
   ]
  },
  {
   "cell_type": "markdown",
   "metadata": {
    "id": "OxrSaPVozACz"
   },
   "source": [
    "**Transfer learning** is a popular deep learning technique that **reuses a pre-trained model on a new problem**. **It can train deep neural networks with comparatively little data.** This is very useful in the data science field since most real-world problems typically do not have millions of labeled data points to train complex models.\n",
    "\n",
    "Let's begin by clearing the backend and fixing the seed."
   ]
  },
  {
   "cell_type": "code",
   "execution_count": 34,
   "metadata": {
    "id": "u5BMbjZNR1CN"
   },
   "outputs": [],
   "source": [
    "# Clearing backend\n",
    "from tensorflow.keras import backend\n",
    "\n",
    "backend.clear_session()"
   ]
  },
  {
   "cell_type": "code",
   "execution_count": 35,
   "metadata": {
    "id": "OVve5_ifR1TV"
   },
   "outputs": [],
   "source": [
    "# Fixing the seed for random number generators\n",
    "np.random.seed(42)\n",
    "\n",
    "import random\n",
    "\n",
    "random.seed(42)\n",
    "\n",
    "tf.random.set_seed(42)"
   ]
  },
  {
   "cell_type": "markdown",
   "metadata": {
    "id": "cv1gTK2wUHyK"
   },
   "source": [
    "We will use VGG16 as the pre-trained model. You can read about it [here](https://www.tensorflow.org/api_docs/python/tf/keras/applications/vgg16/VGG16).\n",
    "\n",
    "Also, we will use the **Functional Model API** to build the model this time because it allows explicitly connecting the output of one layer to the input of another layer. Each connection is specified. You can read about it [here](https://www.tensorflow.org/guide/keras/functional)."
   ]
  },
  {
   "cell_type": "code",
   "execution_count": 36,
   "metadata": {
    "id": "ODAE8aL9zs4X"
   },
   "outputs": [],
   "source": [
    "# Importing necessary libraries\n",
    "from tensorflow.keras import Model\n",
    "\n",
    "from tensorflow.keras.applications.vgg16 import VGG16"
   ]
  },
  {
   "cell_type": "markdown",
   "metadata": {
    "id": "kaJBYC1u70bm"
   },
   "source": [
    "Now, let's instantiate the VGG16 model.\n",
    "\n",
    "- The **VGG16 model was originally trained on images of size 224 x 224**. The **TensorFlow application allows the minimum image size of 32x32** which is luckily the same as the image size in the CIFAR-10 dataset. If you want to use any other size, you can change the size of the input image.\n",
    "- By specifying the **argument include_top=False argument**, we load a **network that doesn't include the classification layers at the top**, i.e., **we will use the VGG16 model only for feature extraction.**"
   ]
  },
  {
   "cell_type": "code",
   "execution_count": 37,
   "metadata": {
    "colab": {
     "base_uri": "https://localhost:8080/"
    },
    "id": "p4RUKTJk85c7",
    "outputId": "15472129-e3c3-4f91-b60f-377b67ab23a2"
   },
   "outputs": [
    {
     "name": "stdout",
     "output_type": "stream",
     "text": [
      "Downloading data from https://storage.googleapis.com/tensorflow/keras-applications/vgg16/vgg16_weights_tf_dim_ordering_tf_kernels_notop.h5\n",
      "58892288/58889256 [==============================] - 0s 0us/step\n",
      "58900480/58889256 [==============================] - 0s 0us/step\n"
     ]
    }
   ],
   "source": [
    "vgg_model = VGG16(weights = 'imagenet', \n",
    "                  \n",
    "                       include_top = False, \n",
    "                  \n",
    "                       input_shape = (32, 32, 3), pooling = 'max')"
   ]
  },
  {
   "cell_type": "code",
   "execution_count": 38,
   "metadata": {
    "colab": {
     "base_uri": "https://localhost:8080/"
    },
    "id": "J1ZRaq1tMPGl",
    "outputId": "35ad7635-8a7b-48dd-9a36-5e0fcd24103c"
   },
   "outputs": [
    {
     "name": "stdout",
     "output_type": "stream",
     "text": [
      "Model: \"vgg16\"\n",
      "_________________________________________________________________\n",
      " Layer (type)                Output Shape              Param #   \n",
      "=================================================================\n",
      " input_1 (InputLayer)        [(None, 32, 32, 3)]       0         \n",
      "                                                                 \n",
      " block1_conv1 (Conv2D)       (None, 32, 32, 64)        1792      \n",
      "                                                                 \n",
      " block1_conv2 (Conv2D)       (None, 32, 32, 64)        36928     \n",
      "                                                                 \n",
      " block1_pool (MaxPooling2D)  (None, 16, 16, 64)        0         \n",
      "                                                                 \n",
      " block2_conv1 (Conv2D)       (None, 16, 16, 128)       73856     \n",
      "                                                                 \n",
      " block2_conv2 (Conv2D)       (None, 16, 16, 128)       147584    \n",
      "                                                                 \n",
      " block2_pool (MaxPooling2D)  (None, 8, 8, 128)         0         \n",
      "                                                                 \n",
      " block3_conv1 (Conv2D)       (None, 8, 8, 256)         295168    \n",
      "                                                                 \n",
      " block3_conv2 (Conv2D)       (None, 8, 8, 256)         590080    \n",
      "                                                                 \n",
      " block3_conv3 (Conv2D)       (None, 8, 8, 256)         590080    \n",
      "                                                                 \n",
      " block3_pool (MaxPooling2D)  (None, 4, 4, 256)         0         \n",
      "                                                                 \n",
      " block4_conv1 (Conv2D)       (None, 4, 4, 512)         1180160   \n",
      "                                                                 \n",
      " block4_conv2 (Conv2D)       (None, 4, 4, 512)         2359808   \n",
      "                                                                 \n",
      " block4_conv3 (Conv2D)       (None, 4, 4, 512)         2359808   \n",
      "                                                                 \n",
      " block4_pool (MaxPooling2D)  (None, 2, 2, 512)         0         \n",
      "                                                                 \n",
      " block5_conv1 (Conv2D)       (None, 2, 2, 512)         2359808   \n",
      "                                                                 \n",
      " block5_conv2 (Conv2D)       (None, 2, 2, 512)         2359808   \n",
      "                                                                 \n",
      " block5_conv3 (Conv2D)       (None, 2, 2, 512)         2359808   \n",
      "                                                                 \n",
      " block5_pool (MaxPooling2D)  (None, 1, 1, 512)         0         \n",
      "                                                                 \n",
      " global_max_pooling2d (Globa  (None, 512)              0         \n",
      " lMaxPooling2D)                                                  \n",
      "                                                                 \n",
      "=================================================================\n",
      "Total params: 14,714,688\n",
      "Trainable params: 14,714,688\n",
      "Non-trainable params: 0\n",
      "_________________________________________________________________\n"
     ]
    }
   ],
   "source": [
    "# Checking summary of the model\n",
    "vgg_model.summary()"
   ]
  },
  {
   "cell_type": "markdown",
   "metadata": {
    "id": "lk6jzKV2sDkr"
   },
   "source": [
    "- The VGG16 model has **more than 14.7 M trainable parameters.** \n",
    "- Here, **we will not train any of the layers from the VGG16 model**. We will use the pre-trained weights and biases.\n",
    "- Also, we can take any layer's output from the VGG16 model as the input of our new model. Here, **we will take the output of the 3rd block of the VGG16 model as the input of our new model.**"
   ]
  },
  {
   "cell_type": "code",
   "execution_count": 39,
   "metadata": {
    "id": "MDccBW_kfbcH"
   },
   "outputs": [],
   "source": [
    "transfer_layer = vgg_model.get_layer('block3_pool')"
   ]
  },
  {
   "cell_type": "code",
   "execution_count": 42,
   "metadata": {
    "id": "y-H7ulUhuZnC"
   },
   "outputs": [],
   "source": [
    "vgg_model.trainable = False"
   ]
  },
  {
   "cell_type": "markdown",
   "metadata": {
    "id": "25vWN052sDks"
   },
   "source": [
    "Now, we will add classification layers to our model using Functional Model API."
   ]
  },
  {
   "cell_type": "code",
   "execution_count": 43,
   "metadata": {
    "id": "MgtKRP8UuZrK"
   },
   "outputs": [],
   "source": [
    "# Add classification layers on top of it\n",
    "x = Flatten()(transfer_layer.output)\n",
    "\n",
    "x = Dense(256, activation = 'relu')(x)\n",
    "\n",
    "x = Dense(128, activation = 'relu')(x)\n",
    "\n",
    "x = Dropout(0.3)(x)\n",
    "\n",
    "x = Dense(64, activation = 'relu')(x)\n",
    "\n",
    "x = BatchNormalization()(x)\n",
    "\n",
    "pred = Dense(10, activation = 'softmax')(x)\n",
    "\n",
    "# Initializing the model\n",
    "model_4 = Model(vgg_model.input, pred)"
   ]
  },
  {
   "cell_type": "code",
   "execution_count": 46,
   "metadata": {
    "id": "o8CMoDGUuZtc"
   },
   "outputs": [],
   "source": [
    "# Compiling the model\n",
    "model_4.compile(loss = 'categorical_crossentropy',\n",
    "                \n",
    "              optimizer = tf.keras.optimizers.Adamax(learning_rate = 0.0005),\n",
    "\n",
    "              metrics = ['accuracy'])"
   ]
  },
  {
   "cell_type": "code",
   "execution_count": 47,
   "metadata": {
    "colab": {
     "base_uri": "https://localhost:8080/"
    },
    "id": "FiXrP8LduZwx",
    "outputId": "a8726cfe-e31b-4342-bad1-74c22a6426d0"
   },
   "outputs": [
    {
     "name": "stdout",
     "output_type": "stream",
     "text": [
      "Epoch 1/10\n",
      "180/180 - 10s - loss: 1.0818 - accuracy: 0.6320 - val_loss: 0.8091 - val_accuracy: 0.7244 - 10s/epoch - 56ms/step\n",
      "Epoch 2/10\n",
      "180/180 - 8s - loss: 0.8667 - accuracy: 0.7068 - val_loss: 0.7526 - val_accuracy: 0.7462 - 8s/epoch - 45ms/step\n",
      "Epoch 3/10\n",
      "180/180 - 8s - loss: 0.7654 - accuracy: 0.7394 - val_loss: 0.6967 - val_accuracy: 0.7658 - 8s/epoch - 42ms/step\n",
      "Epoch 4/10\n",
      "180/180 - 8s - loss: 0.6931 - accuracy: 0.7654 - val_loss: 0.6643 - val_accuracy: 0.7744 - 8s/epoch - 45ms/step\n",
      "Epoch 5/10\n",
      "180/180 - 8s - loss: 0.6395 - accuracy: 0.7832 - val_loss: 0.6554 - val_accuracy: 0.7752 - 8s/epoch - 45ms/step\n",
      "Epoch 6/10\n",
      "180/180 - 8s - loss: 0.5934 - accuracy: 0.7973 - val_loss: 0.6257 - val_accuracy: 0.7840 - 8s/epoch - 45ms/step\n",
      "Epoch 7/10\n",
      "180/180 - 8s - loss: 0.5527 - accuracy: 0.8108 - val_loss: 0.6206 - val_accuracy: 0.7900 - 8s/epoch - 42ms/step\n",
      "Epoch 8/10\n",
      "180/180 - 8s - loss: 0.5064 - accuracy: 0.8268 - val_loss: 0.6014 - val_accuracy: 0.7960 - 8s/epoch - 46ms/step\n",
      "Epoch 9/10\n",
      "180/180 - 8s - loss: 0.4773 - accuracy: 0.8396 - val_loss: 0.6055 - val_accuracy: 0.7920 - 8s/epoch - 46ms/step\n",
      "Epoch 10/10\n",
      "180/180 - 8s - loss: 0.4437 - accuracy: 0.8473 - val_loss: 0.6118 - val_accuracy: 0.7940 - 8s/epoch - 42ms/step\n"
     ]
    }
   ],
   "source": [
    "# Fitting the model\n",
    "history_4 = model_4.fit(\n",
    "    \n",
    "            x_train_normalized, y_train_encoded,\n",
    "\n",
    "            epochs = 10,\n",
    "\n",
    "            batch_size = 250,\n",
    "\n",
    "            validation_split = 0.1,\n",
    "\n",
    "            verbose = 2\n",
    ")"
   ]
  },
  {
   "cell_type": "code",
   "execution_count": 48,
   "metadata": {
    "colab": {
     "base_uri": "https://localhost:8080/",
     "height": 295
    },
    "id": "94ENiWyh4gU2",
    "outputId": "c1a4b089-5b46-4e39-8643-54d8db0ef94f"
   },
   "outputs": [
    {
     "data": {
      "image/png": "[encoded data removed]",
      "text/plain": [
       "<Figure size 432x288 with 1 Axes>"
      ]
     },
     "metadata": {
      "needs_background": "light"
     },
     "output_type": "display_data"
    }
   ],
   "source": [
    "plt.plot(history_4.history['accuracy'])\n",
    "\n",
    "plt.plot(history_4.history['val_accuracy'])\n",
    "\n",
    "plt.title('Model Accuracy')\n",
    "\n",
    "plt.ylabel('Accuracy')\n",
    "\n",
    "plt.xlabel('Epoch')\n",
    "\n",
    "plt.legend(['Train', 'Validation'], loc = 'upper left')\n",
    "\n",
    "# Display the plot\n",
    "plt.show()"
   ]
  },
  {
   "cell_type": "markdown",
   "metadata": {
    "id": "sDvnjvsIsDkt"
   },
   "source": [
    "**Observations:**\n",
    "\n",
    "- The model **training accuracy is slightly higher than the validation accuracy**.\n",
    "- The **validation accuracy has improved in comparison to the previous model**.\n",
    "- We have been able to achieve the **best validation accuracy so far without actually training any of the convolutional layers.** There are other pre-trained models which can be tried and/or tuned to get better performance.\n",
    "\n",
    "Here, let's use the this model to make predictions on the test data."
   ]
  },
  {
   "cell_type": "markdown",
   "metadata": {
    "id": "Ks65bYtVTUuE"
   },
   "source": [
    "## **Making predictions**"
   ]
  },
  {
   "cell_type": "code",
   "execution_count": 50,
   "metadata": {
    "id": "CEY6KvQ-F3nl"
   },
   "outputs": [],
   "source": [
    "# Making predictions on the test data\n",
    "y_pred_test = model_4.predict(x_test_normalized)\n",
    "\n",
    "# Converting probabilities to class labels\n",
    "y_pred_test_classes = np.argmax(y_pred_test, axis = 1)\n",
    "\n",
    "# Calculating the probability of the predicted class\n",
    "y_pred_test_max_probas = np.max(y_pred_test, axis = 1)"
   ]
  },
  {
   "cell_type": "code",
   "execution_count": 51,
   "metadata": {
    "colab": {
     "base_uri": "https://localhost:8080/",
     "height": 675
    },
    "id": "uZap-nK-xD5U",
    "outputId": "9074e811-3826-484f-e762-d03a0cf7b223"
   },
   "outputs": [
    {
     "name": "stdout",
     "output_type": "stream",
     "text": [
      "              precision    recall  f1-score   support\n",
      "\n",
      "           0       0.80      0.84      0.82      1000\n",
      "           1       0.92      0.84      0.88      1000\n",
      "           2       0.76      0.70      0.73      1000\n",
      "           3       0.69      0.54      0.61      1000\n",
      "           4       0.78      0.73      0.76      1000\n",
      "           5       0.61      0.76      0.68      1000\n",
      "           6       0.82      0.86      0.84      1000\n",
      "           7       0.86      0.83      0.84      1000\n",
      "           8       0.82      0.91      0.86      1000\n",
      "           9       0.84      0.85      0.85      1000\n",
      "\n",
      "    accuracy                           0.79     10000\n",
      "   macro avg       0.79      0.79      0.79     10000\n",
      "weighted avg       0.79      0.79      0.79     10000\n",
      "\n"
     ]
    },
    {
     "data": {
      "image/png": "[encoded data removed]",
      "text/plain": [
       "<Figure size 576x360 with 2 Axes>"
      ]
     },
     "metadata": {
      "needs_background": "light"
     },
     "output_type": "display_data"
    }
   ],
   "source": [
    "# Importing required functions\n",
    "from sklearn.metrics import classification_report\n",
    "\n",
    "from sklearn.metrics import confusion_matrix\n",
    "\n",
    "# Printing the classification report\n",
    "print(classification_report(y_test, y_pred_test_classes))\n",
    "\n",
    "# Plotting the heatmap using confusion matrix\n",
    "cm = confusion_matrix(y_test, y_pred_test_classes)\n",
    "\n",
    "plt.figure(figsize = (8, 5))\n",
    "\n",
    "sns.heatmap(cm, annot = True,  fmt = '.0f', xticklabels = cifar10_classes, yticklabels = cifar10_classes)\n",
    "\n",
    "plt.ylabel('Actual')\n",
    "\n",
    "plt.xlabel('Predicted')\n",
    "\n",
    "# Display the plot\n",
    "plt.show()"
   ]
  },
  {
   "cell_type": "markdown",
   "metadata": {
    "id": "alR34cG2sDku"
   },
   "source": [
    "**Observations:**\n",
    "\n",
    "- The model is giving about **79% accuracy on the test data** which is **comparable to the accuracy of the validation data.** This implies that the model is giving a generalized performance.\n",
    "- The **recall has a high range** which implies that the **model is good at identifying some objects while poor at identifying some other objects**. For example, the **model can identify more than 90% of ships but can identify only ~ 54% of cats**.\n",
    "- The model is majorly **confused between cats and dogs**. This implies that the **model might be focused on features related to shapes and sizes but not deep features of objects** that can help to distinguish between objects like cats and dogs.\n",
    "- Consequently, **precision also has a high range with the 'cat' class having the least precision.**\n",
    "- The **highest precision is for 'automobile'** which implies that the model can distinguish automobiles from other objects. "
   ]
  },
  {
   "cell_type": "markdown",
   "metadata": {
    "id": "K2OKaSvisDku"
   },
   "source": [
    "## **Visualizing the predicted images**"
   ]
  },
  {
   "cell_type": "code",
   "execution_count": 52,
   "metadata": {
    "colab": {
     "base_uri": "https://localhost:8080/",
     "height": 691
    },
    "id": "Njd7at1zGJSr",
    "outputId": "24cdff28-2df1-494a-92a5-b719e9a66e28"
   },
   "outputs": [
    {
     "data": {
      "image/png": "[encoded data removed]",
      "text/plain": [
       "<Figure size 720x864 with 12 Axes>"
      ]
     },
     "metadata": {
      "needs_background": "light"
     },
     "output_type": "display_data"
    }
   ],
   "source": [
    "rows = 3\n",
    "\n",
    "cols = 4\n",
    "\n",
    "fig = plt.figure(figsize = (10, 12))\n",
    "\n",
    "for i in range(cols):\n",
    "\n",
    "    for j in range(rows):\n",
    "\n",
    "        random_index = np.random.randint(0, len(y_test))\n",
    "\n",
    "        ax = fig.add_subplot(rows, cols, i * rows + j + 1)\n",
    "\n",
    "        ax.imshow(x_test[random_index, :])\n",
    "\n",
    "        pred_label = cifar10_classes[y_pred_test_classes[random_index]]\n",
    "\n",
    "        pred_proba = y_pred_test_max_probas[random_index]\n",
    "\n",
    "        true_label = cifar10_classes[y_test[random_index, 0]]\n",
    "        \n",
    "        ax.set_title(\"actual: {}\\npredicted: {}\\nprobability: {:.3}\\n\".format(\n",
    "               true_label, pred_label, pred_proba\n",
    "        ))\n",
    "plt.show()"
   ]
  },
  {
   "cell_type": "markdown",
   "metadata": {
    "id": "PA82NQO52MzH"
   },
   "source": [
    "## **Conclusion**\n",
    "\n",
    "In this notebook, **we have implemented a CNN model from scratch and used transfer learning to make predictions on the CIFAR-10 dataset.** We have learned how to prepare the image data before passing it into the CNN model and how to add layers sequentially inside the model.\n",
    "\n",
    "We have seen four different iterations of the CNN model and built an intuition about how to improve the model by tuning various hyperparameters and using different techniques. There is still plenty of scope for improvement and you can try out tuning different hyperparameters to improve the model performance."
   ]
  }
 ],
 "metadata": {
  "accelerator": "GPU",
  "colab": {
   "collapsed_sections": [],
   "name": "Notebook - CIFAR 10 Image Classification.ipynb",
   "provenance": []
  },
  "kernelspec": {
   "display_name": "Python 3 (ipykernel)",
   "language": "python",
   "name": "python3"
  },
  "language_info": {
   "codemirror_mode": {
    "name": "ipython",
    "version": 3
   },
   "file_extension": ".py",
   "mimetype": "text/x-python",
   "name": "python",
   "nbconvert_exporter": "python",
   "pygments_lexer": "ipython3",
   "version": "3.9.7"
  }
 },
 "nbformat": 4,
 "nbformat_minor": 1
}
