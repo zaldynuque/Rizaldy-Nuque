{
  "cells": [
    {
      "cell_type": "markdown",
      "id": "bee32589",
      "metadata": {
        "id": "bee32589"
      },
      "source": [
        "# Flight Price Prediction Case Study\n",
        "\n",
        "## Context and Problem\n",
        " - The objective of this project is to predict the price of a flight with a set of relevant flight details provided\n",
        " - The flight details have information related to flight timings, source and destination details, route details, stops in between, etc.\n",
        " - The dataset consists of about one year of information about various flights and their respective prices.\n",
        " \n",
        "## Data Information\n",
        "\n",
        "The data at hand has eleven features about the spending on advertising and the target variable is the net sales. Attributes are:\n",
        "\n",
        "- Airline - Company that provides air transport services for traveling passengers. (Independent Variable)\n",
        "- Source  - From where the flight is takes off.(Independent Variable)\n",
        "- Destination - To where the flight is going.(Independent Variable)\n",
        "- Route   - What is the route of each flight.(Independent Variable)\n",
        "- Dep Time - Departure Time of the flight.(Independent Variable)\n",
        "- Arrival Time - Arrival Time of the flight.(Independent Variable)\n",
        "- Duration - Total duration of the flight.(Independent Variable)\n",
        "- Total Stops - Number of stops between source and destination.(Independent Variable)\n",
        "- Additional info - Additional information about the flight is given.(Independent Variable)\n",
        "- Price - Price of each flight.(Dependent Variable)"
      ]
    },
    {
      "cell_type": "markdown",
      "source": [
        "**Mounting the Drive**"
      ],
      "metadata": {
        "id": "qxBII-vQ7lBN"
      },
      "id": "qxBII-vQ7lBN"
    },
    {
      "cell_type": "code",
      "execution_count": 1,
      "id": "bWIUp4WZBZ0r",
      "metadata": {
        "colab": {
          "base_uri": "https://localhost:8080/"
        },
        "id": "bWIUp4WZBZ0r",
        "outputId": "1d48fe19-369b-47ef-a7c1-eac8c3922487"
      },
      "outputs": [
        {
          "output_type": "stream",
          "name": "stdout",
          "text": [
            "Mounted at /content/drive\n"
          ]
        }
      ],
      "source": [
        "from google.colab import drive\n",
        "drive.mount('/content/drive')"
      ]
    },
    {
      "cell_type": "markdown",
      "id": "8612eb2e",
      "metadata": {
        "id": "8612eb2e"
      },
      "source": [
        "**Loading the required libraries**"
      ]
    },
    {
      "cell_type": "code",
      "execution_count": 2,
      "id": "f1c8c027",
      "metadata": {
        "id": "f1c8c027"
      },
      "outputs": [],
      "source": [
        "# Libraries to help with reading and manipulating data\n",
        "import numpy as np\n",
        "import pandas as pd\n",
        "# libaries to help with data visualization\n",
        "import matplotlib.pyplot as pyplot\n",
        "import matplotlib.pyplot as plt\n",
        "import seaborn as sns\n",
        "# Library to split data\n",
        "from sklearn.model_selection import train_test_split\n",
        "# library to import to standardize the data\n",
        "from sklearn.preprocessing import StandardScaler\n",
        "#To import different metrics \n",
        "from sklearn.metrics import explained_variance_score, mean_squared_error, r2_score, mean_absolute_error\n",
        "#Importing classback API\n",
        "from keras import callbacks\n",
        "# Importing tensorflow library\n",
        "import tensorflow as tf\n",
        "# importing different functions to build models\n",
        "from tensorflow.keras.layers import Dense, Dropout,InputLayer\n",
        "from tensorflow.keras.models import Sequential\n",
        "# Importing Batch Normalization\n",
        "from keras.layers import BatchNormalization\n",
        "# Importing backend\n",
        "from tensorflow.keras import backend\n",
        "# Importing shffule \n",
        "from random import shuffle\n",
        "from keras.callbacks import ModelCheckpoint\n",
        "# Importing optimizers\n",
        "from tensorflow.keras.optimizers import Adam\n",
        "from tensorflow.keras.optimizers import RMSprop\n",
        "# Library to avoid the warnings\n",
        "import warnings\n",
        "warnings.filterwarnings(\"ignore\")"
      ]
    },
    {
      "cell_type": "markdown",
      "id": "255ff0c3",
      "metadata": {
        "id": "255ff0c3"
      },
      "source": [
        "#### **Reading the Dataset**"
      ]
    },
    {
      "cell_type": "code",
      "execution_count": 3,
      "id": "f4843f95",
      "metadata": {
        "id": "f4843f95"
      },
      "outputs": [],
      "source": [
        "#Since data is in form of excel file we have to use pandas pd.read_excel to load the data.\n",
        "data = pd.read_excel('/content/drive/MyDrive/MLS-2 INN/Data.xlsx')"
      ]
    },
    {
      "cell_type": "markdown",
      "id": "02bf07e4",
      "metadata": {
        "id": "02bf07e4"
      },
      "source": [
        "#### Print the first five rows of the data"
      ]
    },
    {
      "cell_type": "code",
      "execution_count": 4,
      "id": "fe693428",
      "metadata": {
        "colab": {
          "base_uri": "https://localhost:8080/",
          "height": 250
        },
        "id": "fe693428",
        "outputId": "1eb1b5d5-5ad2-44d6-cc6c-59ddb210b4ac"
      },
      "outputs": [
        {
          "output_type": "execute_result",
          "data": {
            "text/plain": [
              "       Airline Date_of_Journey    Source Destination                  Route  \\\n",
              "0       IndiGo      24/03/2019  Banglore   New Delhi              BLR → DEL   \n",
              "1    Air India       1/05/2019   Kolkata    Banglore  CCU → IXR → BBI → BLR   \n",
              "2  Jet Airways       9/06/2019     Delhi      Cochin  DEL → LKO → BOM → COK   \n",
              "3       IndiGo      12/05/2019   Kolkata    Banglore        CCU → NAG → BLR   \n",
              "4       IndiGo      01/03/2019  Banglore   New Delhi        BLR → NAG → DEL   \n",
              "\n",
              "  Dep_Time  Arrival_Time Duration Total_Stops Additional_Info  Price  \n",
              "0    22:20  01:10 22 Mar   2h 50m    non-stop         No info   3897  \n",
              "1    05:50         13:15   7h 25m     2 stops         No info   7662  \n",
              "2    09:25  04:25 10 Jun      19h     2 stops         No info  13882  \n",
              "3    18:05         23:30   5h 25m      1 stop         No info   6218  \n",
              "4    16:50         21:35   4h 45m      1 stop         No info  13302  "
            ],
            "text/html": [
              "\n",
              "  <div id=\"df-019cf75d-e7ec-43d8-a2cb-8d9e8bd690ac\">\n",
              "    <div class=\"colab-df-container\">\n",
              "      <div>\n",
              "<style scoped>\n",
              "    .dataframe tbody tr th:only-of-type {\n",
              "        vertical-align: middle;\n",
              "    }\n",
              "\n",
              "    .dataframe tbody tr th {\n",
              "        vertical-align: top;\n",
              "    }\n",
              "\n",
              "    .dataframe thead th {\n",
              "        text-align: right;\n",
              "    }\n",
              "</style>\n",
              "<table border=\"1\" class=\"dataframe\">\n",
              "  <thead>\n",
              "    <tr style=\"text-align: right;\">\n",
              "      <th></th>\n",
              "      <th>Airline</th>\n",
              "      <th>Date_of_Journey</th>\n",
              "      <th>Source</th>\n",
              "      <th>Destination</th>\n",
              "      <th>Route</th>\n",
              "      <th>Dep_Time</th>\n",
              "      <th>Arrival_Time</th>\n",
              "      <th>Duration</th>\n",
              "      <th>Total_Stops</th>\n",
              "      <th>Additional_Info</th>\n",
              "      <th>Price</th>\n",
              "    </tr>\n",
              "  </thead>\n",
              "  <tbody>\n",
              "    <tr>\n",
              "      <th>0</th>\n",
              "      <td>IndiGo</td>\n",
              "      <td>24/03/2019</td>\n",
              "      <td>Banglore</td>\n",
              "      <td>New Delhi</td>\n",
              "      <td>BLR → DEL</td>\n",
              "      <td>22:20</td>\n",
              "      <td>01:10 22 Mar</td>\n",
              "      <td>2h 50m</td>\n",
              "      <td>non-stop</td>\n",
              "      <td>No info</td>\n",
              "      <td>3897</td>\n",
              "    </tr>\n",
              "    <tr>\n",
              "      <th>1</th>\n",
              "      <td>Air India</td>\n",
              "      <td>1/05/2019</td>\n",
              "      <td>Kolkata</td>\n",
              "      <td>Banglore</td>\n",
              "      <td>CCU → IXR → BBI → BLR</td>\n",
              "      <td>05:50</td>\n",
              "      <td>13:15</td>\n",
              "      <td>7h 25m</td>\n",
              "      <td>2 stops</td>\n",
              "      <td>No info</td>\n",
              "      <td>7662</td>\n",
              "    </tr>\n",
              "    <tr>\n",
              "      <th>2</th>\n",
              "      <td>Jet Airways</td>\n",
              "      <td>9/06/2019</td>\n",
              "      <td>Delhi</td>\n",
              "      <td>Cochin</td>\n",
              "      <td>DEL → LKO → BOM → COK</td>\n",
              "      <td>09:25</td>\n",
              "      <td>04:25 10 Jun</td>\n",
              "      <td>19h</td>\n",
              "      <td>2 stops</td>\n",
              "      <td>No info</td>\n",
              "      <td>13882</td>\n",
              "    </tr>\n",
              "    <tr>\n",
              "      <th>3</th>\n",
              "      <td>IndiGo</td>\n",
              "      <td>12/05/2019</td>\n",
              "      <td>Kolkata</td>\n",
              "      <td>Banglore</td>\n",
              "      <td>CCU → NAG → BLR</td>\n",
              "      <td>18:05</td>\n",
              "      <td>23:30</td>\n",
              "      <td>5h 25m</td>\n",
              "      <td>1 stop</td>\n",
              "      <td>No info</td>\n",
              "      <td>6218</td>\n",
              "    </tr>\n",
              "    <tr>\n",
              "      <th>4</th>\n",
              "      <td>IndiGo</td>\n",
              "      <td>01/03/2019</td>\n",
              "      <td>Banglore</td>\n",
              "      <td>New Delhi</td>\n",
              "      <td>BLR → NAG → DEL</td>\n",
              "      <td>16:50</td>\n",
              "      <td>21:35</td>\n",
              "      <td>4h 45m</td>\n",
              "      <td>1 stop</td>\n",
              "      <td>No info</td>\n",
              "      <td>13302</td>\n",
              "    </tr>\n",
              "  </tbody>\n",
              "</table>\n",
              "</div>\n",
              "      <button class=\"colab-df-convert\" onclick=\"convertToInteractive('df-019cf75d-e7ec-43d8-a2cb-8d9e8bd690ac')\"\n",
              "              title=\"Convert this dataframe to an interactive table.\"\n",
              "              style=\"display:none;\">\n",
              "        \n",
              "  <svg xmlns=\"http://www.w3.org/2000/svg\" height=\"24px\"viewBox=\"0 0 24 24\"\n",
              "       width=\"24px\">\n",
              "    <path d=\"M0 0h24v24H0V0z\" fill=\"none\"/>\n",
              "    <path d=\"M18.56 5.44l.94 2.06.94-2.06 2.06-.94-2.06-.94-.94-2.06-.94 2.06-2.06.94zm-11 1L8.5 8.5l.94-2.06 2.06-.94-2.06-.94L8.5 2.5l-.94 2.06-2.06.94zm10 10l.94 2.06.94-2.06 2.06-.94-2.06-.94-.94-2.06-.94 2.06-2.06.94z\"/><path d=\"M17.41 7.96l-1.37-1.37c-.4-.4-.92-.59-1.43-.59-.52 0-1.04.2-1.43.59L10.3 9.45l-7.72 7.72c-.78.78-.78 2.05 0 2.83L4 21.41c.39.39.9.59 1.41.59.51 0 1.02-.2 1.41-.59l7.78-7.78 2.81-2.81c.8-.78.8-2.07 0-2.86zM5.41 20L4 18.59l7.72-7.72 1.47 1.35L5.41 20z\"/>\n",
              "  </svg>\n",
              "      </button>\n",
              "      \n",
              "  <style>\n",
              "    .colab-df-container {\n",
              "      display:flex;\n",
              "      flex-wrap:wrap;\n",
              "      gap: 12px;\n",
              "    }\n",
              "\n",
              "    .colab-df-convert {\n",
              "      background-color: #E8F0FE;\n",
              "      border: none;\n",
              "      border-radius: 50%;\n",
              "      cursor: pointer;\n",
              "      display: none;\n",
              "      fill: #1967D2;\n",
              "      height: 32px;\n",
              "      padding: 0 0 0 0;\n",
              "      width: 32px;\n",
              "    }\n",
              "\n",
              "    .colab-df-convert:hover {\n",
              "      background-color: #E2EBFA;\n",
              "      box-shadow: 0px 1px 2px rgba(60, 64, 67, 0.3), 0px 1px 3px 1px rgba(60, 64, 67, 0.15);\n",
              "      fill: #174EA6;\n",
              "    }\n",
              "\n",
              "    [theme=dark] .colab-df-convert {\n",
              "      background-color: #3B4455;\n",
              "      fill: #D2E3FC;\n",
              "    }\n",
              "\n",
              "    [theme=dark] .colab-df-convert:hover {\n",
              "      background-color: #434B5C;\n",
              "      box-shadow: 0px 1px 3px 1px rgba(0, 0, 0, 0.15);\n",
              "      filter: drop-shadow(0px 1px 2px rgba(0, 0, 0, 0.3));\n",
              "      fill: #FFFFFF;\n",
              "    }\n",
              "  </style>\n",
              "\n",
              "      <script>\n",
              "        const buttonEl =\n",
              "          document.querySelector('#df-019cf75d-e7ec-43d8-a2cb-8d9e8bd690ac button.colab-df-convert');\n",
              "        buttonEl.style.display =\n",
              "          google.colab.kernel.accessAllowed ? 'block' : 'none';\n",
              "\n",
              "        async function convertToInteractive(key) {\n",
              "          const element = document.querySelector('#df-019cf75d-e7ec-43d8-a2cb-8d9e8bd690ac');\n",
              "          const dataTable =\n",
              "            await google.colab.kernel.invokeFunction('convertToInteractive',\n",
              "                                                     [key], {});\n",
              "          if (!dataTable) return;\n",
              "\n",
              "          const docLinkHtml = 'Like what you see? Visit the ' +\n",
              "            '<a target=\"_blank\" href=https://colab.research.google.com/notebooks/data_table.ipynb>data table notebook</a>'\n",
              "            + ' to learn more about interactive tables.';\n",
              "          element.innerHTML = '';\n",
              "          dataTable['output_type'] = 'display_data';\n",
              "          await google.colab.output.renderOutput(dataTable, element);\n",
              "          const docLink = document.createElement('div');\n",
              "          docLink.innerHTML = docLinkHtml;\n",
              "          element.appendChild(docLink);\n",
              "        }\n",
              "      </script>\n",
              "    </div>\n",
              "  </div>\n",
              "  "
            ]
          },
          "metadata": {},
          "execution_count": 4
        }
      ],
      "source": [
        "data.head()"
      ]
    },
    {
      "cell_type": "code",
      "execution_count": 5,
      "id": "8e9ae0b7",
      "metadata": {
        "colab": {
          "base_uri": "https://localhost:8080/"
        },
        "id": "8e9ae0b7",
        "outputId": "77ca20d7-284f-41e5-d34b-8806b7ed0f52"
      },
      "outputs": [
        {
          "output_type": "stream",
          "name": "stdout",
          "text": [
            "<class 'pandas.core.frame.DataFrame'>\n",
            "RangeIndex: 10682 entries, 0 to 10681\n",
            "Data columns (total 11 columns):\n",
            " #   Column           Non-Null Count  Dtype \n",
            "---  ------           --------------  ----- \n",
            " 0   Airline          10682 non-null  object\n",
            " 1   Date_of_Journey  10682 non-null  object\n",
            " 2   Source           10682 non-null  object\n",
            " 3   Destination      10682 non-null  object\n",
            " 4   Route            10681 non-null  object\n",
            " 5   Dep_Time         10682 non-null  object\n",
            " 6   Arrival_Time     10682 non-null  object\n",
            " 7   Duration         10682 non-null  object\n",
            " 8   Total_Stops      10681 non-null  object\n",
            " 9   Additional_Info  10682 non-null  object\n",
            " 10  Price            10682 non-null  int64 \n",
            "dtypes: int64(1), object(10)\n",
            "memory usage: 918.1+ KB\n"
          ]
        }
      ],
      "source": [
        "#Information about the data\n",
        "data.info() "
      ]
    },
    {
      "cell_type": "code",
      "execution_count": 6,
      "id": "d0bcad9a",
      "metadata": {
        "colab": {
          "base_uri": "https://localhost:8080/"
        },
        "id": "d0bcad9a",
        "outputId": "405d73fc-f112-44e3-b70c-72c9718adaa7"
      },
      "outputs": [
        {
          "output_type": "execute_result",
          "data": {
            "text/plain": [
              "(10682, 11)"
            ]
          },
          "metadata": {},
          "execution_count": 6
        }
      ],
      "source": [
        "#Checking the shape of the data\n",
        "data.shape"
      ]
    },
    {
      "cell_type": "code",
      "execution_count": 7,
      "id": "f8f58a15",
      "metadata": {
        "colab": {
          "base_uri": "https://localhost:8080/"
        },
        "id": "f8f58a15",
        "outputId": "b90d1c7d-c0ad-40d5-9fe3-bd96eb6b8972"
      },
      "outputs": [
        {
          "output_type": "execute_result",
          "data": {
            "text/plain": [
              "Airline            0\n",
              "Date_of_Journey    0\n",
              "Source             0\n",
              "Destination        0\n",
              "Route              1\n",
              "Dep_Time           0\n",
              "Arrival_Time       0\n",
              "Duration           0\n",
              "Total_Stops        1\n",
              "Additional_Info    0\n",
              "Price              0\n",
              "dtype: int64"
            ]
          },
          "metadata": {},
          "execution_count": 7
        }
      ],
      "source": [
        "#finding the null values\n",
        "data.isnull().sum()"
      ]
    },
    {
      "cell_type": "code",
      "execution_count": 8,
      "id": "b0b813cd",
      "metadata": {
        "colab": {
          "base_uri": "https://localhost:8080/",
          "height": 81
        },
        "id": "b0b813cd",
        "outputId": "5fb05adc-4f5d-46e3-9fdf-650f3b2fb5ea"
      },
      "outputs": [
        {
          "output_type": "execute_result",
          "data": {
            "text/plain": [
              "        Airline Date_of_Journey Source Destination Route Dep_Time  \\\n",
              "9038  Air India       6/05/2019  Delhi      Cochin   NaN    09:45   \n",
              "\n",
              "      Arrival_Time Duration Total_Stops Additional_Info  Price  \n",
              "9038  09:25 07 May  23h 40m         NaN         No info   7480  "
            ],
            "text/html": [
              "\n",
              "  <div id=\"df-87a2e973-eece-4e13-bbec-cc40e975d4e8\">\n",
              "    <div class=\"colab-df-container\">\n",
              "      <div>\n",
              "<style scoped>\n",
              "    .dataframe tbody tr th:only-of-type {\n",
              "        vertical-align: middle;\n",
              "    }\n",
              "\n",
              "    .dataframe tbody tr th {\n",
              "        vertical-align: top;\n",
              "    }\n",
              "\n",
              "    .dataframe thead th {\n",
              "        text-align: right;\n",
              "    }\n",
              "</style>\n",
              "<table border=\"1\" class=\"dataframe\">\n",
              "  <thead>\n",
              "    <tr style=\"text-align: right;\">\n",
              "      <th></th>\n",
              "      <th>Airline</th>\n",
              "      <th>Date_of_Journey</th>\n",
              "      <th>Source</th>\n",
              "      <th>Destination</th>\n",
              "      <th>Route</th>\n",
              "      <th>Dep_Time</th>\n",
              "      <th>Arrival_Time</th>\n",
              "      <th>Duration</th>\n",
              "      <th>Total_Stops</th>\n",
              "      <th>Additional_Info</th>\n",
              "      <th>Price</th>\n",
              "    </tr>\n",
              "  </thead>\n",
              "  <tbody>\n",
              "    <tr>\n",
              "      <th>9038</th>\n",
              "      <td>Air India</td>\n",
              "      <td>6/05/2019</td>\n",
              "      <td>Delhi</td>\n",
              "      <td>Cochin</td>\n",
              "      <td>NaN</td>\n",
              "      <td>09:45</td>\n",
              "      <td>09:25 07 May</td>\n",
              "      <td>23h 40m</td>\n",
              "      <td>NaN</td>\n",
              "      <td>No info</td>\n",
              "      <td>7480</td>\n",
              "    </tr>\n",
              "  </tbody>\n",
              "</table>\n",
              "</div>\n",
              "      <button class=\"colab-df-convert\" onclick=\"convertToInteractive('df-87a2e973-eece-4e13-bbec-cc40e975d4e8')\"\n",
              "              title=\"Convert this dataframe to an interactive table.\"\n",
              "              style=\"display:none;\">\n",
              "        \n",
              "  <svg xmlns=\"http://www.w3.org/2000/svg\" height=\"24px\"viewBox=\"0 0 24 24\"\n",
              "       width=\"24px\">\n",
              "    <path d=\"M0 0h24v24H0V0z\" fill=\"none\"/>\n",
              "    <path d=\"M18.56 5.44l.94 2.06.94-2.06 2.06-.94-2.06-.94-.94-2.06-.94 2.06-2.06.94zm-11 1L8.5 8.5l.94-2.06 2.06-.94-2.06-.94L8.5 2.5l-.94 2.06-2.06.94zm10 10l.94 2.06.94-2.06 2.06-.94-2.06-.94-.94-2.06-.94 2.06-2.06.94z\"/><path d=\"M17.41 7.96l-1.37-1.37c-.4-.4-.92-.59-1.43-.59-.52 0-1.04.2-1.43.59L10.3 9.45l-7.72 7.72c-.78.78-.78 2.05 0 2.83L4 21.41c.39.39.9.59 1.41.59.51 0 1.02-.2 1.41-.59l7.78-7.78 2.81-2.81c.8-.78.8-2.07 0-2.86zM5.41 20L4 18.59l7.72-7.72 1.47 1.35L5.41 20z\"/>\n",
              "  </svg>\n",
              "      </button>\n",
              "      \n",
              "  <style>\n",
              "    .colab-df-container {\n",
              "      display:flex;\n",
              "      flex-wrap:wrap;\n",
              "      gap: 12px;\n",
              "    }\n",
              "\n",
              "    .colab-df-convert {\n",
              "      background-color: #E8F0FE;\n",
              "      border: none;\n",
              "      border-radius: 50%;\n",
              "      cursor: pointer;\n",
              "      display: none;\n",
              "      fill: #1967D2;\n",
              "      height: 32px;\n",
              "      padding: 0 0 0 0;\n",
              "      width: 32px;\n",
              "    }\n",
              "\n",
              "    .colab-df-convert:hover {\n",
              "      background-color: #E2EBFA;\n",
              "      box-shadow: 0px 1px 2px rgba(60, 64, 67, 0.3), 0px 1px 3px 1px rgba(60, 64, 67, 0.15);\n",
              "      fill: #174EA6;\n",
              "    }\n",
              "\n",
              "    [theme=dark] .colab-df-convert {\n",
              "      background-color: #3B4455;\n",
              "      fill: #D2E3FC;\n",
              "    }\n",
              "\n",
              "    [theme=dark] .colab-df-convert:hover {\n",
              "      background-color: #434B5C;\n",
              "      box-shadow: 0px 1px 3px 1px rgba(0, 0, 0, 0.15);\n",
              "      filter: drop-shadow(0px 1px 2px rgba(0, 0, 0, 0.3));\n",
              "      fill: #FFFFFF;\n",
              "    }\n",
              "  </style>\n",
              "\n",
              "      <script>\n",
              "        const buttonEl =\n",
              "          document.querySelector('#df-87a2e973-eece-4e13-bbec-cc40e975d4e8 button.colab-df-convert');\n",
              "        buttonEl.style.display =\n",
              "          google.colab.kernel.accessAllowed ? 'block' : 'none';\n",
              "\n",
              "        async function convertToInteractive(key) {\n",
              "          const element = document.querySelector('#df-87a2e973-eece-4e13-bbec-cc40e975d4e8');\n",
              "          const dataTable =\n",
              "            await google.colab.kernel.invokeFunction('convertToInteractive',\n",
              "                                                     [key], {});\n",
              "          if (!dataTable) return;\n",
              "\n",
              "          const docLinkHtml = 'Like what you see? Visit the ' +\n",
              "            '<a target=\"_blank\" href=https://colab.research.google.com/notebooks/data_table.ipynb>data table notebook</a>'\n",
              "            + ' to learn more about interactive tables.';\n",
              "          element.innerHTML = '';\n",
              "          dataTable['output_type'] = 'display_data';\n",
              "          await google.colab.output.renderOutput(dataTable, element);\n",
              "          const docLink = document.createElement('div');\n",
              "          docLink.innerHTML = docLinkHtml;\n",
              "          element.appendChild(docLink);\n",
              "        }\n",
              "      </script>\n",
              "    </div>\n",
              "  </div>\n",
              "  "
            ]
          },
          "metadata": {},
          "execution_count": 8
        }
      ],
      "source": [
        "# Checking where the null value present\n",
        "data[data['Route'].isna()]"
      ]
    },
    {
      "cell_type": "markdown",
      "id": "fdaa95bf",
      "metadata": {
        "id": "fdaa95bf"
      },
      "source": [
        "* Those 2 values belong to a single row so we can drop that row"
      ]
    },
    {
      "cell_type": "code",
      "execution_count": 9,
      "id": "08e436c2",
      "metadata": {
        "id": "08e436c2"
      },
      "outputs": [],
      "source": [
        "#drop the null values\n",
        "data.dropna(inplace=True)"
      ]
    },
    {
      "cell_type": "code",
      "execution_count": 10,
      "id": "3b804825",
      "metadata": {
        "colab": {
          "base_uri": "https://localhost:8080/"
        },
        "id": "3b804825",
        "outputId": "ae7c2a67-21e1-4a28-e87f-d435331b1846"
      },
      "outputs": [
        {
          "output_type": "execute_result",
          "data": {
            "text/plain": [
              "Airline            0\n",
              "Date_of_Journey    0\n",
              "Source             0\n",
              "Destination        0\n",
              "Route              0\n",
              "Dep_Time           0\n",
              "Arrival_Time       0\n",
              "Duration           0\n",
              "Total_Stops        0\n",
              "Additional_Info    0\n",
              "Price              0\n",
              "dtype: int64"
            ]
          },
          "metadata": {},
          "execution_count": 10
        }
      ],
      "source": [
        "data.isnull().sum()"
      ]
    },
    {
      "cell_type": "code",
      "execution_count": 11,
      "id": "1f7ee352",
      "metadata": {
        "colab": {
          "base_uri": "https://localhost:8080/"
        },
        "id": "1f7ee352",
        "outputId": "64380873-1934-4faf-9d3a-3d89fc97085d"
      },
      "outputs": [
        {
          "output_type": "execute_result",
          "data": {
            "text/plain": [
              "Airline            object\n",
              "Date_of_Journey    object\n",
              "Source             object\n",
              "Destination        object\n",
              "Route              object\n",
              "Dep_Time           object\n",
              "Arrival_Time       object\n",
              "Duration           object\n",
              "Total_Stops        object\n",
              "Additional_Info    object\n",
              "Price               int64\n",
              "dtype: object"
            ]
          },
          "metadata": {},
          "execution_count": 11
        }
      ],
      "source": [
        "#Checking the dtypes of the variables in the data\n",
        "data.dtypes"
      ]
    },
    {
      "cell_type": "markdown",
      "id": "c3369c31",
      "metadata": {
        "id": "c3369c31"
      },
      "source": [
        "* The dtypes of 'Date_of_Journey','Dep_Time',and 'Arrival_Time' is in object, so firstly converting it into datetime dtype "
      ]
    },
    {
      "cell_type": "code",
      "execution_count": 12,
      "id": "f5afaba4",
      "metadata": {
        "id": "f5afaba4"
      },
      "outputs": [],
      "source": [
        "# Creating a function to convert those columns into datetime dtype\n",
        "def To_Datetime(data,column):\n",
        "    data[column] = pd.to_datetime(data[column])\n",
        "    return data[column]"
      ]
    },
    {
      "cell_type": "code",
      "execution_count": 13,
      "id": "86b3650a",
      "metadata": {
        "colab": {
          "base_uri": "https://localhost:8080/"
        },
        "id": "86b3650a",
        "outputId": "5e1bef72-a9bd-4bba-8d99-6ffd3ad586b7"
      },
      "outputs": [
        {
          "output_type": "execute_result",
          "data": {
            "text/plain": [
              "0       2022-03-22 01:10:00\n",
              "1       2022-04-29 13:15:00\n",
              "2       2022-06-10 04:25:00\n",
              "3       2022-04-29 23:30:00\n",
              "4       2022-04-29 21:35:00\n",
              "                ...        \n",
              "10677   2022-04-29 22:25:00\n",
              "10678   2022-04-29 23:20:00\n",
              "10679   2022-04-29 11:20:00\n",
              "10680   2022-04-29 14:10:00\n",
              "10681   2022-04-29 19:15:00\n",
              "Name: Arrival_Time, Length: 10681, dtype: datetime64[ns]"
            ]
          },
          "metadata": {},
          "execution_count": 13
        }
      ],
      "source": [
        "# convert the columns we want into datetime\n",
        "To_Datetime(data,'Date_of_Journey')\n",
        "To_Datetime(data,'Dep_Time')\n",
        "To_Datetime(data,'Arrival_Time')"
      ]
    },
    {
      "cell_type": "markdown",
      "id": "56bc77f2",
      "metadata": {
        "id": "56bc77f2"
      },
      "source": [
        "* We can extract day and month from Date_of_journey and store it in two other columns."
      ]
    },
    {
      "cell_type": "code",
      "execution_count": 14,
      "id": "ca10d927",
      "metadata": {
        "id": "ca10d927"
      },
      "outputs": [],
      "source": [
        "# creating new columns\n",
        "data['Day_of_Journey'] = data['Date_of_Journey'].dt.day\n",
        "data['Month_of_Journey'] = data['Date_of_Journey'].dt.month"
      ]
    },
    {
      "cell_type": "markdown",
      "id": "950f2a7d",
      "metadata": {
        "id": "950f2a7d"
      },
      "source": [
        "* Now using Dep_Time and Arrival_Time we can extract hour and minute from both the variables"
      ]
    },
    {
      "cell_type": "raw",
      "id": "0571d2ea",
      "metadata": {
        "id": "0571d2ea"
      },
      "source": [
        ".dt.hour method will extract only day of that Hour\n",
        "\n",
        ".dt.minute method will extract only month of that Minute"
      ]
    },
    {
      "cell_type": "code",
      "execution_count": 15,
      "id": "c4ae93c7",
      "metadata": {
        "id": "c4ae93c7"
      },
      "outputs": [],
      "source": [
        "# Extracting hour and minute values from Dep_time variable\n",
        "data['Dep_hour'] = data['Dep_Time'].dt.hour\n",
        "data['Dep_minute'] = data['Dep_Time'].dt.minute\n",
        "\n",
        "# Extracting hour value from Dep_time variable\n",
        "data['Arrival_hour'] = data['Arrival_Time'].dt.hour\n",
        "data['Arrival_minute'] = data['Arrival_Time'].dt.minute"
      ]
    },
    {
      "cell_type": "markdown",
      "id": "36137fe3",
      "metadata": {
        "id": "36137fe3"
      },
      "source": [
        "* After extacting required data from Date_of_Journey, Dep_Time, and Arrival_Time we can drop these variables "
      ]
    },
    {
      "cell_type": "code",
      "execution_count": 16,
      "id": "46dae511",
      "metadata": {
        "id": "46dae511"
      },
      "outputs": [],
      "source": [
        "data.drop(['Date_of_Journey','Dep_Time','Arrival_Time'],axis=1,inplace=True)"
      ]
    },
    {
      "cell_type": "markdown",
      "id": "433479f2",
      "metadata": {
        "id": "433479f2"
      },
      "source": [
        "* Lets Apply pre-processing on duration column,Separate Duration hours and minute from duration"
      ]
    },
    {
      "cell_type": "code",
      "execution_count": 17,
      "id": "35c58789",
      "metadata": {
        "id": "35c58789"
      },
      "outputs": [],
      "source": [
        "duration=list(data['Duration'])\n",
        "for i in range(len(duration)):\n",
        "    if len(duration[i].split(' '))==2:\n",
        "        pass\n",
        "    else:\n",
        "        if 'h' in duration[i]: # Check if duration contains only hour\n",
        "             duration[i]=duration[i] + ' 0m' # Adds 0 minute\n",
        "        else:\n",
        "             duration[i]='0h '+ duration[i]\n",
        "            \n",
        "duration_hours = []\n",
        "duration_mins = []\n",
        "for i in range(len(duration)):\n",
        "    duration_hours.append(int(duration[i].split(sep = \"h\")[0]))    # Extract hours from duration\n",
        "    duration_mins.append(int(duration[i].split(sep = \"m\")[0].split()[-1]))   # Extracts only minutes from duration"
      ]
    },
    {
      "cell_type": "code",
      "execution_count": 18,
      "id": "a6b98aca",
      "metadata": {
        "id": "a6b98aca"
      },
      "outputs": [],
      "source": [
        "# Adding duration_hours and duration_mins list to train_data dataframe\n",
        "\n",
        "data[\"Duration_hours\"] = duration_hours\n",
        "data[\"Duration_mins\"] = duration_mins"
      ]
    },
    {
      "cell_type": "code",
      "execution_count": 19,
      "id": "1f90ae17",
      "metadata": {
        "id": "1f90ae17"
      },
      "outputs": [],
      "source": [
        "#Dropping Duration variable as we have extracted both hours and mins from it\n",
        "data.drop([\"Duration\"], axis = 1, inplace = True)"
      ]
    },
    {
      "cell_type": "code",
      "execution_count": 20,
      "id": "b741e77d",
      "metadata": {
        "colab": {
          "base_uri": "https://localhost:8080/",
          "height": 652
        },
        "id": "b741e77d",
        "outputId": "269e948e-9ea1-4675-ee88-63c697a0063b"
      },
      "outputs": [
        {
          "output_type": "execute_result",
          "data": {
            "text/plain": [
              "       Airline    Source Destination                  Route Total_Stops  \\\n",
              "0       IndiGo  Banglore   New Delhi              BLR → DEL    non-stop   \n",
              "1    Air India   Kolkata    Banglore  CCU → IXR → BBI → BLR     2 stops   \n",
              "2  Jet Airways     Delhi      Cochin  DEL → LKO → BOM → COK     2 stops   \n",
              "3       IndiGo   Kolkata    Banglore        CCU → NAG → BLR      1 stop   \n",
              "4       IndiGo  Banglore   New Delhi        BLR → NAG → DEL      1 stop   \n",
              "\n",
              "  Additional_Info  Price  Day_of_Journey  Month_of_Journey  Dep_hour  \\\n",
              "0         No info   3897              24                 3        22   \n",
              "1         No info   7662               5                 1         5   \n",
              "2         No info  13882               6                 9         9   \n",
              "3         No info   6218               5                12        18   \n",
              "4         No info  13302               3                 1        16   \n",
              "\n",
              "   Dep_minute  Arrival_hour  Arrival_minute  Duration_hours  Duration_mins  \n",
              "0          20             1              10               2             50  \n",
              "1          50            13              15               7             25  \n",
              "2          25             4              25              19              0  \n",
              "3           5            23              30               5             25  \n",
              "4          50            21              35               4             45  "
            ],
            "text/html": [
              "\n",
              "  <div id=\"df-83f7bd70-d053-47aa-b6a0-a875beb76bf3\">\n",
              "    <div class=\"colab-df-container\">\n",
              "      <div>\n",
              "<style scoped>\n",
              "    .dataframe tbody tr th:only-of-type {\n",
              "        vertical-align: middle;\n",
              "    }\n",
              "\n",
              "    .dataframe tbody tr th {\n",
              "        vertical-align: top;\n",
              "    }\n",
              "\n",
              "    .dataframe thead th {\n",
              "        text-align: right;\n",
              "    }\n",
              "</style>\n",
              "<table border=\"1\" class=\"dataframe\">\n",
              "  <thead>\n",
              "    <tr style=\"text-align: right;\">\n",
              "      <th></th>\n",
              "      <th>Airline</th>\n",
              "      <th>Source</th>\n",
              "      <th>Destination</th>\n",
              "      <th>Route</th>\n",
              "      <th>Total_Stops</th>\n",
              "      <th>Additional_Info</th>\n",
              "      <th>Price</th>\n",
              "      <th>Day_of_Journey</th>\n",
              "      <th>Month_of_Journey</th>\n",
              "      <th>Dep_hour</th>\n",
              "      <th>Dep_minute</th>\n",
              "      <th>Arrival_hour</th>\n",
              "      <th>Arrival_minute</th>\n",
              "      <th>Duration_hours</th>\n",
              "      <th>Duration_mins</th>\n",
              "    </tr>\n",
              "  </thead>\n",
              "  <tbody>\n",
              "    <tr>\n",
              "      <th>0</th>\n",
              "      <td>IndiGo</td>\n",
              "      <td>Banglore</td>\n",
              "      <td>New Delhi</td>\n",
              "      <td>BLR → DEL</td>\n",
              "      <td>non-stop</td>\n",
              "      <td>No info</td>\n",
              "      <td>3897</td>\n",
              "      <td>24</td>\n",
              "      <td>3</td>\n",
              "      <td>22</td>\n",
              "      <td>20</td>\n",
              "      <td>1</td>\n",
              "      <td>10</td>\n",
              "      <td>2</td>\n",
              "      <td>50</td>\n",
              "    </tr>\n",
              "    <tr>\n",
              "      <th>1</th>\n",
              "      <td>Air India</td>\n",
              "      <td>Kolkata</td>\n",
              "      <td>Banglore</td>\n",
              "      <td>CCU → IXR → BBI → BLR</td>\n",
              "      <td>2 stops</td>\n",
              "      <td>No info</td>\n",
              "      <td>7662</td>\n",
              "      <td>5</td>\n",
              "      <td>1</td>\n",
              "      <td>5</td>\n",
              "      <td>50</td>\n",
              "      <td>13</td>\n",
              "      <td>15</td>\n",
              "      <td>7</td>\n",
              "      <td>25</td>\n",
              "    </tr>\n",
              "    <tr>\n",
              "      <th>2</th>\n",
              "      <td>Jet Airways</td>\n",
              "      <td>Delhi</td>\n",
              "      <td>Cochin</td>\n",
              "      <td>DEL → LKO → BOM → COK</td>\n",
              "      <td>2 stops</td>\n",
              "      <td>No info</td>\n",
              "      <td>13882</td>\n",
              "      <td>6</td>\n",
              "      <td>9</td>\n",
              "      <td>9</td>\n",
              "      <td>25</td>\n",
              "      <td>4</td>\n",
              "      <td>25</td>\n",
              "      <td>19</td>\n",
              "      <td>0</td>\n",
              "    </tr>\n",
              "    <tr>\n",
              "      <th>3</th>\n",
              "      <td>IndiGo</td>\n",
              "      <td>Kolkata</td>\n",
              "      <td>Banglore</td>\n",
              "      <td>CCU → NAG → BLR</td>\n",
              "      <td>1 stop</td>\n",
              "      <td>No info</td>\n",
              "      <td>6218</td>\n",
              "      <td>5</td>\n",
              "      <td>12</td>\n",
              "      <td>18</td>\n",
              "      <td>5</td>\n",
              "      <td>23</td>\n",
              "      <td>30</td>\n",
              "      <td>5</td>\n",
              "      <td>25</td>\n",
              "    </tr>\n",
              "    <tr>\n",
              "      <th>4</th>\n",
              "      <td>IndiGo</td>\n",
              "      <td>Banglore</td>\n",
              "      <td>New Delhi</td>\n",
              "      <td>BLR → NAG → DEL</td>\n",
              "      <td>1 stop</td>\n",
              "      <td>No info</td>\n",
              "      <td>13302</td>\n",
              "      <td>3</td>\n",
              "      <td>1</td>\n",
              "      <td>16</td>\n",
              "      <td>50</td>\n",
              "      <td>21</td>\n",
              "      <td>35</td>\n",
              "      <td>4</td>\n",
              "      <td>45</td>\n",
              "    </tr>\n",
              "  </tbody>\n",
              "</table>\n",
              "</div>\n",
              "      <button class=\"colab-df-convert\" onclick=\"convertToInteractive('df-83f7bd70-d053-47aa-b6a0-a875beb76bf3')\"\n",
              "              title=\"Convert this dataframe to an interactive table.\"\n",
              "              style=\"display:none;\">\n",
              "        \n",
              "  <svg xmlns=\"http://www.w3.org/2000/svg\" height=\"24px\"viewBox=\"0 0 24 24\"\n",
              "       width=\"24px\">\n",
              "    <path d=\"M0 0h24v24H0V0z\" fill=\"none\"/>\n",
              "    <path d=\"M18.56 5.44l.94 2.06.94-2.06 2.06-.94-2.06-.94-.94-2.06-.94 2.06-2.06.94zm-11 1L8.5 8.5l.94-2.06 2.06-.94-2.06-.94L8.5 2.5l-.94 2.06-2.06.94zm10 10l.94 2.06.94-2.06 2.06-.94-2.06-.94-.94-2.06-.94 2.06-2.06.94z\"/><path d=\"M17.41 7.96l-1.37-1.37c-.4-.4-.92-.59-1.43-.59-.52 0-1.04.2-1.43.59L10.3 9.45l-7.72 7.72c-.78.78-.78 2.05 0 2.83L4 21.41c.39.39.9.59 1.41.59.51 0 1.02-.2 1.41-.59l7.78-7.78 2.81-2.81c.8-.78.8-2.07 0-2.86zM5.41 20L4 18.59l7.72-7.72 1.47 1.35L5.41 20z\"/>\n",
              "  </svg>\n",
              "      </button>\n",
              "      \n",
              "  <style>\n",
              "    .colab-df-container {\n",
              "      display:flex;\n",
              "      flex-wrap:wrap;\n",
              "      gap: 12px;\n",
              "    }\n",
              "\n",
              "    .colab-df-convert {\n",
              "      background-color: #E8F0FE;\n",
              "      border: none;\n",
              "      border-radius: 50%;\n",
              "      cursor: pointer;\n",
              "      display: none;\n",
              "      fill: #1967D2;\n",
              "      height: 32px;\n",
              "      padding: 0 0 0 0;\n",
              "      width: 32px;\n",
              "    }\n",
              "\n",
              "    .colab-df-convert:hover {\n",
              "      background-color: #E2EBFA;\n",
              "      box-shadow: 0px 1px 2px rgba(60, 64, 67, 0.3), 0px 1px 3px 1px rgba(60, 64, 67, 0.15);\n",
              "      fill: #174EA6;\n",
              "    }\n",
              "\n",
              "    [theme=dark] .colab-df-convert {\n",
              "      background-color: #3B4455;\n",
              "      fill: #D2E3FC;\n",
              "    }\n",
              "\n",
              "    [theme=dark] .colab-df-convert:hover {\n",
              "      background-color: #434B5C;\n",
              "      box-shadow: 0px 1px 3px 1px rgba(0, 0, 0, 0.15);\n",
              "      filter: drop-shadow(0px 1px 2px rgba(0, 0, 0, 0.3));\n",
              "      fill: #FFFFFF;\n",
              "    }\n",
              "  </style>\n",
              "\n",
              "      <script>\n",
              "        const buttonEl =\n",
              "          document.querySelector('#df-83f7bd70-d053-47aa-b6a0-a875beb76bf3 button.colab-df-convert');\n",
              "        buttonEl.style.display =\n",
              "          google.colab.kernel.accessAllowed ? 'block' : 'none';\n",
              "\n",
              "        async function convertToInteractive(key) {\n",
              "          const element = document.querySelector('#df-83f7bd70-d053-47aa-b6a0-a875beb76bf3');\n",
              "          const dataTable =\n",
              "            await google.colab.kernel.invokeFunction('convertToInteractive',\n",
              "                                                     [key], {});\n",
              "          if (!dataTable) return;\n",
              "\n",
              "          const docLinkHtml = 'Like what you see? Visit the ' +\n",
              "            '<a target=\"_blank\" href=https://colab.research.google.com/notebooks/data_table.ipynb>data table notebook</a>'\n",
              "            + ' to learn more about interactive tables.';\n",
              "          element.innerHTML = '';\n",
              "          dataTable['output_type'] = 'display_data';\n",
              "          await google.colab.output.renderOutput(dataTable, element);\n",
              "          const docLink = document.createElement('div');\n",
              "          docLink.innerHTML = docLinkHtml;\n",
              "          element.appendChild(docLink);\n",
              "        }\n",
              "      </script>\n",
              "    </div>\n",
              "  </div>\n",
              "  "
            ]
          },
          "metadata": {},
          "execution_count": 20
        }
      ],
      "source": [
        "data.head()"
      ]
    },
    {
      "cell_type": "code",
      "execution_count": 21,
      "id": "6b13910f",
      "metadata": {
        "colab": {
          "base_uri": "https://localhost:8080/"
        },
        "id": "6b13910f",
        "outputId": "8a882a56-9c0e-4a3a-eebc-1e172ec68339"
      },
      "outputs": [
        {
          "output_type": "execute_result",
          "data": {
            "text/plain": [
              "Airline             object\n",
              "Source              object\n",
              "Destination         object\n",
              "Route               object\n",
              "Total_Stops         object\n",
              "Additional_Info     object\n",
              "Price                int64\n",
              "Day_of_Journey       int64\n",
              "Month_of_Journey     int64\n",
              "Dep_hour             int64\n",
              "Dep_minute           int64\n",
              "Arrival_hour         int64\n",
              "Arrival_minute       int64\n",
              "Duration_hours       int64\n",
              "Duration_mins        int64\n",
              "dtype: object"
            ]
          },
          "metadata": {},
          "execution_count": 21
        }
      ],
      "source": [
        "data.dtypes"
      ]
    },
    {
      "cell_type": "markdown",
      "id": "d666a43f",
      "metadata": {
        "id": "d666a43f"
      },
      "source": [
        "### Exploratory Data Analysis"
      ]
    },
    {
      "cell_type": "markdown",
      "id": "f7j_-2-GNL_Q",
      "metadata": {
        "id": "f7j_-2-GNL_Q"
      },
      "source": [
        "#### Univariate Analysis"
      ]
    },
    {
      "cell_type": "code",
      "execution_count": 22,
      "id": "WzR5TWMqPifn",
      "metadata": {
        "id": "WzR5TWMqPifn"
      },
      "outputs": [],
      "source": [
        "# function to create labeled barplots\n",
        "\n",
        "\n",
        "def labeled_barplot(data, feature, perc=False, n=None):\n",
        "    \"\"\"\n",
        "    Barplot with percentage at the top\n",
        "\n",
        "    data: dataframe\n",
        "    feature: dataframe column\n",
        "    perc: whether to display percentages instead of count (default is False)\n",
        "    n: displays the top n category levels (default is None, i.e., display all levels)\n",
        "    \"\"\"\n",
        "\n",
        "    total = len(data[feature])  # length of the column\n",
        "    count = data[feature].nunique()\n",
        "    if n is None:\n",
        "        plt.figure(figsize=(count + 1, 5))\n",
        "    else:\n",
        "        plt.figure(figsize=(n + 1, 5))\n",
        "\n",
        "    plt.xticks(rotation=90, fontsize=15)\n",
        "    ax = sns.countplot(\n",
        "        data=data,\n",
        "        x=feature,\n",
        "        palette=\"Paired\",\n",
        "        order=data[feature].value_counts().index[:n].sort_values(),\n",
        "    )\n",
        "\n",
        "    for p in ax.patches:\n",
        "        if perc == True:\n",
        "            label = \"{:.1f}%\".format(\n",
        "                100 * p.get_height() / total\n",
        "            )  # percentage of each class of the category\n",
        "        else:\n",
        "            label = p.get_height()  # count of each level of the category\n",
        "\n",
        "        x = p.get_x() + p.get_width() / 2  # width of the plot\n",
        "        y = p.get_height()  # height of the plot\n",
        "\n",
        "        ax.annotate(\n",
        "            label,\n",
        "            (x, y),\n",
        "            ha=\"center\",\n",
        "            va=\"center\",\n",
        "            size=12,\n",
        "            xytext=(0, 5),\n",
        "            textcoords=\"offset points\",\n",
        "        )  # annotate the percentage\n",
        "\n",
        "    plt.show()  # show the plot"
      ]
    },
    {
      "cell_type": "markdown",
      "id": "yg2wea5IP1gN",
      "metadata": {
        "id": "yg2wea5IP1gN"
      },
      "source": [
        "### `Airline`"
      ]
    },
    {
      "cell_type": "code",
      "execution_count": 23,
      "id": "g4bEXLHWPkGg",
      "metadata": {
        "colab": {
          "base_uri": "https://localhost:8080/",
          "height": 593
        },
        "id": "g4bEXLHWPkGg",
        "outputId": "d8638fff-4a05-4fba-a495-784943430533"
      },
      "outputs": [
        {
          "output_type": "display_data",
          "data": {
            "text/plain": [
              "<Figure size 864x360 with 1 Axes>"
            ],
            "image/png": "[encoded data removed]"
          },
          "metadata": {
            "needs_background": "light"
          }
        }
      ],
      "source": [
        "labeled_barplot(data, \"Airline\", perc=True)"
      ]
    },
    {
      "cell_type": "markdown",
      "id": "209854f9",
      "metadata": {
        "id": "209854f9"
      },
      "source": [
        "* From the above bar plot we can see most of them have opted Jet Airways as their Airline for transportation"
      ]
    },
    {
      "cell_type": "markdown",
      "id": "7CXyzR5kQc-N",
      "metadata": {
        "id": "7CXyzR5kQc-N"
      },
      "source": [
        "### `Total Stops`"
      ]
    },
    {
      "cell_type": "code",
      "execution_count": 24,
      "id": "J7s7hUc0QDMs",
      "metadata": {
        "colab": {
          "base_uri": "https://localhost:8080/",
          "height": 391
        },
        "id": "J7s7hUc0QDMs",
        "outputId": "b120b7e2-269b-4c32-b49e-ad55fa5a4ca3"
      },
      "outputs": [
        {
          "output_type": "display_data",
          "data": {
            "text/plain": [
              "<Figure size 432x360 with 1 Axes>"
            ],
            "image/png": "[encoded data removed]"
          },
          "metadata": {
            "needs_background": "light"
          }
        }
      ],
      "source": [
        "labeled_barplot(data, \"Total_Stops\", perc=True)"
      ]
    },
    {
      "cell_type": "markdown",
      "id": "48883b8a",
      "metadata": {
        "id": "48883b8a"
      },
      "source": [
        "* Most of the airlines runs with maximum of single stop during the journey  "
      ]
    },
    {
      "cell_type": "markdown",
      "id": "09YwuDoXQuYZ",
      "metadata": {
        "id": "09YwuDoXQuYZ"
      },
      "source": [
        "### `Source`"
      ]
    },
    {
      "cell_type": "code",
      "execution_count": 25,
      "id": "u5NCnUayQm4v",
      "metadata": {
        "colab": {
          "base_uri": "https://localhost:8080/",
          "height": 391
        },
        "id": "u5NCnUayQm4v",
        "outputId": "207c4a4d-0cd9-4dab-a44d-b412f0911764"
      },
      "outputs": [
        {
          "output_type": "display_data",
          "data": {
            "text/plain": [
              "<Figure size 432x360 with 1 Axes>"
            ],
            "image/png": "[encoded data removed]"
          },
          "metadata": {
            "needs_background": "light"
          }
        }
      ],
      "source": [
        "labeled_barplot(data, \"Source\", perc=True)"
      ]
    },
    {
      "cell_type": "markdown",
      "id": "ce09cd90",
      "metadata": {
        "id": "ce09cd90"
      },
      "source": [
        "* Most of flights are departing from the capital city of India(Delhi) "
      ]
    },
    {
      "cell_type": "markdown",
      "id": "I9JbDIVPRBjo",
      "metadata": {
        "id": "I9JbDIVPRBjo"
      },
      "source": [
        "### `Destination`"
      ]
    },
    {
      "cell_type": "code",
      "execution_count": 26,
      "id": "y7ATHLN-Q01G",
      "metadata": {
        "colab": {
          "base_uri": "https://localhost:8080/",
          "height": 407
        },
        "id": "y7ATHLN-Q01G",
        "outputId": "47e15349-d904-469c-a4f2-bab086cd561c"
      },
      "outputs": [
        {
          "output_type": "display_data",
          "data": {
            "text/plain": [
              "<Figure size 504x360 with 1 Axes>"
            ],
            "image/png": "[encoded data removed]"
          },
          "metadata": {
            "needs_background": "light"
          }
        }
      ],
      "source": [
        "labeled_barplot(data, \"Destination\", perc=True)"
      ]
    },
    {
      "cell_type": "code",
      "execution_count": 27,
      "id": "d22db2b0",
      "metadata": {
        "id": "d22db2b0"
      },
      "outputs": [],
      "source": [
        "#New Delhi and Delhi can be the same so we will merge them\n",
        "data['Destination'].replace('New Delhi','Delhi',inplace=True)"
      ]
    },
    {
      "cell_type": "code",
      "execution_count": 28,
      "id": "cW6IU_x2Q7Z9",
      "metadata": {
        "colab": {
          "base_uri": "https://localhost:8080/",
          "height": 407
        },
        "id": "cW6IU_x2Q7Z9",
        "outputId": "d756d4bf-eee3-4fce-c3f8-1f2d14c6f2e5"
      },
      "outputs": [
        {
          "output_type": "display_data",
          "data": {
            "text/plain": [
              "<Figure size 432x360 with 1 Axes>"
            ],
            "image/png": "[encoded data removed]"
          },
          "metadata": {
            "needs_background": "light"
          }
        }
      ],
      "source": [
        "labeled_barplot(data, \"Destination\", perc=True)"
      ]
    },
    {
      "cell_type": "markdown",
      "id": "edcd2a59",
      "metadata": {
        "id": "edcd2a59"
      },
      "source": [
        "* From the above plot we can observe most of the filghts are going to Cochin "
      ]
    },
    {
      "cell_type": "markdown",
      "id": "ilK_4PToRQXT",
      "metadata": {
        "id": "ilK_4PToRQXT"
      },
      "source": [
        "### `Additional_Info`"
      ]
    },
    {
      "cell_type": "code",
      "execution_count": 29,
      "id": "5h9pWbnzRHdL",
      "metadata": {
        "colab": {
          "base_uri": "https://localhost:8080/",
          "height": 553
        },
        "id": "5h9pWbnzRHdL",
        "outputId": "27fa6f6d-b4f8-4396-bc35-34f11d76b232"
      },
      "outputs": [
        {
          "output_type": "display_data",
          "data": {
            "text/plain": [
              "<Figure size 792x360 with 1 Axes>"
            ],
            "image/png": "[encoded data removed]"
          },
          "metadata": {
            "needs_background": "light"
          }
        }
      ],
      "source": [
        "labeled_barplot(data, \"Additional_Info\", perc=True)"
      ]
    },
    {
      "cell_type": "markdown",
      "id": "200be88b",
      "metadata": {
        "id": "200be88b"
      },
      "source": [
        "* As most of the Additional_Info (80%) variable contains No_info so we can drop this from the data"
      ]
    },
    {
      "cell_type": "code",
      "execution_count": 30,
      "id": "cf49da55",
      "metadata": {
        "colab": {
          "base_uri": "https://localhost:8080/"
        },
        "id": "cf49da55",
        "outputId": "b741b18a-0ed6-42f6-f2da-bf4a81ade1d6"
      },
      "outputs": [
        {
          "output_type": "execute_result",
          "data": {
            "text/plain": [
              "DEL → BOM → COK          2376\n",
              "BLR → DEL                1552\n",
              "CCU → BOM → BLR           979\n",
              "CCU → BLR                 724\n",
              "BOM → HYD                 621\n",
              "                         ... \n",
              "CCU → RPR → HYD → BLR       1\n",
              "CCU → VTZ → BLR             1\n",
              "CCU → IXZ → MAA → BLR       1\n",
              "BOM → COK → MAA → HYD       1\n",
              "BOM → BBI → HYD             1\n",
              "Name: Route, Length: 127, dtype: int64"
            ]
          },
          "metadata": {},
          "execution_count": 30
        }
      ],
      "source": [
        "data['Route'].value_counts()"
      ]
    },
    {
      "cell_type": "markdown",
      "id": "a8e0e445",
      "metadata": {
        "id": "a8e0e445"
      },
      "source": [
        "* Route and Total_Stops are related to each other so we can drop Route variable. \n",
        "* Since there is not much information from the Additional_info variable, we will drop the Additional_info variable."
      ]
    },
    {
      "cell_type": "code",
      "execution_count": 31,
      "id": "b28a89d9",
      "metadata": {
        "id": "b28a89d9"
      },
      "outputs": [],
      "source": [
        "data.drop([\"Route\", \"Additional_Info\"], axis = 1, inplace = True)"
      ]
    },
    {
      "cell_type": "code",
      "execution_count": 32,
      "id": "0e9e9487",
      "metadata": {
        "colab": {
          "base_uri": "https://localhost:8080/",
          "height": 287
        },
        "id": "0e9e9487",
        "outputId": "7d89c44e-9ec1-494b-c4c0-8ee59885ae34"
      },
      "outputs": [
        {
          "output_type": "execute_result",
          "data": {
            "text/plain": [
              "       Airline    Source Destination Total_Stops  Price  Day_of_Journey  \\\n",
              "0       IndiGo  Banglore       Delhi    non-stop   3897              24   \n",
              "1    Air India   Kolkata    Banglore     2 stops   7662               5   \n",
              "2  Jet Airways     Delhi      Cochin     2 stops  13882               6   \n",
              "3       IndiGo   Kolkata    Banglore      1 stop   6218               5   \n",
              "4       IndiGo  Banglore       Delhi      1 stop  13302               3   \n",
              "\n",
              "   Month_of_Journey  Dep_hour  Dep_minute  Arrival_hour  Arrival_minute  \\\n",
              "0                 3        22          20             1              10   \n",
              "1                 1         5          50            13              15   \n",
              "2                 9         9          25             4              25   \n",
              "3                12        18           5            23              30   \n",
              "4                 1        16          50            21              35   \n",
              "\n",
              "   Duration_hours  Duration_mins  \n",
              "0               2             50  \n",
              "1               7             25  \n",
              "2              19              0  \n",
              "3               5             25  \n",
              "4               4             45  "
            ],
            "text/html": [
              "\n",
              "  <div id=\"df-b3893627-1cfe-40de-9a54-a5c5d4e61051\">\n",
              "    <div class=\"colab-df-container\">\n",
              "      <div>\n",
              "<style scoped>\n",
              "    .dataframe tbody tr th:only-of-type {\n",
              "        vertical-align: middle;\n",
              "    }\n",
              "\n",
              "    .dataframe tbody tr th {\n",
              "        vertical-align: top;\n",
              "    }\n",
              "\n",
              "    .dataframe thead th {\n",
              "        text-align: right;\n",
              "    }\n",
              "</style>\n",
              "<table border=\"1\" class=\"dataframe\">\n",
              "  <thead>\n",
              "    <tr style=\"text-align: right;\">\n",
              "      <th></th>\n",
              "      <th>Airline</th>\n",
              "      <th>Source</th>\n",
              "      <th>Destination</th>\n",
              "      <th>Total_Stops</th>\n",
              "      <th>Price</th>\n",
              "      <th>Day_of_Journey</th>\n",
              "      <th>Month_of_Journey</th>\n",
              "      <th>Dep_hour</th>\n",
              "      <th>Dep_minute</th>\n",
              "      <th>Arrival_hour</th>\n",
              "      <th>Arrival_minute</th>\n",
              "      <th>Duration_hours</th>\n",
              "      <th>Duration_mins</th>\n",
              "    </tr>\n",
              "  </thead>\n",
              "  <tbody>\n",
              "    <tr>\n",
              "      <th>0</th>\n",
              "      <td>IndiGo</td>\n",
              "      <td>Banglore</td>\n",
              "      <td>Delhi</td>\n",
              "      <td>non-stop</td>\n",
              "      <td>3897</td>\n",
              "      <td>24</td>\n",
              "      <td>3</td>\n",
              "      <td>22</td>\n",
              "      <td>20</td>\n",
              "      <td>1</td>\n",
              "      <td>10</td>\n",
              "      <td>2</td>\n",
              "      <td>50</td>\n",
              "    </tr>\n",
              "    <tr>\n",
              "      <th>1</th>\n",
              "      <td>Air India</td>\n",
              "      <td>Kolkata</td>\n",
              "      <td>Banglore</td>\n",
              "      <td>2 stops</td>\n",
              "      <td>7662</td>\n",
              "      <td>5</td>\n",
              "      <td>1</td>\n",
              "      <td>5</td>\n",
              "      <td>50</td>\n",
              "      <td>13</td>\n",
              "      <td>15</td>\n",
              "      <td>7</td>\n",
              "      <td>25</td>\n",
              "    </tr>\n",
              "    <tr>\n",
              "      <th>2</th>\n",
              "      <td>Jet Airways</td>\n",
              "      <td>Delhi</td>\n",
              "      <td>Cochin</td>\n",
              "      <td>2 stops</td>\n",
              "      <td>13882</td>\n",
              "      <td>6</td>\n",
              "      <td>9</td>\n",
              "      <td>9</td>\n",
              "      <td>25</td>\n",
              "      <td>4</td>\n",
              "      <td>25</td>\n",
              "      <td>19</td>\n",
              "      <td>0</td>\n",
              "    </tr>\n",
              "    <tr>\n",
              "      <th>3</th>\n",
              "      <td>IndiGo</td>\n",
              "      <td>Kolkata</td>\n",
              "      <td>Banglore</td>\n",
              "      <td>1 stop</td>\n",
              "      <td>6218</td>\n",
              "      <td>5</td>\n",
              "      <td>12</td>\n",
              "      <td>18</td>\n",
              "      <td>5</td>\n",
              "      <td>23</td>\n",
              "      <td>30</td>\n",
              "      <td>5</td>\n",
              "      <td>25</td>\n",
              "    </tr>\n",
              "    <tr>\n",
              "      <th>4</th>\n",
              "      <td>IndiGo</td>\n",
              "      <td>Banglore</td>\n",
              "      <td>Delhi</td>\n",
              "      <td>1 stop</td>\n",
              "      <td>13302</td>\n",
              "      <td>3</td>\n",
              "      <td>1</td>\n",
              "      <td>16</td>\n",
              "      <td>50</td>\n",
              "      <td>21</td>\n",
              "      <td>35</td>\n",
              "      <td>4</td>\n",
              "      <td>45</td>\n",
              "    </tr>\n",
              "  </tbody>\n",
              "</table>\n",
              "</div>\n",
              "      <button class=\"colab-df-convert\" onclick=\"convertToInteractive('df-b3893627-1cfe-40de-9a54-a5c5d4e61051')\"\n",
              "              title=\"Convert this dataframe to an interactive table.\"\n",
              "              style=\"display:none;\">\n",
              "        \n",
              "  <svg xmlns=\"http://www.w3.org/2000/svg\" height=\"24px\"viewBox=\"0 0 24 24\"\n",
              "       width=\"24px\">\n",
              "    <path d=\"M0 0h24v24H0V0z\" fill=\"none\"/>\n",
              "    <path d=\"M18.56 5.44l.94 2.06.94-2.06 2.06-.94-2.06-.94-.94-2.06-.94 2.06-2.06.94zm-11 1L8.5 8.5l.94-2.06 2.06-.94-2.06-.94L8.5 2.5l-.94 2.06-2.06.94zm10 10l.94 2.06.94-2.06 2.06-.94-2.06-.94-.94-2.06-.94 2.06-2.06.94z\"/><path d=\"M17.41 7.96l-1.37-1.37c-.4-.4-.92-.59-1.43-.59-.52 0-1.04.2-1.43.59L10.3 9.45l-7.72 7.72c-.78.78-.78 2.05 0 2.83L4 21.41c.39.39.9.59 1.41.59.51 0 1.02-.2 1.41-.59l7.78-7.78 2.81-2.81c.8-.78.8-2.07 0-2.86zM5.41 20L4 18.59l7.72-7.72 1.47 1.35L5.41 20z\"/>\n",
              "  </svg>\n",
              "      </button>\n",
              "      \n",
              "  <style>\n",
              "    .colab-df-container {\n",
              "      display:flex;\n",
              "      flex-wrap:wrap;\n",
              "      gap: 12px;\n",
              "    }\n",
              "\n",
              "    .colab-df-convert {\n",
              "      background-color: #E8F0FE;\n",
              "      border: none;\n",
              "      border-radius: 50%;\n",
              "      cursor: pointer;\n",
              "      display: none;\n",
              "      fill: #1967D2;\n",
              "      height: 32px;\n",
              "      padding: 0 0 0 0;\n",
              "      width: 32px;\n",
              "    }\n",
              "\n",
              "    .colab-df-convert:hover {\n",
              "      background-color: #E2EBFA;\n",
              "      box-shadow: 0px 1px 2px rgba(60, 64, 67, 0.3), 0px 1px 3px 1px rgba(60, 64, 67, 0.15);\n",
              "      fill: #174EA6;\n",
              "    }\n",
              "\n",
              "    [theme=dark] .colab-df-convert {\n",
              "      background-color: #3B4455;\n",
              "      fill: #D2E3FC;\n",
              "    }\n",
              "\n",
              "    [theme=dark] .colab-df-convert:hover {\n",
              "      background-color: #434B5C;\n",
              "      box-shadow: 0px 1px 3px 1px rgba(0, 0, 0, 0.15);\n",
              "      filter: drop-shadow(0px 1px 2px rgba(0, 0, 0, 0.3));\n",
              "      fill: #FFFFFF;\n",
              "    }\n",
              "  </style>\n",
              "\n",
              "      <script>\n",
              "        const buttonEl =\n",
              "          document.querySelector('#df-b3893627-1cfe-40de-9a54-a5c5d4e61051 button.colab-df-convert');\n",
              "        buttonEl.style.display =\n",
              "          google.colab.kernel.accessAllowed ? 'block' : 'none';\n",
              "\n",
              "        async function convertToInteractive(key) {\n",
              "          const element = document.querySelector('#df-b3893627-1cfe-40de-9a54-a5c5d4e61051');\n",
              "          const dataTable =\n",
              "            await google.colab.kernel.invokeFunction('convertToInteractive',\n",
              "                                                     [key], {});\n",
              "          if (!dataTable) return;\n",
              "\n",
              "          const docLinkHtml = 'Like what you see? Visit the ' +\n",
              "            '<a target=\"_blank\" href=https://colab.research.google.com/notebooks/data_table.ipynb>data table notebook</a>'\n",
              "            + ' to learn more about interactive tables.';\n",
              "          element.innerHTML = '';\n",
              "          dataTable['output_type'] = 'display_data';\n",
              "          await google.colab.output.renderOutput(dataTable, element);\n",
              "          const docLink = document.createElement('div');\n",
              "          docLink.innerHTML = docLinkHtml;\n",
              "          element.appendChild(docLink);\n",
              "        }\n",
              "      </script>\n",
              "    </div>\n",
              "  </div>\n",
              "  "
            ]
          },
          "metadata": {},
          "execution_count": 32
        }
      ],
      "source": [
        "data.head()"
      ]
    },
    {
      "cell_type": "code",
      "execution_count": 33,
      "id": "f17da8f2",
      "metadata": {
        "id": "f17da8f2"
      },
      "outputs": [],
      "source": [
        "# As this is case of Ordinal Categorical type we perform LabelEncoder\n",
        "# Here Values are assigned with corresponding keys\n",
        "\n",
        "data.replace({\"non-stop\": 0, \"1 stop\": 1, \"2 stops\": 2, \"3 stops\": 3, \"4 stops\": 4}, inplace = True)"
      ]
    },
    {
      "cell_type": "markdown",
      "id": "YC9WbMHfRsEM",
      "metadata": {
        "id": "YC9WbMHfRsEM"
      },
      "source": [
        "### Bivariate analysis"
      ]
    },
    {
      "cell_type": "code",
      "execution_count": 34,
      "id": "QD2S3V_eR5dL",
      "metadata": {
        "colab": {
          "base_uri": "https://localhost:8080/",
          "height": 511
        },
        "id": "QD2S3V_eR5dL",
        "outputId": "29e88886-5d95-4286-a5db-c7785ad2e71b"
      },
      "outputs": [
        {
          "output_type": "display_data",
          "data": {
            "text/plain": [
              "<Figure size 1080x504 with 2 Axes>"
            ],
            "image/png": "[encoded data removed]"
          },
          "metadata": {
            "needs_background": "light"
          }
        }
      ],
      "source": [
        "plt.figure(figsize=(15, 7))\n",
        "sns.heatmap(\n",
        "    data.corr(), annot=True, vmin=-1, vmax=1, fmt=\".2f\", cmap=\"Spectral\"\n",
        ")\n",
        "plt.show()"
      ]
    },
    {
      "cell_type": "markdown",
      "id": "HZb0LvkpSds-",
      "metadata": {
        "id": "HZb0LvkpSds-"
      },
      "source": [
        "* Duration hours and Total stops are highly correlated to target column.\n",
        "* Total stops and Duration hours are highly positive correlated to target column."
      ]
    },
    {
      "cell_type": "markdown",
      "id": "ZFvG9lDBSxqj",
      "metadata": {
        "id": "ZFvG9lDBSxqj"
      },
      "source": [
        "### `Airline` vs `Price`"
      ]
    },
    {
      "cell_type": "code",
      "execution_count": 35,
      "id": "xTWo7EgWTv78",
      "metadata": {
        "colab": {
          "base_uri": "https://localhost:8080/",
          "height": 497
        },
        "id": "xTWo7EgWTv78",
        "outputId": "894b1403-0bd8-4cd0-df55-0629d2777b6e"
      },
      "outputs": [
        {
          "output_type": "display_data",
          "data": {
            "text/plain": [
              "<Figure size 1080x576 with 1 Axes>"
            ],
            "image/png": "[encoded data removed]"
          },
          "metadata": {
            "needs_background": "light"
          }
        }
      ],
      "source": [
        "plt.figure(figsize=(15,8))\n",
        "a=sns.boxplot(x='Price',y='Airline',data=data.sort_values('Price',ascending=False),orient=\"h\")"
      ]
    },
    {
      "cell_type": "markdown",
      "id": "WKallSZCjUg7",
      "metadata": {
        "id": "WKallSZCjUg7"
      },
      "source": [
        "- Jet Airways Business is charging high price when comparing with other Airlines \n",
        "- Apart from the Jet Airways Business Airline almost all are having similar median."
      ]
    },
    {
      "cell_type": "code",
      "execution_count": 36,
      "id": "qRN2PAs0jYzt",
      "metadata": {
        "colab": {
          "base_uri": "https://localhost:8080/",
          "height": 510
        },
        "id": "qRN2PAs0jYzt",
        "outputId": "df1e897c-a6cf-4ea1-96f4-5c26646d9ca4"
      },
      "outputs": [
        {
          "output_type": "execute_result",
          "data": {
            "text/plain": [
              "                    Airline    Source Destination  Total_Stops  Price  \\\n",
              "657    Jet Airways Business  Banglore       Delhi            1  52229   \n",
              "2923   Jet Airways Business  Banglore       Delhi            1  79512   \n",
              "5371   Jet Airways Business  Banglore       Delhi            1  62427   \n",
              "7350   Jet Airways Business     Delhi      Cochin            2  46490   \n",
              "9714   Jet Airways Business     Delhi      Cochin            2  52285   \n",
              "10363  Jet Airways Business  Banglore       Delhi            1  57209   \n",
              "\n",
              "       Day_of_Journey  Month_of_Journey  Dep_hour  Dep_minute  Arrival_hour  \\\n",
              "657                 3                 1         5          45            10   \n",
              "2923                3                 1         5          45            11   \n",
              "5371                3                 1         5          45            12   \n",
              "7350                3                 3        20           5             4   \n",
              "9714                3                 6        20           5             4   \n",
              "10363               3                 1         9          45            14   \n",
              "\n",
              "       Arrival_minute  Duration_hours  Duration_mins  \n",
              "657                45               5              0  \n",
              "2923               25               5             40  \n",
              "5371               25               6             40  \n",
              "7350               25               8             20  \n",
              "9714               25               8             20  \n",
              "10363              25               4             40  "
            ],
            "text/html": [
              "\n",
              "  <div id=\"df-192ee5ae-d065-4356-971f-1f30ae9a3837\">\n",
              "    <div class=\"colab-df-container\">\n",
              "      <div>\n",
              "<style scoped>\n",
              "    .dataframe tbody tr th:only-of-type {\n",
              "        vertical-align: middle;\n",
              "    }\n",
              "\n",
              "    .dataframe tbody tr th {\n",
              "        vertical-align: top;\n",
              "    }\n",
              "\n",
              "    .dataframe thead th {\n",
              "        text-align: right;\n",
              "    }\n",
              "</style>\n",
              "<table border=\"1\" class=\"dataframe\">\n",
              "  <thead>\n",
              "    <tr style=\"text-align: right;\">\n",
              "      <th></th>\n",
              "      <th>Airline</th>\n",
              "      <th>Source</th>\n",
              "      <th>Destination</th>\n",
              "      <th>Total_Stops</th>\n",
              "      <th>Price</th>\n",
              "      <th>Day_of_Journey</th>\n",
              "      <th>Month_of_Journey</th>\n",
              "      <th>Dep_hour</th>\n",
              "      <th>Dep_minute</th>\n",
              "      <th>Arrival_hour</th>\n",
              "      <th>Arrival_minute</th>\n",
              "      <th>Duration_hours</th>\n",
              "      <th>Duration_mins</th>\n",
              "    </tr>\n",
              "  </thead>\n",
              "  <tbody>\n",
              "    <tr>\n",
              "      <th>657</th>\n",
              "      <td>Jet Airways Business</td>\n",
              "      <td>Banglore</td>\n",
              "      <td>Delhi</td>\n",
              "      <td>1</td>\n",
              "      <td>52229</td>\n",
              "      <td>3</td>\n",
              "      <td>1</td>\n",
              "      <td>5</td>\n",
              "      <td>45</td>\n",
              "      <td>10</td>\n",
              "      <td>45</td>\n",
              "      <td>5</td>\n",
              "      <td>0</td>\n",
              "    </tr>\n",
              "    <tr>\n",
              "      <th>2923</th>\n",
              "      <td>Jet Airways Business</td>\n",
              "      <td>Banglore</td>\n",
              "      <td>Delhi</td>\n",
              "      <td>1</td>\n",
              "      <td>79512</td>\n",
              "      <td>3</td>\n",
              "      <td>1</td>\n",
              "      <td>5</td>\n",
              "      <td>45</td>\n",
              "      <td>11</td>\n",
              "      <td>25</td>\n",
              "      <td>5</td>\n",
              "      <td>40</td>\n",
              "    </tr>\n",
              "    <tr>\n",
              "      <th>5371</th>\n",
              "      <td>Jet Airways Business</td>\n",
              "      <td>Banglore</td>\n",
              "      <td>Delhi</td>\n",
              "      <td>1</td>\n",
              "      <td>62427</td>\n",
              "      <td>3</td>\n",
              "      <td>1</td>\n",
              "      <td>5</td>\n",
              "      <td>45</td>\n",
              "      <td>12</td>\n",
              "      <td>25</td>\n",
              "      <td>6</td>\n",
              "      <td>40</td>\n",
              "    </tr>\n",
              "    <tr>\n",
              "      <th>7350</th>\n",
              "      <td>Jet Airways Business</td>\n",
              "      <td>Delhi</td>\n",
              "      <td>Cochin</td>\n",
              "      <td>2</td>\n",
              "      <td>46490</td>\n",
              "      <td>3</td>\n",
              "      <td>3</td>\n",
              "      <td>20</td>\n",
              "      <td>5</td>\n",
              "      <td>4</td>\n",
              "      <td>25</td>\n",
              "      <td>8</td>\n",
              "      <td>20</td>\n",
              "    </tr>\n",
              "    <tr>\n",
              "      <th>9714</th>\n",
              "      <td>Jet Airways Business</td>\n",
              "      <td>Delhi</td>\n",
              "      <td>Cochin</td>\n",
              "      <td>2</td>\n",
              "      <td>52285</td>\n",
              "      <td>3</td>\n",
              "      <td>6</td>\n",
              "      <td>20</td>\n",
              "      <td>5</td>\n",
              "      <td>4</td>\n",
              "      <td>25</td>\n",
              "      <td>8</td>\n",
              "      <td>20</td>\n",
              "    </tr>\n",
              "    <tr>\n",
              "      <th>10363</th>\n",
              "      <td>Jet Airways Business</td>\n",
              "      <td>Banglore</td>\n",
              "      <td>Delhi</td>\n",
              "      <td>1</td>\n",
              "      <td>57209</td>\n",
              "      <td>3</td>\n",
              "      <td>1</td>\n",
              "      <td>9</td>\n",
              "      <td>45</td>\n",
              "      <td>14</td>\n",
              "      <td>25</td>\n",
              "      <td>4</td>\n",
              "      <td>40</td>\n",
              "    </tr>\n",
              "  </tbody>\n",
              "</table>\n",
              "</div>\n",
              "      <button class=\"colab-df-convert\" onclick=\"convertToInteractive('df-192ee5ae-d065-4356-971f-1f30ae9a3837')\"\n",
              "              title=\"Convert this dataframe to an interactive table.\"\n",
              "              style=\"display:none;\">\n",
              "        \n",
              "  <svg xmlns=\"http://www.w3.org/2000/svg\" height=\"24px\"viewBox=\"0 0 24 24\"\n",
              "       width=\"24px\">\n",
              "    <path d=\"M0 0h24v24H0V0z\" fill=\"none\"/>\n",
              "    <path d=\"M18.56 5.44l.94 2.06.94-2.06 2.06-.94-2.06-.94-.94-2.06-.94 2.06-2.06.94zm-11 1L8.5 8.5l.94-2.06 2.06-.94-2.06-.94L8.5 2.5l-.94 2.06-2.06.94zm10 10l.94 2.06.94-2.06 2.06-.94-2.06-.94-.94-2.06-.94 2.06-2.06.94z\"/><path d=\"M17.41 7.96l-1.37-1.37c-.4-.4-.92-.59-1.43-.59-.52 0-1.04.2-1.43.59L10.3 9.45l-7.72 7.72c-.78.78-.78 2.05 0 2.83L4 21.41c.39.39.9.59 1.41.59.51 0 1.02-.2 1.41-.59l7.78-7.78 2.81-2.81c.8-.78.8-2.07 0-2.86zM5.41 20L4 18.59l7.72-7.72 1.47 1.35L5.41 20z\"/>\n",
              "  </svg>\n",
              "      </button>\n",
              "      \n",
              "  <style>\n",
              "    .colab-df-container {\n",
              "      display:flex;\n",
              "      flex-wrap:wrap;\n",
              "      gap: 12px;\n",
              "    }\n",
              "\n",
              "    .colab-df-convert {\n",
              "      background-color: #E8F0FE;\n",
              "      border: none;\n",
              "      border-radius: 50%;\n",
              "      cursor: pointer;\n",
              "      display: none;\n",
              "      fill: #1967D2;\n",
              "      height: 32px;\n",
              "      padding: 0 0 0 0;\n",
              "      width: 32px;\n",
              "    }\n",
              "\n",
              "    .colab-df-convert:hover {\n",
              "      background-color: #E2EBFA;\n",
              "      box-shadow: 0px 1px 2px rgba(60, 64, 67, 0.3), 0px 1px 3px 1px rgba(60, 64, 67, 0.15);\n",
              "      fill: #174EA6;\n",
              "    }\n",
              "\n",
              "    [theme=dark] .colab-df-convert {\n",
              "      background-color: #3B4455;\n",
              "      fill: #D2E3FC;\n",
              "    }\n",
              "\n",
              "    [theme=dark] .colab-df-convert:hover {\n",
              "      background-color: #434B5C;\n",
              "      box-shadow: 0px 1px 3px 1px rgba(0, 0, 0, 0.15);\n",
              "      filter: drop-shadow(0px 1px 2px rgba(0, 0, 0, 0.3));\n",
              "      fill: #FFFFFF;\n",
              "    }\n",
              "  </style>\n",
              "\n",
              "      <script>\n",
              "        const buttonEl =\n",
              "          document.querySelector('#df-192ee5ae-d065-4356-971f-1f30ae9a3837 button.colab-df-convert');\n",
              "        buttonEl.style.display =\n",
              "          google.colab.kernel.accessAllowed ? 'block' : 'none';\n",
              "\n",
              "        async function convertToInteractive(key) {\n",
              "          const element = document.querySelector('#df-192ee5ae-d065-4356-971f-1f30ae9a3837');\n",
              "          const dataTable =\n",
              "            await google.colab.kernel.invokeFunction('convertToInteractive',\n",
              "                                                     [key], {});\n",
              "          if (!dataTable) return;\n",
              "\n",
              "          const docLinkHtml = 'Like what you see? Visit the ' +\n",
              "            '<a target=\"_blank\" href=https://colab.research.google.com/notebooks/data_table.ipynb>data table notebook</a>'\n",
              "            + ' to learn more about interactive tables.';\n",
              "          element.innerHTML = '';\n",
              "          dataTable['output_type'] = 'display_data';\n",
              "          await google.colab.output.renderOutput(dataTable, element);\n",
              "          const docLink = document.createElement('div');\n",
              "          docLink.innerHTML = docLinkHtml;\n",
              "          element.appendChild(docLink);\n",
              "        }\n",
              "      </script>\n",
              "    </div>\n",
              "  </div>\n",
              "  "
            ]
          },
          "metadata": {},
          "execution_count": 36
        }
      ],
      "source": [
        "Highest_airline_price= data[data['Airline']=='Jet Airways Business']\n",
        "Highest_airline_price"
      ]
    },
    {
      "cell_type": "markdown",
      "id": "m9och7ndjepJ",
      "metadata": {
        "id": "m9och7ndjepJ"
      },
      "source": [
        "* We can see the price of the Jet Airways Business Airline having an average price of 50 thousand Rupees "
      ]
    },
    {
      "cell_type": "markdown",
      "id": "cM2UVvNljwTA",
      "metadata": {
        "id": "cM2UVvNljwTA"
      },
      "source": [
        "### `Total Stops` vs `Price`"
      ]
    },
    {
      "cell_type": "code",
      "execution_count": 37,
      "id": "wGHd1rbujalx",
      "metadata": {
        "colab": {
          "base_uri": "https://localhost:8080/",
          "height": 515
        },
        "id": "wGHd1rbujalx",
        "outputId": "89dcc49d-95ac-4871-ca88-7a44352a039f"
      },
      "outputs": [
        {
          "output_type": "execute_result",
          "data": {
            "text/plain": [
              "<matplotlib.axes._subplots.AxesSubplot at 0x7f464075d510>"
            ]
          },
          "metadata": {},
          "execution_count": 37
        },
        {
          "output_type": "display_data",
          "data": {
            "text/plain": [
              "<Figure size 1080x576 with 1 Axes>"
            ],
            "image/png": "[encoded data removed]"
          },
          "metadata": {
            "needs_background": "light"
          }
        }
      ],
      "source": [
        "plt.figure(figsize=(15,8))\n",
        "sns.boxplot(x='Total_Stops',y='Price',data=data.sort_values('Price',ascending=False))"
      ]
    },
    {
      "cell_type": "markdown",
      "id": "yU-olicnj8v7",
      "metadata": {
        "id": "yU-olicnj8v7"
      },
      "source": [
        "* Prices of Airline having different stops are almost equal and mainly the price depends on which Airline we are choosing to travell"
      ]
    },
    {
      "cell_type": "code",
      "execution_count": 38,
      "id": "2057112c",
      "metadata": {
        "id": "2057112c"
      },
      "outputs": [],
      "source": [
        "## Storing required categorical variables in cat_dat to apply dummification \n",
        "cat_data = [\"Airline\",'Source','Destination']"
      ]
    },
    {
      "cell_type": "code",
      "execution_count": 39,
      "id": "4dd07ec5",
      "metadata": {
        "colab": {
          "base_uri": "https://localhost:8080/"
        },
        "id": "4dd07ec5",
        "outputId": "ff88973b-8244-479f-f2b2-fa8128dfaf45"
      },
      "outputs": [
        {
          "output_type": "stream",
          "name": "stdout",
          "text": [
            "(10681, 12)\n",
            "(10681, 1)\n",
            "<class 'pandas.core.frame.DataFrame'>\n"
          ]
        }
      ],
      "source": [
        "##Splitting Independent and dependent variable in X and Y respectively\n",
        "X = data.drop(['Price'],axis=1)\n",
        "Y = data[['Price']]\n",
        "\n",
        "print(X.shape)\n",
        "print(Y.shape)\n",
        "print(type(X))"
      ]
    },
    {
      "cell_type": "code",
      "execution_count": 40,
      "id": "db9b8282",
      "metadata": {
        "id": "db9b8282"
      },
      "outputs": [],
      "source": [
        "# Splitting the dataset into the Training and Testing set.\n",
        "X_big, X_test, y_big, y_test = train_test_split(X,Y, test_size = 0.1, random_state = 5,shuffle = True)"
      ]
    },
    {
      "cell_type": "code",
      "source": [
        "# Splitting the dataset into the Training and validation set.\n",
        "X_train, X_val, y_train, y_val = train_test_split(X_big,y_big, test_size = 0.3, random_state = 5,shuffle = True)"
      ],
      "metadata": {
        "id": "rIRODdO6BeXV"
      },
      "id": "rIRODdO6BeXV",
      "execution_count": 41,
      "outputs": []
    },
    {
      "cell_type": "code",
      "source": [
        "X_train.head()"
      ],
      "metadata": {
        "colab": {
          "base_uri": "https://localhost:8080/",
          "height": 287
        },
        "id": "nde_yZK5_Xf5",
        "outputId": "6e020f07-199c-4d2c-ec4d-c4875b15802c"
      },
      "id": "nde_yZK5_Xf5",
      "execution_count": 42,
      "outputs": [
        {
          "output_type": "execute_result",
          "data": {
            "text/plain": [
              "                Airline    Source Destination  Total_Stops  Day_of_Journey  \\\n",
              "6603          Air India   Kolkata    Banglore            1               5   \n",
              "3591          Air India   Kolkata    Banglore            1               4   \n",
              "2831             IndiGo  Banglore       Delhi            0               3   \n",
              "1396             IndiGo     Delhi      Cochin            1               4   \n",
              "2045  Multiple carriers     Delhi      Cochin            1               6   \n",
              "\n",
              "      Month_of_Journey  Dep_hour  Dep_minute  Arrival_hour  Arrival_minute  \\\n",
              "6603                 9        20          30             8              55   \n",
              "3591                 1         9          50            21               5   \n",
              "2831                 9         5          30             8              20   \n",
              "1396                 6         2           0             7              25   \n",
              "2045                 1        14          55            22              30   \n",
              "\n",
              "      Duration_hours  Duration_mins  \n",
              "6603              12             25  \n",
              "3591              11             15  \n",
              "2831               2             50  \n",
              "1396               5             25  \n",
              "2045               7             35  "
            ],
            "text/html": [
              "\n",
              "  <div id=\"df-408e27d8-3b01-4595-9129-ad8d0515157a\">\n",
              "    <div class=\"colab-df-container\">\n",
              "      <div>\n",
              "<style scoped>\n",
              "    .dataframe tbody tr th:only-of-type {\n",
              "        vertical-align: middle;\n",
              "    }\n",
              "\n",
              "    .dataframe tbody tr th {\n",
              "        vertical-align: top;\n",
              "    }\n",
              "\n",
              "    .dataframe thead th {\n",
              "        text-align: right;\n",
              "    }\n",
              "</style>\n",
              "<table border=\"1\" class=\"dataframe\">\n",
              "  <thead>\n",
              "    <tr style=\"text-align: right;\">\n",
              "      <th></th>\n",
              "      <th>Airline</th>\n",
              "      <th>Source</th>\n",
              "      <th>Destination</th>\n",
              "      <th>Total_Stops</th>\n",
              "      <th>Day_of_Journey</th>\n",
              "      <th>Month_of_Journey</th>\n",
              "      <th>Dep_hour</th>\n",
              "      <th>Dep_minute</th>\n",
              "      <th>Arrival_hour</th>\n",
              "      <th>Arrival_minute</th>\n",
              "      <th>Duration_hours</th>\n",
              "      <th>Duration_mins</th>\n",
              "    </tr>\n",
              "  </thead>\n",
              "  <tbody>\n",
              "    <tr>\n",
              "      <th>6603</th>\n",
              "      <td>Air India</td>\n",
              "      <td>Kolkata</td>\n",
              "      <td>Banglore</td>\n",
              "      <td>1</td>\n",
              "      <td>5</td>\n",
              "      <td>9</td>\n",
              "      <td>20</td>\n",
              "      <td>30</td>\n",
              "      <td>8</td>\n",
              "      <td>55</td>\n",
              "      <td>12</td>\n",
              "      <td>25</td>\n",
              "    </tr>\n",
              "    <tr>\n",
              "      <th>3591</th>\n",
              "      <td>Air India</td>\n",
              "      <td>Kolkata</td>\n",
              "      <td>Banglore</td>\n",
              "      <td>1</td>\n",
              "      <td>4</td>\n",
              "      <td>1</td>\n",
              "      <td>9</td>\n",
              "      <td>50</td>\n",
              "      <td>21</td>\n",
              "      <td>5</td>\n",
              "      <td>11</td>\n",
              "      <td>15</td>\n",
              "    </tr>\n",
              "    <tr>\n",
              "      <th>2831</th>\n",
              "      <td>IndiGo</td>\n",
              "      <td>Banglore</td>\n",
              "      <td>Delhi</td>\n",
              "      <td>0</td>\n",
              "      <td>3</td>\n",
              "      <td>9</td>\n",
              "      <td>5</td>\n",
              "      <td>30</td>\n",
              "      <td>8</td>\n",
              "      <td>20</td>\n",
              "      <td>2</td>\n",
              "      <td>50</td>\n",
              "    </tr>\n",
              "    <tr>\n",
              "      <th>1396</th>\n",
              "      <td>IndiGo</td>\n",
              "      <td>Delhi</td>\n",
              "      <td>Cochin</td>\n",
              "      <td>1</td>\n",
              "      <td>4</td>\n",
              "      <td>6</td>\n",
              "      <td>2</td>\n",
              "      <td>0</td>\n",
              "      <td>7</td>\n",
              "      <td>25</td>\n",
              "      <td>5</td>\n",
              "      <td>25</td>\n",
              "    </tr>\n",
              "    <tr>\n",
              "      <th>2045</th>\n",
              "      <td>Multiple carriers</td>\n",
              "      <td>Delhi</td>\n",
              "      <td>Cochin</td>\n",
              "      <td>1</td>\n",
              "      <td>6</td>\n",
              "      <td>1</td>\n",
              "      <td>14</td>\n",
              "      <td>55</td>\n",
              "      <td>22</td>\n",
              "      <td>30</td>\n",
              "      <td>7</td>\n",
              "      <td>35</td>\n",
              "    </tr>\n",
              "  </tbody>\n",
              "</table>\n",
              "</div>\n",
              "      <button class=\"colab-df-convert\" onclick=\"convertToInteractive('df-408e27d8-3b01-4595-9129-ad8d0515157a')\"\n",
              "              title=\"Convert this dataframe to an interactive table.\"\n",
              "              style=\"display:none;\">\n",
              "        \n",
              "  <svg xmlns=\"http://www.w3.org/2000/svg\" height=\"24px\"viewBox=\"0 0 24 24\"\n",
              "       width=\"24px\">\n",
              "    <path d=\"M0 0h24v24H0V0z\" fill=\"none\"/>\n",
              "    <path d=\"M18.56 5.44l.94 2.06.94-2.06 2.06-.94-2.06-.94-.94-2.06-.94 2.06-2.06.94zm-11 1L8.5 8.5l.94-2.06 2.06-.94-2.06-.94L8.5 2.5l-.94 2.06-2.06.94zm10 10l.94 2.06.94-2.06 2.06-.94-2.06-.94-.94-2.06-.94 2.06-2.06.94z\"/><path d=\"M17.41 7.96l-1.37-1.37c-.4-.4-.92-.59-1.43-.59-.52 0-1.04.2-1.43.59L10.3 9.45l-7.72 7.72c-.78.78-.78 2.05 0 2.83L4 21.41c.39.39.9.59 1.41.59.51 0 1.02-.2 1.41-.59l7.78-7.78 2.81-2.81c.8-.78.8-2.07 0-2.86zM5.41 20L4 18.59l7.72-7.72 1.47 1.35L5.41 20z\"/>\n",
              "  </svg>\n",
              "      </button>\n",
              "      \n",
              "  <style>\n",
              "    .colab-df-container {\n",
              "      display:flex;\n",
              "      flex-wrap:wrap;\n",
              "      gap: 12px;\n",
              "    }\n",
              "\n",
              "    .colab-df-convert {\n",
              "      background-color: #E8F0FE;\n",
              "      border: none;\n",
              "      border-radius: 50%;\n",
              "      cursor: pointer;\n",
              "      display: none;\n",
              "      fill: #1967D2;\n",
              "      height: 32px;\n",
              "      padding: 0 0 0 0;\n",
              "      width: 32px;\n",
              "    }\n",
              "\n",
              "    .colab-df-convert:hover {\n",
              "      background-color: #E2EBFA;\n",
              "      box-shadow: 0px 1px 2px rgba(60, 64, 67, 0.3), 0px 1px 3px 1px rgba(60, 64, 67, 0.15);\n",
              "      fill: #174EA6;\n",
              "    }\n",
              "\n",
              "    [theme=dark] .colab-df-convert {\n",
              "      background-color: #3B4455;\n",
              "      fill: #D2E3FC;\n",
              "    }\n",
              "\n",
              "    [theme=dark] .colab-df-convert:hover {\n",
              "      background-color: #434B5C;\n",
              "      box-shadow: 0px 1px 3px 1px rgba(0, 0, 0, 0.15);\n",
              "      filter: drop-shadow(0px 1px 2px rgba(0, 0, 0, 0.3));\n",
              "      fill: #FFFFFF;\n",
              "    }\n",
              "  </style>\n",
              "\n",
              "      <script>\n",
              "        const buttonEl =\n",
              "          document.querySelector('#df-408e27d8-3b01-4595-9129-ad8d0515157a button.colab-df-convert');\n",
              "        buttonEl.style.display =\n",
              "          google.colab.kernel.accessAllowed ? 'block' : 'none';\n",
              "\n",
              "        async function convertToInteractive(key) {\n",
              "          const element = document.querySelector('#df-408e27d8-3b01-4595-9129-ad8d0515157a');\n",
              "          const dataTable =\n",
              "            await google.colab.kernel.invokeFunction('convertToInteractive',\n",
              "                                                     [key], {});\n",
              "          if (!dataTable) return;\n",
              "\n",
              "          const docLinkHtml = 'Like what you see? Visit the ' +\n",
              "            '<a target=\"_blank\" href=https://colab.research.google.com/notebooks/data_table.ipynb>data table notebook</a>'\n",
              "            + ' to learn more about interactive tables.';\n",
              "          element.innerHTML = '';\n",
              "          dataTable['output_type'] = 'display_data';\n",
              "          await google.colab.output.renderOutput(dataTable, element);\n",
              "          const docLink = document.createElement('div');\n",
              "          docLink.innerHTML = docLinkHtml;\n",
              "          element.appendChild(docLink);\n",
              "        }\n",
              "      </script>\n",
              "    </div>\n",
              "  </div>\n",
              "  "
            ]
          },
          "metadata": {},
          "execution_count": 42
        }
      ]
    },
    {
      "cell_type": "markdown",
      "source": [
        "**Normalizing**"
      ],
      "metadata": {
        "id": "rIKQlSnfMFNk"
      },
      "id": "rIKQlSnfMFNk"
    },
    {
      "cell_type": "markdown",
      "source": [
        "##### **Why scaling is done?**\n",
        "\n",
        "The numerical columns present in this dataset are having different units (Minutes and Hours), so scaling would help them all be in the same range.\n",
        "\n",
        "**For example** -\n",
        "If you have multiple independent variables like age, salary, and height, With their range as (18–100 Years), (25,000–75,000 Euros), and (1–2 Meters) respectively, feature scaling would help them all to be in the same range."
      ],
      "metadata": {
        "id": "0NgfHUsDJMQy"
      },
      "id": "0NgfHUsDJMQy"
    },
    {
      "cell_type": "code",
      "source": [
        "## Scaling the data\n",
        "sc=StandardScaler()\n",
        "temp = sc.fit(X_train[[\"Dep_hour\",\"Dep_minute\",\"Arrival_hour\",\"Arrival_minute\",\"Duration_hours\",\"Duration_mins\"]])\n",
        "X_train[[\"Dep_hour\",\"Dep_minute\",\"Arrival_hour\",\"Arrival_minute\",\"Duration_hours\",\"Duration_mins\"]] = temp.transform(X_train[[\"Dep_hour\",\"Dep_minute\",\"Arrival_hour\",\"Arrival_minute\",\"Duration_hours\",\"Duration_mins\"]])\n",
        "X_test[[\"Dep_hour\",\"Dep_minute\",\"Arrival_hour\",\"Arrival_minute\",\"Duration_hours\",\"Duration_mins\"]] = temp.transform(X_test[[\"Dep_hour\",\"Dep_minute\",\"Arrival_hour\",\"Arrival_minute\",\"Duration_hours\",\"Duration_mins\"]])\n",
        "X_val[[\"Dep_hour\",\"Dep_minute\",\"Arrival_hour\",\"Arrival_minute\",\"Duration_hours\",\"Duration_mins\"]] = temp.transform(X_val[[\"Dep_hour\",\"Dep_minute\",\"Arrival_hour\",\"Arrival_minute\",\"Duration_hours\",\"Duration_mins\"]])"
      ],
      "metadata": {
        "id": "2jsJcM0h-2_S"
      },
      "id": "2jsJcM0h-2_S",
      "execution_count": 43,
      "outputs": []
    },
    {
      "cell_type": "markdown",
      "source": [
        "Since we are solving the regression module, we will scale the target variable. One of the reasons to scale the data is to reduce the time complexity for updating the weights during the backpropagation, which uses the derivatives. \n",
        "\n",
        "For classification problem, there is no need of scaling the target variable."
      ],
      "metadata": {
        "id": "WFTWzd6hLILP"
      },
      "id": "WFTWzd6hLILP"
    },
    {
      "cell_type": "code",
      "source": [
        "# Scaling the Target variable (contionous variable) \n",
        "y_train = sc.fit_transform(y_train)  \n",
        "y_val_scale = sc.transform(y_val)"
      ],
      "metadata": {
        "id": "Idh1XAzvFgDH"
      },
      "id": "Idh1XAzvFgDH",
      "execution_count": 44,
      "outputs": []
    },
    {
      "cell_type": "markdown",
      "source": [
        "**Categorical Encoding**"
      ],
      "metadata": {
        "id": "P7oG1iIgMOmC"
      },
      "id": "P7oG1iIgMOmC"
    },
    {
      "cell_type": "code",
      "execution_count": 45,
      "id": "Nsvn2ffGxVaa",
      "metadata": {
        "id": "Nsvn2ffGxVaa"
      },
      "outputs": [],
      "source": [
        "# Using pd.get dummies to encode the categorical columns in the data\n",
        "X_train = pd.get_dummies(X_train,columns=cat_data,drop_first= True)\n",
        "X_test = pd.get_dummies(X_test,columns=cat_data,drop_first= True)\n",
        "X_val = pd.get_dummies(X_val,columns=cat_data,drop_first= True)   "
      ]
    },
    {
      "cell_type": "code",
      "execution_count": 46,
      "id": "20f86e1d",
      "metadata": {
        "colab": {
          "base_uri": "https://localhost:8080/"
        },
        "id": "20f86e1d",
        "outputId": "7916e9e3-7d7e-4a1c-dc46-140078a38dfa"
      },
      "outputs": [
        {
          "output_type": "stream",
          "name": "stdout",
          "text": [
            "(6728, 27)\n",
            "(2884, 26)\n",
            "(6728, 1)\n",
            "(2884, 1)\n",
            "(1069, 25)\n",
            "(1069, 1)\n"
          ]
        }
      ],
      "source": [
        "# Checking the shape\n",
        "print(X_train.shape)\n",
        "print(X_val.shape)\n",
        "print(y_train.shape)\n",
        "print(y_val.shape)\n",
        "print(X_test.shape)\n",
        "print(y_test.shape)"
      ]
    },
    {
      "cell_type": "markdown",
      "source": [
        "Since we have different number of columns in train, test and validation, we will use align function to create dummy variables with all values of zero's in it. \n",
        "\n",
        "Align method aligns two objects on their axes with the specified join method. This method is helpful when we want to synchronize a dataframe with another dataframe."
      ],
      "metadata": {
        "id": "vVHBblEVQAQf"
      },
      "id": "vVHBblEVQAQf"
    },
    {
      "cell_type": "code",
      "source": [
        "X_train,X_test = X_train.align(X_test,join='outer',axis=1,fill_value=0)\n",
        "X_train,X_val = X_train.align(X_val,join='outer',axis=1,fill_value=0)"
      ],
      "metadata": {
        "id": "QsPY3TNf1RwA"
      },
      "id": "QsPY3TNf1RwA",
      "execution_count": 47,
      "outputs": []
    },
    {
      "cell_type": "code",
      "source": [
        "# Checking the shape\n",
        "print(X_train.shape)\n",
        "print(X_val.shape)\n",
        "print(y_train.shape)\n",
        "print(y_val.shape)\n",
        "print(X_test.shape)\n",
        "print(y_test.shape)"
      ],
      "metadata": {
        "colab": {
          "base_uri": "https://localhost:8080/"
        },
        "id": "FLnnNu5y2BEh",
        "outputId": "f4ccb62a-6fd7-46d0-db2e-ef5e1a9c6ab7"
      },
      "id": "FLnnNu5y2BEh",
      "execution_count": 48,
      "outputs": [
        {
          "output_type": "stream",
          "name": "stdout",
          "text": [
            "(6728, 27)\n",
            "(2884, 27)\n",
            "(6728, 1)\n",
            "(2884, 1)\n",
            "(1069, 27)\n",
            "(1069, 1)\n"
          ]
        }
      ]
    },
    {
      "cell_type": "markdown",
      "id": "vVIbagr2Hn78",
      "metadata": {
        "id": "vVIbagr2Hn78"
      },
      "source": [
        "### Model performance check\n",
        "\n",
        "* We will be using metric functions defined in sklearn for RMSE, MAE, and $R^2$.\n",
        "\n",
        "* We will define functions to calculate adjusted $R^2$\n",
        "* We will create a function that will print out all the above metrics in one go."
      ]
    },
    {
      "cell_type": "markdown",
      "id": "01974259",
      "metadata": {
        "id": "01974259"
      },
      "source": [
        "# Model Building\n",
        "\n",
        "- We will now start with the model building process.\n",
        "- We will create a model.\n",
        " - Three hidden layer with ReLU as activation function.\n",
        " - Output layer with 1 nodes (For regression problem )"
      ]
    },
    {
      "cell_type": "markdown",
      "source": [
        "#### Model-1"
      ],
      "metadata": {
        "id": "L6N3qRTfQx2d"
      },
      "id": "L6N3qRTfQx2d"
    },
    {
      "cell_type": "code",
      "execution_count": 49,
      "id": "d9ee78e9",
      "metadata": {
        "id": "d9ee78e9"
      },
      "outputs": [],
      "source": [
        "backend.clear_session()\n",
        "#Fixing the seed for random number generators so that we can ensure we receive the same output everytime\n",
        "np.random.seed(42)\n",
        "import random\n",
        "random.seed(42)\n",
        "tf.random.set_seed(42)"
      ]
    },
    {
      "cell_type": "code",
      "execution_count": 50,
      "id": "a24aec24",
      "metadata": {
        "id": "a24aec24"
      },
      "outputs": [],
      "source": [
        "# Initializing the model\n",
        "model = Sequential()\n",
        "# Adding input layer with 64 neurons, relu as activation function and, he_uniform as weight initializer.\n",
        "model.add(Dense(64, activation='relu',kernel_initializer='he_uniform', input_shape=(27,)))\n",
        "# Adding the first hidden layer with 32 neurons, relu as activation function and, he_uniform as weight initializer\n",
        "model.add(Dense(32, activation='relu',kernel_initializer='he_uniform'))\n",
        "# Adding the second hidden layer with 32 neurons, relu as activation function and, he_uniform as weight initializer\n",
        "model.add(Dense(32, activation='relu',kernel_initializer='he_uniform'))\n",
        "# Adding the output layer with one neuron and linear as activation\n",
        "model.add(Dense(1, activation='linear'))"
      ]
    },
    {
      "cell_type": "code",
      "execution_count": 51,
      "id": "e7997003",
      "metadata": {
        "id": "e7997003",
        "colab": {
          "base_uri": "https://localhost:8080/"
        },
        "outputId": "13dbca7f-968f-4efd-f71a-a8628d352e50"
      },
      "outputs": [
        {
          "output_type": "stream",
          "name": "stdout",
          "text": [
            "Model: \"sequential\"\n",
            "_________________________________________________________________\n",
            " Layer (type)                Output Shape              Param #   \n",
            "=================================================================\n",
            " dense (Dense)               (None, 64)                1792      \n",
            "                                                                 \n",
            " dense_1 (Dense)             (None, 32)                2080      \n",
            "                                                                 \n",
            " dense_2 (Dense)             (None, 32)                1056      \n",
            "                                                                 \n",
            " dense_3 (Dense)             (None, 1)                 33        \n",
            "                                                                 \n",
            "=================================================================\n",
            "Total params: 4,961\n",
            "Trainable params: 4,961\n",
            "Non-trainable params: 0\n",
            "_________________________________________________________________\n"
          ]
        }
      ],
      "source": [
        "# Model summary\n",
        "model.summary()"
      ]
    },
    {
      "cell_type": "markdown",
      "id": "5eefb4cd",
      "metadata": {
        "id": "5eefb4cd"
      },
      "source": [
        "**Observations**\n",
        "- The summary of the model shows each layer's name, type, output shape, and the number of parameters at that particular layer.\n",
        "- It also shows the total number of trainable and non-trainable parameters in the model. A parameter whose value is learned while training the model is called a trainable parameter otherwise it is called a non-trainable parameter.\n",
        "- In the first layer total parameters are calculated by the number of neurons in the hidden layer multiplied by the number of variables fed to neural networks plus bias. (27*64)+64 = 1792\n",
        "- In the next layer the parameters are calculated by the number of outputs from the previous layer multiplied by the number of neurons in the second layer plus bias. (64*32)+32 =2080\n",
        "- You can calculate for the third layer and final layer."
      ]
    },
    {
      "cell_type": "code",
      "execution_count": 52,
      "id": "4895b8c9",
      "metadata": {
        "id": "4895b8c9",
        "colab": {
          "base_uri": "https://localhost:8080/"
        },
        "outputId": "8b9986ed-1d9b-445c-c73c-d0ff9ef94251"
      },
      "outputs": [
        {
          "output_type": "stream",
          "name": "stdout",
          "text": [
            "Epoch 1/50\n",
            "211/211 [==============================] - 1s 3ms/step - loss: 0.6207 - mae: 0.5476 - val_loss: 0.4309 - val_mae: 0.4558\n",
            "Epoch 2/50\n",
            "211/211 [==============================] - 0s 2ms/step - loss: 0.4724 - mae: 0.4580 - val_loss: 0.3809 - val_mae: 0.4198\n",
            "Epoch 3/50\n",
            "211/211 [==============================] - 0s 2ms/step - loss: 0.4235 - mae: 0.4317 - val_loss: 0.3616 - val_mae: 0.4158\n",
            "Epoch 4/50\n",
            "211/211 [==============================] - 0s 2ms/step - loss: 0.3938 - mae: 0.4203 - val_loss: 0.3578 - val_mae: 0.4325\n",
            "Epoch 5/50\n",
            "211/211 [==============================] - 0s 2ms/step - loss: 0.3742 - mae: 0.4084 - val_loss: 0.3456 - val_mae: 0.4148\n",
            "Epoch 6/50\n",
            "211/211 [==============================] - 0s 2ms/step - loss: 0.3510 - mae: 0.3968 - val_loss: 0.3096 - val_mae: 0.3867\n",
            "Epoch 7/50\n",
            "211/211 [==============================] - 0s 2ms/step - loss: 0.3376 - mae: 0.3909 - val_loss: 0.3194 - val_mae: 0.3925\n",
            "Epoch 8/50\n",
            "211/211 [==============================] - 0s 2ms/step - loss: 0.3255 - mae: 0.3853 - val_loss: 0.2947 - val_mae: 0.3805\n",
            "Epoch 9/50\n",
            "211/211 [==============================] - 0s 2ms/step - loss: 0.3149 - mae: 0.3807 - val_loss: 0.3075 - val_mae: 0.3919\n",
            "Epoch 10/50\n",
            "211/211 [==============================] - 0s 2ms/step - loss: 0.3051 - mae: 0.3771 - val_loss: 0.3646 - val_mae: 0.4483\n",
            "Epoch 11/50\n",
            "211/211 [==============================] - 0s 2ms/step - loss: 0.2965 - mae: 0.3720 - val_loss: 0.3250 - val_mae: 0.4294\n",
            "Epoch 12/50\n",
            "211/211 [==============================] - 0s 2ms/step - loss: 0.2855 - mae: 0.3674 - val_loss: 0.2849 - val_mae: 0.3711\n",
            "Epoch 13/50\n",
            "211/211 [==============================] - 0s 2ms/step - loss: 0.2795 - mae: 0.3632 - val_loss: 0.2765 - val_mae: 0.3676\n",
            "Epoch 14/50\n",
            "211/211 [==============================] - 0s 2ms/step - loss: 0.2715 - mae: 0.3613 - val_loss: 0.2776 - val_mae: 0.3747\n",
            "Epoch 15/50\n",
            "211/211 [==============================] - 0s 2ms/step - loss: 0.2631 - mae: 0.3588 - val_loss: 0.3229 - val_mae: 0.4136\n",
            "Epoch 16/50\n",
            "211/211 [==============================] - 0s 2ms/step - loss: 0.2534 - mae: 0.3550 - val_loss: 0.3040 - val_mae: 0.4010\n",
            "Epoch 17/50\n",
            "211/211 [==============================] - 0s 2ms/step - loss: 0.2499 - mae: 0.3531 - val_loss: 0.2808 - val_mae: 0.3814\n",
            "Epoch 18/50\n",
            "211/211 [==============================] - 0s 2ms/step - loss: 0.2443 - mae: 0.3501 - val_loss: 0.2903 - val_mae: 0.4078\n",
            "Epoch 19/50\n",
            "211/211 [==============================] - 0s 2ms/step - loss: 0.2377 - mae: 0.3488 - val_loss: 0.3371 - val_mae: 0.4428\n",
            "Epoch 20/50\n",
            "211/211 [==============================] - 0s 2ms/step - loss: 0.2333 - mae: 0.3440 - val_loss: 0.3764 - val_mae: 0.4656\n",
            "Epoch 21/50\n",
            "211/211 [==============================] - 0s 2ms/step - loss: 0.2309 - mae: 0.3445 - val_loss: 0.4246 - val_mae: 0.4897\n",
            "Epoch 22/50\n",
            "211/211 [==============================] - 0s 2ms/step - loss: 0.2247 - mae: 0.3381 - val_loss: 0.2625 - val_mae: 0.3637\n",
            "Epoch 23/50\n",
            "211/211 [==============================] - 0s 2ms/step - loss: 0.2218 - mae: 0.3377 - val_loss: 0.2776 - val_mae: 0.3724\n",
            "Epoch 24/50\n",
            "211/211 [==============================] - 0s 2ms/step - loss: 0.2186 - mae: 0.3358 - val_loss: 0.2644 - val_mae: 0.3643\n",
            "Epoch 25/50\n",
            "211/211 [==============================] - 0s 2ms/step - loss: 0.2148 - mae: 0.3325 - val_loss: 0.3027 - val_mae: 0.4205\n",
            "Epoch 26/50\n",
            "211/211 [==============================] - 0s 2ms/step - loss: 0.2143 - mae: 0.3323 - val_loss: 0.3248 - val_mae: 0.4300\n",
            "Epoch 27/50\n",
            "211/211 [==============================] - 0s 2ms/step - loss: 0.2100 - mae: 0.3306 - val_loss: 0.2745 - val_mae: 0.3707\n",
            "Epoch 28/50\n",
            "211/211 [==============================] - 0s 2ms/step - loss: 0.2080 - mae: 0.3282 - val_loss: 0.2672 - val_mae: 0.3642\n",
            "Epoch 29/50\n",
            "211/211 [==============================] - 0s 2ms/step - loss: 0.2066 - mae: 0.3279 - val_loss: 0.2552 - val_mae: 0.3706\n",
            "Epoch 30/50\n",
            "211/211 [==============================] - 0s 2ms/step - loss: 0.2034 - mae: 0.3261 - val_loss: 0.2522 - val_mae: 0.3608\n",
            "Epoch 31/50\n",
            "211/211 [==============================] - 1s 2ms/step - loss: 0.2024 - mae: 0.3236 - val_loss: 0.2572 - val_mae: 0.3611\n",
            "Epoch 32/50\n",
            "211/211 [==============================] - 0s 2ms/step - loss: 0.1966 - mae: 0.3230 - val_loss: 0.2926 - val_mae: 0.3876\n",
            "Epoch 33/50\n",
            "211/211 [==============================] - 0s 2ms/step - loss: 0.1971 - mae: 0.3200 - val_loss: 0.3024 - val_mae: 0.3977\n",
            "Epoch 34/50\n",
            "211/211 [==============================] - 0s 2ms/step - loss: 0.1972 - mae: 0.3196 - val_loss: 0.2909 - val_mae: 0.3905\n",
            "Epoch 35/50\n",
            "211/211 [==============================] - 0s 2ms/step - loss: 0.1945 - mae: 0.3161 - val_loss: 0.2823 - val_mae: 0.3924\n",
            "Epoch 36/50\n",
            "211/211 [==============================] - 0s 2ms/step - loss: 0.1930 - mae: 0.3171 - val_loss: 0.2509 - val_mae: 0.3502\n",
            "Epoch 37/50\n",
            "211/211 [==============================] - 0s 2ms/step - loss: 0.1900 - mae: 0.3156 - val_loss: 0.2695 - val_mae: 0.3649\n",
            "Epoch 38/50\n",
            "211/211 [==============================] - 0s 2ms/step - loss: 0.1888 - mae: 0.3127 - val_loss: 0.2524 - val_mae: 0.3569\n",
            "Epoch 39/50\n",
            "211/211 [==============================] - 0s 2ms/step - loss: 0.1853 - mae: 0.3122 - val_loss: 0.2684 - val_mae: 0.3856\n",
            "Epoch 40/50\n",
            "211/211 [==============================] - 0s 2ms/step - loss: 0.1867 - mae: 0.3124 - val_loss: 0.2524 - val_mae: 0.3615\n",
            "Epoch 41/50\n",
            "211/211 [==============================] - 0s 2ms/step - loss: 0.1857 - mae: 0.3103 - val_loss: 0.2749 - val_mae: 0.3684\n",
            "Epoch 42/50\n",
            "211/211 [==============================] - 0s 2ms/step - loss: 0.1831 - mae: 0.3088 - val_loss: 0.2666 - val_mae: 0.3669\n",
            "Epoch 43/50\n",
            "211/211 [==============================] - 0s 2ms/step - loss: 0.1821 - mae: 0.3071 - val_loss: 0.2505 - val_mae: 0.3596\n",
            "Epoch 44/50\n",
            "211/211 [==============================] - 0s 2ms/step - loss: 0.1828 - mae: 0.3083 - val_loss: 0.3235 - val_mae: 0.4076\n",
            "Epoch 45/50\n",
            "211/211 [==============================] - 0s 2ms/step - loss: 0.1797 - mae: 0.3052 - val_loss: 0.2776 - val_mae: 0.3738\n",
            "Epoch 46/50\n",
            "211/211 [==============================] - 0s 2ms/step - loss: 0.1780 - mae: 0.3047 - val_loss: 0.2725 - val_mae: 0.3692\n",
            "Epoch 47/50\n",
            "211/211 [==============================] - 0s 2ms/step - loss: 0.1776 - mae: 0.3035 - val_loss: 0.3075 - val_mae: 0.4054\n",
            "Epoch 48/50\n",
            "211/211 [==============================] - 0s 2ms/step - loss: 0.1743 - mae: 0.3024 - val_loss: 0.2472 - val_mae: 0.3515\n",
            "Epoch 49/50\n",
            "211/211 [==============================] - 0s 2ms/step - loss: 0.1728 - mae: 0.2996 - val_loss: 0.2542 - val_mae: 0.3663\n",
            "Epoch 50/50\n",
            "211/211 [==============================] - 0s 2ms/step - loss: 0.1735 - mae: 0.3011 - val_loss: 0.2435 - val_mae: 0.3446\n"
          ]
        }
      ],
      "source": [
        "# Initializing the Optimizer\n",
        "optimizer = RMSprop( learning_rate=0.001)\n",
        "# Compiling the model with 'mse' as loss function and metrics\n",
        "model.compile(loss='mse',\n",
        "              optimizer=optimizer,\n",
        "              metrics=['mae'])\n",
        "# Fitting the model on train and validation with 50 epochs\n",
        "history = model.fit(X_train, y_train, validation_data=(X_val, y_val_scale), epochs=50)"
      ]
    },
    {
      "cell_type": "code",
      "execution_count": 53,
      "id": "2e792ab2",
      "metadata": {
        "id": "2e792ab2",
        "colab": {
          "base_uri": "https://localhost:8080/",
          "height": 281
        },
        "outputId": "7ae67dda-188b-4aa8-cfad-559b4a45569d"
      },
      "outputs": [
        {
          "output_type": "display_data",
          "data": {
            "text/plain": [
              "<Figure size 432x288 with 1 Axes>"
            ],
            "image/png": "[encoded data removed]"
          },
          "metadata": {
            "needs_background": "light"
          }
        }
      ],
      "source": [
        "pyplot.title('Loss / Mean Squared Error')\n",
        "pyplot.plot(history.history['loss'], label='train')\n",
        "pyplot.plot(history.history['val_loss'], label='validate')\n",
        "pyplot.legend()\n",
        "pyplot.show()"
      ]
    },
    {
      "cell_type": "markdown",
      "id": "nyFqKnjAwW0E",
      "metadata": {
        "id": "nyFqKnjAwW0E"
      },
      "source": [
        "Here the model seems to be overfitted, as the distance between the train curve and validation curve started increasing.\n",
        "\n"
      ]
    },
    {
      "cell_type": "code",
      "execution_count": 54,
      "id": "cbf63bfb",
      "metadata": {
        "id": "cbf63bfb",
        "colab": {
          "base_uri": "https://localhost:8080/"
        },
        "outputId": "e0e220e4-568e-4bea-9355-4a922779ebd6"
      },
      "outputs": [
        {
          "output_type": "stream",
          "name": "stdout",
          "text": [
            "[[ 4402.424 ]\n",
            " [13365.0625]\n",
            " [ 6971.5728]\n",
            " ...\n",
            " [ 4761.3267]\n",
            " [ 6428.4097]\n",
            " [ 9345.7   ]]\n"
          ]
        }
      ],
      "source": [
        "#Lets predict on validation data\n",
        "Y_result_scaled= model.predict(X_val)\n",
        "##As we have scaled the target variable, now after predicting we should inverse the scale and convert it to normal form\n",
        "Y_result = sc.inverse_transform(Y_result_scaled) \n",
        "print(Y_result)"
      ]
    },
    {
      "cell_type": "code",
      "execution_count": 55,
      "id": "OFsRj4aYsoD8",
      "metadata": {
        "id": "OFsRj4aYsoD8"
      },
      "outputs": [],
      "source": [
        "def adj_r2_score(predictors, targets, predictions):\n",
        "    r2 = r2_score(targets, predictions)\n",
        "    n = predictors.shape[0]\n",
        "    k = predictors.shape[1]\n",
        "    return 1 - ((1 - r2) * (n - 1) / (n - k - 1))\n",
        "def model_performance_regression(predictors,target,pred):\n",
        "  r2 = r2_score(target, pred)  # to compute R-squared\n",
        "  adjr2 = adj_r2_score(predictors, target, pred)  # to compute adjusted R-squared\n",
        "  rmse = np.sqrt(mean_squared_error(target, pred))  # to compute RMSE\n",
        "  mae = mean_absolute_error(target, pred)  # to compute MAE\n",
        "\n",
        "  df_perf = pd.DataFrame(\n",
        "        {\n",
        "            \"RMSE\": rmse,\n",
        "            \"MAE\": mae,\n",
        "            \"R-squared\": r2,\n",
        "            \"Adj. R-squared\": adjr2,\n",
        "        },\n",
        "        index=[0],\n",
        "    )\n",
        "\n",
        "  return df_perf"
      ]
    },
    {
      "cell_type": "code",
      "source": [
        "# Checking model performance on train set\n",
        "print(\"Validation Performance\\n\")\n",
        "model_train_perf = model_performance_regression(X_val,y_val, Y_result)\n",
        "model_train_perf"
      ],
      "metadata": {
        "colab": {
          "base_uri": "https://localhost:8080/",
          "height": 115
        },
        "id": "rD60wCz6QRYf",
        "outputId": "0b6480a4-e2a8-42d3-f5f8-4083bd1fce3e"
      },
      "id": "rD60wCz6QRYf",
      "execution_count": 56,
      "outputs": [
        {
          "output_type": "stream",
          "name": "stdout",
          "text": [
            "Validation Performance\n",
            "\n"
          ]
        },
        {
          "output_type": "execute_result",
          "data": {
            "text/plain": [
              "          RMSE         MAE  R-squared  Adj. R-squared\n",
              "0  2267.741751  1583.43675   0.748581        0.746204"
            ],
            "text/html": [
              "\n",
              "  <div id=\"df-2e0183c6-9d3a-45a7-ba60-129c852009b2\">\n",
              "    <div class=\"colab-df-container\">\n",
              "      <div>\n",
              "<style scoped>\n",
              "    .dataframe tbody tr th:only-of-type {\n",
              "        vertical-align: middle;\n",
              "    }\n",
              "\n",
              "    .dataframe tbody tr th {\n",
              "        vertical-align: top;\n",
              "    }\n",
              "\n",
              "    .dataframe thead th {\n",
              "        text-align: right;\n",
              "    }\n",
              "</style>\n",
              "<table border=\"1\" class=\"dataframe\">\n",
              "  <thead>\n",
              "    <tr style=\"text-align: right;\">\n",
              "      <th></th>\n",
              "      <th>RMSE</th>\n",
              "      <th>MAE</th>\n",
              "      <th>R-squared</th>\n",
              "      <th>Adj. R-squared</th>\n",
              "    </tr>\n",
              "  </thead>\n",
              "  <tbody>\n",
              "    <tr>\n",
              "      <th>0</th>\n",
              "      <td>2267.741751</td>\n",
              "      <td>1583.43675</td>\n",
              "      <td>0.748581</td>\n",
              "      <td>0.746204</td>\n",
              "    </tr>\n",
              "  </tbody>\n",
              "</table>\n",
              "</div>\n",
              "      <button class=\"colab-df-convert\" onclick=\"convertToInteractive('df-2e0183c6-9d3a-45a7-ba60-129c852009b2')\"\n",
              "              title=\"Convert this dataframe to an interactive table.\"\n",
              "              style=\"display:none;\">\n",
              "        \n",
              "  <svg xmlns=\"http://www.w3.org/2000/svg\" height=\"24px\"viewBox=\"0 0 24 24\"\n",
              "       width=\"24px\">\n",
              "    <path d=\"M0 0h24v24H0V0z\" fill=\"none\"/>\n",
              "    <path d=\"M18.56 5.44l.94 2.06.94-2.06 2.06-.94-2.06-.94-.94-2.06-.94 2.06-2.06.94zm-11 1L8.5 8.5l.94-2.06 2.06-.94-2.06-.94L8.5 2.5l-.94 2.06-2.06.94zm10 10l.94 2.06.94-2.06 2.06-.94-2.06-.94-.94-2.06-.94 2.06-2.06.94z\"/><path d=\"M17.41 7.96l-1.37-1.37c-.4-.4-.92-.59-1.43-.59-.52 0-1.04.2-1.43.59L10.3 9.45l-7.72 7.72c-.78.78-.78 2.05 0 2.83L4 21.41c.39.39.9.59 1.41.59.51 0 1.02-.2 1.41-.59l7.78-7.78 2.81-2.81c.8-.78.8-2.07 0-2.86zM5.41 20L4 18.59l7.72-7.72 1.47 1.35L5.41 20z\"/>\n",
              "  </svg>\n",
              "      </button>\n",
              "      \n",
              "  <style>\n",
              "    .colab-df-container {\n",
              "      display:flex;\n",
              "      flex-wrap:wrap;\n",
              "      gap: 12px;\n",
              "    }\n",
              "\n",
              "    .colab-df-convert {\n",
              "      background-color: #E8F0FE;\n",
              "      border: none;\n",
              "      border-radius: 50%;\n",
              "      cursor: pointer;\n",
              "      display: none;\n",
              "      fill: #1967D2;\n",
              "      height: 32px;\n",
              "      padding: 0 0 0 0;\n",
              "      width: 32px;\n",
              "    }\n",
              "\n",
              "    .colab-df-convert:hover {\n",
              "      background-color: #E2EBFA;\n",
              "      box-shadow: 0px 1px 2px rgba(60, 64, 67, 0.3), 0px 1px 3px 1px rgba(60, 64, 67, 0.15);\n",
              "      fill: #174EA6;\n",
              "    }\n",
              "\n",
              "    [theme=dark] .colab-df-convert {\n",
              "      background-color: #3B4455;\n",
              "      fill: #D2E3FC;\n",
              "    }\n",
              "\n",
              "    [theme=dark] .colab-df-convert:hover {\n",
              "      background-color: #434B5C;\n",
              "      box-shadow: 0px 1px 3px 1px rgba(0, 0, 0, 0.15);\n",
              "      filter: drop-shadow(0px 1px 2px rgba(0, 0, 0, 0.3));\n",
              "      fill: #FFFFFF;\n",
              "    }\n",
              "  </style>\n",
              "\n",
              "      <script>\n",
              "        const buttonEl =\n",
              "          document.querySelector('#df-2e0183c6-9d3a-45a7-ba60-129c852009b2 button.colab-df-convert');\n",
              "        buttonEl.style.display =\n",
              "          google.colab.kernel.accessAllowed ? 'block' : 'none';\n",
              "\n",
              "        async function convertToInteractive(key) {\n",
              "          const element = document.querySelector('#df-2e0183c6-9d3a-45a7-ba60-129c852009b2');\n",
              "          const dataTable =\n",
              "            await google.colab.kernel.invokeFunction('convertToInteractive',\n",
              "                                                     [key], {});\n",
              "          if (!dataTable) return;\n",
              "\n",
              "          const docLinkHtml = 'Like what you see? Visit the ' +\n",
              "            '<a target=\"_blank\" href=https://colab.research.google.com/notebooks/data_table.ipynb>data table notebook</a>'\n",
              "            + ' to learn more about interactive tables.';\n",
              "          element.innerHTML = '';\n",
              "          dataTable['output_type'] = 'display_data';\n",
              "          await google.colab.output.renderOutput(dataTable, element);\n",
              "          const docLink = document.createElement('div');\n",
              "          docLink.innerHTML = docLinkHtml;\n",
              "          element.appendChild(docLink);\n",
              "        }\n",
              "      </script>\n",
              "    </div>\n",
              "  </div>\n",
              "  "
            ]
          },
          "metadata": {},
          "execution_count": 56
        }
      ]
    },
    {
      "cell_type": "markdown",
      "id": "wx5hTSxezDsh",
      "metadata": {
        "id": "wx5hTSxezDsh"
      },
      "source": [
        "* Now, let's try using Early stopping and see if we can overcome the overfitting problem, we can also change the optimizer and use Adam.  "
      ]
    },
    {
      "cell_type": "markdown",
      "id": "d5f3249f",
      "metadata": {
        "id": "d5f3249f"
      },
      "source": [
        "#### Model-2"
      ]
    },
    {
      "cell_type": "markdown",
      "id": "XsyVmc87nk6u",
      "metadata": {
        "id": "XsyVmc87nk6u"
      },
      "source": [
        "**Early stopping:** \n",
        "\n",
        "During training, the model is evaluated on a holdout validation dataset after each epoch. If the performance of the model on the validation dataset starts to degrade or no improvement (e.g. loss begins to increase or accuracy begins to decrease), then the training process is stopped after the certian interations.The model at the time that training is stopped is then used and is known to have good generalization performance.\n",
        "\n",
        "This procedure is called “early stopping” and is perhaps one of the oldest and most widely used forms of neural network regularization."
      ]
    },
    {
      "cell_type": "code",
      "execution_count": 57,
      "id": "dzbMj-slnixu",
      "metadata": {
        "id": "dzbMj-slnixu"
      },
      "outputs": [],
      "source": [
        "backend.clear_session()\n",
        "#Fixing the seed for random number generators so that we can ensure we receive the same output everytime\n",
        "np.random.seed(42)\n",
        "import random\n",
        "random.seed(42)\n",
        "tf.random.set_seed(42)"
      ]
    },
    {
      "cell_type": "code",
      "execution_count": 58,
      "id": "bzVWP9u3nitT",
      "metadata": {
        "id": "bzVWP9u3nitT"
      },
      "outputs": [],
      "source": [
        "# Initializing the model\n",
        "model_2 = Sequential()\n",
        "# Adding input layer with 64 neurons, relu as activation function and, he_uniform as weight initializer.\n",
        "model_2.add(Dense(64, activation='relu',kernel_initializer='he_uniform', input_shape=(27,)))\n",
        "# Adding the first hidden layer with 32 neurons, relu as activation function and, he_uniform as weight initializer\n",
        "model_2.add(Dense(32, activation='relu',kernel_initializer='he_uniform'))\n",
        "# Adding the second hidden layer with 32 neurons, relu as activation function and, he_uniform as weight initializer\n",
        "model_2.add(Dense(32, activation='relu',kernel_initializer='he_uniform'))\n",
        "# Adding the output layer with one neuron and linear as activation\n",
        "model_2.add(Dense(1, activation='linear'))"
      ]
    },
    {
      "cell_type": "code",
      "execution_count": 59,
      "id": "wtwmWQaCnipe",
      "metadata": {
        "id": "wtwmWQaCnipe",
        "colab": {
          "base_uri": "https://localhost:8080/"
        },
        "outputId": "65e71b49-e1b9-4273-bf00-98578bcf6546"
      },
      "outputs": [
        {
          "output_type": "stream",
          "name": "stdout",
          "text": [
            "Model: \"sequential\"\n",
            "_________________________________________________________________\n",
            " Layer (type)                Output Shape              Param #   \n",
            "=================================================================\n",
            " dense (Dense)               (None, 64)                1792      \n",
            "                                                                 \n",
            " dense_1 (Dense)             (None, 32)                2080      \n",
            "                                                                 \n",
            " dense_2 (Dense)             (None, 32)                1056      \n",
            "                                                                 \n",
            " dense_3 (Dense)             (None, 1)                 33        \n",
            "                                                                 \n",
            "=================================================================\n",
            "Total params: 4,961\n",
            "Trainable params: 4,961\n",
            "Non-trainable params: 0\n",
            "_________________________________________________________________\n"
          ]
        }
      ],
      "source": [
        "# Model summary\n",
        "model_2.summary()"
      ]
    },
    {
      "cell_type": "code",
      "execution_count": 60,
      "id": "2LbdJFMfnimy",
      "metadata": {
        "id": "2LbdJFMfnimy",
        "colab": {
          "base_uri": "https://localhost:8080/"
        },
        "outputId": "5a613323-6cce-40ff-f5bb-37465c3ae1b2"
      },
      "outputs": [
        {
          "output_type": "stream",
          "name": "stdout",
          "text": [
            "Epoch 1/50\n",
            "211/211 [==============================] - 1s 4ms/step - loss: 0.6586 - mae: 0.5673 - val_loss: 0.4254 - val_mae: 0.4644\n",
            "Epoch 2/50\n",
            "211/211 [==============================] - 1s 3ms/step - loss: 0.4526 - mae: 0.4491 - val_loss: 0.3635 - val_mae: 0.4260\n",
            "Epoch 3/50\n",
            "211/211 [==============================] - 1s 2ms/step - loss: 0.3976 - mae: 0.4195 - val_loss: 0.3717 - val_mae: 0.4303\n",
            "Epoch 4/50\n",
            "211/211 [==============================] - 0s 2ms/step - loss: 0.3667 - mae: 0.4094 - val_loss: 0.3298 - val_mae: 0.4134\n",
            "Epoch 5/50\n",
            "211/211 [==============================] - 1s 2ms/step - loss: 0.3348 - mae: 0.3918 - val_loss: 0.3091 - val_mae: 0.3900\n",
            "Epoch 6/50\n",
            "211/211 [==============================] - 1s 2ms/step - loss: 0.3221 - mae: 0.3913 - val_loss: 0.3014 - val_mae: 0.3878\n",
            "Epoch 7/50\n",
            "211/211 [==============================] - 0s 2ms/step - loss: 0.2948 - mae: 0.3740 - val_loss: 0.3047 - val_mae: 0.3965\n",
            "Epoch 8/50\n",
            "211/211 [==============================] - 0s 2ms/step - loss: 0.2834 - mae: 0.3754 - val_loss: 0.2826 - val_mae: 0.3801\n",
            "Epoch 9/50\n",
            "211/211 [==============================] - 0s 2ms/step - loss: 0.2698 - mae: 0.3681 - val_loss: 0.3165 - val_mae: 0.4260\n",
            "Epoch 10/50\n",
            "211/211 [==============================] - 0s 2ms/step - loss: 0.2580 - mae: 0.3644 - val_loss: 0.2800 - val_mae: 0.3826\n",
            "Epoch 11/50\n",
            "211/211 [==============================] - 0s 2ms/step - loss: 0.2487 - mae: 0.3614 - val_loss: 0.2727 - val_mae: 0.3894\n",
            "Epoch 12/50\n",
            "211/211 [==============================] - 1s 2ms/step - loss: 0.2367 - mae: 0.3544 - val_loss: 0.2620 - val_mae: 0.3642\n",
            "Epoch 13/50\n",
            "211/211 [==============================] - 1s 2ms/step - loss: 0.2295 - mae: 0.3468 - val_loss: 0.2600 - val_mae: 0.3664\n",
            "Epoch 14/50\n",
            "211/211 [==============================] - 0s 2ms/step - loss: 0.2255 - mae: 0.3448 - val_loss: 0.2555 - val_mae: 0.3596\n",
            "Epoch 15/50\n",
            "211/211 [==============================] - 1s 2ms/step - loss: 0.2173 - mae: 0.3381 - val_loss: 0.2809 - val_mae: 0.3849\n",
            "Epoch 16/50\n",
            "211/211 [==============================] - 1s 3ms/step - loss: 0.2197 - mae: 0.3424 - val_loss: 0.2618 - val_mae: 0.3676\n",
            "Epoch 17/50\n",
            "211/211 [==============================] - 1s 3ms/step - loss: 0.2145 - mae: 0.3362 - val_loss: 0.2682 - val_mae: 0.3650\n",
            "Epoch 18/50\n",
            "211/211 [==============================] - 0s 2ms/step - loss: 0.2129 - mae: 0.3353 - val_loss: 0.2660 - val_mae: 0.3741\n",
            "Epoch 19/50\n",
            "211/211 [==============================] - 0s 2ms/step - loss: 0.2047 - mae: 0.3285 - val_loss: 0.2504 - val_mae: 0.3554\n",
            "Epoch 20/50\n",
            "211/211 [==============================] - 1s 2ms/step - loss: 0.2027 - mae: 0.3287 - val_loss: 0.2786 - val_mae: 0.4026\n",
            "Epoch 21/50\n",
            "211/211 [==============================] - 1s 2ms/step - loss: 0.2028 - mae: 0.3292 - val_loss: 0.2588 - val_mae: 0.3604\n",
            "Epoch 22/50\n",
            "211/211 [==============================] - 0s 2ms/step - loss: 0.1987 - mae: 0.3253 - val_loss: 0.2530 - val_mae: 0.3570\n",
            "Epoch 23/50\n",
            "211/211 [==============================] - 0s 2ms/step - loss: 0.1958 - mae: 0.3217 - val_loss: 0.2683 - val_mae: 0.3685\n",
            "Epoch 24/50\n",
            "211/211 [==============================] - 0s 2ms/step - loss: 0.1971 - mae: 0.3254 - val_loss: 0.2564 - val_mae: 0.3504\n"
          ]
        }
      ],
      "source": [
        "# Initializing the Optimizer\n",
        "optimizer = Adam( learning_rate=0.001)\n",
        "# Compiling the model with 'mse' as loss function and metrics\n",
        "model_2.compile(loss='mse',\n",
        "              optimizer=optimizer,\n",
        "              metrics=['mae'])\n",
        "# Defining Early stopping\n",
        "es_cb = callbacks.EarlyStopping(monitor='val_loss', min_delta=0.001, patience=5)\n",
        "# Fitting the model on train and validation with 50 epochs\n",
        "history_2 = model_2.fit(X_train, y_train, validation_data=(X_val, y_val_scale), epochs=50,callbacks=es_cb)"
      ]
    },
    {
      "cell_type": "code",
      "execution_count": 61,
      "id": "6T7vPtGcniju",
      "metadata": {
        "id": "6T7vPtGcniju",
        "colab": {
          "base_uri": "https://localhost:8080/",
          "height": 281
        },
        "outputId": "01f02622-b51a-4a18-e3b1-abd170400592"
      },
      "outputs": [
        {
          "output_type": "display_data",
          "data": {
            "text/plain": [
              "<Figure size 432x288 with 1 Axes>"
            ],
            "image/png": "[encoded data removed]"
          },
          "metadata": {
            "needs_background": "light"
          }
        }
      ],
      "source": [
        "pyplot.title('Loss / Mean Squared Error')\n",
        "pyplot.plot(history_2.history['loss'], label='train')\n",
        "pyplot.plot(history_2.history['val_loss'], label='validate')\n",
        "pyplot.legend()\n",
        "pyplot.show()"
      ]
    },
    {
      "cell_type": "markdown",
      "id": "mMGJJPK40KK0",
      "metadata": {
        "id": "mMGJJPK40KK0"
      },
      "source": [
        "* The train and validation curves are smooth after using Adam, although they appear to be slightly overfitted. "
      ]
    },
    {
      "cell_type": "code",
      "execution_count": 62,
      "id": "fMjT0UZDnigk",
      "metadata": {
        "id": "fMjT0UZDnigk",
        "colab": {
          "base_uri": "https://localhost:8080/"
        },
        "outputId": "13060495-8bf8-44d1-82e1-1b7d9c091d4e"
      },
      "outputs": [
        {
          "output_type": "stream",
          "name": "stdout",
          "text": [
            "[[ 6148.708 ]\n",
            " [13801.202 ]\n",
            " [ 6551.9194]\n",
            " ...\n",
            " [ 4084.5234]\n",
            " [ 6506.4424]\n",
            " [ 8840.244 ]]\n"
          ]
        }
      ],
      "source": [
        "#Lets predict on validation data\n",
        "Y_result_scaled_2= model_2.predict(X_val)\n",
        "##As we have scaled the target variable, now after predicting we should inverse the scale and should convert to normal form\n",
        "Y_result2 = sc.inverse_transform(Y_result_scaled_2) \n",
        "print(Y_result2)"
      ]
    },
    {
      "cell_type": "code",
      "execution_count": 63,
      "id": "0a32OYY2gXDM",
      "metadata": {
        "id": "0a32OYY2gXDM",
        "colab": {
          "base_uri": "https://localhost:8080/",
          "height": 115
        },
        "outputId": "16fa2f4f-efc8-49b0-f3bd-b5936ef455e5"
      },
      "outputs": [
        {
          "output_type": "stream",
          "name": "stdout",
          "text": [
            "Validation Performance\n",
            "\n"
          ]
        },
        {
          "output_type": "execute_result",
          "data": {
            "text/plain": [
              "          RMSE          MAE  R-squared  Adj. R-squared\n",
              "0  2326.976313  1610.178185   0.735275        0.732772"
            ],
            "text/html": [
              "\n",
              "  <div id=\"df-8be80ab4-500e-47de-8d4e-e00848cbd152\">\n",
              "    <div class=\"colab-df-container\">\n",
              "      <div>\n",
              "<style scoped>\n",
              "    .dataframe tbody tr th:only-of-type {\n",
              "        vertical-align: middle;\n",
              "    }\n",
              "\n",
              "    .dataframe tbody tr th {\n",
              "        vertical-align: top;\n",
              "    }\n",
              "\n",
              "    .dataframe thead th {\n",
              "        text-align: right;\n",
              "    }\n",
              "</style>\n",
              "<table border=\"1\" class=\"dataframe\">\n",
              "  <thead>\n",
              "    <tr style=\"text-align: right;\">\n",
              "      <th></th>\n",
              "      <th>RMSE</th>\n",
              "      <th>MAE</th>\n",
              "      <th>R-squared</th>\n",
              "      <th>Adj. R-squared</th>\n",
              "    </tr>\n",
              "  </thead>\n",
              "  <tbody>\n",
              "    <tr>\n",
              "      <th>0</th>\n",
              "      <td>2326.976313</td>\n",
              "      <td>1610.178185</td>\n",
              "      <td>0.735275</td>\n",
              "      <td>0.732772</td>\n",
              "    </tr>\n",
              "  </tbody>\n",
              "</table>\n",
              "</div>\n",
              "      <button class=\"colab-df-convert\" onclick=\"convertToInteractive('df-8be80ab4-500e-47de-8d4e-e00848cbd152')\"\n",
              "              title=\"Convert this dataframe to an interactive table.\"\n",
              "              style=\"display:none;\">\n",
              "        \n",
              "  <svg xmlns=\"http://www.w3.org/2000/svg\" height=\"24px\"viewBox=\"0 0 24 24\"\n",
              "       width=\"24px\">\n",
              "    <path d=\"M0 0h24v24H0V0z\" fill=\"none\"/>\n",
              "    <path d=\"M18.56 5.44l.94 2.06.94-2.06 2.06-.94-2.06-.94-.94-2.06-.94 2.06-2.06.94zm-11 1L8.5 8.5l.94-2.06 2.06-.94-2.06-.94L8.5 2.5l-.94 2.06-2.06.94zm10 10l.94 2.06.94-2.06 2.06-.94-2.06-.94-.94-2.06-.94 2.06-2.06.94z\"/><path d=\"M17.41 7.96l-1.37-1.37c-.4-.4-.92-.59-1.43-.59-.52 0-1.04.2-1.43.59L10.3 9.45l-7.72 7.72c-.78.78-.78 2.05 0 2.83L4 21.41c.39.39.9.59 1.41.59.51 0 1.02-.2 1.41-.59l7.78-7.78 2.81-2.81c.8-.78.8-2.07 0-2.86zM5.41 20L4 18.59l7.72-7.72 1.47 1.35L5.41 20z\"/>\n",
              "  </svg>\n",
              "      </button>\n",
              "      \n",
              "  <style>\n",
              "    .colab-df-container {\n",
              "      display:flex;\n",
              "      flex-wrap:wrap;\n",
              "      gap: 12px;\n",
              "    }\n",
              "\n",
              "    .colab-df-convert {\n",
              "      background-color: #E8F0FE;\n",
              "      border: none;\n",
              "      border-radius: 50%;\n",
              "      cursor: pointer;\n",
              "      display: none;\n",
              "      fill: #1967D2;\n",
              "      height: 32px;\n",
              "      padding: 0 0 0 0;\n",
              "      width: 32px;\n",
              "    }\n",
              "\n",
              "    .colab-df-convert:hover {\n",
              "      background-color: #E2EBFA;\n",
              "      box-shadow: 0px 1px 2px rgba(60, 64, 67, 0.3), 0px 1px 3px 1px rgba(60, 64, 67, 0.15);\n",
              "      fill: #174EA6;\n",
              "    }\n",
              "\n",
              "    [theme=dark] .colab-df-convert {\n",
              "      background-color: #3B4455;\n",
              "      fill: #D2E3FC;\n",
              "    }\n",
              "\n",
              "    [theme=dark] .colab-df-convert:hover {\n",
              "      background-color: #434B5C;\n",
              "      box-shadow: 0px 1px 3px 1px rgba(0, 0, 0, 0.15);\n",
              "      filter: drop-shadow(0px 1px 2px rgba(0, 0, 0, 0.3));\n",
              "      fill: #FFFFFF;\n",
              "    }\n",
              "  </style>\n",
              "\n",
              "      <script>\n",
              "        const buttonEl =\n",
              "          document.querySelector('#df-8be80ab4-500e-47de-8d4e-e00848cbd152 button.colab-df-convert');\n",
              "        buttonEl.style.display =\n",
              "          google.colab.kernel.accessAllowed ? 'block' : 'none';\n",
              "\n",
              "        async function convertToInteractive(key) {\n",
              "          const element = document.querySelector('#df-8be80ab4-500e-47de-8d4e-e00848cbd152');\n",
              "          const dataTable =\n",
              "            await google.colab.kernel.invokeFunction('convertToInteractive',\n",
              "                                                     [key], {});\n",
              "          if (!dataTable) return;\n",
              "\n",
              "          const docLinkHtml = 'Like what you see? Visit the ' +\n",
              "            '<a target=\"_blank\" href=https://colab.research.google.com/notebooks/data_table.ipynb>data table notebook</a>'\n",
              "            + ' to learn more about interactive tables.';\n",
              "          element.innerHTML = '';\n",
              "          dataTable['output_type'] = 'display_data';\n",
              "          await google.colab.output.renderOutput(dataTable, element);\n",
              "          const docLink = document.createElement('div');\n",
              "          docLink.innerHTML = docLinkHtml;\n",
              "          element.appendChild(docLink);\n",
              "        }\n",
              "      </script>\n",
              "    </div>\n",
              "  </div>\n",
              "  "
            ]
          },
          "metadata": {},
          "execution_count": 63
        }
      ],
      "source": [
        "# Checking model performance on train set\n",
        "print(\"Validation Performance\\n\")\n",
        "model_train_perf = model_performance_regression(X_val,y_val, Y_result2)\n",
        "model_train_perf"
      ]
    },
    {
      "cell_type": "markdown",
      "source": [
        "Changing the optimizer didn't work, and even the Adj R-square has decreased when compared to previous model. "
      ],
      "metadata": {
        "id": "Q8NTIWu_Zy-l"
      },
      "id": "Q8NTIWu_Zy-l"
    },
    {
      "cell_type": "markdown",
      "id": "3WNogSq40lx8",
      "metadata": {
        "id": "3WNogSq40lx8"
      },
      "source": [
        "* Let's use two Regularization techniques to reduce the overfitting problem. \n",
        "\n",
        " - Dropout \n",
        " - BatchNormalization"
      ]
    },
    {
      "cell_type": "markdown",
      "id": "Zq6YPr01MdMt",
      "metadata": {
        "id": "Zq6YPr01MdMt"
      },
      "source": [
        "#### Model-3"
      ]
    },
    {
      "cell_type": "markdown",
      "id": "Ymo2x26ln1Jv",
      "metadata": {
        "id": "Ymo2x26ln1Jv"
      },
      "source": [
        "**Dropout**\n",
        "\n",
        "Dropout is a regularization technique for neural network models proposed by Srivastava, et al. in their 2014 paper Dropout: A Simple Way to Prevent Neural Networks from Overfitting. Dropout is a technique where randomly selected neurons are ignored during training. They are “dropped-out” randomly."
      ]
    },
    {
      "cell_type": "code",
      "execution_count": 116,
      "id": "WEuBlUgODqTQ",
      "metadata": {
        "id": "WEuBlUgODqTQ"
      },
      "outputs": [],
      "source": [
        "backend.clear_session()\n",
        "#Fixing the seed for random number generators so that we can ensure we receive the same output everytime\n",
        "np.random.seed(42)\n",
        "import random\n",
        "random.seed(42)\n",
        "tf.random.set_seed(42)"
      ]
    },
    {
      "cell_type": "code",
      "execution_count": 117,
      "id": "zrpaWoRc94kC",
      "metadata": {
        "id": "zrpaWoRc94kC"
      },
      "outputs": [],
      "source": [
        "# Initializing the model\n",
        "model_3 = Sequential()\n",
        "# Adding input layer with 64 neurons, relu as activation function and, he_uniform as weight initializer.\n",
        "model_3.add(Dense(64, activation='relu',kernel_initializer='he_uniform', input_shape=(27,)))\n",
        "# Adding Dropout with 20%\n",
        "model_3.add(Dropout(0.2))\n",
        "# Adding the first hidden layer with 32 neurons, relu as activation function and, he_uniform as weight initializer\n",
        "model_3.add(Dense(32, activation='relu',kernel_initializer='he_uniform'))\n",
        "# Adding Dropout with 10%\n",
        "model_3.add(Dropout(0.2))\n",
        "# Adding the second hidden layer with 32 neurons, relu as activation function and, he_uniform as weight initializer\n",
        "model_3.add(Dense(16, activation='relu',kernel_initializer='he_uniform'))\n",
        "# Adding the output layer with one neuron and linear as activation\n",
        "model_3.add(Dense(1, activation='linear'))"
      ]
    },
    {
      "cell_type": "code",
      "execution_count": 118,
      "id": "354619f5",
      "metadata": {
        "id": "354619f5",
        "colab": {
          "base_uri": "https://localhost:8080/"
        },
        "outputId": "06536910-5aa7-4c1f-c7d2-0425a40218b5"
      },
      "outputs": [
        {
          "output_type": "stream",
          "name": "stdout",
          "text": [
            "Model: \"sequential\"\n",
            "_________________________________________________________________\n",
            " Layer (type)                Output Shape              Param #   \n",
            "=================================================================\n",
            " dense (Dense)               (None, 64)                1792      \n",
            "                                                                 \n",
            " dropout (Dropout)           (None, 64)                0         \n",
            "                                                                 \n",
            " dense_1 (Dense)             (None, 32)                2080      \n",
            "                                                                 \n",
            " dropout_1 (Dropout)         (None, 32)                0         \n",
            "                                                                 \n",
            " dense_2 (Dense)             (None, 16)                528       \n",
            "                                                                 \n",
            " dense_3 (Dense)             (None, 1)                 17        \n",
            "                                                                 \n",
            "=================================================================\n",
            "Total params: 4,417\n",
            "Trainable params: 4,417\n",
            "Non-trainable params: 0\n",
            "_________________________________________________________________\n"
          ]
        }
      ],
      "source": [
        "# Model summary\n",
        "model_3.summary()"
      ]
    },
    {
      "cell_type": "code",
      "execution_count": 119,
      "id": "b337d8a4",
      "metadata": {
        "id": "b337d8a4",
        "colab": {
          "base_uri": "https://localhost:8080/"
        },
        "outputId": "3daa209f-56dc-459c-b1f0-8e844cbcb59e"
      },
      "outputs": [
        {
          "output_type": "stream",
          "name": "stdout",
          "text": [
            "Epoch 1/50\n",
            "211/211 [==============================] - 1s 3ms/step - loss: 1.2231 - mae: 0.8299 - val_loss: 0.7271 - val_mae: 0.6556\n",
            "Epoch 2/50\n",
            "211/211 [==============================] - 1s 3ms/step - loss: 0.7985 - mae: 0.6540 - val_loss: 0.5479 - val_mae: 0.5451\n",
            "Epoch 3/50\n",
            "211/211 [==============================] - 0s 2ms/step - loss: 0.6521 - mae: 0.5743 - val_loss: 0.4776 - val_mae: 0.4908\n",
            "Epoch 4/50\n",
            "211/211 [==============================] - 1s 3ms/step - loss: 0.5975 - mae: 0.5481 - val_loss: 0.4514 - val_mae: 0.4954\n",
            "Epoch 5/50\n",
            "211/211 [==============================] - 1s 3ms/step - loss: 0.5413 - mae: 0.5186 - val_loss: 0.4008 - val_mae: 0.4597\n",
            "Epoch 6/50\n",
            "211/211 [==============================] - 1s 3ms/step - loss: 0.4948 - mae: 0.4921 - val_loss: 0.3836 - val_mae: 0.4555\n",
            "Epoch 7/50\n",
            "211/211 [==============================] - 0s 2ms/step - loss: 0.4531 - mae: 0.4713 - val_loss: 0.3605 - val_mae: 0.4372\n",
            "Epoch 8/50\n",
            "211/211 [==============================] - 0s 2ms/step - loss: 0.4305 - mae: 0.4606 - val_loss: 0.3520 - val_mae: 0.4486\n",
            "Epoch 9/50\n",
            "211/211 [==============================] - 0s 2ms/step - loss: 0.3996 - mae: 0.4472 - val_loss: 0.3440 - val_mae: 0.4400\n",
            "Epoch 10/50\n",
            "211/211 [==============================] - 0s 2ms/step - loss: 0.3908 - mae: 0.4416 - val_loss: 0.3235 - val_mae: 0.4103\n",
            "Epoch 11/50\n",
            "211/211 [==============================] - 0s 2ms/step - loss: 0.3907 - mae: 0.4383 - val_loss: 0.3460 - val_mae: 0.4495\n",
            "Epoch 12/50\n",
            "211/211 [==============================] - 1s 3ms/step - loss: 0.3559 - mae: 0.4220 - val_loss: 0.3098 - val_mae: 0.4114\n",
            "Epoch 13/50\n",
            "211/211 [==============================] - 0s 2ms/step - loss: 0.3537 - mae: 0.4250 - val_loss: 0.3205 - val_mae: 0.4368\n",
            "Epoch 14/50\n",
            "211/211 [==============================] - 0s 2ms/step - loss: 0.3383 - mae: 0.4127 - val_loss: 0.3194 - val_mae: 0.4188\n",
            "Epoch 15/50\n",
            "211/211 [==============================] - 1s 2ms/step - loss: 0.3217 - mae: 0.4066 - val_loss: 0.3138 - val_mae: 0.4354\n",
            "Epoch 16/50\n",
            "211/211 [==============================] - 1s 3ms/step - loss: 0.3195 - mae: 0.4032 - val_loss: 0.3045 - val_mae: 0.4211\n",
            "Epoch 17/50\n",
            "211/211 [==============================] - 1s 3ms/step - loss: 0.3316 - mae: 0.4007 - val_loss: 0.3000 - val_mae: 0.4157\n",
            "Epoch 18/50\n",
            "211/211 [==============================] - 1s 2ms/step - loss: 0.3173 - mae: 0.3983 - val_loss: 0.2917 - val_mae: 0.3989\n",
            "Epoch 19/50\n",
            "211/211 [==============================] - 1s 2ms/step - loss: 0.2982 - mae: 0.3906 - val_loss: 0.2953 - val_mae: 0.4205\n",
            "Epoch 20/50\n",
            "211/211 [==============================] - 1s 3ms/step - loss: 0.2976 - mae: 0.3939 - val_loss: 0.2973 - val_mae: 0.4180\n",
            "Epoch 21/50\n",
            "211/211 [==============================] - 1s 2ms/step - loss: 0.3025 - mae: 0.3880 - val_loss: 0.2805 - val_mae: 0.3916\n",
            "Epoch 22/50\n",
            "211/211 [==============================] - 0s 2ms/step - loss: 0.2863 - mae: 0.3844 - val_loss: 0.2853 - val_mae: 0.4048\n",
            "Epoch 23/50\n",
            "211/211 [==============================] - 1s 3ms/step - loss: 0.2880 - mae: 0.3808 - val_loss: 0.2800 - val_mae: 0.3901\n",
            "Epoch 24/50\n",
            "211/211 [==============================] - 0s 2ms/step - loss: 0.2813 - mae: 0.3821 - val_loss: 0.2751 - val_mae: 0.3943\n",
            "Epoch 25/50\n",
            "211/211 [==============================] - 1s 2ms/step - loss: 0.2862 - mae: 0.3829 - val_loss: 0.2776 - val_mae: 0.3992\n",
            "Epoch 26/50\n",
            "211/211 [==============================] - 1s 3ms/step - loss: 0.2737 - mae: 0.3734 - val_loss: 0.2834 - val_mae: 0.4078\n",
            "Epoch 27/50\n",
            "211/211 [==============================] - 0s 2ms/step - loss: 0.2797 - mae: 0.3713 - val_loss: 0.2679 - val_mae: 0.3887\n",
            "Epoch 28/50\n",
            "211/211 [==============================] - 0s 2ms/step - loss: 0.2585 - mae: 0.3651 - val_loss: 0.2678 - val_mae: 0.3859\n",
            "Epoch 29/50\n",
            "211/211 [==============================] - 0s 2ms/step - loss: 0.2586 - mae: 0.3671 - val_loss: 0.2828 - val_mae: 0.3906\n",
            "Epoch 30/50\n",
            "211/211 [==============================] - 1s 3ms/step - loss: 0.2690 - mae: 0.3673 - val_loss: 0.2690 - val_mae: 0.3879\n",
            "Epoch 31/50\n",
            "211/211 [==============================] - 0s 2ms/step - loss: 0.2539 - mae: 0.3603 - val_loss: 0.2752 - val_mae: 0.4010\n",
            "Epoch 32/50\n",
            "211/211 [==============================] - 0s 2ms/step - loss: 0.2699 - mae: 0.3653 - val_loss: 0.2624 - val_mae: 0.3801\n",
            "Epoch 33/50\n",
            "211/211 [==============================] - 1s 2ms/step - loss: 0.2478 - mae: 0.3578 - val_loss: 0.2661 - val_mae: 0.3825\n",
            "Epoch 34/50\n",
            "211/211 [==============================] - 1s 2ms/step - loss: 0.2535 - mae: 0.3618 - val_loss: 0.2674 - val_mae: 0.3893\n",
            "Epoch 35/50\n",
            "211/211 [==============================] - 1s 2ms/step - loss: 0.2687 - mae: 0.3631 - val_loss: 0.2656 - val_mae: 0.3891\n",
            "Epoch 36/50\n",
            "211/211 [==============================] - 1s 3ms/step - loss: 0.2577 - mae: 0.3593 - val_loss: 0.2621 - val_mae: 0.3889\n",
            "Epoch 37/50\n",
            "211/211 [==============================] - 1s 2ms/step - loss: 0.2623 - mae: 0.3602 - val_loss: 0.2547 - val_mae: 0.3713\n",
            "Epoch 38/50\n",
            "211/211 [==============================] - 0s 2ms/step - loss: 0.2461 - mae: 0.3566 - val_loss: 0.2588 - val_mae: 0.3750\n",
            "Epoch 39/50\n",
            "211/211 [==============================] - 0s 2ms/step - loss: 0.2423 - mae: 0.3505 - val_loss: 0.2666 - val_mae: 0.3938\n",
            "Epoch 40/50\n",
            "211/211 [==============================] - 1s 3ms/step - loss: 0.2533 - mae: 0.3545 - val_loss: 0.2670 - val_mae: 0.3937\n",
            "Epoch 41/50\n",
            "211/211 [==============================] - 0s 2ms/step - loss: 0.2481 - mae: 0.3529 - val_loss: 0.2558 - val_mae: 0.3695\n",
            "Epoch 42/50\n",
            "211/211 [==============================] - 1s 2ms/step - loss: 0.2378 - mae: 0.3521 - val_loss: 0.2534 - val_mae: 0.3672\n",
            "Epoch 43/50\n",
            "211/211 [==============================] - 0s 2ms/step - loss: 0.2486 - mae: 0.3521 - val_loss: 0.2560 - val_mae: 0.3733\n",
            "Epoch 44/50\n",
            "211/211 [==============================] - 1s 3ms/step - loss: 0.2375 - mae: 0.3486 - val_loss: 0.2528 - val_mae: 0.3752\n",
            "Epoch 45/50\n",
            "211/211 [==============================] - 1s 2ms/step - loss: 0.2385 - mae: 0.3490 - val_loss: 0.2594 - val_mae: 0.3734\n",
            "Epoch 46/50\n",
            "211/211 [==============================] - 0s 2ms/step - loss: 0.2449 - mae: 0.3492 - val_loss: 0.2505 - val_mae: 0.3689\n",
            "Epoch 47/50\n",
            "211/211 [==============================] - 1s 3ms/step - loss: 0.2432 - mae: 0.3475 - val_loss: 0.2655 - val_mae: 0.3863\n",
            "Epoch 48/50\n",
            "211/211 [==============================] - 1s 3ms/step - loss: 0.2377 - mae: 0.3455 - val_loss: 0.2478 - val_mae: 0.3663\n",
            "Epoch 49/50\n",
            "211/211 [==============================] - 1s 2ms/step - loss: 0.2281 - mae: 0.3459 - val_loss: 0.2488 - val_mae: 0.3680\n",
            "Epoch 50/50\n",
            "211/211 [==============================] - 0s 2ms/step - loss: 0.2211 - mae: 0.3393 - val_loss: 0.2492 - val_mae: 0.3648\n"
          ]
        }
      ],
      "source": [
        "# Initializing the Optimizer\n",
        "optimizer = Adam(0.001)\n",
        "# Compiling the model with 'mse' as loss function and metrics\n",
        "model_3.compile(loss='mse',\n",
        "              optimizer=optimizer,\n",
        "              metrics=['mae'])\n",
        "# Defining Early stopping\n",
        "es_cb = callbacks.EarlyStopping(monitor='val_loss', min_delta=0.001, patience=5)\n",
        "# Fitting the model on train and validation with 50 epochs\n",
        "history_3 = model_3.fit(X_train, y_train, validation_data=(X_val, y_val_scale), epochs=50,callbacks=es_cb)"
      ]
    },
    {
      "cell_type": "code",
      "execution_count": 120,
      "id": "4e7baacd",
      "metadata": {
        "id": "4e7baacd",
        "colab": {
          "base_uri": "https://localhost:8080/",
          "height": 281
        },
        "outputId": "073d5507-0d60-4527-a873-6e19f5c0cbd2"
      },
      "outputs": [
        {
          "output_type": "display_data",
          "data": {
            "text/plain": [
              "<Figure size 432x288 with 1 Axes>"
            ],
            "image/png": "[encoded data removed]"
          },
          "metadata": {
            "needs_background": "light"
          }
        }
      ],
      "source": [
        "pyplot.title('Loss / Mean Squared Error')\n",
        "pyplot.plot(history_3.history['loss'], label='train')\n",
        "pyplot.plot(history_3.history['val_loss'], label='validate')\n",
        "pyplot.legend()\n",
        "pyplot.show()"
      ]
    },
    {
      "cell_type": "markdown",
      "id": "7KLrSAVv-P3v",
      "metadata": {
        "id": "7KLrSAVv-P3v"
      },
      "source": [
        "After using Dropout technique the train and validation curves seems to be smooth."
      ]
    },
    {
      "cell_type": "code",
      "execution_count": 121,
      "id": "a33bf2af",
      "metadata": {
        "id": "a33bf2af",
        "colab": {
          "base_uri": "https://localhost:8080/"
        },
        "outputId": "6a1ef060-fa2c-46b5-fe62-fe947e59d3b0"
      },
      "outputs": [
        {
          "output_type": "stream",
          "name": "stdout",
          "text": [
            "[[ 6228.1436]\n",
            " [12309.259 ]\n",
            " [ 7004.049 ]\n",
            " ...\n",
            " [ 4793.8965]\n",
            " [ 7066.442 ]\n",
            " [ 8568.346 ]]\n"
          ]
        }
      ],
      "source": [
        "Y_result_scaled_3= model_3.predict(X_val)\n",
        "Y_result_3 = sc.inverse_transform(Y_result_scaled_3)\n",
        "print(Y_result_3)"
      ]
    },
    {
      "cell_type": "code",
      "execution_count": 122,
      "id": "j3s0w8-bgnHg",
      "metadata": {
        "id": "j3s0w8-bgnHg",
        "colab": {
          "base_uri": "https://localhost:8080/",
          "height": 115
        },
        "outputId": "5632f911-fa9e-488d-bb9a-71c58fe603e9"
      },
      "outputs": [
        {
          "output_type": "stream",
          "name": "stdout",
          "text": [
            "Validation Performance\n",
            "\n"
          ]
        },
        {
          "output_type": "execute_result",
          "data": {
            "text/plain": [
              "          RMSE          MAE  R-squared  Adj. R-squared\n",
              "0  2294.000954  1676.436146   0.742725        0.740292"
            ],
            "text/html": [
              "\n",
              "  <div id=\"df-0864a3b6-0e54-4af1-bf8e-975792648183\">\n",
              "    <div class=\"colab-df-container\">\n",
              "      <div>\n",
              "<style scoped>\n",
              "    .dataframe tbody tr th:only-of-type {\n",
              "        vertical-align: middle;\n",
              "    }\n",
              "\n",
              "    .dataframe tbody tr th {\n",
              "        vertical-align: top;\n",
              "    }\n",
              "\n",
              "    .dataframe thead th {\n",
              "        text-align: right;\n",
              "    }\n",
              "</style>\n",
              "<table border=\"1\" class=\"dataframe\">\n",
              "  <thead>\n",
              "    <tr style=\"text-align: right;\">\n",
              "      <th></th>\n",
              "      <th>RMSE</th>\n",
              "      <th>MAE</th>\n",
              "      <th>R-squared</th>\n",
              "      <th>Adj. R-squared</th>\n",
              "    </tr>\n",
              "  </thead>\n",
              "  <tbody>\n",
              "    <tr>\n",
              "      <th>0</th>\n",
              "      <td>2294.000954</td>\n",
              "      <td>1676.436146</td>\n",
              "      <td>0.742725</td>\n",
              "      <td>0.740292</td>\n",
              "    </tr>\n",
              "  </tbody>\n",
              "</table>\n",
              "</div>\n",
              "      <button class=\"colab-df-convert\" onclick=\"convertToInteractive('df-0864a3b6-0e54-4af1-bf8e-975792648183')\"\n",
              "              title=\"Convert this dataframe to an interactive table.\"\n",
              "              style=\"display:none;\">\n",
              "        \n",
              "  <svg xmlns=\"http://www.w3.org/2000/svg\" height=\"24px\"viewBox=\"0 0 24 24\"\n",
              "       width=\"24px\">\n",
              "    <path d=\"M0 0h24v24H0V0z\" fill=\"none\"/>\n",
              "    <path d=\"M18.56 5.44l.94 2.06.94-2.06 2.06-.94-2.06-.94-.94-2.06-.94 2.06-2.06.94zm-11 1L8.5 8.5l.94-2.06 2.06-.94-2.06-.94L8.5 2.5l-.94 2.06-2.06.94zm10 10l.94 2.06.94-2.06 2.06-.94-2.06-.94-.94-2.06-.94 2.06-2.06.94z\"/><path d=\"M17.41 7.96l-1.37-1.37c-.4-.4-.92-.59-1.43-.59-.52 0-1.04.2-1.43.59L10.3 9.45l-7.72 7.72c-.78.78-.78 2.05 0 2.83L4 21.41c.39.39.9.59 1.41.59.51 0 1.02-.2 1.41-.59l7.78-7.78 2.81-2.81c.8-.78.8-2.07 0-2.86zM5.41 20L4 18.59l7.72-7.72 1.47 1.35L5.41 20z\"/>\n",
              "  </svg>\n",
              "      </button>\n",
              "      \n",
              "  <style>\n",
              "    .colab-df-container {\n",
              "      display:flex;\n",
              "      flex-wrap:wrap;\n",
              "      gap: 12px;\n",
              "    }\n",
              "\n",
              "    .colab-df-convert {\n",
              "      background-color: #E8F0FE;\n",
              "      border: none;\n",
              "      border-radius: 50%;\n",
              "      cursor: pointer;\n",
              "      display: none;\n",
              "      fill: #1967D2;\n",
              "      height: 32px;\n",
              "      padding: 0 0 0 0;\n",
              "      width: 32px;\n",
              "    }\n",
              "\n",
              "    .colab-df-convert:hover {\n",
              "      background-color: #E2EBFA;\n",
              "      box-shadow: 0px 1px 2px rgba(60, 64, 67, 0.3), 0px 1px 3px 1px rgba(60, 64, 67, 0.15);\n",
              "      fill: #174EA6;\n",
              "    }\n",
              "\n",
              "    [theme=dark] .colab-df-convert {\n",
              "      background-color: #3B4455;\n",
              "      fill: #D2E3FC;\n",
              "    }\n",
              "\n",
              "    [theme=dark] .colab-df-convert:hover {\n",
              "      background-color: #434B5C;\n",
              "      box-shadow: 0px 1px 3px 1px rgba(0, 0, 0, 0.15);\n",
              "      filter: drop-shadow(0px 1px 2px rgba(0, 0, 0, 0.3));\n",
              "      fill: #FFFFFF;\n",
              "    }\n",
              "  </style>\n",
              "\n",
              "      <script>\n",
              "        const buttonEl =\n",
              "          document.querySelector('#df-0864a3b6-0e54-4af1-bf8e-975792648183 button.colab-df-convert');\n",
              "        buttonEl.style.display =\n",
              "          google.colab.kernel.accessAllowed ? 'block' : 'none';\n",
              "\n",
              "        async function convertToInteractive(key) {\n",
              "          const element = document.querySelector('#df-0864a3b6-0e54-4af1-bf8e-975792648183');\n",
              "          const dataTable =\n",
              "            await google.colab.kernel.invokeFunction('convertToInteractive',\n",
              "                                                     [key], {});\n",
              "          if (!dataTable) return;\n",
              "\n",
              "          const docLinkHtml = 'Like what you see? Visit the ' +\n",
              "            '<a target=\"_blank\" href=https://colab.research.google.com/notebooks/data_table.ipynb>data table notebook</a>'\n",
              "            + ' to learn more about interactive tables.';\n",
              "          element.innerHTML = '';\n",
              "          dataTable['output_type'] = 'display_data';\n",
              "          await google.colab.output.renderOutput(dataTable, element);\n",
              "          const docLink = document.createElement('div');\n",
              "          docLink.innerHTML = docLinkHtml;\n",
              "          element.appendChild(docLink);\n",
              "        }\n",
              "      </script>\n",
              "    </div>\n",
              "  </div>\n",
              "  "
            ]
          },
          "metadata": {},
          "execution_count": 122
        }
      ],
      "source": [
        "# Checking model performance on train set\n",
        "print(\"Validation Performance\\n\")\n",
        "model_train_perf = model_performance_regression(X_val,y_val, Y_result_3)\n",
        "model_train_perf"
      ]
    },
    {
      "cell_type": "markdown",
      "id": "I-XBC6qM_qgx",
      "metadata": {
        "id": "I-XBC6qM_qgx"
      },
      "source": [
        "The Adjusted R-Square has increased when compared to the previous model. Now let's try the BatchNormalization technique and see if we can improve the metrics."
      ]
    },
    {
      "cell_type": "markdown",
      "id": "uO8qTVIVMiwk",
      "metadata": {
        "id": "uO8qTVIVMiwk"
      },
      "source": [
        "#### Model-4"
      ]
    },
    {
      "cell_type": "code",
      "execution_count": 71,
      "id": "cqpRaJB2cGO2",
      "metadata": {
        "id": "cqpRaJB2cGO2"
      },
      "outputs": [],
      "source": [
        "backend.clear_session()\n",
        "#Fixing the seed for random number generators so that we can ensure we receive the same output everytime\n",
        "np.random.seed(42)\n",
        "import random\n",
        "random.seed(42)\n",
        "tf.random.set_seed(42)"
      ]
    },
    {
      "cell_type": "code",
      "execution_count": 72,
      "id": "D5WUQWTYcGL9",
      "metadata": {
        "id": "D5WUQWTYcGL9"
      },
      "outputs": [],
      "source": [
        "# Initializing the model\n",
        "model_4 = Sequential()\n",
        "# Adding input layer with 64 neurons, relu as activation function and, he_uniform as weight initializer.\n",
        "model_4.add(Dense(64, activation='relu',kernel_initializer='he_uniform', input_shape=(27,)))\n",
        "# Adding the first hidden layer with 32 neurons, relu as activation function and, he_uniform as weight initializer\n",
        "model_4.add(Dense(32, activation='relu',kernel_initializer='he_uniform'))\n",
        "# Adding Batch Normalization\n",
        "model_4.add(BatchNormalization())\n",
        "# Adding the second hidden layer with 32 neurons, relu as activation function and, he_uniform as weight initializer\n",
        "model_4.add(Dense(32, activation='relu',kernel_initializer='he_uniform'))\n",
        "# Adding the output layer with one neuron and linear as activation\n",
        "model_4.add(Dense(1, activation='linear'))"
      ]
    },
    {
      "cell_type": "code",
      "execution_count": 73,
      "id": "ied2r12VcGJb",
      "metadata": {
        "id": "ied2r12VcGJb",
        "colab": {
          "base_uri": "https://localhost:8080/"
        },
        "outputId": "c32ccf6c-8451-4614-a08e-c342b4d3b901"
      },
      "outputs": [
        {
          "output_type": "stream",
          "name": "stdout",
          "text": [
            "Model: \"sequential\"\n",
            "_________________________________________________________________\n",
            " Layer (type)                Output Shape              Param #   \n",
            "=================================================================\n",
            " dense (Dense)               (None, 64)                1792      \n",
            "                                                                 \n",
            " dense_1 (Dense)             (None, 32)                2080      \n",
            "                                                                 \n",
            " batch_normalization (BatchN  (None, 32)               128       \n",
            " ormalization)                                                   \n",
            "                                                                 \n",
            " dense_2 (Dense)             (None, 32)                1056      \n",
            "                                                                 \n",
            " dense_3 (Dense)             (None, 1)                 33        \n",
            "                                                                 \n",
            "=================================================================\n",
            "Total params: 5,089\n",
            "Trainable params: 5,025\n",
            "Non-trainable params: 64\n",
            "_________________________________________________________________\n"
          ]
        }
      ],
      "source": [
        "# Model summary\n",
        "model_4.summary()"
      ]
    },
    {
      "cell_type": "code",
      "execution_count": 74,
      "id": "ZnqD-PZHcGG4",
      "metadata": {
        "id": "ZnqD-PZHcGG4",
        "colab": {
          "base_uri": "https://localhost:8080/"
        },
        "outputId": "3697402c-d18d-4515-8049-29bfa497297a"
      },
      "outputs": [
        {
          "output_type": "stream",
          "name": "stdout",
          "text": [
            "Epoch 1/50\n",
            "211/211 [==============================] - 1s 3ms/step - loss: 0.7996 - mae: 0.6324 - val_loss: 0.5093 - val_mae: 0.5048\n",
            "Epoch 2/50\n",
            "211/211 [==============================] - 1s 3ms/step - loss: 0.4941 - mae: 0.4724 - val_loss: 0.3955 - val_mae: 0.4465\n",
            "Epoch 3/50\n",
            "211/211 [==============================] - 1s 2ms/step - loss: 0.4310 - mae: 0.4405 - val_loss: 0.3772 - val_mae: 0.4500\n",
            "Epoch 4/50\n",
            "211/211 [==============================] - 0s 2ms/step - loss: 0.3956 - mae: 0.4242 - val_loss: 0.3274 - val_mae: 0.3944\n",
            "Epoch 5/50\n",
            "211/211 [==============================] - 1s 3ms/step - loss: 0.3750 - mae: 0.4158 - val_loss: 0.3630 - val_mae: 0.4045\n",
            "Epoch 6/50\n",
            "211/211 [==============================] - 1s 3ms/step - loss: 0.3795 - mae: 0.4256 - val_loss: 0.4060 - val_mae: 0.4300\n",
            "Epoch 7/50\n",
            "211/211 [==============================] - 0s 2ms/step - loss: 0.3390 - mae: 0.3991 - val_loss: 0.3603 - val_mae: 0.4135\n",
            "Epoch 8/50\n",
            "211/211 [==============================] - 0s 2ms/step - loss: 0.3363 - mae: 0.4042 - val_loss: 0.3277 - val_mae: 0.3913\n",
            "Epoch 9/50\n",
            "211/211 [==============================] - 1s 3ms/step - loss: 0.3099 - mae: 0.3888 - val_loss: 0.3309 - val_mae: 0.3881\n"
          ]
        }
      ],
      "source": [
        "# Initializing the Optimizer\n",
        "optimizer = Adam(0.001)\n",
        "# Compiling the model with 'mse' as loss function and metrics\n",
        "model_4.compile(loss='mse',\n",
        "              optimizer=optimizer,\n",
        "              metrics=['mae'])\n",
        "# Defining Early stopping\n",
        "es_cb = callbacks.EarlyStopping(monitor='val_loss', min_delta=0.001, patience=5)\n",
        "# Fitting the model on train and validation with 50 epochs\n",
        "history_4 = model_4.fit(X_train, y_train, validation_data=(X_val, y_val_scale), epochs=50,callbacks=es_cb)"
      ]
    },
    {
      "cell_type": "code",
      "execution_count": 75,
      "id": "PkGAuj5mcGEF",
      "metadata": {
        "id": "PkGAuj5mcGEF",
        "colab": {
          "base_uri": "https://localhost:8080/",
          "height": 281
        },
        "outputId": "20fbbc58-58b5-4565-ed60-f62fab5c1f12"
      },
      "outputs": [
        {
          "output_type": "display_data",
          "data": {
            "text/plain": [
              "<Figure size 432x288 with 1 Axes>"
            ],
            "image/png": "[encoded data removed]"
          },
          "metadata": {
            "needs_background": "light"
          }
        }
      ],
      "source": [
        "pyplot.title('Loss / Mean Squared Error')\n",
        "pyplot.plot(history_4.history['loss'], label='train')\n",
        "pyplot.plot(history_4.history['val_loss'], label='validate')\n",
        "pyplot.legend()\n",
        "pyplot.show()"
      ]
    },
    {
      "cell_type": "markdown",
      "source": [
        "The train and validation curves are smooth. Now let's calculate the metrics."
      ],
      "metadata": {
        "id": "Pc15yVcea0BW"
      },
      "id": "Pc15yVcea0BW"
    },
    {
      "cell_type": "code",
      "execution_count": 76,
      "id": "JgkCcuKWcGBU",
      "metadata": {
        "id": "JgkCcuKWcGBU",
        "colab": {
          "base_uri": "https://localhost:8080/"
        },
        "outputId": "78046f42-1bae-4695-fcfb-836f2c6a9d28"
      },
      "outputs": [
        {
          "output_type": "stream",
          "name": "stdout",
          "text": [
            "[[ 5608.7124]\n",
            " [13668.249 ]\n",
            " [ 6701.283 ]\n",
            " ...\n",
            " [ 3644.1611]\n",
            " [ 5712.258 ]\n",
            " [ 9339.1875]]\n"
          ]
        }
      ],
      "source": [
        "Y_result_scaled_4= model_4.predict(X_val)\n",
        "Y_result_4 = sc.inverse_transform(Y_result_scaled_4)\n",
        "print(Y_result_4)"
      ]
    },
    {
      "cell_type": "code",
      "execution_count": 77,
      "id": "AneMpUR3yGOh",
      "metadata": {
        "id": "AneMpUR3yGOh",
        "colab": {
          "base_uri": "https://localhost:8080/",
          "height": 115
        },
        "outputId": "48b68fec-d3df-4448-990d-9570689a829a"
      },
      "outputs": [
        {
          "output_type": "stream",
          "name": "stdout",
          "text": [
            "Validation Performance\n",
            "\n"
          ]
        },
        {
          "output_type": "execute_result",
          "data": {
            "text/plain": [
              "          RMSE          MAE  R-squared  Adj. R-squared\n",
              "0  2643.713516  1783.451105   0.658304        0.655074"
            ],
            "text/html": [
              "\n",
              "  <div id=\"df-0fc885b2-a222-42ff-9533-03792c6144a9\">\n",
              "    <div class=\"colab-df-container\">\n",
              "      <div>\n",
              "<style scoped>\n",
              "    .dataframe tbody tr th:only-of-type {\n",
              "        vertical-align: middle;\n",
              "    }\n",
              "\n",
              "    .dataframe tbody tr th {\n",
              "        vertical-align: top;\n",
              "    }\n",
              "\n",
              "    .dataframe thead th {\n",
              "        text-align: right;\n",
              "    }\n",
              "</style>\n",
              "<table border=\"1\" class=\"dataframe\">\n",
              "  <thead>\n",
              "    <tr style=\"text-align: right;\">\n",
              "      <th></th>\n",
              "      <th>RMSE</th>\n",
              "      <th>MAE</th>\n",
              "      <th>R-squared</th>\n",
              "      <th>Adj. R-squared</th>\n",
              "    </tr>\n",
              "  </thead>\n",
              "  <tbody>\n",
              "    <tr>\n",
              "      <th>0</th>\n",
              "      <td>2643.713516</td>\n",
              "      <td>1783.451105</td>\n",
              "      <td>0.658304</td>\n",
              "      <td>0.655074</td>\n",
              "    </tr>\n",
              "  </tbody>\n",
              "</table>\n",
              "</div>\n",
              "      <button class=\"colab-df-convert\" onclick=\"convertToInteractive('df-0fc885b2-a222-42ff-9533-03792c6144a9')\"\n",
              "              title=\"Convert this dataframe to an interactive table.\"\n",
              "              style=\"display:none;\">\n",
              "        \n",
              "  <svg xmlns=\"http://www.w3.org/2000/svg\" height=\"24px\"viewBox=\"0 0 24 24\"\n",
              "       width=\"24px\">\n",
              "    <path d=\"M0 0h24v24H0V0z\" fill=\"none\"/>\n",
              "    <path d=\"M18.56 5.44l.94 2.06.94-2.06 2.06-.94-2.06-.94-.94-2.06-.94 2.06-2.06.94zm-11 1L8.5 8.5l.94-2.06 2.06-.94-2.06-.94L8.5 2.5l-.94 2.06-2.06.94zm10 10l.94 2.06.94-2.06 2.06-.94-2.06-.94-.94-2.06-.94 2.06-2.06.94z\"/><path d=\"M17.41 7.96l-1.37-1.37c-.4-.4-.92-.59-1.43-.59-.52 0-1.04.2-1.43.59L10.3 9.45l-7.72 7.72c-.78.78-.78 2.05 0 2.83L4 21.41c.39.39.9.59 1.41.59.51 0 1.02-.2 1.41-.59l7.78-7.78 2.81-2.81c.8-.78.8-2.07 0-2.86zM5.41 20L4 18.59l7.72-7.72 1.47 1.35L5.41 20z\"/>\n",
              "  </svg>\n",
              "      </button>\n",
              "      \n",
              "  <style>\n",
              "    .colab-df-container {\n",
              "      display:flex;\n",
              "      flex-wrap:wrap;\n",
              "      gap: 12px;\n",
              "    }\n",
              "\n",
              "    .colab-df-convert {\n",
              "      background-color: #E8F0FE;\n",
              "      border: none;\n",
              "      border-radius: 50%;\n",
              "      cursor: pointer;\n",
              "      display: none;\n",
              "      fill: #1967D2;\n",
              "      height: 32px;\n",
              "      padding: 0 0 0 0;\n",
              "      width: 32px;\n",
              "    }\n",
              "\n",
              "    .colab-df-convert:hover {\n",
              "      background-color: #E2EBFA;\n",
              "      box-shadow: 0px 1px 2px rgba(60, 64, 67, 0.3), 0px 1px 3px 1px rgba(60, 64, 67, 0.15);\n",
              "      fill: #174EA6;\n",
              "    }\n",
              "\n",
              "    [theme=dark] .colab-df-convert {\n",
              "      background-color: #3B4455;\n",
              "      fill: #D2E3FC;\n",
              "    }\n",
              "\n",
              "    [theme=dark] .colab-df-convert:hover {\n",
              "      background-color: #434B5C;\n",
              "      box-shadow: 0px 1px 3px 1px rgba(0, 0, 0, 0.15);\n",
              "      filter: drop-shadow(0px 1px 2px rgba(0, 0, 0, 0.3));\n",
              "      fill: #FFFFFF;\n",
              "    }\n",
              "  </style>\n",
              "\n",
              "      <script>\n",
              "        const buttonEl =\n",
              "          document.querySelector('#df-0fc885b2-a222-42ff-9533-03792c6144a9 button.colab-df-convert');\n",
              "        buttonEl.style.display =\n",
              "          google.colab.kernel.accessAllowed ? 'block' : 'none';\n",
              "\n",
              "        async function convertToInteractive(key) {\n",
              "          const element = document.querySelector('#df-0fc885b2-a222-42ff-9533-03792c6144a9');\n",
              "          const dataTable =\n",
              "            await google.colab.kernel.invokeFunction('convertToInteractive',\n",
              "                                                     [key], {});\n",
              "          if (!dataTable) return;\n",
              "\n",
              "          const docLinkHtml = 'Like what you see? Visit the ' +\n",
              "            '<a target=\"_blank\" href=https://colab.research.google.com/notebooks/data_table.ipynb>data table notebook</a>'\n",
              "            + ' to learn more about interactive tables.';\n",
              "          element.innerHTML = '';\n",
              "          dataTable['output_type'] = 'display_data';\n",
              "          await google.colab.output.renderOutput(dataTable, element);\n",
              "          const docLink = document.createElement('div');\n",
              "          docLink.innerHTML = docLinkHtml;\n",
              "          element.appendChild(docLink);\n",
              "        }\n",
              "      </script>\n",
              "    </div>\n",
              "  </div>\n",
              "  "
            ]
          },
          "metadata": {},
          "execution_count": 77
        }
      ],
      "source": [
        "# Checking model performance on train set\n",
        "print(\"Validation Performance\\n\")\n",
        "model_train_perf = model_performance_regression(X_val,y_val, Y_result_4)\n",
        "model_train_perf"
      ]
    },
    {
      "cell_type": "markdown",
      "id": "DWkcMO_JBdmC",
      "metadata": {
        "id": "DWkcMO_JBdmC"
      },
      "source": [
        "* BatchNormalization technique did not perform well on and even the Adjusted R-square dropped sharply.\n",
        "* Let's try to build another model using Dropout with different neural network architecture and see if we can improve the Adjusted R-square. "
      ]
    },
    {
      "cell_type": "markdown",
      "id": "VNXyOiMwMmfB",
      "metadata": {
        "id": "VNXyOiMwMmfB"
      },
      "source": [
        "### Model-5"
      ]
    },
    {
      "cell_type": "code",
      "execution_count": 124,
      "id": "JCqx69QGC8Z4",
      "metadata": {
        "id": "JCqx69QGC8Z4"
      },
      "outputs": [],
      "source": [
        "backend.clear_session()\n",
        "#Fixing the seed for random number generators so that we can ensure we receive the same output everytime\n",
        "np.random.seed(42)\n",
        "import random\n",
        "random.seed(42)\n",
        "tf.random.set_seed(42)"
      ]
    },
    {
      "cell_type": "code",
      "execution_count": 125,
      "id": "3MUGx8ueC8XT",
      "metadata": {
        "id": "3MUGx8ueC8XT"
      },
      "outputs": [],
      "source": [
        "# Initializing the model\n",
        "model_5 = Sequential()\n",
        "# Adding input layer with 64 neurons, relu as activation function and, he_uniform as weight initializer.\n",
        "model_5.add(Dense(64, activation='relu',kernel_initializer='he_uniform', input_shape=(27,)))\n",
        "# Adding dropout with ratio of 0.1\n",
        "model_5.add(Dropout(0.2))\n",
        "# Adding the first hidden layer with 32 neurons, relu as activation function and, he_uniform as weight initializer\n",
        "model_5.add(Dense(32, activation='relu',kernel_initializer='he_uniform'))\n",
        "# Adding dropout with ratio of 0.1\n",
        "model_5.add(Dropout(0.1))\n",
        "# Adding the second hidden layer with 16 neurons, relu as activation function and, he_uniform as weight initializer\n",
        "model_5.add(Dense(16, activation='relu',kernel_initializer='he_uniform'))\n",
        "# Adding the third hidden layer with 8 neurons, relu as activation function and, he_uniform as weight initializer\n",
        "model_5.add(Dense(8, activation='relu',kernel_initializer='he_uniform'))\n",
        "# Adding the output layer with one neuron and linear as activation\n",
        "model_5.add(Dense(1, activation='linear'))"
      ]
    },
    {
      "cell_type": "code",
      "execution_count": 126,
      "id": "dZJ2v4pDC8Um",
      "metadata": {
        "id": "dZJ2v4pDC8Um",
        "colab": {
          "base_uri": "https://localhost:8080/"
        },
        "outputId": "1cf4f060-e88d-4181-a5ab-47830135b20e"
      },
      "outputs": [
        {
          "output_type": "stream",
          "name": "stdout",
          "text": [
            "Model: \"sequential\"\n",
            "_________________________________________________________________\n",
            " Layer (type)                Output Shape              Param #   \n",
            "=================================================================\n",
            " dense (Dense)               (None, 64)                1792      \n",
            "                                                                 \n",
            " dropout (Dropout)           (None, 64)                0         \n",
            "                                                                 \n",
            " dense_1 (Dense)             (None, 32)                2080      \n",
            "                                                                 \n",
            " dropout_1 (Dropout)         (None, 32)                0         \n",
            "                                                                 \n",
            " dense_2 (Dense)             (None, 16)                528       \n",
            "                                                                 \n",
            " dense_3 (Dense)             (None, 8)                 136       \n",
            "                                                                 \n",
            " dense_4 (Dense)             (None, 1)                 9         \n",
            "                                                                 \n",
            "=================================================================\n",
            "Total params: 4,545\n",
            "Trainable params: 4,545\n",
            "Non-trainable params: 0\n",
            "_________________________________________________________________\n"
          ]
        }
      ],
      "source": [
        "# Model summary\n",
        "model_5.summary()"
      ]
    },
    {
      "cell_type": "code",
      "execution_count": 127,
      "id": "TXtgfQuYC8SJ",
      "metadata": {
        "id": "TXtgfQuYC8SJ",
        "colab": {
          "base_uri": "https://localhost:8080/"
        },
        "outputId": "d66a5aa5-3968-445b-c8c9-f07ba97b0076"
      },
      "outputs": [
        {
          "output_type": "stream",
          "name": "stdout",
          "text": [
            "Epoch 1/50\n",
            "211/211 [==============================] - 1s 3ms/step - loss: 1.0635 - mae: 0.7960 - val_loss: 0.8544 - val_mae: 0.7306\n",
            "Epoch 2/50\n",
            "211/211 [==============================] - 0s 2ms/step - loss: 0.8223 - mae: 0.6703 - val_loss: 0.5730 - val_mae: 0.5580\n",
            "Epoch 3/50\n",
            "211/211 [==============================] - 0s 2ms/step - loss: 0.6382 - mae: 0.5614 - val_loss: 0.4888 - val_mae: 0.5003\n",
            "Epoch 4/50\n",
            "211/211 [==============================] - 0s 2ms/step - loss: 0.5598 - mae: 0.5202 - val_loss: 0.4221 - val_mae: 0.4582\n",
            "Epoch 5/50\n",
            "211/211 [==============================] - 0s 2ms/step - loss: 0.5108 - mae: 0.4960 - val_loss: 0.3830 - val_mae: 0.4404\n",
            "Epoch 6/50\n",
            "211/211 [==============================] - 0s 2ms/step - loss: 0.4774 - mae: 0.4779 - val_loss: 0.3500 - val_mae: 0.4266\n",
            "Epoch 7/50\n",
            "211/211 [==============================] - 1s 2ms/step - loss: 0.4358 - mae: 0.4588 - val_loss: 0.3427 - val_mae: 0.4196\n",
            "Epoch 8/50\n",
            "211/211 [==============================] - 0s 2ms/step - loss: 0.4074 - mae: 0.4480 - val_loss: 0.3249 - val_mae: 0.4305\n",
            "Epoch 9/50\n",
            "211/211 [==============================] - 0s 2ms/step - loss: 0.4035 - mae: 0.4416 - val_loss: 0.3128 - val_mae: 0.4078\n",
            "Epoch 10/50\n",
            "211/211 [==============================] - 0s 2ms/step - loss: 0.3730 - mae: 0.4311 - val_loss: 0.3107 - val_mae: 0.4012\n",
            "Epoch 11/50\n",
            "211/211 [==============================] - 1s 2ms/step - loss: 0.3542 - mae: 0.4267 - val_loss: 0.3175 - val_mae: 0.4204\n",
            "Epoch 12/50\n",
            "211/211 [==============================] - 1s 3ms/step - loss: 0.3442 - mae: 0.4192 - val_loss: 0.2924 - val_mae: 0.3879\n",
            "Epoch 13/50\n",
            "211/211 [==============================] - 1s 3ms/step - loss: 0.3337 - mae: 0.4135 - val_loss: 0.2881 - val_mae: 0.4012\n",
            "Epoch 14/50\n",
            "211/211 [==============================] - 1s 3ms/step - loss: 0.3251 - mae: 0.4102 - val_loss: 0.2971 - val_mae: 0.3896\n",
            "Epoch 15/50\n",
            "211/211 [==============================] - 1s 3ms/step - loss: 0.3204 - mae: 0.4048 - val_loss: 0.2924 - val_mae: 0.4072\n",
            "Epoch 16/50\n",
            "211/211 [==============================] - 1s 2ms/step - loss: 0.3170 - mae: 0.4003 - val_loss: 0.2751 - val_mae: 0.3846\n",
            "Epoch 17/50\n",
            "211/211 [==============================] - 1s 3ms/step - loss: 0.3202 - mae: 0.3985 - val_loss: 0.2741 - val_mae: 0.3764\n",
            "Epoch 18/50\n",
            "211/211 [==============================] - 1s 3ms/step - loss: 0.3072 - mae: 0.3924 - val_loss: 0.2816 - val_mae: 0.3744\n",
            "Epoch 19/50\n",
            "211/211 [==============================] - 0s 2ms/step - loss: 0.2966 - mae: 0.3895 - val_loss: 0.2771 - val_mae: 0.3935\n",
            "Epoch 20/50\n",
            "211/211 [==============================] - 1s 3ms/step - loss: 0.2946 - mae: 0.3898 - val_loss: 0.2730 - val_mae: 0.3862\n",
            "Epoch 21/50\n",
            "211/211 [==============================] - 1s 3ms/step - loss: 0.2959 - mae: 0.3853 - val_loss: 0.2652 - val_mae: 0.3694\n",
            "Epoch 22/50\n",
            "211/211 [==============================] - 1s 3ms/step - loss: 0.2813 - mae: 0.3810 - val_loss: 0.2720 - val_mae: 0.3832\n",
            "Epoch 23/50\n",
            "211/211 [==============================] - 1s 3ms/step - loss: 0.2819 - mae: 0.3789 - val_loss: 0.2616 - val_mae: 0.3742\n",
            "Epoch 24/50\n",
            "211/211 [==============================] - 0s 2ms/step - loss: 0.2871 - mae: 0.3817 - val_loss: 0.2631 - val_mae: 0.3679\n",
            "Epoch 25/50\n",
            "211/211 [==============================] - 1s 2ms/step - loss: 0.2834 - mae: 0.3801 - val_loss: 0.2552 - val_mae: 0.3646\n",
            "Epoch 26/50\n",
            "211/211 [==============================] - 0s 2ms/step - loss: 0.2706 - mae: 0.3736 - val_loss: 0.2594 - val_mae: 0.3741\n",
            "Epoch 27/50\n",
            "211/211 [==============================] - 1s 2ms/step - loss: 0.2744 - mae: 0.3724 - val_loss: 0.2566 - val_mae: 0.3686\n",
            "Epoch 28/50\n",
            "211/211 [==============================] - 0s 2ms/step - loss: 0.2687 - mae: 0.3683 - val_loss: 0.2585 - val_mae: 0.3649\n",
            "Epoch 29/50\n",
            "211/211 [==============================] - 1s 3ms/step - loss: 0.2637 - mae: 0.3706 - val_loss: 0.2638 - val_mae: 0.3642\n",
            "Epoch 30/50\n",
            "211/211 [==============================] - 1s 2ms/step - loss: 0.2700 - mae: 0.3689 - val_loss: 0.2561 - val_mae: 0.3684\n"
          ]
        }
      ],
      "source": [
        "# Initializing the Optimizer\n",
        "optimizer = Adam(0.001)\n",
        "# Compiling the model with 'mse' as loss function and metrics\n",
        "model_5.compile(loss='mse',\n",
        "              optimizer=optimizer,\n",
        "              metrics=['mae'])\n",
        "# Adding the callbacks\n",
        "es_cb = callbacks.EarlyStopping(monitor='val_loss', min_delta=0.001, patience=5)\n",
        "# Fitting the model on train and validation with 50 epochs\n",
        "history_5 = model_5.fit(X_train, y_train, validation_data=(X_val, y_val_scale), epochs=50,callbacks=es_cb)"
      ]
    },
    {
      "cell_type": "code",
      "execution_count": 82,
      "id": "juaUrpZuC8Pt",
      "metadata": {
        "id": "juaUrpZuC8Pt",
        "colab": {
          "base_uri": "https://localhost:8080/",
          "height": 281
        },
        "outputId": "1b8d1f57-b5b4-4b57-825b-6813cc6336a9"
      },
      "outputs": [
        {
          "output_type": "display_data",
          "data": {
            "text/plain": [
              "<Figure size 432x288 with 1 Axes>"
            ],
            "image/png": "[encoded data removed]"
          },
          "metadata": {
            "needs_background": "light"
          }
        }
      ],
      "source": [
        "pyplot.title('Loss / Mean Squared Error')\n",
        "pyplot.plot(history_5.history['loss'], label='train')\n",
        "pyplot.plot(history_5.history['val_loss'], label='validate')\n",
        "pyplot.legend()\n",
        "pyplot.show()"
      ]
    },
    {
      "cell_type": "markdown",
      "id": "xtiqi8aOEg-r",
      "metadata": {
        "id": "xtiqi8aOEg-r"
      },
      "source": [
        "* We can observe that after increasing the layers, both the curves seems to be smooth. "
      ]
    },
    {
      "cell_type": "code",
      "execution_count": 83,
      "id": "m8l6wNO1C8M7",
      "metadata": {
        "id": "m8l6wNO1C8M7",
        "colab": {
          "base_uri": "https://localhost:8080/"
        },
        "outputId": "87363d65-60eb-4943-ce01-677152d6733c"
      },
      "outputs": [
        {
          "output_type": "stream",
          "name": "stdout",
          "text": [
            "[[ 6687.531]\n",
            " [13908.957]\n",
            " [ 7199.285]\n",
            " ...\n",
            " [ 5177.805]\n",
            " [ 7020.99 ]\n",
            " [11121.412]]\n"
          ]
        }
      ],
      "source": [
        "Y_result_scaled_5= model_5.predict(X_val)\n",
        "Y_result_5 = sc.inverse_transform(Y_result_scaled_5)\n",
        "print(Y_result_5)"
      ]
    },
    {
      "cell_type": "code",
      "execution_count": 84,
      "id": "_vYh9VEiC8HY",
      "metadata": {
        "id": "_vYh9VEiC8HY",
        "colab": {
          "base_uri": "https://localhost:8080/",
          "height": 115
        },
        "outputId": "831fc6b0-3ea4-4a37-d2d6-fc2f51557886"
      },
      "outputs": [
        {
          "output_type": "stream",
          "name": "stdout",
          "text": [
            "Validation Performance\n",
            "\n"
          ]
        },
        {
          "output_type": "execute_result",
          "data": {
            "text/plain": [
              "          RMSE          MAE  R-squared  Adj. R-squared\n",
              "0  2282.348177  1693.469659   0.745332        0.742924"
            ],
            "text/html": [
              "\n",
              "  <div id=\"df-5b0fdd1e-4934-49ae-8566-5df06b698eaf\">\n",
              "    <div class=\"colab-df-container\">\n",
              "      <div>\n",
              "<style scoped>\n",
              "    .dataframe tbody tr th:only-of-type {\n",
              "        vertical-align: middle;\n",
              "    }\n",
              "\n",
              "    .dataframe tbody tr th {\n",
              "        vertical-align: top;\n",
              "    }\n",
              "\n",
              "    .dataframe thead th {\n",
              "        text-align: right;\n",
              "    }\n",
              "</style>\n",
              "<table border=\"1\" class=\"dataframe\">\n",
              "  <thead>\n",
              "    <tr style=\"text-align: right;\">\n",
              "      <th></th>\n",
              "      <th>RMSE</th>\n",
              "      <th>MAE</th>\n",
              "      <th>R-squared</th>\n",
              "      <th>Adj. R-squared</th>\n",
              "    </tr>\n",
              "  </thead>\n",
              "  <tbody>\n",
              "    <tr>\n",
              "      <th>0</th>\n",
              "      <td>2282.348177</td>\n",
              "      <td>1693.469659</td>\n",
              "      <td>0.745332</td>\n",
              "      <td>0.742924</td>\n",
              "    </tr>\n",
              "  </tbody>\n",
              "</table>\n",
              "</div>\n",
              "      <button class=\"colab-df-convert\" onclick=\"convertToInteractive('df-5b0fdd1e-4934-49ae-8566-5df06b698eaf')\"\n",
              "              title=\"Convert this dataframe to an interactive table.\"\n",
              "              style=\"display:none;\">\n",
              "        \n",
              "  <svg xmlns=\"http://www.w3.org/2000/svg\" height=\"24px\"viewBox=\"0 0 24 24\"\n",
              "       width=\"24px\">\n",
              "    <path d=\"M0 0h24v24H0V0z\" fill=\"none\"/>\n",
              "    <path d=\"M18.56 5.44l.94 2.06.94-2.06 2.06-.94-2.06-.94-.94-2.06-.94 2.06-2.06.94zm-11 1L8.5 8.5l.94-2.06 2.06-.94-2.06-.94L8.5 2.5l-.94 2.06-2.06.94zm10 10l.94 2.06.94-2.06 2.06-.94-2.06-.94-.94-2.06-.94 2.06-2.06.94z\"/><path d=\"M17.41 7.96l-1.37-1.37c-.4-.4-.92-.59-1.43-.59-.52 0-1.04.2-1.43.59L10.3 9.45l-7.72 7.72c-.78.78-.78 2.05 0 2.83L4 21.41c.39.39.9.59 1.41.59.51 0 1.02-.2 1.41-.59l7.78-7.78 2.81-2.81c.8-.78.8-2.07 0-2.86zM5.41 20L4 18.59l7.72-7.72 1.47 1.35L5.41 20z\"/>\n",
              "  </svg>\n",
              "      </button>\n",
              "      \n",
              "  <style>\n",
              "    .colab-df-container {\n",
              "      display:flex;\n",
              "      flex-wrap:wrap;\n",
              "      gap: 12px;\n",
              "    }\n",
              "\n",
              "    .colab-df-convert {\n",
              "      background-color: #E8F0FE;\n",
              "      border: none;\n",
              "      border-radius: 50%;\n",
              "      cursor: pointer;\n",
              "      display: none;\n",
              "      fill: #1967D2;\n",
              "      height: 32px;\n",
              "      padding: 0 0 0 0;\n",
              "      width: 32px;\n",
              "    }\n",
              "\n",
              "    .colab-df-convert:hover {\n",
              "      background-color: #E2EBFA;\n",
              "      box-shadow: 0px 1px 2px rgba(60, 64, 67, 0.3), 0px 1px 3px 1px rgba(60, 64, 67, 0.15);\n",
              "      fill: #174EA6;\n",
              "    }\n",
              "\n",
              "    [theme=dark] .colab-df-convert {\n",
              "      background-color: #3B4455;\n",
              "      fill: #D2E3FC;\n",
              "    }\n",
              "\n",
              "    [theme=dark] .colab-df-convert:hover {\n",
              "      background-color: #434B5C;\n",
              "      box-shadow: 0px 1px 3px 1px rgba(0, 0, 0, 0.15);\n",
              "      filter: drop-shadow(0px 1px 2px rgba(0, 0, 0, 0.3));\n",
              "      fill: #FFFFFF;\n",
              "    }\n",
              "  </style>\n",
              "\n",
              "      <script>\n",
              "        const buttonEl =\n",
              "          document.querySelector('#df-5b0fdd1e-4934-49ae-8566-5df06b698eaf button.colab-df-convert');\n",
              "        buttonEl.style.display =\n",
              "          google.colab.kernel.accessAllowed ? 'block' : 'none';\n",
              "\n",
              "        async function convertToInteractive(key) {\n",
              "          const element = document.querySelector('#df-5b0fdd1e-4934-49ae-8566-5df06b698eaf');\n",
              "          const dataTable =\n",
              "            await google.colab.kernel.invokeFunction('convertToInteractive',\n",
              "                                                     [key], {});\n",
              "          if (!dataTable) return;\n",
              "\n",
              "          const docLinkHtml = 'Like what you see? Visit the ' +\n",
              "            '<a target=\"_blank\" href=https://colab.research.google.com/notebooks/data_table.ipynb>data table notebook</a>'\n",
              "            + ' to learn more about interactive tables.';\n",
              "          element.innerHTML = '';\n",
              "          dataTable['output_type'] = 'display_data';\n",
              "          await google.colab.output.renderOutput(dataTable, element);\n",
              "          const docLink = document.createElement('div');\n",
              "          docLink.innerHTML = docLinkHtml;\n",
              "          element.appendChild(docLink);\n",
              "        }\n",
              "      </script>\n",
              "    </div>\n",
              "  </div>\n",
              "  "
            ]
          },
          "metadata": {},
          "execution_count": 84
        }
      ],
      "source": [
        "# Checking model performance on train set\n",
        "print(\"Validation Performance\\n\")\n",
        "model_train_perf = model_performance_regression(X_val,y_val, Y_result_5)\n",
        "model_train_perf"
      ]
    },
    {
      "cell_type": "markdown",
      "id": "QwyA4-RvFG0S",
      "metadata": {
        "id": "QwyA4-RvFG0S"
      },
      "source": [
        "The Adjusted R-square of the model increased, and increasing the number of layers did work to improve the metrics."
      ]
    },
    {
      "cell_type": "markdown",
      "source": [
        "Out of all the models built, the final Model-5 with the dropout technique gives a good Adjusted R-Square when compared to all the models. Now let's predict on the test data using Model-5. "
      ],
      "metadata": {
        "id": "TfuCyIgLbZhy"
      },
      "id": "TfuCyIgLbZhy"
    },
    {
      "cell_type": "markdown",
      "source": [
        "####**Test Prediction**"
      ],
      "metadata": {
        "id": "407W-nOMfl5P"
      },
      "id": "407W-nOMfl5P"
    },
    {
      "cell_type": "code",
      "source": [
        "# Predicting on test dat\n",
        "test_pred = model_5.predict(X_test)\n",
        "##As we have scaled the target variable, now after predicting we should inverse the scale and should convert to normal form\n",
        "test_pred = sc.inverse_transform(test_pred)\n",
        "print(test_pred)"
      ],
      "metadata": {
        "colab": {
          "base_uri": "https://localhost:8080/"
        },
        "id": "FM5csyngftKI",
        "outputId": "6e9c2a51-8284-41a6-e5f1-6935007b1415"
      },
      "id": "FM5csyngftKI",
      "execution_count": 85,
      "outputs": [
        {
          "output_type": "stream",
          "name": "stdout",
          "text": [
            "[[12526.743 ]\n",
            " [ 6102.985 ]\n",
            " [ 9081.726 ]\n",
            " ...\n",
            " [11450.302 ]\n",
            " [ 8256.444 ]\n",
            " [11867.3955]]\n"
          ]
        }
      ]
    },
    {
      "cell_type": "code",
      "source": [
        "# Checking model performance on train set\n",
        "print(\"Training Performance\\n\")\n",
        "model_train_perf = model_performance_regression(X_test,y_test, test_pred)\n",
        "model_train_perf"
      ],
      "metadata": {
        "colab": {
          "base_uri": "https://localhost:8080/",
          "height": 115
        },
        "id": "poEjQnhuftDj",
        "outputId": "a2f0c91b-398c-42a6-80c9-3e32bf891134"
      },
      "id": "poEjQnhuftDj",
      "execution_count": 86,
      "outputs": [
        {
          "output_type": "stream",
          "name": "stdout",
          "text": [
            "Training Performance\n",
            "\n"
          ]
        },
        {
          "output_type": "execute_result",
          "data": {
            "text/plain": [
              "          RMSE         MAE  R-squared  Adj. R-squared\n",
              "0  2701.319979  1746.07723   0.699946        0.692164"
            ],
            "text/html": [
              "\n",
              "  <div id=\"df-d38b270e-6aed-4732-aa92-6f40b5631a1a\">\n",
              "    <div class=\"colab-df-container\">\n",
              "      <div>\n",
              "<style scoped>\n",
              "    .dataframe tbody tr th:only-of-type {\n",
              "        vertical-align: middle;\n",
              "    }\n",
              "\n",
              "    .dataframe tbody tr th {\n",
              "        vertical-align: top;\n",
              "    }\n",
              "\n",
              "    .dataframe thead th {\n",
              "        text-align: right;\n",
              "    }\n",
              "</style>\n",
              "<table border=\"1\" class=\"dataframe\">\n",
              "  <thead>\n",
              "    <tr style=\"text-align: right;\">\n",
              "      <th></th>\n",
              "      <th>RMSE</th>\n",
              "      <th>MAE</th>\n",
              "      <th>R-squared</th>\n",
              "      <th>Adj. R-squared</th>\n",
              "    </tr>\n",
              "  </thead>\n",
              "  <tbody>\n",
              "    <tr>\n",
              "      <th>0</th>\n",
              "      <td>2701.319979</td>\n",
              "      <td>1746.07723</td>\n",
              "      <td>0.699946</td>\n",
              "      <td>0.692164</td>\n",
              "    </tr>\n",
              "  </tbody>\n",
              "</table>\n",
              "</div>\n",
              "      <button class=\"colab-df-convert\" onclick=\"convertToInteractive('df-d38b270e-6aed-4732-aa92-6f40b5631a1a')\"\n",
              "              title=\"Convert this dataframe to an interactive table.\"\n",
              "              style=\"display:none;\">\n",
              "        \n",
              "  <svg xmlns=\"http://www.w3.org/2000/svg\" height=\"24px\"viewBox=\"0 0 24 24\"\n",
              "       width=\"24px\">\n",
              "    <path d=\"M0 0h24v24H0V0z\" fill=\"none\"/>\n",
              "    <path d=\"M18.56 5.44l.94 2.06.94-2.06 2.06-.94-2.06-.94-.94-2.06-.94 2.06-2.06.94zm-11 1L8.5 8.5l.94-2.06 2.06-.94-2.06-.94L8.5 2.5l-.94 2.06-2.06.94zm10 10l.94 2.06.94-2.06 2.06-.94-2.06-.94-.94-2.06-.94 2.06-2.06.94z\"/><path d=\"M17.41 7.96l-1.37-1.37c-.4-.4-.92-.59-1.43-.59-.52 0-1.04.2-1.43.59L10.3 9.45l-7.72 7.72c-.78.78-.78 2.05 0 2.83L4 21.41c.39.39.9.59 1.41.59.51 0 1.02-.2 1.41-.59l7.78-7.78 2.81-2.81c.8-.78.8-2.07 0-2.86zM5.41 20L4 18.59l7.72-7.72 1.47 1.35L5.41 20z\"/>\n",
              "  </svg>\n",
              "      </button>\n",
              "      \n",
              "  <style>\n",
              "    .colab-df-container {\n",
              "      display:flex;\n",
              "      flex-wrap:wrap;\n",
              "      gap: 12px;\n",
              "    }\n",
              "\n",
              "    .colab-df-convert {\n",
              "      background-color: #E8F0FE;\n",
              "      border: none;\n",
              "      border-radius: 50%;\n",
              "      cursor: pointer;\n",
              "      display: none;\n",
              "      fill: #1967D2;\n",
              "      height: 32px;\n",
              "      padding: 0 0 0 0;\n",
              "      width: 32px;\n",
              "    }\n",
              "\n",
              "    .colab-df-convert:hover {\n",
              "      background-color: #E2EBFA;\n",
              "      box-shadow: 0px 1px 2px rgba(60, 64, 67, 0.3), 0px 1px 3px 1px rgba(60, 64, 67, 0.15);\n",
              "      fill: #174EA6;\n",
              "    }\n",
              "\n",
              "    [theme=dark] .colab-df-convert {\n",
              "      background-color: #3B4455;\n",
              "      fill: #D2E3FC;\n",
              "    }\n",
              "\n",
              "    [theme=dark] .colab-df-convert:hover {\n",
              "      background-color: #434B5C;\n",
              "      box-shadow: 0px 1px 3px 1px rgba(0, 0, 0, 0.15);\n",
              "      filter: drop-shadow(0px 1px 2px rgba(0, 0, 0, 0.3));\n",
              "      fill: #FFFFFF;\n",
              "    }\n",
              "  </style>\n",
              "\n",
              "      <script>\n",
              "        const buttonEl =\n",
              "          document.querySelector('#df-d38b270e-6aed-4732-aa92-6f40b5631a1a button.colab-df-convert');\n",
              "        buttonEl.style.display =\n",
              "          google.colab.kernel.accessAllowed ? 'block' : 'none';\n",
              "\n",
              "        async function convertToInteractive(key) {\n",
              "          const element = document.querySelector('#df-d38b270e-6aed-4732-aa92-6f40b5631a1a');\n",
              "          const dataTable =\n",
              "            await google.colab.kernel.invokeFunction('convertToInteractive',\n",
              "                                                     [key], {});\n",
              "          if (!dataTable) return;\n",
              "\n",
              "          const docLinkHtml = 'Like what you see? Visit the ' +\n",
              "            '<a target=\"_blank\" href=https://colab.research.google.com/notebooks/data_table.ipynb>data table notebook</a>'\n",
              "            + ' to learn more about interactive tables.';\n",
              "          element.innerHTML = '';\n",
              "          dataTable['output_type'] = 'display_data';\n",
              "          await google.colab.output.renderOutput(dataTable, element);\n",
              "          const docLink = document.createElement('div');\n",
              "          docLink.innerHTML = docLinkHtml;\n",
              "          element.appendChild(docLink);\n",
              "        }\n",
              "      </script>\n",
              "    </div>\n",
              "  </div>\n",
              "  "
            ]
          },
          "metadata": {},
          "execution_count": 86
        }
      ]
    },
    {
      "cell_type": "markdown",
      "id": "d247127b",
      "metadata": {
        "id": "d247127b"
      },
      "source": [
        "### Comments \n",
        "\n",
        "- We have trained 5 different models with some changes in architecture and Optimizer.\n",
        "- Just by increasing one layer in the last model, we were able to reduce the loss.\n",
        "- Play around with your neural network model by changing the number of dense layers, learning rate, number of neurons in hidden layers. Try out different loss and activation functions and see if you can get a better Adjusted R Square. "
      ]
    },
    {
      "cell_type": "markdown",
      "id": "ed99ca39",
      "metadata": {
        "id": "ed99ca39"
      },
      "source": [
        "### Happy Learning ! "
      ]
    }
  ],
  "metadata": {
    "colab": {
      "collapsed_sections": [],
      "name": "Flight_Price.ipynb",
      "provenance": []
    },
    "kernelspec": {
      "display_name": "Python 3",
      "language": "python",
      "name": "python3"
    },
    "language_info": {
      "codemirror_mode": {
        "name": "ipython",
        "version": 3
      },
      "file_extension": ".py",
      "mimetype": "text/x-python",
      "name": "python",
      "nbconvert_exporter": "python",
      "pygments_lexer": "ipython3",
      "version": "3.8.8"
    }
  },
  "nbformat": 4,
  "nbformat_minor": 5
}