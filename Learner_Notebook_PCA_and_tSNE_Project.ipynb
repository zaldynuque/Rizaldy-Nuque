{
 "cells": [
  {
   "cell_type": "markdown",
   "metadata": {
    "id": "eT8ztZbiu4Dk"
   },
   "source": [
    "# **PCA and t-SNE Project: Auto MPG**\n",
    "\n",
    "# **Marks: 30**\n",
    "\n",
    "Welcome to the project on PCA and t-SNE. In this project, we will be using the **auto-mpg dataset**.\n",
    "\n",
    "-----------------------------\n",
    "## **Objective**\n",
    "-----------------------------\n",
    "The objective of this problem is to **explore the data, reduce the number of features by using dimensionality reduction techniques like PCA and t-SNE, and extract meaningful insights**.\n",
    "\n",
    "-----------------------------\n",
    "## **Dataset** \n",
    "-----------------------------\n",
    "There are 8 variables in the data: \n",
    "\n",
    "- mpg: miles per gallon\n",
    "- cyl: number of cylinders\n",
    "- disp: engine displacement (cu. inches) or engine size\n",
    "- hp: horsepower\n",
    "- wt: vehicle weight (lbs.)\n",
    "- acc: time taken to accelerate from 0 to 60 mph (sec.)\n",
    "- yr: model year\n",
    "- car name: car model name"
   ]
  },
  {
   "cell_type": "markdown",
   "metadata": {
    "id": "e7YUSFfGu4Du"
   },
   "source": [
    "## **Importing the necessary libraries and overview of the dataset**"
   ]
  },
  {
   "cell_type": "code",
   "execution_count": 1,
   "metadata": {
    "id": "aVFeA7eWu4Dv"
   },
   "outputs": [],
   "source": [
    "import pandas as pd\n",
    "\n",
    "import numpy as np\n",
    "\n",
    "import matplotlib.pyplot as plt\n",
    "\n",
    "import seaborn as sns\n",
    "\n",
    "# To scale the data using z-score \n",
    "from sklearn.preprocessing import StandardScaler\n",
    "\n",
    "# Importing PCA and t-SNE\n",
    "from sklearn.decomposition import PCA\n",
    "\n",
    "from sklearn.manifold import TSNE"
   ]
  },
  {
   "cell_type": "markdown",
   "metadata": {
    "id": "g2bXBiAivujY"
   },
   "source": [
    "### **Loading the data**"
   ]
  },
  {
   "cell_type": "code",
   "execution_count": 2,
   "metadata": {
    "id": "MuQU1BD-u4Dx"
   },
   "outputs": [],
   "source": [
    "data = pd.read_csv(\"auto-mpg.csv\")"
   ]
  },
  {
   "cell_type": "code",
   "execution_count": 3,
   "metadata": {
    "id": "KczGshrVu4Dy",
    "outputId": "f93467ba-526b-4d6c-e0cd-b45a565bcf5d"
   },
   "outputs": [
    {
     "data": {
      "text/html": [
       "<div>\n",
       "<style scoped>\n",
       "    .dataframe tbody tr th:only-of-type {\n",
       "        vertical-align: middle;\n",
       "    }\n",
       "\n",
       "    .dataframe tbody tr th {\n",
       "        vertical-align: top;\n",
       "    }\n",
       "\n",
       "    .dataframe thead th {\n",
       "        text-align: right;\n",
       "    }\n",
       "</style>\n",
       "<table border=\"1\" class=\"dataframe\">\n",
       "  <thead>\n",
       "    <tr style=\"text-align: right;\">\n",
       "      <th></th>\n",
       "      <th>mpg</th>\n",
       "      <th>cylinders</th>\n",
       "      <th>displacement</th>\n",
       "      <th>horsepower</th>\n",
       "      <th>weight</th>\n",
       "      <th>acceleration</th>\n",
       "      <th>model year</th>\n",
       "      <th>car name</th>\n",
       "    </tr>\n",
       "  </thead>\n",
       "  <tbody>\n",
       "    <tr>\n",
       "      <th>0</th>\n",
       "      <td>18.0</td>\n",
       "      <td>8</td>\n",
       "      <td>307.0</td>\n",
       "      <td>130</td>\n",
       "      <td>3504</td>\n",
       "      <td>12.0</td>\n",
       "      <td>70</td>\n",
       "      <td>chevrolet chevelle malibu</td>\n",
       "    </tr>\n",
       "    <tr>\n",
       "      <th>1</th>\n",
       "      <td>15.0</td>\n",
       "      <td>8</td>\n",
       "      <td>350.0</td>\n",
       "      <td>165</td>\n",
       "      <td>3693</td>\n",
       "      <td>11.5</td>\n",
       "      <td>70</td>\n",
       "      <td>buick skylark 320</td>\n",
       "    </tr>\n",
       "    <tr>\n",
       "      <th>2</th>\n",
       "      <td>18.0</td>\n",
       "      <td>8</td>\n",
       "      <td>318.0</td>\n",
       "      <td>150</td>\n",
       "      <td>3436</td>\n",
       "      <td>11.0</td>\n",
       "      <td>70</td>\n",
       "      <td>plymouth satellite</td>\n",
       "    </tr>\n",
       "    <tr>\n",
       "      <th>3</th>\n",
       "      <td>16.0</td>\n",
       "      <td>8</td>\n",
       "      <td>304.0</td>\n",
       "      <td>150</td>\n",
       "      <td>3433</td>\n",
       "      <td>12.0</td>\n",
       "      <td>70</td>\n",
       "      <td>amc rebel sst</td>\n",
       "    </tr>\n",
       "    <tr>\n",
       "      <th>4</th>\n",
       "      <td>17.0</td>\n",
       "      <td>8</td>\n",
       "      <td>302.0</td>\n",
       "      <td>140</td>\n",
       "      <td>3449</td>\n",
       "      <td>10.5</td>\n",
       "      <td>70</td>\n",
       "      <td>ford torino</td>\n",
       "    </tr>\n",
       "  </tbody>\n",
       "</table>\n",
       "</div>"
      ],
      "text/plain": [
       "    mpg  cylinders  displacement horsepower  weight  acceleration  model year  \\\n",
       "0  18.0          8         307.0        130    3504          12.0          70   \n",
       "1  15.0          8         350.0        165    3693          11.5          70   \n",
       "2  18.0          8         318.0        150    3436          11.0          70   \n",
       "3  16.0          8         304.0        150    3433          12.0          70   \n",
       "4  17.0          8         302.0        140    3449          10.5          70   \n",
       "\n",
       "                    car name  \n",
       "0  chevrolet chevelle malibu  \n",
       "1          buick skylark 320  \n",
       "2         plymouth satellite  \n",
       "3              amc rebel sst  \n",
       "4                ford torino  "
      ]
     },
     "execution_count": 3,
     "metadata": {},
     "output_type": "execute_result"
    }
   ],
   "source": [
    "data.head()"
   ]
  },
  {
   "cell_type": "markdown",
   "metadata": {
    "id": "sTXXY0cVvuja"
   },
   "source": [
    "### **Checking the info of the data**"
   ]
  },
  {
   "cell_type": "code",
   "execution_count": 4,
   "metadata": {
    "id": "iNuAIXhqvuja",
    "outputId": "9b8f4ee0-1f3c-4cb0-acbe-6ec39b89b859"
   },
   "outputs": [
    {
     "name": "stdout",
     "output_type": "stream",
     "text": [
      "<class 'pandas.core.frame.DataFrame'>\n",
      "RangeIndex: 398 entries, 0 to 397\n",
      "Data columns (total 8 columns):\n",
      " #   Column        Non-Null Count  Dtype  \n",
      "---  ------        --------------  -----  \n",
      " 0   mpg           398 non-null    float64\n",
      " 1   cylinders     398 non-null    int64  \n",
      " 2   displacement  398 non-null    float64\n",
      " 3   horsepower    398 non-null    object \n",
      " 4   weight        398 non-null    int64  \n",
      " 5   acceleration  398 non-null    float64\n",
      " 6   model year    398 non-null    int64  \n",
      " 7   car name      398 non-null    object \n",
      "dtypes: float64(3), int64(3), object(2)\n",
      "memory usage: 25.0+ KB\n"
     ]
    }
   ],
   "source": [
    "data.info()"
   ]
  },
  {
   "cell_type": "markdown",
   "metadata": {
    "id": "yfUl_sjHvujb"
   },
   "source": [
    "**Observations:**\n",
    "\n",
    "- There are **398 observations and 8 columns** in the data.\n",
    "- **All variables except horsepower and car name are of numeric data type.**\n",
    "- The horsepower must be a numeric data type. We will explore this further."
   ]
  },
  {
   "cell_type": "markdown",
   "metadata": {
    "id": "1B_nVTGSvujb"
   },
   "source": [
    "## **Data Preprocessing and Exploratory Data Analysis**"
   ]
  },
  {
   "cell_type": "markdown",
   "metadata": {},
   "source": [
    "### **Checking the unique values in the 'car name' column**"
   ]
  },
  {
   "cell_type": "code",
   "execution_count": 5,
   "metadata": {
    "id": "xwmALVCRvujb",
    "outputId": "7d593b59-02d9-4612-8f44-acac854c64dd"
   },
   "outputs": [
    {
     "data": {
      "text/plain": [
       "305"
      ]
     },
     "execution_count": 5,
     "metadata": {},
     "output_type": "execute_result"
    }
   ],
   "source": [
    "data[\"car name\"].nunique()"
   ]
  },
  {
   "cell_type": "markdown",
   "metadata": {
    "id": "HtksWvFgu4Dz"
   },
   "source": [
    "- The column 'car name' is of object data type containing a lot of unique entries and would not add values to our analysis. We can drop this column."
   ]
  },
  {
   "cell_type": "code",
   "execution_count": 6,
   "metadata": {
    "id": "x_gzOWz7u4D0"
   },
   "outputs": [],
   "source": [
    "# Creating copy of the data so that we don't lose the original data\n",
    "data1 = data.copy()\n",
    "\n",
    "# Dropping the column 'car name'\n",
    "data = data.drop(['car name'], axis = 1)"
   ]
  },
  {
   "cell_type": "markdown",
   "metadata": {
    "id": "5h4vat2Wvujc"
   },
   "source": [
    "### **Checking values in the horsepower column**"
   ]
  },
  {
   "cell_type": "code",
   "execution_count": 7,
   "metadata": {
    "id": "S7lk2lGQvujc",
    "outputId": "49039370-367d-424a-dd3e-ada47832ce3e"
   },
   "outputs": [
    {
     "data": {
      "text/html": [
       "<div>\n",
       "<style scoped>\n",
       "    .dataframe tbody tr th:only-of-type {\n",
       "        vertical-align: middle;\n",
       "    }\n",
       "\n",
       "    .dataframe tbody tr th {\n",
       "        vertical-align: top;\n",
       "    }\n",
       "\n",
       "    .dataframe thead th {\n",
       "        text-align: right;\n",
       "    }\n",
       "</style>\n",
       "<table border=\"1\" class=\"dataframe\">\n",
       "  <thead>\n",
       "    <tr style=\"text-align: right;\">\n",
       "      <th></th>\n",
       "      <th>mpg</th>\n",
       "      <th>cylinders</th>\n",
       "      <th>displacement</th>\n",
       "      <th>horsepower</th>\n",
       "      <th>weight</th>\n",
       "      <th>acceleration</th>\n",
       "      <th>model year</th>\n",
       "    </tr>\n",
       "  </thead>\n",
       "  <tbody>\n",
       "    <tr>\n",
       "      <th>32</th>\n",
       "      <td>25.0</td>\n",
       "      <td>4</td>\n",
       "      <td>98.0</td>\n",
       "      <td>?</td>\n",
       "      <td>2046</td>\n",
       "      <td>19.0</td>\n",
       "      <td>71</td>\n",
       "    </tr>\n",
       "    <tr>\n",
       "      <th>126</th>\n",
       "      <td>21.0</td>\n",
       "      <td>6</td>\n",
       "      <td>200.0</td>\n",
       "      <td>?</td>\n",
       "      <td>2875</td>\n",
       "      <td>17.0</td>\n",
       "      <td>74</td>\n",
       "    </tr>\n",
       "    <tr>\n",
       "      <th>330</th>\n",
       "      <td>40.9</td>\n",
       "      <td>4</td>\n",
       "      <td>85.0</td>\n",
       "      <td>?</td>\n",
       "      <td>1835</td>\n",
       "      <td>17.3</td>\n",
       "      <td>80</td>\n",
       "    </tr>\n",
       "    <tr>\n",
       "      <th>336</th>\n",
       "      <td>23.6</td>\n",
       "      <td>4</td>\n",
       "      <td>140.0</td>\n",
       "      <td>?</td>\n",
       "      <td>2905</td>\n",
       "      <td>14.3</td>\n",
       "      <td>80</td>\n",
       "    </tr>\n",
       "    <tr>\n",
       "      <th>354</th>\n",
       "      <td>34.5</td>\n",
       "      <td>4</td>\n",
       "      <td>100.0</td>\n",
       "      <td>?</td>\n",
       "      <td>2320</td>\n",
       "      <td>15.8</td>\n",
       "      <td>81</td>\n",
       "    </tr>\n",
       "    <tr>\n",
       "      <th>374</th>\n",
       "      <td>23.0</td>\n",
       "      <td>4</td>\n",
       "      <td>151.0</td>\n",
       "      <td>?</td>\n",
       "      <td>3035</td>\n",
       "      <td>20.5</td>\n",
       "      <td>82</td>\n",
       "    </tr>\n",
       "  </tbody>\n",
       "</table>\n",
       "</div>"
      ],
      "text/plain": [
       "      mpg  cylinders  displacement horsepower  weight  acceleration  \\\n",
       "32   25.0          4          98.0          ?    2046          19.0   \n",
       "126  21.0          6         200.0          ?    2875          17.0   \n",
       "330  40.9          4          85.0          ?    1835          17.3   \n",
       "336  23.6          4         140.0          ?    2905          14.3   \n",
       "354  34.5          4         100.0          ?    2320          15.8   \n",
       "374  23.0          4         151.0          ?    3035          20.5   \n",
       "\n",
       "     model year  \n",
       "32           71  \n",
       "126          74  \n",
       "330          80  \n",
       "336          80  \n",
       "354          81  \n",
       "374          82  "
      ]
     },
     "execution_count": 7,
     "metadata": {},
     "output_type": "execute_result"
    }
   ],
   "source": [
    "# Checking if there are values other than digits in the column 'horsepower'\n",
    "\n",
    "hpIsDigit = pd.DataFrame(data.horsepower.str.isdigit())  # If the string consists of digits return True else False\n",
    "\n",
    "data[hpIsDigit['horsepower'] == False]   # Take only those rows where horsepower is not a digit"
   ]
  },
  {
   "cell_type": "markdown",
   "metadata": {
    "id": "Z1qqm_S0vujd"
   },
   "source": [
    "**Observations:**\n",
    "- There are **6 observations where horsepower is ?**. We can consider these values as **missing values**.\n",
    "- We can **impute these missing values and change the data type** of horsepower column. \n",
    "- First, we need to **replace the ? with np.nan**."
   ]
  },
  {
   "cell_type": "code",
   "execution_count": 8,
   "metadata": {
    "id": "xWvn0LhBvujd",
    "outputId": "47f8a323-e978-4cf0-d31e-87242594abe8"
   },
   "outputs": [
    {
     "data": {
      "text/html": [
       "<div>\n",
       "<style scoped>\n",
       "    .dataframe tbody tr th:only-of-type {\n",
       "        vertical-align: middle;\n",
       "    }\n",
       "\n",
       "    .dataframe tbody tr th {\n",
       "        vertical-align: top;\n",
       "    }\n",
       "\n",
       "    .dataframe thead th {\n",
       "        text-align: right;\n",
       "    }\n",
       "</style>\n",
       "<table border=\"1\" class=\"dataframe\">\n",
       "  <thead>\n",
       "    <tr style=\"text-align: right;\">\n",
       "      <th></th>\n",
       "      <th>mpg</th>\n",
       "      <th>cylinders</th>\n",
       "      <th>displacement</th>\n",
       "      <th>horsepower</th>\n",
       "      <th>weight</th>\n",
       "      <th>acceleration</th>\n",
       "      <th>model year</th>\n",
       "    </tr>\n",
       "  </thead>\n",
       "  <tbody>\n",
       "    <tr>\n",
       "      <th>32</th>\n",
       "      <td>25.0</td>\n",
       "      <td>4</td>\n",
       "      <td>98.0</td>\n",
       "      <td>NaN</td>\n",
       "      <td>2046</td>\n",
       "      <td>19.0</td>\n",
       "      <td>71</td>\n",
       "    </tr>\n",
       "    <tr>\n",
       "      <th>126</th>\n",
       "      <td>21.0</td>\n",
       "      <td>6</td>\n",
       "      <td>200.0</td>\n",
       "      <td>NaN</td>\n",
       "      <td>2875</td>\n",
       "      <td>17.0</td>\n",
       "      <td>74</td>\n",
       "    </tr>\n",
       "    <tr>\n",
       "      <th>330</th>\n",
       "      <td>40.9</td>\n",
       "      <td>4</td>\n",
       "      <td>85.0</td>\n",
       "      <td>NaN</td>\n",
       "      <td>1835</td>\n",
       "      <td>17.3</td>\n",
       "      <td>80</td>\n",
       "    </tr>\n",
       "    <tr>\n",
       "      <th>336</th>\n",
       "      <td>23.6</td>\n",
       "      <td>4</td>\n",
       "      <td>140.0</td>\n",
       "      <td>NaN</td>\n",
       "      <td>2905</td>\n",
       "      <td>14.3</td>\n",
       "      <td>80</td>\n",
       "    </tr>\n",
       "    <tr>\n",
       "      <th>354</th>\n",
       "      <td>34.5</td>\n",
       "      <td>4</td>\n",
       "      <td>100.0</td>\n",
       "      <td>NaN</td>\n",
       "      <td>2320</td>\n",
       "      <td>15.8</td>\n",
       "      <td>81</td>\n",
       "    </tr>\n",
       "    <tr>\n",
       "      <th>374</th>\n",
       "      <td>23.0</td>\n",
       "      <td>4</td>\n",
       "      <td>151.0</td>\n",
       "      <td>NaN</td>\n",
       "      <td>3035</td>\n",
       "      <td>20.5</td>\n",
       "      <td>82</td>\n",
       "    </tr>\n",
       "  </tbody>\n",
       "</table>\n",
       "</div>"
      ],
      "text/plain": [
       "      mpg  cylinders  displacement horsepower  weight  acceleration  \\\n",
       "32   25.0          4          98.0        NaN    2046          19.0   \n",
       "126  21.0          6         200.0        NaN    2875          17.0   \n",
       "330  40.9          4          85.0        NaN    1835          17.3   \n",
       "336  23.6          4         140.0        NaN    2905          14.3   \n",
       "354  34.5          4         100.0        NaN    2320          15.8   \n",
       "374  23.0          4         151.0        NaN    3035          20.5   \n",
       "\n",
       "     model year  \n",
       "32           71  \n",
       "126          74  \n",
       "330          80  \n",
       "336          80  \n",
       "354          81  \n",
       "374          82  "
      ]
     },
     "execution_count": 8,
     "metadata": {},
     "output_type": "execute_result"
    }
   ],
   "source": [
    "# Replacing ? with np.nan\n",
    "data = data.replace('?', np.nan)\n",
    "\n",
    "data[hpIsDigit['horsepower'] == False]"
   ]
  },
  {
   "cell_type": "code",
   "execution_count": 9,
   "metadata": {
    "id": "w56loeKtvujd"
   },
   "outputs": [],
   "source": [
    "# Imputing the missing values with the median value of the column horsepower\n",
    "data.horsepower.fillna(data.horsepower.median(), inplace = True)\n",
    "\n",
    "data['horsepower'] = data['horsepower'].astype('float64')  # Converting the horsepower column from object data type to float"
   ]
  },
  {
   "cell_type": "markdown",
   "metadata": {
    "id": "Ejfe_eP4vuje"
   },
   "source": [
    "### **Summary Statistics**"
   ]
  },
  {
   "cell_type": "markdown",
   "metadata": {
    "id": "t_C7ym49vuje"
   },
   "source": [
    "### **Question 1:** \n",
    "- **Check the summary statistics of the data (use the describe function) (1 Mark)**\n",
    "- **Write your observations (1 Mark)**"
   ]
  },
  {
   "cell_type": "code",
   "execution_count": null,
   "metadata": {
    "id": "bK37aYa5vuje",
    "outputId": "129bc052-b1ce-4068-e1cd-294675e97bfc"
   },
   "outputs": [],
   "source": [
    "# Write your code here"
   ]
  },
  {
   "cell_type": "markdown",
   "metadata": {
    "id": "YJB5hRFevuje"
   },
   "source": [
    "**Observations:________**"
   ]
  },
  {
   "cell_type": "markdown",
   "metadata": {
    "id": "kNOc_6aZvujf"
   },
   "source": [
    "### **Let's check the distribution and outliers for each column in the data**"
   ]
  },
  {
   "cell_type": "markdown",
   "metadata": {
    "id": "Cj6WLN6tvujf"
   },
   "source": [
    "### **Question 2:**\n",
    "- **Create histograms to check the distribution of all the variables (use .hist() attribute) (2 Marks)**\n",
    "- **Create boxplots to visualize the outliers for all the variables (use sns.boxplot()) (2 Marks)**\n",
    "- **Write your observations (2 Marks)**"
   ]
  },
  {
   "cell_type": "code",
   "execution_count": null,
   "metadata": {
    "id": "w21FDMJSvujf",
    "outputId": "9cf6d49d-50bd-4b28-c21c-fb75ad743d32",
    "scrolled": false
   },
   "outputs": [],
   "source": [
    "# Complete the below code by filling the blanks, before running this cell, to avoid any errors\n",
    "\n",
    "for col in data.columns:\n",
    "    print(col)\n",
    "\n",
    "    print('Skew :', round(data[col].skew(), 2))\n",
    "    \n",
    "    plt.figure(figsize = (15, 4))\n",
    "    \n",
    "    plt.subplot(1, 2, 1)\n",
    "    \n",
    "    data[col].____________\n",
    "    \n",
    "    plt.ylabel('count')\n",
    "    \n",
    "    plt.subplot(1, 2, 2)\n",
    "    \n",
    "    sns.boxplot(x = ___________)\n",
    "    \n",
    "    plt.show()"
   ]
  },
  {
   "cell_type": "markdown",
   "metadata": {
    "id": "Ny5YaZhvvujf"
   },
   "source": [
    "**Observations:_____________**"
   ]
  },
  {
   "cell_type": "markdown",
   "metadata": {
    "id": "d6Vqxb0-u4D4"
   },
   "source": [
    "### **Checking the correlation**"
   ]
  },
  {
   "cell_type": "code",
   "execution_count": 12,
   "metadata": {
    "id": "VP3jF_XJvujg",
    "outputId": "888a9007-0881-4fbc-fe60-8d1bdcb21afd"
   },
   "outputs": [
    {
     "data": {
      "image/png": "[encoded data removed]",
      "text/plain": [
       "<Figure size 576x576 with 2 Axes>"
      ]
     },
     "metadata": {
      "needs_background": "light"
     },
     "output_type": "display_data"
    }
   ],
   "source": [
    "plt.figure(figsize = (8, 8))\n",
    "\n",
    "sns.heatmap(data.corr(), annot = True)\n",
    "\n",
    "plt.show()"
   ]
  },
  {
   "cell_type": "markdown",
   "metadata": {
    "id": "a71M7-jdvujg"
   },
   "source": [
    "**Observations:**\n",
    "- The variable mpg has a strong negative correlation with cylinders, displacement, horsepower, and weight.\n",
    "- horsepower and acceleration are negatively correlated.\n",
    "- The variable weight has a strong positive correlation with horsepower, displacement, and cylinders.\n",
    "- model year is positively correlated with mpg."
   ]
  },
  {
   "cell_type": "markdown",
   "metadata": {
    "id": "WVuQ8rRuvujg"
   },
   "source": [
    "### **Scaling the data**"
   ]
  },
  {
   "cell_type": "code",
   "execution_count": 13,
   "metadata": {
    "id": "PWPOuZzwu4D5"
   },
   "outputs": [],
   "source": [
    "# Scaling the data\n",
    "scaler = StandardScaler()\n",
    "\n",
    "data_scaled = pd.DataFrame(scaler.fit_transform(data), columns = data.columns)"
   ]
  },
  {
   "cell_type": "code",
   "execution_count": 14,
   "metadata": {
    "id": "zj6upuANvujh",
    "outputId": "f2ebdab6-9906-46fb-8782-55eb129965e1"
   },
   "outputs": [
    {
     "data": {
      "text/html": [
       "<div>\n",
       "<style scoped>\n",
       "    .dataframe tbody tr th:only-of-type {\n",
       "        vertical-align: middle;\n",
       "    }\n",
       "\n",
       "    .dataframe tbody tr th {\n",
       "        vertical-align: top;\n",
       "    }\n",
       "\n",
       "    .dataframe thead th {\n",
       "        text-align: right;\n",
       "    }\n",
       "</style>\n",
       "<table border=\"1\" class=\"dataframe\">\n",
       "  <thead>\n",
       "    <tr style=\"text-align: right;\">\n",
       "      <th></th>\n",
       "      <th>mpg</th>\n",
       "      <th>cylinders</th>\n",
       "      <th>displacement</th>\n",
       "      <th>horsepower</th>\n",
       "      <th>weight</th>\n",
       "      <th>acceleration</th>\n",
       "      <th>model year</th>\n",
       "    </tr>\n",
       "  </thead>\n",
       "  <tbody>\n",
       "    <tr>\n",
       "      <th>0</th>\n",
       "      <td>-0.706439</td>\n",
       "      <td>1.498191</td>\n",
       "      <td>1.090604</td>\n",
       "      <td>0.673118</td>\n",
       "      <td>0.630870</td>\n",
       "      <td>-1.295498</td>\n",
       "      <td>-1.627426</td>\n",
       "    </tr>\n",
       "    <tr>\n",
       "      <th>1</th>\n",
       "      <td>-1.090751</td>\n",
       "      <td>1.498191</td>\n",
       "      <td>1.503514</td>\n",
       "      <td>1.589958</td>\n",
       "      <td>0.854333</td>\n",
       "      <td>-1.477038</td>\n",
       "      <td>-1.627426</td>\n",
       "    </tr>\n",
       "    <tr>\n",
       "      <th>2</th>\n",
       "      <td>-0.706439</td>\n",
       "      <td>1.498191</td>\n",
       "      <td>1.196232</td>\n",
       "      <td>1.197027</td>\n",
       "      <td>0.550470</td>\n",
       "      <td>-1.658577</td>\n",
       "      <td>-1.627426</td>\n",
       "    </tr>\n",
       "    <tr>\n",
       "      <th>3</th>\n",
       "      <td>-0.962647</td>\n",
       "      <td>1.498191</td>\n",
       "      <td>1.061796</td>\n",
       "      <td>1.197027</td>\n",
       "      <td>0.546923</td>\n",
       "      <td>-1.295498</td>\n",
       "      <td>-1.627426</td>\n",
       "    </tr>\n",
       "    <tr>\n",
       "      <th>4</th>\n",
       "      <td>-0.834543</td>\n",
       "      <td>1.498191</td>\n",
       "      <td>1.042591</td>\n",
       "      <td>0.935072</td>\n",
       "      <td>0.565841</td>\n",
       "      <td>-1.840117</td>\n",
       "      <td>-1.627426</td>\n",
       "    </tr>\n",
       "  </tbody>\n",
       "</table>\n",
       "</div>"
      ],
      "text/plain": [
       "        mpg  cylinders  displacement  horsepower    weight  acceleration  \\\n",
       "0 -0.706439   1.498191      1.090604    0.673118  0.630870     -1.295498   \n",
       "1 -1.090751   1.498191      1.503514    1.589958  0.854333     -1.477038   \n",
       "2 -0.706439   1.498191      1.196232    1.197027  0.550470     -1.658577   \n",
       "3 -0.962647   1.498191      1.061796    1.197027  0.546923     -1.295498   \n",
       "4 -0.834543   1.498191      1.042591    0.935072  0.565841     -1.840117   \n",
       "\n",
       "   model year  \n",
       "0   -1.627426  \n",
       "1   -1.627426  \n",
       "2   -1.627426  \n",
       "3   -1.627426  \n",
       "4   -1.627426  "
      ]
     },
     "execution_count": 14,
     "metadata": {},
     "output_type": "execute_result"
    }
   ],
   "source": [
    "data_scaled.head()"
   ]
  },
  {
   "cell_type": "markdown",
   "metadata": {
    "id": "eIAZ2xZuvujh"
   },
   "source": [
    "## **Principal Component Analysis**"
   ]
  },
  {
   "cell_type": "markdown",
   "metadata": {
    "id": "4B9fk5wTvuji"
   },
   "source": [
    "### **Question 3:**\n",
    "\n",
    "- **Apply the PCA algorithm with number of components equal to the total number of columns in the data (2 Marks)**\n",
    "- **Write your observations on the variance explained by the principal components (2 Marks)**"
   ]
  },
  {
   "cell_type": "code",
   "execution_count": 15,
   "metadata": {
    "id": "SqS_ahV0vuji"
   },
   "outputs": [],
   "source": [
    "# Defining the number of principal components to generate \n",
    "n = data_scaled.shape[1]\n",
    "\n",
    "# Finding principal components for the data\n",
    "pca = _____________  # Apply the PCA algorithm with random_state = 1\n",
    "\n",
    "data_pca1 = pd.DataFrame(__________)   # Fit and transform the pca function on scaled data\n",
    "\n",
    "# The percentage of variance explained by each principal component\n",
    "exp_var = pca.explained_variance_ratio_"
   ]
  },
  {
   "cell_type": "code",
   "execution_count": 16,
   "metadata": {
    "id": "1OiDLM52vuji",
    "outputId": "a19b17aa-644e-457f-ce5b-df84a4c792ae"
   },
   "outputs": [
    {
     "data": {
      "image/png": "[encoded data removed]",
      "text/plain": [
       "<Figure size 720x720 with 1 Axes>"
      ]
     },
     "metadata": {
      "needs_background": "light"
     },
     "output_type": "display_data"
    }
   ],
   "source": [
    "# Visualize the explained variance by individual components\n",
    "plt.figure(figsize = (10, 10))\n",
    "\n",
    "plt.plot(range(1, 8), exp_var.cumsum(), marker = 'o', linestyle = '--')\n",
    "\n",
    "plt.title(\"Explained Variances by Components\")\n",
    "\n",
    "plt.xlabel(\"Number of Components\")\n",
    "\n",
    "plt.ylabel(\"Cumulative Explained Variance\")\n",
    "\n",
    "plt.show()"
   ]
  },
  {
   "cell_type": "code",
   "execution_count": 17,
   "metadata": {
    "id": "qclnWlJ9vujj",
    "outputId": "d0a90e0f-be3d-4cd0-ca40-5e506efb09d3"
   },
   "outputs": [
    {
     "name": "stdout",
     "output_type": "stream",
     "text": [
      "Number of PCs that explain at least 90% variance:  3\n"
     ]
    }
   ],
   "source": [
    "# Finding the least number of components that can explain more than 90% variance\n",
    "sum = 0\n",
    "\n",
    "for ix, i in enumerate(exp_var):\n",
    "    sum = sum + i\n",
    "    if(sum>0.90):\n",
    "        print(\"Number of PCs that explain at least 90% variance: \", ix + 1)\n",
    "        break"
   ]
  },
  {
   "cell_type": "markdown",
   "metadata": {
    "id": "-P3Hl-3Pvujj"
   },
   "source": [
    "**Observations:___________________**"
   ]
  },
  {
   "cell_type": "code",
   "execution_count": 18,
   "metadata": {
    "id": "_G_-CsZJvujj",
    "outputId": "bcdbe123-e1f6-470b-ded9-91d18eeaf1a1"
   },
   "outputs": [
    {
     "data": {
      "text/html": [
       "<div>\n",
       "<style scoped>\n",
       "    .dataframe tbody tr th:only-of-type {\n",
       "        vertical-align: middle;\n",
       "    }\n",
       "\n",
       "    .dataframe tbody tr th {\n",
       "        vertical-align: top;\n",
       "    }\n",
       "\n",
       "    .dataframe thead th {\n",
       "        text-align: right;\n",
       "    }\n",
       "</style>\n",
       "<table border=\"1\" class=\"dataframe\">\n",
       "  <thead>\n",
       "    <tr style=\"text-align: right;\">\n",
       "      <th></th>\n",
       "      <th>PC1</th>\n",
       "      <th>PC2</th>\n",
       "      <th>PC3</th>\n",
       "    </tr>\n",
       "  </thead>\n",
       "  <tbody>\n",
       "    <tr>\n",
       "      <th>mpg</th>\n",
       "      <td>-0.40</td>\n",
       "      <td>-0.21</td>\n",
       "      <td>-0.26</td>\n",
       "    </tr>\n",
       "    <tr>\n",
       "      <th>cylinders</th>\n",
       "      <td>0.42</td>\n",
       "      <td>-0.19</td>\n",
       "      <td>0.14</td>\n",
       "    </tr>\n",
       "    <tr>\n",
       "      <th>displacement</th>\n",
       "      <td>0.43</td>\n",
       "      <td>-0.18</td>\n",
       "      <td>0.10</td>\n",
       "    </tr>\n",
       "    <tr>\n",
       "      <th>horsepower</th>\n",
       "      <td>0.42</td>\n",
       "      <td>-0.09</td>\n",
       "      <td>-0.17</td>\n",
       "    </tr>\n",
       "    <tr>\n",
       "      <th>weight</th>\n",
       "      <td>0.41</td>\n",
       "      <td>-0.22</td>\n",
       "      <td>0.28</td>\n",
       "    </tr>\n",
       "    <tr>\n",
       "      <th>acceleration</th>\n",
       "      <td>-0.28</td>\n",
       "      <td>0.02</td>\n",
       "      <td>0.89</td>\n",
       "    </tr>\n",
       "    <tr>\n",
       "      <th>model year</th>\n",
       "      <td>-0.23</td>\n",
       "      <td>-0.91</td>\n",
       "      <td>-0.02</td>\n",
       "    </tr>\n",
       "  </tbody>\n",
       "</table>\n",
       "</div>"
      ],
      "text/plain": [
       "               PC1   PC2   PC3\n",
       "mpg          -0.40 -0.21 -0.26\n",
       "cylinders     0.42 -0.19  0.14\n",
       "displacement  0.43 -0.18  0.10\n",
       "horsepower    0.42 -0.09 -0.17\n",
       "weight        0.41 -0.22  0.28\n",
       "acceleration -0.28  0.02  0.89\n",
       "model year   -0.23 -0.91 -0.02"
      ]
     },
     "execution_count": 18,
     "metadata": {},
     "output_type": "execute_result"
    }
   ],
   "source": [
    "pc_comps = ['PC1', 'PC2', 'PC3']\n",
    "\n",
    "data_pca = pd.DataFrame(np.round(pca.components_[:3,:], 2), index = pc_comps, columns = data_scaled.columns)\n",
    "\n",
    "data_pca.T"
   ]
  },
  {
   "cell_type": "markdown",
   "metadata": {
    "id": "ZDG7G_ZDvujk"
   },
   "source": [
    "### **Question 4: Interpret the coefficients of the first three principal components from the below DataFrame (4 Marks)**"
   ]
  },
  {
   "cell_type": "code",
   "execution_count": 19,
   "metadata": {
    "id": "mi16_6Bxvujk",
    "outputId": "5a1d6297-5d23-4588-d369-64a694b72b18"
   },
   "outputs": [
    {
     "data": {
      "text/html": [
       "<style type=\"text/css\">\n",
       "#T_d6596_row0_col0, #T_d6596_row6_col1 {\n",
       "  background: pink;\n",
       "}\n",
       "#T_d6596_row1_col0, #T_d6596_row2_col0, #T_d6596_row3_col0, #T_d6596_row4_col0, #T_d6596_row5_col2 {\n",
       "  background: skyblue;\n",
       "}\n",
       "</style>\n",
       "<table id=\"T_d6596_\">\n",
       "  <thead>\n",
       "    <tr>\n",
       "      <th class=\"blank level0\" >&nbsp;</th>\n",
       "      <th class=\"col_heading level0 col0\" >PC1</th>\n",
       "      <th class=\"col_heading level0 col1\" >PC2</th>\n",
       "      <th class=\"col_heading level0 col2\" >PC3</th>\n",
       "    </tr>\n",
       "  </thead>\n",
       "  <tbody>\n",
       "    <tr>\n",
       "      <th id=\"T_d6596_level0_row0\" class=\"row_heading level0 row0\" >mpg</th>\n",
       "      <td id=\"T_d6596_row0_col0\" class=\"data row0 col0\" >-0.400000</td>\n",
       "      <td id=\"T_d6596_row0_col1\" class=\"data row0 col1\" >-0.210000</td>\n",
       "      <td id=\"T_d6596_row0_col2\" class=\"data row0 col2\" >-0.260000</td>\n",
       "    </tr>\n",
       "    <tr>\n",
       "      <th id=\"T_d6596_level0_row1\" class=\"row_heading level0 row1\" >cylinders</th>\n",
       "      <td id=\"T_d6596_row1_col0\" class=\"data row1 col0\" >0.420000</td>\n",
       "      <td id=\"T_d6596_row1_col1\" class=\"data row1 col1\" >-0.190000</td>\n",
       "      <td id=\"T_d6596_row1_col2\" class=\"data row1 col2\" >0.140000</td>\n",
       "    </tr>\n",
       "    <tr>\n",
       "      <th id=\"T_d6596_level0_row2\" class=\"row_heading level0 row2\" >displacement</th>\n",
       "      <td id=\"T_d6596_row2_col0\" class=\"data row2 col0\" >0.430000</td>\n",
       "      <td id=\"T_d6596_row2_col1\" class=\"data row2 col1\" >-0.180000</td>\n",
       "      <td id=\"T_d6596_row2_col2\" class=\"data row2 col2\" >0.100000</td>\n",
       "    </tr>\n",
       "    <tr>\n",
       "      <th id=\"T_d6596_level0_row3\" class=\"row_heading level0 row3\" >horsepower</th>\n",
       "      <td id=\"T_d6596_row3_col0\" class=\"data row3 col0\" >0.420000</td>\n",
       "      <td id=\"T_d6596_row3_col1\" class=\"data row3 col1\" >-0.090000</td>\n",
       "      <td id=\"T_d6596_row3_col2\" class=\"data row3 col2\" >-0.170000</td>\n",
       "    </tr>\n",
       "    <tr>\n",
       "      <th id=\"T_d6596_level0_row4\" class=\"row_heading level0 row4\" >weight</th>\n",
       "      <td id=\"T_d6596_row4_col0\" class=\"data row4 col0\" >0.410000</td>\n",
       "      <td id=\"T_d6596_row4_col1\" class=\"data row4 col1\" >-0.220000</td>\n",
       "      <td id=\"T_d6596_row4_col2\" class=\"data row4 col2\" >0.280000</td>\n",
       "    </tr>\n",
       "    <tr>\n",
       "      <th id=\"T_d6596_level0_row5\" class=\"row_heading level0 row5\" >acceleration</th>\n",
       "      <td id=\"T_d6596_row5_col0\" class=\"data row5 col0\" >-0.280000</td>\n",
       "      <td id=\"T_d6596_row5_col1\" class=\"data row5 col1\" >0.020000</td>\n",
       "      <td id=\"T_d6596_row5_col2\" class=\"data row5 col2\" >0.890000</td>\n",
       "    </tr>\n",
       "    <tr>\n",
       "      <th id=\"T_d6596_level0_row6\" class=\"row_heading level0 row6\" >model year</th>\n",
       "      <td id=\"T_d6596_row6_col0\" class=\"data row6 col0\" >-0.230000</td>\n",
       "      <td id=\"T_d6596_row6_col1\" class=\"data row6 col1\" >-0.910000</td>\n",
       "      <td id=\"T_d6596_row6_col2\" class=\"data row6 col2\" >-0.020000</td>\n",
       "    </tr>\n",
       "  </tbody>\n",
       "</table>\n"
      ],
      "text/plain": [
       "<pandas.io.formats.style.Styler at 0x20c0f3392e0>"
      ]
     },
     "execution_count": 19,
     "metadata": {},
     "output_type": "execute_result"
    }
   ],
   "source": [
    "def color_high(val):\n",
    "    if val <= -0.40:\n",
    "        return 'background: pink'\n",
    "    \n",
    "    elif val >= 0.40:\n",
    "        return 'background: skyblue'   \n",
    "    \n",
    "data_pca.T.style.applymap(color_high)"
   ]
  },
  {
   "cell_type": "markdown",
   "metadata": {
    "id": "oG5orJKGvujk"
   },
   "source": [
    "**Observations:__________________**"
   ]
  },
  {
   "cell_type": "markdown",
   "metadata": {
    "id": "jZo1h9pNvujk"
   },
   "source": [
    "#### We can also visualize the data in 2 dimensions using the first two principal components "
   ]
  },
  {
   "cell_type": "code",
   "execution_count": 20,
   "metadata": {
    "id": "7iWxTqHfvujl",
    "outputId": "c19271e0-592d-4875-896c-5b476f22bf20"
   },
   "outputs": [
    {
     "data": {
      "image/png": "[encoded data removed]",
      "text/plain": [
       "<Figure size 504x504 with 1 Axes>"
      ]
     },
     "metadata": {
      "needs_background": "light"
     },
     "output_type": "display_data"
    }
   ],
   "source": [
    "plt.figure(figsize = (7, 7))\n",
    "\n",
    "sns.scatterplot(x = data_pca1[0], y = data_pca1[1])\n",
    "\n",
    "plt.xlabel(\"PC1\")\n",
    "\n",
    "plt.ylabel(\"PC2\")\n",
    "\n",
    "plt.show()"
   ]
  },
  {
   "cell_type": "markdown",
   "metadata": {
    "id": "eH9VeKRBvujl"
   },
   "source": [
    "**Let's try adding hue to the scatter plot**"
   ]
  },
  {
   "cell_type": "markdown",
   "metadata": {
    "id": "13kD-jNtvujl"
   },
   "source": [
    "### **Question 5:** \n",
    "\n",
    "- **Create a scatter plot for the first two principal components with hue = 'cylinders' (2 Marks)** \n",
    "- **Write your observations on the plot (2 Marks)**\n",
    "- **Hint:** concatenate the DataFrames 'data_pca1' and 'data' on axis = 1"
   ]
  },
  {
   "cell_type": "code",
   "execution_count": null,
   "metadata": {
    "id": "VrB1kzKpvujl",
    "outputId": "4afc14af-3b06-4f63-b345-3d7cb46ba165"
   },
   "outputs": [],
   "source": [
    "df_concat = pd.concat([_____, ______], axis = 1)\n",
    "\n",
    "plt.figure(figsize = (7, 7))\n",
    "\n",
    "_____________________   # Create a scatter plot with x = 0 and y = 1 using df_concat dataframe\n",
    "\n",
    "plt.xlabel(\"PC1\")\n",
    "\n",
    "plt.ylabel(\"PC2\")\n",
    "\n",
    "plt.show()"
   ]
  },
  {
   "cell_type": "markdown",
   "metadata": {
    "id": "v1i8nQCevujl"
   },
   "source": [
    "**Observations:___________**"
   ]
  },
  {
   "cell_type": "markdown",
   "metadata": {
    "id": "4TY5Sh719iVg"
   },
   "source": [
    "## t-SNE"
   ]
  },
  {
   "cell_type": "markdown",
   "metadata": {
    "id": "PLaYBsvIvujm"
   },
   "source": [
    "### **Question 6:** \n",
    "- **Apply the t-SNE embedding with 2 components for the DataFrame 'data_scaled' (use random_state = 1) (3 Marks)**\n",
    "- **Write your observations (2 Marks)**   "
   ]
  },
  {
   "cell_type": "code",
   "execution_count": 22,
   "metadata": {
    "id": "dW1jMGn7u4D7"
   },
   "outputs": [],
   "source": [
    "tsne = ____________           # Apply the t-SNE algorithm with random_state = 1\n",
    "\n",
    "data_tsne = ______________    # Fit and transform t-SNE function on the scaled data"
   ]
  },
  {
   "cell_type": "code",
   "execution_count": 23,
   "metadata": {
    "id": "gC17thkgu4D7",
    "outputId": "bcfb2a47-d252-40e7-bfad-b7959472ed4e"
   },
   "outputs": [
    {
     "data": {
      "text/plain": [
       "(398, 2)"
      ]
     },
     "execution_count": 23,
     "metadata": {},
     "output_type": "execute_result"
    }
   ],
   "source": [
    "data_tsne.shape"
   ]
  },
  {
   "cell_type": "code",
   "execution_count": 24,
   "metadata": {
    "id": "Gfybekuyu4D8"
   },
   "outputs": [],
   "source": [
    "data_tsne = pd.DataFrame(data = data_tsne, columns = ['Component 1', 'Component 2'])"
   ]
  },
  {
   "cell_type": "code",
   "execution_count": 25,
   "metadata": {
    "id": "oNoqqDg5u4D8",
    "outputId": "18f48a19-17fe-4e23-80d9-3877d752ee9b"
   },
   "outputs": [
    {
     "data": {
      "text/html": [
       "<div>\n",
       "<style scoped>\n",
       "    .dataframe tbody tr th:only-of-type {\n",
       "        vertical-align: middle;\n",
       "    }\n",
       "\n",
       "    .dataframe tbody tr th {\n",
       "        vertical-align: top;\n",
       "    }\n",
       "\n",
       "    .dataframe thead th {\n",
       "        text-align: right;\n",
       "    }\n",
       "</style>\n",
       "<table border=\"1\" class=\"dataframe\">\n",
       "  <thead>\n",
       "    <tr style=\"text-align: right;\">\n",
       "      <th></th>\n",
       "      <th>Component 1</th>\n",
       "      <th>Component 2</th>\n",
       "    </tr>\n",
       "  </thead>\n",
       "  <tbody>\n",
       "    <tr>\n",
       "      <th>0</th>\n",
       "      <td>-38.088413</td>\n",
       "      <td>-15.912958</td>\n",
       "    </tr>\n",
       "    <tr>\n",
       "      <th>1</th>\n",
       "      <td>-37.404369</td>\n",
       "      <td>-17.995850</td>\n",
       "    </tr>\n",
       "    <tr>\n",
       "      <th>2</th>\n",
       "      <td>-38.050472</td>\n",
       "      <td>-17.063194</td>\n",
       "    </tr>\n",
       "    <tr>\n",
       "      <th>3</th>\n",
       "      <td>-37.718334</td>\n",
       "      <td>-16.476006</td>\n",
       "    </tr>\n",
       "    <tr>\n",
       "      <th>4</th>\n",
       "      <td>-38.404663</td>\n",
       "      <td>-16.763493</td>\n",
       "    </tr>\n",
       "  </tbody>\n",
       "</table>\n",
       "</div>"
      ],
      "text/plain": [
       "   Component 1  Component 2\n",
       "0   -38.088413   -15.912958\n",
       "1   -37.404369   -17.995850\n",
       "2   -38.050472   -17.063194\n",
       "3   -37.718334   -16.476006\n",
       "4   -38.404663   -16.763493"
      ]
     },
     "execution_count": 25,
     "metadata": {},
     "output_type": "execute_result"
    }
   ],
   "source": [
    "data_tsne.head()"
   ]
  },
  {
   "cell_type": "code",
   "execution_count": 26,
   "metadata": {
    "id": "Ix_OL7AIu4D9",
    "outputId": "3fee5301-ea4f-41d5-fc37-79ec5d61f877"
   },
   "outputs": [
    {
     "data": {
      "image/png": "[encoded data removed]",
      "text/plain": [
       "<Figure size 432x288 with 1 Axes>"
      ]
     },
     "metadata": {
      "needs_background": "light"
     },
     "output_type": "display_data"
    }
   ],
   "source": [
    "sns.scatterplot(x = data_tsne.iloc[:,0], y = data_tsne.iloc[:,1])\n",
    "\n",
    "plt.show()"
   ]
  },
  {
   "cell_type": "code",
   "execution_count": 27,
   "metadata": {
    "id": "WW3GQboou4D9",
    "outputId": "72fec8c5-1ea3-4418-be0a-dbad1788bf78"
   },
   "outputs": [
    {
     "data": {
      "image/png": "[encoded data removed]",
      "text/plain": [
       "<Figure size 432x288 with 1 Axes>"
      ]
     },
     "metadata": {
      "needs_background": "light"
     },
     "output_type": "display_data"
    }
   ],
   "source": [
    "# Let's see the scatter plot of the data w.r.t number of cylinders\n",
    "sns.scatterplot(x = data_tsne.iloc[:,0], y = data_tsne.iloc[:,1], hue = data.cylinders)\n",
    "\n",
    "plt.show()"
   ]
  },
  {
   "cell_type": "markdown",
   "metadata": {
    "id": "PEfKLZkou4D-"
   },
   "source": [
    "**Observations:______________**"
   ]
  },
  {
   "cell_type": "code",
   "execution_count": 28,
   "metadata": {
    "id": "aLTJSNBvu4D_"
   },
   "outputs": [],
   "source": [
    "# Let's assign points to 3 different groups\n",
    "def grouping(x):\n",
    "    first_component = x['Component 1']\n",
    "    \n",
    "    second_component = x['Component 2']\n",
    "    \n",
    "    if (first_component > 0) and (second_component > -5): \n",
    "        return 'group_1'\n",
    "    \n",
    "    if (first_component > -20 ) and (first_component < 5):\n",
    "        return 'group_2'\n",
    "    \n",
    "    else: \n",
    "        return 'group_3'"
   ]
  },
  {
   "cell_type": "code",
   "execution_count": 29,
   "metadata": {
    "id": "R6rWEgPPu4EA"
   },
   "outputs": [],
   "source": [
    "data_tsne['groups'] = data_tsne.apply(grouping, axis = 1)"
   ]
  },
  {
   "cell_type": "code",
   "execution_count": 30,
   "metadata": {
    "id": "RX-r_I0-u4EA",
    "outputId": "ca9011cf-b67e-4376-be11-4692ebfe1326"
   },
   "outputs": [
    {
     "data": {
      "image/png": "[encoded data removed]",
      "text/plain": [
       "<Figure size 432x288 with 1 Axes>"
      ]
     },
     "metadata": {
      "needs_background": "light"
     },
     "output_type": "display_data"
    }
   ],
   "source": [
    "sns.scatterplot(x = data_tsne.iloc[:,0], y = data_tsne.iloc[:,1], hue = data_tsne.iloc[:,2])\n",
    "\n",
    "plt.show()"
   ]
  },
  {
   "cell_type": "code",
   "execution_count": 31,
   "metadata": {
    "id": "hHh5_G9iu4EB"
   },
   "outputs": [],
   "source": [
    "data['groups'] = data_tsne['groups'] "
   ]
  },
  {
   "cell_type": "markdown",
   "metadata": {
    "id": "RMrLjS6yvujo"
   },
   "source": [
    "### **Question 7:** \n",
    "- **Complete the following code by filling the blanks (2 Marks)**\n",
    "- **Write your observations on different groups w.r.t different variables (3 Marks)**"
   ]
  },
  {
   "cell_type": "code",
   "execution_count": null,
   "metadata": {
    "id": "TycHswKhu4EB",
    "outputId": "0aa3d1f1-5f73-4cbc-b603-1aac27b3a874"
   },
   "outputs": [],
   "source": [
    "all_col = data.columns.tolist()\n",
    "\n",
    "plt.figure(figsize = (20, 20))\n",
    "\n",
    "for i, variable in enumerate(all_col): \n",
    "    if i == 7:\n",
    "        break\n",
    "    \n",
    "    plt.subplot(4, 2, i + 1)\n",
    "    \n",
    "    __________________      # Create the boxplot with groups on the x-axis and variable on the y-axis (use the DataFrame 'data')\n",
    "    \n",
    "    plt.tight_layout()\n",
    "    \n",
    "    plt.title(variable)\n",
    "\n",
    "plt.show()"
   ]
  },
  {
   "cell_type": "markdown",
   "metadata": {
    "id": "37KSsbmSu4EC"
   },
   "source": [
    "**Observations:___________**"
   ]
  }
 ],
 "metadata": {
  "colab": {
   "collapsed_sections": [],
   "name": "Solution_Notebook_PCA_and_tSNE_Project.ipynb",
   "provenance": []
  },
  "kernelspec": {
   "display_name": "Python 3 (ipykernel)",
   "language": "python",
   "name": "python3"
  },
  "language_info": {
   "codemirror_mode": {
    "name": "ipython",
    "version": 3
   },
   "file_extension": ".py",
   "mimetype": "text/x-python",
   "name": "python",
   "nbconvert_exporter": "python",
   "pygments_lexer": "ipython3",
   "version": "3.9.7"
  }
 },
 "nbformat": 4,
 "nbformat_minor": 1
}
